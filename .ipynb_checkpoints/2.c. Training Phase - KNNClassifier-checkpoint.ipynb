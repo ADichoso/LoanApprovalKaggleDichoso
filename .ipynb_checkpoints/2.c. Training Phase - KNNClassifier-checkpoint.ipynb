{
 "cells": [
  {
   "cell_type": "code",
   "execution_count": 1,
   "id": "e0b42ef0-d8b5-4504-b913-bc514293d5f4",
   "metadata": {},
   "outputs": [],
   "source": [
    "##Python libraries\n",
    "import pandas as pd\n",
    "import numpy as np\n",
    "import matplotlib.pyplot as plt\n",
    "from sklearn.neighbors import KNeighborsClassifier\n",
    "from sklearn.preprocessing import StandardScaler\n",
    "from sklearn.pipeline import make_pipeline"
   ]
  },
  {
   "cell_type": "code",
   "execution_count": 2,
   "id": "3b701978-d1eb-49fe-90be-05b1af92ee93",
   "metadata": {},
   "outputs": [
    {
     "data": {
      "text/html": [
       "<div>\n",
       "<style scoped>\n",
       "    .dataframe tbody tr th:only-of-type {\n",
       "        vertical-align: middle;\n",
       "    }\n",
       "\n",
       "    .dataframe tbody tr th {\n",
       "        vertical-align: top;\n",
       "    }\n",
       "\n",
       "    .dataframe thead th {\n",
       "        text-align: right;\n",
       "    }\n",
       "</style>\n",
       "<table border=\"1\" class=\"dataframe\">\n",
       "  <thead>\n",
       "    <tr style=\"text-align: right;\">\n",
       "      <th></th>\n",
       "      <th>person_age</th>\n",
       "      <th>person_income</th>\n",
       "      <th>person_emp_length</th>\n",
       "      <th>loan_amnt</th>\n",
       "      <th>loan_int_rate</th>\n",
       "      <th>loan_percent_income</th>\n",
       "      <th>cb_person_default_on_file</th>\n",
       "      <th>cb_person_cred_hist_length</th>\n",
       "      <th>PERSON_HOME_OWNERSHIP_MORTGAGE</th>\n",
       "      <th>PERSON_HOME_OWNERSHIP_OTHER</th>\n",
       "      <th>...</th>\n",
       "      <th>LOAN_GRADE_C</th>\n",
       "      <th>LOAN_GRADE_D</th>\n",
       "      <th>LOAN_GRADE_E</th>\n",
       "      <th>LOAN_GRADE_F</th>\n",
       "      <th>LOAN_GRADE_G</th>\n",
       "      <th>CB_PERSON_CRED_HIST_LENGTH_11_17</th>\n",
       "      <th>CB_PERSON_CRED_HIST_LENGTH_18_above</th>\n",
       "      <th>CB_PERSON_CRED_HIST_LENGTH_5_10</th>\n",
       "      <th>CB_PERSON_CRED_HIST_LENGTH_5_below</th>\n",
       "      <th>loan_status</th>\n",
       "    </tr>\n",
       "  </thead>\n",
       "  <tbody>\n",
       "    <tr>\n",
       "      <th>0</th>\n",
       "      <td>1.569797</td>\n",
       "      <td>-1.081318</td>\n",
       "      <td>0.000000</td>\n",
       "      <td>-0.578305</td>\n",
       "      <td>0.516442</td>\n",
       "      <td>0.117380</td>\n",
       "      <td>0</td>\n",
       "      <td>0.411879</td>\n",
       "      <td>0</td>\n",
       "      <td>0</td>\n",
       "      <td>...</td>\n",
       "      <td>0</td>\n",
       "      <td>0</td>\n",
       "      <td>0</td>\n",
       "      <td>0</td>\n",
       "      <td>0</td>\n",
       "      <td>1</td>\n",
       "      <td>0</td>\n",
       "      <td>0</td>\n",
       "      <td>0</td>\n",
       "      <td>0</td>\n",
       "    </tr>\n",
       "    <tr>\n",
       "      <th>1</th>\n",
       "      <td>-0.921741</td>\n",
       "      <td>-0.052550</td>\n",
       "      <td>0.520621</td>\n",
       "      <td>-0.937769</td>\n",
       "      <td>0.619568</td>\n",
       "      <td>-0.973222</td>\n",
       "      <td>0</td>\n",
       "      <td>0.491800</td>\n",
       "      <td>0</td>\n",
       "      <td>0</td>\n",
       "      <td>...</td>\n",
       "      <td>1</td>\n",
       "      <td>0</td>\n",
       "      <td>0</td>\n",
       "      <td>0</td>\n",
       "      <td>0</td>\n",
       "      <td>0</td>\n",
       "      <td>0</td>\n",
       "      <td>0</td>\n",
       "      <td>1</td>\n",
       "      <td>0</td>\n",
       "    </tr>\n",
       "    <tr>\n",
       "      <th>2</th>\n",
       "      <td>0.240977</td>\n",
       "      <td>-1.508084</td>\n",
       "      <td>0.587859</td>\n",
       "      <td>-0.578305</td>\n",
       "      <td>0.340882</td>\n",
       "      <td>0.553620</td>\n",
       "      <td>0</td>\n",
       "      <td>0.377667</td>\n",
       "      <td>0</td>\n",
       "      <td>0</td>\n",
       "      <td>...</td>\n",
       "      <td>0</td>\n",
       "      <td>0</td>\n",
       "      <td>0</td>\n",
       "      <td>0</td>\n",
       "      <td>0</td>\n",
       "      <td>0</td>\n",
       "      <td>0</td>\n",
       "      <td>1</td>\n",
       "      <td>0</td>\n",
       "      <td>0</td>\n",
       "    </tr>\n",
       "    <tr>\n",
       "      <th>3</th>\n",
       "      <td>0.407079</td>\n",
       "      <td>0.435878</td>\n",
       "      <td>0.724529</td>\n",
       "      <td>0.500086</td>\n",
       "      <td>0.493327</td>\n",
       "      <td>0.117380</td>\n",
       "      <td>0</td>\n",
       "      <td>0.528549</td>\n",
       "      <td>0</td>\n",
       "      <td>0</td>\n",
       "      <td>...</td>\n",
       "      <td>0</td>\n",
       "      <td>0</td>\n",
       "      <td>0</td>\n",
       "      <td>0</td>\n",
       "      <td>0</td>\n",
       "      <td>0</td>\n",
       "      <td>0</td>\n",
       "      <td>1</td>\n",
       "      <td>0</td>\n",
       "      <td>0</td>\n",
       "    </tr>\n",
       "    <tr>\n",
       "      <th>4</th>\n",
       "      <td>-0.921741</td>\n",
       "      <td>0.098465</td>\n",
       "      <td>0.293930</td>\n",
       "      <td>-0.578305</td>\n",
       "      <td>0.167927</td>\n",
       "      <td>-0.646041</td>\n",
       "      <td>0</td>\n",
       "      <td>0.503242</td>\n",
       "      <td>0</td>\n",
       "      <td>0</td>\n",
       "      <td>...</td>\n",
       "      <td>0</td>\n",
       "      <td>0</td>\n",
       "      <td>0</td>\n",
       "      <td>0</td>\n",
       "      <td>0</td>\n",
       "      <td>0</td>\n",
       "      <td>0</td>\n",
       "      <td>0</td>\n",
       "      <td>1</td>\n",
       "      <td>0</td>\n",
       "    </tr>\n",
       "    <tr>\n",
       "      <th>...</th>\n",
       "      <td>...</td>\n",
       "      <td>...</td>\n",
       "      <td>...</td>\n",
       "      <td>...</td>\n",
       "      <td>...</td>\n",
       "      <td>...</td>\n",
       "      <td>...</td>\n",
       "      <td>...</td>\n",
       "      <td>...</td>\n",
       "      <td>...</td>\n",
       "      <td>...</td>\n",
       "      <td>...</td>\n",
       "      <td>...</td>\n",
       "      <td>...</td>\n",
       "      <td>...</td>\n",
       "      <td>...</td>\n",
       "      <td>...</td>\n",
       "      <td>...</td>\n",
       "      <td>...</td>\n",
       "      <td>...</td>\n",
       "      <td>...</td>\n",
       "    </tr>\n",
       "    <tr>\n",
       "      <th>101340</th>\n",
       "      <td>-0.622574</td>\n",
       "      <td>-0.580418</td>\n",
       "      <td>0.346125</td>\n",
       "      <td>-0.506511</td>\n",
       "      <td>0.742300</td>\n",
       "      <td>-0.188108</td>\n",
       "      <td>0</td>\n",
       "      <td>0.451231</td>\n",
       "      <td>0</td>\n",
       "      <td>0</td>\n",
       "      <td>...</td>\n",
       "      <td>0</td>\n",
       "      <td>1</td>\n",
       "      <td>0</td>\n",
       "      <td>0</td>\n",
       "      <td>0</td>\n",
       "      <td>0</td>\n",
       "      <td>0</td>\n",
       "      <td>0</td>\n",
       "      <td>1</td>\n",
       "      <td>1</td>\n",
       "    </tr>\n",
       "    <tr>\n",
       "      <th>101341</th>\n",
       "      <td>-0.718924</td>\n",
       "      <td>-0.528345</td>\n",
       "      <td>0.563312</td>\n",
       "      <td>-0.386847</td>\n",
       "      <td>0.733813</td>\n",
       "      <td>-0.076635</td>\n",
       "      <td>0</td>\n",
       "      <td>0.455258</td>\n",
       "      <td>0</td>\n",
       "      <td>0</td>\n",
       "      <td>...</td>\n",
       "      <td>0</td>\n",
       "      <td>1</td>\n",
       "      <td>0</td>\n",
       "      <td>0</td>\n",
       "      <td>0</td>\n",
       "      <td>0</td>\n",
       "      <td>0</td>\n",
       "      <td>0</td>\n",
       "      <td>1</td>\n",
       "      <td>1</td>\n",
       "    </tr>\n",
       "    <tr>\n",
       "      <th>101342</th>\n",
       "      <td>-0.888484</td>\n",
       "      <td>-0.791589</td>\n",
       "      <td>0.455777</td>\n",
       "      <td>-0.377021</td>\n",
       "      <td>0.792969</td>\n",
       "      <td>0.160931</td>\n",
       "      <td>0</td>\n",
       "      <td>0.434726</td>\n",
       "      <td>0</td>\n",
       "      <td>0</td>\n",
       "      <td>...</td>\n",
       "      <td>0</td>\n",
       "      <td>1</td>\n",
       "      <td>0</td>\n",
       "      <td>0</td>\n",
       "      <td>0</td>\n",
       "      <td>0</td>\n",
       "      <td>0</td>\n",
       "      <td>0</td>\n",
       "      <td>1</td>\n",
       "      <td>1</td>\n",
       "    </tr>\n",
       "    <tr>\n",
       "      <th>101343</th>\n",
       "      <td>-0.621401</td>\n",
       "      <td>-0.580418</td>\n",
       "      <td>0.344272</td>\n",
       "      <td>-0.507146</td>\n",
       "      <td>0.742285</td>\n",
       "      <td>-0.188879</td>\n",
       "      <td>0</td>\n",
       "      <td>0.451231</td>\n",
       "      <td>0</td>\n",
       "      <td>0</td>\n",
       "      <td>...</td>\n",
       "      <td>0</td>\n",
       "      <td>1</td>\n",
       "      <td>0</td>\n",
       "      <td>0</td>\n",
       "      <td>0</td>\n",
       "      <td>0</td>\n",
       "      <td>0</td>\n",
       "      <td>0</td>\n",
       "      <td>1</td>\n",
       "      <td>1</td>\n",
       "    </tr>\n",
       "    <tr>\n",
       "      <th>101344</th>\n",
       "      <td>-0.798828</td>\n",
       "      <td>-0.649073</td>\n",
       "      <td>0.523650</td>\n",
       "      <td>-0.415826</td>\n",
       "      <td>0.759936</td>\n",
       "      <td>-0.015667</td>\n",
       "      <td>0</td>\n",
       "      <td>0.445865</td>\n",
       "      <td>0</td>\n",
       "      <td>0</td>\n",
       "      <td>...</td>\n",
       "      <td>0</td>\n",
       "      <td>1</td>\n",
       "      <td>0</td>\n",
       "      <td>0</td>\n",
       "      <td>0</td>\n",
       "      <td>0</td>\n",
       "      <td>0</td>\n",
       "      <td>0</td>\n",
       "      <td>1</td>\n",
       "      <td>1</td>\n",
       "    </tr>\n",
       "  </tbody>\n",
       "</table>\n",
       "<p>101345 rows × 30 columns</p>\n",
       "</div>"
      ],
      "text/plain": [
       "        person_age  person_income  person_emp_length  loan_amnt  \\\n",
       "0         1.569797      -1.081318           0.000000  -0.578305   \n",
       "1        -0.921741      -0.052550           0.520621  -0.937769   \n",
       "2         0.240977      -1.508084           0.587859  -0.578305   \n",
       "3         0.407079       0.435878           0.724529   0.500086   \n",
       "4        -0.921741       0.098465           0.293930  -0.578305   \n",
       "...            ...            ...                ...        ...   \n",
       "101340   -0.622574      -0.580418           0.346125  -0.506511   \n",
       "101341   -0.718924      -0.528345           0.563312  -0.386847   \n",
       "101342   -0.888484      -0.791589           0.455777  -0.377021   \n",
       "101343   -0.621401      -0.580418           0.344272  -0.507146   \n",
       "101344   -0.798828      -0.649073           0.523650  -0.415826   \n",
       "\n",
       "        loan_int_rate  loan_percent_income  cb_person_default_on_file  \\\n",
       "0            0.516442             0.117380                          0   \n",
       "1            0.619568            -0.973222                          0   \n",
       "2            0.340882             0.553620                          0   \n",
       "3            0.493327             0.117380                          0   \n",
       "4            0.167927            -0.646041                          0   \n",
       "...               ...                  ...                        ...   \n",
       "101340       0.742300            -0.188108                          0   \n",
       "101341       0.733813            -0.076635                          0   \n",
       "101342       0.792969             0.160931                          0   \n",
       "101343       0.742285            -0.188879                          0   \n",
       "101344       0.759936            -0.015667                          0   \n",
       "\n",
       "        cb_person_cred_hist_length  PERSON_HOME_OWNERSHIP_MORTGAGE  \\\n",
       "0                         0.411879                               0   \n",
       "1                         0.491800                               0   \n",
       "2                         0.377667                               0   \n",
       "3                         0.528549                               0   \n",
       "4                         0.503242                               0   \n",
       "...                            ...                             ...   \n",
       "101340                    0.451231                               0   \n",
       "101341                    0.455258                               0   \n",
       "101342                    0.434726                               0   \n",
       "101343                    0.451231                               0   \n",
       "101344                    0.445865                               0   \n",
       "\n",
       "        PERSON_HOME_OWNERSHIP_OTHER  ...  LOAN_GRADE_C  LOAN_GRADE_D  \\\n",
       "0                                 0  ...             0             0   \n",
       "1                                 0  ...             1             0   \n",
       "2                                 0  ...             0             0   \n",
       "3                                 0  ...             0             0   \n",
       "4                                 0  ...             0             0   \n",
       "...                             ...  ...           ...           ...   \n",
       "101340                            0  ...             0             1   \n",
       "101341                            0  ...             0             1   \n",
       "101342                            0  ...             0             1   \n",
       "101343                            0  ...             0             1   \n",
       "101344                            0  ...             0             1   \n",
       "\n",
       "        LOAN_GRADE_E  LOAN_GRADE_F  LOAN_GRADE_G  \\\n",
       "0                  0             0             0   \n",
       "1                  0             0             0   \n",
       "2                  0             0             0   \n",
       "3                  0             0             0   \n",
       "4                  0             0             0   \n",
       "...              ...           ...           ...   \n",
       "101340             0             0             0   \n",
       "101341             0             0             0   \n",
       "101342             0             0             0   \n",
       "101343             0             0             0   \n",
       "101344             0             0             0   \n",
       "\n",
       "        CB_PERSON_CRED_HIST_LENGTH_11_17  CB_PERSON_CRED_HIST_LENGTH_18_above  \\\n",
       "0                                      1                                    0   \n",
       "1                                      0                                    0   \n",
       "2                                      0                                    0   \n",
       "3                                      0                                    0   \n",
       "4                                      0                                    0   \n",
       "...                                  ...                                  ...   \n",
       "101340                                 0                                    0   \n",
       "101341                                 0                                    0   \n",
       "101342                                 0                                    0   \n",
       "101343                                 0                                    0   \n",
       "101344                                 0                                    0   \n",
       "\n",
       "        CB_PERSON_CRED_HIST_LENGTH_5_10  CB_PERSON_CRED_HIST_LENGTH_5_below  \\\n",
       "0                                     0                                   0   \n",
       "1                                     0                                   1   \n",
       "2                                     1                                   0   \n",
       "3                                     1                                   0   \n",
       "4                                     0                                   1   \n",
       "...                                 ...                                 ...   \n",
       "101340                                0                                   1   \n",
       "101341                                0                                   1   \n",
       "101342                                0                                   1   \n",
       "101343                                0                                   1   \n",
       "101344                                0                                   1   \n",
       "\n",
       "        loan_status  \n",
       "0                 0  \n",
       "1                 0  \n",
       "2                 0  \n",
       "3                 0  \n",
       "4                 0  \n",
       "...             ...  \n",
       "101340            1  \n",
       "101341            1  \n",
       "101342            1  \n",
       "101343            1  \n",
       "101344            1  \n",
       "\n",
       "[101345 rows x 30 columns]"
      ]
     },
     "execution_count": 2,
     "metadata": {},
     "output_type": "execute_result"
    }
   ],
   "source": [
    "##Import Training Dataset\n",
    "loans_train_df = pd.read_csv('./outputs/cleaned_loans_train.csv')\n",
    "loans_train_ada_df = pd.read_csv('./outputs/cleaned_loans_train.csv')\n",
    "loans_train_df"
   ]
  },
  {
   "cell_type": "markdown",
   "id": "c7f72267-aad4-49d9-9d6e-97b050e604f2",
   "metadata": {},
   "source": [
    "## Hyperparameter Tuning"
   ]
  },
  {
   "cell_type": "code",
   "execution_count": 3,
   "id": "3042d031-33fb-4896-8405-d4647078c1ea",
   "metadata": {},
   "outputs": [],
   "source": [
    "df_hyper_tuning = pd.DataFrame(columns=['n_neighbors', 'weights', 'algorithm', 'metric', 'oversampling_method', 'roc_auc'])"
   ]
  },
  {
   "cell_type": "code",
   "execution_count": 4,
   "id": "49b5026b-be58-46b6-a95b-a6ba0dead741",
   "metadata": {},
   "outputs": [
    {
     "name": "stdout",
     "output_type": "stream",
     "text": [
      "================\n",
      "Configuration:\n",
      "K: 61\n",
      "Weights: uniform\n",
      "Algorithm: auto\n",
      "Distance Metric: nan_euclidean\n",
      "Oversampling Method: none\n",
      "----------------\n",
      "Results: -0.8608128745942752\n",
      "================\n",
      "================\n",
      "Configuration:\n",
      "K: 175\n",
      "Weights: distance\n",
      "Algorithm: kd_tree\n",
      "Distance Metric: nan_euclidean\n",
      "Oversampling Method: ada\n",
      "----------------\n",
      "Invalid Config\n",
      "================\n",
      "Configuration:\n",
      "K: 285\n",
      "Weights: uniform\n",
      "Algorithm: auto\n",
      "Distance Metric: manhattan\n",
      "Oversampling Method: ada\n",
      "----------------\n",
      "Results: -0.8414940719268907\n",
      "================\n",
      "================\n",
      "Configuration:\n",
      "K: 237\n",
      "Weights: distance\n",
      "Algorithm: kd_tree\n",
      "Distance Metric: l1\n",
      "Oversampling Method: ada\n",
      "----------------\n",
      "Results: -0.8864413827469563\n",
      "================\n",
      "================\n",
      "Configuration:\n",
      "K: 269\n",
      "Weights: distance\n",
      "Algorithm: kd_tree\n",
      "Distance Metric: euclidean\n",
      "Oversampling Method: none\n",
      "----------------\n",
      "Results: -0.8735006834849468\n",
      "================\n",
      "================\n",
      "Configuration:\n",
      "K: 163\n",
      "Weights: distance\n",
      "Algorithm: ball_tree\n",
      "Distance Metric: euclidean\n",
      "Oversampling Method: ada\n",
      "----------------\n",
      "Results: -0.8831107050130251\n",
      "================\n",
      "================\n",
      "Configuration:\n",
      "K: 110\n",
      "Weights: uniform\n",
      "Algorithm: kd_tree\n",
      "Distance Metric: cosine\n",
      "Oversampling Method: ada\n",
      "----------------\n",
      "Invalid Config\n",
      "================\n",
      "Configuration:\n",
      "K: 206\n",
      "Weights: distance\n",
      "Algorithm: ball_tree\n",
      "Distance Metric: manhattan\n",
      "Oversampling Method: none\n",
      "----------------\n",
      "Results: -0.888802397563008\n",
      "================\n",
      "================\n",
      "Configuration:\n",
      "K: 124\n",
      "Weights: uniform\n",
      "Algorithm: kd_tree\n",
      "Distance Metric: l1\n",
      "Oversampling Method: ada\n",
      "----------------\n",
      "Results: -0.8541210584538511\n",
      "================\n",
      "================\n",
      "Configuration:\n",
      "K: 129\n",
      "Weights: distance\n",
      "Algorithm: kd_tree\n",
      "Distance Metric: euclidean\n",
      "Oversampling Method: none\n",
      "----------------\n",
      "Results: -0.8875984533710207\n",
      "================\n",
      "================\n",
      "Configuration:\n",
      "K: 185\n",
      "Weights: distance\n",
      "Algorithm: kd_tree\n",
      "Distance Metric: l1\n",
      "Oversampling Method: ada\n",
      "----------------\n",
      "Results: -0.8907309883485106\n",
      "================\n",
      "================\n",
      "Configuration:\n",
      "K: 184\n",
      "Weights: distance\n",
      "Algorithm: kd_tree\n",
      "Distance Metric: l1\n",
      "Oversampling Method: ada\n",
      "----------------\n",
      "Results: -0.8908350119318483\n",
      "================\n",
      "================\n",
      "Configuration:\n",
      "K: 179\n",
      "Weights: uniform\n",
      "Algorithm: auto\n",
      "Distance Metric: manhattan\n",
      "Oversampling Method: none\n",
      "----------------\n",
      "Results: -0.8472649768363204\n",
      "================\n",
      "================\n",
      "Configuration:\n",
      "K: 180\n",
      "Weights: distance\n",
      "Algorithm: ball_tree\n",
      "Distance Metric: cosine\n",
      "Oversampling Method: ada\n",
      "----------------\n",
      "Invalid Config\n",
      "================\n",
      "Configuration:\n",
      "K: 238\n",
      "Weights: uniform\n",
      "Algorithm: auto\n",
      "Distance Metric: cityblock\n",
      "Oversampling Method: none\n",
      "----------------\n",
      "Results: -0.8435755221224897\n",
      "================\n",
      "================\n",
      "Configuration:\n",
      "K: 182\n",
      "Weights: distance\n",
      "Algorithm: kd_tree\n",
      "Distance Metric: manhattan\n",
      "Oversampling Method: none\n",
      "----------------\n",
      "Results: -0.8910332652657615\n",
      "================\n",
      "================\n",
      "Configuration:\n",
      "K: 108\n",
      "Weights: distance\n",
      "Algorithm: ball_tree\n",
      "Distance Metric: cosine\n",
      "Oversampling Method: none\n",
      "----------------\n",
      "Invalid Config\n",
      "================\n",
      "Configuration:\n",
      "K: 317\n",
      "Weights: uniform\n",
      "Algorithm: auto\n",
      "Distance Metric: l2\n",
      "Oversampling Method: none\n",
      "----------------\n",
      "Results: -0.8303065582788944\n",
      "================\n",
      "================\n",
      "Configuration:\n",
      "K: 220\n",
      "Weights: distance\n",
      "Algorithm: auto\n",
      "Distance Metric: euclidean\n",
      "Oversampling Method: none\n",
      "----------------\n",
      "Results: -0.8773598511626165\n",
      "================\n",
      "================\n",
      "Configuration:\n",
      "K: 313\n",
      "Weights: distance\n",
      "Algorithm: auto\n",
      "Distance Metric: cosine\n",
      "Oversampling Method: ada\n",
      "----------------\n",
      "Results: -0.9210601423844597\n",
      "================\n",
      "================\n",
      "Configuration:\n",
      "K: 144\n",
      "Weights: uniform\n",
      "Algorithm: auto\n",
      "Distance Metric: l1\n",
      "Oversampling Method: ada\n",
      "----------------\n",
      "Results: -0.8512757844341307\n",
      "================\n",
      "================\n",
      "Configuration:\n",
      "K: 320\n",
      "Weights: uniform\n",
      "Algorithm: ball_tree\n",
      "Distance Metric: l1\n",
      "Oversampling Method: none\n",
      "----------------\n",
      "Results: -0.8403153199817472\n",
      "================\n",
      "================\n",
      "Configuration:\n",
      "K: 1\n",
      "Weights: uniform\n",
      "Algorithm: auto\n",
      "Distance Metric: cosine\n",
      "Oversampling Method: none\n",
      "----------------\n",
      "Results: -0.893477057830408\n",
      "================\n",
      "================\n",
      "Configuration:\n",
      "K: 1\n",
      "Weights: uniform\n",
      "Algorithm: ball_tree\n",
      "Distance Metric: l2\n",
      "Oversampling Method: ada\n",
      "----------------\n",
      "Results: -0.8965185372073904\n",
      "================\n",
      "================\n",
      "Configuration:\n",
      "K: 320\n",
      "Weights: distance\n",
      "Algorithm: auto\n",
      "Distance Metric: nan_euclidean\n",
      "Oversampling Method: ada\n",
      "----------------\n",
      "Results: -0.870131713093942\n",
      "================\n",
      "================\n",
      "Configuration:\n",
      "K: 320\n",
      "Weights: uniform\n",
      "Algorithm: kd_tree\n",
      "Distance Metric: cityblock\n",
      "Oversampling Method: ada\n",
      "----------------\n",
      "Results: -0.8403153199817472\n",
      "================\n",
      "================\n",
      "Configuration:\n",
      "K: 10\n",
      "Weights: distance\n",
      "Algorithm: ball_tree\n",
      "Distance Metric: cityblock\n",
      "Oversampling Method: none\n",
      "----------------\n",
      "Results: -0.9414799077065817\n",
      "================\n",
      "================\n",
      "Configuration:\n",
      "K: 320\n",
      "Weights: distance\n",
      "Algorithm: auto\n",
      "Distance Metric: l1\n",
      "Oversampling Method: none\n",
      "----------------\n",
      "Results: -0.8811887982709328\n",
      "================\n",
      "================\n",
      "Configuration:\n",
      "K: 1\n",
      "Weights: distance\n",
      "Algorithm: auto\n",
      "Distance Metric: l2\n",
      "Oversampling Method: ada\n",
      "----------------\n",
      "Results: -0.8965185372073904\n",
      "================\n",
      "================\n",
      "Configuration:\n",
      "K: 1\n",
      "Weights: distance\n",
      "Algorithm: ball_tree\n",
      "Distance Metric: l1\n",
      "Oversampling Method: ada\n",
      "----------------\n",
      "Results: -0.9041661900670556\n",
      "================\n",
      "================\n",
      "Configuration:\n",
      "K: 1\n",
      "Weights: uniform\n",
      "Algorithm: auto\n",
      "Distance Metric: euclidean\n",
      "Oversampling Method: ada\n",
      "----------------\n",
      "Results: -0.8965185372073904\n",
      "================\n",
      "================\n",
      "Configuration:\n",
      "K: 320\n",
      "Weights: distance\n",
      "Algorithm: kd_tree\n",
      "Distance Metric: cityblock\n",
      "Oversampling Method: ada\n",
      "----------------\n",
      "Results: -0.8811887865869156\n",
      "================\n",
      "================\n",
      "Configuration:\n",
      "K: 3\n",
      "Weights: distance\n",
      "Algorithm: auto\n",
      "Distance Metric: cityblock\n",
      "Oversampling Method: ada\n",
      "----------------\n",
      "Results: -0.9376191348268196\n",
      "================\n",
      "================\n",
      "Configuration:\n",
      "K: 1\n",
      "Weights: distance\n",
      "Algorithm: kd_tree\n",
      "Distance Metric: l1\n",
      "Oversampling Method: none\n",
      "----------------\n",
      "Results: -0.9041661900670556\n",
      "================\n",
      "================\n",
      "Configuration:\n",
      "K: 1\n",
      "Weights: distance\n",
      "Algorithm: auto\n",
      "Distance Metric: l1\n",
      "Oversampling Method: ada\n",
      "----------------\n",
      "Results: -0.9041661900670556\n",
      "================\n",
      "================\n",
      "Configuration:\n",
      "K: 1\n",
      "Weights: uniform\n",
      "Algorithm: auto\n",
      "Distance Metric: l1\n",
      "Oversampling Method: none\n",
      "----------------\n",
      "Results: -0.9041661900670556\n",
      "================\n",
      "================\n",
      "Configuration:\n",
      "K: 1\n",
      "Weights: distance\n",
      "Algorithm: auto\n",
      "Distance Metric: nan_euclidean\n",
      "Oversampling Method: none\n",
      "----------------\n",
      "Results: -0.8965185372073904\n",
      "================\n",
      "================\n",
      "Configuration:\n",
      "K: 125\n",
      "Weights: distance\n",
      "Algorithm: auto\n",
      "Distance Metric: l1\n",
      "Oversampling Method: none\n",
      "----------------\n",
      "Results: -0.8980595251368415\n",
      "================\n",
      "================\n",
      "Configuration:\n",
      "K: 1\n",
      "Weights: uniform\n",
      "Algorithm: auto\n",
      "Distance Metric: nan_euclidean\n",
      "Oversampling Method: ada\n",
      "----------------\n",
      "Results: -0.8965185372073904\n",
      "================\n",
      "================\n",
      "Configuration:\n",
      "K: 320\n",
      "Weights: distance\n",
      "Algorithm: ball_tree\n",
      "Distance Metric: l2\n",
      "Oversampling Method: none\n",
      "----------------\n",
      "Results: -0.8701317183518892\n",
      "================\n",
      "================\n",
      "Configuration:\n",
      "K: 145\n",
      "Weights: uniform\n",
      "Algorithm: auto\n",
      "Distance Metric: cityblock\n",
      "Oversampling Method: ada\n",
      "----------------\n",
      "Results: -0.8511439632979684\n",
      "================\n",
      "================\n",
      "Configuration:\n",
      "K: 173\n",
      "Weights: distance\n",
      "Algorithm: kd_tree\n",
      "Distance Metric: l1\n",
      "Oversampling Method: ada\n",
      "----------------\n",
      "Results: -0.8920026601675213\n",
      "================\n",
      "================\n",
      "Configuration:\n",
      "K: 320\n",
      "Weights: uniform\n",
      "Algorithm: auto\n",
      "Distance Metric: cosine\n",
      "Oversampling Method: ada\n",
      "----------------\n",
      "Results: -0.8278673667428592\n",
      "================\n",
      "================\n",
      "Configuration:\n",
      "K: 320\n",
      "Weights: distance\n",
      "Algorithm: auto\n",
      "Distance Metric: cosine\n",
      "Oversampling Method: none\n",
      "----------------\n",
      "Results: -0.9208303950478638\n",
      "================\n",
      "================\n",
      "Configuration:\n",
      "K: 1\n",
      "Weights: distance\n",
      "Algorithm: auto\n",
      "Distance Metric: cosine\n",
      "Oversampling Method: ada\n",
      "----------------\n",
      "Results: -0.893477057830408\n",
      "================\n",
      "================\n",
      "Configuration:\n",
      "K: 320\n",
      "Weights: uniform\n",
      "Algorithm: auto\n",
      "Distance Metric: nan_euclidean\n",
      "Oversampling Method: none\n",
      "----------------\n",
      "Results: -0.8301937065445185\n",
      "================\n",
      "================\n",
      "Configuration:\n",
      "K: 175\n",
      "Weights: distance\n",
      "Algorithm: auto\n",
      "Distance Metric: cosine\n",
      "Oversampling Method: ada\n",
      "----------------\n",
      "Results: -0.9265025627247852\n",
      "================\n",
      "================\n",
      "Configuration:\n",
      "K: 155\n",
      "Weights: distance\n",
      "Algorithm: kd_tree\n",
      "Distance Metric: l1\n",
      "Oversampling Method: ada\n",
      "----------------\n",
      "Results: -0.8940849952131065\n",
      "================\n",
      "================\n",
      "Configuration:\n",
      "K: 320\n",
      "Weights: uniform\n",
      "Algorithm: ball_tree\n",
      "Distance Metric: cityblock\n",
      "Oversampling Method: none\n",
      "----------------\n",
      "Results: -0.8403153199817472\n",
      "================\n",
      "================\n",
      "Configuration:\n",
      "K: 5\n",
      "Weights: uniform\n",
      "Algorithm: kd_tree\n",
      "Distance Metric: cityblock\n",
      "Oversampling Method: none\n",
      "----------------\n",
      "Results: -0.9299309162865307\n",
      "================\n",
      "================\n",
      "Configuration:\n",
      "K: 180\n",
      "Weights: distance\n",
      "Algorithm: ball_tree\n",
      "Distance Metric: cityblock\n",
      "Oversampling Method: none\n",
      "----------------\n",
      "Results: -0.8912430710305026\n",
      "================\n",
      "================\n",
      "Configuration:\n",
      "K: 320\n",
      "Weights: uniform\n",
      "Algorithm: ball_tree\n",
      "Distance Metric: euclidean\n",
      "Oversampling Method: none\n",
      "----------------\n",
      "Results: -0.8301937065445185\n",
      "================\n",
      "================\n",
      "Configuration:\n",
      "K: 190\n",
      "Weights: distance\n",
      "Algorithm: ball_tree\n",
      "Distance Metric: cityblock\n",
      "Oversampling Method: none\n",
      "----------------\n",
      "Results: -0.8902681550472687\n",
      "================\n",
      "================\n",
      "Configuration:\n",
      "K: 177\n",
      "Weights: distance\n",
      "Algorithm: kd_tree\n",
      "Distance Metric: l1\n",
      "Oversampling Method: none\n",
      "----------------\n",
      "Results: -0.8915227277238552\n",
      "================\n",
      "================\n",
      "Configuration:\n",
      "K: 318\n",
      "Weights: distance\n",
      "Algorithm: auto\n",
      "Distance Metric: euclidean\n",
      "Oversampling Method: ada\n",
      "----------------\n",
      "Results: -0.8702481274210799\n",
      "================\n",
      "================\n",
      "Configuration:\n",
      "K: 157\n",
      "Weights: uniform\n",
      "Algorithm: auto\n",
      "Distance Metric: euclidean\n",
      "Oversampling Method: ada\n",
      "----------------\n",
      "Results: -0.8408978831736033\n",
      "================\n",
      "================\n",
      "Configuration:\n",
      "K: 174\n",
      "Weights: distance\n",
      "Algorithm: auto\n",
      "Distance Metric: cosine\n",
      "Oversampling Method: ada\n",
      "----------------\n",
      "Results: -0.9265531510194035\n",
      "================\n",
      "================\n",
      "Configuration:\n",
      "K: 173\n",
      "Weights: distance\n",
      "Algorithm: auto\n",
      "Distance Metric: cosine\n",
      "Oversampling Method: ada\n",
      "----------------\n",
      "Results: -0.9265980243119438\n",
      "================\n",
      "================\n",
      "Configuration:\n",
      "K: 1\n",
      "Weights: distance\n",
      "Algorithm: auto\n",
      "Distance Metric: manhattan\n",
      "Oversampling Method: none\n",
      "----------------\n",
      "Results: -0.9041661900670556\n",
      "================\n",
      "================\n",
      "Configuration:\n",
      "K: 1\n",
      "Weights: uniform\n",
      "Algorithm: ball_tree\n",
      "Distance Metric: manhattan\n",
      "Oversampling Method: ada\n",
      "----------------\n",
      "Results: -0.9041661900670556\n",
      "================\n",
      "================\n",
      "Configuration:\n",
      "K: 172\n",
      "Weights: distance\n",
      "Algorithm: auto\n",
      "Distance Metric: cosine\n",
      "Oversampling Method: ada\n",
      "----------------\n",
      "Results: -0.926652584174915\n",
      "================\n",
      "================\n",
      "Configuration:\n",
      "K: 172\n",
      "Weights: distance\n",
      "Algorithm: ball_tree\n",
      "Distance Metric: cityblock\n",
      "Oversampling Method: none\n",
      "----------------\n",
      "Results: -0.8921123156413389\n",
      "================\n",
      "================\n",
      "Configuration:\n",
      "K: 169\n",
      "Weights: distance\n",
      "Algorithm: ball_tree\n",
      "Distance Metric: l1\n",
      "Oversampling Method: none\n",
      "----------------\n",
      "Results: -0.8924229379125704\n",
      "================\n",
      "================\n",
      "Configuration:\n",
      "K: 168\n",
      "Weights: distance\n",
      "Algorithm: ball_tree\n",
      "Distance Metric: l1\n",
      "Oversampling Method: none\n",
      "----------------\n",
      "Results: -0.892550425418202\n",
      "================\n",
      "================\n",
      "Configuration:\n",
      "K: 175\n",
      "Weights: distance\n",
      "Algorithm: ball_tree\n",
      "Distance Metric: cityblock\n",
      "Oversampling Method: none\n",
      "----------------\n",
      "Results: -0.8917597588891271\n",
      "================\n",
      "================\n",
      "Configuration:\n",
      "K: 320\n",
      "Weights: uniform\n",
      "Algorithm: auto\n",
      "Distance Metric: l1\n",
      "Oversampling Method: ada\n",
      "----------------\n",
      "Results: -0.8403153456865851\n",
      "================\n",
      "================\n",
      "Configuration:\n",
      "K: 1\n",
      "Weights: uniform\n",
      "Algorithm: kd_tree\n",
      "Distance Metric: l2\n",
      "Oversampling Method: none\n",
      "----------------\n",
      "Results: -0.8965185372073904\n",
      "================\n",
      "================\n",
      "Configuration:\n",
      "K: 163\n",
      "Weights: distance\n",
      "Algorithm: ball_tree\n",
      "Distance Metric: cityblock\n",
      "Oversampling Method: none\n",
      "----------------\n",
      "Results: -0.8931441141275686\n",
      "================\n",
      "================\n",
      "Configuration:\n",
      "K: 3\n",
      "Weights: uniform\n",
      "Algorithm: kd_tree\n",
      "Distance Metric: l1\n",
      "Oversampling Method: none\n",
      "----------------\n",
      "Results: -0.9304490760711817\n",
      "================\n",
      "================\n",
      "Configuration:\n",
      "K: 145\n",
      "Weights: distance\n",
      "Algorithm: ball_tree\n",
      "Distance Metric: euclidean\n",
      "Oversampling Method: none\n",
      "----------------\n",
      "Results: -0.885359821849444\n",
      "================\n",
      "================\n",
      "Configuration:\n",
      "K: 154\n",
      "Weights: distance\n",
      "Algorithm: ball_tree\n",
      "Distance Metric: l1\n",
      "Oversampling Method: none\n",
      "----------------\n",
      "Results: -0.8941915291053153\n",
      "================\n",
      "================\n",
      "Configuration:\n",
      "K: 113\n",
      "Weights: uniform\n",
      "Algorithm: ball_tree\n",
      "Distance Metric: l2\n",
      "Oversampling Method: none\n",
      "----------------\n",
      "Results: -0.8474035979223332\n",
      "================\n",
      "================\n",
      "Configuration:\n",
      "K: 171\n",
      "Weights: distance\n",
      "Algorithm: auto\n",
      "Distance Metric: cosine\n",
      "Oversampling Method: ada\n",
      "----------------\n",
      "Results: -0.9266959175514122\n",
      "================\n",
      "================\n",
      "Configuration:\n",
      "K: 320\n",
      "Weights: distance\n",
      "Algorithm: auto\n",
      "Distance Metric: nan_euclidean\n",
      "Oversampling Method: none\n",
      "----------------\n",
      "Results: -0.870131713093942\n",
      "================\n",
      "================\n",
      "Configuration:\n",
      "K: 1\n",
      "Weights: distance\n",
      "Algorithm: auto\n",
      "Distance Metric: nan_euclidean\n",
      "Oversampling Method: ada\n",
      "----------------\n",
      "Results: -0.8965185372073904\n",
      "================\n",
      "================\n",
      "Configuration:\n",
      "K: 320\n",
      "Weights: uniform\n",
      "Algorithm: auto\n",
      "Distance Metric: nan_euclidean\n",
      "Oversampling Method: ada\n",
      "----------------\n",
      "Results: -0.8301937065445185\n",
      "================\n",
      "================\n",
      "Configuration:\n",
      "K: 1\n",
      "Weights: distance\n",
      "Algorithm: auto\n",
      "Distance Metric: cosine\n",
      "Oversampling Method: none\n",
      "----------------\n",
      "Results: -0.893477057830408\n",
      "================\n",
      "================\n",
      "Configuration:\n",
      "K: 160\n",
      "Weights: distance\n",
      "Algorithm: auto\n",
      "Distance Metric: cosine\n",
      "Oversampling Method: none\n",
      "----------------\n",
      "Results: -0.9272648384910954\n",
      "================\n",
      "================\n",
      "Configuration:\n",
      "K: 160\n",
      "Weights: distance\n",
      "Algorithm: auto\n",
      "Distance Metric: nan_euclidean\n",
      "Oversampling Method: ada\n",
      "----------------\n",
      "Results: -0.8834567410670221\n",
      "================\n",
      "================\n",
      "Configuration:\n",
      "K: 150\n",
      "Weights: uniform\n",
      "Algorithm: auto\n",
      "Distance Metric: l1\n",
      "Oversampling Method: ada\n",
      "----------------\n",
      "Results: -0.8504707289373367\n",
      "================\n",
      "================\n",
      "Configuration:\n",
      "K: 159\n",
      "Weights: distance\n",
      "Algorithm: auto\n",
      "Distance Metric: cosine\n",
      "Oversampling Method: ada\n",
      "----------------\n",
      "Results: -0.9273226849590369\n",
      "================\n",
      "================\n",
      "Configuration:\n",
      "K: 320\n",
      "Weights: uniform\n",
      "Algorithm: auto\n",
      "Distance Metric: cosine\n",
      "Oversampling Method: none\n",
      "----------------\n",
      "Results: -0.8278673667428592\n",
      "================\n",
      "================\n",
      "Configuration:\n",
      "K: 149\n",
      "Weights: uniform\n",
      "Algorithm: auto\n",
      "Distance Metric: l1\n",
      "Oversampling Method: ada\n",
      "----------------\n",
      "Results: -0.85060846988952\n",
      "================\n",
      "================\n",
      "Configuration:\n",
      "K: 156\n",
      "Weights: uniform\n",
      "Algorithm: auto\n",
      "Distance Metric: euclidean\n",
      "Oversampling Method: ada\n",
      "----------------\n",
      "Results: -0.8410103964354025\n",
      "================\n",
      "================\n",
      "Configuration:\n",
      "K: 320\n",
      "Weights: distance\n",
      "Algorithm: auto\n",
      "Distance Metric: cityblock\n",
      "Oversampling Method: ada\n",
      "----------------\n",
      "Results: -0.8811887982709328\n",
      "================\n",
      "================\n",
      "Configuration:\n",
      "K: 167\n",
      "Weights: distance\n",
      "Algorithm: auto\n",
      "Distance Metric: cityblock\n",
      "Oversampling Method: ada\n",
      "----------------\n",
      "Results: -0.8926598812809282\n",
      "================\n",
      "================\n",
      "Configuration:\n",
      "K: 153\n",
      "Weights: distance\n",
      "Algorithm: auto\n",
      "Distance Metric: euclidean\n",
      "Oversampling Method: ada\n",
      "----------------\n",
      "Results: -0.8843208211155886\n",
      "================\n",
      "================\n",
      "Configuration:\n",
      "K: 4\n",
      "Weights: uniform\n",
      "Algorithm: ball_tree\n",
      "Distance Metric: cityblock\n",
      "Oversampling Method: ada\n",
      "----------------\n",
      "Results: -0.9307826589142968\n",
      "================\n",
      "================\n",
      "Configuration:\n",
      "K: 165\n",
      "Weights: distance\n",
      "Algorithm: ball_tree\n",
      "Distance Metric: cityblock\n",
      "Oversampling Method: none\n",
      "----------------\n",
      "Results: -0.8928980486581212\n",
      "================\n",
      "================\n",
      "Configuration:\n",
      "K: 149\n",
      "Weights: distance\n",
      "Algorithm: ball_tree\n",
      "Distance Metric: l1\n",
      "Oversampling Method: none\n",
      "----------------\n",
      "Results: -0.8948124317820353\n",
      "================\n",
      "================\n",
      "Configuration:\n",
      "K: 1\n",
      "Weights: uniform\n",
      "Algorithm: auto\n",
      "Distance Metric: cityblock\n",
      "Oversampling Method: ada\n",
      "----------------\n",
      "Results: -0.9041661900670556\n",
      "================\n",
      "================\n",
      "Configuration:\n",
      "K: 157\n",
      "Weights: distance\n",
      "Algorithm: ball_tree\n",
      "Distance Metric: l1\n",
      "Oversampling Method: none\n",
      "----------------\n",
      "Results: -0.8938485081625641\n",
      "================\n",
      "================\n",
      "Configuration:\n",
      "K: 156\n",
      "Weights: distance\n",
      "Algorithm: ball_tree\n",
      "Distance Metric: cityblock\n",
      "Oversampling Method: none\n",
      "----------------\n",
      "Results: -0.8939800201256841\n",
      "================\n",
      "================\n",
      "Configuration:\n",
      "K: 150\n",
      "Weights: distance\n",
      "Algorithm: ball_tree\n",
      "Distance Metric: l1\n",
      "Oversampling Method: none\n",
      "----------------\n",
      "Results: -0.8946796694064593\n",
      "================\n",
      "================\n",
      "Configuration:\n",
      "K: 148\n",
      "Weights: distance\n",
      "Algorithm: ball_tree\n",
      "Distance Metric: l1\n",
      "Oversampling Method: none\n",
      "----------------\n",
      "Results: -0.8949309225319529\n",
      "================\n",
      "================\n",
      "Configuration:\n",
      "K: 1\n",
      "Weights: uniform\n",
      "Algorithm: auto\n",
      "Distance Metric: cosine\n",
      "Oversampling Method: ada\n",
      "----------------\n",
      "Results: -0.893477057830408\n",
      "================\n",
      "================\n",
      "Configuration:\n",
      "K: 1\n",
      "Weights: uniform\n",
      "Algorithm: auto\n",
      "Distance Metric: l2\n",
      "Oversampling Method: none\n",
      "----------------\n",
      "Results: -0.8965185372073904\n",
      "================\n",
      "================\n",
      "Configuration:\n",
      "K: 320\n",
      "Weights: distance\n",
      "Algorithm: auto\n",
      "Distance Metric: l2\n",
      "Oversampling Method: ada\n",
      "----------------\n",
      "Results: -0.8701317160149463\n",
      "================\n",
      "================\n",
      "Configuration:\n",
      "K: 151\n",
      "Weights: uniform\n",
      "Algorithm: auto\n",
      "Distance Metric: l1\n",
      "Oversampling Method: ada\n",
      "----------------\n",
      "Results: -0.8503341530582832\n",
      "================\n",
      "================\n",
      "Configuration:\n",
      "K: 320\n",
      "Weights: uniform\n",
      "Algorithm: kd_tree\n",
      "Distance Metric: manhattan\n",
      "Oversampling Method: none\n",
      "----------------\n",
      "Results: -0.8403153199817472\n",
      "================\n",
      "================\n",
      "Configuration:\n",
      "K: 320\n",
      "Weights: distance\n",
      "Algorithm: kd_tree\n",
      "Distance Metric: l2\n",
      "Oversampling Method: ada\n",
      "----------------\n",
      "Results: -0.8701317160149463\n",
      "================\n",
      "================\n",
      "Configuration:\n",
      "K: 1\n",
      "Weights: distance\n",
      "Algorithm: auto\n",
      "Distance Metric: manhattan\n",
      "Oversampling Method: ada\n",
      "----------------\n",
      "Results: -0.9041661900670556\n",
      "================\n",
      "================\n",
      "Configuration:\n",
      "K: 146\n",
      "Weights: uniform\n",
      "Algorithm: auto\n",
      "Distance Metric: l1\n",
      "Oversampling Method: ada\n",
      "----------------\n",
      "Results: -0.8510083806864963\n",
      "================\n",
      "================\n",
      "Configuration:\n",
      "K: 145\n",
      "Weights: uniform\n",
      "Algorithm: auto\n",
      "Distance Metric: l1\n",
      "Oversampling Method: ada\n",
      "----------------\n",
      "Results: -0.8511439632979684\n",
      "================\n",
      "================\n",
      "Configuration:\n",
      "K: 1\n",
      "Weights: uniform\n",
      "Algorithm: auto\n",
      "Distance Metric: nan_euclidean\n",
      "Oversampling Method: none\n",
      "----------------\n",
      "Results: -0.8965185372073904\n",
      "================\n",
      "================\n",
      "Configuration:\n",
      "K: 320\n",
      "Weights: uniform\n",
      "Algorithm: ball_tree\n",
      "Distance Metric: manhattan\n",
      "Oversampling Method: ada\n",
      "----------------\n",
      "Results: -0.8403153199817472\n",
      "================\n",
      "================\n",
      "Configuration:\n",
      "K: 1\n",
      "Weights: distance\n",
      "Algorithm: kd_tree\n",
      "Distance Metric: manhattan\n",
      "Oversampling Method: ada\n",
      "----------------\n",
      "Results: -0.9041661900670556\n",
      "================\n",
      "================\n",
      "Configuration:\n",
      "K: 1\n",
      "Weights: uniform\n",
      "Algorithm: kd_tree\n",
      "Distance Metric: euclidean\n",
      "Oversampling Method: none\n",
      "----------------\n",
      "Results: -0.8965185372073904\n",
      "================\n"
     ]
    },
    {
     "name": "stderr",
     "output_type": "stream",
     "text": [
      "C:\\Users\\Aaron\\AppData\\Roaming\\Python\\Python311\\site-packages\\skopt\\optimizer\\optimizer.py:517: UserWarning: The objective has been evaluated at point [145, 'uniform', 'auto', 'l1', 'ada'] before, using random point [27, 'distance', 'ball_tree', 'l2', 'none']\n",
      "  warnings.warn(\n"
     ]
    },
    {
     "name": "stdout",
     "output_type": "stream",
     "text": [
      "================\n",
      "Configuration:\n",
      "K: 27\n",
      "Weights: distance\n",
      "Algorithm: ball_tree\n",
      "Distance Metric: l2\n",
      "Oversampling Method: none\n",
      "----------------\n",
      "Results: -0.9182186455697373\n",
      "================\n",
      "================\n",
      "Configuration:\n",
      "K: 148\n",
      "Weights: uniform\n",
      "Algorithm: auto\n",
      "Distance Metric: l1\n",
      "Oversampling Method: ada\n",
      "----------------\n",
      "Results: -0.8507283921890091\n",
      "================\n"
     ]
    },
    {
     "name": "stderr",
     "output_type": "stream",
     "text": [
      "C:\\Users\\Aaron\\AppData\\Roaming\\Python\\Python311\\site-packages\\skopt\\optimizer\\optimizer.py:517: UserWarning: The objective has been evaluated at point [148, 'uniform', 'auto', 'l1', 'ada'] before, using random point [10, 'uniform', 'ball_tree', 'euclidean', 'none']\n",
      "  warnings.warn(\n"
     ]
    },
    {
     "name": "stdout",
     "output_type": "stream",
     "text": [
      "================\n",
      "Configuration:\n",
      "K: 10\n",
      "Weights: uniform\n",
      "Algorithm: ball_tree\n",
      "Distance Metric: euclidean\n",
      "Oversampling Method: none\n",
      "----------------\n",
      "Results: -0.9099523089101177\n",
      "================\n",
      "================\n",
      "Configuration:\n",
      "K: 147\n",
      "Weights: uniform\n",
      "Algorithm: auto\n",
      "Distance Metric: l1\n",
      "Oversampling Method: ada\n",
      "----------------\n",
      "Results: -0.8508540057563533\n",
      "================\n"
     ]
    },
    {
     "name": "stderr",
     "output_type": "stream",
     "text": [
      "C:\\Users\\Aaron\\AppData\\Roaming\\Python\\Python311\\site-packages\\skopt\\optimizer\\optimizer.py:517: UserWarning: The objective has been evaluated at point [145, 'uniform', 'auto', 'l1', 'ada'] before, using random point [293, 'uniform', 'kd_tree', 'nan_euclidean', 'ada']\n",
      "  warnings.warn(\n"
     ]
    },
    {
     "name": "stdout",
     "output_type": "stream",
     "text": [
      "================\n",
      "Configuration:\n",
      "K: 293\n",
      "Weights: uniform\n",
      "Algorithm: kd_tree\n",
      "Distance Metric: nan_euclidean\n",
      "Oversampling Method: ada\n",
      "----------------\n",
      "Invalid Config\n"
     ]
    },
    {
     "name": "stderr",
     "output_type": "stream",
     "text": [
      "C:\\Users\\Aaron\\AppData\\Roaming\\Python\\Python311\\site-packages\\skopt\\optimizer\\optimizer.py:517: UserWarning: The objective has been evaluated at point [146, 'uniform', 'auto', 'l1', 'ada'] before, using random point [144, 'distance', 'auto', 'l2', 'none']\n",
      "  warnings.warn(\n"
     ]
    },
    {
     "name": "stdout",
     "output_type": "stream",
     "text": [
      "================\n",
      "Configuration:\n",
      "K: 144\n",
      "Weights: distance\n",
      "Algorithm: auto\n",
      "Distance Metric: l2\n",
      "Oversampling Method: none\n",
      "----------------\n",
      "Results: -0.8855002027430805\n",
      "================\n"
     ]
    },
    {
     "name": "stderr",
     "output_type": "stream",
     "text": [
      "C:\\Users\\Aaron\\AppData\\Roaming\\Python\\Python311\\site-packages\\skopt\\optimizer\\optimizer.py:517: UserWarning: The objective has been evaluated at point [149, 'distance', 'ball_tree', 'l1', 'none'] before, using random point [62, 'distance', 'kd_tree', 'nan_euclidean', 'ada']\n",
      "  warnings.warn(\n"
     ]
    },
    {
     "name": "stdout",
     "output_type": "stream",
     "text": [
      "================\n",
      "Configuration:\n",
      "K: 62\n",
      "Weights: distance\n",
      "Algorithm: kd_tree\n",
      "Distance Metric: nan_euclidean\n",
      "Oversampling Method: ada\n",
      "----------------\n",
      "Invalid Config\n"
     ]
    },
    {
     "name": "stderr",
     "output_type": "stream",
     "text": [
      "C:\\Users\\Aaron\\AppData\\Roaming\\Python\\Python311\\site-packages\\skopt\\optimizer\\optimizer.py:517: UserWarning: The objective has been evaluated at point [150, 'distance', 'ball_tree', 'l1', 'none'] before, using random point [8, 'uniform', 'auto', 'manhattan', 'ada']\n",
      "  warnings.warn(\n"
     ]
    },
    {
     "name": "stdout",
     "output_type": "stream",
     "text": [
      "================\n",
      "Configuration:\n",
      "K: 8\n",
      "Weights: uniform\n",
      "Algorithm: auto\n",
      "Distance Metric: manhattan\n",
      "Oversampling Method: ada\n",
      "----------------\n",
      "Results: -0.9239796055177473\n",
      "================\n",
      "================\n",
      "Configuration:\n",
      "K: 319\n",
      "Weights: distance\n",
      "Algorithm: auto\n",
      "Distance Metric: nan_euclidean\n",
      "Oversampling Method: none\n",
      "----------------\n",
      "Results: -0.8701882250917615\n",
      "================\n"
     ]
    },
    {
     "name": "stderr",
     "output_type": "stream",
     "text": [
      "C:\\Users\\Aaron\\AppData\\Roaming\\Python\\Python311\\site-packages\\skopt\\optimizer\\optimizer.py:517: UserWarning: The objective has been evaluated at point [150, 'distance', 'ball_tree', 'l1', 'none'] before, using random point [107, 'distance', 'kd_tree', 'l2', 'ada']\n",
      "  warnings.warn(\n"
     ]
    },
    {
     "name": "stdout",
     "output_type": "stream",
     "text": [
      "================\n",
      "Configuration:\n",
      "K: 107\n",
      "Weights: distance\n",
      "Algorithm: kd_tree\n",
      "Distance Metric: l2\n",
      "Oversampling Method: ada\n",
      "----------------\n",
      "Results: -0.8912047557038986\n",
      "================\n"
     ]
    },
    {
     "name": "stderr",
     "output_type": "stream",
     "text": [
      "C:\\Users\\Aaron\\AppData\\Roaming\\Python\\Python311\\site-packages\\skopt\\optimizer\\optimizer.py:517: UserWarning: The objective has been evaluated at point [149, 'distance', 'ball_tree', 'l1', 'none'] before, using random point [254, 'distance', 'auto', 'l1', 'ada']\n",
      "  warnings.warn(\n"
     ]
    },
    {
     "name": "stdout",
     "output_type": "stream",
     "text": [
      "================\n",
      "Configuration:\n",
      "K: 254\n",
      "Weights: distance\n",
      "Algorithm: auto\n",
      "Distance Metric: l1\n",
      "Oversampling Method: ada\n",
      "----------------\n",
      "Results: -0.8851761865722998\n",
      "================\n"
     ]
    },
    {
     "name": "stderr",
     "output_type": "stream",
     "text": [
      "C:\\Users\\Aaron\\AppData\\Roaming\\Python\\Python311\\site-packages\\skopt\\optimizer\\optimizer.py:517: UserWarning: The objective has been evaluated at point [149, 'distance', 'ball_tree', 'l1', 'none'] before, using random point [281, 'uniform', 'auto', 'l2', 'ada']\n",
      "  warnings.warn(\n"
     ]
    },
    {
     "name": "stdout",
     "output_type": "stream",
     "text": [
      "================\n",
      "Configuration:\n",
      "K: 281\n",
      "Weights: uniform\n",
      "Algorithm: auto\n",
      "Distance Metric: l2\n",
      "Oversampling Method: ada\n",
      "----------------\n",
      "Results: -0.8318738720577215\n",
      "================\n"
     ]
    },
    {
     "name": "stderr",
     "output_type": "stream",
     "text": [
      "C:\\Users\\Aaron\\AppData\\Roaming\\Python\\Python311\\site-packages\\skopt\\optimizer\\optimizer.py:517: UserWarning: The objective has been evaluated at point [148, 'distance', 'ball_tree', 'l1', 'none'] before, using random point [22, 'distance', 'ball_tree', 'manhattan', 'ada']\n",
      "  warnings.warn(\n"
     ]
    },
    {
     "name": "stdout",
     "output_type": "stream",
     "text": [
      "================\n",
      "Configuration:\n",
      "K: 22\n",
      "Weights: distance\n",
      "Algorithm: ball_tree\n",
      "Distance Metric: manhattan\n",
      "Oversampling Method: ada\n",
      "----------------\n",
      "Results: -0.9313872255236451\n",
      "================\n",
      "================\n",
      "Configuration:\n",
      "K: 146\n",
      "Weights: distance\n",
      "Algorithm: ball_tree\n",
      "Distance Metric: l1\n",
      "Oversampling Method: none\n",
      "----------------\n",
      "Results: -0.8951990486488312\n",
      "================\n"
     ]
    },
    {
     "name": "stderr",
     "output_type": "stream",
     "text": [
      "C:\\Users\\Aaron\\AppData\\Roaming\\Python\\Python311\\site-packages\\skopt\\optimizer\\optimizer.py:517: UserWarning: The objective has been evaluated at point [146, 'distance', 'ball_tree', 'l1', 'none'] before, using random point [128, 'distance', 'kd_tree', 'manhattan', 'none']\n",
      "  warnings.warn(\n"
     ]
    },
    {
     "name": "stdout",
     "output_type": "stream",
     "text": [
      "================\n",
      "Configuration:\n",
      "K: 128\n",
      "Weights: distance\n",
      "Algorithm: kd_tree\n",
      "Distance Metric: manhattan\n",
      "Oversampling Method: none\n",
      "----------------\n",
      "Results: -0.8975965425138736\n",
      "================\n",
      "================\n",
      "Configuration:\n",
      "K: 145\n",
      "Weights: distance\n",
      "Algorithm: ball_tree\n",
      "Distance Metric: l1\n",
      "Oversampling Method: none\n",
      "----------------\n",
      "Results: -0.8953306445233932\n",
      "================\n"
     ]
    },
    {
     "name": "stderr",
     "output_type": "stream",
     "text": [
      "C:\\Users\\Aaron\\AppData\\Roaming\\Python\\Python311\\site-packages\\skopt\\optimizer\\optimizer.py:517: UserWarning: The objective has been evaluated at point [145, 'distance', 'ball_tree', 'l1', 'none'] before, using random point [88, 'uniform', 'kd_tree', 'cosine', 'ada']\n",
      "  warnings.warn(\n"
     ]
    },
    {
     "name": "stdout",
     "output_type": "stream",
     "text": [
      "================\n",
      "Configuration:\n",
      "K: 88\n",
      "Weights: uniform\n",
      "Algorithm: kd_tree\n",
      "Distance Metric: cosine\n",
      "Oversampling Method: ada\n",
      "----------------\n",
      "Invalid Config\n"
     ]
    },
    {
     "name": "stderr",
     "output_type": "stream",
     "text": [
      "C:\\Users\\Aaron\\AppData\\Roaming\\Python\\Python311\\site-packages\\skopt\\optimizer\\optimizer.py:517: UserWarning: The objective has been evaluated at point [145, 'distance', 'ball_tree', 'l1', 'none'] before, using random point [282, 'uniform', 'auto', 'l2', 'none']\n",
      "  warnings.warn(\n"
     ]
    },
    {
     "name": "stdout",
     "output_type": "stream",
     "text": [
      "================\n",
      "Configuration:\n",
      "K: 282\n",
      "Weights: uniform\n",
      "Algorithm: auto\n",
      "Distance Metric: l2\n",
      "Oversampling Method: none\n",
      "----------------\n",
      "Results: -0.8318200043325402\n",
      "================\n",
      "================\n",
      "Configuration:\n",
      "K: 144\n",
      "Weights: distance\n",
      "Algorithm: ball_tree\n",
      "Distance Metric: l1\n",
      "Oversampling Method: none\n",
      "----------------\n",
      "Results: -0.8954598746333547\n",
      "================\n"
     ]
    },
    {
     "name": "stderr",
     "output_type": "stream",
     "text": [
      "C:\\Users\\Aaron\\AppData\\Roaming\\Python\\Python311\\site-packages\\skopt\\optimizer\\optimizer.py:517: UserWarning: The objective has been evaluated at point [146, 'distance', 'ball_tree', 'l1', 'none'] before, using random point [79, 'uniform', 'kd_tree', 'manhattan', 'none']\n",
      "  warnings.warn(\n"
     ]
    },
    {
     "name": "stdout",
     "output_type": "stream",
     "text": [
      "================\n",
      "Configuration:\n",
      "K: 79\n",
      "Weights: uniform\n",
      "Algorithm: kd_tree\n",
      "Distance Metric: manhattan\n",
      "Oversampling Method: none\n",
      "----------------\n",
      "Results: -0.8646667771169362\n",
      "================\n"
     ]
    },
    {
     "name": "stderr",
     "output_type": "stream",
     "text": [
      "C:\\Users\\Aaron\\AppData\\Roaming\\Python\\Python311\\site-packages\\skopt\\optimizer\\optimizer.py:517: UserWarning: The objective has been evaluated at point [144, 'distance', 'ball_tree', 'l1', 'none'] before, using random point [178, 'uniform', 'auto', 'l1', 'none']\n",
      "  warnings.warn(\n"
     ]
    },
    {
     "name": "stdout",
     "output_type": "stream",
     "text": [
      "================\n",
      "Configuration:\n",
      "K: 178\n",
      "Weights: uniform\n",
      "Algorithm: auto\n",
      "Distance Metric: l1\n",
      "Oversampling Method: none\n",
      "----------------\n",
      "Results: -0.8473479815595297\n",
      "================\n"
     ]
    },
    {
     "name": "stderr",
     "output_type": "stream",
     "text": [
      "C:\\Users\\Aaron\\AppData\\Roaming\\Python\\Python311\\site-packages\\skopt\\optimizer\\optimizer.py:517: UserWarning: The objective has been evaluated at point [145, 'distance', 'ball_tree', 'l1', 'none'] before, using random point [213, 'distance', 'ball_tree', 'cityblock', 'ada']\n",
      "  warnings.warn(\n"
     ]
    },
    {
     "name": "stdout",
     "output_type": "stream",
     "text": [
      "================\n",
      "Configuration:\n",
      "K: 213\n",
      "Weights: distance\n",
      "Algorithm: ball_tree\n",
      "Distance Metric: cityblock\n",
      "Oversampling Method: ada\n",
      "----------------\n",
      "Results: -0.8882563027724512\n",
      "================\n"
     ]
    },
    {
     "name": "stderr",
     "output_type": "stream",
     "text": [
      "C:\\Users\\Aaron\\AppData\\Roaming\\Python\\Python311\\site-packages\\skopt\\optimizer\\optimizer.py:517: UserWarning: The objective has been evaluated at point [144, 'distance', 'ball_tree', 'l1', 'none'] before, using random point [135, 'distance', 'auto', 'cosine', 'ada']\n",
      "  warnings.warn(\n"
     ]
    },
    {
     "name": "stdout",
     "output_type": "stream",
     "text": [
      "================\n",
      "Configuration:\n",
      "K: 135\n",
      "Weights: distance\n",
      "Algorithm: auto\n",
      "Distance Metric: cosine\n",
      "Oversampling Method: ada\n",
      "----------------\n",
      "Results: -0.9287649305469058\n",
      "================\n"
     ]
    },
    {
     "name": "stderr",
     "output_type": "stream",
     "text": [
      "C:\\Users\\Aaron\\AppData\\Roaming\\Python\\Python311\\site-packages\\skopt\\optimizer\\optimizer.py:517: UserWarning: The objective has been evaluated at point [144, 'distance', 'ball_tree', 'l1', 'none'] before, using random point [138, 'uniform', 'auto', 'l1', 'none']\n",
      "  warnings.warn(\n"
     ]
    },
    {
     "name": "stdout",
     "output_type": "stream",
     "text": [
      "================\n",
      "Configuration:\n",
      "K: 138\n",
      "Weights: uniform\n",
      "Algorithm: auto\n",
      "Distance Metric: l1\n",
      "Oversampling Method: none\n",
      "----------------\n",
      "Results: -0.8520734385522116\n",
      "================\n",
      "================\n",
      "Configuration:\n",
      "K: 138\n",
      "Weights: distance\n",
      "Algorithm: ball_tree\n",
      "Distance Metric: l1\n",
      "Oversampling Method: none\n",
      "----------------\n",
      "Results: -0.8962437938347051\n",
      "================\n",
      "================\n",
      "Configuration:\n",
      "K: 142\n",
      "Weights: distance\n",
      "Algorithm: ball_tree\n",
      "Distance Metric: l1\n",
      "Oversampling Method: none\n",
      "----------------\n",
      "Results: -0.8957118652107475\n",
      "================\n"
     ]
    },
    {
     "name": "stderr",
     "output_type": "stream",
     "text": [
      "C:\\Users\\Aaron\\AppData\\Roaming\\Python\\Python311\\site-packages\\skopt\\optimizer\\optimizer.py:517: UserWarning: The objective has been evaluated at point [146, 'distance', 'ball_tree', 'l1', 'none'] before, using random point [245, 'distance', 'kd_tree', 'l1', 'ada']\n",
      "  warnings.warn(\n"
     ]
    },
    {
     "name": "stdout",
     "output_type": "stream",
     "text": [
      "================\n",
      "Configuration:\n",
      "K: 245\n",
      "Weights: distance\n",
      "Algorithm: kd_tree\n",
      "Distance Metric: l1\n",
      "Oversampling Method: ada\n",
      "----------------\n",
      "Results: -0.8858447024507786\n",
      "================\n"
     ]
    },
    {
     "name": "stderr",
     "output_type": "stream",
     "text": [
      "C:\\Users\\Aaron\\AppData\\Roaming\\Python\\Python311\\site-packages\\skopt\\optimizer\\optimizer.py:517: UserWarning: The objective has been evaluated at point [146, 'distance', 'ball_tree', 'l1', 'none'] before, using random point [262, 'uniform', 'auto', 'cosine', 'ada']\n",
      "  warnings.warn(\n"
     ]
    },
    {
     "name": "stdout",
     "output_type": "stream",
     "text": [
      "================\n",
      "Configuration:\n",
      "K: 262\n",
      "Weights: uniform\n",
      "Algorithm: auto\n",
      "Distance Metric: cosine\n",
      "Oversampling Method: ada\n",
      "----------------\n",
      "Results: -0.8305372595016118\n",
      "================\n",
      "================\n",
      "Configuration:\n",
      "K: 147\n",
      "Weights: distance\n",
      "Algorithm: ball_tree\n",
      "Distance Metric: l1\n",
      "Oversampling Method: none\n",
      "----------------\n",
      "Results: -0.8950551104669374\n",
      "================\n"
     ]
    },
    {
     "name": "stderr",
     "output_type": "stream",
     "text": [
      "C:\\Users\\Aaron\\AppData\\Roaming\\Python\\Python311\\site-packages\\skopt\\optimizer\\optimizer.py:517: UserWarning: The objective has been evaluated at point [147, 'distance', 'ball_tree', 'l1', 'none'] before, using random point [303, 'distance', 'ball_tree', 'nan_euclidean', 'ada']\n",
      "  warnings.warn(\n"
     ]
    },
    {
     "name": "stdout",
     "output_type": "stream",
     "text": [
      "================\n",
      "Configuration:\n",
      "K: 303\n",
      "Weights: distance\n",
      "Algorithm: ball_tree\n",
      "Distance Metric: nan_euclidean\n",
      "Oversampling Method: ada\n",
      "----------------\n",
      "Invalid Config\n"
     ]
    },
    {
     "name": "stderr",
     "output_type": "stream",
     "text": [
      "C:\\Users\\Aaron\\AppData\\Roaming\\Python\\Python311\\site-packages\\skopt\\optimizer\\optimizer.py:517: UserWarning: The objective has been evaluated at point [147, 'distance', 'ball_tree', 'l1', 'none'] before, using random point [130, 'distance', 'kd_tree', 'manhattan', 'none']\n",
      "  warnings.warn(\n"
     ]
    },
    {
     "name": "stdout",
     "output_type": "stream",
     "text": [
      "================\n",
      "Configuration:\n",
      "K: 130\n",
      "Weights: distance\n",
      "Algorithm: kd_tree\n",
      "Distance Metric: manhattan\n",
      "Oversampling Method: none\n",
      "----------------\n",
      "Results: -0.8972997469898653\n",
      "================\n"
     ]
    },
    {
     "name": "stderr",
     "output_type": "stream",
     "text": [
      "C:\\Users\\Aaron\\AppData\\Roaming\\Python\\Python311\\site-packages\\skopt\\optimizer\\optimizer.py:517: UserWarning: The objective has been evaluated at point [147, 'distance', 'ball_tree', 'l1', 'none'] before, using random point [303, 'distance', 'ball_tree', 'euclidean', 'ada']\n",
      "  warnings.warn(\n"
     ]
    },
    {
     "name": "stdout",
     "output_type": "stream",
     "text": [
      "================\n",
      "Configuration:\n",
      "K: 303\n",
      "Weights: distance\n",
      "Algorithm: ball_tree\n",
      "Distance Metric: euclidean\n",
      "Oversampling Method: ada\n",
      "----------------\n",
      "Results: -0.8712160128775897\n",
      "================\n"
     ]
    },
    {
     "name": "stderr",
     "output_type": "stream",
     "text": [
      "C:\\Users\\Aaron\\AppData\\Roaming\\Python\\Python311\\site-packages\\skopt\\optimizer\\optimizer.py:517: UserWarning: The objective has been evaluated at point [149, 'distance', 'ball_tree', 'l1', 'none'] before, using random point [144, 'uniform', 'ball_tree', 'cityblock', 'ada']\n",
      "  warnings.warn(\n"
     ]
    },
    {
     "name": "stdout",
     "output_type": "stream",
     "text": [
      "================\n",
      "Configuration:\n",
      "K: 144\n",
      "Weights: uniform\n",
      "Algorithm: ball_tree\n",
      "Distance Metric: cityblock\n",
      "Oversampling Method: ada\n",
      "----------------\n",
      "Results: -0.8512757844341307\n",
      "================\n"
     ]
    },
    {
     "name": "stderr",
     "output_type": "stream",
     "text": [
      "C:\\Users\\Aaron\\AppData\\Roaming\\Python\\Python311\\site-packages\\skopt\\optimizer\\optimizer.py:517: UserWarning: The objective has been evaluated at point [151, 'uniform', 'auto', 'l1', 'ada'] before, using random point [217, 'distance', 'ball_tree', 'euclidean', 'ada']\n",
      "  warnings.warn(\n"
     ]
    },
    {
     "name": "stdout",
     "output_type": "stream",
     "text": [
      "================\n",
      "Configuration:\n",
      "K: 217\n",
      "Weights: distance\n",
      "Algorithm: ball_tree\n",
      "Distance Metric: euclidean\n",
      "Oversampling Method: ada\n",
      "----------------\n",
      "Results: -0.8776196988972219\n",
      "================\n",
      "================\n",
      "Configuration:\n",
      "K: 152\n",
      "Weights: uniform\n",
      "Algorithm: auto\n",
      "Distance Metric: l1\n",
      "Oversampling Method: ada\n",
      "----------------\n",
      "Results: -0.8502072602375907\n",
      "================\n"
     ]
    },
    {
     "name": "stderr",
     "output_type": "stream",
     "text": [
      "C:\\Users\\Aaron\\AppData\\Roaming\\Python\\Python311\\site-packages\\skopt\\optimizer\\optimizer.py:517: UserWarning: The objective has been evaluated at point [151, 'uniform', 'auto', 'l1', 'ada'] before, using random point [226, 'uniform', 'ball_tree', 'l1', 'ada']\n",
      "  warnings.warn(\n"
     ]
    },
    {
     "name": "stdout",
     "output_type": "stream",
     "text": [
      "================\n",
      "Configuration:\n",
      "K: 226\n",
      "Weights: uniform\n",
      "Algorithm: ball_tree\n",
      "Distance Metric: l1\n",
      "Oversampling Method: ada\n",
      "----------------\n",
      "Results: -0.8441464047381668\n",
      "================\n"
     ]
    },
    {
     "name": "stderr",
     "output_type": "stream",
     "text": [
      "C:\\Users\\Aaron\\AppData\\Roaming\\Python\\Python311\\site-packages\\skopt\\optimizer\\optimizer.py:517: UserWarning: The objective has been evaluated at point [152, 'uniform', 'auto', 'l1', 'ada'] before, using random point [229, 'uniform', 'kd_tree', 'l1', 'none']\n",
      "  warnings.warn(\n"
     ]
    },
    {
     "name": "stdout",
     "output_type": "stream",
     "text": [
      "================\n",
      "Configuration:\n",
      "K: 229\n",
      "Weights: uniform\n",
      "Algorithm: kd_tree\n",
      "Distance Metric: l1\n",
      "Oversampling Method: none\n",
      "----------------\n",
      "Results: -0.8440031267463891\n",
      "================\n"
     ]
    },
    {
     "name": "stderr",
     "output_type": "stream",
     "text": [
      "C:\\Users\\Aaron\\AppData\\Roaming\\Python\\Python311\\site-packages\\skopt\\optimizer\\optimizer.py:517: UserWarning: The objective has been evaluated at point [151, 'uniform', 'auto', 'l1', 'ada'] before, using random point [275, 'uniform', 'kd_tree', 'l2', 'ada']\n",
      "  warnings.warn(\n"
     ]
    },
    {
     "name": "stdout",
     "output_type": "stream",
     "text": [
      "================\n",
      "Configuration:\n",
      "K: 275\n",
      "Weights: uniform\n",
      "Algorithm: kd_tree\n",
      "Distance Metric: l2\n",
      "Oversampling Method: ada\n",
      "----------------\n",
      "Results: -0.832114256898711\n",
      "================\n",
      "================\n",
      "Configuration:\n",
      "K: 138\n",
      "Weights: distance\n",
      "Algorithm: auto\n",
      "Distance Metric: manhattan\n",
      "Oversampling Method: none\n",
      "----------------\n",
      "Results: -0.896243557817557\n",
      "================\n",
      "================\n",
      "Configuration:\n",
      "K: 150\n",
      "Weights: distance\n",
      "Algorithm: auto\n",
      "Distance Metric: l2\n",
      "Oversampling Method: ada\n",
      "----------------\n",
      "Results: -0.8846905579297802\n",
      "================\n",
      "================\n",
      "Configuration:\n",
      "K: 162\n",
      "Weights: distance\n",
      "Algorithm: auto\n",
      "Distance Metric: cosine\n",
      "Oversampling Method: ada\n",
      "----------------\n",
      "Results: -0.9271650518931566\n",
      "================\n",
      "================\n",
      "Configuration:\n",
      "K: 161\n",
      "Weights: distance\n",
      "Algorithm: auto\n",
      "Distance Metric: cosine\n",
      "Oversampling Method: ada\n",
      "----------------\n",
      "Results: -0.927213603030235\n",
      "================\n",
      "================\n",
      "Configuration:\n",
      "K: 166\n",
      "Weights: distance\n",
      "Algorithm: auto\n",
      "Distance Metric: cosine\n",
      "Oversampling Method: ada\n",
      "----------------\n",
      "Results: -0.9269543373419453\n",
      "================\n"
     ]
    },
    {
     "name": "stderr",
     "output_type": "stream",
     "text": [
      "C:\\Users\\Aaron\\AppData\\Roaming\\Python\\Python311\\site-packages\\skopt\\optimizer\\optimizer.py:517: UserWarning: The objective has been evaluated at point [162, 'distance', 'auto', 'cosine', 'ada'] before, using random point [23, 'distance', 'ball_tree', 'cosine', 'ada']\n",
      "  warnings.warn(\n"
     ]
    },
    {
     "name": "stdout",
     "output_type": "stream",
     "text": [
      "================\n",
      "Configuration:\n",
      "K: 23\n",
      "Weights: distance\n",
      "Algorithm: ball_tree\n",
      "Distance Metric: cosine\n",
      "Oversampling Method: ada\n",
      "----------------\n",
      "Invalid Config\n",
      "================\n",
      "Configuration:\n",
      "K: 319\n",
      "Weights: uniform\n",
      "Algorithm: auto\n",
      "Distance Metric: nan_euclidean\n",
      "Oversampling Method: ada\n",
      "----------------\n",
      "Results: -0.8302291576961358\n",
      "================\n"
     ]
    },
    {
     "name": "stderr",
     "output_type": "stream",
     "text": [
      "C:\\Users\\Aaron\\AppData\\Roaming\\Python\\Python311\\site-packages\\skopt\\optimizer\\optimizer.py:517: UserWarning: The objective has been evaluated at point [162, 'distance', 'auto', 'cosine', 'ada'] before, using random point [157, 'uniform', 'kd_tree', 'cosine', 'none']\n",
      "  warnings.warn(\n"
     ]
    },
    {
     "name": "stdout",
     "output_type": "stream",
     "text": [
      "================\n",
      "Configuration:\n",
      "K: 157\n",
      "Weights: uniform\n",
      "Algorithm: kd_tree\n",
      "Distance Metric: cosine\n",
      "Oversampling Method: none\n",
      "----------------\n",
      "Invalid Config\n",
      "================\n",
      "Configuration:\n",
      "K: 151\n",
      "Weights: distance\n",
      "Algorithm: ball_tree\n",
      "Distance Metric: cityblock\n",
      "Oversampling Method: none\n",
      "----------------\n",
      "Results: -0.8945457585418234\n",
      "================\n",
      "================\n",
      "Configuration:\n",
      "K: 155\n",
      "Weights: distance\n",
      "Algorithm: ball_tree\n",
      "Distance Metric: l1\n",
      "Oversampling Method: none\n",
      "----------------\n",
      "Results: -0.8940850372780776\n",
      "================\n"
     ]
    },
    {
     "name": "stderr",
     "output_type": "stream",
     "text": [
      "C:\\Users\\Aaron\\AppData\\Roaming\\Python\\Python311\\site-packages\\skopt\\optimizer\\optimizer.py:517: UserWarning: The objective has been evaluated at point [155, 'distance', 'ball_tree', 'l1', 'none'] before, using random point [22, 'distance', 'kd_tree', 'l1', 'none']\n",
      "  warnings.warn(\n"
     ]
    },
    {
     "name": "stdout",
     "output_type": "stream",
     "text": [
      "================\n",
      "Configuration:\n",
      "K: 22\n",
      "Weights: distance\n",
      "Algorithm: kd_tree\n",
      "Distance Metric: l1\n",
      "Oversampling Method: none\n",
      "----------------\n",
      "Results: -0.9313872255236451\n",
      "================\n",
      "================\n",
      "Configuration:\n",
      "K: 153\n",
      "Weights: distance\n",
      "Algorithm: ball_tree\n",
      "Distance Metric: l1\n",
      "Oversampling Method: none\n",
      "----------------\n",
      "Results: -0.8942994981200462\n",
      "================\n",
      "================\n",
      "Configuration:\n",
      "K: 2\n",
      "Weights: uniform\n",
      "Algorithm: auto\n",
      "Distance Metric: nan_euclidean\n",
      "Oversampling Method: none\n",
      "----------------\n",
      "Results: -0.9166116123708511\n",
      "================\n",
      "================\n",
      "Configuration:\n",
      "K: 159\n",
      "Weights: uniform\n",
      "Algorithm: auto\n",
      "Distance Metric: nan_euclidean\n",
      "Oversampling Method: none\n",
      "----------------\n",
      "Results: -0.8406439547168878\n",
      "================\n",
      "================\n",
      "Configuration:\n",
      "K: 2\n",
      "Weights: uniform\n",
      "Algorithm: auto\n",
      "Distance Metric: cosine\n",
      "Oversampling Method: none\n",
      "----------------\n",
      "Results: -0.9151987427751647\n",
      "================\n",
      "================\n",
      "Configuration:\n",
      "K: 152\n",
      "Weights: distance\n",
      "Algorithm: auto\n",
      "Distance Metric: cosine\n",
      "Oversampling Method: ada\n",
      "----------------\n",
      "Results: -0.9277026131370434\n",
      "================\n"
     ]
    },
    {
     "name": "stderr",
     "output_type": "stream",
     "text": [
      "C:\\Users\\Aaron\\AppData\\Roaming\\Python\\Python311\\site-packages\\skopt\\optimizer\\optimizer.py:517: UserWarning: The objective has been evaluated at point [152, 'distance', 'auto', 'cosine', 'ada'] before, using random point [239, 'uniform', 'ball_tree', 'l1', 'none']\n",
      "  warnings.warn(\n"
     ]
    },
    {
     "name": "stdout",
     "output_type": "stream",
     "text": [
      "================\n",
      "Configuration:\n",
      "K: 239\n",
      "Weights: uniform\n",
      "Algorithm: ball_tree\n",
      "Distance Metric: l1\n",
      "Oversampling Method: none\n",
      "----------------\n",
      "Results: -0.8435389241170798\n",
      "================\n"
     ]
    },
    {
     "name": "stderr",
     "output_type": "stream",
     "text": [
      "C:\\Users\\Aaron\\AppData\\Roaming\\Python\\Python311\\site-packages\\skopt\\optimizer\\optimizer.py:517: UserWarning: The objective has been evaluated at point [152, 'distance', 'auto', 'cosine', 'ada'] before, using random point [7, 'uniform', 'ball_tree', 'manhattan', 'ada']\n",
      "  warnings.warn(\n"
     ]
    },
    {
     "name": "stdout",
     "output_type": "stream",
     "text": [
      "================\n",
      "Configuration:\n",
      "K: 7\n",
      "Weights: uniform\n",
      "Algorithm: ball_tree\n",
      "Distance Metric: manhattan\n",
      "Oversampling Method: ada\n",
      "----------------\n",
      "Results: -0.9262181607320418\n",
      "================\n",
      "================\n",
      "Configuration:\n",
      "K: 154\n",
      "Weights: distance\n",
      "Algorithm: kd_tree\n",
      "Distance Metric: l1\n",
      "Oversampling Method: none\n",
      "----------------\n",
      "Results: -0.8941914765181074\n",
      "================\n",
      "================\n",
      "Configuration:\n",
      "K: 319\n",
      "Weights: uniform\n",
      "Algorithm: auto\n",
      "Distance Metric: cosine\n",
      "Oversampling Method: none\n",
      "----------------\n",
      "Results: -0.8279211410414148\n",
      "================\n"
     ]
    },
    {
     "name": "stderr",
     "output_type": "stream",
     "text": [
      "C:\\Users\\Aaron\\AppData\\Roaming\\Python\\Python311\\site-packages\\skopt\\optimizer\\optimizer.py:517: UserWarning: The objective has been evaluated at point [152, 'distance', 'auto', 'cosine', 'ada'] before, using random point [157, 'distance', 'kd_tree', 'nan_euclidean', 'ada']\n",
      "  warnings.warn(\n"
     ]
    },
    {
     "name": "stdout",
     "output_type": "stream",
     "text": [
      "================\n",
      "Configuration:\n",
      "K: 157\n",
      "Weights: distance\n",
      "Algorithm: kd_tree\n",
      "Distance Metric: nan_euclidean\n",
      "Oversampling Method: ada\n",
      "----------------\n",
      "Invalid Config\n",
      "================\n",
      "Configuration:\n",
      "K: 160\n",
      "Weights: distance\n",
      "Algorithm: auto\n",
      "Distance Metric: cosine\n",
      "Oversampling Method: ada\n",
      "----------------\n",
      "Results: -0.9272648384910954\n",
      "================\n"
     ]
    },
    {
     "name": "stderr",
     "output_type": "stream",
     "text": [
      "C:\\Users\\Aaron\\AppData\\Roaming\\Python\\Python311\\site-packages\\skopt\\optimizer\\optimizer.py:517: UserWarning: The objective has been evaluated at point [160, 'distance', 'auto', 'cosine', 'ada'] before, using random point [201, 'uniform', 'auto', 'cosine', 'none']\n",
      "  warnings.warn(\n"
     ]
    },
    {
     "name": "stdout",
     "output_type": "stream",
     "text": [
      "================\n",
      "Configuration:\n",
      "K: 201\n",
      "Weights: uniform\n",
      "Algorithm: auto\n",
      "Distance Metric: cosine\n",
      "Oversampling Method: none\n",
      "----------------\n",
      "Results: -0.8346563057693733\n",
      "================\n",
      "================\n",
      "Configuration:\n",
      "K: 152\n",
      "Weights: distance\n",
      "Algorithm: ball_tree\n",
      "Distance Metric: l1\n",
      "Oversampling Method: none\n",
      "----------------\n",
      "Results: -0.8944178756733452\n",
      "================\n"
     ]
    },
    {
     "name": "stderr",
     "output_type": "stream",
     "text": [
      "C:\\Users\\Aaron\\AppData\\Roaming\\Python\\Python311\\site-packages\\skopt\\optimizer\\optimizer.py:517: UserWarning: The objective has been evaluated at point [152, 'distance', 'ball_tree', 'l1', 'none'] before, using random point [290, 'distance', 'kd_tree', 'l2', 'ada']\n",
      "  warnings.warn(\n"
     ]
    },
    {
     "name": "stdout",
     "output_type": "stream",
     "text": [
      "================\n",
      "Configuration:\n",
      "K: 290\n",
      "Weights: distance\n",
      "Algorithm: kd_tree\n",
      "Distance Metric: l2\n",
      "Oversampling Method: ada\n",
      "----------------\n",
      "Results: -0.8720433809889983\n",
      "================\n"
     ]
    },
    {
     "name": "stderr",
     "output_type": "stream",
     "text": [
      "C:\\Users\\Aaron\\AppData\\Roaming\\Python\\Python311\\site-packages\\skopt\\optimizer\\optimizer.py:517: UserWarning: The objective has been evaluated at point [154, 'distance', 'ball_tree', 'l1', 'none'] before, using random point [112, 'distance', 'ball_tree', 'manhattan', 'ada']\n",
      "  warnings.warn(\n"
     ]
    },
    {
     "name": "stdout",
     "output_type": "stream",
     "text": [
      "================\n",
      "Configuration:\n",
      "K: 112\n",
      "Weights: distance\n",
      "Algorithm: ball_tree\n",
      "Distance Metric: manhattan\n",
      "Oversampling Method: ada\n",
      "----------------\n",
      "Results: -0.900159381564701\n",
      "================\n"
     ]
    },
    {
     "name": "stderr",
     "output_type": "stream",
     "text": [
      "C:\\Users\\Aaron\\AppData\\Roaming\\Python\\Python311\\site-packages\\skopt\\optimizer\\optimizer.py:517: UserWarning: The objective has been evaluated at point [153, 'distance', 'ball_tree', 'l1', 'none'] before, using random point [315, 'uniform', 'ball_tree', 'cityblock', 'none']\n",
      "  warnings.warn(\n"
     ]
    },
    {
     "name": "stdout",
     "output_type": "stream",
     "text": [
      "================\n",
      "Configuration:\n",
      "K: 315\n",
      "Weights: uniform\n",
      "Algorithm: ball_tree\n",
      "Distance Metric: cityblock\n",
      "Oversampling Method: none\n",
      "----------------\n",
      "Results: -0.8404546803694547\n",
      "================\n"
     ]
    },
    {
     "name": "stderr",
     "output_type": "stream",
     "text": [
      "C:\\Users\\Aaron\\AppData\\Roaming\\Python\\Python311\\site-packages\\skopt\\optimizer\\optimizer.py:517: UserWarning: The objective has been evaluated at point [155, 'distance', 'ball_tree', 'l1', 'none'] before, using random point [255, 'uniform', 'auto', 'euclidean', 'ada']\n",
      "  warnings.warn(\n"
     ]
    },
    {
     "name": "stdout",
     "output_type": "stream",
     "text": [
      "================\n",
      "Configuration:\n",
      "K: 255\n",
      "Weights: uniform\n",
      "Algorithm: auto\n",
      "Distance Metric: euclidean\n",
      "Oversampling Method: ada\n",
      "----------------\n",
      "Results: -0.8330558882429507\n",
      "================\n",
      "================\n",
      "Configuration:\n",
      "K: 3\n",
      "Weights: distance\n",
      "Algorithm: auto\n",
      "Distance Metric: nan_euclidean\n",
      "Oversampling Method: ada\n",
      "----------------\n",
      "Results: -0.9289730959663737\n",
      "================\n",
      "================\n",
      "Configuration:\n",
      "K: 151\n",
      "Weights: uniform\n",
      "Algorithm: auto\n",
      "Distance Metric: nan_euclidean\n",
      "Oversampling Method: none\n",
      "----------------\n",
      "Results: -0.841637944855458\n",
      "================\n",
      "================\n",
      "Configuration:\n",
      "K: 1\n",
      "Weights: distance\n",
      "Algorithm: auto\n",
      "Distance Metric: euclidean\n",
      "Oversampling Method: none\n",
      "----------------\n",
      "Results: -0.8965185372073904\n",
      "================\n"
     ]
    },
    {
     "name": "stderr",
     "output_type": "stream",
     "text": [
      "C:\\Users\\Aaron\\AppData\\Roaming\\Python\\Python311\\site-packages\\skopt\\optimizer\\optimizer.py:517: UserWarning: The objective has been evaluated at point [151, 'uniform', 'auto', 'nan_euclidean', 'none'] before, using random point [308, 'uniform', 'ball_tree', 'euclidean', 'none']\n",
      "  warnings.warn(\n"
     ]
    },
    {
     "name": "stdout",
     "output_type": "stream",
     "text": [
      "================\n",
      "Configuration:\n",
      "K: 308\n",
      "Weights: uniform\n",
      "Algorithm: ball_tree\n",
      "Distance Metric: euclidean\n",
      "Oversampling Method: none\n",
      "----------------\n",
      "Results: -0.8306741154714191\n",
      "================\n"
     ]
    },
    {
     "name": "stderr",
     "output_type": "stream",
     "text": [
      "C:\\Users\\Aaron\\AppData\\Roaming\\Python\\Python311\\site-packages\\skopt\\optimizer\\optimizer.py:517: UserWarning: The objective has been evaluated at point [151, 'uniform', 'auto', 'nan_euclidean', 'none'] before, using random point [161, 'distance', 'ball_tree', 'l2', 'ada']\n",
      "  warnings.warn(\n"
     ]
    },
    {
     "name": "stdout",
     "output_type": "stream",
     "text": [
      "================\n",
      "Configuration:\n",
      "K: 161\n",
      "Weights: distance\n",
      "Algorithm: ball_tree\n",
      "Distance Metric: l2\n",
      "Oversampling Method: ada\n",
      "----------------\n",
      "Results: -0.8833418906799508\n",
      "================\n",
      "================\n",
      "Configuration:\n",
      "K: 320\n",
      "Weights: uniform\n",
      "Algorithm: auto\n",
      "Distance Metric: cityblock\n",
      "Oversampling Method: none\n",
      "----------------\n",
      "Results: -0.8403153456865851\n",
      "================\n",
      "================\n",
      "Configuration:\n",
      "K: 320\n",
      "Weights: distance\n",
      "Algorithm: auto\n",
      "Distance Metric: manhattan\n",
      "Oversampling Method: ada\n",
      "----------------\n",
      "Results: -0.8811887982709328\n",
      "================\n"
     ]
    },
    {
     "name": "stderr",
     "output_type": "stream",
     "text": [
      "C:\\Users\\Aaron\\AppData\\Roaming\\Python\\Python311\\site-packages\\skopt\\optimizer\\optimizer.py:517: UserWarning: The objective has been evaluated at point [151, 'uniform', 'auto', 'nan_euclidean', 'none'] before, using random point [295, 'distance', 'auto', 'cosine', 'none']\n",
      "  warnings.warn(\n"
     ]
    },
    {
     "name": "stdout",
     "output_type": "stream",
     "text": [
      "================\n",
      "Configuration:\n",
      "K: 295\n",
      "Weights: distance\n",
      "Algorithm: auto\n",
      "Distance Metric: cosine\n",
      "Oversampling Method: none\n",
      "----------------\n",
      "Results: -0.9216514949988514\n",
      "================\n",
      "================\n",
      "Configuration:\n",
      "K: 150\n",
      "Weights: uniform\n",
      "Algorithm: auto\n",
      "Distance Metric: nan_euclidean\n",
      "Oversampling Method: none\n",
      "----------------\n",
      "Results: -0.8417499234475265\n",
      "================\n",
      "================\n",
      "Configuration:\n",
      "K: 1\n",
      "Weights: uniform\n",
      "Algorithm: ball_tree\n",
      "Distance Metric: l1\n",
      "Oversampling Method: ada\n",
      "----------------\n",
      "Results: -0.9041661900670556\n",
      "================\n"
     ]
    },
    {
     "name": "stderr",
     "output_type": "stream",
     "text": [
      "C:\\Users\\Aaron\\AppData\\Roaming\\Python\\Python311\\site-packages\\skopt\\optimizer\\optimizer.py:517: UserWarning: The objective has been evaluated at point [151, 'uniform', 'auto', 'nan_euclidean', 'none'] before, using random point [299, 'uniform', 'auto', 'cityblock', 'none']\n",
      "  warnings.warn(\n"
     ]
    },
    {
     "name": "stdout",
     "output_type": "stream",
     "text": [
      "================\n",
      "Configuration:\n",
      "K: 299\n",
      "Weights: uniform\n",
      "Algorithm: auto\n",
      "Distance Metric: cityblock\n",
      "Oversampling Method: none\n",
      "----------------\n",
      "Results: -0.8410645958985411\n",
      "================\n"
     ]
    },
    {
     "name": "stderr",
     "output_type": "stream",
     "text": [
      "C:\\Users\\Aaron\\AppData\\Roaming\\Python\\Python311\\site-packages\\skopt\\optimizer\\optimizer.py:517: UserWarning: The objective has been evaluated at point [150, 'uniform', 'auto', 'nan_euclidean', 'none'] before, using random point [304, 'distance', 'kd_tree', 'cosine', 'none']\n",
      "  warnings.warn(\n"
     ]
    },
    {
     "name": "stdout",
     "output_type": "stream",
     "text": [
      "================\n",
      "Configuration:\n",
      "K: 304\n",
      "Weights: distance\n",
      "Algorithm: kd_tree\n",
      "Distance Metric: cosine\n",
      "Oversampling Method: none\n",
      "----------------\n",
      "Invalid Config\n",
      "================\n",
      "Configuration:\n",
      "K: 318\n",
      "Weights: distance\n",
      "Algorithm: auto\n",
      "Distance Metric: nan_euclidean\n",
      "Oversampling Method: none\n",
      "----------------\n",
      "Results: -0.8702480064901076\n",
      "================\n",
      "================\n",
      "Configuration:\n",
      "K: 157\n",
      "Weights: distance\n",
      "Algorithm: auto\n",
      "Distance Metric: nan_euclidean\n",
      "Oversampling Method: none\n",
      "----------------\n",
      "Results: -0.8838425364016703\n",
      "================\n"
     ]
    },
    {
     "name": "stderr",
     "output_type": "stream",
     "text": [
      "C:\\Users\\Aaron\\AppData\\Roaming\\Python\\Python311\\site-packages\\skopt\\optimizer\\optimizer.py:517: UserWarning: The objective has been evaluated at point [157, 'distance', 'auto', 'nan_euclidean', 'none'] before, using random point [95, 'distance', 'kd_tree', 'manhattan', 'ada']\n",
      "  warnings.warn(\n"
     ]
    },
    {
     "name": "stdout",
     "output_type": "stream",
     "text": [
      "================\n",
      "Configuration:\n",
      "K: 95\n",
      "Weights: distance\n",
      "Algorithm: kd_tree\n",
      "Distance Metric: manhattan\n",
      "Oversampling Method: ada\n",
      "----------------\n",
      "Results: -0.903522739615882\n",
      "================\n",
      "================\n",
      "Configuration:\n",
      "K: 1\n",
      "Weights: uniform\n",
      "Algorithm: auto\n",
      "Distance Metric: l2\n",
      "Oversampling Method: ada\n",
      "----------------\n",
      "Results: -0.8965185372073904\n",
      "================\n"
     ]
    },
    {
     "name": "stderr",
     "output_type": "stream",
     "text": [
      "C:\\Users\\Aaron\\AppData\\Roaming\\Python\\Python311\\site-packages\\skopt\\optimizer\\optimizer.py:517: UserWarning: The objective has been evaluated at point [157, 'distance', 'auto', 'nan_euclidean', 'none'] before, using random point [267, 'uniform', 'kd_tree', 'cosine', 'ada']\n",
      "  warnings.warn(\n"
     ]
    },
    {
     "name": "stdout",
     "output_type": "stream",
     "text": [
      "================\n",
      "Configuration:\n",
      "K: 267\n",
      "Weights: uniform\n",
      "Algorithm: kd_tree\n",
      "Distance Metric: cosine\n",
      "Oversampling Method: ada\n",
      "----------------\n",
      "Invalid Config\n",
      "================\n",
      "Configuration:\n",
      "K: 17\n",
      "Weights: uniform\n",
      "Algorithm: auto\n",
      "Distance Metric: nan_euclidean\n",
      "Oversampling Method: ada\n",
      "----------------\n",
      "Results: -0.8954268946495688\n",
      "================\n",
      "================\n",
      "Configuration:\n",
      "K: 152\n",
      "Weights: uniform\n",
      "Algorithm: auto\n",
      "Distance Metric: nan_euclidean\n",
      "Oversampling Method: none\n",
      "----------------\n",
      "Results: -0.8415114870064234\n",
      "================\n",
      "================\n",
      "Configuration:\n",
      "K: 153\n",
      "Weights: uniform\n",
      "Algorithm: auto\n",
      "Distance Metric: nan_euclidean\n",
      "Oversampling Method: none\n",
      "----------------\n",
      "Results: -0.8413829044283\n",
      "================\n"
     ]
    },
    {
     "name": "stderr",
     "output_type": "stream",
     "text": [
      "C:\\Users\\Aaron\\AppData\\Roaming\\Python\\Python311\\site-packages\\skopt\\optimizer\\optimizer.py:517: UserWarning: The objective has been evaluated at point [152, 'uniform', 'auto', 'nan_euclidean', 'none'] before, using random point [175, 'uniform', 'ball_tree', 'l2', 'ada']\n",
      "  warnings.warn(\n"
     ]
    },
    {
     "name": "stdout",
     "output_type": "stream",
     "text": [
      "================\n",
      "Configuration:\n",
      "K: 175\n",
      "Weights: uniform\n",
      "Algorithm: ball_tree\n",
      "Distance Metric: l2\n",
      "Oversampling Method: ada\n",
      "----------------\n",
      "Results: -0.8389427625586726\n",
      "================\n"
     ]
    },
    {
     "name": "stderr",
     "output_type": "stream",
     "text": [
      "C:\\Users\\Aaron\\AppData\\Roaming\\Python\\Python311\\site-packages\\skopt\\optimizer\\optimizer.py:517: UserWarning: The objective has been evaluated at point [153, 'uniform', 'auto', 'nan_euclidean', 'none'] before, using random point [61, 'distance', 'kd_tree', 'manhattan', 'none']\n",
      "  warnings.warn(\n"
     ]
    },
    {
     "name": "stdout",
     "output_type": "stream",
     "text": [
      "================\n",
      "Configuration:\n",
      "K: 61\n",
      "Weights: distance\n",
      "Algorithm: kd_tree\n",
      "Distance Metric: manhattan\n",
      "Oversampling Method: none\n",
      "----------------\n",
      "Results: -0.9122663553951448\n",
      "================\n"
     ]
    },
    {
     "name": "stderr",
     "output_type": "stream",
     "text": [
      "C:\\Users\\Aaron\\AppData\\Roaming\\Python\\Python311\\site-packages\\skopt\\optimizer\\optimizer.py:517: UserWarning: The objective has been evaluated at point [152, 'uniform', 'auto', 'nan_euclidean', 'none'] before, using random point [225, 'uniform', 'auto', 'nan_euclidean', 'none']\n",
      "  warnings.warn(\n"
     ]
    },
    {
     "name": "stdout",
     "output_type": "stream",
     "text": [
      "================\n",
      "Configuration:\n",
      "K: 225\n",
      "Weights: uniform\n",
      "Algorithm: auto\n",
      "Distance Metric: nan_euclidean\n",
      "Oversampling Method: none\n",
      "----------------\n",
      "Results: -0.8347683187922487\n",
      "================\n"
     ]
    },
    {
     "name": "stderr",
     "output_type": "stream",
     "text": [
      "C:\\Users\\Aaron\\AppData\\Roaming\\Python\\Python311\\site-packages\\skopt\\optimizer\\optimizer.py:517: UserWarning: The objective has been evaluated at point [153, 'uniform', 'auto', 'nan_euclidean', 'none'] before, using random point [82, 'distance', 'auto', 'cosine', 'ada']\n",
      "  warnings.warn(\n"
     ]
    },
    {
     "name": "stdout",
     "output_type": "stream",
     "text": [
      "================\n",
      "Configuration:\n",
      "K: 82\n",
      "Weights: distance\n",
      "Algorithm: auto\n",
      "Distance Metric: cosine\n",
      "Oversampling Method: ada\n",
      "----------------\n",
      "Results: -0.9329910508905165\n",
      "================\n",
      "================\n",
      "Configuration:\n",
      "K: 154\n",
      "Weights: uniform\n",
      "Algorithm: auto\n",
      "Distance Metric: nan_euclidean\n",
      "Oversampling Method: none\n",
      "----------------\n",
      "Results: -0.8412487442587692\n",
      "================\n"
     ]
    },
    {
     "name": "stderr",
     "output_type": "stream",
     "text": [
      "C:\\Users\\Aaron\\AppData\\Roaming\\Python\\Python311\\site-packages\\skopt\\optimizer\\optimizer.py:517: UserWarning: The objective has been evaluated at point [153, 'uniform', 'auto', 'nan_euclidean', 'none'] before, using random point [209, 'distance', 'kd_tree', 'cosine', 'none']\n",
      "  warnings.warn(\n"
     ]
    },
    {
     "name": "stdout",
     "output_type": "stream",
     "text": [
      "================\n",
      "Configuration:\n",
      "K: 209\n",
      "Weights: distance\n",
      "Algorithm: kd_tree\n",
      "Distance Metric: cosine\n",
      "Oversampling Method: none\n",
      "----------------\n",
      "Invalid Config\n"
     ]
    },
    {
     "name": "stderr",
     "output_type": "stream",
     "text": [
      "C:\\Users\\Aaron\\AppData\\Roaming\\Python\\Python311\\site-packages\\skopt\\optimizer\\optimizer.py:517: UserWarning: The objective has been evaluated at point [154, 'uniform', 'auto', 'nan_euclidean', 'none'] before, using random point [200, 'uniform', 'ball_tree', 'cosine', 'none']\n",
      "  warnings.warn(\n"
     ]
    },
    {
     "name": "stdout",
     "output_type": "stream",
     "text": [
      "================\n",
      "Configuration:\n",
      "K: 200\n",
      "Weights: uniform\n",
      "Algorithm: ball_tree\n",
      "Distance Metric: cosine\n",
      "Oversampling Method: none\n",
      "----------------\n",
      "Invalid Config\n"
     ]
    },
    {
     "name": "stderr",
     "output_type": "stream",
     "text": [
      "C:\\Users\\Aaron\\AppData\\Roaming\\Python\\Python311\\site-packages\\skopt\\optimizer\\optimizer.py:517: UserWarning: The objective has been evaluated at point [154, 'uniform', 'auto', 'nan_euclidean', 'none'] before, using random point [66, 'distance', 'ball_tree', 'cosine', 'none']\n",
      "  warnings.warn(\n"
     ]
    },
    {
     "name": "stdout",
     "output_type": "stream",
     "text": [
      "================\n",
      "Configuration:\n",
      "K: 66\n",
      "Weights: distance\n",
      "Algorithm: ball_tree\n",
      "Distance Metric: cosine\n",
      "Oversampling Method: none\n",
      "----------------\n",
      "Invalid Config\n",
      "================\n",
      "Configuration:\n",
      "K: 155\n",
      "Weights: uniform\n",
      "Algorithm: auto\n",
      "Distance Metric: nan_euclidean\n",
      "Oversampling Method: none\n",
      "----------------\n",
      "Results: -0.841127655357066\n",
      "================\n"
     ]
    },
    {
     "name": "stderr",
     "output_type": "stream",
     "text": [
      "C:\\Users\\Aaron\\AppData\\Roaming\\Python\\Python311\\site-packages\\skopt\\optimizer\\optimizer.py:517: UserWarning: The objective has been evaluated at point [155, 'uniform', 'auto', 'nan_euclidean', 'none'] before, using random point [20, 'uniform', 'ball_tree', 'cityblock', 'none']\n",
      "  warnings.warn(\n"
     ]
    },
    {
     "name": "stdout",
     "output_type": "stream",
     "text": [
      "================\n",
      "Configuration:\n",
      "K: 20\n",
      "Weights: uniform\n",
      "Algorithm: ball_tree\n",
      "Distance Metric: cityblock\n",
      "Oversampling Method: none\n",
      "----------------\n",
      "Results: -0.9016805148116512\n",
      "================\n"
     ]
    },
    {
     "name": "stderr",
     "output_type": "stream",
     "text": [
      "C:\\Users\\Aaron\\AppData\\Roaming\\Python\\Python311\\site-packages\\skopt\\optimizer\\optimizer.py:517: UserWarning: The objective has been evaluated at point [155, 'uniform', 'auto', 'nan_euclidean', 'none'] before, using random point [236, 'distance', 'kd_tree', 'nan_euclidean', 'none']\n",
      "  warnings.warn(\n"
     ]
    },
    {
     "name": "stdout",
     "output_type": "stream",
     "text": [
      "================\n",
      "Configuration:\n",
      "K: 236\n",
      "Weights: distance\n",
      "Algorithm: kd_tree\n",
      "Distance Metric: nan_euclidean\n",
      "Oversampling Method: none\n",
      "----------------\n",
      "Invalid Config\n"
     ]
    },
    {
     "name": "stderr",
     "output_type": "stream",
     "text": [
      "C:\\Users\\Aaron\\AppData\\Roaming\\Python\\Python311\\site-packages\\skopt\\optimizer\\optimizer.py:517: UserWarning: The objective has been evaluated at point [155, 'uniform', 'auto', 'nan_euclidean', 'none'] before, using random point [3, 'uniform', 'auto', 'manhattan', 'ada']\n",
      "  warnings.warn(\n"
     ]
    },
    {
     "name": "stdout",
     "output_type": "stream",
     "text": [
      "================\n",
      "Configuration:\n",
      "K: 3\n",
      "Weights: uniform\n",
      "Algorithm: auto\n",
      "Distance Metric: manhattan\n",
      "Oversampling Method: ada\n",
      "----------------\n",
      "Results: -0.9304490760711817\n",
      "================\n"
     ]
    },
    {
     "name": "stderr",
     "output_type": "stream",
     "text": [
      "C:\\Users\\Aaron\\AppData\\Roaming\\Python\\Python311\\site-packages\\skopt\\optimizer\\optimizer.py:517: UserWarning: The objective has been evaluated at point [155, 'uniform', 'auto', 'nan_euclidean', 'none'] before, using random point [5, 'distance', 'ball_tree', 'nan_euclidean', 'none']\n",
      "  warnings.warn(\n"
     ]
    },
    {
     "name": "stdout",
     "output_type": "stream",
     "text": [
      "================\n",
      "Configuration:\n",
      "K: 5\n",
      "Weights: distance\n",
      "Algorithm: ball_tree\n",
      "Distance Metric: nan_euclidean\n",
      "Oversampling Method: none\n",
      "----------------\n",
      "Invalid Config\n"
     ]
    },
    {
     "name": "stderr",
     "output_type": "stream",
     "text": [
      "C:\\Users\\Aaron\\AppData\\Roaming\\Python\\Python311\\site-packages\\skopt\\optimizer\\optimizer.py:517: UserWarning: The objective has been evaluated at point [155, 'uniform', 'auto', 'nan_euclidean', 'none'] before, using random point [210, 'distance', 'ball_tree', 'cityblock', 'none']\n",
      "  warnings.warn(\n"
     ]
    },
    {
     "name": "stdout",
     "output_type": "stream",
     "text": [
      "================\n",
      "Configuration:\n",
      "K: 210\n",
      "Weights: distance\n",
      "Algorithm: ball_tree\n",
      "Distance Metric: cityblock\n",
      "Oversampling Method: none\n",
      "----------------\n",
      "Results: -0.8884943518258996\n",
      "================\n"
     ]
    },
    {
     "name": "stderr",
     "output_type": "stream",
     "text": [
      "C:\\Users\\Aaron\\AppData\\Roaming\\Python\\Python311\\site-packages\\skopt\\optimizer\\optimizer.py:517: UserWarning: The objective has been evaluated at point [155, 'uniform', 'auto', 'nan_euclidean', 'none'] before, using random point [243, 'distance', 'ball_tree', 'cosine', 'ada']\n",
      "  warnings.warn(\n"
     ]
    },
    {
     "name": "stdout",
     "output_type": "stream",
     "text": [
      "================\n",
      "Configuration:\n",
      "K: 243\n",
      "Weights: distance\n",
      "Algorithm: ball_tree\n",
      "Distance Metric: cosine\n",
      "Oversampling Method: ada\n",
      "----------------\n",
      "Invalid Config\n"
     ]
    },
    {
     "name": "stderr",
     "output_type": "stream",
     "text": [
      "C:\\Users\\Aaron\\AppData\\Roaming\\Python\\Python311\\site-packages\\skopt\\optimizer\\optimizer.py:517: UserWarning: The objective has been evaluated at point [155, 'uniform', 'auto', 'nan_euclidean', 'none'] before, using random point [66, 'uniform', 'auto', 'euclidean', 'none']\n",
      "  warnings.warn(\n"
     ]
    },
    {
     "name": "stdout",
     "output_type": "stream",
     "text": [
      "================\n",
      "Configuration:\n",
      "K: 66\n",
      "Weights: uniform\n",
      "Algorithm: auto\n",
      "Distance Metric: euclidean\n",
      "Oversampling Method: none\n",
      "----------------\n",
      "Results: -0.8590802469882926\n",
      "================\n"
     ]
    },
    {
     "name": "stderr",
     "output_type": "stream",
     "text": [
      "C:\\Users\\Aaron\\AppData\\Roaming\\Python\\Python311\\site-packages\\skopt\\optimizer\\optimizer.py:517: UserWarning: The objective has been evaluated at point [155, 'uniform', 'auto', 'nan_euclidean', 'none'] before, using random point [10, 'distance', 'auto', 'l2', 'none']\n",
      "  warnings.warn(\n"
     ]
    },
    {
     "name": "stdout",
     "output_type": "stream",
     "text": [
      "================\n",
      "Configuration:\n",
      "K: 10\n",
      "Weights: distance\n",
      "Algorithm: auto\n",
      "Distance Metric: l2\n",
      "Oversampling Method: none\n",
      "----------------\n",
      "Results: -0.9326009310158568\n",
      "================\n"
     ]
    },
    {
     "name": "stderr",
     "output_type": "stream",
     "text": [
      "C:\\Users\\Aaron\\AppData\\Roaming\\Python\\Python311\\site-packages\\skopt\\optimizer\\optimizer.py:517: UserWarning: The objective has been evaluated at point [155, 'uniform', 'auto', 'nan_euclidean', 'none'] before, using random point [88, 'uniform', 'kd_tree', 'nan_euclidean', 'none']\n",
      "  warnings.warn(\n"
     ]
    },
    {
     "name": "stdout",
     "output_type": "stream",
     "text": [
      "================\n",
      "Configuration:\n",
      "K: 88\n",
      "Weights: uniform\n",
      "Algorithm: kd_tree\n",
      "Distance Metric: nan_euclidean\n",
      "Oversampling Method: none\n",
      "----------------\n",
      "Invalid Config\n",
      "================\n",
      "Configuration:\n",
      "K: 29\n",
      "Weights: uniform\n",
      "Algorithm: auto\n",
      "Distance Metric: nan_euclidean\n",
      "Oversampling Method: ada\n",
      "----------------\n",
      "Results: -0.8803763078529777\n",
      "================\n",
      "================\n",
      "Configuration:\n",
      "K: 8\n",
      "Weights: uniform\n",
      "Algorithm: auto\n",
      "Distance Metric: cosine\n",
      "Oversampling Method: ada\n",
      "----------------\n",
      "Results: -0.9137167527844255\n",
      "================\n",
      "================\n",
      "Configuration:\n",
      "K: 2\n",
      "Weights: distance\n",
      "Algorithm: auto\n",
      "Distance Metric: cosine\n",
      "Oversampling Method: none\n",
      "----------------\n",
      "Results: -0.9191534713996866\n",
      "================\n",
      "================\n",
      "Configuration:\n",
      "K: 3\n",
      "Weights: distance\n",
      "Algorithm: auto\n",
      "Distance Metric: cityblock\n",
      "Oversampling Method: none\n",
      "----------------\n",
      "Results: -0.9376191348268196\n",
      "================\n",
      "================\n",
      "Configuration:\n",
      "K: 316\n",
      "Weights: distance\n",
      "Algorithm: auto\n",
      "Distance Metric: manhattan\n",
      "Oversampling Method: none\n",
      "----------------\n",
      "Results: -0.8814041523544152\n",
      "================\n",
      "================\n",
      "Configuration:\n",
      "K: 318\n",
      "Weights: uniform\n",
      "Algorithm: auto\n",
      "Distance Metric: nan_euclidean\n",
      "Oversampling Method: ada\n",
      "----------------\n",
      "Results: -0.8302716036377212\n",
      "================\n",
      "================\n",
      "Configuration:\n",
      "K: 157\n",
      "Weights: uniform\n",
      "Algorithm: auto\n",
      "Distance Metric: nan_euclidean\n",
      "Oversampling Method: none\n",
      "----------------\n",
      "Results: -0.8408979094626421\n",
      "================\n",
      "================\n",
      "Configuration:\n",
      "K: 2\n",
      "Weights: uniform\n",
      "Algorithm: auto\n",
      "Distance Metric: cosine\n",
      "Oversampling Method: ada\n",
      "----------------\n",
      "Results: -0.9151987427751647\n",
      "================\n",
      "================\n",
      "Configuration:\n",
      "K: 158\n",
      "Weights: uniform\n",
      "Algorithm: auto\n",
      "Distance Metric: nan_euclidean\n",
      "Oversampling Method: none\n",
      "----------------\n",
      "Results: -0.8407936215277872\n",
      "================\n",
      "================\n",
      "Configuration:\n",
      "K: 318\n",
      "Weights: uniform\n",
      "Algorithm: auto\n",
      "Distance Metric: cosine\n",
      "Oversampling Method: ada\n",
      "----------------\n",
      "Results: -0.8279521086157317\n",
      "================\n",
      "================\n",
      "Configuration:\n",
      "K: 2\n",
      "Weights: distance\n",
      "Algorithm: auto\n",
      "Distance Metric: nan_euclidean\n",
      "Oversampling Method: ada\n",
      "----------------\n",
      "Results: -0.9204694395890852\n",
      "================\n",
      "================\n",
      "Configuration:\n",
      "K: 1\n",
      "Weights: uniform\n",
      "Algorithm: kd_tree\n",
      "Distance Metric: euclidean\n",
      "Oversampling Method: ada\n",
      "----------------\n",
      "Results: -0.8965185372073904\n",
      "================\n",
      "================\n",
      "Configuration:\n",
      "K: 317\n",
      "Weights: distance\n",
      "Algorithm: auto\n",
      "Distance Metric: euclidean\n",
      "Oversampling Method: none\n",
      "----------------\n",
      "Results: -0.8703098167992271\n",
      "================\n",
      "================\n",
      "Configuration:\n",
      "K: 317\n",
      "Weights: uniform\n",
      "Algorithm: auto\n",
      "Distance Metric: manhattan\n",
      "Oversampling Method: none\n",
      "----------------\n",
      "Results: -0.8404116008624184\n",
      "================\n"
     ]
    },
    {
     "name": "stderr",
     "output_type": "stream",
     "text": [
      "C:\\Users\\Aaron\\AppData\\Roaming\\Python\\Python311\\site-packages\\skopt\\optimizer\\optimizer.py:517: UserWarning: The objective has been evaluated at point [152, 'uniform', 'auto', 'nan_euclidean', 'none'] before, using random point [246, 'uniform', 'auto', 'manhattan', 'none']\n",
      "  warnings.warn(\n"
     ]
    },
    {
     "name": "stdout",
     "output_type": "stream",
     "text": [
      "================\n",
      "Configuration:\n",
      "K: 246\n",
      "Weights: uniform\n",
      "Algorithm: auto\n",
      "Distance Metric: manhattan\n",
      "Oversampling Method: none\n",
      "----------------\n",
      "Results: -0.8431641920307653\n",
      "================\n",
      "================\n",
      "Configuration:\n",
      "K: 319\n",
      "Weights: distance\n",
      "Algorithm: auto\n",
      "Distance Metric: nan_euclidean\n",
      "Oversampling Method: ada\n",
      "----------------\n",
      "Results: -0.8701882250917615\n",
      "================\n"
     ]
    },
    {
     "name": "stderr",
     "output_type": "stream",
     "text": [
      "C:\\Users\\Aaron\\AppData\\Roaming\\Python\\Python311\\site-packages\\skopt\\optimizer\\optimizer.py:517: UserWarning: The objective has been evaluated at point [157, 'uniform', 'auto', 'nan_euclidean', 'none'] before, using random point [311, 'distance', 'ball_tree', 'l1', 'none']\n",
      "  warnings.warn(\n"
     ]
    },
    {
     "name": "stdout",
     "output_type": "stream",
     "text": [
      "================\n",
      "Configuration:\n",
      "K: 311\n",
      "Weights: distance\n",
      "Algorithm: ball_tree\n",
      "Distance Metric: l1\n",
      "Oversampling Method: none\n",
      "----------------\n",
      "Results: -0.8817021765767562\n",
      "================\n",
      "================\n",
      "Configuration:\n",
      "K: 2\n",
      "Weights: distance\n",
      "Algorithm: auto\n",
      "Distance Metric: nan_euclidean\n",
      "Oversampling Method: none\n",
      "----------------\n",
      "Results: -0.9204694395890852\n",
      "================\n",
      "================\n",
      "Configuration:\n",
      "K: 1\n",
      "Weights: distance\n",
      "Algorithm: auto\n",
      "Distance Metric: cityblock\n",
      "Oversampling Method: none\n",
      "----------------\n",
      "Results: -0.9041661900670556\n",
      "================\n"
     ]
    },
    {
     "name": "stderr",
     "output_type": "stream",
     "text": [
      "C:\\Users\\Aaron\\AppData\\Roaming\\Python\\Python311\\site-packages\\skopt\\optimizer\\optimizer.py:517: UserWarning: The objective has been evaluated at point [153, 'uniform', 'auto', 'nan_euclidean', 'none'] before, using random point [264, 'uniform', 'auto', 'cityblock', 'ada']\n",
      "  warnings.warn(\n"
     ]
    },
    {
     "name": "stdout",
     "output_type": "stream",
     "text": [
      "================\n",
      "Configuration:\n",
      "K: 264\n",
      "Weights: uniform\n",
      "Algorithm: auto\n",
      "Distance Metric: cityblock\n",
      "Oversampling Method: ada\n",
      "----------------\n",
      "Results: -0.8422968940346993\n",
      "================\n"
     ]
    },
    {
     "name": "stderr",
     "output_type": "stream",
     "text": [
      "C:\\Users\\Aaron\\AppData\\Roaming\\Python\\Python311\\site-packages\\skopt\\optimizer\\optimizer.py:517: UserWarning: The objective has been evaluated at point [152, 'uniform', 'auto', 'nan_euclidean', 'none'] before, using random point [177, 'distance', 'auto', 'nan_euclidean', 'ada']\n",
      "  warnings.warn(\n"
     ]
    },
    {
     "name": "stdout",
     "output_type": "stream",
     "text": [
      "================\n",
      "Configuration:\n",
      "K: 177\n",
      "Weights: distance\n",
      "Algorithm: auto\n",
      "Distance Metric: nan_euclidean\n",
      "Oversampling Method: ada\n",
      "----------------\n",
      "Results: -0.8815560814624851\n",
      "================\n",
      "================\n",
      "Configuration:\n",
      "K: 17\n",
      "Weights: uniform\n",
      "Algorithm: auto\n",
      "Distance Metric: cosine\n",
      "Oversampling Method: none\n",
      "----------------\n",
      "Results: -0.8952316004474673\n",
      "================\n",
      "================\n",
      "Configuration:\n",
      "K: 319\n",
      "Weights: distance\n",
      "Algorithm: auto\n",
      "Distance Metric: cosine\n",
      "Oversampling Method: none\n",
      "----------------\n",
      "Results: -0.9208651780972142\n",
      "================\n",
      "================\n",
      "Configuration:\n",
      "K: 320\n",
      "Weights: uniform\n",
      "Algorithm: kd_tree\n",
      "Distance Metric: l2\n",
      "Oversampling Method: none\n",
      "----------------\n",
      "Results: -0.8301937065445185\n",
      "================\n",
      "================\n",
      "Configuration:\n",
      "K: 3\n",
      "Weights: uniform\n",
      "Algorithm: auto\n",
      "Distance Metric: euclidean\n",
      "Oversampling Method: none\n",
      "----------------\n",
      "Results: -0.9218115786903968\n",
      "================\n"
     ]
    },
    {
     "name": "stderr",
     "output_type": "stream",
     "text": [
      "C:\\Users\\Aaron\\AppData\\Roaming\\Python\\Python311\\site-packages\\skopt\\optimizer\\optimizer.py:517: UserWarning: The objective has been evaluated at point [152, 'uniform', 'auto', 'nan_euclidean', 'none'] before, using random point [275, 'distance', 'auto', 'euclidean', 'ada']\n",
      "  warnings.warn(\n"
     ]
    },
    {
     "name": "stdout",
     "output_type": "stream",
     "text": [
      "================\n",
      "Configuration:\n",
      "K: 275\n",
      "Weights: distance\n",
      "Algorithm: auto\n",
      "Distance Metric: euclidean\n",
      "Oversampling Method: ada\n",
      "----------------\n",
      "Results: -0.8730834985468608\n",
      "================\n"
     ]
    },
    {
     "name": "stderr",
     "output_type": "stream",
     "text": [
      "C:\\Users\\Aaron\\AppData\\Roaming\\Python\\Python311\\site-packages\\skopt\\optimizer\\optimizer.py:517: UserWarning: The objective has been evaluated at point [153, 'uniform', 'auto', 'nan_euclidean', 'none'] before, using random point [95, 'uniform', 'kd_tree', 'l1', 'ada']\n",
      "  warnings.warn(\n"
     ]
    },
    {
     "name": "stdout",
     "output_type": "stream",
     "text": [
      "================\n",
      "Configuration:\n",
      "K: 95\n",
      "Weights: uniform\n",
      "Algorithm: kd_tree\n",
      "Distance Metric: l1\n",
      "Oversampling Method: ada\n",
      "----------------\n",
      "Results: -0.8602769270820785\n",
      "================\n",
      "================\n",
      "Configuration:\n",
      "K: 319\n",
      "Weights: uniform\n",
      "Algorithm: auto\n",
      "Distance Metric: cosine\n",
      "Oversampling Method: ada\n",
      "----------------\n",
      "Results: -0.8279211410414148\n",
      "================\n",
      "================\n",
      "Configuration:\n",
      "K: 1\n",
      "Weights: distance\n",
      "Algorithm: kd_tree\n",
      "Distance Metric: euclidean\n",
      "Oversampling Method: ada\n",
      "----------------\n",
      "Results: -0.8965185372073904\n",
      "================\n"
     ]
    },
    {
     "name": "stderr",
     "output_type": "stream",
     "text": [
      "C:\\Users\\Aaron\\AppData\\Roaming\\Python\\Python311\\site-packages\\skopt\\optimizer\\optimizer.py:517: UserWarning: The objective has been evaluated at point [153, 'uniform', 'auto', 'nan_euclidean', 'none'] before, using random point [80, 'uniform', 'ball_tree', 'manhattan', 'none']\n",
      "  warnings.warn(\n"
     ]
    },
    {
     "name": "stdout",
     "output_type": "stream",
     "text": [
      "================\n",
      "Configuration:\n",
      "K: 80\n",
      "Weights: uniform\n",
      "Algorithm: ball_tree\n",
      "Distance Metric: manhattan\n",
      "Oversampling Method: none\n",
      "----------------\n",
      "Results: -0.8643966079273969\n",
      "================\n"
     ]
    },
    {
     "name": "stderr",
     "output_type": "stream",
     "text": [
      "C:\\Users\\Aaron\\AppData\\Roaming\\Python\\Python311\\site-packages\\skopt\\optimizer\\optimizer.py:517: UserWarning: The objective has been evaluated at point [153, 'uniform', 'auto', 'nan_euclidean', 'none'] before, using random point [71, 'distance', 'ball_tree', 'nan_euclidean', 'ada']\n",
      "  warnings.warn(\n"
     ]
    },
    {
     "name": "stdout",
     "output_type": "stream",
     "text": [
      "================\n",
      "Configuration:\n",
      "K: 71\n",
      "Weights: distance\n",
      "Algorithm: ball_tree\n",
      "Distance Metric: nan_euclidean\n",
      "Oversampling Method: ada\n",
      "----------------\n",
      "Invalid Config\n",
      "================\n",
      "Configuration:\n",
      "K: 318\n",
      "Weights: distance\n",
      "Algorithm: auto\n",
      "Distance Metric: l2\n",
      "Oversampling Method: ada\n",
      "----------------\n",
      "Results: -0.8702480923667283\n",
      "================\n"
     ]
    },
    {
     "name": "stderr",
     "output_type": "stream",
     "text": [
      "C:\\Users\\Aaron\\AppData\\Roaming\\Python\\Python311\\site-packages\\skopt\\optimizer\\optimizer.py:517: UserWarning: The objective has been evaluated at point [153, 'uniform', 'auto', 'nan_euclidean', 'none'] before, using random point [66, 'uniform', 'kd_tree', 'manhattan', 'none']\n",
      "  warnings.warn(\n"
     ]
    },
    {
     "name": "stdout",
     "output_type": "stream",
     "text": [
      "================\n",
      "Configuration:\n",
      "K: 66\n",
      "Weights: uniform\n",
      "Algorithm: kd_tree\n",
      "Distance Metric: manhattan\n",
      "Oversampling Method: none\n",
      "----------------\n",
      "Results: -0.8689344731278247\n",
      "================\n",
      "================\n",
      "Configuration:\n",
      "K: 296\n",
      "Weights: uniform\n",
      "Algorithm: auto\n",
      "Distance Metric: cosine\n",
      "Oversampling Method: ada\n",
      "----------------\n",
      "Results: -0.8289161900585779\n",
      "================\n"
     ]
    },
    {
     "name": "stderr",
     "output_type": "stream",
     "text": [
      "C:\\Users\\Aaron\\AppData\\Roaming\\Python\\Python311\\site-packages\\skopt\\optimizer\\optimizer.py:517: UserWarning: The objective has been evaluated at point [150, 'uniform', 'auto', 'nan_euclidean', 'none'] before, using random point [3, 'distance', 'auto', 'l1', 'ada']\n",
      "  warnings.warn(\n"
     ]
    },
    {
     "name": "stdout",
     "output_type": "stream",
     "text": [
      "================\n",
      "Configuration:\n",
      "K: 3\n",
      "Weights: distance\n",
      "Algorithm: auto\n",
      "Distance Metric: l1\n",
      "Oversampling Method: ada\n",
      "----------------\n",
      "Results: -0.9376191348268196\n",
      "================\n",
      "================\n",
      "Configuration:\n",
      "K: 320\n",
      "Weights: uniform\n",
      "Algorithm: kd_tree\n",
      "Distance Metric: euclidean\n",
      "Oversampling Method: ada\n",
      "----------------\n",
      "Results: -0.8301937065445185\n",
      "================\n"
     ]
    },
    {
     "name": "stderr",
     "output_type": "stream",
     "text": [
      "C:\\Users\\Aaron\\AppData\\Roaming\\Python\\Python311\\site-packages\\skopt\\optimizer\\optimizer.py:517: UserWarning: The objective has been evaluated at point [153, 'uniform', 'auto', 'nan_euclidean', 'none'] before, using random point [223, 'distance', 'auto', 'cosine', 'ada']\n",
      "  warnings.warn(\n"
     ]
    },
    {
     "name": "stdout",
     "output_type": "stream",
     "text": [
      "================\n",
      "Configuration:\n",
      "K: 223\n",
      "Weights: distance\n",
      "Algorithm: auto\n",
      "Distance Metric: cosine\n",
      "Oversampling Method: ada\n",
      "----------------\n",
      "Results: -0.9242970185237614\n",
      "================\n"
     ]
    },
    {
     "name": "stderr",
     "output_type": "stream",
     "text": [
      "C:\\Users\\Aaron\\AppData\\Roaming\\Python\\Python311\\site-packages\\skopt\\optimizer\\optimizer.py:517: UserWarning: The objective has been evaluated at point [153, 'uniform', 'auto', 'nan_euclidean', 'none'] before, using random point [24, 'distance', 'auto', 'cityblock', 'none']\n",
      "  warnings.warn(\n"
     ]
    },
    {
     "name": "stdout",
     "output_type": "stream",
     "text": [
      "================\n",
      "Configuration:\n",
      "K: 24\n",
      "Weights: distance\n",
      "Algorithm: auto\n",
      "Distance Metric: cityblock\n",
      "Oversampling Method: none\n",
      "----------------\n",
      "Results: -0.9298892684421839\n",
      "================\n"
     ]
    },
    {
     "name": "stderr",
     "output_type": "stream",
     "text": [
      "C:\\Users\\Aaron\\AppData\\Roaming\\Python\\Python311\\site-packages\\skopt\\optimizer\\optimizer.py:517: UserWarning: The objective has been evaluated at point [153, 'uniform', 'auto', 'nan_euclidean', 'none'] before, using random point [95, 'uniform', 'auto', 'cityblock', 'none']\n",
      "  warnings.warn(\n"
     ]
    },
    {
     "name": "stdout",
     "output_type": "stream",
     "text": [
      "================\n",
      "Configuration:\n",
      "K: 95\n",
      "Weights: uniform\n",
      "Algorithm: auto\n",
      "Distance Metric: cityblock\n",
      "Oversampling Method: none\n",
      "----------------\n",
      "Results: -0.8602769270820785\n",
      "================\n"
     ]
    },
    {
     "name": "stderr",
     "output_type": "stream",
     "text": [
      "C:\\Users\\Aaron\\AppData\\Roaming\\Python\\Python311\\site-packages\\skopt\\optimizer\\optimizer.py:517: UserWarning: The objective has been evaluated at point [153, 'uniform', 'auto', 'nan_euclidean', 'none'] before, using random point [167, 'uniform', 'auto', 'manhattan', 'none']\n",
      "  warnings.warn(\n"
     ]
    },
    {
     "name": "stdout",
     "output_type": "stream",
     "text": [
      "================\n",
      "Configuration:\n",
      "K: 167\n",
      "Weights: uniform\n",
      "Algorithm: auto\n",
      "Distance Metric: manhattan\n",
      "Oversampling Method: none\n",
      "----------------\n",
      "Results: -0.8485005822344415\n",
      "================\n"
     ]
    },
    {
     "name": "stderr",
     "output_type": "stream",
     "text": [
      "C:\\Users\\Aaron\\AppData\\Roaming\\Python\\Python311\\site-packages\\skopt\\optimizer\\optimizer.py:517: UserWarning: The objective has been evaluated at point [153, 'uniform', 'auto', 'nan_euclidean', 'none'] before, using random point [112, 'distance', 'kd_tree', 'manhattan', 'none']\n",
      "  warnings.warn(\n"
     ]
    },
    {
     "name": "stdout",
     "output_type": "stream",
     "text": [
      "================\n",
      "Configuration:\n",
      "K: 112\n",
      "Weights: distance\n",
      "Algorithm: kd_tree\n",
      "Distance Metric: manhattan\n",
      "Oversampling Method: none\n",
      "----------------\n",
      "Results: -0.9001592927608731\n",
      "================\n"
     ]
    },
    {
     "name": "stderr",
     "output_type": "stream",
     "text": [
      "C:\\Users\\Aaron\\AppData\\Roaming\\Python\\Python311\\site-packages\\skopt\\optimizer\\optimizer.py:517: UserWarning: The objective has been evaluated at point [153, 'uniform', 'auto', 'nan_euclidean', 'none'] before, using random point [73, 'distance', 'kd_tree', 'manhattan', 'ada']\n",
      "  warnings.warn(\n"
     ]
    },
    {
     "name": "stdout",
     "output_type": "stream",
     "text": [
      "================\n",
      "Configuration:\n",
      "K: 73\n",
      "Weights: distance\n",
      "Algorithm: kd_tree\n",
      "Distance Metric: manhattan\n",
      "Oversampling Method: ada\n",
      "----------------\n",
      "Results: -0.9087565732364412\n",
      "================\n",
      "================\n",
      "Configuration:\n",
      "K: 317\n",
      "Weights: uniform\n",
      "Algorithm: auto\n",
      "Distance Metric: nan_euclidean\n",
      "Oversampling Method: ada\n",
      "----------------\n",
      "Results: -0.8303065582788944\n",
      "================\n",
      "================\n",
      "Configuration:\n",
      "K: 156\n",
      "Weights: uniform\n",
      "Algorithm: auto\n",
      "Distance Metric: nan_euclidean\n",
      "Oversampling Method: none\n",
      "----------------\n",
      "Results: -0.8410103964354025\n",
      "================\n",
      "================\n",
      "Configuration:\n",
      "K: 3\n",
      "Weights: uniform\n",
      "Algorithm: auto\n",
      "Distance Metric: cosine\n",
      "Oversampling Method: none\n",
      "----------------\n",
      "Results: -0.9205603524770657\n",
      "================\n",
      "================\n",
      "Configuration:\n",
      "K: 1\n",
      "Weights: distance\n",
      "Algorithm: kd_tree\n",
      "Distance Metric: l2\n",
      "Oversampling Method: none\n",
      "----------------\n",
      "Results: -0.8965185372073904\n",
      "================\n",
      "================\n",
      "Configuration:\n",
      "K: 132\n",
      "Weights: distance\n",
      "Algorithm: auto\n",
      "Distance Metric: manhattan\n",
      "Oversampling Method: ada\n",
      "----------------\n",
      "Results: -0.8970153030378812\n",
      "================\n",
      "================\n",
      "Configuration:\n",
      "K: 318\n",
      "Weights: distance\n",
      "Algorithm: auto\n",
      "Distance Metric: l1\n",
      "Oversampling Method: none\n",
      "----------------\n",
      "Results: -0.8812980654095988\n",
      "================\n",
      "================\n",
      "Configuration:\n",
      "K: 2\n",
      "Weights: uniform\n",
      "Algorithm: auto\n",
      "Distance Metric: l2\n",
      "Oversampling Method: none\n",
      "----------------\n",
      "Results: -0.9166116123708511\n",
      "================\n",
      "================\n",
      "Configuration:\n",
      "K: 318\n",
      "Weights: distance\n",
      "Algorithm: auto\n",
      "Distance Metric: cosine\n",
      "Oversampling Method: none\n",
      "----------------\n",
      "Results: -0.9208950273354805\n",
      "================\n"
     ]
    },
    {
     "name": "stderr",
     "output_type": "stream",
     "text": [
      "C:\\Users\\Aaron\\AppData\\Roaming\\Python\\Python311\\site-packages\\skopt\\optimizer\\optimizer.py:517: UserWarning: The objective has been evaluated at point [156, 'uniform', 'auto', 'nan_euclidean', 'none'] before, using random point [196, 'distance', 'kd_tree', 'cityblock', 'ada']\n",
      "  warnings.warn(\n"
     ]
    },
    {
     "name": "stdout",
     "output_type": "stream",
     "text": [
      "================\n",
      "Configuration:\n",
      "K: 196\n",
      "Weights: distance\n",
      "Algorithm: kd_tree\n",
      "Distance Metric: cityblock\n",
      "Oversampling Method: ada\n",
      "----------------\n",
      "Results: -0.8896922643949724\n",
      "================\n"
     ]
    },
    {
     "name": "stderr",
     "output_type": "stream",
     "text": [
      "C:\\Users\\Aaron\\AppData\\Roaming\\Python\\Python311\\site-packages\\skopt\\optimizer\\optimizer.py:517: UserWarning: The objective has been evaluated at point [156, 'uniform', 'auto', 'nan_euclidean', 'none'] before, using random point [190, 'distance', 'ball_tree', 'l1', 'none']\n",
      "  warnings.warn(\n"
     ]
    },
    {
     "name": "stdout",
     "output_type": "stream",
     "text": [
      "================\n",
      "Configuration:\n",
      "K: 190\n",
      "Weights: distance\n",
      "Algorithm: ball_tree\n",
      "Distance Metric: l1\n",
      "Oversampling Method: none\n",
      "----------------\n",
      "Results: -0.8902681550472687\n",
      "================\n"
     ]
    },
    {
     "name": "stderr",
     "output_type": "stream",
     "text": [
      "C:\\Users\\Aaron\\AppData\\Roaming\\Python\\Python311\\site-packages\\skopt\\optimizer\\optimizer.py:517: UserWarning: The objective has been evaluated at point [156, 'uniform', 'auto', 'nan_euclidean', 'none'] before, using random point [228, 'uniform', 'auto', 'l2', 'ada']\n",
      "  warnings.warn(\n"
     ]
    },
    {
     "name": "stdout",
     "output_type": "stream",
     "text": [
      "================\n",
      "Configuration:\n",
      "K: 228\n",
      "Weights: uniform\n",
      "Algorithm: auto\n",
      "Distance Metric: l2\n",
      "Oversampling Method: ada\n",
      "----------------\n",
      "Results: -0.8345905120125229\n",
      "================\n"
     ]
    },
    {
     "name": "stderr",
     "output_type": "stream",
     "text": [
      "C:\\Users\\Aaron\\AppData\\Roaming\\Python\\Python311\\site-packages\\skopt\\optimizer\\optimizer.py:517: UserWarning: The objective has been evaluated at point [156, 'uniform', 'auto', 'nan_euclidean', 'none'] before, using random point [143, 'distance', 'ball_tree', 'euclidean', 'ada']\n",
      "  warnings.warn(\n"
     ]
    },
    {
     "name": "stdout",
     "output_type": "stream",
     "text": [
      "================\n",
      "Configuration:\n",
      "K: 143\n",
      "Weights: distance\n",
      "Algorithm: ball_tree\n",
      "Distance Metric: euclidean\n",
      "Oversampling Method: ada\n",
      "----------------\n",
      "Results: -0.8856373370748755\n",
      "================\n",
      "================\n",
      "Configuration:\n",
      "K: 17\n",
      "Weights: distance\n",
      "Algorithm: auto\n",
      "Distance Metric: cosine\n",
      "Oversampling Method: none\n",
      "----------------\n",
      "Results: -0.942846031634049\n",
      "================\n"
     ]
    },
    {
     "name": "stderr",
     "output_type": "stream",
     "text": [
      "C:\\Users\\Aaron\\AppData\\Roaming\\Python\\Python311\\site-packages\\skopt\\optimizer\\optimizer.py:517: UserWarning: The objective has been evaluated at point [156, 'uniform', 'auto', 'nan_euclidean', 'none'] before, using random point [76, 'distance', 'kd_tree', 'cosine', 'ada']\n",
      "  warnings.warn(\n"
     ]
    },
    {
     "name": "stdout",
     "output_type": "stream",
     "text": [
      "================\n",
      "Configuration:\n",
      "K: 76\n",
      "Weights: distance\n",
      "Algorithm: kd_tree\n",
      "Distance Metric: cosine\n",
      "Oversampling Method: ada\n",
      "----------------\n",
      "Invalid Config\n"
     ]
    },
    {
     "name": "stderr",
     "output_type": "stream",
     "text": [
      "C:\\Users\\Aaron\\AppData\\Roaming\\Python\\Python311\\site-packages\\skopt\\optimizer\\optimizer.py:517: UserWarning: The objective has been evaluated at point [156, 'uniform', 'auto', 'nan_euclidean', 'none'] before, using random point [282, 'distance', 'ball_tree', 'l2', 'ada']\n",
      "  warnings.warn(\n"
     ]
    },
    {
     "name": "stdout",
     "output_type": "stream",
     "text": [
      "================\n",
      "Configuration:\n",
      "K: 282\n",
      "Weights: distance\n",
      "Algorithm: ball_tree\n",
      "Distance Metric: l2\n",
      "Oversampling Method: ada\n",
      "----------------\n",
      "Results: -0.8726140515426554\n",
      "================\n"
     ]
    },
    {
     "name": "stderr",
     "output_type": "stream",
     "text": [
      "C:\\Users\\Aaron\\AppData\\Roaming\\Python\\Python311\\site-packages\\skopt\\optimizer\\optimizer.py:517: UserWarning: The objective has been evaluated at point [156, 'uniform', 'auto', 'nan_euclidean', 'none'] before, using random point [310, 'distance', 'kd_tree', 'nan_euclidean', 'ada']\n",
      "  warnings.warn(\n"
     ]
    },
    {
     "name": "stdout",
     "output_type": "stream",
     "text": [
      "================\n",
      "Configuration:\n",
      "K: 310\n",
      "Weights: distance\n",
      "Algorithm: kd_tree\n",
      "Distance Metric: nan_euclidean\n",
      "Oversampling Method: ada\n",
      "----------------\n",
      "Invalid Config\n"
     ]
    },
    {
     "name": "stderr",
     "output_type": "stream",
     "text": [
      "C:\\Users\\Aaron\\AppData\\Roaming\\Python\\Python311\\site-packages\\skopt\\optimizer\\optimizer.py:517: UserWarning: The objective has been evaluated at point [156, 'uniform', 'auto', 'nan_euclidean', 'none'] before, using random point [240, 'distance', 'kd_tree', 'cityblock', 'none']\n",
      "  warnings.warn(\n"
     ]
    },
    {
     "name": "stdout",
     "output_type": "stream",
     "text": [
      "================\n",
      "Configuration:\n",
      "K: 240\n",
      "Weights: distance\n",
      "Algorithm: kd_tree\n",
      "Distance Metric: cityblock\n",
      "Oversampling Method: none\n",
      "----------------\n",
      "Results: -0.8862214437281256\n",
      "================\n"
     ]
    },
    {
     "name": "stderr",
     "output_type": "stream",
     "text": [
      "C:\\Users\\Aaron\\AppData\\Roaming\\Python\\Python311\\site-packages\\skopt\\optimizer\\optimizer.py:517: UserWarning: The objective has been evaluated at point [154, 'uniform', 'auto', 'nan_euclidean', 'none'] before, using random point [154, 'uniform', 'kd_tree', 'nan_euclidean', 'none']\n",
      "  warnings.warn(\n"
     ]
    },
    {
     "name": "stdout",
     "output_type": "stream",
     "text": [
      "================\n",
      "Configuration:\n",
      "K: 154\n",
      "Weights: uniform\n",
      "Algorithm: kd_tree\n",
      "Distance Metric: nan_euclidean\n",
      "Oversampling Method: none\n",
      "----------------\n",
      "Invalid Config\n"
     ]
    },
    {
     "name": "stderr",
     "output_type": "stream",
     "text": [
      "C:\\Users\\Aaron\\AppData\\Roaming\\Python\\Python311\\site-packages\\skopt\\optimizer\\optimizer.py:517: UserWarning: The objective has been evaluated at point [156, 'uniform', 'auto', 'nan_euclidean', 'none'] before, using random point [230, 'uniform', 'ball_tree', 'euclidean', 'none']\n",
      "  warnings.warn(\n"
     ]
    },
    {
     "name": "stdout",
     "output_type": "stream",
     "text": [
      "================\n",
      "Configuration:\n",
      "K: 230\n",
      "Weights: uniform\n",
      "Algorithm: ball_tree\n",
      "Distance Metric: euclidean\n",
      "Oversampling Method: none\n",
      "----------------\n",
      "Results: -0.8344785492126606\n",
      "================\n",
      "================\n",
      "Configuration:\n",
      "K: 9\n",
      "Weights: distance\n",
      "Algorithm: auto\n",
      "Distance Metric: cosine\n",
      "Oversampling Method: none\n",
      "----------------\n",
      "Results: -0.9418766407095877\n",
      "================\n",
      "================\n",
      "Configuration:\n",
      "K: 155\n",
      "Weights: distance\n",
      "Algorithm: auto\n",
      "Distance Metric: cosine\n",
      "Oversampling Method: ada\n",
      "----------------\n",
      "Results: -0.927547999464109\n",
      "================\n",
      "================\n",
      "Configuration:\n",
      "K: 154\n",
      "Weights: distance\n",
      "Algorithm: auto\n",
      "Distance Metric: cosine\n",
      "Oversampling Method: ada\n",
      "----------------\n",
      "Results: -0.9275920673993799\n",
      "================\n"
     ]
    },
    {
     "name": "stderr",
     "output_type": "stream",
     "text": [
      "C:\\Users\\Aaron\\AppData\\Roaming\\Python\\Python311\\site-packages\\skopt\\optimizer\\optimizer.py:517: UserWarning: The objective has been evaluated at point [155, 'distance', 'auto', 'cosine', 'ada'] before, using random point [182, 'uniform', 'kd_tree', 'manhattan', 'none']\n",
      "  warnings.warn(\n"
     ]
    },
    {
     "name": "stdout",
     "output_type": "stream",
     "text": [
      "================\n",
      "Configuration:\n",
      "K: 182\n",
      "Weights: uniform\n",
      "Algorithm: kd_tree\n",
      "Distance Metric: manhattan\n",
      "Oversampling Method: none\n",
      "----------------\n",
      "Results: -0.8470225259647677\n",
      "================\n",
      "================\n",
      "Configuration:\n",
      "K: 18\n",
      "Weights: distance\n",
      "Algorithm: auto\n",
      "Distance Metric: cosine\n",
      "Oversampling Method: none\n",
      "----------------\n",
      "Results: -0.9428014812746349\n",
      "================\n",
      "================\n",
      "Configuration:\n",
      "K: 153\n",
      "Weights: distance\n",
      "Algorithm: auto\n",
      "Distance Metric: cosine\n",
      "Oversampling Method: ada\n",
      "----------------\n",
      "Results: -0.9276563061848528\n",
      "================\n"
     ]
    },
    {
     "name": "stderr",
     "output_type": "stream",
     "text": [
      "C:\\Users\\Aaron\\AppData\\Roaming\\Python\\Python311\\site-packages\\skopt\\optimizer\\optimizer.py:517: UserWarning: The objective has been evaluated at point [153, 'distance', 'auto', 'cosine', 'ada'] before, using random point [283, 'uniform', 'ball_tree', 'euclidean', 'ada']\n",
      "  warnings.warn(\n"
     ]
    },
    {
     "name": "stdout",
     "output_type": "stream",
     "text": [
      "================\n",
      "Configuration:\n",
      "K: 283\n",
      "Weights: uniform\n",
      "Algorithm: ball_tree\n",
      "Distance Metric: euclidean\n",
      "Oversampling Method: ada\n",
      "----------------\n",
      "Results: -0.8317723390132968\n",
      "================\n"
     ]
    },
    {
     "name": "stderr",
     "output_type": "stream",
     "text": [
      "C:\\Users\\Aaron\\AppData\\Roaming\\Python\\Python311\\site-packages\\skopt\\optimizer\\optimizer.py:517: UserWarning: The objective has been evaluated at point [154, 'distance', 'auto', 'cosine', 'ada'] before, using random point [52, 'distance', 'ball_tree', 'euclidean', 'ada']\n",
      "  warnings.warn(\n"
     ]
    },
    {
     "name": "stdout",
     "output_type": "stream",
     "text": [
      "================\n",
      "Configuration:\n",
      "K: 52\n",
      "Weights: distance\n",
      "Algorithm: ball_tree\n",
      "Distance Metric: euclidean\n",
      "Oversampling Method: ada\n",
      "----------------\n",
      "Results: -0.9054613657503237\n",
      "================\n"
     ]
    },
    {
     "name": "stderr",
     "output_type": "stream",
     "text": [
      "C:\\Users\\Aaron\\AppData\\Roaming\\Python\\Python311\\site-packages\\skopt\\optimizer\\optimizer.py:517: UserWarning: The objective has been evaluated at point [153, 'distance', 'auto', 'cosine', 'ada'] before, using random point [129, 'uniform', 'auto', 'euclidean', 'none']\n",
      "  warnings.warn(\n"
     ]
    },
    {
     "name": "stdout",
     "output_type": "stream",
     "text": [
      "================\n",
      "Configuration:\n",
      "K: 129\n",
      "Weights: uniform\n",
      "Algorithm: auto\n",
      "Distance Metric: euclidean\n",
      "Oversampling Method: none\n",
      "----------------\n",
      "Results: -0.8447331698893322\n",
      "================\n"
     ]
    },
    {
     "name": "stderr",
     "output_type": "stream",
     "text": [
      "C:\\Users\\Aaron\\AppData\\Roaming\\Python\\Python311\\site-packages\\skopt\\optimizer\\optimizer.py:517: UserWarning: The objective has been evaluated at point [153, 'distance', 'auto', 'cosine', 'ada'] before, using random point [174, 'distance', 'auto', 'manhattan', 'ada']\n",
      "  warnings.warn(\n"
     ]
    },
    {
     "name": "stdout",
     "output_type": "stream",
     "text": [
      "================\n",
      "Configuration:\n",
      "K: 174\n",
      "Weights: distance\n",
      "Algorithm: auto\n",
      "Distance Metric: manhattan\n",
      "Oversampling Method: ada\n",
      "----------------\n",
      "Results: -0.8918897918529091\n",
      "================\n"
     ]
    },
    {
     "name": "stderr",
     "output_type": "stream",
     "text": [
      "C:\\Users\\Aaron\\AppData\\Roaming\\Python\\Python311\\site-packages\\skopt\\optimizer\\optimizer.py:517: UserWarning: The objective has been evaluated at point [153, 'distance', 'auto', 'cosine', 'ada'] before, using random point [235, 'uniform', 'auto', 'manhattan', 'none']\n",
      "  warnings.warn(\n"
     ]
    },
    {
     "name": "stdout",
     "output_type": "stream",
     "text": [
      "================\n",
      "Configuration:\n",
      "K: 235\n",
      "Weights: uniform\n",
      "Algorithm: auto\n",
      "Distance Metric: manhattan\n",
      "Oversampling Method: none\n",
      "----------------\n",
      "Results: -0.8437087226367236\n",
      "================\n"
     ]
    },
    {
     "name": "stderr",
     "output_type": "stream",
     "text": [
      "C:\\Users\\Aaron\\AppData\\Roaming\\Python\\Python311\\site-packages\\skopt\\optimizer\\optimizer.py:517: UserWarning: The objective has been evaluated at point [153, 'distance', 'auto', 'cosine', 'ada'] before, using random point [194, 'distance', 'kd_tree', 'l1', 'none']\n",
      "  warnings.warn(\n"
     ]
    },
    {
     "name": "stdout",
     "output_type": "stream",
     "text": [
      "================\n",
      "Configuration:\n",
      "K: 194\n",
      "Weights: distance\n",
      "Algorithm: kd_tree\n",
      "Distance Metric: l1\n",
      "Oversampling Method: none\n",
      "----------------\n",
      "Results: -0.8898921972897744\n",
      "================\n",
      "================\n",
      "Configuration:\n",
      "K: 3\n",
      "Weights: distance\n",
      "Algorithm: auto\n",
      "Distance Metric: nan_euclidean\n",
      "Oversampling Method: none\n",
      "----------------\n",
      "Results: -0.9289730959663737\n",
      "================\n"
     ]
    },
    {
     "name": "stderr",
     "output_type": "stream",
     "text": [
      "C:\\Users\\Aaron\\AppData\\Roaming\\Python\\Python311\\site-packages\\skopt\\optimizer\\optimizer.py:517: UserWarning: The objective has been evaluated at point [152, 'uniform', 'auto', 'nan_euclidean', 'none'] before, using random point [137, 'uniform', 'ball_tree', 'cosine', 'ada']\n",
      "  warnings.warn(\n"
     ]
    },
    {
     "name": "stdout",
     "output_type": "stream",
     "text": [
      "================\n",
      "Configuration:\n",
      "K: 137\n",
      "Weights: uniform\n",
      "Algorithm: ball_tree\n",
      "Distance Metric: cosine\n",
      "Oversampling Method: ada\n",
      "----------------\n",
      "Invalid Config\n",
      "================\n",
      "Configuration:\n",
      "K: 2\n",
      "Weights: uniform\n",
      "Algorithm: auto\n",
      "Distance Metric: nan_euclidean\n",
      "Oversampling Method: ada\n",
      "----------------\n",
      "Results: -0.9166116123708511\n",
      "================\n",
      "================\n",
      "Configuration:\n",
      "K: 149\n",
      "Weights: uniform\n",
      "Algorithm: auto\n",
      "Distance Metric: nan_euclidean\n",
      "Oversampling Method: none\n",
      "----------------\n",
      "Results: -0.8418870935294939\n",
      "================\n",
      "================\n",
      "Configuration:\n",
      "K: 317\n",
      "Weights: distance\n",
      "Algorithm: auto\n",
      "Distance Metric: nan_euclidean\n",
      "Oversampling Method: ada\n",
      "----------------\n",
      "Results: -0.8703098173834279\n",
      "================\n"
     ]
    },
    {
     "name": "stderr",
     "output_type": "stream",
     "text": [
      "C:\\Users\\Aaron\\AppData\\Roaming\\Python\\Python311\\site-packages\\skopt\\optimizer\\optimizer.py:517: UserWarning: The objective has been evaluated at point [153, 'uniform', 'auto', 'nan_euclidean', 'none'] before, using random point [65, 'uniform', 'kd_tree', 'l2', 'none']\n",
      "  warnings.warn(\n"
     ]
    },
    {
     "name": "stdout",
     "output_type": "stream",
     "text": [
      "================\n",
      "Configuration:\n",
      "K: 65\n",
      "Weights: uniform\n",
      "Algorithm: kd_tree\n",
      "Distance Metric: l2\n",
      "Oversampling Method: none\n",
      "----------------\n",
      "Results: -0.8594335241222315\n",
      "================\n"
     ]
    },
    {
     "name": "stderr",
     "output_type": "stream",
     "text": [
      "C:\\Users\\Aaron\\AppData\\Roaming\\Python\\Python311\\site-packages\\skopt\\optimizer\\optimizer.py:517: UserWarning: The objective has been evaluated at point [153, 'uniform', 'auto', 'nan_euclidean', 'none'] before, using random point [237, 'uniform', 'ball_tree', 'l1', 'ada']\n",
      "  warnings.warn(\n"
     ]
    },
    {
     "name": "stdout",
     "output_type": "stream",
     "text": [
      "================\n",
      "Configuration:\n",
      "K: 237\n",
      "Weights: uniform\n",
      "Algorithm: ball_tree\n",
      "Distance Metric: l1\n",
      "Oversampling Method: ada\n",
      "----------------\n",
      "Results: -0.8436160919291451\n",
      "================\n"
     ]
    },
    {
     "name": "stderr",
     "output_type": "stream",
     "text": [
      "C:\\Users\\Aaron\\AppData\\Roaming\\Python\\Python311\\site-packages\\skopt\\optimizer\\optimizer.py:517: UserWarning: The objective has been evaluated at point [153, 'uniform', 'auto', 'nan_euclidean', 'none'] before, using random point [254, 'uniform', 'ball_tree', 'manhattan', 'none']\n",
      "  warnings.warn(\n"
     ]
    },
    {
     "name": "stdout",
     "output_type": "stream",
     "text": [
      "================\n",
      "Configuration:\n",
      "K: 254\n",
      "Weights: uniform\n",
      "Algorithm: ball_tree\n",
      "Distance Metric: manhattan\n",
      "Oversampling Method: none\n",
      "----------------\n",
      "Results: -0.8427299067648472\n",
      "================\n",
      "================\n",
      "Configuration:\n",
      "K: 319\n",
      "Weights: uniform\n",
      "Algorithm: auto\n",
      "Distance Metric: nan_euclidean\n",
      "Oversampling Method: none\n",
      "----------------\n",
      "Results: -0.8302291576961358\n",
      "================\n"
     ]
    },
    {
     "name": "stderr",
     "output_type": "stream",
     "text": [
      "C:\\Users\\Aaron\\AppData\\Roaming\\Python\\Python311\\site-packages\\skopt\\optimizer\\optimizer.py:517: UserWarning: The objective has been evaluated at point [156, 'uniform', 'auto', 'nan_euclidean', 'none'] before, using random point [99, 'distance', 'ball_tree', 'cosine', 'ada']\n",
      "  warnings.warn(\n"
     ]
    },
    {
     "name": "stdout",
     "output_type": "stream",
     "text": [
      "================\n",
      "Configuration:\n",
      "K: 99\n",
      "Weights: distance\n",
      "Algorithm: ball_tree\n",
      "Distance Metric: cosine\n",
      "Oversampling Method: ada\n",
      "----------------\n",
      "Invalid Config\n",
      "================\n",
      "Configuration:\n",
      "K: 310\n",
      "Weights: uniform\n",
      "Algorithm: auto\n",
      "Distance Metric: nan_euclidean\n",
      "Oversampling Method: none\n",
      "----------------\n",
      "Results: -0.8305941855182325\n",
      "================\n"
     ]
    },
    {
     "name": "stderr",
     "output_type": "stream",
     "text": [
      "C:\\Users\\Aaron\\AppData\\Roaming\\Python\\Python311\\site-packages\\skopt\\optimizer\\optimizer.py:517: UserWarning: The objective has been evaluated at point [158, 'uniform', 'auto', 'nan_euclidean', 'none'] before, using random point [126, 'uniform', 'auto', 'nan_euclidean', 'none']\n",
      "  warnings.warn(\n"
     ]
    },
    {
     "name": "stdout",
     "output_type": "stream",
     "text": [
      "================\n",
      "Configuration:\n",
      "K: 126\n",
      "Weights: uniform\n",
      "Algorithm: auto\n",
      "Distance Metric: nan_euclidean\n",
      "Oversampling Method: none\n",
      "----------------\n",
      "Results: -0.845176007815855\n",
      "================\n",
      "================\n",
      "Configuration:\n",
      "K: 160\n",
      "Weights: uniform\n",
      "Algorithm: auto\n",
      "Distance Metric: nan_euclidean\n",
      "Oversampling Method: none\n",
      "----------------\n",
      "Results: -0.8404993511450236\n",
      "================\n"
     ]
    },
    {
     "name": "stderr",
     "output_type": "stream",
     "text": [
      "C:\\Users\\Aaron\\AppData\\Roaming\\Python\\Python311\\site-packages\\skopt\\optimizer\\optimizer.py:517: UserWarning: The objective has been evaluated at point [158, 'uniform', 'auto', 'nan_euclidean', 'none'] before, using random point [64, 'distance', 'kd_tree', 'cityblock', 'ada']\n",
      "  warnings.warn(\n"
     ]
    },
    {
     "name": "stdout",
     "output_type": "stream",
     "text": [
      "================\n",
      "Configuration:\n",
      "K: 64\n",
      "Weights: distance\n",
      "Algorithm: kd_tree\n",
      "Distance Metric: cityblock\n",
      "Oversampling Method: ada\n",
      "----------------\n",
      "Results: -0.911327574394264\n",
      "================\n",
      "================\n",
      "Configuration:\n",
      "K: 319\n",
      "Weights: distance\n",
      "Algorithm: auto\n",
      "Distance Metric: l2\n",
      "Oversampling Method: none\n",
      "----------------\n",
      "Results: -0.8701882280127657\n",
      "================\n"
     ]
    },
    {
     "name": "stderr",
     "output_type": "stream",
     "text": [
      "C:\\Users\\Aaron\\AppData\\Roaming\\Python\\Python311\\site-packages\\skopt\\optimizer\\optimizer.py:517: UserWarning: The objective has been evaluated at point [158, 'uniform', 'auto', 'nan_euclidean', 'none'] before, using random point [5, 'uniform', 'kd_tree', 'l1', 'ada']\n",
      "  warnings.warn(\n"
     ]
    },
    {
     "name": "stdout",
     "output_type": "stream",
     "text": [
      "================\n",
      "Configuration:\n",
      "K: 5\n",
      "Weights: uniform\n",
      "Algorithm: kd_tree\n",
      "Distance Metric: l1\n",
      "Oversampling Method: ada\n",
      "----------------\n",
      "Results: -0.9299309162865307\n",
      "================\n",
      "================\n",
      "Configuration:\n",
      "K: 157\n",
      "Weights: distance\n",
      "Algorithm: auto\n",
      "Distance Metric: nan_euclidean\n",
      "Oversampling Method: ada\n",
      "----------------\n",
      "Results: -0.8838425364016703\n",
      "================\n"
     ]
    },
    {
     "name": "stderr",
     "output_type": "stream",
     "text": [
      "C:\\Users\\Aaron\\AppData\\Roaming\\Python\\Python311\\site-packages\\skopt\\optimizer\\optimizer.py:517: UserWarning: The objective has been evaluated at point [152, 'distance', 'auto', 'cosine', 'ada'] before, using random point [228, 'distance', 'auto', 'l2', 'ada']\n",
      "  warnings.warn(\n"
     ]
    },
    {
     "name": "stdout",
     "output_type": "stream",
     "text": [
      "================\n",
      "Configuration:\n",
      "K: 228\n",
      "Weights: distance\n",
      "Algorithm: auto\n",
      "Distance Metric: l2\n",
      "Oversampling Method: ada\n",
      "----------------\n",
      "Results: -0.8766525780652697\n",
      "================\n"
     ]
    },
    {
     "name": "stderr",
     "output_type": "stream",
     "text": [
      "C:\\Users\\Aaron\\AppData\\Roaming\\Python\\Python311\\site-packages\\skopt\\optimizer\\optimizer.py:517: UserWarning: The objective has been evaluated at point [153, 'distance', 'auto', 'cosine', 'ada'] before, using random point [103, 'uniform', 'ball_tree', 'euclidean', 'none']\n",
      "  warnings.warn(\n"
     ]
    },
    {
     "name": "stdout",
     "output_type": "stream",
     "text": [
      "================\n",
      "Configuration:\n",
      "K: 103\n",
      "Weights: uniform\n",
      "Algorithm: ball_tree\n",
      "Distance Metric: euclidean\n",
      "Oversampling Method: none\n",
      "----------------\n",
      "Results: -0.8493164414050546\n",
      "================\n",
      "================\n",
      "Configuration:\n",
      "K: 1\n",
      "Weights: distance\n",
      "Algorithm: auto\n",
      "Distance Metric: l1\n",
      "Oversampling Method: none\n",
      "----------------\n",
      "Results: -0.9041661900670556\n",
      "================\n"
     ]
    },
    {
     "name": "stderr",
     "output_type": "stream",
     "text": [
      "C:\\Users\\Aaron\\AppData\\Roaming\\Python\\Python311\\site-packages\\skopt\\optimizer\\optimizer.py:517: UserWarning: The objective has been evaluated at point [153, 'distance', 'auto', 'cosine', 'ada'] before, using random point [46, 'uniform', 'ball_tree', 'l2', 'ada']\n",
      "  warnings.warn(\n"
     ]
    },
    {
     "name": "stdout",
     "output_type": "stream",
     "text": [
      "================\n",
      "Configuration:\n",
      "K: 46\n",
      "Weights: uniform\n",
      "Algorithm: ball_tree\n",
      "Distance Metric: l2\n",
      "Oversampling Method: ada\n",
      "----------------\n",
      "Results: -0.8676802142242526\n",
      "================\n"
     ]
    },
    {
     "name": "stderr",
     "output_type": "stream",
     "text": [
      "C:\\Users\\Aaron\\AppData\\Roaming\\Python\\Python311\\site-packages\\skopt\\optimizer\\optimizer.py:517: UserWarning: The objective has been evaluated at point [153, 'distance', 'auto', 'cosine', 'ada'] before, using random point [241, 'distance', 'kd_tree', 'cityblock', 'ada']\n",
      "  warnings.warn(\n"
     ]
    },
    {
     "name": "stdout",
     "output_type": "stream",
     "text": [
      "================\n",
      "Configuration:\n",
      "K: 241\n",
      "Weights: distance\n",
      "Algorithm: kd_tree\n",
      "Distance Metric: cityblock\n",
      "Oversampling Method: ada\n",
      "----------------\n",
      "Results: -0.8861464706468677\n",
      "================\n"
     ]
    },
    {
     "name": "stderr",
     "output_type": "stream",
     "text": [
      "C:\\Users\\Aaron\\AppData\\Roaming\\Python\\Python311\\site-packages\\skopt\\optimizer\\optimizer.py:517: UserWarning: The objective has been evaluated at point [153, 'distance', 'auto', 'cosine', 'ada'] before, using random point [315, 'uniform', 'auto', 'nan_euclidean', 'none']\n",
      "  warnings.warn(\n"
     ]
    },
    {
     "name": "stdout",
     "output_type": "stream",
     "text": [
      "================\n",
      "Configuration:\n",
      "K: 315\n",
      "Weights: uniform\n",
      "Algorithm: auto\n",
      "Distance Metric: nan_euclidean\n",
      "Oversampling Method: none\n",
      "----------------\n",
      "Results: -0.8303858453406737\n",
      "================\n"
     ]
    },
    {
     "name": "stderr",
     "output_type": "stream",
     "text": [
      "C:\\Users\\Aaron\\AppData\\Roaming\\Python\\Python311\\site-packages\\skopt\\optimizer\\optimizer.py:517: UserWarning: The objective has been evaluated at point [153, 'distance', 'auto', 'cosine', 'ada'] before, using random point [130, 'distance', 'auto', 'l2', 'none']\n",
      "  warnings.warn(\n"
     ]
    },
    {
     "name": "stdout",
     "output_type": "stream",
     "text": [
      "================\n",
      "Configuration:\n",
      "K: 130\n",
      "Weights: distance\n",
      "Algorithm: auto\n",
      "Distance Metric: l2\n",
      "Oversampling Method: none\n",
      "----------------\n",
      "Results: -0.8874542125691778\n",
      "================\n"
     ]
    },
    {
     "name": "stderr",
     "output_type": "stream",
     "text": [
      "C:\\Users\\Aaron\\AppData\\Roaming\\Python\\Python311\\site-packages\\skopt\\optimizer\\optimizer.py:517: UserWarning: The objective has been evaluated at point [152, 'distance', 'auto', 'cosine', 'ada'] before, using random point [314, 'uniform', 'auto', 'nan_euclidean', 'none']\n",
      "  warnings.warn(\n"
     ]
    },
    {
     "name": "stdout",
     "output_type": "stream",
     "text": [
      "================\n",
      "Configuration:\n",
      "K: 314\n",
      "Weights: uniform\n",
      "Algorithm: auto\n",
      "Distance Metric: nan_euclidean\n",
      "Oversampling Method: none\n",
      "----------------\n",
      "Results: -0.8304334925188147\n",
      "================\n",
      "================\n",
      "Configuration:\n",
      "K: 318\n",
      "Weights: uniform\n",
      "Algorithm: auto\n",
      "Distance Metric: cosine\n",
      "Oversampling Method: none\n",
      "----------------\n",
      "Results: -0.8279521086157317\n",
      "================\n",
      "================\n",
      "Configuration:\n",
      "K: 156\n",
      "Weights: distance\n",
      "Algorithm: auto\n",
      "Distance Metric: cosine\n",
      "Oversampling Method: ada\n",
      "----------------\n",
      "Results: -0.9274889303361796\n",
      "================\n",
      "================\n",
      "Configuration:\n",
      "K: 319\n",
      "Weights: distance\n",
      "Algorithm: auto\n",
      "Distance Metric: cityblock\n",
      "Oversampling Method: none\n",
      "----------------\n",
      "Results: -0.881244046855353\n",
      "================\n",
      "================\n",
      "Configuration:\n",
      "K: 318\n",
      "Weights: distance\n",
      "Algorithm: auto\n",
      "Distance Metric: euclidean\n",
      "Oversampling Method: none\n",
      "----------------\n",
      "Results: -0.8702481274210799\n",
      "================\n"
     ]
    },
    {
     "name": "stderr",
     "output_type": "stream",
     "text": [
      "C:\\Users\\Aaron\\AppData\\Roaming\\Python\\Python311\\site-packages\\skopt\\optimizer\\optimizer.py:517: UserWarning: The objective has been evaluated at point [156, 'distance', 'auto', 'cosine', 'ada'] before, using random point [146, 'distance', 'kd_tree', 'l2', 'ada']\n",
      "  warnings.warn(\n"
     ]
    },
    {
     "name": "stdout",
     "output_type": "stream",
     "text": [
      "================\n",
      "Configuration:\n",
      "K: 146\n",
      "Weights: distance\n",
      "Algorithm: kd_tree\n",
      "Distance Metric: l2\n",
      "Oversampling Method: ada\n",
      "----------------\n",
      "Results: -0.8852137242590451\n",
      "================\n"
     ]
    },
    {
     "name": "stderr",
     "output_type": "stream",
     "text": [
      "C:\\Users\\Aaron\\AppData\\Roaming\\Python\\Python311\\site-packages\\skopt\\optimizer\\optimizer.py:517: UserWarning: The objective has been evaluated at point [156, 'distance', 'auto', 'cosine', 'ada'] before, using random point [49, 'uniform', 'auto', 'cosine', 'ada']\n",
      "  warnings.warn(\n"
     ]
    },
    {
     "name": "stdout",
     "output_type": "stream",
     "text": [
      "================\n",
      "Configuration:\n",
      "K: 49\n",
      "Weights: uniform\n",
      "Algorithm: auto\n",
      "Distance Metric: cosine\n",
      "Oversampling Method: ada\n",
      "----------------\n",
      "Results: -0.8659682644956818\n",
      "================\n"
     ]
    },
    {
     "name": "stderr",
     "output_type": "stream",
     "text": [
      "C:\\Users\\Aaron\\AppData\\Roaming\\Python\\Python311\\site-packages\\skopt\\optimizer\\optimizer.py:517: UserWarning: The objective has been evaluated at point [154, 'distance', 'auto', 'cosine', 'ada'] before, using random point [152, 'distance', 'auto', 'l2', 'none']\n",
      "  warnings.warn(\n"
     ]
    },
    {
     "name": "stdout",
     "output_type": "stream",
     "text": [
      "================\n",
      "Configuration:\n",
      "K: 152\n",
      "Weights: distance\n",
      "Algorithm: auto\n",
      "Distance Metric: l2\n",
      "Oversampling Method: none\n",
      "----------------\n",
      "Results: -0.8844463983230156\n",
      "================\n"
     ]
    },
    {
     "name": "stderr",
     "output_type": "stream",
     "text": [
      "C:\\Users\\Aaron\\AppData\\Roaming\\Python\\Python311\\site-packages\\skopt\\optimizer\\optimizer.py:517: UserWarning: The objective has been evaluated at point [154, 'distance', 'auto', 'cosine', 'ada'] before, using random point [230, 'distance', 'ball_tree', 'euclidean', 'ada']\n",
      "  warnings.warn(\n"
     ]
    },
    {
     "name": "stdout",
     "output_type": "stream",
     "text": [
      "================\n",
      "Configuration:\n",
      "K: 230\n",
      "Weights: distance\n",
      "Algorithm: ball_tree\n",
      "Distance Metric: euclidean\n",
      "Oversampling Method: ada\n",
      "----------------\n",
      "Results: -0.876491246690815\n",
      "================\n"
     ]
    },
    {
     "name": "stderr",
     "output_type": "stream",
     "text": [
      "C:\\Users\\Aaron\\AppData\\Roaming\\Python\\Python311\\site-packages\\skopt\\optimizer\\optimizer.py:517: UserWarning: The objective has been evaluated at point [154, 'distance', 'auto', 'cosine', 'ada'] before, using random point [59, 'distance', 'ball_tree', 'nan_euclidean', 'none']\n",
      "  warnings.warn(\n"
     ]
    },
    {
     "name": "stdout",
     "output_type": "stream",
     "text": [
      "================\n",
      "Configuration:\n",
      "K: 59\n",
      "Weights: distance\n",
      "Algorithm: ball_tree\n",
      "Distance Metric: nan_euclidean\n",
      "Oversampling Method: none\n",
      "----------------\n",
      "Invalid Config\n"
     ]
    },
    {
     "name": "stderr",
     "output_type": "stream",
     "text": [
      "C:\\Users\\Aaron\\AppData\\Roaming\\Python\\Python311\\site-packages\\skopt\\optimizer\\optimizer.py:517: UserWarning: The objective has been evaluated at point [155, 'distance', 'auto', 'cosine', 'ada'] before, using random point [279, 'uniform', 'ball_tree', 'l2', 'none']\n",
      "  warnings.warn(\n"
     ]
    },
    {
     "name": "stdout",
     "output_type": "stream",
     "text": [
      "================\n",
      "Configuration:\n",
      "K: 279\n",
      "Weights: uniform\n",
      "Algorithm: ball_tree\n",
      "Distance Metric: l2\n",
      "Oversampling Method: none\n",
      "----------------\n",
      "Results: -0.8319503734823465\n",
      "================\n"
     ]
    },
    {
     "name": "stderr",
     "output_type": "stream",
     "text": [
      "C:\\Users\\Aaron\\AppData\\Roaming\\Python\\Python311\\site-packages\\skopt\\optimizer\\optimizer.py:517: UserWarning: The objective has been evaluated at point [154, 'distance', 'auto', 'cosine', 'ada'] before, using random point [193, 'uniform', 'kd_tree', 'l1', 'none']\n",
      "  warnings.warn(\n"
     ]
    },
    {
     "name": "stdout",
     "output_type": "stream",
     "text": [
      "================\n",
      "Configuration:\n",
      "K: 193\n",
      "Weights: uniform\n",
      "Algorithm: kd_tree\n",
      "Distance Metric: l1\n",
      "Oversampling Method: none\n",
      "----------------\n",
      "Results: -0.8461684546520453\n",
      "================\n",
      "================\n",
      "Configuration:\n",
      "K: 4\n",
      "Weights: distance\n",
      "Algorithm: auto\n",
      "Distance Metric: nan_euclidean\n",
      "Oversampling Method: none\n",
      "----------------\n",
      "Results: -0.9322136466221783\n",
      "================\n",
      "================\n",
      "Configuration:\n",
      "K: 2\n",
      "Weights: distance\n",
      "Algorithm: auto\n",
      "Distance Metric: euclidean\n",
      "Oversampling Method: ada\n",
      "----------------\n",
      "Results: -0.9204721159940256\n",
      "================\n",
      "================\n",
      "Configuration:\n",
      "K: 319\n",
      "Weights: distance\n",
      "Algorithm: auto\n",
      "Distance Metric: cityblock\n",
      "Oversampling Method: ada\n",
      "----------------\n",
      "Results: -0.881244046855353\n",
      "================\n"
     ]
    },
    {
     "name": "stderr",
     "output_type": "stream",
     "text": [
      "C:\\Users\\Aaron\\AppData\\Roaming\\Python\\Python311\\site-packages\\skopt\\optimizer\\optimizer.py:517: UserWarning: The objective has been evaluated at point [154, 'distance', 'auto', 'cosine', 'ada'] before, using random point [62, 'distance', 'kd_tree', 'euclidean', 'ada']\n",
      "  warnings.warn(\n"
     ]
    },
    {
     "name": "stdout",
     "output_type": "stream",
     "text": [
      "================\n",
      "Configuration:\n",
      "K: 62\n",
      "Weights: distance\n",
      "Algorithm: kd_tree\n",
      "Distance Metric: euclidean\n",
      "Oversampling Method: ada\n",
      "----------------\n",
      "Results: -0.9018993979935388\n",
      "================\n"
     ]
    },
    {
     "name": "stderr",
     "output_type": "stream",
     "text": [
      "C:\\Users\\Aaron\\AppData\\Roaming\\Python\\Python311\\site-packages\\skopt\\optimizer\\optimizer.py:517: UserWarning: The objective has been evaluated at point [154, 'distance', 'auto', 'cosine', 'ada'] before, using random point [118, 'distance', 'ball_tree', 'nan_euclidean', 'none']\n",
      "  warnings.warn(\n"
     ]
    },
    {
     "name": "stdout",
     "output_type": "stream",
     "text": [
      "================\n",
      "Configuration:\n",
      "K: 118\n",
      "Weights: distance\n",
      "Algorithm: ball_tree\n",
      "Distance Metric: nan_euclidean\n",
      "Oversampling Method: none\n",
      "----------------\n",
      "Invalid Config\n"
     ]
    },
    {
     "name": "stderr",
     "output_type": "stream",
     "text": [
      "C:\\Users\\Aaron\\AppData\\Roaming\\Python\\Python311\\site-packages\\skopt\\optimizer\\optimizer.py:517: UserWarning: The objective has been evaluated at point [155, 'distance', 'auto', 'cosine', 'ada'] before, using random point [68, 'uniform', 'ball_tree', 'manhattan', 'ada']\n",
      "  warnings.warn(\n"
     ]
    },
    {
     "name": "stdout",
     "output_type": "stream",
     "text": [
      "================\n",
      "Configuration:\n",
      "K: 68\n",
      "Weights: uniform\n",
      "Algorithm: ball_tree\n",
      "Distance Metric: manhattan\n",
      "Oversampling Method: ada\n",
      "----------------\n",
      "Results: -0.8682260372267195\n",
      "================\n",
      "================\n",
      "Configuration:\n",
      "K: 3\n",
      "Weights: uniform\n",
      "Algorithm: auto\n",
      "Distance Metric: nan_euclidean\n",
      "Oversampling Method: ada\n",
      "----------------\n",
      "Results: -0.9218046110953201\n",
      "================\n"
     ]
    },
    {
     "name": "stderr",
     "output_type": "stream",
     "text": [
      "C:\\Users\\Aaron\\AppData\\Roaming\\Python\\Python311\\site-packages\\skopt\\optimizer\\optimizer.py:517: UserWarning: The objective has been evaluated at point [157, 'uniform', 'auto', 'nan_euclidean', 'none'] before, using random point [225, 'distance', 'ball_tree', 'manhattan', 'ada']\n",
      "  warnings.warn(\n"
     ]
    },
    {
     "name": "stdout",
     "output_type": "stream",
     "text": [
      "================\n",
      "Configuration:\n",
      "K: 225\n",
      "Weights: distance\n",
      "Algorithm: ball_tree\n",
      "Distance Metric: manhattan\n",
      "Oversampling Method: ada\n",
      "----------------\n",
      "Results: -0.8873184015867794\n",
      "================\n"
     ]
    },
    {
     "name": "stderr",
     "output_type": "stream",
     "text": [
      "C:\\Users\\Aaron\\AppData\\Roaming\\Python\\Python311\\site-packages\\skopt\\optimizer\\optimizer.py:517: UserWarning: The objective has been evaluated at point [156, 'uniform', 'auto', 'nan_euclidean', 'none'] before, using random point [282, 'uniform', 'ball_tree', 'cosine', 'ada']\n",
      "  warnings.warn(\n"
     ]
    },
    {
     "name": "stdout",
     "output_type": "stream",
     "text": [
      "================\n",
      "Configuration:\n",
      "K: 282\n",
      "Weights: uniform\n",
      "Algorithm: ball_tree\n",
      "Distance Metric: cosine\n",
      "Oversampling Method: ada\n",
      "----------------\n",
      "Invalid Config\n"
     ]
    },
    {
     "name": "stderr",
     "output_type": "stream",
     "text": [
      "C:\\Users\\Aaron\\AppData\\Roaming\\Python\\Python311\\site-packages\\skopt\\optimizer\\optimizer.py:517: UserWarning: The objective has been evaluated at point [156, 'uniform', 'auto', 'nan_euclidean', 'none'] before, using random point [161, 'distance', 'ball_tree', 'l1', 'ada']\n",
      "  warnings.warn(\n"
     ]
    },
    {
     "name": "stdout",
     "output_type": "stream",
     "text": [
      "================\n",
      "Configuration:\n",
      "K: 161\n",
      "Weights: distance\n",
      "Algorithm: ball_tree\n",
      "Distance Metric: l1\n",
      "Oversampling Method: ada\n",
      "----------------\n",
      "Results: -0.8933768900106358\n",
      "================\n"
     ]
    },
    {
     "name": "stderr",
     "output_type": "stream",
     "text": [
      "C:\\Users\\Aaron\\AppData\\Roaming\\Python\\Python311\\site-packages\\skopt\\optimizer\\optimizer.py:517: UserWarning: The objective has been evaluated at point [157, 'uniform', 'auto', 'nan_euclidean', 'none'] before, using random point [65, 'distance', 'kd_tree', 'l1', 'ada']\n",
      "  warnings.warn(\n"
     ]
    },
    {
     "name": "stdout",
     "output_type": "stream",
     "text": [
      "================\n",
      "Configuration:\n",
      "K: 65\n",
      "Weights: distance\n",
      "Algorithm: kd_tree\n",
      "Distance Metric: l1\n",
      "Oversampling Method: ada\n",
      "----------------\n",
      "Results: -0.9110354207083152\n",
      "================\n"
     ]
    },
    {
     "name": "stderr",
     "output_type": "stream",
     "text": [
      "C:\\Users\\Aaron\\AppData\\Roaming\\Python\\Python311\\site-packages\\skopt\\optimizer\\optimizer.py:517: UserWarning: The objective has been evaluated at point [157, 'uniform', 'auto', 'nan_euclidean', 'none'] before, using random point [256, 'distance', 'kd_tree', 'nan_euclidean', 'ada']\n",
      "  warnings.warn(\n"
     ]
    },
    {
     "name": "stdout",
     "output_type": "stream",
     "text": [
      "================\n",
      "Configuration:\n",
      "K: 256\n",
      "Weights: distance\n",
      "Algorithm: kd_tree\n",
      "Distance Metric: nan_euclidean\n",
      "Oversampling Method: ada\n",
      "----------------\n",
      "Invalid Config\n"
     ]
    },
    {
     "name": "stderr",
     "output_type": "stream",
     "text": [
      "C:\\Users\\Aaron\\AppData\\Roaming\\Python\\Python311\\site-packages\\skopt\\optimizer\\optimizer.py:517: UserWarning: The objective has been evaluated at point [155, 'distance', 'auto', 'cosine', 'ada'] before, using random point [106, 'distance', 'kd_tree', 'l2', 'none']\n",
      "  warnings.warn(\n"
     ]
    },
    {
     "name": "stdout",
     "output_type": "stream",
     "text": [
      "================\n",
      "Configuration:\n",
      "K: 106\n",
      "Weights: distance\n",
      "Algorithm: kd_tree\n",
      "Distance Metric: l2\n",
      "Oversampling Method: none\n",
      "----------------\n",
      "Results: -0.8913837903732623\n",
      "================\n"
     ]
    },
    {
     "name": "stderr",
     "output_type": "stream",
     "text": [
      "C:\\Users\\Aaron\\AppData\\Roaming\\Python\\Python311\\site-packages\\skopt\\optimizer\\optimizer.py:517: UserWarning: The objective has been evaluated at point [156, 'uniform', 'auto', 'nan_euclidean', 'none'] before, using random point [11, 'uniform', 'auto', 'nan_euclidean', 'none']\n",
      "  warnings.warn(\n"
     ]
    },
    {
     "name": "stdout",
     "output_type": "stream",
     "text": [
      "================\n",
      "Configuration:\n",
      "K: 11\n",
      "Weights: uniform\n",
      "Algorithm: auto\n",
      "Distance Metric: nan_euclidean\n",
      "Oversampling Method: none\n",
      "----------------\n",
      "Results: -0.9076389853858534\n",
      "================\n"
     ]
    },
    {
     "name": "stderr",
     "output_type": "stream",
     "text": [
      "C:\\Users\\Aaron\\AppData\\Roaming\\Python\\Python311\\site-packages\\skopt\\optimizer\\optimizer.py:517: UserWarning: The objective has been evaluated at point [155, 'distance', 'auto', 'cosine', 'ada'] before, using random point [138, 'distance', 'ball_tree', 'l1', 'none']\n",
      "  warnings.warn(\n"
     ]
    },
    {
     "name": "stdout",
     "output_type": "stream",
     "text": [
      "================\n",
      "Configuration:\n",
      "K: 138\n",
      "Weights: distance\n",
      "Algorithm: ball_tree\n",
      "Distance Metric: l1\n",
      "Oversampling Method: none\n",
      "----------------\n",
      "Results: -0.8962437938347051\n",
      "================\n"
     ]
    },
    {
     "name": "stderr",
     "output_type": "stream",
     "text": [
      "C:\\Users\\Aaron\\AppData\\Roaming\\Python\\Python311\\site-packages\\skopt\\optimizer\\optimizer.py:517: UserWarning: The objective has been evaluated at point [155, 'distance', 'auto', 'cosine', 'ada'] before, using random point [311, 'uniform', 'kd_tree', 'cosine', 'ada']\n",
      "  warnings.warn(\n"
     ]
    },
    {
     "name": "stdout",
     "output_type": "stream",
     "text": [
      "================\n",
      "Configuration:\n",
      "K: 311\n",
      "Weights: uniform\n",
      "Algorithm: kd_tree\n",
      "Distance Metric: cosine\n",
      "Oversampling Method: ada\n",
      "----------------\n",
      "Invalid Config\n"
     ]
    },
    {
     "name": "stderr",
     "output_type": "stream",
     "text": [
      "C:\\Users\\Aaron\\AppData\\Roaming\\Python\\Python311\\site-packages\\skopt\\optimizer\\optimizer.py:517: UserWarning: The objective has been evaluated at point [155, 'distance', 'auto', 'cosine', 'ada'] before, using random point [287, 'uniform', 'auto', 'cosine', 'none']\n",
      "  warnings.warn(\n"
     ]
    },
    {
     "name": "stdout",
     "output_type": "stream",
     "text": [
      "================\n",
      "Configuration:\n",
      "K: 287\n",
      "Weights: uniform\n",
      "Algorithm: auto\n",
      "Distance Metric: cosine\n",
      "Oversampling Method: none\n",
      "----------------\n",
      "Results: -0.8293049592687566\n",
      "================\n",
      "================\n",
      "Configuration:\n",
      "K: 3\n",
      "Weights: distance\n",
      "Algorithm: auto\n",
      "Distance Metric: manhattan\n",
      "Oversampling Method: ada\n",
      "----------------\n",
      "Results: -0.9376191348268196\n",
      "================\n"
     ]
    },
    {
     "name": "stderr",
     "output_type": "stream",
     "text": [
      "C:\\Users\\Aaron\\AppData\\Roaming\\Python\\Python311\\site-packages\\skopt\\optimizer\\optimizer.py:517: UserWarning: The objective has been evaluated at point [155, 'uniform', 'auto', 'nan_euclidean', 'none'] before, using random point [114, 'distance', 'kd_tree', 'l2', 'ada']\n",
      "  warnings.warn(\n"
     ]
    },
    {
     "name": "stdout",
     "output_type": "stream",
     "text": [
      "================\n",
      "Configuration:\n",
      "K: 114\n",
      "Weights: distance\n",
      "Algorithm: kd_tree\n",
      "Distance Metric: l2\n",
      "Oversampling Method: ada\n",
      "----------------\n",
      "Results: -0.889981713418209\n",
      "================\n"
     ]
    },
    {
     "name": "stderr",
     "output_type": "stream",
     "text": [
      "C:\\Users\\Aaron\\AppData\\Roaming\\Python\\Python311\\site-packages\\skopt\\optimizer\\optimizer.py:517: UserWarning: The objective has been evaluated at point [154, 'uniform', 'auto', 'nan_euclidean', 'none'] before, using random point [222, 'distance', 'ball_tree', 'euclidean', 'none']\n",
      "  warnings.warn(\n"
     ]
    },
    {
     "name": "stdout",
     "output_type": "stream",
     "text": [
      "================\n",
      "Configuration:\n",
      "K: 222\n",
      "Weights: distance\n",
      "Algorithm: ball_tree\n",
      "Distance Metric: euclidean\n",
      "Oversampling Method: none\n",
      "----------------\n",
      "Results: -0.8771733167247854\n",
      "================\n",
      "================\n",
      "Configuration:\n",
      "K: 317\n",
      "Weights: distance\n",
      "Algorithm: auto\n",
      "Distance Metric: nan_euclidean\n",
      "Oversampling Method: none\n",
      "----------------\n",
      "Results: -0.8703098173834279\n",
      "================\n",
      "================\n",
      "Configuration:\n",
      "K: 317\n",
      "Weights: uniform\n",
      "Algorithm: auto\n",
      "Distance Metric: euclidean\n",
      "Oversampling Method: none\n",
      "----------------\n",
      "Results: -0.8303065582788944\n",
      "================\n"
     ]
    },
    {
     "name": "stderr",
     "output_type": "stream",
     "text": [
      "C:\\Users\\Aaron\\AppData\\Roaming\\Python\\Python311\\site-packages\\skopt\\optimizer\\optimizer.py:517: UserWarning: The objective has been evaluated at point [157, 'uniform', 'auto', 'nan_euclidean', 'none'] before, using random point [229, 'distance', 'ball_tree', 'cosine', 'none']\n",
      "  warnings.warn(\n"
     ]
    },
    {
     "name": "stdout",
     "output_type": "stream",
     "text": [
      "================\n",
      "Configuration:\n",
      "K: 229\n",
      "Weights: distance\n",
      "Algorithm: ball_tree\n",
      "Distance Metric: cosine\n",
      "Oversampling Method: none\n",
      "----------------\n",
      "Invalid Config\n",
      "================\n",
      "Configuration:\n",
      "K: 2\n",
      "Weights: uniform\n",
      "Algorithm: auto\n",
      "Distance Metric: cityblock\n",
      "Oversampling Method: none\n",
      "----------------\n",
      "Results: -0.9249392447186408\n",
      "================\n"
     ]
    },
    {
     "name": "stderr",
     "output_type": "stream",
     "text": [
      "C:\\Users\\Aaron\\AppData\\Roaming\\Python\\Python311\\site-packages\\skopt\\optimizer\\optimizer.py:517: UserWarning: The objective has been evaluated at point [159, 'uniform', 'auto', 'nan_euclidean', 'none'] before, using random point [296, 'distance', 'ball_tree', 'euclidean', 'none']\n",
      "  warnings.warn(\n"
     ]
    },
    {
     "name": "stdout",
     "output_type": "stream",
     "text": [
      "================\n",
      "Configuration:\n",
      "K: 296\n",
      "Weights: distance\n",
      "Algorithm: ball_tree\n",
      "Distance Metric: euclidean\n",
      "Oversampling Method: none\n",
      "----------------\n",
      "Results: -0.8716633720076211\n",
      "================\n"
     ]
    },
    {
     "name": "stderr",
     "output_type": "stream",
     "text": [
      "C:\\Users\\Aaron\\AppData\\Roaming\\Python\\Python311\\site-packages\\skopt\\optimizer\\optimizer.py:517: UserWarning: The objective has been evaluated at point [157, 'uniform', 'auto', 'nan_euclidean', 'none'] before, using random point [32, 'uniform', 'auto', 'cityblock', 'ada']\n",
      "  warnings.warn(\n"
     ]
    },
    {
     "name": "stdout",
     "output_type": "stream",
     "text": [
      "================\n",
      "Configuration:\n",
      "K: 32\n",
      "Weights: uniform\n",
      "Algorithm: auto\n",
      "Distance Metric: cityblock\n",
      "Oversampling Method: ada\n",
      "----------------\n",
      "Results: -0.8881161555044468\n",
      "================\n"
     ]
    },
    {
     "name": "stderr",
     "output_type": "stream",
     "text": [
      "C:\\Users\\Aaron\\AppData\\Roaming\\Python\\Python311\\site-packages\\skopt\\optimizer\\optimizer.py:517: UserWarning: The objective has been evaluated at point [157, 'uniform', 'auto', 'nan_euclidean', 'none'] before, using random point [52, 'distance', 'kd_tree', 'nan_euclidean', 'none']\n",
      "  warnings.warn(\n"
     ]
    },
    {
     "name": "stdout",
     "output_type": "stream",
     "text": [
      "================\n",
      "Configuration:\n",
      "K: 52\n",
      "Weights: distance\n",
      "Algorithm: kd_tree\n",
      "Distance Metric: nan_euclidean\n",
      "Oversampling Method: none\n",
      "----------------\n",
      "Invalid Config\n"
     ]
    },
    {
     "name": "stderr",
     "output_type": "stream",
     "text": [
      "C:\\Users\\Aaron\\AppData\\Roaming\\Python\\Python311\\site-packages\\skopt\\optimizer\\optimizer.py:517: UserWarning: The objective has been evaluated at point [158, 'uniform', 'auto', 'nan_euclidean', 'none'] before, using random point [81, 'distance', 'auto', 'cosine', 'ada']\n",
      "  warnings.warn(\n"
     ]
    },
    {
     "name": "stdout",
     "output_type": "stream",
     "text": [
      "================\n",
      "Configuration:\n",
      "K: 81\n",
      "Weights: distance\n",
      "Algorithm: auto\n",
      "Distance Metric: cosine\n",
      "Oversampling Method: ada\n",
      "----------------\n",
      "Results: -0.933092405773298\n",
      "================\n"
     ]
    },
    {
     "name": "stderr",
     "output_type": "stream",
     "text": [
      "C:\\Users\\Aaron\\AppData\\Roaming\\Python\\Python311\\site-packages\\skopt\\optimizer\\optimizer.py:517: UserWarning: The objective has been evaluated at point [157, 'uniform', 'auto', 'nan_euclidean', 'none'] before, using random point [120, 'uniform', 'kd_tree', 'cityblock', 'ada']\n",
      "  warnings.warn(\n"
     ]
    },
    {
     "name": "stdout",
     "output_type": "stream",
     "text": [
      "================\n",
      "Configuration:\n",
      "K: 120\n",
      "Weights: uniform\n",
      "Algorithm: kd_tree\n",
      "Distance Metric: cityblock\n",
      "Oversampling Method: ada\n",
      "----------------\n",
      "Results: -0.8547821012672158\n",
      "================\n"
     ]
    },
    {
     "name": "stderr",
     "output_type": "stream",
     "text": [
      "C:\\Users\\Aaron\\AppData\\Roaming\\Python\\Python311\\site-packages\\skopt\\optimizer\\optimizer.py:517: UserWarning: The objective has been evaluated at point [157, 'uniform', 'auto', 'nan_euclidean', 'none'] before, using random point [48, 'distance', 'kd_tree', 'nan_euclidean', 'ada']\n",
      "  warnings.warn(\n"
     ]
    },
    {
     "name": "stdout",
     "output_type": "stream",
     "text": [
      "================\n",
      "Configuration:\n",
      "K: 48\n",
      "Weights: distance\n",
      "Algorithm: kd_tree\n",
      "Distance Metric: nan_euclidean\n",
      "Oversampling Method: ada\n",
      "----------------\n",
      "Invalid Config\n"
     ]
    },
    {
     "name": "stderr",
     "output_type": "stream",
     "text": [
      "C:\\Users\\Aaron\\AppData\\Roaming\\Python\\Python311\\site-packages\\skopt\\optimizer\\optimizer.py:517: UserWarning: The objective has been evaluated at point [157, 'uniform', 'auto', 'nan_euclidean', 'none'] before, using random point [94, 'uniform', 'ball_tree', 'cosine', 'none']\n",
      "  warnings.warn(\n"
     ]
    },
    {
     "name": "stdout",
     "output_type": "stream",
     "text": [
      "================\n",
      "Configuration:\n",
      "K: 94\n",
      "Weights: uniform\n",
      "Algorithm: ball_tree\n",
      "Distance Metric: cosine\n",
      "Oversampling Method: none\n",
      "----------------\n",
      "Invalid Config\n"
     ]
    },
    {
     "name": "stderr",
     "output_type": "stream",
     "text": [
      "C:\\Users\\Aaron\\AppData\\Roaming\\Python\\Python311\\site-packages\\skopt\\optimizer\\optimizer.py:517: UserWarning: The objective has been evaluated at point [157, 'uniform', 'auto', 'nan_euclidean', 'none'] before, using random point [164, 'distance', 'kd_tree', 'cityblock', 'none']\n",
      "  warnings.warn(\n"
     ]
    },
    {
     "name": "stdout",
     "output_type": "stream",
     "text": [
      "================\n",
      "Configuration:\n",
      "K: 164\n",
      "Weights: distance\n",
      "Algorithm: kd_tree\n",
      "Distance Metric: cityblock\n",
      "Oversampling Method: none\n",
      "----------------\n",
      "Results: -0.8930204166044645\n",
      "================\n"
     ]
    },
    {
     "name": "stderr",
     "output_type": "stream",
     "text": [
      "C:\\Users\\Aaron\\AppData\\Roaming\\Python\\Python311\\site-packages\\skopt\\optimizer\\optimizer.py:517: UserWarning: The objective has been evaluated at point [157, 'uniform', 'auto', 'nan_euclidean', 'none'] before, using random point [132, 'distance', 'ball_tree', 'cosine', 'none']\n",
      "  warnings.warn(\n"
     ]
    },
    {
     "name": "stdout",
     "output_type": "stream",
     "text": [
      "================\n",
      "Configuration:\n",
      "K: 132\n",
      "Weights: distance\n",
      "Algorithm: ball_tree\n",
      "Distance Metric: cosine\n",
      "Oversampling Method: none\n",
      "----------------\n",
      "Invalid Config\n"
     ]
    },
    {
     "name": "stderr",
     "output_type": "stream",
     "text": [
      "C:\\Users\\Aaron\\AppData\\Roaming\\Python\\Python311\\site-packages\\skopt\\optimizer\\optimizer.py:517: UserWarning: The objective has been evaluated at point [158, 'uniform', 'auto', 'nan_euclidean', 'none'] before, using random point [222, 'distance', 'ball_tree', 'cityblock', 'none']\n",
      "  warnings.warn(\n"
     ]
    },
    {
     "name": "stdout",
     "output_type": "stream",
     "text": [
      "================\n",
      "Configuration:\n",
      "K: 222\n",
      "Weights: distance\n",
      "Algorithm: ball_tree\n",
      "Distance Metric: cityblock\n",
      "Oversampling Method: none\n",
      "----------------\n",
      "Results: -0.8875301785778604\n",
      "================\n"
     ]
    },
    {
     "name": "stderr",
     "output_type": "stream",
     "text": [
      "C:\\Users\\Aaron\\AppData\\Roaming\\Python\\Python311\\site-packages\\skopt\\optimizer\\optimizer.py:517: UserWarning: The objective has been evaluated at point [158, 'uniform', 'auto', 'nan_euclidean', 'none'] before, using random point [294, 'uniform', 'kd_tree', 'l1', 'none']\n",
      "  warnings.warn(\n"
     ]
    },
    {
     "name": "stdout",
     "output_type": "stream",
     "text": [
      "================\n",
      "Configuration:\n",
      "K: 294\n",
      "Weights: uniform\n",
      "Algorithm: kd_tree\n",
      "Distance Metric: l1\n",
      "Oversampling Method: none\n",
      "----------------\n",
      "Results: -0.8411942360805679\n",
      "================\n"
     ]
    },
    {
     "name": "stderr",
     "output_type": "stream",
     "text": [
      "C:\\Users\\Aaron\\AppData\\Roaming\\Python\\Python311\\site-packages\\skopt\\optimizer\\optimizer.py:517: UserWarning: The objective has been evaluated at point [158, 'uniform', 'auto', 'nan_euclidean', 'none'] before, using random point [81, 'distance', 'kd_tree', 'manhattan', 'ada']\n",
      "  warnings.warn(\n"
     ]
    },
    {
     "name": "stdout",
     "output_type": "stream",
     "text": [
      "================\n",
      "Configuration:\n",
      "K: 81\n",
      "Weights: distance\n",
      "Algorithm: kd_tree\n",
      "Distance Metric: manhattan\n",
      "Oversampling Method: ada\n",
      "----------------\n",
      "Results: -0.9067323078660069\n",
      "================\n",
      "================\n",
      "Configuration:\n",
      "K: 157\n",
      "Weights: distance\n",
      "Algorithm: auto\n",
      "Distance Metric: l2\n",
      "Oversampling Method: ada\n",
      "----------------\n",
      "Results: -0.8838425288070592\n",
      "================\n",
      "================\n",
      "Configuration:\n",
      "K: 153\n",
      "Weights: distance\n",
      "Algorithm: auto\n",
      "Distance Metric: l2\n",
      "Oversampling Method: ada\n",
      "----------------\n",
      "Results: -0.8843208316312042\n",
      "================\n",
      "================\n",
      "Configuration:\n",
      "K: 152\n",
      "Weights: distance\n",
      "Algorithm: auto\n",
      "Distance Metric: cityblock\n",
      "Oversampling Method: ada\n",
      "----------------\n",
      "Results: -0.8944178546408598\n",
      "================\n",
      "================\n",
      "Configuration:\n",
      "K: 320\n",
      "Weights: uniform\n",
      "Algorithm: kd_tree\n",
      "Distance Metric: manhattan\n",
      "Oversampling Method: ada\n",
      "----------------\n",
      "Results: -0.8403153199817472\n",
      "================\n",
      "================\n",
      "Configuration:\n",
      "K: 1\n",
      "Weights: distance\n",
      "Algorithm: ball_tree\n",
      "Distance Metric: manhattan\n",
      "Oversampling Method: none\n",
      "----------------\n",
      "Results: -0.9041661900670556\n",
      "================\n"
     ]
    },
    {
     "name": "stderr",
     "output_type": "stream",
     "text": [
      "C:\\Users\\Aaron\\AppData\\Roaming\\Python\\Python311\\site-packages\\skopt\\optimizer\\optimizer.py:517: UserWarning: The objective has been evaluated at point [157, 'uniform', 'auto', 'nan_euclidean', 'none'] before, using random point [71, 'distance', 'ball_tree', 'cosine', 'none']\n",
      "  warnings.warn(\n"
     ]
    },
    {
     "name": "stdout",
     "output_type": "stream",
     "text": [
      "================\n",
      "Configuration:\n",
      "K: 71\n",
      "Weights: distance\n",
      "Algorithm: ball_tree\n",
      "Distance Metric: cosine\n",
      "Oversampling Method: none\n",
      "----------------\n",
      "Invalid Config\n",
      "================\n",
      "Configuration:\n",
      "K: 1\n",
      "Weights: uniform\n",
      "Algorithm: kd_tree\n",
      "Distance Metric: manhattan\n",
      "Oversampling Method: ada\n",
      "----------------\n",
      "Results: -0.9041661900670556\n",
      "================\n",
      "================\n",
      "Configuration:\n",
      "K: 320\n",
      "Weights: distance\n",
      "Algorithm: kd_tree\n",
      "Distance Metric: manhattan\n",
      "Oversampling Method: ada\n",
      "----------------\n",
      "Results: -0.8811887865869156\n",
      "================\n",
      "================\n",
      "Configuration:\n",
      "K: 320\n",
      "Weights: distance\n",
      "Algorithm: ball_tree\n",
      "Distance Metric: manhattan\n",
      "Oversampling Method: ada\n",
      "----------------\n",
      "Results: -0.8811887865869156\n",
      "================\n",
      "================\n",
      "Configuration:\n",
      "K: 320\n",
      "Weights: uniform\n",
      "Algorithm: ball_tree\n",
      "Distance Metric: manhattan\n",
      "Oversampling Method: none\n",
      "----------------\n",
      "Results: -0.8403153199817472\n",
      "================\n"
     ]
    },
    {
     "name": "stderr",
     "output_type": "stream",
     "text": [
      "C:\\Users\\Aaron\\AppData\\Roaming\\Python\\Python311\\site-packages\\skopt\\optimizer\\optimizer.py:517: UserWarning: The objective has been evaluated at point [158, 'uniform', 'auto', 'nan_euclidean', 'none'] before, using random point [12, 'distance', 'kd_tree', 'cosine', 'ada']\n",
      "  warnings.warn(\n"
     ]
    },
    {
     "name": "stdout",
     "output_type": "stream",
     "text": [
      "================\n",
      "Configuration:\n",
      "K: 12\n",
      "Weights: distance\n",
      "Algorithm: kd_tree\n",
      "Distance Metric: cosine\n",
      "Oversampling Method: ada\n",
      "----------------\n",
      "Invalid Config\n"
     ]
    },
    {
     "name": "stderr",
     "output_type": "stream",
     "text": [
      "C:\\Users\\Aaron\\AppData\\Roaming\\Python\\Python311\\site-packages\\skopt\\optimizer\\optimizer.py:517: UserWarning: The objective has been evaluated at point [158, 'uniform', 'auto', 'nan_euclidean', 'none'] before, using random point [169, 'distance', 'ball_tree', 'nan_euclidean', 'none']\n",
      "  warnings.warn(\n"
     ]
    },
    {
     "name": "stdout",
     "output_type": "stream",
     "text": [
      "================\n",
      "Configuration:\n",
      "K: 169\n",
      "Weights: distance\n",
      "Algorithm: ball_tree\n",
      "Distance Metric: nan_euclidean\n",
      "Oversampling Method: none\n",
      "----------------\n",
      "Invalid Config\n"
     ]
    },
    {
     "name": "stderr",
     "output_type": "stream",
     "text": [
      "C:\\Users\\Aaron\\AppData\\Roaming\\Python\\Python311\\site-packages\\skopt\\optimizer\\optimizer.py:517: UserWarning: The objective has been evaluated at point [158, 'uniform', 'auto', 'nan_euclidean', 'none'] before, using random point [220, 'distance', 'auto', 'cityblock', 'none']\n",
      "  warnings.warn(\n"
     ]
    },
    {
     "name": "stdout",
     "output_type": "stream",
     "text": [
      "================\n",
      "Configuration:\n",
      "K: 220\n",
      "Weights: distance\n",
      "Algorithm: auto\n",
      "Distance Metric: cityblock\n",
      "Oversampling Method: none\n",
      "----------------\n",
      "Results: -0.887692067757083\n",
      "================\n"
     ]
    },
    {
     "name": "stderr",
     "output_type": "stream",
     "text": [
      "C:\\Users\\Aaron\\AppData\\Roaming\\Python\\Python311\\site-packages\\skopt\\optimizer\\optimizer.py:517: UserWarning: The objective has been evaluated at point [158, 'uniform', 'auto', 'nan_euclidean', 'none'] before, using random point [178, 'uniform', 'kd_tree', 'nan_euclidean', 'ada']\n",
      "  warnings.warn(\n"
     ]
    },
    {
     "name": "stdout",
     "output_type": "stream",
     "text": [
      "================\n",
      "Configuration:\n",
      "K: 178\n",
      "Weights: uniform\n",
      "Algorithm: kd_tree\n",
      "Distance Metric: nan_euclidean\n",
      "Oversampling Method: ada\n",
      "----------------\n",
      "Invalid Config\n"
     ]
    },
    {
     "name": "stderr",
     "output_type": "stream",
     "text": [
      "C:\\Users\\Aaron\\AppData\\Roaming\\Python\\Python311\\site-packages\\skopt\\optimizer\\optimizer.py:517: UserWarning: The objective has been evaluated at point [158, 'uniform', 'auto', 'nan_euclidean', 'none'] before, using random point [137, 'distance', 'auto', 'cityblock', 'none']\n",
      "  warnings.warn(\n"
     ]
    },
    {
     "name": "stdout",
     "output_type": "stream",
     "text": [
      "================\n",
      "Configuration:\n",
      "K: 137\n",
      "Weights: distance\n",
      "Algorithm: auto\n",
      "Distance Metric: cityblock\n",
      "Oversampling Method: none\n",
      "----------------\n",
      "Results: -0.8963612044071966\n",
      "================\n"
     ]
    },
    {
     "name": "stderr",
     "output_type": "stream",
     "text": [
      "C:\\Users\\Aaron\\AppData\\Roaming\\Python\\Python311\\site-packages\\skopt\\optimizer\\optimizer.py:517: UserWarning: The objective has been evaluated at point [157, 'uniform', 'auto', 'nan_euclidean', 'none'] before, using random point [11, 'distance', 'auto', 'cosine', 'none']\n",
      "  warnings.warn(\n"
     ]
    },
    {
     "name": "stdout",
     "output_type": "stream",
     "text": [
      "================\n",
      "Configuration:\n",
      "K: 11\n",
      "Weights: distance\n",
      "Algorithm: auto\n",
      "Distance Metric: cosine\n",
      "Oversampling Method: none\n",
      "----------------\n",
      "Results: -0.942834833683229\n",
      "================\n"
     ]
    },
    {
     "name": "stderr",
     "output_type": "stream",
     "text": [
      "C:\\Users\\Aaron\\AppData\\Roaming\\Python\\Python311\\site-packages\\skopt\\optimizer\\optimizer.py:517: UserWarning: The objective has been evaluated at point [154, 'distance', 'auto', 'cosine', 'ada'] before, using random point [217, 'distance', 'ball_tree', 'manhattan', 'none']\n",
      "  warnings.warn(\n"
     ]
    },
    {
     "name": "stdout",
     "output_type": "stream",
     "text": [
      "================\n",
      "Configuration:\n",
      "K: 217\n",
      "Weights: distance\n",
      "Algorithm: ball_tree\n",
      "Distance Metric: manhattan\n",
      "Oversampling Method: none\n",
      "----------------\n",
      "Results: -0.8879428904977177\n",
      "================\n"
     ]
    },
    {
     "name": "stderr",
     "output_type": "stream",
     "text": [
      "C:\\Users\\Aaron\\AppData\\Roaming\\Python\\Python311\\site-packages\\skopt\\optimizer\\optimizer.py:517: UserWarning: The objective has been evaluated at point [154, 'distance', 'auto', 'cosine', 'ada'] before, using random point [252, 'uniform', 'ball_tree', 'cityblock', 'ada']\n",
      "  warnings.warn(\n"
     ]
    },
    {
     "name": "stdout",
     "output_type": "stream",
     "text": [
      "================\n",
      "Configuration:\n",
      "K: 252\n",
      "Weights: uniform\n",
      "Algorithm: ball_tree\n",
      "Distance Metric: cityblock\n",
      "Oversampling Method: ada\n",
      "----------------\n",
      "Results: -0.8428414166277943\n",
      "================\n"
     ]
    },
    {
     "name": "stderr",
     "output_type": "stream",
     "text": [
      "C:\\Users\\Aaron\\AppData\\Roaming\\Python\\Python311\\site-packages\\skopt\\optimizer\\optimizer.py:517: UserWarning: The objective has been evaluated at point [154, 'distance', 'auto', 'cosine', 'ada'] before, using random point [19, 'uniform', 'ball_tree', 'euclidean', 'ada']\n",
      "  warnings.warn(\n"
     ]
    },
    {
     "name": "stdout",
     "output_type": "stream",
     "text": [
      "================\n",
      "Configuration:\n",
      "K: 19\n",
      "Weights: uniform\n",
      "Algorithm: ball_tree\n",
      "Distance Metric: euclidean\n",
      "Oversampling Method: ada\n",
      "----------------\n",
      "Results: -0.892367293567856\n",
      "================\n"
     ]
    },
    {
     "name": "stderr",
     "output_type": "stream",
     "text": [
      "C:\\Users\\Aaron\\AppData\\Roaming\\Python\\Python311\\site-packages\\skopt\\optimizer\\optimizer.py:517: UserWarning: The objective has been evaluated at point [154, 'distance', 'auto', 'cosine', 'ada'] before, using random point [294, 'uniform', 'auto', 'manhattan', 'none']\n",
      "  warnings.warn(\n"
     ]
    },
    {
     "name": "stdout",
     "output_type": "stream",
     "text": [
      "================\n",
      "Configuration:\n",
      "K: 294\n",
      "Weights: uniform\n",
      "Algorithm: auto\n",
      "Distance Metric: manhattan\n",
      "Oversampling Method: none\n",
      "----------------\n",
      "Results: -0.8411941835024904\n",
      "================\n"
     ]
    },
    {
     "name": "stderr",
     "output_type": "stream",
     "text": [
      "C:\\Users\\Aaron\\AppData\\Roaming\\Python\\Python311\\site-packages\\skopt\\optimizer\\optimizer.py:517: UserWarning: The objective has been evaluated at point [154, 'distance', 'auto', 'cosine', 'ada'] before, using random point [80, 'uniform', 'ball_tree', 'cityblock', 'ada']\n",
      "  warnings.warn(\n"
     ]
    },
    {
     "name": "stdout",
     "output_type": "stream",
     "text": [
      "================\n",
      "Configuration:\n",
      "K: 80\n",
      "Weights: uniform\n",
      "Algorithm: ball_tree\n",
      "Distance Metric: cityblock\n",
      "Oversampling Method: ada\n",
      "----------------\n",
      "Results: -0.8643966079273969\n",
      "================\n"
     ]
    },
    {
     "name": "stderr",
     "output_type": "stream",
     "text": [
      "C:\\Users\\Aaron\\AppData\\Roaming\\Python\\Python311\\site-packages\\skopt\\optimizer\\optimizer.py:517: UserWarning: The objective has been evaluated at point [154, 'distance', 'auto', 'cosine', 'ada'] before, using random point [163, 'uniform', 'kd_tree', 'cosine', 'ada']\n",
      "  warnings.warn(\n"
     ]
    },
    {
     "name": "stdout",
     "output_type": "stream",
     "text": [
      "================\n",
      "Configuration:\n",
      "K: 163\n",
      "Weights: uniform\n",
      "Algorithm: kd_tree\n",
      "Distance Metric: cosine\n",
      "Oversampling Method: ada\n",
      "----------------\n",
      "Invalid Config\n"
     ]
    },
    {
     "name": "stderr",
     "output_type": "stream",
     "text": [
      "C:\\Users\\Aaron\\AppData\\Roaming\\Python\\Python311\\site-packages\\skopt\\optimizer\\optimizer.py:517: UserWarning: The objective has been evaluated at point [154, 'distance', 'auto', 'cosine', 'ada'] before, using random point [247, 'uniform', 'auto', 'manhattan', 'ada']\n",
      "  warnings.warn(\n"
     ]
    },
    {
     "name": "stdout",
     "output_type": "stream",
     "text": [
      "================\n",
      "Configuration:\n",
      "K: 247\n",
      "Weights: uniform\n",
      "Algorithm: auto\n",
      "Distance Metric: manhattan\n",
      "Oversampling Method: ada\n",
      "----------------\n",
      "Results: -0.8431215832543065\n",
      "================\n"
     ]
    },
    {
     "name": "stderr",
     "output_type": "stream",
     "text": [
      "C:\\Users\\Aaron\\AppData\\Roaming\\Python\\Python311\\site-packages\\skopt\\optimizer\\optimizer.py:517: UserWarning: The objective has been evaluated at point [154, 'distance', 'auto', 'cosine', 'ada'] before, using random point [290, 'uniform', 'kd_tree', 'nan_euclidean', 'none']\n",
      "  warnings.warn(\n"
     ]
    },
    {
     "name": "stdout",
     "output_type": "stream",
     "text": [
      "================\n",
      "Configuration:\n",
      "K: 290\n",
      "Weights: uniform\n",
      "Algorithm: kd_tree\n",
      "Distance Metric: nan_euclidean\n",
      "Oversampling Method: none\n",
      "----------------\n",
      "Invalid Config\n"
     ]
    },
    {
     "name": "stderr",
     "output_type": "stream",
     "text": [
      "C:\\Users\\Aaron\\AppData\\Roaming\\Python\\Python311\\site-packages\\skopt\\optimizer\\optimizer.py:517: UserWarning: The objective has been evaluated at point [154, 'distance', 'auto', 'cosine', 'ada'] before, using random point [217, 'uniform', 'ball_tree', 'nan_euclidean', 'none']\n",
      "  warnings.warn(\n"
     ]
    },
    {
     "name": "stdout",
     "output_type": "stream",
     "text": [
      "================\n",
      "Configuration:\n",
      "K: 217\n",
      "Weights: uniform\n",
      "Algorithm: ball_tree\n",
      "Distance Metric: nan_euclidean\n",
      "Oversampling Method: none\n",
      "----------------\n",
      "Invalid Config\n"
     ]
    },
    {
     "name": "stderr",
     "output_type": "stream",
     "text": [
      "C:\\Users\\Aaron\\AppData\\Roaming\\Python\\Python311\\site-packages\\skopt\\optimizer\\optimizer.py:517: UserWarning: The objective has been evaluated at point [154, 'distance', 'auto', 'cosine', 'ada'] before, using random point [24, 'uniform', 'kd_tree', 'manhattan', 'none']\n",
      "  warnings.warn(\n"
     ]
    },
    {
     "name": "stdout",
     "output_type": "stream",
     "text": [
      "================\n",
      "Configuration:\n",
      "K: 24\n",
      "Weights: uniform\n",
      "Algorithm: kd_tree\n",
      "Distance Metric: manhattan\n",
      "Oversampling Method: none\n",
      "----------------\n",
      "Results: -0.8962721229711786\n",
      "================\n"
     ]
    },
    {
     "name": "stderr",
     "output_type": "stream",
     "text": [
      "C:\\Users\\Aaron\\AppData\\Roaming\\Python\\Python311\\site-packages\\skopt\\optimizer\\optimizer.py:517: UserWarning: The objective has been evaluated at point [154, 'distance', 'auto', 'cosine', 'ada'] before, using random point [116, 'uniform', 'kd_tree', 'cityblock', 'ada']\n",
      "  warnings.warn(\n"
     ]
    },
    {
     "name": "stdout",
     "output_type": "stream",
     "text": [
      "================\n",
      "Configuration:\n",
      "K: 116\n",
      "Weights: uniform\n",
      "Algorithm: kd_tree\n",
      "Distance Metric: cityblock\n",
      "Oversampling Method: ada\n",
      "----------------\n",
      "Results: -0.8554949450442156\n",
      "================\n"
     ]
    },
    {
     "name": "stderr",
     "output_type": "stream",
     "text": [
      "C:\\Users\\Aaron\\AppData\\Roaming\\Python\\Python311\\site-packages\\skopt\\optimizer\\optimizer.py:517: UserWarning: The objective has been evaluated at point [154, 'distance', 'auto', 'cosine', 'ada'] before, using random point [273, 'uniform', 'kd_tree', 'cityblock', 'none']\n",
      "  warnings.warn(\n"
     ]
    },
    {
     "name": "stdout",
     "output_type": "stream",
     "text": [
      "================\n",
      "Configuration:\n",
      "K: 273\n",
      "Weights: uniform\n",
      "Algorithm: kd_tree\n",
      "Distance Metric: cityblock\n",
      "Oversampling Method: none\n",
      "----------------\n",
      "Results: -0.8419736030117408\n",
      "================\n"
     ]
    },
    {
     "name": "stderr",
     "output_type": "stream",
     "text": [
      "C:\\Users\\Aaron\\AppData\\Roaming\\Python\\Python311\\site-packages\\skopt\\optimizer\\optimizer.py:517: UserWarning: The objective has been evaluated at point [154, 'distance', 'auto', 'cosine', 'ada'] before, using random point [136, 'distance', 'ball_tree', 'manhattan', 'ada']\n",
      "  warnings.warn(\n"
     ]
    },
    {
     "name": "stdout",
     "output_type": "stream",
     "text": [
      "================\n",
      "Configuration:\n",
      "K: 136\n",
      "Weights: distance\n",
      "Algorithm: ball_tree\n",
      "Distance Metric: manhattan\n",
      "Oversampling Method: ada\n",
      "----------------\n",
      "Results: -0.8964816924059015\n",
      "================\n"
     ]
    },
    {
     "name": "stderr",
     "output_type": "stream",
     "text": [
      "C:\\Users\\Aaron\\AppData\\Roaming\\Python\\Python311\\site-packages\\skopt\\optimizer\\optimizer.py:517: UserWarning: The objective has been evaluated at point [154, 'distance', 'auto', 'cosine', 'ada'] before, using random point [309, 'uniform', 'kd_tree', 'l2', 'ada']\n",
      "  warnings.warn(\n"
     ]
    },
    {
     "name": "stdout",
     "output_type": "stream",
     "text": [
      "================\n",
      "Configuration:\n",
      "K: 309\n",
      "Weights: uniform\n",
      "Algorithm: kd_tree\n",
      "Distance Metric: l2\n",
      "Oversampling Method: ada\n",
      "----------------\n",
      "Results: -0.830633675878898\n",
      "================\n"
     ]
    },
    {
     "name": "stderr",
     "output_type": "stream",
     "text": [
      "C:\\Users\\Aaron\\AppData\\Roaming\\Python\\Python311\\site-packages\\skopt\\optimizer\\optimizer.py:517: UserWarning: The objective has been evaluated at point [154, 'distance', 'auto', 'cosine', 'ada'] before, using random point [316, 'uniform', 'kd_tree', 'cityblock', 'ada']\n",
      "  warnings.warn(\n"
     ]
    },
    {
     "name": "stdout",
     "output_type": "stream",
     "text": [
      "================\n",
      "Configuration:\n",
      "K: 316\n",
      "Weights: uniform\n",
      "Algorithm: kd_tree\n",
      "Distance Metric: cityblock\n",
      "Oversampling Method: ada\n",
      "----------------\n",
      "Results: -0.8404360860551833\n",
      "================\n"
     ]
    },
    {
     "name": "stderr",
     "output_type": "stream",
     "text": [
      "C:\\Users\\Aaron\\AppData\\Roaming\\Python\\Python311\\site-packages\\skopt\\optimizer\\optimizer.py:517: UserWarning: The objective has been evaluated at point [154, 'distance', 'auto', 'cosine', 'ada'] before, using random point [180, 'uniform', 'auto', 'nan_euclidean', 'ada']\n",
      "  warnings.warn(\n"
     ]
    },
    {
     "name": "stdout",
     "output_type": "stream",
     "text": [
      "================\n",
      "Configuration:\n",
      "K: 180\n",
      "Weights: uniform\n",
      "Algorithm: auto\n",
      "Distance Metric: nan_euclidean\n",
      "Oversampling Method: ada\n",
      "----------------\n",
      "Results: -0.8384463641131598\n",
      "================\n"
     ]
    },
    {
     "name": "stderr",
     "output_type": "stream",
     "text": [
      "C:\\Users\\Aaron\\AppData\\Roaming\\Python\\Python311\\site-packages\\skopt\\optimizer\\optimizer.py:517: UserWarning: The objective has been evaluated at point [154, 'distance', 'auto', 'cosine', 'ada'] before, using random point [213, 'uniform', 'auto', 'nan_euclidean', 'none']\n",
      "  warnings.warn(\n"
     ]
    },
    {
     "name": "stdout",
     "output_type": "stream",
     "text": [
      "================\n",
      "Configuration:\n",
      "K: 213\n",
      "Weights: uniform\n",
      "Algorithm: auto\n",
      "Distance Metric: nan_euclidean\n",
      "Oversampling Method: none\n",
      "----------------\n",
      "Results: -0.8356630862330404\n",
      "================\n"
     ]
    },
    {
     "name": "stderr",
     "output_type": "stream",
     "text": [
      "C:\\Users\\Aaron\\AppData\\Roaming\\Python\\Python311\\site-packages\\skopt\\optimizer\\optimizer.py:517: UserWarning: The objective has been evaluated at point [154, 'distance', 'auto', 'cosine', 'ada'] before, using random point [241, 'distance', 'ball_tree', 'l2', 'none']\n",
      "  warnings.warn(\n"
     ]
    },
    {
     "name": "stdout",
     "output_type": "stream",
     "text": [
      "================\n",
      "Configuration:\n",
      "K: 241\n",
      "Weights: distance\n",
      "Algorithm: ball_tree\n",
      "Distance Metric: l2\n",
      "Oversampling Method: none\n",
      "----------------\n",
      "Results: -0.8755679654927307\n",
      "================\n"
     ]
    },
    {
     "name": "stderr",
     "output_type": "stream",
     "text": [
      "C:\\Users\\Aaron\\AppData\\Roaming\\Python\\Python311\\site-packages\\skopt\\optimizer\\optimizer.py:517: UserWarning: The objective has been evaluated at point [154, 'distance', 'auto', 'cosine', 'ada'] before, using random point [179, 'distance', 'auto', 'l2', 'ada']\n",
      "  warnings.warn(\n"
     ]
    },
    {
     "name": "stdout",
     "output_type": "stream",
     "text": [
      "================\n",
      "Configuration:\n",
      "K: 179\n",
      "Weights: distance\n",
      "Algorithm: auto\n",
      "Distance Metric: l2\n",
      "Oversampling Method: ada\n",
      "----------------\n",
      "Results: -0.8813415449836507\n",
      "================\n"
     ]
    },
    {
     "name": "stderr",
     "output_type": "stream",
     "text": [
      "C:\\Users\\Aaron\\AppData\\Roaming\\Python\\Python311\\site-packages\\skopt\\optimizer\\optimizer.py:517: UserWarning: The objective has been evaluated at point [154, 'distance', 'auto', 'cosine', 'ada'] before, using random point [204, 'distance', 'auto', 'manhattan', 'none']\n",
      "  warnings.warn(\n"
     ]
    },
    {
     "name": "stdout",
     "output_type": "stream",
     "text": [
      "================\n",
      "Configuration:\n",
      "K: 204\n",
      "Weights: distance\n",
      "Algorithm: auto\n",
      "Distance Metric: manhattan\n",
      "Oversampling Method: none\n",
      "----------------\n",
      "Results: -0.8889623413192805\n",
      "================\n"
     ]
    },
    {
     "name": "stderr",
     "output_type": "stream",
     "text": [
      "C:\\Users\\Aaron\\AppData\\Roaming\\Python\\Python311\\site-packages\\skopt\\optimizer\\optimizer.py:517: UserWarning: The objective has been evaluated at point [154, 'distance', 'auto', 'cosine', 'ada'] before, using random point [255, 'distance', 'auto', 'manhattan', 'none']\n",
      "  warnings.warn(\n"
     ]
    },
    {
     "name": "stdout",
     "output_type": "stream",
     "text": [
      "================\n",
      "Configuration:\n",
      "K: 255\n",
      "Weights: distance\n",
      "Algorithm: auto\n",
      "Distance Metric: manhattan\n",
      "Oversampling Method: none\n",
      "----------------\n",
      "Results: -0.8851113227077264\n",
      "================\n"
     ]
    },
    {
     "name": "stderr",
     "output_type": "stream",
     "text": [
      "C:\\Users\\Aaron\\AppData\\Roaming\\Python\\Python311\\site-packages\\skopt\\optimizer\\optimizer.py:517: UserWarning: The objective has been evaluated at point [154, 'distance', 'auto', 'cosine', 'ada'] before, using random point [136, 'uniform', 'kd_tree', 'l1', 'ada']\n",
      "  warnings.warn(\n"
     ]
    },
    {
     "name": "stdout",
     "output_type": "stream",
     "text": [
      "================\n",
      "Configuration:\n",
      "K: 136\n",
      "Weights: uniform\n",
      "Algorithm: kd_tree\n",
      "Distance Metric: l1\n",
      "Oversampling Method: ada\n",
      "----------------\n",
      "Results: -0.8522909203432874\n",
      "================\n"
     ]
    },
    {
     "name": "stderr",
     "output_type": "stream",
     "text": [
      "C:\\Users\\Aaron\\AppData\\Roaming\\Python\\Python311\\site-packages\\skopt\\optimizer\\optimizer.py:517: UserWarning: The objective has been evaluated at point [154, 'distance', 'auto', 'cosine', 'ada'] before, using random point [229, 'distance', 'ball_tree', 'manhattan', 'ada']\n",
      "  warnings.warn(\n"
     ]
    },
    {
     "name": "stdout",
     "output_type": "stream",
     "text": [
      "================\n",
      "Configuration:\n",
      "K: 229\n",
      "Weights: distance\n",
      "Algorithm: ball_tree\n",
      "Distance Metric: manhattan\n",
      "Oversampling Method: ada\n",
      "----------------\n",
      "Results: -0.8870233165936933\n",
      "================\n"
     ]
    },
    {
     "name": "stderr",
     "output_type": "stream",
     "text": [
      "C:\\Users\\Aaron\\AppData\\Roaming\\Python\\Python311\\site-packages\\skopt\\optimizer\\optimizer.py:517: UserWarning: The objective has been evaluated at point [154, 'distance', 'auto', 'cosine', 'ada'] before, using random point [174, 'distance', 'ball_tree', 'l1', 'ada']\n",
      "  warnings.warn(\n"
     ]
    },
    {
     "name": "stdout",
     "output_type": "stream",
     "text": [
      "================\n",
      "Configuration:\n",
      "K: 174\n",
      "Weights: distance\n",
      "Algorithm: ball_tree\n",
      "Distance Metric: l1\n",
      "Oversampling Method: ada\n",
      "----------------\n",
      "Results: -0.8918896738443349\n",
      "================\n"
     ]
    },
    {
     "name": "stderr",
     "output_type": "stream",
     "text": [
      "C:\\Users\\Aaron\\AppData\\Roaming\\Python\\Python311\\site-packages\\skopt\\optimizer\\optimizer.py:517: UserWarning: The objective has been evaluated at point [154, 'distance', 'auto', 'cosine', 'ada'] before, using random point [90, 'uniform', 'kd_tree', 'cosine', 'none']\n",
      "  warnings.warn(\n"
     ]
    },
    {
     "name": "stdout",
     "output_type": "stream",
     "text": [
      "================\n",
      "Configuration:\n",
      "K: 90\n",
      "Weights: uniform\n",
      "Algorithm: kd_tree\n",
      "Distance Metric: cosine\n",
      "Oversampling Method: none\n",
      "----------------\n",
      "Invalid Config\n"
     ]
    },
    {
     "name": "stderr",
     "output_type": "stream",
     "text": [
      "C:\\Users\\Aaron\\AppData\\Roaming\\Python\\Python311\\site-packages\\skopt\\optimizer\\optimizer.py:517: UserWarning: The objective has been evaluated at point [154, 'distance', 'auto', 'cosine', 'ada'] before, using random point [13, 'distance', 'ball_tree', 'l2', 'ada']\n",
      "  warnings.warn(\n"
     ]
    },
    {
     "name": "stdout",
     "output_type": "stream",
     "text": [
      "================\n",
      "Configuration:\n",
      "K: 13\n",
      "Weights: distance\n",
      "Algorithm: ball_tree\n",
      "Distance Metric: l2\n",
      "Oversampling Method: ada\n",
      "----------------\n",
      "Results: -0.9298527748315584\n",
      "================\n"
     ]
    },
    {
     "name": "stderr",
     "output_type": "stream",
     "text": [
      "C:\\Users\\Aaron\\AppData\\Roaming\\Python\\Python311\\site-packages\\skopt\\optimizer\\optimizer.py:517: UserWarning: The objective has been evaluated at point [154, 'distance', 'auto', 'cosine', 'ada'] before, using random point [96, 'distance', 'kd_tree', 'manhattan', 'none']\n",
      "  warnings.warn(\n"
     ]
    },
    {
     "name": "stdout",
     "output_type": "stream",
     "text": [
      "================\n",
      "Configuration:\n",
      "K: 96\n",
      "Weights: distance\n",
      "Algorithm: kd_tree\n",
      "Distance Metric: manhattan\n",
      "Oversampling Method: none\n",
      "----------------\n",
      "Results: -0.9033116584823241\n",
      "================\n"
     ]
    },
    {
     "name": "stderr",
     "output_type": "stream",
     "text": [
      "C:\\Users\\Aaron\\AppData\\Roaming\\Python\\Python311\\site-packages\\skopt\\optimizer\\optimizer.py:517: UserWarning: The objective has been evaluated at point [154, 'distance', 'auto', 'cosine', 'ada'] before, using random point [304, 'distance', 'kd_tree', 'manhattan', 'none']\n",
      "  warnings.warn(\n"
     ]
    },
    {
     "name": "stdout",
     "output_type": "stream",
     "text": [
      "================\n",
      "Configuration:\n",
      "K: 304\n",
      "Weights: distance\n",
      "Algorithm: kd_tree\n",
      "Distance Metric: manhattan\n",
      "Oversampling Method: none\n",
      "----------------\n",
      "Results: -0.8820962606359565\n",
      "================\n"
     ]
    },
    {
     "name": "stderr",
     "output_type": "stream",
     "text": [
      "C:\\Users\\Aaron\\AppData\\Roaming\\Python\\Python311\\site-packages\\skopt\\optimizer\\optimizer.py:517: UserWarning: The objective has been evaluated at point [154, 'distance', 'auto', 'cosine', 'ada'] before, using random point [96, 'uniform', 'auto', 'euclidean', 'none']\n",
      "  warnings.warn(\n"
     ]
    },
    {
     "name": "stdout",
     "output_type": "stream",
     "text": [
      "================\n",
      "Configuration:\n",
      "K: 96\n",
      "Weights: uniform\n",
      "Algorithm: auto\n",
      "Distance Metric: euclidean\n",
      "Oversampling Method: none\n",
      "----------------\n",
      "Results: -0.8507595486363982\n",
      "================\n"
     ]
    },
    {
     "name": "stderr",
     "output_type": "stream",
     "text": [
      "C:\\Users\\Aaron\\AppData\\Roaming\\Python\\Python311\\site-packages\\skopt\\optimizer\\optimizer.py:517: UserWarning: The objective has been evaluated at point [154, 'distance', 'auto', 'cosine', 'ada'] before, using random point [299, 'uniform', 'auto', 'l2', 'none']\n",
      "  warnings.warn(\n"
     ]
    },
    {
     "name": "stdout",
     "output_type": "stream",
     "text": [
      "================\n",
      "Configuration:\n",
      "K: 299\n",
      "Weights: uniform\n",
      "Algorithm: auto\n",
      "Distance Metric: l2\n",
      "Oversampling Method: none\n",
      "----------------\n",
      "Results: -0.8310694428224386\n",
      "================\n"
     ]
    },
    {
     "name": "stderr",
     "output_type": "stream",
     "text": [
      "C:\\Users\\Aaron\\AppData\\Roaming\\Python\\Python311\\site-packages\\skopt\\optimizer\\optimizer.py:517: UserWarning: The objective has been evaluated at point [154, 'distance', 'auto', 'cosine', 'ada'] before, using random point [185, 'distance', 'kd_tree', 'cosine', 'none']\n",
      "  warnings.warn(\n"
     ]
    },
    {
     "name": "stdout",
     "output_type": "stream",
     "text": [
      "================\n",
      "Configuration:\n",
      "K: 185\n",
      "Weights: distance\n",
      "Algorithm: kd_tree\n",
      "Distance Metric: cosine\n",
      "Oversampling Method: none\n",
      "----------------\n",
      "Invalid Config\n"
     ]
    },
    {
     "name": "stderr",
     "output_type": "stream",
     "text": [
      "C:\\Users\\Aaron\\AppData\\Roaming\\Python\\Python311\\site-packages\\skopt\\optimizer\\optimizer.py:517: UserWarning: The objective has been evaluated at point [154, 'distance', 'auto', 'cosine', 'ada'] before, using random point [221, 'distance', 'auto', 'l2', 'ada']\n",
      "  warnings.warn(\n"
     ]
    },
    {
     "name": "stdout",
     "output_type": "stream",
     "text": [
      "================\n",
      "Configuration:\n",
      "K: 221\n",
      "Weights: distance\n",
      "Algorithm: auto\n",
      "Distance Metric: l2\n",
      "Oversampling Method: ada\n",
      "----------------\n",
      "Results: -0.8772615404847993\n",
      "================\n"
     ]
    },
    {
     "name": "stderr",
     "output_type": "stream",
     "text": [
      "C:\\Users\\Aaron\\AppData\\Roaming\\Python\\Python311\\site-packages\\skopt\\optimizer\\optimizer.py:517: UserWarning: The objective has been evaluated at point [154, 'distance', 'auto', 'cosine', 'ada'] before, using random point [13, 'distance', 'auto', 'l1', 'ada']\n",
      "  warnings.warn(\n"
     ]
    },
    {
     "name": "stdout",
     "output_type": "stream",
     "text": [
      "================\n",
      "Configuration:\n",
      "K: 13\n",
      "Weights: distance\n",
      "Algorithm: auto\n",
      "Distance Metric: l1\n",
      "Oversampling Method: ada\n",
      "----------------\n",
      "Results: -0.9387415062232058\n",
      "================\n"
     ]
    },
    {
     "name": "stderr",
     "output_type": "stream",
     "text": [
      "C:\\Users\\Aaron\\AppData\\Roaming\\Python\\Python311\\site-packages\\skopt\\optimizer\\optimizer.py:517: UserWarning: The objective has been evaluated at point [154, 'distance', 'auto', 'cosine', 'ada'] before, using random point [77, 'uniform', 'kd_tree', 'euclidean', 'none']\n",
      "  warnings.warn(\n"
     ]
    },
    {
     "name": "stdout",
     "output_type": "stream",
     "text": [
      "================\n",
      "Configuration:\n",
      "K: 77\n",
      "Weights: uniform\n",
      "Algorithm: kd_tree\n",
      "Distance Metric: euclidean\n",
      "Oversampling Method: none\n",
      "----------------\n",
      "Results: -0.8556582704732061\n",
      "================\n"
     ]
    },
    {
     "name": "stderr",
     "output_type": "stream",
     "text": [
      "C:\\Users\\Aaron\\AppData\\Roaming\\Python\\Python311\\site-packages\\skopt\\optimizer\\optimizer.py:517: UserWarning: The objective has been evaluated at point [154, 'distance', 'auto', 'cosine', 'ada'] before, using random point [16, 'uniform', 'kd_tree', 'manhattan', 'ada']\n",
      "  warnings.warn(\n"
     ]
    },
    {
     "name": "stdout",
     "output_type": "stream",
     "text": [
      "================\n",
      "Configuration:\n",
      "K: 16\n",
      "Weights: uniform\n",
      "Algorithm: kd_tree\n",
      "Distance Metric: manhattan\n",
      "Oversampling Method: ada\n",
      "----------------\n",
      "Results: -0.9078224402284985\n",
      "================\n"
     ]
    },
    {
     "name": "stderr",
     "output_type": "stream",
     "text": [
      "C:\\Users\\Aaron\\AppData\\Roaming\\Python\\Python311\\site-packages\\skopt\\optimizer\\optimizer.py:517: UserWarning: The objective has been evaluated at point [154, 'distance', 'auto', 'cosine', 'ada'] before, using random point [178, 'distance', 'ball_tree', 'cityblock', 'none']\n",
      "  warnings.warn(\n"
     ]
    },
    {
     "name": "stdout",
     "output_type": "stream",
     "text": [
      "================\n",
      "Configuration:\n",
      "K: 178\n",
      "Weights: distance\n",
      "Algorithm: ball_tree\n",
      "Distance Metric: cityblock\n",
      "Oversampling Method: none\n",
      "----------------\n",
      "Results: -0.8914291618284856\n",
      "================\n"
     ]
    },
    {
     "name": "stderr",
     "output_type": "stream",
     "text": [
      "C:\\Users\\Aaron\\AppData\\Roaming\\Python\\Python311\\site-packages\\skopt\\optimizer\\optimizer.py:517: UserWarning: The objective has been evaluated at point [154, 'distance', 'auto', 'cosine', 'ada'] before, using random point [237, 'distance', 'kd_tree', 'cityblock', 'none']\n",
      "  warnings.warn(\n"
     ]
    },
    {
     "name": "stdout",
     "output_type": "stream",
     "text": [
      "================\n",
      "Configuration:\n",
      "K: 237\n",
      "Weights: distance\n",
      "Algorithm: kd_tree\n",
      "Distance Metric: cityblock\n",
      "Oversampling Method: none\n",
      "----------------\n",
      "Results: -0.8864413827469563\n",
      "================\n"
     ]
    },
    {
     "name": "stderr",
     "output_type": "stream",
     "text": [
      "C:\\Users\\Aaron\\AppData\\Roaming\\Python\\Python311\\site-packages\\skopt\\optimizer\\optimizer.py:517: UserWarning: The objective has been evaluated at point [154, 'distance', 'auto', 'cosine', 'ada'] before, using random point [53, 'uniform', 'auto', 'l1', 'none']\n",
      "  warnings.warn(\n"
     ]
    },
    {
     "name": "stdout",
     "output_type": "stream",
     "text": [
      "================\n",
      "Configuration:\n",
      "K: 53\n",
      "Weights: uniform\n",
      "Algorithm: auto\n",
      "Distance Metric: l1\n",
      "Oversampling Method: none\n",
      "----------------\n",
      "Results: -0.8742916910372319\n",
      "================\n"
     ]
    },
    {
     "name": "stderr",
     "output_type": "stream",
     "text": [
      "C:\\Users\\Aaron\\AppData\\Roaming\\Python\\Python311\\site-packages\\skopt\\optimizer\\optimizer.py:517: UserWarning: The objective has been evaluated at point [154, 'distance', 'auto', 'cosine', 'ada'] before, using random point [51, 'uniform', 'auto', 'l2', 'none']\n",
      "  warnings.warn(\n"
     ]
    },
    {
     "name": "stdout",
     "output_type": "stream",
     "text": [
      "================\n",
      "Configuration:\n",
      "K: 51\n",
      "Weights: uniform\n",
      "Algorithm: auto\n",
      "Distance Metric: l2\n",
      "Oversampling Method: none\n",
      "----------------\n",
      "Results: -0.865138890255138\n",
      "================\n"
     ]
    },
    {
     "name": "stderr",
     "output_type": "stream",
     "text": [
      "C:\\Users\\Aaron\\AppData\\Roaming\\Python\\Python311\\site-packages\\skopt\\optimizer\\optimizer.py:517: UserWarning: The objective has been evaluated at point [154, 'distance', 'auto', 'cosine', 'ada'] before, using random point [256, 'distance', 'ball_tree', 'euclidean', 'none']\n",
      "  warnings.warn(\n"
     ]
    },
    {
     "name": "stdout",
     "output_type": "stream",
     "text": [
      "================\n",
      "Configuration:\n",
      "K: 256\n",
      "Weights: distance\n",
      "Algorithm: ball_tree\n",
      "Distance Metric: euclidean\n",
      "Oversampling Method: none\n",
      "----------------\n",
      "Results: -0.874441291923413\n",
      "================\n",
      "================\n",
      "Configuration:\n",
      "K: 145\n",
      "Weights: uniform\n",
      "Algorithm: kd_tree\n",
      "Distance Metric: cityblock\n",
      "Oversampling Method: ada\n",
      "----------------\n",
      "Results: -0.8511439632979684\n",
      "================\n"
     ]
    },
    {
     "name": "stderr",
     "output_type": "stream",
     "text": [
      "C:\\Users\\Aaron\\AppData\\Roaming\\Python\\Python311\\site-packages\\skopt\\optimizer\\optimizer.py:517: UserWarning: The objective has been evaluated at point [154, 'distance', 'auto', 'cosine', 'ada'] before, using random point [231, 'uniform', 'ball_tree', 'euclidean', 'ada']\n",
      "  warnings.warn(\n"
     ]
    },
    {
     "name": "stdout",
     "output_type": "stream",
     "text": [
      "================\n",
      "Configuration:\n",
      "K: 231\n",
      "Weights: uniform\n",
      "Algorithm: ball_tree\n",
      "Distance Metric: euclidean\n",
      "Oversampling Method: ada\n",
      "----------------\n",
      "Results: -0.8344317556922438\n",
      "================\n"
     ]
    },
    {
     "name": "stderr",
     "output_type": "stream",
     "text": [
      "C:\\Users\\Aaron\\AppData\\Roaming\\Python\\Python311\\site-packages\\skopt\\optimizer\\optimizer.py:517: UserWarning: The objective has been evaluated at point [154, 'distance', 'auto', 'cosine', 'ada'] before, using random point [25, 'distance', 'auto', 'l2', 'ada']\n",
      "  warnings.warn(\n"
     ]
    },
    {
     "name": "stdout",
     "output_type": "stream",
     "text": [
      "================\n",
      "Configuration:\n",
      "K: 25\n",
      "Weights: distance\n",
      "Algorithm: auto\n",
      "Distance Metric: l2\n",
      "Oversampling Method: ada\n",
      "----------------\n",
      "Results: -0.9195800281370229\n",
      "================\n"
     ]
    },
    {
     "name": "stderr",
     "output_type": "stream",
     "text": [
      "C:\\Users\\Aaron\\AppData\\Roaming\\Python\\Python311\\site-packages\\skopt\\optimizer\\optimizer.py:517: UserWarning: The objective has been evaluated at point [154, 'distance', 'auto', 'cosine', 'ada'] before, using random point [203, 'distance', 'auto', 'cityblock', 'none']\n",
      "  warnings.warn(\n"
     ]
    },
    {
     "name": "stdout",
     "output_type": "stream",
     "text": [
      "================\n",
      "Configuration:\n",
      "K: 203\n",
      "Weights: distance\n",
      "Algorithm: auto\n",
      "Distance Metric: cityblock\n",
      "Oversampling Method: none\n",
      "----------------\n",
      "Results: -0.8890530258768289\n",
      "================\n"
     ]
    },
    {
     "name": "stderr",
     "output_type": "stream",
     "text": [
      "C:\\Users\\Aaron\\AppData\\Roaming\\Python\\Python311\\site-packages\\skopt\\optimizer\\optimizer.py:517: UserWarning: The objective has been evaluated at point [154, 'distance', 'auto', 'cosine', 'ada'] before, using random point [230, 'distance', 'kd_tree', 'cityblock', 'none']\n",
      "  warnings.warn(\n"
     ]
    },
    {
     "name": "stdout",
     "output_type": "stream",
     "text": [
      "================\n",
      "Configuration:\n",
      "K: 230\n",
      "Weights: distance\n",
      "Algorithm: kd_tree\n",
      "Distance Metric: cityblock\n",
      "Oversampling Method: none\n",
      "----------------\n",
      "Results: -0.8869465866501752\n",
      "================\n"
     ]
    },
    {
     "name": "stderr",
     "output_type": "stream",
     "text": [
      "C:\\Users\\Aaron\\AppData\\Roaming\\Python\\Python311\\site-packages\\skopt\\optimizer\\optimizer.py:517: UserWarning: The objective has been evaluated at point [154, 'distance', 'auto', 'cosine', 'ada'] before, using random point [173, 'uniform', 'kd_tree', 'cosine', 'ada']\n",
      "  warnings.warn(\n"
     ]
    },
    {
     "name": "stdout",
     "output_type": "stream",
     "text": [
      "================\n",
      "Configuration:\n",
      "K: 173\n",
      "Weights: uniform\n",
      "Algorithm: kd_tree\n",
      "Distance Metric: cosine\n",
      "Oversampling Method: ada\n",
      "----------------\n",
      "Invalid Config\n"
     ]
    },
    {
     "name": "stderr",
     "output_type": "stream",
     "text": [
      "C:\\Users\\Aaron\\AppData\\Roaming\\Python\\Python311\\site-packages\\skopt\\optimizer\\optimizer.py:517: UserWarning: The objective has been evaluated at point [154, 'distance', 'auto', 'cosine', 'ada'] before, using random point [200, 'uniform', 'kd_tree', 'l2', 'none']\n",
      "  warnings.warn(\n"
     ]
    },
    {
     "name": "stdout",
     "output_type": "stream",
     "text": [
      "================\n",
      "Configuration:\n",
      "K: 200\n",
      "Weights: uniform\n",
      "Algorithm: kd_tree\n",
      "Distance Metric: l2\n",
      "Oversampling Method: none\n",
      "----------------\n",
      "Results: -0.8367091394662142\n",
      "================\n"
     ]
    },
    {
     "name": "stderr",
     "output_type": "stream",
     "text": [
      "C:\\Users\\Aaron\\AppData\\Roaming\\Python\\Python311\\site-packages\\skopt\\optimizer\\optimizer.py:517: UserWarning: The objective has been evaluated at point [154, 'distance', 'auto', 'cosine', 'ada'] before, using random point [127, 'uniform', 'ball_tree', 'l1', 'ada']\n",
      "  warnings.warn(\n"
     ]
    },
    {
     "name": "stdout",
     "output_type": "stream",
     "text": [
      "================\n",
      "Configuration:\n",
      "K: 127\n",
      "Weights: uniform\n",
      "Algorithm: ball_tree\n",
      "Distance Metric: l1\n",
      "Oversampling Method: ada\n",
      "----------------\n",
      "Results: -0.8536172198286027\n",
      "================\n"
     ]
    },
    {
     "name": "stderr",
     "output_type": "stream",
     "text": [
      "C:\\Users\\Aaron\\AppData\\Roaming\\Python\\Python311\\site-packages\\skopt\\optimizer\\optimizer.py:517: UserWarning: The objective has been evaluated at point [154, 'distance', 'auto', 'cosine', 'ada'] before, using random point [191, 'uniform', 'auto', 'manhattan', 'none']\n",
      "  warnings.warn(\n"
     ]
    },
    {
     "name": "stdout",
     "output_type": "stream",
     "text": [
      "================\n",
      "Configuration:\n",
      "K: 191\n",
      "Weights: uniform\n",
      "Algorithm: auto\n",
      "Distance Metric: manhattan\n",
      "Oversampling Method: none\n",
      "----------------\n",
      "Results: -0.8463082325266106\n",
      "================\n"
     ]
    },
    {
     "name": "stderr",
     "output_type": "stream",
     "text": [
      "C:\\Users\\Aaron\\AppData\\Roaming\\Python\\Python311\\site-packages\\skopt\\optimizer\\optimizer.py:517: UserWarning: The objective has been evaluated at point [154, 'distance', 'auto', 'cosine', 'ada'] before, using random point [317, 'uniform', 'ball_tree', 'cosine', 'ada']\n",
      "  warnings.warn(\n"
     ]
    },
    {
     "name": "stdout",
     "output_type": "stream",
     "text": [
      "================\n",
      "Configuration:\n",
      "K: 317\n",
      "Weights: uniform\n",
      "Algorithm: ball_tree\n",
      "Distance Metric: cosine\n",
      "Oversampling Method: ada\n",
      "----------------\n",
      "Invalid Config\n"
     ]
    },
    {
     "name": "stderr",
     "output_type": "stream",
     "text": [
      "C:\\Users\\Aaron\\AppData\\Roaming\\Python\\Python311\\site-packages\\skopt\\optimizer\\optimizer.py:517: UserWarning: The objective has been evaluated at point [154, 'distance', 'auto', 'cosine', 'ada'] before, using random point [252, 'uniform', 'ball_tree', 'euclidean', 'ada']\n",
      "  warnings.warn(\n"
     ]
    },
    {
     "name": "stdout",
     "output_type": "stream",
     "text": [
      "================\n",
      "Configuration:\n",
      "K: 252\n",
      "Weights: uniform\n",
      "Algorithm: ball_tree\n",
      "Distance Metric: euclidean\n",
      "Oversampling Method: ada\n",
      "----------------\n",
      "Results: -0.833178887272484\n",
      "================\n"
     ]
    },
    {
     "name": "stderr",
     "output_type": "stream",
     "text": [
      "C:\\Users\\Aaron\\AppData\\Roaming\\Python\\Python311\\site-packages\\skopt\\optimizer\\optimizer.py:517: UserWarning: The objective has been evaluated at point [154, 'distance', 'auto', 'cosine', 'ada'] before, using random point [196, 'uniform', 'kd_tree', 'euclidean', 'ada']\n",
      "  warnings.warn(\n"
     ]
    },
    {
     "name": "stdout",
     "output_type": "stream",
     "text": [
      "================\n",
      "Configuration:\n",
      "K: 196\n",
      "Weights: uniform\n",
      "Algorithm: kd_tree\n",
      "Distance Metric: euclidean\n",
      "Oversampling Method: ada\n",
      "----------------\n",
      "Results: -0.8370179594818659\n",
      "================\n"
     ]
    },
    {
     "name": "stderr",
     "output_type": "stream",
     "text": [
      "C:\\Users\\Aaron\\AppData\\Roaming\\Python\\Python311\\site-packages\\skopt\\optimizer\\optimizer.py:517: UserWarning: The objective has been evaluated at point [154, 'distance', 'auto', 'cosine', 'ada'] before, using random point [108, 'distance', 'kd_tree', 'l1', 'ada']\n",
      "  warnings.warn(\n"
     ]
    },
    {
     "name": "stdout",
     "output_type": "stream",
     "text": [
      "================\n",
      "Configuration:\n",
      "K: 108\n",
      "Weights: distance\n",
      "Algorithm: kd_tree\n",
      "Distance Metric: l1\n",
      "Oversampling Method: ada\n",
      "----------------\n",
      "Results: -0.9008743461575431\n",
      "================\n"
     ]
    },
    {
     "name": "stderr",
     "output_type": "stream",
     "text": [
      "C:\\Users\\Aaron\\AppData\\Roaming\\Python\\Python311\\site-packages\\skopt\\optimizer\\optimizer.py:517: UserWarning: The objective has been evaluated at point [154, 'distance', 'auto', 'cosine', 'ada'] before, using random point [204, 'distance', 'ball_tree', 'manhattan', 'ada']\n",
      "  warnings.warn(\n"
     ]
    },
    {
     "name": "stdout",
     "output_type": "stream",
     "text": [
      "================\n",
      "Configuration:\n",
      "K: 204\n",
      "Weights: distance\n",
      "Algorithm: ball_tree\n",
      "Distance Metric: manhattan\n",
      "Oversampling Method: ada\n",
      "----------------\n",
      "Results: -0.8889623296345662\n",
      "================\n"
     ]
    },
    {
     "name": "stderr",
     "output_type": "stream",
     "text": [
      "C:\\Users\\Aaron\\AppData\\Roaming\\Python\\Python311\\site-packages\\skopt\\optimizer\\optimizer.py:517: UserWarning: The objective has been evaluated at point [154, 'distance', 'auto', 'cosine', 'ada'] before, using random point [146, 'distance', 'kd_tree', 'euclidean', 'none']\n",
      "  warnings.warn(\n"
     ]
    },
    {
     "name": "stdout",
     "output_type": "stream",
     "text": [
      "================\n",
      "Configuration:\n",
      "K: 146\n",
      "Weights: distance\n",
      "Algorithm: kd_tree\n",
      "Distance Metric: euclidean\n",
      "Oversampling Method: none\n",
      "----------------\n",
      "Results: -0.8852137242590451\n",
      "================\n"
     ]
    },
    {
     "name": "stderr",
     "output_type": "stream",
     "text": [
      "C:\\Users\\Aaron\\AppData\\Roaming\\Python\\Python311\\site-packages\\skopt\\optimizer\\optimizer.py:517: UserWarning: The objective has been evaluated at point [154, 'distance', 'auto', 'cosine', 'ada'] before, using random point [58, 'uniform', 'auto', 'cosine', 'ada']\n",
      "  warnings.warn(\n"
     ]
    },
    {
     "name": "stdout",
     "output_type": "stream",
     "text": [
      "================\n",
      "Configuration:\n",
      "K: 58\n",
      "Weights: uniform\n",
      "Algorithm: auto\n",
      "Distance Metric: cosine\n",
      "Oversampling Method: ada\n",
      "----------------\n",
      "Results: -0.861674243382082\n",
      "================\n"
     ]
    },
    {
     "name": "stderr",
     "output_type": "stream",
     "text": [
      "C:\\Users\\Aaron\\AppData\\Roaming\\Python\\Python311\\site-packages\\skopt\\optimizer\\optimizer.py:517: UserWarning: The objective has been evaluated at point [153, 'distance', 'auto', 'cosine', 'ada'] before, using random point [46, 'distance', 'ball_tree', 'l1', 'ada']\n",
      "  warnings.warn(\n"
     ]
    },
    {
     "name": "stdout",
     "output_type": "stream",
     "text": [
      "================\n",
      "Configuration:\n",
      "K: 46\n",
      "Weights: distance\n",
      "Algorithm: ball_tree\n",
      "Distance Metric: l1\n",
      "Oversampling Method: ada\n",
      "----------------\n",
      "Results: -0.9176985519178409\n",
      "================\n"
     ]
    },
    {
     "name": "stderr",
     "output_type": "stream",
     "text": [
      "C:\\Users\\Aaron\\AppData\\Roaming\\Python\\Python311\\site-packages\\skopt\\optimizer\\optimizer.py:517: UserWarning: The objective has been evaluated at point [153, 'distance', 'auto', 'cosine', 'ada'] before, using random point [288, 'distance', 'ball_tree', 'cityblock', 'ada']\n",
      "  warnings.warn(\n"
     ]
    },
    {
     "name": "stdout",
     "output_type": "stream",
     "text": [
      "================\n",
      "Configuration:\n",
      "K: 288\n",
      "Weights: distance\n",
      "Algorithm: ball_tree\n",
      "Distance Metric: cityblock\n",
      "Oversampling Method: ada\n",
      "----------------\n",
      "Results: -0.8830199469123108\n",
      "================\n"
     ]
    },
    {
     "name": "stderr",
     "output_type": "stream",
     "text": [
      "C:\\Users\\Aaron\\AppData\\Roaming\\Python\\Python311\\site-packages\\skopt\\optimizer\\optimizer.py:517: UserWarning: The objective has been evaluated at point [153, 'distance', 'auto', 'cosine', 'ada'] before, using random point [85, 'distance', 'kd_tree', 'nan_euclidean', 'ada']\n",
      "  warnings.warn(\n"
     ]
    },
    {
     "name": "stdout",
     "output_type": "stream",
     "text": [
      "================\n",
      "Configuration:\n",
      "K: 85\n",
      "Weights: distance\n",
      "Algorithm: kd_tree\n",
      "Distance Metric: nan_euclidean\n",
      "Oversampling Method: ada\n",
      "----------------\n",
      "Invalid Config\n"
     ]
    },
    {
     "name": "stderr",
     "output_type": "stream",
     "text": [
      "C:\\Users\\Aaron\\AppData\\Roaming\\Python\\Python311\\site-packages\\skopt\\optimizer\\optimizer.py:517: UserWarning: The objective has been evaluated at point [153, 'distance', 'auto', 'cosine', 'ada'] before, using random point [247, 'distance', 'ball_tree', 'cosine', 'none']\n",
      "  warnings.warn(\n"
     ]
    },
    {
     "name": "stdout",
     "output_type": "stream",
     "text": [
      "================\n",
      "Configuration:\n",
      "K: 247\n",
      "Weights: distance\n",
      "Algorithm: ball_tree\n",
      "Distance Metric: cosine\n",
      "Oversampling Method: none\n",
      "----------------\n",
      "Invalid Config\n"
     ]
    },
    {
     "name": "stderr",
     "output_type": "stream",
     "text": [
      "C:\\Users\\Aaron\\AppData\\Roaming\\Python\\Python311\\site-packages\\skopt\\optimizer\\optimizer.py:517: UserWarning: The objective has been evaluated at point [153, 'distance', 'auto', 'cosine', 'ada'] before, using random point [52, 'distance', 'kd_tree', 'l1', 'none']\n",
      "  warnings.warn(\n"
     ]
    },
    {
     "name": "stdout",
     "output_type": "stream",
     "text": [
      "================\n",
      "Configuration:\n",
      "K: 52\n",
      "Weights: distance\n",
      "Algorithm: kd_tree\n",
      "Distance Metric: l1\n",
      "Oversampling Method: none\n",
      "----------------\n",
      "Results: -0.9153822979780742\n",
      "================\n"
     ]
    },
    {
     "name": "stderr",
     "output_type": "stream",
     "text": [
      "C:\\Users\\Aaron\\AppData\\Roaming\\Python\\Python311\\site-packages\\skopt\\optimizer\\optimizer.py:517: UserWarning: The objective has been evaluated at point [153, 'distance', 'auto', 'cosine', 'ada'] before, using random point [199, 'distance', 'auto', 'manhattan', 'ada']\n",
      "  warnings.warn(\n"
     ]
    },
    {
     "name": "stdout",
     "output_type": "stream",
     "text": [
      "================\n",
      "Configuration:\n",
      "K: 199\n",
      "Weights: distance\n",
      "Algorithm: auto\n",
      "Distance Metric: manhattan\n",
      "Oversampling Method: ada\n",
      "----------------\n",
      "Results: -0.8894122386476061\n",
      "================\n"
     ]
    },
    {
     "name": "stderr",
     "output_type": "stream",
     "text": [
      "C:\\Users\\Aaron\\AppData\\Roaming\\Python\\Python311\\site-packages\\skopt\\optimizer\\optimizer.py:517: UserWarning: The objective has been evaluated at point [153, 'distance', 'auto', 'cosine', 'ada'] before, using random point [289, 'uniform', 'ball_tree', 'cityblock', 'none']\n",
      "  warnings.warn(\n"
     ]
    },
    {
     "name": "stdout",
     "output_type": "stream",
     "text": [
      "================\n",
      "Configuration:\n",
      "K: 289\n",
      "Weights: uniform\n",
      "Algorithm: ball_tree\n",
      "Distance Metric: cityblock\n",
      "Oversampling Method: none\n",
      "----------------\n",
      "Results: -0.8413658332096592\n",
      "================\n"
     ]
    },
    {
     "name": "stderr",
     "output_type": "stream",
     "text": [
      "C:\\Users\\Aaron\\AppData\\Roaming\\Python\\Python311\\site-packages\\skopt\\optimizer\\optimizer.py:517: UserWarning: The objective has been evaluated at point [153, 'distance', 'auto', 'cosine', 'ada'] before, using random point [241, 'uniform', 'ball_tree', 'l2', 'none']\n",
      "  warnings.warn(\n"
     ]
    },
    {
     "name": "stdout",
     "output_type": "stream",
     "text": [
      "================\n",
      "Configuration:\n",
      "K: 241\n",
      "Weights: uniform\n",
      "Algorithm: ball_tree\n",
      "Distance Metric: l2\n",
      "Oversampling Method: none\n",
      "----------------\n",
      "Results: -0.8337995513664022\n",
      "================\n"
     ]
    },
    {
     "name": "stderr",
     "output_type": "stream",
     "text": [
      "C:\\Users\\Aaron\\AppData\\Roaming\\Python\\Python311\\site-packages\\skopt\\optimizer\\optimizer.py:517: UserWarning: The objective has been evaluated at point [153, 'distance', 'auto', 'cosine', 'ada'] before, using random point [99, 'uniform', 'ball_tree', 'l1', 'ada']\n",
      "  warnings.warn(\n"
     ]
    },
    {
     "name": "stdout",
     "output_type": "stream",
     "text": [
      "================\n",
      "Configuration:\n",
      "K: 99\n",
      "Weights: uniform\n",
      "Algorithm: ball_tree\n",
      "Distance Metric: l1\n",
      "Oversampling Method: ada\n",
      "----------------\n",
      "Results: -0.8592166583204685\n",
      "================\n"
     ]
    },
    {
     "name": "stderr",
     "output_type": "stream",
     "text": [
      "C:\\Users\\Aaron\\AppData\\Roaming\\Python\\Python311\\site-packages\\skopt\\optimizer\\optimizer.py:517: UserWarning: The objective has been evaluated at point [153, 'distance', 'auto', 'cosine', 'ada'] before, using random point [56, 'distance', 'kd_tree', 'nan_euclidean', 'none']\n",
      "  warnings.warn(\n"
     ]
    },
    {
     "name": "stdout",
     "output_type": "stream",
     "text": [
      "================\n",
      "Configuration:\n",
      "K: 56\n",
      "Weights: distance\n",
      "Algorithm: kd_tree\n",
      "Distance Metric: nan_euclidean\n",
      "Oversampling Method: none\n",
      "----------------\n",
      "Invalid Config\n"
     ]
    },
    {
     "name": "stderr",
     "output_type": "stream",
     "text": [
      "C:\\Users\\Aaron\\AppData\\Roaming\\Python\\Python311\\site-packages\\skopt\\optimizer\\optimizer.py:517: UserWarning: The objective has been evaluated at point [153, 'distance', 'auto', 'cosine', 'ada'] before, using random point [243, 'distance', 'kd_tree', 'l1', 'none']\n",
      "  warnings.warn(\n"
     ]
    },
    {
     "name": "stdout",
     "output_type": "stream",
     "text": [
      "================\n",
      "Configuration:\n",
      "K: 243\n",
      "Weights: distance\n",
      "Algorithm: kd_tree\n",
      "Distance Metric: l1\n",
      "Oversampling Method: none\n",
      "----------------\n",
      "Results: -0.8859967753034154\n",
      "================\n"
     ]
    },
    {
     "name": "stderr",
     "output_type": "stream",
     "text": [
      "C:\\Users\\Aaron\\AppData\\Roaming\\Python\\Python311\\site-packages\\skopt\\optimizer\\optimizer.py:517: UserWarning: The objective has been evaluated at point [153, 'distance', 'auto', 'cosine', 'ada'] before, using random point [134, 'distance', 'auto', 'nan_euclidean', 'none']\n",
      "  warnings.warn(\n"
     ]
    },
    {
     "name": "stdout",
     "output_type": "stream",
     "text": [
      "================\n",
      "Configuration:\n",
      "K: 134\n",
      "Weights: distance\n",
      "Algorithm: auto\n",
      "Distance Metric: nan_euclidean\n",
      "Oversampling Method: none\n",
      "----------------\n",
      "Results: -0.8868861773037184\n",
      "================\n"
     ]
    },
    {
     "name": "stderr",
     "output_type": "stream",
     "text": [
      "C:\\Users\\Aaron\\AppData\\Roaming\\Python\\Python311\\site-packages\\skopt\\optimizer\\optimizer.py:517: UserWarning: The objective has been evaluated at point [153, 'distance', 'auto', 'cosine', 'ada'] before, using random point [293, 'distance', 'auto', 'euclidean', 'none']\n",
      "  warnings.warn(\n"
     ]
    },
    {
     "name": "stdout",
     "output_type": "stream",
     "text": [
      "================\n",
      "Configuration:\n",
      "K: 293\n",
      "Weights: distance\n",
      "Algorithm: auto\n",
      "Distance Metric: euclidean\n",
      "Oversampling Method: none\n",
      "----------------\n",
      "Results: -0.8718550254106425\n",
      "================\n"
     ]
    },
    {
     "name": "stderr",
     "output_type": "stream",
     "text": [
      "C:\\Users\\Aaron\\AppData\\Roaming\\Python\\Python311\\site-packages\\skopt\\optimizer\\optimizer.py:517: UserWarning: The objective has been evaluated at point [153, 'distance', 'auto', 'cosine', 'ada'] before, using random point [226, 'distance', 'auto', 'cityblock', 'none']\n",
      "  warnings.warn(\n"
     ]
    },
    {
     "name": "stdout",
     "output_type": "stream",
     "text": [
      "================\n",
      "Configuration:\n",
      "K: 226\n",
      "Weights: distance\n",
      "Algorithm: auto\n",
      "Distance Metric: cityblock\n",
      "Oversampling Method: none\n",
      "----------------\n",
      "Results: -0.8872415687528884\n",
      "================\n"
     ]
    },
    {
     "name": "stderr",
     "output_type": "stream",
     "text": [
      "C:\\Users\\Aaron\\AppData\\Roaming\\Python\\Python311\\site-packages\\skopt\\optimizer\\optimizer.py:517: UserWarning: The objective has been evaluated at point [153, 'distance', 'auto', 'cosine', 'ada'] before, using random point [134, 'distance', 'ball_tree', 'cosine', 'ada']\n",
      "  warnings.warn(\n"
     ]
    },
    {
     "name": "stdout",
     "output_type": "stream",
     "text": [
      "================\n",
      "Configuration:\n",
      "K: 134\n",
      "Weights: distance\n",
      "Algorithm: ball_tree\n",
      "Distance Metric: cosine\n",
      "Oversampling Method: ada\n",
      "----------------\n",
      "Invalid Config\n"
     ]
    },
    {
     "name": "stderr",
     "output_type": "stream",
     "text": [
      "C:\\Users\\Aaron\\AppData\\Roaming\\Python\\Python311\\site-packages\\skopt\\optimizer\\optimizer.py:517: UserWarning: The objective has been evaluated at point [153, 'distance', 'auto', 'cosine', 'ada'] before, using random point [288, 'uniform', 'kd_tree', 'l2', 'none']\n",
      "  warnings.warn(\n"
     ]
    },
    {
     "name": "stdout",
     "output_type": "stream",
     "text": [
      "================\n",
      "Configuration:\n",
      "K: 288\n",
      "Weights: uniform\n",
      "Algorithm: kd_tree\n",
      "Distance Metric: l2\n",
      "Oversampling Method: none\n",
      "----------------\n",
      "Results: -0.8315356343664728\n",
      "================\n"
     ]
    },
    {
     "name": "stderr",
     "output_type": "stream",
     "text": [
      "C:\\Users\\Aaron\\AppData\\Roaming\\Python\\Python311\\site-packages\\skopt\\optimizer\\optimizer.py:517: UserWarning: The objective has been evaluated at point [153, 'distance', 'auto', 'cosine', 'ada'] before, using random point [28, 'distance', 'auto', 'cityblock', 'ada']\n",
      "  warnings.warn(\n"
     ]
    },
    {
     "name": "stdout",
     "output_type": "stream",
     "text": [
      "================\n",
      "Configuration:\n",
      "K: 28\n",
      "Weights: distance\n",
      "Algorithm: auto\n",
      "Distance Metric: cityblock\n",
      "Oversampling Method: ada\n",
      "----------------\n",
      "Results: -0.9272700196411986\n",
      "================\n"
     ]
    },
    {
     "name": "stderr",
     "output_type": "stream",
     "text": [
      "C:\\Users\\Aaron\\AppData\\Roaming\\Python\\Python311\\site-packages\\skopt\\optimizer\\optimizer.py:517: UserWarning: The objective has been evaluated at point [153, 'distance', 'auto', 'cosine', 'ada'] before, using random point [56, 'distance', 'auto', 'nan_euclidean', 'none']\n",
      "  warnings.warn(\n"
     ]
    },
    {
     "name": "stdout",
     "output_type": "stream",
     "text": [
      "================\n",
      "Configuration:\n",
      "K: 56\n",
      "Weights: distance\n",
      "Algorithm: auto\n",
      "Distance Metric: nan_euclidean\n",
      "Oversampling Method: none\n",
      "----------------\n",
      "Results: -0.9039108875752809\n",
      "================\n"
     ]
    },
    {
     "name": "stderr",
     "output_type": "stream",
     "text": [
      "C:\\Users\\Aaron\\AppData\\Roaming\\Python\\Python311\\site-packages\\skopt\\optimizer\\optimizer.py:517: UserWarning: The objective has been evaluated at point [153, 'distance', 'auto', 'cosine', 'ada'] before, using random point [235, 'uniform', 'kd_tree', 'cosine', 'ada']\n",
      "  warnings.warn(\n"
     ]
    },
    {
     "name": "stdout",
     "output_type": "stream",
     "text": [
      "================\n",
      "Configuration:\n",
      "K: 235\n",
      "Weights: uniform\n",
      "Algorithm: kd_tree\n",
      "Distance Metric: cosine\n",
      "Oversampling Method: ada\n",
      "----------------\n",
      "Invalid Config\n"
     ]
    },
    {
     "name": "stderr",
     "output_type": "stream",
     "text": [
      "C:\\Users\\Aaron\\AppData\\Roaming\\Python\\Python311\\site-packages\\skopt\\optimizer\\optimizer.py:517: UserWarning: The objective has been evaluated at point [153, 'distance', 'auto', 'cosine', 'ada'] before, using random point [205, 'distance', 'kd_tree', 'l2', 'none']\n",
      "  warnings.warn(\n"
     ]
    },
    {
     "name": "stdout",
     "output_type": "stream",
     "text": [
      "================\n",
      "Configuration:\n",
      "K: 205\n",
      "Weights: distance\n",
      "Algorithm: kd_tree\n",
      "Distance Metric: l2\n",
      "Oversampling Method: none\n",
      "----------------\n",
      "Results: -0.878724556896179\n",
      "================\n"
     ]
    },
    {
     "name": "stderr",
     "output_type": "stream",
     "text": [
      "C:\\Users\\Aaron\\AppData\\Roaming\\Python\\Python311\\site-packages\\skopt\\optimizer\\optimizer.py:517: UserWarning: The objective has been evaluated at point [153, 'distance', 'auto', 'cosine', 'ada'] before, using random point [214, 'distance', 'ball_tree', 'l2', 'ada']\n",
      "  warnings.warn(\n"
     ]
    },
    {
     "name": "stdout",
     "output_type": "stream",
     "text": [
      "================\n",
      "Configuration:\n",
      "K: 214\n",
      "Weights: distance\n",
      "Algorithm: ball_tree\n",
      "Distance Metric: l2\n",
      "Oversampling Method: ada\n",
      "----------------\n",
      "Results: -0.8778922654150051\n",
      "================\n"
     ]
    },
    {
     "name": "stderr",
     "output_type": "stream",
     "text": [
      "C:\\Users\\Aaron\\AppData\\Roaming\\Python\\Python311\\site-packages\\skopt\\optimizer\\optimizer.py:517: UserWarning: The objective has been evaluated at point [153, 'distance', 'auto', 'cosine', 'ada'] before, using random point [286, 'uniform', 'kd_tree', 'l1', 'ada']\n",
      "  warnings.warn(\n"
     ]
    },
    {
     "name": "stdout",
     "output_type": "stream",
     "text": [
      "================\n",
      "Configuration:\n",
      "K: 286\n",
      "Weights: uniform\n",
      "Algorithm: kd_tree\n",
      "Distance Metric: l1\n",
      "Oversampling Method: ada\n",
      "----------------\n",
      "Results: -0.8414663571369352\n",
      "================\n"
     ]
    },
    {
     "name": "stderr",
     "output_type": "stream",
     "text": [
      "C:\\Users\\Aaron\\AppData\\Roaming\\Python\\Python311\\site-packages\\skopt\\optimizer\\optimizer.py:517: UserWarning: The objective has been evaluated at point [153, 'distance', 'auto', 'cosine', 'ada'] before, using random point [122, 'distance', 'kd_tree', 'manhattan', 'ada']\n",
      "  warnings.warn(\n"
     ]
    },
    {
     "name": "stdout",
     "output_type": "stream",
     "text": [
      "================\n",
      "Configuration:\n",
      "K: 122\n",
      "Weights: distance\n",
      "Algorithm: kd_tree\n",
      "Distance Metric: manhattan\n",
      "Oversampling Method: ada\n",
      "----------------\n",
      "Results: -0.8985009197044601\n",
      "================\n"
     ]
    },
    {
     "name": "stderr",
     "output_type": "stream",
     "text": [
      "C:\\Users\\Aaron\\AppData\\Roaming\\Python\\Python311\\site-packages\\skopt\\optimizer\\optimizer.py:517: UserWarning: The objective has been evaluated at point [153, 'distance', 'auto', 'cosine', 'ada'] before, using random point [253, 'distance', 'ball_tree', 'cityblock', 'none']\n",
      "  warnings.warn(\n"
     ]
    },
    {
     "name": "stdout",
     "output_type": "stream",
     "text": [
      "================\n",
      "Configuration:\n",
      "K: 253\n",
      "Weights: distance\n",
      "Algorithm: ball_tree\n",
      "Distance Metric: cityblock\n",
      "Oversampling Method: none\n",
      "----------------\n",
      "Results: -0.8852426245192578\n",
      "================\n"
     ]
    },
    {
     "name": "stderr",
     "output_type": "stream",
     "text": [
      "C:\\Users\\Aaron\\AppData\\Roaming\\Python\\Python311\\site-packages\\skopt\\optimizer\\optimizer.py:517: UserWarning: The objective has been evaluated at point [153, 'distance', 'auto', 'cosine', 'ada'] before, using random point [248, 'uniform', 'auto', 'l1', 'none']\n",
      "  warnings.warn(\n"
     ]
    },
    {
     "name": "stdout",
     "output_type": "stream",
     "text": [
      "================\n",
      "Configuration:\n",
      "K: 248\n",
      "Weights: uniform\n",
      "Algorithm: auto\n",
      "Distance Metric: l1\n",
      "Oversampling Method: none\n",
      "----------------\n",
      "Results: -0.8430556646393322\n",
      "================\n"
     ]
    },
    {
     "name": "stderr",
     "output_type": "stream",
     "text": [
      "C:\\Users\\Aaron\\AppData\\Roaming\\Python\\Python311\\site-packages\\skopt\\optimizer\\optimizer.py:517: UserWarning: The objective has been evaluated at point [153, 'distance', 'auto', 'cosine', 'ada'] before, using random point [12, 'uniform', 'kd_tree', 'cityblock', 'none']\n",
      "  warnings.warn(\n"
     ]
    },
    {
     "name": "stdout",
     "output_type": "stream",
     "text": [
      "================\n",
      "Configuration:\n",
      "K: 12\n",
      "Weights: uniform\n",
      "Algorithm: kd_tree\n",
      "Distance Metric: cityblock\n",
      "Oversampling Method: none\n",
      "----------------\n",
      "Results: -0.9153316300144746\n",
      "================\n"
     ]
    },
    {
     "name": "stderr",
     "output_type": "stream",
     "text": [
      "C:\\Users\\Aaron\\AppData\\Roaming\\Python\\Python311\\site-packages\\skopt\\optimizer\\optimizer.py:517: UserWarning: The objective has been evaluated at point [153, 'distance', 'auto', 'cosine', 'ada'] before, using random point [316, 'distance', 'auto', 'euclidean', 'none']\n",
      "  warnings.warn(\n"
     ]
    },
    {
     "name": "stdout",
     "output_type": "stream",
     "text": [
      "================\n",
      "Configuration:\n",
      "K: 316\n",
      "Weights: distance\n",
      "Algorithm: auto\n",
      "Distance Metric: euclidean\n",
      "Oversampling Method: none\n",
      "----------------\n",
      "Results: -0.8703707001132375\n",
      "================\n"
     ]
    },
    {
     "name": "stderr",
     "output_type": "stream",
     "text": [
      "C:\\Users\\Aaron\\AppData\\Roaming\\Python\\Python311\\site-packages\\skopt\\optimizer\\optimizer.py:517: UserWarning: The objective has been evaluated at point [153, 'distance', 'auto', 'cosine', 'ada'] before, using random point [125, 'uniform', 'ball_tree', 'manhattan', 'none']\n",
      "  warnings.warn(\n"
     ]
    },
    {
     "name": "stdout",
     "output_type": "stream",
     "text": [
      "================\n",
      "Configuration:\n",
      "K: 125\n",
      "Weights: uniform\n",
      "Algorithm: ball_tree\n",
      "Distance Metric: manhattan\n",
      "Oversampling Method: none\n",
      "----------------\n",
      "Results: -0.8539569039258762\n",
      "================\n"
     ]
    },
    {
     "name": "stderr",
     "output_type": "stream",
     "text": [
      "C:\\Users\\Aaron\\AppData\\Roaming\\Python\\Python311\\site-packages\\skopt\\optimizer\\optimizer.py:517: UserWarning: The objective has been evaluated at point [153, 'distance', 'auto', 'cosine', 'ada'] before, using random point [177, 'uniform', 'kd_tree', 'l2', 'ada']\n",
      "  warnings.warn(\n"
     ]
    },
    {
     "name": "stdout",
     "output_type": "stream",
     "text": [
      "================\n",
      "Configuration:\n",
      "K: 177\n",
      "Weights: uniform\n",
      "Algorithm: kd_tree\n",
      "Distance Metric: l2\n",
      "Oversampling Method: ada\n",
      "----------------\n",
      "Results: -0.8387175404179384\n",
      "================\n"
     ]
    },
    {
     "name": "stderr",
     "output_type": "stream",
     "text": [
      "C:\\Users\\Aaron\\AppData\\Roaming\\Python\\Python311\\site-packages\\skopt\\optimizer\\optimizer.py:517: UserWarning: The objective has been evaluated at point [153, 'distance', 'auto', 'cosine', 'ada'] before, using random point [225, 'distance', 'kd_tree', 'cityblock', 'ada']\n",
      "  warnings.warn(\n"
     ]
    },
    {
     "name": "stdout",
     "output_type": "stream",
     "text": [
      "================\n",
      "Configuration:\n",
      "K: 225\n",
      "Weights: distance\n",
      "Algorithm: kd_tree\n",
      "Distance Metric: cityblock\n",
      "Oversampling Method: ada\n",
      "----------------\n",
      "Results: -0.8873183805555485\n",
      "================\n"
     ]
    },
    {
     "name": "stderr",
     "output_type": "stream",
     "text": [
      "C:\\Users\\Aaron\\AppData\\Roaming\\Python\\Python311\\site-packages\\skopt\\optimizer\\optimizer.py:517: UserWarning: The objective has been evaluated at point [153, 'distance', 'auto', 'cosine', 'ada'] before, using random point [246, 'uniform', 'ball_tree', 'cosine', 'ada']\n",
      "  warnings.warn(\n"
     ]
    },
    {
     "name": "stdout",
     "output_type": "stream",
     "text": [
      "================\n",
      "Configuration:\n",
      "K: 246\n",
      "Weights: uniform\n",
      "Algorithm: ball_tree\n",
      "Distance Metric: cosine\n",
      "Oversampling Method: ada\n",
      "----------------\n",
      "Invalid Config\n"
     ]
    },
    {
     "name": "stderr",
     "output_type": "stream",
     "text": [
      "C:\\Users\\Aaron\\AppData\\Roaming\\Python\\Python311\\site-packages\\skopt\\optimizer\\optimizer.py:517: UserWarning: The objective has been evaluated at point [153, 'distance', 'auto', 'cosine', 'ada'] before, using random point [38, 'distance', 'auto', 'cosine', 'none']\n",
      "  warnings.warn(\n"
     ]
    },
    {
     "name": "stdout",
     "output_type": "stream",
     "text": [
      "================\n",
      "Configuration:\n",
      "K: 38\n",
      "Weights: distance\n",
      "Algorithm: auto\n",
      "Distance Metric: cosine\n",
      "Oversampling Method: none\n",
      "----------------\n",
      "Results: -0.9392497338301696\n",
      "================\n",
      "================\n",
      "Configuration:\n",
      "K: 151\n",
      "Weights: distance\n",
      "Algorithm: auto\n",
      "Distance Metric: cosine\n",
      "Oversampling Method: ada\n",
      "----------------\n",
      "Results: -0.9277568543960873\n",
      "================\n"
     ]
    },
    {
     "name": "stderr",
     "output_type": "stream",
     "text": [
      "C:\\Users\\Aaron\\AppData\\Roaming\\Python\\Python311\\site-packages\\skopt\\optimizer\\optimizer.py:517: UserWarning: The objective has been evaluated at point [152, 'distance', 'auto', 'cosine', 'ada'] before, using random point [16, 'uniform', 'kd_tree', 'l2', 'ada']\n",
      "  warnings.warn(\n"
     ]
    },
    {
     "name": "stdout",
     "output_type": "stream",
     "text": [
      "================\n",
      "Configuration:\n",
      "K: 16\n",
      "Weights: uniform\n",
      "Algorithm: kd_tree\n",
      "Distance Metric: l2\n",
      "Oversampling Method: ada\n",
      "----------------\n",
      "Results: -0.8972353451116746\n",
      "================\n"
     ]
    },
    {
     "name": "stderr",
     "output_type": "stream",
     "text": [
      "C:\\Users\\Aaron\\AppData\\Roaming\\Python\\Python311\\site-packages\\skopt\\optimizer\\optimizer.py:517: UserWarning: The objective has been evaluated at point [151, 'distance', 'auto', 'cosine', 'ada'] before, using random point [318, 'uniform', 'ball_tree', 'euclidean', 'none']\n",
      "  warnings.warn(\n"
     ]
    },
    {
     "name": "stdout",
     "output_type": "stream",
     "text": [
      "================\n",
      "Configuration:\n",
      "K: 318\n",
      "Weights: uniform\n",
      "Algorithm: ball_tree\n",
      "Distance Metric: euclidean\n",
      "Oversampling Method: none\n",
      "----------------\n",
      "Results: -0.8302716328449765\n",
      "================\n"
     ]
    },
    {
     "name": "stderr",
     "output_type": "stream",
     "text": [
      "C:\\Users\\Aaron\\AppData\\Roaming\\Python\\Python311\\site-packages\\skopt\\optimizer\\optimizer.py:517: UserWarning: The objective has been evaluated at point [151, 'distance', 'auto', 'cosine', 'ada'] before, using random point [172, 'uniform', 'kd_tree', 'l2', 'ada']\n",
      "  warnings.warn(\n"
     ]
    },
    {
     "name": "stdout",
     "output_type": "stream",
     "text": [
      "================\n",
      "Configuration:\n",
      "K: 172\n",
      "Weights: uniform\n",
      "Algorithm: kd_tree\n",
      "Distance Metric: l2\n",
      "Oversampling Method: ada\n",
      "----------------\n",
      "Results: -0.8392229630811362\n",
      "================\n"
     ]
    },
    {
     "name": "stderr",
     "output_type": "stream",
     "text": [
      "C:\\Users\\Aaron\\AppData\\Roaming\\Python\\Python311\\site-packages\\skopt\\optimizer\\optimizer.py:517: UserWarning: The objective has been evaluated at point [152, 'distance', 'auto', 'cosine', 'ada'] before, using random point [139, 'distance', 'kd_tree', 'manhattan', 'ada']\n",
      "  warnings.warn(\n"
     ]
    },
    {
     "name": "stdout",
     "output_type": "stream",
     "text": [
      "================\n",
      "Configuration:\n",
      "K: 139\n",
      "Weights: distance\n",
      "Algorithm: kd_tree\n",
      "Distance Metric: manhattan\n",
      "Oversampling Method: ada\n",
      "----------------\n",
      "Results: -0.8961104015415883\n",
      "================\n"
     ]
    },
    {
     "name": "stderr",
     "output_type": "stream",
     "text": [
      "C:\\Users\\Aaron\\AppData\\Roaming\\Python\\Python311\\site-packages\\skopt\\optimizer\\optimizer.py:517: UserWarning: The objective has been evaluated at point [151, 'distance', 'auto', 'cosine', 'ada'] before, using random point [115, 'distance', 'auto', 'cityblock', 'ada']\n",
      "  warnings.warn(\n"
     ]
    },
    {
     "name": "stdout",
     "output_type": "stream",
     "text": [
      "================\n",
      "Configuration:\n",
      "K: 115\n",
      "Weights: distance\n",
      "Algorithm: auto\n",
      "Distance Metric: cityblock\n",
      "Oversampling Method: ada\n",
      "----------------\n",
      "Results: -0.8996180708448311\n",
      "================\n"
     ]
    },
    {
     "name": "stderr",
     "output_type": "stream",
     "text": [
      "C:\\Users\\Aaron\\AppData\\Roaming\\Python\\Python311\\site-packages\\skopt\\optimizer\\optimizer.py:517: UserWarning: The objective has been evaluated at point [151, 'distance', 'auto', 'cosine', 'ada'] before, using random point [25, 'distance', 'auto', 'l1', 'none']\n",
      "  warnings.warn(\n"
     ]
    },
    {
     "name": "stdout",
     "output_type": "stream",
     "text": [
      "================\n",
      "Configuration:\n",
      "K: 25\n",
      "Weights: distance\n",
      "Algorithm: auto\n",
      "Distance Metric: l1\n",
      "Oversampling Method: none\n",
      "----------------\n",
      "Results: -0.92920114950391\n",
      "================\n"
     ]
    },
    {
     "name": "stderr",
     "output_type": "stream",
     "text": [
      "C:\\Users\\Aaron\\AppData\\Roaming\\Python\\Python311\\site-packages\\skopt\\optimizer\\optimizer.py:517: UserWarning: The objective has been evaluated at point [151, 'distance', 'auto', 'cosine', 'ada'] before, using random point [51, 'uniform', 'ball_tree', 'cosine', 'ada']\n",
      "  warnings.warn(\n"
     ]
    },
    {
     "name": "stdout",
     "output_type": "stream",
     "text": [
      "================\n",
      "Configuration:\n",
      "K: 51\n",
      "Weights: uniform\n",
      "Algorithm: ball_tree\n",
      "Distance Metric: cosine\n",
      "Oversampling Method: ada\n",
      "----------------\n",
      "Invalid Config\n"
     ]
    },
    {
     "name": "stderr",
     "output_type": "stream",
     "text": [
      "C:\\Users\\Aaron\\AppData\\Roaming\\Python\\Python311\\site-packages\\skopt\\optimizer\\optimizer.py:517: UserWarning: The objective has been evaluated at point [151, 'distance', 'auto', 'cosine', 'ada'] before, using random point [34, 'distance', 'auto', 'euclidean', 'none']\n",
      "  warnings.warn(\n"
     ]
    },
    {
     "name": "stdout",
     "output_type": "stream",
     "text": [
      "================\n",
      "Configuration:\n",
      "K: 34\n",
      "Weights: distance\n",
      "Algorithm: auto\n",
      "Distance Metric: euclidean\n",
      "Oversampling Method: none\n",
      "----------------\n",
      "Results: -0.9139690705079934\n",
      "================\n"
     ]
    },
    {
     "name": "stderr",
     "output_type": "stream",
     "text": [
      "C:\\Users\\Aaron\\AppData\\Roaming\\Python\\Python311\\site-packages\\skopt\\optimizer\\optimizer.py:517: UserWarning: The objective has been evaluated at point [152, 'distance', 'auto', 'cosine', 'ada'] before, using random point [117, 'uniform', 'auto', 'l1', 'none']\n",
      "  warnings.warn(\n"
     ]
    },
    {
     "name": "stdout",
     "output_type": "stream",
     "text": [
      "================\n",
      "Configuration:\n",
      "K: 117\n",
      "Weights: uniform\n",
      "Algorithm: auto\n",
      "Distance Metric: l1\n",
      "Oversampling Method: none\n",
      "----------------\n",
      "Results: -0.855318428404939\n",
      "================\n",
      "================\n",
      "Configuration:\n",
      "K: 320\n",
      "Weights: distance\n",
      "Algorithm: auto\n",
      "Distance Metric: euclidean\n",
      "Oversampling Method: ada\n",
      "----------------\n",
      "Results: -0.8701317125097412\n",
      "================\n"
     ]
    },
    {
     "name": "stderr",
     "output_type": "stream",
     "text": [
      "C:\\Users\\Aaron\\AppData\\Roaming\\Python\\Python311\\site-packages\\skopt\\optimizer\\optimizer.py:517: UserWarning: The objective has been evaluated at point [152, 'distance', 'auto', 'cosine', 'ada'] before, using random point [150, 'uniform', 'kd_tree', 'l1', 'none']\n",
      "  warnings.warn(\n"
     ]
    },
    {
     "name": "stdout",
     "output_type": "stream",
     "text": [
      "================\n",
      "Configuration:\n",
      "K: 150\n",
      "Weights: uniform\n",
      "Algorithm: kd_tree\n",
      "Distance Metric: l1\n",
      "Oversampling Method: none\n",
      "----------------\n",
      "Results: -0.8504707289373367\n",
      "================\n"
     ]
    },
    {
     "name": "stderr",
     "output_type": "stream",
     "text": [
      "C:\\Users\\Aaron\\AppData\\Roaming\\Python\\Python311\\site-packages\\skopt\\optimizer\\optimizer.py:517: UserWarning: The objective has been evaluated at point [152, 'distance', 'auto', 'cosine', 'ada'] before, using random point [133, 'distance', 'kd_tree', 'cosine', 'ada']\n",
      "  warnings.warn(\n"
     ]
    },
    {
     "name": "stdout",
     "output_type": "stream",
     "text": [
      "================\n",
      "Configuration:\n",
      "K: 133\n",
      "Weights: distance\n",
      "Algorithm: kd_tree\n",
      "Distance Metric: cosine\n",
      "Oversampling Method: ada\n",
      "----------------\n",
      "Invalid Config\n"
     ]
    },
    {
     "name": "stderr",
     "output_type": "stream",
     "text": [
      "C:\\Users\\Aaron\\AppData\\Roaming\\Python\\Python311\\site-packages\\skopt\\optimizer\\optimizer.py:517: UserWarning: The objective has been evaluated at point [152, 'distance', 'auto', 'cosine', 'ada'] before, using random point [59, 'uniform', 'auto', 'l1', 'ada']\n",
      "  warnings.warn(\n"
     ]
    },
    {
     "name": "stdout",
     "output_type": "stream",
     "text": [
      "================\n",
      "Configuration:\n",
      "K: 59\n",
      "Weights: uniform\n",
      "Algorithm: auto\n",
      "Distance Metric: l1\n",
      "Oversampling Method: ada\n",
      "----------------\n",
      "Results: -0.8716500920881902\n",
      "================\n"
     ]
    },
    {
     "name": "stderr",
     "output_type": "stream",
     "text": [
      "C:\\Users\\Aaron\\AppData\\Roaming\\Python\\Python311\\site-packages\\skopt\\optimizer\\optimizer.py:517: UserWarning: The objective has been evaluated at point [151, 'distance', 'auto', 'cosine', 'ada'] before, using random point [300, 'distance', 'ball_tree', 'euclidean', 'ada']\n",
      "  warnings.warn(\n"
     ]
    },
    {
     "name": "stdout",
     "output_type": "stream",
     "text": [
      "================\n",
      "Configuration:\n",
      "K: 300\n",
      "Weights: distance\n",
      "Algorithm: ball_tree\n",
      "Distance Metric: euclidean\n",
      "Oversampling Method: ada\n",
      "----------------\n",
      "Results: -0.871410374471807\n",
      "================\n"
     ]
    },
    {
     "name": "stderr",
     "output_type": "stream",
     "text": [
      "C:\\Users\\Aaron\\AppData\\Roaming\\Python\\Python311\\site-packages\\skopt\\optimizer\\optimizer.py:517: UserWarning: The objective has been evaluated at point [151, 'distance', 'auto', 'cosine', 'ada'] before, using random point [201, 'distance', 'ball_tree', 'l1', 'ada']\n",
      "  warnings.warn(\n"
     ]
    },
    {
     "name": "stdout",
     "output_type": "stream",
     "text": [
      "================\n",
      "Configuration:\n",
      "K: 201\n",
      "Weights: distance\n",
      "Algorithm: ball_tree\n",
      "Distance Metric: l1\n",
      "Oversampling Method: ada\n",
      "----------------\n",
      "Results: -0.8892225722562661\n",
      "================\n"
     ]
    },
    {
     "name": "stderr",
     "output_type": "stream",
     "text": [
      "C:\\Users\\Aaron\\AppData\\Roaming\\Python\\Python311\\site-packages\\skopt\\optimizer\\optimizer.py:517: UserWarning: The objective has been evaluated at point [152, 'distance', 'auto', 'cosine', 'ada'] before, using random point [227, 'uniform', 'auto', 'euclidean', 'ada']\n",
      "  warnings.warn(\n"
     ]
    },
    {
     "name": "stdout",
     "output_type": "stream",
     "text": [
      "================\n",
      "Configuration:\n",
      "K: 227\n",
      "Weights: uniform\n",
      "Algorithm: auto\n",
      "Distance Metric: euclidean\n",
      "Oversampling Method: ada\n",
      "----------------\n",
      "Results: -0.8346461845686256\n",
      "================\n"
     ]
    },
    {
     "name": "stderr",
     "output_type": "stream",
     "text": [
      "C:\\Users\\Aaron\\AppData\\Roaming\\Python\\Python311\\site-packages\\skopt\\optimizer\\optimizer.py:517: UserWarning: The objective has been evaluated at point [152, 'distance', 'auto', 'cosine', 'ada'] before, using random point [138, 'distance', 'kd_tree', 'nan_euclidean', 'none']\n",
      "  warnings.warn(\n"
     ]
    },
    {
     "name": "stdout",
     "output_type": "stream",
     "text": [
      "================\n",
      "Configuration:\n",
      "K: 138\n",
      "Weights: distance\n",
      "Algorithm: kd_tree\n",
      "Distance Metric: nan_euclidean\n",
      "Oversampling Method: none\n",
      "----------------\n",
      "Invalid Config\n"
     ]
    },
    {
     "name": "stderr",
     "output_type": "stream",
     "text": [
      "C:\\Users\\Aaron\\AppData\\Roaming\\Python\\Python311\\site-packages\\skopt\\optimizer\\optimizer.py:517: UserWarning: The objective has been evaluated at point [151, 'distance', 'auto', 'cosine', 'ada'] before, using random point [214, 'uniform', 'kd_tree', 'l2', 'ada']\n",
      "  warnings.warn(\n"
     ]
    },
    {
     "name": "stdout",
     "output_type": "stream",
     "text": [
      "================\n",
      "Configuration:\n",
      "K: 214\n",
      "Weights: uniform\n",
      "Algorithm: kd_tree\n",
      "Distance Metric: l2\n",
      "Oversampling Method: ada\n",
      "----------------\n",
      "Results: -0.835609836230364\n",
      "================\n"
     ]
    },
    {
     "name": "stderr",
     "output_type": "stream",
     "text": [
      "C:\\Users\\Aaron\\AppData\\Roaming\\Python\\Python311\\site-packages\\skopt\\optimizer\\optimizer.py:517: UserWarning: The objective has been evaluated at point [151, 'distance', 'auto', 'cosine', 'ada'] before, using random point [171, 'distance', 'auto', 'euclidean', 'none']\n",
      "  warnings.warn(\n"
     ]
    },
    {
     "name": "stdout",
     "output_type": "stream",
     "text": [
      "================\n",
      "Configuration:\n",
      "K: 171\n",
      "Weights: distance\n",
      "Algorithm: auto\n",
      "Distance Metric: euclidean\n",
      "Oversampling Method: none\n",
      "----------------\n",
      "Results: -0.8822005607864775\n",
      "================\n"
     ]
    },
    {
     "name": "stderr",
     "output_type": "stream",
     "text": [
      "C:\\Users\\Aaron\\AppData\\Roaming\\Python\\Python311\\site-packages\\skopt\\optimizer\\optimizer.py:517: UserWarning: The objective has been evaluated at point [152, 'distance', 'auto', 'cosine', 'ada'] before, using random point [196, 'distance', 'auto', 'nan_euclidean', 'none']\n",
      "  warnings.warn(\n"
     ]
    },
    {
     "name": "stdout",
     "output_type": "stream",
     "text": [
      "================\n",
      "Configuration:\n",
      "K: 196\n",
      "Weights: distance\n",
      "Algorithm: auto\n",
      "Distance Metric: nan_euclidean\n",
      "Oversampling Method: none\n",
      "----------------\n",
      "Results: -0.8795959239291657\n",
      "================\n"
     ]
    },
    {
     "name": "stderr",
     "output_type": "stream",
     "text": [
      "C:\\Users\\Aaron\\AppData\\Roaming\\Python\\Python311\\site-packages\\skopt\\optimizer\\optimizer.py:517: UserWarning: The objective has been evaluated at point [151, 'distance', 'auto', 'cosine', 'ada'] before, using random point [76, 'uniform', 'ball_tree', 'l1', 'none']\n",
      "  warnings.warn(\n"
     ]
    },
    {
     "name": "stdout",
     "output_type": "stream",
     "text": [
      "================\n",
      "Configuration:\n",
      "K: 76\n",
      "Weights: uniform\n",
      "Algorithm: ball_tree\n",
      "Distance Metric: l1\n",
      "Oversampling Method: none\n",
      "----------------\n",
      "Results: -0.8655604548675573\n",
      "================\n"
     ]
    },
    {
     "name": "stderr",
     "output_type": "stream",
     "text": [
      "C:\\Users\\Aaron\\AppData\\Roaming\\Python\\Python311\\site-packages\\skopt\\optimizer\\optimizer.py:517: UserWarning: The objective has been evaluated at point [151, 'distance', 'auto', 'cosine', 'ada'] before, using random point [236, 'distance', 'auto', 'nan_euclidean', 'none']\n",
      "  warnings.warn(\n"
     ]
    },
    {
     "name": "stdout",
     "output_type": "stream",
     "text": [
      "================\n",
      "Configuration:\n",
      "K: 236\n",
      "Weights: distance\n",
      "Algorithm: auto\n",
      "Distance Metric: nan_euclidean\n",
      "Oversampling Method: none\n",
      "----------------\n",
      "Results: -0.8759840540951697\n",
      "================\n"
     ]
    },
    {
     "name": "stderr",
     "output_type": "stream",
     "text": [
      "C:\\Users\\Aaron\\AppData\\Roaming\\Python\\Python311\\site-packages\\skopt\\optimizer\\optimizer.py:517: UserWarning: The objective has been evaluated at point [151, 'distance', 'auto', 'cosine', 'ada'] before, using random point [15, 'distance', 'kd_tree', 'cityblock', 'ada']\n",
      "  warnings.warn(\n"
     ]
    },
    {
     "name": "stdout",
     "output_type": "stream",
     "text": [
      "================\n",
      "Configuration:\n",
      "K: 15\n",
      "Weights: distance\n",
      "Algorithm: kd_tree\n",
      "Distance Metric: cityblock\n",
      "Oversampling Method: ada\n",
      "----------------\n",
      "Results: -0.9369850319551635\n",
      "================\n"
     ]
    },
    {
     "name": "stderr",
     "output_type": "stream",
     "text": [
      "C:\\Users\\Aaron\\AppData\\Roaming\\Python\\Python311\\site-packages\\skopt\\optimizer\\optimizer.py:517: UserWarning: The objective has been evaluated at point [151, 'distance', 'auto', 'cosine', 'ada'] before, using random point [100, 'uniform', 'ball_tree', 'l2', 'ada']\n",
      "  warnings.warn(\n"
     ]
    },
    {
     "name": "stdout",
     "output_type": "stream",
     "text": [
      "================\n",
      "Configuration:\n",
      "K: 100\n",
      "Weights: uniform\n",
      "Algorithm: ball_tree\n",
      "Distance Metric: l2\n",
      "Oversampling Method: ada\n",
      "----------------\n",
      "Results: -0.849886682776197\n",
      "================\n"
     ]
    },
    {
     "name": "stderr",
     "output_type": "stream",
     "text": [
      "C:\\Users\\Aaron\\AppData\\Roaming\\Python\\Python311\\site-packages\\skopt\\optimizer\\optimizer.py:517: UserWarning: The objective has been evaluated at point [151, 'distance', 'auto', 'cosine', 'ada'] before, using random point [108, 'distance', 'ball_tree', 'manhattan', 'ada']\n",
      "  warnings.warn(\n"
     ]
    },
    {
     "name": "stdout",
     "output_type": "stream",
     "text": [
      "================\n",
      "Configuration:\n",
      "K: 108\n",
      "Weights: distance\n",
      "Algorithm: ball_tree\n",
      "Distance Metric: manhattan\n",
      "Oversampling Method: ada\n",
      "----------------\n",
      "Results: -0.9008743765378\n",
      "================\n"
     ]
    },
    {
     "name": "stderr",
     "output_type": "stream",
     "text": [
      "C:\\Users\\Aaron\\AppData\\Roaming\\Python\\Python311\\site-packages\\skopt\\optimizer\\optimizer.py:517: UserWarning: The objective has been evaluated at point [151, 'distance', 'auto', 'cosine', 'ada'] before, using random point [125, 'distance', 'ball_tree', 'euclidean', 'none']\n",
      "  warnings.warn(\n"
     ]
    },
    {
     "name": "stdout",
     "output_type": "stream",
     "text": [
      "================\n",
      "Configuration:\n",
      "K: 125\n",
      "Weights: distance\n",
      "Algorithm: ball_tree\n",
      "Distance Metric: euclidean\n",
      "Oversampling Method: none\n",
      "----------------\n",
      "Results: -0.8881889531836732\n",
      "================\n"
     ]
    },
    {
     "name": "stderr",
     "output_type": "stream",
     "text": [
      "C:\\Users\\Aaron\\AppData\\Roaming\\Python\\Python311\\site-packages\\skopt\\optimizer\\optimizer.py:517: UserWarning: The objective has been evaluated at point [152, 'distance', 'auto', 'cosine', 'ada'] before, using random point [17, 'uniform', 'auto', 'l1', 'none']\n",
      "  warnings.warn(\n"
     ]
    },
    {
     "name": "stdout",
     "output_type": "stream",
     "text": [
      "================\n",
      "Configuration:\n",
      "K: 17\n",
      "Weights: uniform\n",
      "Algorithm: auto\n",
      "Distance Metric: l1\n",
      "Oversampling Method: none\n",
      "----------------\n",
      "Results: -0.9062628301499256\n",
      "================\n"
     ]
    },
    {
     "name": "stderr",
     "output_type": "stream",
     "text": [
      "C:\\Users\\Aaron\\AppData\\Roaming\\Python\\Python311\\site-packages\\skopt\\optimizer\\optimizer.py:517: UserWarning: The objective has been evaluated at point [151, 'distance', 'auto', 'cosine', 'ada'] before, using random point [93, 'distance', 'kd_tree', 'cosine', 'none']\n",
      "  warnings.warn(\n"
     ]
    },
    {
     "name": "stdout",
     "output_type": "stream",
     "text": [
      "================\n",
      "Configuration:\n",
      "K: 93\n",
      "Weights: distance\n",
      "Algorithm: kd_tree\n",
      "Distance Metric: cosine\n",
      "Oversampling Method: none\n",
      "----------------\n",
      "Invalid Config\n"
     ]
    },
    {
     "name": "stderr",
     "output_type": "stream",
     "text": [
      "C:\\Users\\Aaron\\AppData\\Roaming\\Python\\Python311\\site-packages\\skopt\\optimizer\\optimizer.py:517: UserWarning: The objective has been evaluated at point [152, 'distance', 'auto', 'cosine', 'ada'] before, using random point [198, 'distance', 'auto', 'l2', 'ada']\n",
      "  warnings.warn(\n"
     ]
    },
    {
     "name": "stdout",
     "output_type": "stream",
     "text": [
      "================\n",
      "Configuration:\n",
      "K: 198\n",
      "Weights: distance\n",
      "Algorithm: auto\n",
      "Distance Metric: l2\n",
      "Oversampling Method: ada\n",
      "----------------\n",
      "Results: -0.8793852247681833\n",
      "================\n"
     ]
    },
    {
     "name": "stderr",
     "output_type": "stream",
     "text": [
      "C:\\Users\\Aaron\\AppData\\Roaming\\Python\\Python311\\site-packages\\skopt\\optimizer\\optimizer.py:517: UserWarning: The objective has been evaluated at point [152, 'distance', 'auto', 'cosine', 'ada'] before, using random point [225, 'distance', 'ball_tree', 'cosine', 'ada']\n",
      "  warnings.warn(\n"
     ]
    },
    {
     "name": "stdout",
     "output_type": "stream",
     "text": [
      "================\n",
      "Configuration:\n",
      "K: 225\n",
      "Weights: distance\n",
      "Algorithm: ball_tree\n",
      "Distance Metric: cosine\n",
      "Oversampling Method: ada\n",
      "----------------\n",
      "Invalid Config\n"
     ]
    },
    {
     "name": "stderr",
     "output_type": "stream",
     "text": [
      "C:\\Users\\Aaron\\AppData\\Roaming\\Python\\Python311\\site-packages\\skopt\\optimizer\\optimizer.py:517: UserWarning: The objective has been evaluated at point [151, 'distance', 'auto', 'cosine', 'ada'] before, using random point [105, 'uniform', 'kd_tree', 'l1', 'none']\n",
      "  warnings.warn(\n"
     ]
    },
    {
     "name": "stdout",
     "output_type": "stream",
     "text": [
      "================\n",
      "Configuration:\n",
      "K: 105\n",
      "Weights: uniform\n",
      "Algorithm: kd_tree\n",
      "Distance Metric: l1\n",
      "Oversampling Method: none\n",
      "----------------\n",
      "Results: -0.8577889808128392\n",
      "================\n"
     ]
    },
    {
     "name": "stderr",
     "output_type": "stream",
     "text": [
      "C:\\Users\\Aaron\\AppData\\Roaming\\Python\\Python311\\site-packages\\skopt\\optimizer\\optimizer.py:517: UserWarning: The objective has been evaluated at point [151, 'distance', 'auto', 'cosine', 'ada'] before, using random point [231, 'distance', 'auto', 'euclidean', 'ada']\n",
      "  warnings.warn(\n"
     ]
    },
    {
     "name": "stdout",
     "output_type": "stream",
     "text": [
      "================\n",
      "Configuration:\n",
      "K: 231\n",
      "Weights: distance\n",
      "Algorithm: auto\n",
      "Distance Metric: euclidean\n",
      "Oversampling Method: ada\n",
      "----------------\n",
      "Results: -0.8764119153801068\n",
      "================\n"
     ]
    },
    {
     "name": "stderr",
     "output_type": "stream",
     "text": [
      "C:\\Users\\Aaron\\AppData\\Roaming\\Python\\Python311\\site-packages\\skopt\\optimizer\\optimizer.py:517: UserWarning: The objective has been evaluated at point [152, 'distance', 'auto', 'cosine', 'ada'] before, using random point [56, 'distance', 'kd_tree', 'l1', 'none']\n",
      "  warnings.warn(\n"
     ]
    },
    {
     "name": "stdout",
     "output_type": "stream",
     "text": [
      "================\n",
      "Configuration:\n",
      "K: 56\n",
      "Weights: distance\n",
      "Algorithm: kd_tree\n",
      "Distance Metric: l1\n",
      "Oversampling Method: none\n",
      "----------------\n",
      "Results: -0.9139382566708516\n",
      "================\n"
     ]
    },
    {
     "name": "stderr",
     "output_type": "stream",
     "text": [
      "C:\\Users\\Aaron\\AppData\\Roaming\\Python\\Python311\\site-packages\\skopt\\optimizer\\optimizer.py:517: UserWarning: The objective has been evaluated at point [151, 'distance', 'auto', 'cosine', 'ada'] before, using random point [24, 'uniform', 'ball_tree', 'manhattan', 'none']\n",
      "  warnings.warn(\n"
     ]
    },
    {
     "name": "stdout",
     "output_type": "stream",
     "text": [
      "================\n",
      "Configuration:\n",
      "K: 24\n",
      "Weights: uniform\n",
      "Algorithm: ball_tree\n",
      "Distance Metric: manhattan\n",
      "Oversampling Method: none\n",
      "----------------\n",
      "Results: -0.8962721229711786\n",
      "================\n"
     ]
    },
    {
     "name": "stderr",
     "output_type": "stream",
     "text": [
      "C:\\Users\\Aaron\\AppData\\Roaming\\Python\\Python311\\site-packages\\skopt\\optimizer\\optimizer.py:517: UserWarning: The objective has been evaluated at point [152, 'distance', 'auto', 'cosine', 'ada'] before, using random point [241, 'uniform', 'kd_tree', 'nan_euclidean', 'ada']\n",
      "  warnings.warn(\n"
     ]
    },
    {
     "name": "stdout",
     "output_type": "stream",
     "text": [
      "================\n",
      "Configuration:\n",
      "K: 241\n",
      "Weights: uniform\n",
      "Algorithm: kd_tree\n",
      "Distance Metric: nan_euclidean\n",
      "Oversampling Method: ada\n",
      "----------------\n",
      "Invalid Config\n"
     ]
    },
    {
     "name": "stderr",
     "output_type": "stream",
     "text": [
      "C:\\Users\\Aaron\\AppData\\Roaming\\Python\\Python311\\site-packages\\skopt\\optimizer\\optimizer.py:517: UserWarning: The objective has been evaluated at point [152, 'distance', 'auto', 'cosine', 'ada'] before, using random point [243, 'uniform', 'kd_tree', 'l2', 'ada']\n",
      "  warnings.warn(\n"
     ]
    },
    {
     "name": "stdout",
     "output_type": "stream",
     "text": [
      "================\n",
      "Configuration:\n",
      "K: 243\n",
      "Weights: uniform\n",
      "Algorithm: kd_tree\n",
      "Distance Metric: l2\n",
      "Oversampling Method: ada\n",
      "----------------\n",
      "Results: -0.8336876344854457\n",
      "================\n"
     ]
    },
    {
     "name": "stderr",
     "output_type": "stream",
     "text": [
      "C:\\Users\\Aaron\\AppData\\Roaming\\Python\\Python311\\site-packages\\skopt\\optimizer\\optimizer.py:517: UserWarning: The objective has been evaluated at point [152, 'distance', 'auto', 'cosine', 'ada'] before, using random point [6, 'distance', 'kd_tree', 'l2', 'ada']\n",
      "  warnings.warn(\n"
     ]
    },
    {
     "name": "stdout",
     "output_type": "stream",
     "text": [
      "================\n",
      "Configuration:\n",
      "K: 6\n",
      "Weights: distance\n",
      "Algorithm: kd_tree\n",
      "Distance Metric: l2\n",
      "Oversampling Method: ada\n",
      "----------------\n",
      "Results: -0.9342060276495591\n",
      "================\n"
     ]
    },
    {
     "name": "stderr",
     "output_type": "stream",
     "text": [
      "C:\\Users\\Aaron\\AppData\\Roaming\\Python\\Python311\\site-packages\\skopt\\optimizer\\optimizer.py:517: UserWarning: The objective has been evaluated at point [151, 'distance', 'auto', 'cosine', 'ada'] before, using random point [247, 'uniform', 'auto', 'l2', 'ada']\n",
      "  warnings.warn(\n"
     ]
    },
    {
     "name": "stdout",
     "output_type": "stream",
     "text": [
      "================\n",
      "Configuration:\n",
      "K: 247\n",
      "Weights: uniform\n",
      "Algorithm: auto\n",
      "Distance Metric: l2\n",
      "Oversampling Method: ada\n",
      "----------------\n",
      "Results: -0.8334446110727943\n",
      "================\n",
      "Best parameters: [17, 'distance', 'auto', 'cosine', 'none']\n"
     ]
    }
   ],
   "source": [
    "from sklearn.model_selection import cross_val_score\n",
    "from skopt import gp_minimize\n",
    "from skopt.space import Real, Integer, Categorical\n",
    "from skopt.utils import use_named_args\n",
    "import numpy as np\n",
    "import sys\n",
    "# Define the search space\n",
    "search_space = [\n",
    "    Integer(1, 320, name='n_neighbors'),\n",
    "    Categorical(['uniform', 'distance'], name='weights'),\n",
    "    Categorical(['auto', 'ball_tree', 'kd_tree'], name='algorithm'),\n",
    "    Categorical(['cityblock', 'cosine', 'euclidean', 'l1', 'l2', 'manhattan', 'nan_euclidean'], name='metric'),\n",
    "    Categorical(['none', 'ada'], name='oversampling_method')\n",
    "]\n",
    "\n",
    "# Define your objective function (e.g., maximizing accuracy)\n",
    "@use_named_args(search_space)\n",
    "def objective_function(n_neighbors, weights, algorithm, metric, oversampling_method):\n",
    "    print(\"================\")\n",
    "    print(\"Configuration:\")\n",
    "    print(\"K:\", n_neighbors)\n",
    "    print(\"Weights:\", weights)\n",
    "    print(\"Algorithm:\", algorithm)\n",
    "    print(\"Distance Metric:\", metric)\n",
    "    print(\"Oversampling Method:\", oversampling_method)\n",
    "    print(\"----------------\")\n",
    "    try:\n",
    "        if oversampling_method == 'none':\n",
    "            X = loans_train_df.loc[:, loans_train_df.columns != \"loan_status\"]\n",
    "            y = loans_train_df[\"loan_status\"]\n",
    "        elif oversampling_method == 'ada':\n",
    "            X = loans_train_ada_df.loc[:, loans_train_ada_df.columns != \"loan_status\"]\n",
    "            y = loans_train_ada_df[\"loan_status\"]\n",
    "        \n",
    "        model = KNeighborsClassifier(n_neighbors=n_neighbors, weights=weights, algorithm=algorithm, metric=metric)\n",
    "        roc_auc = cross_val_score(model, X, y, cv=3, scoring='roc_auc').mean()\n",
    "\n",
    "        print(\"Results:\", -roc_auc)\n",
    "        print(\"================\")\n",
    "        df_hyper_tuning.loc[len(df_hyper_tuning.index)] = [n_neighbors, weights, algorithm, metric, oversampling_method, roc_auc] \n",
    "        return -roc_auc\n",
    "    except:\n",
    "        print(\"Invalid Config\")\n",
    "        return 100000\n",
    "        \n",
    "\n",
    "# Perform Bayesian Optimization\n",
    "res = gp_minimize(objective_function, search_space, n_calls=500)\n",
    "\n",
    "# Print best parameters\n",
    "print(\"Best parameters:\", res.x)\n"
   ]
  },
  {
   "cell_type": "code",
   "execution_count": 5,
   "id": "3fa7f5c8-1993-4967-9f82-4b12918b3e9c",
   "metadata": {},
   "outputs": [
    {
     "data": {
      "text/html": [
       "<div>\n",
       "<style scoped>\n",
       "    .dataframe tbody tr th:only-of-type {\n",
       "        vertical-align: middle;\n",
       "    }\n",
       "\n",
       "    .dataframe tbody tr th {\n",
       "        vertical-align: top;\n",
       "    }\n",
       "\n",
       "    .dataframe thead th {\n",
       "        text-align: right;\n",
       "    }\n",
       "</style>\n",
       "<table border=\"1\" class=\"dataframe\">\n",
       "  <thead>\n",
       "    <tr style=\"text-align: right;\">\n",
       "      <th></th>\n",
       "      <th>n_neighbors</th>\n",
       "      <th>weights</th>\n",
       "      <th>algorithm</th>\n",
       "      <th>metric</th>\n",
       "      <th>oversampling_method</th>\n",
       "      <th>roc_auc</th>\n",
       "    </tr>\n",
       "  </thead>\n",
       "  <tbody>\n",
       "    <tr>\n",
       "      <th>245</th>\n",
       "      <td>17</td>\n",
       "      <td>distance</td>\n",
       "      <td>auto</td>\n",
       "      <td>cosine</td>\n",
       "      <td>none</td>\n",
       "      <td>0.942846</td>\n",
       "    </tr>\n",
       "    <tr>\n",
       "      <th>332</th>\n",
       "      <td>11</td>\n",
       "      <td>distance</td>\n",
       "      <td>auto</td>\n",
       "      <td>cosine</td>\n",
       "      <td>none</td>\n",
       "      <td>0.942835</td>\n",
       "    </tr>\n",
       "    <tr>\n",
       "      <th>253</th>\n",
       "      <td>18</td>\n",
       "      <td>distance</td>\n",
       "      <td>auto</td>\n",
       "      <td>cosine</td>\n",
       "      <td>none</td>\n",
       "      <td>0.942801</td>\n",
       "    </tr>\n",
       "    <tr>\n",
       "      <th>249</th>\n",
       "      <td>9</td>\n",
       "      <td>distance</td>\n",
       "      <td>auto</td>\n",
       "      <td>cosine</td>\n",
       "      <td>none</td>\n",
       "      <td>0.941877</td>\n",
       "    </tr>\n",
       "    <tr>\n",
       "      <th>22</th>\n",
       "      <td>10</td>\n",
       "      <td>distance</td>\n",
       "      <td>ball_tree</td>\n",
       "      <td>cityblock</td>\n",
       "      <td>none</td>\n",
       "      <td>0.941480</td>\n",
       "    </tr>\n",
       "    <tr>\n",
       "      <th>...</th>\n",
       "      <td>...</td>\n",
       "      <td>...</td>\n",
       "      <td>...</td>\n",
       "      <td>...</td>\n",
       "      <td>...</td>\n",
       "      <td>...</td>\n",
       "    </tr>\n",
       "    <tr>\n",
       "      <th>284</th>\n",
       "      <td>318</td>\n",
       "      <td>uniform</td>\n",
       "      <td>auto</td>\n",
       "      <td>cosine</td>\n",
       "      <td>none</td>\n",
       "      <td>0.827952</td>\n",
       "    </tr>\n",
       "    <tr>\n",
       "      <th>155</th>\n",
       "      <td>319</td>\n",
       "      <td>uniform</td>\n",
       "      <td>auto</td>\n",
       "      <td>cosine</td>\n",
       "      <td>none</td>\n",
       "      <td>0.827921</td>\n",
       "    </tr>\n",
       "    <tr>\n",
       "      <th>219</th>\n",
       "      <td>319</td>\n",
       "      <td>uniform</td>\n",
       "      <td>auto</td>\n",
       "      <td>cosine</td>\n",
       "      <td>ada</td>\n",
       "      <td>0.827921</td>\n",
       "    </tr>\n",
       "    <tr>\n",
       "      <th>77</th>\n",
       "      <td>320</td>\n",
       "      <td>uniform</td>\n",
       "      <td>auto</td>\n",
       "      <td>cosine</td>\n",
       "      <td>none</td>\n",
       "      <td>0.827867</td>\n",
       "    </tr>\n",
       "    <tr>\n",
       "      <th>38</th>\n",
       "      <td>320</td>\n",
       "      <td>uniform</td>\n",
       "      <td>auto</td>\n",
       "      <td>cosine</td>\n",
       "      <td>ada</td>\n",
       "      <td>0.827867</td>\n",
       "    </tr>\n",
       "  </tbody>\n",
       "</table>\n",
       "<p>441 rows × 6 columns</p>\n",
       "</div>"
      ],
      "text/plain": [
       "     n_neighbors   weights  algorithm     metric oversampling_method   roc_auc\n",
       "245           17  distance       auto     cosine                none  0.942846\n",
       "332           11  distance       auto     cosine                none  0.942835\n",
       "253           18  distance       auto     cosine                none  0.942801\n",
       "249            9  distance       auto     cosine                none  0.941877\n",
       "22            10  distance  ball_tree  cityblock                none  0.941480\n",
       "..           ...       ...        ...        ...                 ...       ...\n",
       "284          318   uniform       auto     cosine                none  0.827952\n",
       "155          319   uniform       auto     cosine                none  0.827921\n",
       "219          319   uniform       auto     cosine                 ada  0.827921\n",
       "77           320   uniform       auto     cosine                none  0.827867\n",
       "38           320   uniform       auto     cosine                 ada  0.827867\n",
       "\n",
       "[441 rows x 6 columns]"
      ]
     },
     "execution_count": 5,
     "metadata": {},
     "output_type": "execute_result"
    }
   ],
   "source": [
    "df_hyper_tuning.sort_values(by=['roc_auc'], ascending=False)"
   ]
  },
  {
   "cell_type": "code",
   "execution_count": 6,
   "id": "8544e14e-419d-43b6-8517-2ce7cafc67a1",
   "metadata": {},
   "outputs": [],
   "source": [
    "df_hyper_tuning.to_csv('hyper_tuning/knn_hyper_tuning.csv', index=False, header=True, encoding='utf-8')"
   ]
  },
  {
   "cell_type": "markdown",
   "id": "f3effbdf-f86a-44c6-9d28-a036d9b123fc",
   "metadata": {},
   "source": [
    "## Results"
   ]
  },
  {
   "cell_type": "code",
   "execution_count": 7,
   "id": "01569abe-8638-489d-974e-1160305ef72c",
   "metadata": {},
   "outputs": [],
   "source": [
    "clf = KNeighborsClassifier(n_neighbors=res.x[0], weights=res.x[1], algorithm=res.x[2], metric=res.x[3])"
   ]
  },
  {
   "cell_type": "code",
   "execution_count": 8,
   "id": "7e4aeb4b-d63c-4a1b-9e81-f837471ae270",
   "metadata": {},
   "outputs": [
    {
     "name": "stdout",
     "output_type": "stream",
     "text": [
      "Validation AUC: 0.942846031634049\n"
     ]
    }
   ],
   "source": [
    "if res.x[4] == 'none':\n",
    "    X = loans_train_df.loc[:, loans_train_df.columns != \"loan_status\"]\n",
    "    y = loans_train_df[\"loan_status\"]\n",
    "elif res.x[4] == 'ada':\n",
    "    X = loans_train_ada_df.loc[:, loans_train_ada_df.columns != \"loan_status\"]\n",
    "    y = loans_train_ada_df[\"loan_status\"]\n",
    "\n",
    "clf.fit(X,y)\n",
    "\n",
    "# Calculate the ROC AUC score\n",
    "roc_auc = cross_val_score(clf, X, y, cv=3, scoring='roc_auc').mean()\n",
    "print(\"Validation AUC:\", roc_auc)"
   ]
  },
  {
   "cell_type": "code",
   "execution_count": 9,
   "id": "9f303524-f60f-4bd9-bb13-5721f6cd72c9",
   "metadata": {},
   "outputs": [
    {
     "data": {
      "text/plain": [
       "['./outputs/knn_model.joblib']"
      ]
     },
     "execution_count": 9,
     "metadata": {},
     "output_type": "execute_result"
    }
   ],
   "source": [
    "from joblib import dump\n",
    "clf.fit(X,y)\n",
    "dump(clf, './outputs/knn_model.joblib')"
   ]
  },
  {
   "cell_type": "markdown",
   "id": "6b3b3bf0-074c-4244-bf51-4b8596c22580",
   "metadata": {},
   "source": [
    "# Fitting into Test Data"
   ]
  },
  {
   "cell_type": "code",
   "execution_count": 10,
   "id": "01a9dae2-682b-4301-a1af-5dfb86db3703",
   "metadata": {},
   "outputs": [
    {
     "data": {
      "text/html": [
       "<div>\n",
       "<style scoped>\n",
       "    .dataframe tbody tr th:only-of-type {\n",
       "        vertical-align: middle;\n",
       "    }\n",
       "\n",
       "    .dataframe tbody tr th {\n",
       "        vertical-align: top;\n",
       "    }\n",
       "\n",
       "    .dataframe thead th {\n",
       "        text-align: right;\n",
       "    }\n",
       "</style>\n",
       "<table border=\"1\" class=\"dataframe\">\n",
       "  <thead>\n",
       "    <tr style=\"text-align: right;\">\n",
       "      <th></th>\n",
       "      <th>id</th>\n",
       "      <th>person_age</th>\n",
       "      <th>person_income</th>\n",
       "      <th>person_emp_length</th>\n",
       "      <th>loan_amnt</th>\n",
       "      <th>loan_int_rate</th>\n",
       "      <th>loan_percent_income</th>\n",
       "      <th>cb_person_default_on_file</th>\n",
       "      <th>cb_person_cred_hist_length</th>\n",
       "      <th>PERSON_HOME_OWNERSHIP_MORTGAGE</th>\n",
       "      <th>...</th>\n",
       "      <th>LOAN_GRADE_B</th>\n",
       "      <th>LOAN_GRADE_C</th>\n",
       "      <th>LOAN_GRADE_D</th>\n",
       "      <th>LOAN_GRADE_E</th>\n",
       "      <th>LOAN_GRADE_F</th>\n",
       "      <th>LOAN_GRADE_G</th>\n",
       "      <th>CB_PERSON_CRED_HIST_LENGTH_11_17</th>\n",
       "      <th>CB_PERSON_CRED_HIST_LENGTH_18_above</th>\n",
       "      <th>CB_PERSON_CRED_HIST_LENGTH_5_10</th>\n",
       "      <th>CB_PERSON_CRED_HIST_LENGTH_5_below</th>\n",
       "    </tr>\n",
       "  </thead>\n",
       "  <tbody>\n",
       "    <tr>\n",
       "      <th>0</th>\n",
       "      <td>58645</td>\n",
       "      <td>-0.755638</td>\n",
       "      <td>0.404383</td>\n",
       "      <td>0.370898</td>\n",
       "      <td>2.836600</td>\n",
       "      <td>0.733635</td>\n",
       "      <td>2.189522</td>\n",
       "      <td>0</td>\n",
       "      <td>-1.080800</td>\n",
       "      <td>0</td>\n",
       "      <td>...</td>\n",
       "      <td>0</td>\n",
       "      <td>0</td>\n",
       "      <td>0</td>\n",
       "      <td>0</td>\n",
       "      <td>1</td>\n",
       "      <td>0</td>\n",
       "      <td>0</td>\n",
       "      <td>0</td>\n",
       "      <td>0</td>\n",
       "      <td>1</td>\n",
       "    </tr>\n",
       "    <tr>\n",
       "      <th>1</th>\n",
       "      <td>58646</td>\n",
       "      <td>-0.257331</td>\n",
       "      <td>1.127233</td>\n",
       "      <td>0.520621</td>\n",
       "      <td>0.140622</td>\n",
       "      <td>0.584177</td>\n",
       "      <td>-0.646041</td>\n",
       "      <td>1</td>\n",
       "      <td>0.179926</td>\n",
       "      <td>1</td>\n",
       "      <td>...</td>\n",
       "      <td>0</td>\n",
       "      <td>1</td>\n",
       "      <td>0</td>\n",
       "      <td>0</td>\n",
       "      <td>0</td>\n",
       "      <td>0</td>\n",
       "      <td>0</td>\n",
       "      <td>0</td>\n",
       "      <td>0</td>\n",
       "      <td>1</td>\n",
       "    </tr>\n",
       "    <tr>\n",
       "      <th>2</th>\n",
       "      <td>58647</td>\n",
       "      <td>-0.257331</td>\n",
       "      <td>-1.418731</td>\n",
       "      <td>0.479379</td>\n",
       "      <td>-0.937769</td>\n",
       "      <td>0.793331</td>\n",
       "      <td>-0.318861</td>\n",
       "      <td>1</td>\n",
       "      <td>-1.080800</td>\n",
       "      <td>0</td>\n",
       "      <td>...</td>\n",
       "      <td>0</td>\n",
       "      <td>0</td>\n",
       "      <td>0</td>\n",
       "      <td>1</td>\n",
       "      <td>0</td>\n",
       "      <td>0</td>\n",
       "      <td>0</td>\n",
       "      <td>0</td>\n",
       "      <td>0</td>\n",
       "      <td>1</td>\n",
       "    </tr>\n",
       "    <tr>\n",
       "      <th>3</th>\n",
       "      <td>58648</td>\n",
       "      <td>0.905387</td>\n",
       "      <td>-0.300610</td>\n",
       "      <td>0.430599</td>\n",
       "      <td>-0.398573</td>\n",
       "      <td>0.340882</td>\n",
       "      <td>-0.209801</td>\n",
       "      <td>0</td>\n",
       "      <td>1.197778</td>\n",
       "      <td>0</td>\n",
       "      <td>...</td>\n",
       "      <td>0</td>\n",
       "      <td>0</td>\n",
       "      <td>0</td>\n",
       "      <td>0</td>\n",
       "      <td>0</td>\n",
       "      <td>0</td>\n",
       "      <td>0</td>\n",
       "      <td>0</td>\n",
       "      <td>1</td>\n",
       "      <td>0</td>\n",
       "    </tr>\n",
       "    <tr>\n",
       "      <th>4</th>\n",
       "      <td>58649</td>\n",
       "      <td>-0.257331</td>\n",
       "      <td>1.259932</td>\n",
       "      <td>0.587859</td>\n",
       "      <td>1.039281</td>\n",
       "      <td>0.757634</td>\n",
       "      <td>-0.100741</td>\n",
       "      <td>1</td>\n",
       "      <td>0.179926</td>\n",
       "      <td>1</td>\n",
       "      <td>...</td>\n",
       "      <td>0</td>\n",
       "      <td>0</td>\n",
       "      <td>1</td>\n",
       "      <td>0</td>\n",
       "      <td>0</td>\n",
       "      <td>0</td>\n",
       "      <td>0</td>\n",
       "      <td>0</td>\n",
       "      <td>0</td>\n",
       "      <td>1</td>\n",
       "    </tr>\n",
       "    <tr>\n",
       "      <th>...</th>\n",
       "      <td>...</td>\n",
       "      <td>...</td>\n",
       "      <td>...</td>\n",
       "      <td>...</td>\n",
       "      <td>...</td>\n",
       "      <td>...</td>\n",
       "      <td>...</td>\n",
       "      <td>...</td>\n",
       "      <td>...</td>\n",
       "      <td>...</td>\n",
       "      <td>...</td>\n",
       "      <td>...</td>\n",
       "      <td>...</td>\n",
       "      <td>...</td>\n",
       "      <td>...</td>\n",
       "      <td>...</td>\n",
       "      <td>...</td>\n",
       "      <td>...</td>\n",
       "      <td>...</td>\n",
       "      <td>...</td>\n",
       "      <td>...</td>\n",
       "    </tr>\n",
       "    <tr>\n",
       "      <th>39093</th>\n",
       "      <td>97738</td>\n",
       "      <td>-0.921741</td>\n",
       "      <td>-1.332883</td>\n",
       "      <td>0.293930</td>\n",
       "      <td>-1.117500</td>\n",
       "      <td>0.445950</td>\n",
       "      <td>-0.646041</td>\n",
       "      <td>0</td>\n",
       "      <td>0.179926</td>\n",
       "      <td>1</td>\n",
       "      <td>...</td>\n",
       "      <td>1</td>\n",
       "      <td>0</td>\n",
       "      <td>0</td>\n",
       "      <td>0</td>\n",
       "      <td>0</td>\n",
       "      <td>0</td>\n",
       "      <td>0</td>\n",
       "      <td>0</td>\n",
       "      <td>0</td>\n",
       "      <td>1</td>\n",
       "    </tr>\n",
       "    <tr>\n",
       "      <th>39094</th>\n",
       "      <td>97739</td>\n",
       "      <td>-0.921741</td>\n",
       "      <td>-0.389963</td>\n",
       "      <td>0.520621</td>\n",
       "      <td>-0.398573</td>\n",
       "      <td>0.073304</td>\n",
       "      <td>-0.100741</td>\n",
       "      <td>0</td>\n",
       "      <td>-0.343323</td>\n",
       "      <td>1</td>\n",
       "      <td>...</td>\n",
       "      <td>0</td>\n",
       "      <td>0</td>\n",
       "      <td>0</td>\n",
       "      <td>0</td>\n",
       "      <td>0</td>\n",
       "      <td>0</td>\n",
       "      <td>0</td>\n",
       "      <td>0</td>\n",
       "      <td>0</td>\n",
       "      <td>1</td>\n",
       "    </tr>\n",
       "    <tr>\n",
       "      <th>39095</th>\n",
       "      <td>97740</td>\n",
       "      <td>3.895232</td>\n",
       "      <td>0.098465</td>\n",
       "      <td>0.000000</td>\n",
       "      <td>1.039281</td>\n",
       "      <td>0.224164</td>\n",
       "      <td>0.989861</td>\n",
       "      <td>0</td>\n",
       "      <td>3.513102</td>\n",
       "      <td>1</td>\n",
       "      <td>...</td>\n",
       "      <td>0</td>\n",
       "      <td>0</td>\n",
       "      <td>0</td>\n",
       "      <td>0</td>\n",
       "      <td>0</td>\n",
       "      <td>0</td>\n",
       "      <td>0</td>\n",
       "      <td>1</td>\n",
       "      <td>0</td>\n",
       "      <td>0</td>\n",
       "    </tr>\n",
       "    <tr>\n",
       "      <th>39096</th>\n",
       "      <td>97741</td>\n",
       "      <td>-0.921741</td>\n",
       "      <td>-1.019656</td>\n",
       "      <td>0.430599</td>\n",
       "      <td>0.859550</td>\n",
       "      <td>0.727502</td>\n",
       "      <td>2.516703</td>\n",
       "      <td>1</td>\n",
       "      <td>0.179926</td>\n",
       "      <td>1</td>\n",
       "      <td>...</td>\n",
       "      <td>0</td>\n",
       "      <td>0</td>\n",
       "      <td>1</td>\n",
       "      <td>0</td>\n",
       "      <td>0</td>\n",
       "      <td>0</td>\n",
       "      <td>0</td>\n",
       "      <td>0</td>\n",
       "      <td>0</td>\n",
       "      <td>1</td>\n",
       "    </tr>\n",
       "    <tr>\n",
       "      <th>39097</th>\n",
       "      <td>97742</td>\n",
       "      <td>0.573182</td>\n",
       "      <td>-0.531228</td>\n",
       "      <td>0.520621</td>\n",
       "      <td>1.839088</td>\n",
       "      <td>0.414765</td>\n",
       "      <td>3.062003</td>\n",
       "      <td>0</td>\n",
       "      <td>1.654880</td>\n",
       "      <td>0</td>\n",
       "      <td>...</td>\n",
       "      <td>1</td>\n",
       "      <td>0</td>\n",
       "      <td>0</td>\n",
       "      <td>0</td>\n",
       "      <td>0</td>\n",
       "      <td>0</td>\n",
       "      <td>0</td>\n",
       "      <td>0</td>\n",
       "      <td>1</td>\n",
       "      <td>0</td>\n",
       "    </tr>\n",
       "  </tbody>\n",
       "</table>\n",
       "<p>39098 rows × 30 columns</p>\n",
       "</div>"
      ],
      "text/plain": [
       "          id  person_age  person_income  person_emp_length  loan_amnt  \\\n",
       "0      58645   -0.755638       0.404383           0.370898   2.836600   \n",
       "1      58646   -0.257331       1.127233           0.520621   0.140622   \n",
       "2      58647   -0.257331      -1.418731           0.479379  -0.937769   \n",
       "3      58648    0.905387      -0.300610           0.430599  -0.398573   \n",
       "4      58649   -0.257331       1.259932           0.587859   1.039281   \n",
       "...      ...         ...            ...                ...        ...   \n",
       "39093  97738   -0.921741      -1.332883           0.293930  -1.117500   \n",
       "39094  97739   -0.921741      -0.389963           0.520621  -0.398573   \n",
       "39095  97740    3.895232       0.098465           0.000000   1.039281   \n",
       "39096  97741   -0.921741      -1.019656           0.430599   0.859550   \n",
       "39097  97742    0.573182      -0.531228           0.520621   1.839088   \n",
       "\n",
       "       loan_int_rate  loan_percent_income  cb_person_default_on_file  \\\n",
       "0           0.733635             2.189522                          0   \n",
       "1           0.584177            -0.646041                          1   \n",
       "2           0.793331            -0.318861                          1   \n",
       "3           0.340882            -0.209801                          0   \n",
       "4           0.757634            -0.100741                          1   \n",
       "...              ...                  ...                        ...   \n",
       "39093       0.445950            -0.646041                          0   \n",
       "39094       0.073304            -0.100741                          0   \n",
       "39095       0.224164             0.989861                          0   \n",
       "39096       0.727502             2.516703                          1   \n",
       "39097       0.414765             3.062003                          0   \n",
       "\n",
       "       cb_person_cred_hist_length  PERSON_HOME_OWNERSHIP_MORTGAGE  ...  \\\n",
       "0                       -1.080800                               0  ...   \n",
       "1                        0.179926                               1  ...   \n",
       "2                       -1.080800                               0  ...   \n",
       "3                        1.197778                               0  ...   \n",
       "4                        0.179926                               1  ...   \n",
       "...                           ...                             ...  ...   \n",
       "39093                    0.179926                               1  ...   \n",
       "39094                   -0.343323                               1  ...   \n",
       "39095                    3.513102                               1  ...   \n",
       "39096                    0.179926                               1  ...   \n",
       "39097                    1.654880                               0  ...   \n",
       "\n",
       "       LOAN_GRADE_B  LOAN_GRADE_C  LOAN_GRADE_D  LOAN_GRADE_E  LOAN_GRADE_F  \\\n",
       "0                 0             0             0             0             1   \n",
       "1                 0             1             0             0             0   \n",
       "2                 0             0             0             1             0   \n",
       "3                 0             0             0             0             0   \n",
       "4                 0             0             1             0             0   \n",
       "...             ...           ...           ...           ...           ...   \n",
       "39093             1             0             0             0             0   \n",
       "39094             0             0             0             0             0   \n",
       "39095             0             0             0             0             0   \n",
       "39096             0             0             1             0             0   \n",
       "39097             1             0             0             0             0   \n",
       "\n",
       "       LOAN_GRADE_G  CB_PERSON_CRED_HIST_LENGTH_11_17  \\\n",
       "0                 0                                 0   \n",
       "1                 0                                 0   \n",
       "2                 0                                 0   \n",
       "3                 0                                 0   \n",
       "4                 0                                 0   \n",
       "...             ...                               ...   \n",
       "39093             0                                 0   \n",
       "39094             0                                 0   \n",
       "39095             0                                 0   \n",
       "39096             0                                 0   \n",
       "39097             0                                 0   \n",
       "\n",
       "       CB_PERSON_CRED_HIST_LENGTH_18_above  CB_PERSON_CRED_HIST_LENGTH_5_10  \\\n",
       "0                                        0                                0   \n",
       "1                                        0                                0   \n",
       "2                                        0                                0   \n",
       "3                                        0                                1   \n",
       "4                                        0                                0   \n",
       "...                                    ...                              ...   \n",
       "39093                                    0                                0   \n",
       "39094                                    0                                0   \n",
       "39095                                    1                                0   \n",
       "39096                                    0                                0   \n",
       "39097                                    0                                1   \n",
       "\n",
       "       CB_PERSON_CRED_HIST_LENGTH_5_below  \n",
       "0                                       1  \n",
       "1                                       1  \n",
       "2                                       1  \n",
       "3                                       0  \n",
       "4                                       1  \n",
       "...                                   ...  \n",
       "39093                                   1  \n",
       "39094                                   1  \n",
       "39095                                   0  \n",
       "39096                                   1  \n",
       "39097                                   0  \n",
       "\n",
       "[39098 rows x 30 columns]"
      ]
     },
     "execution_count": 10,
     "metadata": {},
     "output_type": "execute_result"
    }
   ],
   "source": [
    "##Import Testing Dataset\n",
    "loans_test_df = pd.read_csv('./outputs/cleaned_loans_test.csv')\n",
    "loans_test_df"
   ]
  },
  {
   "cell_type": "code",
   "execution_count": 11,
   "id": "bf2d4039-ac19-47fd-9f80-0f749f4e189c",
   "metadata": {},
   "outputs": [
    {
     "data": {
      "text/html": [
       "<div>\n",
       "<style scoped>\n",
       "    .dataframe tbody tr th:only-of-type {\n",
       "        vertical-align: middle;\n",
       "    }\n",
       "\n",
       "    .dataframe tbody tr th {\n",
       "        vertical-align: top;\n",
       "    }\n",
       "\n",
       "    .dataframe thead th {\n",
       "        text-align: right;\n",
       "    }\n",
       "</style>\n",
       "<table border=\"1\" class=\"dataframe\">\n",
       "  <thead>\n",
       "    <tr style=\"text-align: right;\">\n",
       "      <th></th>\n",
       "      <th>person_age</th>\n",
       "      <th>person_income</th>\n",
       "      <th>person_emp_length</th>\n",
       "      <th>loan_amnt</th>\n",
       "      <th>loan_int_rate</th>\n",
       "      <th>loan_percent_income</th>\n",
       "      <th>cb_person_default_on_file</th>\n",
       "      <th>cb_person_cred_hist_length</th>\n",
       "      <th>PERSON_HOME_OWNERSHIP_MORTGAGE</th>\n",
       "      <th>PERSON_HOME_OWNERSHIP_OTHER</th>\n",
       "      <th>...</th>\n",
       "      <th>LOAN_GRADE_B</th>\n",
       "      <th>LOAN_GRADE_C</th>\n",
       "      <th>LOAN_GRADE_D</th>\n",
       "      <th>LOAN_GRADE_E</th>\n",
       "      <th>LOAN_GRADE_F</th>\n",
       "      <th>LOAN_GRADE_G</th>\n",
       "      <th>CB_PERSON_CRED_HIST_LENGTH_11_17</th>\n",
       "      <th>CB_PERSON_CRED_HIST_LENGTH_18_above</th>\n",
       "      <th>CB_PERSON_CRED_HIST_LENGTH_5_10</th>\n",
       "      <th>CB_PERSON_CRED_HIST_LENGTH_5_below</th>\n",
       "    </tr>\n",
       "  </thead>\n",
       "  <tbody>\n",
       "    <tr>\n",
       "      <th>0</th>\n",
       "      <td>-0.755638</td>\n",
       "      <td>0.404383</td>\n",
       "      <td>0.370898</td>\n",
       "      <td>2.836600</td>\n",
       "      <td>0.733635</td>\n",
       "      <td>2.189522</td>\n",
       "      <td>0</td>\n",
       "      <td>-1.080800</td>\n",
       "      <td>0</td>\n",
       "      <td>0</td>\n",
       "      <td>...</td>\n",
       "      <td>0</td>\n",
       "      <td>0</td>\n",
       "      <td>0</td>\n",
       "      <td>0</td>\n",
       "      <td>1</td>\n",
       "      <td>0</td>\n",
       "      <td>0</td>\n",
       "      <td>0</td>\n",
       "      <td>0</td>\n",
       "      <td>1</td>\n",
       "    </tr>\n",
       "    <tr>\n",
       "      <th>1</th>\n",
       "      <td>-0.257331</td>\n",
       "      <td>1.127233</td>\n",
       "      <td>0.520621</td>\n",
       "      <td>0.140622</td>\n",
       "      <td>0.584177</td>\n",
       "      <td>-0.646041</td>\n",
       "      <td>1</td>\n",
       "      <td>0.179926</td>\n",
       "      <td>1</td>\n",
       "      <td>0</td>\n",
       "      <td>...</td>\n",
       "      <td>0</td>\n",
       "      <td>1</td>\n",
       "      <td>0</td>\n",
       "      <td>0</td>\n",
       "      <td>0</td>\n",
       "      <td>0</td>\n",
       "      <td>0</td>\n",
       "      <td>0</td>\n",
       "      <td>0</td>\n",
       "      <td>1</td>\n",
       "    </tr>\n",
       "    <tr>\n",
       "      <th>2</th>\n",
       "      <td>-0.257331</td>\n",
       "      <td>-1.418731</td>\n",
       "      <td>0.479379</td>\n",
       "      <td>-0.937769</td>\n",
       "      <td>0.793331</td>\n",
       "      <td>-0.318861</td>\n",
       "      <td>1</td>\n",
       "      <td>-1.080800</td>\n",
       "      <td>0</td>\n",
       "      <td>0</td>\n",
       "      <td>...</td>\n",
       "      <td>0</td>\n",
       "      <td>0</td>\n",
       "      <td>0</td>\n",
       "      <td>1</td>\n",
       "      <td>0</td>\n",
       "      <td>0</td>\n",
       "      <td>0</td>\n",
       "      <td>0</td>\n",
       "      <td>0</td>\n",
       "      <td>1</td>\n",
       "    </tr>\n",
       "    <tr>\n",
       "      <th>3</th>\n",
       "      <td>0.905387</td>\n",
       "      <td>-0.300610</td>\n",
       "      <td>0.430599</td>\n",
       "      <td>-0.398573</td>\n",
       "      <td>0.340882</td>\n",
       "      <td>-0.209801</td>\n",
       "      <td>0</td>\n",
       "      <td>1.197778</td>\n",
       "      <td>0</td>\n",
       "      <td>0</td>\n",
       "      <td>...</td>\n",
       "      <td>0</td>\n",
       "      <td>0</td>\n",
       "      <td>0</td>\n",
       "      <td>0</td>\n",
       "      <td>0</td>\n",
       "      <td>0</td>\n",
       "      <td>0</td>\n",
       "      <td>0</td>\n",
       "      <td>1</td>\n",
       "      <td>0</td>\n",
       "    </tr>\n",
       "    <tr>\n",
       "      <th>4</th>\n",
       "      <td>-0.257331</td>\n",
       "      <td>1.259932</td>\n",
       "      <td>0.587859</td>\n",
       "      <td>1.039281</td>\n",
       "      <td>0.757634</td>\n",
       "      <td>-0.100741</td>\n",
       "      <td>1</td>\n",
       "      <td>0.179926</td>\n",
       "      <td>1</td>\n",
       "      <td>0</td>\n",
       "      <td>...</td>\n",
       "      <td>0</td>\n",
       "      <td>0</td>\n",
       "      <td>1</td>\n",
       "      <td>0</td>\n",
       "      <td>0</td>\n",
       "      <td>0</td>\n",
       "      <td>0</td>\n",
       "      <td>0</td>\n",
       "      <td>0</td>\n",
       "      <td>1</td>\n",
       "    </tr>\n",
       "    <tr>\n",
       "      <th>...</th>\n",
       "      <td>...</td>\n",
       "      <td>...</td>\n",
       "      <td>...</td>\n",
       "      <td>...</td>\n",
       "      <td>...</td>\n",
       "      <td>...</td>\n",
       "      <td>...</td>\n",
       "      <td>...</td>\n",
       "      <td>...</td>\n",
       "      <td>...</td>\n",
       "      <td>...</td>\n",
       "      <td>...</td>\n",
       "      <td>...</td>\n",
       "      <td>...</td>\n",
       "      <td>...</td>\n",
       "      <td>...</td>\n",
       "      <td>...</td>\n",
       "      <td>...</td>\n",
       "      <td>...</td>\n",
       "      <td>...</td>\n",
       "      <td>...</td>\n",
       "    </tr>\n",
       "    <tr>\n",
       "      <th>39093</th>\n",
       "      <td>-0.921741</td>\n",
       "      <td>-1.332883</td>\n",
       "      <td>0.293930</td>\n",
       "      <td>-1.117500</td>\n",
       "      <td>0.445950</td>\n",
       "      <td>-0.646041</td>\n",
       "      <td>0</td>\n",
       "      <td>0.179926</td>\n",
       "      <td>1</td>\n",
       "      <td>0</td>\n",
       "      <td>...</td>\n",
       "      <td>1</td>\n",
       "      <td>0</td>\n",
       "      <td>0</td>\n",
       "      <td>0</td>\n",
       "      <td>0</td>\n",
       "      <td>0</td>\n",
       "      <td>0</td>\n",
       "      <td>0</td>\n",
       "      <td>0</td>\n",
       "      <td>1</td>\n",
       "    </tr>\n",
       "    <tr>\n",
       "      <th>39094</th>\n",
       "      <td>-0.921741</td>\n",
       "      <td>-0.389963</td>\n",
       "      <td>0.520621</td>\n",
       "      <td>-0.398573</td>\n",
       "      <td>0.073304</td>\n",
       "      <td>-0.100741</td>\n",
       "      <td>0</td>\n",
       "      <td>-0.343323</td>\n",
       "      <td>1</td>\n",
       "      <td>0</td>\n",
       "      <td>...</td>\n",
       "      <td>0</td>\n",
       "      <td>0</td>\n",
       "      <td>0</td>\n",
       "      <td>0</td>\n",
       "      <td>0</td>\n",
       "      <td>0</td>\n",
       "      <td>0</td>\n",
       "      <td>0</td>\n",
       "      <td>0</td>\n",
       "      <td>1</td>\n",
       "    </tr>\n",
       "    <tr>\n",
       "      <th>39095</th>\n",
       "      <td>3.895232</td>\n",
       "      <td>0.098465</td>\n",
       "      <td>0.000000</td>\n",
       "      <td>1.039281</td>\n",
       "      <td>0.224164</td>\n",
       "      <td>0.989861</td>\n",
       "      <td>0</td>\n",
       "      <td>3.513102</td>\n",
       "      <td>1</td>\n",
       "      <td>0</td>\n",
       "      <td>...</td>\n",
       "      <td>0</td>\n",
       "      <td>0</td>\n",
       "      <td>0</td>\n",
       "      <td>0</td>\n",
       "      <td>0</td>\n",
       "      <td>0</td>\n",
       "      <td>0</td>\n",
       "      <td>1</td>\n",
       "      <td>0</td>\n",
       "      <td>0</td>\n",
       "    </tr>\n",
       "    <tr>\n",
       "      <th>39096</th>\n",
       "      <td>-0.921741</td>\n",
       "      <td>-1.019656</td>\n",
       "      <td>0.430599</td>\n",
       "      <td>0.859550</td>\n",
       "      <td>0.727502</td>\n",
       "      <td>2.516703</td>\n",
       "      <td>1</td>\n",
       "      <td>0.179926</td>\n",
       "      <td>1</td>\n",
       "      <td>0</td>\n",
       "      <td>...</td>\n",
       "      <td>0</td>\n",
       "      <td>0</td>\n",
       "      <td>1</td>\n",
       "      <td>0</td>\n",
       "      <td>0</td>\n",
       "      <td>0</td>\n",
       "      <td>0</td>\n",
       "      <td>0</td>\n",
       "      <td>0</td>\n",
       "      <td>1</td>\n",
       "    </tr>\n",
       "    <tr>\n",
       "      <th>39097</th>\n",
       "      <td>0.573182</td>\n",
       "      <td>-0.531228</td>\n",
       "      <td>0.520621</td>\n",
       "      <td>1.839088</td>\n",
       "      <td>0.414765</td>\n",
       "      <td>3.062003</td>\n",
       "      <td>0</td>\n",
       "      <td>1.654880</td>\n",
       "      <td>0</td>\n",
       "      <td>0</td>\n",
       "      <td>...</td>\n",
       "      <td>1</td>\n",
       "      <td>0</td>\n",
       "      <td>0</td>\n",
       "      <td>0</td>\n",
       "      <td>0</td>\n",
       "      <td>0</td>\n",
       "      <td>0</td>\n",
       "      <td>0</td>\n",
       "      <td>1</td>\n",
       "      <td>0</td>\n",
       "    </tr>\n",
       "  </tbody>\n",
       "</table>\n",
       "<p>39098 rows × 29 columns</p>\n",
       "</div>"
      ],
      "text/plain": [
       "       person_age  person_income  person_emp_length  loan_amnt  loan_int_rate  \\\n",
       "0       -0.755638       0.404383           0.370898   2.836600       0.733635   \n",
       "1       -0.257331       1.127233           0.520621   0.140622       0.584177   \n",
       "2       -0.257331      -1.418731           0.479379  -0.937769       0.793331   \n",
       "3        0.905387      -0.300610           0.430599  -0.398573       0.340882   \n",
       "4       -0.257331       1.259932           0.587859   1.039281       0.757634   \n",
       "...           ...            ...                ...        ...            ...   \n",
       "39093   -0.921741      -1.332883           0.293930  -1.117500       0.445950   \n",
       "39094   -0.921741      -0.389963           0.520621  -0.398573       0.073304   \n",
       "39095    3.895232       0.098465           0.000000   1.039281       0.224164   \n",
       "39096   -0.921741      -1.019656           0.430599   0.859550       0.727502   \n",
       "39097    0.573182      -0.531228           0.520621   1.839088       0.414765   \n",
       "\n",
       "       loan_percent_income  cb_person_default_on_file  \\\n",
       "0                 2.189522                          0   \n",
       "1                -0.646041                          1   \n",
       "2                -0.318861                          1   \n",
       "3                -0.209801                          0   \n",
       "4                -0.100741                          1   \n",
       "...                    ...                        ...   \n",
       "39093            -0.646041                          0   \n",
       "39094            -0.100741                          0   \n",
       "39095             0.989861                          0   \n",
       "39096             2.516703                          1   \n",
       "39097             3.062003                          0   \n",
       "\n",
       "       cb_person_cred_hist_length  PERSON_HOME_OWNERSHIP_MORTGAGE  \\\n",
       "0                       -1.080800                               0   \n",
       "1                        0.179926                               1   \n",
       "2                       -1.080800                               0   \n",
       "3                        1.197778                               0   \n",
       "4                        0.179926                               1   \n",
       "...                           ...                             ...   \n",
       "39093                    0.179926                               1   \n",
       "39094                   -0.343323                               1   \n",
       "39095                    3.513102                               1   \n",
       "39096                    0.179926                               1   \n",
       "39097                    1.654880                               0   \n",
       "\n",
       "       PERSON_HOME_OWNERSHIP_OTHER  ...  LOAN_GRADE_B  LOAN_GRADE_C  \\\n",
       "0                                0  ...             0             0   \n",
       "1                                0  ...             0             1   \n",
       "2                                0  ...             0             0   \n",
       "3                                0  ...             0             0   \n",
       "4                                0  ...             0             0   \n",
       "...                            ...  ...           ...           ...   \n",
       "39093                            0  ...             1             0   \n",
       "39094                            0  ...             0             0   \n",
       "39095                            0  ...             0             0   \n",
       "39096                            0  ...             0             0   \n",
       "39097                            0  ...             1             0   \n",
       "\n",
       "       LOAN_GRADE_D  LOAN_GRADE_E  LOAN_GRADE_F  LOAN_GRADE_G  \\\n",
       "0                 0             0             1             0   \n",
       "1                 0             0             0             0   \n",
       "2                 0             1             0             0   \n",
       "3                 0             0             0             0   \n",
       "4                 1             0             0             0   \n",
       "...             ...           ...           ...           ...   \n",
       "39093             0             0             0             0   \n",
       "39094             0             0             0             0   \n",
       "39095             0             0             0             0   \n",
       "39096             1             0             0             0   \n",
       "39097             0             0             0             0   \n",
       "\n",
       "       CB_PERSON_CRED_HIST_LENGTH_11_17  CB_PERSON_CRED_HIST_LENGTH_18_above  \\\n",
       "0                                     0                                    0   \n",
       "1                                     0                                    0   \n",
       "2                                     0                                    0   \n",
       "3                                     0                                    0   \n",
       "4                                     0                                    0   \n",
       "...                                 ...                                  ...   \n",
       "39093                                 0                                    0   \n",
       "39094                                 0                                    0   \n",
       "39095                                 0                                    1   \n",
       "39096                                 0                                    0   \n",
       "39097                                 0                                    0   \n",
       "\n",
       "       CB_PERSON_CRED_HIST_LENGTH_5_10  CB_PERSON_CRED_HIST_LENGTH_5_below  \n",
       "0                                    0                                   1  \n",
       "1                                    0                                   1  \n",
       "2                                    0                                   1  \n",
       "3                                    1                                   0  \n",
       "4                                    0                                   1  \n",
       "...                                ...                                 ...  \n",
       "39093                                0                                   1  \n",
       "39094                                0                                   1  \n",
       "39095                                0                                   0  \n",
       "39096                                0                                   1  \n",
       "39097                                1                                   0  \n",
       "\n",
       "[39098 rows x 29 columns]"
      ]
     },
     "execution_count": 11,
     "metadata": {},
     "output_type": "execute_result"
    }
   ],
   "source": [
    "X_test = loans_test_df.loc[:, loans_test_df.columns != \"id\"]\n",
    "X_test"
   ]
  },
  {
   "cell_type": "code",
   "execution_count": 12,
   "id": "eed7d359-23c9-4228-9fd9-5a11ca858d7f",
   "metadata": {},
   "outputs": [],
   "source": [
    "y_pred = clf.predict(X_test)"
   ]
  },
  {
   "cell_type": "code",
   "execution_count": 13,
   "id": "c497f9ab-df30-4fe7-b3b5-0fdd531f5de5",
   "metadata": {},
   "outputs": [],
   "source": [
    "loans_predictions_df = loans_test_df[\"id\"].copy(deep=True)\n",
    "loans_predictions_df = loans_predictions_df.to_frame()\n",
    "loans_predictions_df.insert(1, 'loan_status', y_pred, True)"
   ]
  },
  {
   "cell_type": "code",
   "execution_count": 14,
   "id": "d54f4130-7a88-4ebd-9c92-10f91bbd52d4",
   "metadata": {},
   "outputs": [
    {
     "data": {
      "text/html": [
       "<div>\n",
       "<style scoped>\n",
       "    .dataframe tbody tr th:only-of-type {\n",
       "        vertical-align: middle;\n",
       "    }\n",
       "\n",
       "    .dataframe tbody tr th {\n",
       "        vertical-align: top;\n",
       "    }\n",
       "\n",
       "    .dataframe thead th {\n",
       "        text-align: right;\n",
       "    }\n",
       "</style>\n",
       "<table border=\"1\" class=\"dataframe\">\n",
       "  <thead>\n",
       "    <tr style=\"text-align: right;\">\n",
       "      <th></th>\n",
       "      <th>id</th>\n",
       "      <th>loan_status</th>\n",
       "    </tr>\n",
       "  </thead>\n",
       "  <tbody>\n",
       "    <tr>\n",
       "      <th>0</th>\n",
       "      <td>58645</td>\n",
       "      <td>1</td>\n",
       "    </tr>\n",
       "    <tr>\n",
       "      <th>1</th>\n",
       "      <td>58646</td>\n",
       "      <td>0</td>\n",
       "    </tr>\n",
       "    <tr>\n",
       "      <th>2</th>\n",
       "      <td>58647</td>\n",
       "      <td>1</td>\n",
       "    </tr>\n",
       "    <tr>\n",
       "      <th>3</th>\n",
       "      <td>58648</td>\n",
       "      <td>0</td>\n",
       "    </tr>\n",
       "    <tr>\n",
       "      <th>4</th>\n",
       "      <td>58649</td>\n",
       "      <td>1</td>\n",
       "    </tr>\n",
       "    <tr>\n",
       "      <th>...</th>\n",
       "      <td>...</td>\n",
       "      <td>...</td>\n",
       "    </tr>\n",
       "    <tr>\n",
       "      <th>39093</th>\n",
       "      <td>97738</td>\n",
       "      <td>0</td>\n",
       "    </tr>\n",
       "    <tr>\n",
       "      <th>39094</th>\n",
       "      <td>97739</td>\n",
       "      <td>0</td>\n",
       "    </tr>\n",
       "    <tr>\n",
       "      <th>39095</th>\n",
       "      <td>97740</td>\n",
       "      <td>0</td>\n",
       "    </tr>\n",
       "    <tr>\n",
       "      <th>39096</th>\n",
       "      <td>97741</td>\n",
       "      <td>1</td>\n",
       "    </tr>\n",
       "    <tr>\n",
       "      <th>39097</th>\n",
       "      <td>97742</td>\n",
       "      <td>1</td>\n",
       "    </tr>\n",
       "  </tbody>\n",
       "</table>\n",
       "<p>39098 rows × 2 columns</p>\n",
       "</div>"
      ],
      "text/plain": [
       "          id  loan_status\n",
       "0      58645            1\n",
       "1      58646            0\n",
       "2      58647            1\n",
       "3      58648            0\n",
       "4      58649            1\n",
       "...      ...          ...\n",
       "39093  97738            0\n",
       "39094  97739            0\n",
       "39095  97740            0\n",
       "39096  97741            1\n",
       "39097  97742            1\n",
       "\n",
       "[39098 rows x 2 columns]"
      ]
     },
     "execution_count": 14,
     "metadata": {},
     "output_type": "execute_result"
    }
   ],
   "source": [
    "loans_predictions_df"
   ]
  },
  {
   "cell_type": "code",
   "execution_count": 15,
   "id": "bb71e136-2618-4a62-9b95-888a635380f6",
   "metadata": {},
   "outputs": [],
   "source": [
    "loans_predictions_df.to_csv('predictions/knn_predictions.csv', index=False, header=True, encoding='utf-8')"
   ]
  },
  {
   "cell_type": "code",
   "execution_count": null,
   "id": "a293af97-59cb-4183-b2e0-41a44af6f7a4",
   "metadata": {},
   "outputs": [],
   "source": []
  }
 ],
 "metadata": {
  "kernelspec": {
   "display_name": "Python 3 (ipykernel)",
   "language": "python",
   "name": "python3"
  },
  "language_info": {
   "codemirror_mode": {
    "name": "ipython",
    "version": 3
   },
   "file_extension": ".py",
   "mimetype": "text/x-python",
   "name": "python",
   "nbconvert_exporter": "python",
   "pygments_lexer": "ipython3",
   "version": "3.11.7"
  }
 },
 "nbformat": 4,
 "nbformat_minor": 5
}
