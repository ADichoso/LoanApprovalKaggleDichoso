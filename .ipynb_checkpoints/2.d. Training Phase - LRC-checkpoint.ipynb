{
 "cells": [
  {
   "cell_type": "code",
   "execution_count": 1,
   "id": "e0b42ef0-d8b5-4504-b913-bc514293d5f4",
   "metadata": {},
   "outputs": [],
   "source": [
    "##Python libraries\n",
    "import pandas as pd\n",
    "import numpy as np\n",
    "import matplotlib.pyplot as plt\n",
    "from sklearn.linear_model import LogisticRegression\n",
    "from sklearn.preprocessing import StandardScaler\n",
    "from sklearn.pipeline import make_pipeline"
   ]
  },
  {
   "cell_type": "code",
   "execution_count": 2,
   "id": "3b701978-d1eb-49fe-90be-05b1af92ee93",
   "metadata": {},
   "outputs": [
    {
     "data": {
      "text/html": [
       "<div>\n",
       "<style scoped>\n",
       "    .dataframe tbody tr th:only-of-type {\n",
       "        vertical-align: middle;\n",
       "    }\n",
       "\n",
       "    .dataframe tbody tr th {\n",
       "        vertical-align: top;\n",
       "    }\n",
       "\n",
       "    .dataframe thead th {\n",
       "        text-align: right;\n",
       "    }\n",
       "</style>\n",
       "<table border=\"1\" class=\"dataframe\">\n",
       "  <thead>\n",
       "    <tr style=\"text-align: right;\">\n",
       "      <th></th>\n",
       "      <th>person_age</th>\n",
       "      <th>person_income</th>\n",
       "      <th>person_emp_length</th>\n",
       "      <th>loan_amnt</th>\n",
       "      <th>loan_int_rate</th>\n",
       "      <th>loan_percent_income</th>\n",
       "      <th>cb_person_default_on_file</th>\n",
       "      <th>cb_person_cred_hist_length</th>\n",
       "      <th>PERSON_HOME_OWNERSHIP_MORTGAGE</th>\n",
       "      <th>PERSON_HOME_OWNERSHIP_OTHER</th>\n",
       "      <th>...</th>\n",
       "      <th>LOAN_GRADE_C</th>\n",
       "      <th>LOAN_GRADE_D</th>\n",
       "      <th>LOAN_GRADE_E</th>\n",
       "      <th>LOAN_GRADE_F</th>\n",
       "      <th>LOAN_GRADE_G</th>\n",
       "      <th>CB_PERSON_CRED_HIST_LENGTH_11_17</th>\n",
       "      <th>CB_PERSON_CRED_HIST_LENGTH_18_above</th>\n",
       "      <th>CB_PERSON_CRED_HIST_LENGTH_5_10</th>\n",
       "      <th>CB_PERSON_CRED_HIST_LENGTH_5_below</th>\n",
       "      <th>loan_status</th>\n",
       "    </tr>\n",
       "  </thead>\n",
       "  <tbody>\n",
       "    <tr>\n",
       "      <th>0</th>\n",
       "      <td>1.569797</td>\n",
       "      <td>-1.081318</td>\n",
       "      <td>0.000000</td>\n",
       "      <td>-0.578305</td>\n",
       "      <td>0.516442</td>\n",
       "      <td>0.117380</td>\n",
       "      <td>0</td>\n",
       "      <td>0.411879</td>\n",
       "      <td>0</td>\n",
       "      <td>0</td>\n",
       "      <td>...</td>\n",
       "      <td>0</td>\n",
       "      <td>0</td>\n",
       "      <td>0</td>\n",
       "      <td>0</td>\n",
       "      <td>0</td>\n",
       "      <td>1</td>\n",
       "      <td>0</td>\n",
       "      <td>0</td>\n",
       "      <td>0</td>\n",
       "      <td>0</td>\n",
       "    </tr>\n",
       "    <tr>\n",
       "      <th>1</th>\n",
       "      <td>-0.921741</td>\n",
       "      <td>-0.052550</td>\n",
       "      <td>0.520621</td>\n",
       "      <td>-0.937769</td>\n",
       "      <td>0.619568</td>\n",
       "      <td>-0.973222</td>\n",
       "      <td>0</td>\n",
       "      <td>0.491800</td>\n",
       "      <td>0</td>\n",
       "      <td>0</td>\n",
       "      <td>...</td>\n",
       "      <td>1</td>\n",
       "      <td>0</td>\n",
       "      <td>0</td>\n",
       "      <td>0</td>\n",
       "      <td>0</td>\n",
       "      <td>0</td>\n",
       "      <td>0</td>\n",
       "      <td>0</td>\n",
       "      <td>1</td>\n",
       "      <td>0</td>\n",
       "    </tr>\n",
       "    <tr>\n",
       "      <th>2</th>\n",
       "      <td>0.240977</td>\n",
       "      <td>-1.508084</td>\n",
       "      <td>0.587859</td>\n",
       "      <td>-0.578305</td>\n",
       "      <td>0.340882</td>\n",
       "      <td>0.553620</td>\n",
       "      <td>0</td>\n",
       "      <td>0.377667</td>\n",
       "      <td>0</td>\n",
       "      <td>0</td>\n",
       "      <td>...</td>\n",
       "      <td>0</td>\n",
       "      <td>0</td>\n",
       "      <td>0</td>\n",
       "      <td>0</td>\n",
       "      <td>0</td>\n",
       "      <td>0</td>\n",
       "      <td>0</td>\n",
       "      <td>1</td>\n",
       "      <td>0</td>\n",
       "      <td>0</td>\n",
       "    </tr>\n",
       "    <tr>\n",
       "      <th>3</th>\n",
       "      <td>0.407079</td>\n",
       "      <td>0.435878</td>\n",
       "      <td>0.724529</td>\n",
       "      <td>0.500086</td>\n",
       "      <td>0.493327</td>\n",
       "      <td>0.117380</td>\n",
       "      <td>0</td>\n",
       "      <td>0.528549</td>\n",
       "      <td>0</td>\n",
       "      <td>0</td>\n",
       "      <td>...</td>\n",
       "      <td>0</td>\n",
       "      <td>0</td>\n",
       "      <td>0</td>\n",
       "      <td>0</td>\n",
       "      <td>0</td>\n",
       "      <td>0</td>\n",
       "      <td>0</td>\n",
       "      <td>1</td>\n",
       "      <td>0</td>\n",
       "      <td>0</td>\n",
       "    </tr>\n",
       "    <tr>\n",
       "      <th>4</th>\n",
       "      <td>-0.921741</td>\n",
       "      <td>0.098465</td>\n",
       "      <td>0.293930</td>\n",
       "      <td>-0.578305</td>\n",
       "      <td>0.167927</td>\n",
       "      <td>-0.646041</td>\n",
       "      <td>0</td>\n",
       "      <td>0.503242</td>\n",
       "      <td>0</td>\n",
       "      <td>0</td>\n",
       "      <td>...</td>\n",
       "      <td>0</td>\n",
       "      <td>0</td>\n",
       "      <td>0</td>\n",
       "      <td>0</td>\n",
       "      <td>0</td>\n",
       "      <td>0</td>\n",
       "      <td>0</td>\n",
       "      <td>0</td>\n",
       "      <td>1</td>\n",
       "      <td>0</td>\n",
       "    </tr>\n",
       "    <tr>\n",
       "      <th>...</th>\n",
       "      <td>...</td>\n",
       "      <td>...</td>\n",
       "      <td>...</td>\n",
       "      <td>...</td>\n",
       "      <td>...</td>\n",
       "      <td>...</td>\n",
       "      <td>...</td>\n",
       "      <td>...</td>\n",
       "      <td>...</td>\n",
       "      <td>...</td>\n",
       "      <td>...</td>\n",
       "      <td>...</td>\n",
       "      <td>...</td>\n",
       "      <td>...</td>\n",
       "      <td>...</td>\n",
       "      <td>...</td>\n",
       "      <td>...</td>\n",
       "      <td>...</td>\n",
       "      <td>...</td>\n",
       "      <td>...</td>\n",
       "      <td>...</td>\n",
       "    </tr>\n",
       "    <tr>\n",
       "      <th>101340</th>\n",
       "      <td>-0.622574</td>\n",
       "      <td>-0.580418</td>\n",
       "      <td>0.346125</td>\n",
       "      <td>-0.506511</td>\n",
       "      <td>0.742300</td>\n",
       "      <td>-0.188108</td>\n",
       "      <td>0</td>\n",
       "      <td>0.451231</td>\n",
       "      <td>0</td>\n",
       "      <td>0</td>\n",
       "      <td>...</td>\n",
       "      <td>0</td>\n",
       "      <td>1</td>\n",
       "      <td>0</td>\n",
       "      <td>0</td>\n",
       "      <td>0</td>\n",
       "      <td>0</td>\n",
       "      <td>0</td>\n",
       "      <td>0</td>\n",
       "      <td>1</td>\n",
       "      <td>1</td>\n",
       "    </tr>\n",
       "    <tr>\n",
       "      <th>101341</th>\n",
       "      <td>-0.718924</td>\n",
       "      <td>-0.528345</td>\n",
       "      <td>0.563312</td>\n",
       "      <td>-0.386847</td>\n",
       "      <td>0.733813</td>\n",
       "      <td>-0.076635</td>\n",
       "      <td>0</td>\n",
       "      <td>0.455258</td>\n",
       "      <td>0</td>\n",
       "      <td>0</td>\n",
       "      <td>...</td>\n",
       "      <td>0</td>\n",
       "      <td>1</td>\n",
       "      <td>0</td>\n",
       "      <td>0</td>\n",
       "      <td>0</td>\n",
       "      <td>0</td>\n",
       "      <td>0</td>\n",
       "      <td>0</td>\n",
       "      <td>1</td>\n",
       "      <td>1</td>\n",
       "    </tr>\n",
       "    <tr>\n",
       "      <th>101342</th>\n",
       "      <td>-0.888484</td>\n",
       "      <td>-0.791589</td>\n",
       "      <td>0.455777</td>\n",
       "      <td>-0.377021</td>\n",
       "      <td>0.792969</td>\n",
       "      <td>0.160931</td>\n",
       "      <td>0</td>\n",
       "      <td>0.434726</td>\n",
       "      <td>0</td>\n",
       "      <td>0</td>\n",
       "      <td>...</td>\n",
       "      <td>0</td>\n",
       "      <td>1</td>\n",
       "      <td>0</td>\n",
       "      <td>0</td>\n",
       "      <td>0</td>\n",
       "      <td>0</td>\n",
       "      <td>0</td>\n",
       "      <td>0</td>\n",
       "      <td>1</td>\n",
       "      <td>1</td>\n",
       "    </tr>\n",
       "    <tr>\n",
       "      <th>101343</th>\n",
       "      <td>-0.621401</td>\n",
       "      <td>-0.580418</td>\n",
       "      <td>0.344272</td>\n",
       "      <td>-0.507146</td>\n",
       "      <td>0.742285</td>\n",
       "      <td>-0.188879</td>\n",
       "      <td>0</td>\n",
       "      <td>0.451231</td>\n",
       "      <td>0</td>\n",
       "      <td>0</td>\n",
       "      <td>...</td>\n",
       "      <td>0</td>\n",
       "      <td>1</td>\n",
       "      <td>0</td>\n",
       "      <td>0</td>\n",
       "      <td>0</td>\n",
       "      <td>0</td>\n",
       "      <td>0</td>\n",
       "      <td>0</td>\n",
       "      <td>1</td>\n",
       "      <td>1</td>\n",
       "    </tr>\n",
       "    <tr>\n",
       "      <th>101344</th>\n",
       "      <td>-0.798828</td>\n",
       "      <td>-0.649073</td>\n",
       "      <td>0.523650</td>\n",
       "      <td>-0.415826</td>\n",
       "      <td>0.759936</td>\n",
       "      <td>-0.015667</td>\n",
       "      <td>0</td>\n",
       "      <td>0.445865</td>\n",
       "      <td>0</td>\n",
       "      <td>0</td>\n",
       "      <td>...</td>\n",
       "      <td>0</td>\n",
       "      <td>1</td>\n",
       "      <td>0</td>\n",
       "      <td>0</td>\n",
       "      <td>0</td>\n",
       "      <td>0</td>\n",
       "      <td>0</td>\n",
       "      <td>0</td>\n",
       "      <td>1</td>\n",
       "      <td>1</td>\n",
       "    </tr>\n",
       "  </tbody>\n",
       "</table>\n",
       "<p>101345 rows × 30 columns</p>\n",
       "</div>"
      ],
      "text/plain": [
       "        person_age  person_income  person_emp_length  loan_amnt  \\\n",
       "0         1.569797      -1.081318           0.000000  -0.578305   \n",
       "1        -0.921741      -0.052550           0.520621  -0.937769   \n",
       "2         0.240977      -1.508084           0.587859  -0.578305   \n",
       "3         0.407079       0.435878           0.724529   0.500086   \n",
       "4        -0.921741       0.098465           0.293930  -0.578305   \n",
       "...            ...            ...                ...        ...   \n",
       "101340   -0.622574      -0.580418           0.346125  -0.506511   \n",
       "101341   -0.718924      -0.528345           0.563312  -0.386847   \n",
       "101342   -0.888484      -0.791589           0.455777  -0.377021   \n",
       "101343   -0.621401      -0.580418           0.344272  -0.507146   \n",
       "101344   -0.798828      -0.649073           0.523650  -0.415826   \n",
       "\n",
       "        loan_int_rate  loan_percent_income  cb_person_default_on_file  \\\n",
       "0            0.516442             0.117380                          0   \n",
       "1            0.619568            -0.973222                          0   \n",
       "2            0.340882             0.553620                          0   \n",
       "3            0.493327             0.117380                          0   \n",
       "4            0.167927            -0.646041                          0   \n",
       "...               ...                  ...                        ...   \n",
       "101340       0.742300            -0.188108                          0   \n",
       "101341       0.733813            -0.076635                          0   \n",
       "101342       0.792969             0.160931                          0   \n",
       "101343       0.742285            -0.188879                          0   \n",
       "101344       0.759936            -0.015667                          0   \n",
       "\n",
       "        cb_person_cred_hist_length  PERSON_HOME_OWNERSHIP_MORTGAGE  \\\n",
       "0                         0.411879                               0   \n",
       "1                         0.491800                               0   \n",
       "2                         0.377667                               0   \n",
       "3                         0.528549                               0   \n",
       "4                         0.503242                               0   \n",
       "...                            ...                             ...   \n",
       "101340                    0.451231                               0   \n",
       "101341                    0.455258                               0   \n",
       "101342                    0.434726                               0   \n",
       "101343                    0.451231                               0   \n",
       "101344                    0.445865                               0   \n",
       "\n",
       "        PERSON_HOME_OWNERSHIP_OTHER  ...  LOAN_GRADE_C  LOAN_GRADE_D  \\\n",
       "0                                 0  ...             0             0   \n",
       "1                                 0  ...             1             0   \n",
       "2                                 0  ...             0             0   \n",
       "3                                 0  ...             0             0   \n",
       "4                                 0  ...             0             0   \n",
       "...                             ...  ...           ...           ...   \n",
       "101340                            0  ...             0             1   \n",
       "101341                            0  ...             0             1   \n",
       "101342                            0  ...             0             1   \n",
       "101343                            0  ...             0             1   \n",
       "101344                            0  ...             0             1   \n",
       "\n",
       "        LOAN_GRADE_E  LOAN_GRADE_F  LOAN_GRADE_G  \\\n",
       "0                  0             0             0   \n",
       "1                  0             0             0   \n",
       "2                  0             0             0   \n",
       "3                  0             0             0   \n",
       "4                  0             0             0   \n",
       "...              ...           ...           ...   \n",
       "101340             0             0             0   \n",
       "101341             0             0             0   \n",
       "101342             0             0             0   \n",
       "101343             0             0             0   \n",
       "101344             0             0             0   \n",
       "\n",
       "        CB_PERSON_CRED_HIST_LENGTH_11_17  CB_PERSON_CRED_HIST_LENGTH_18_above  \\\n",
       "0                                      1                                    0   \n",
       "1                                      0                                    0   \n",
       "2                                      0                                    0   \n",
       "3                                      0                                    0   \n",
       "4                                      0                                    0   \n",
       "...                                  ...                                  ...   \n",
       "101340                                 0                                    0   \n",
       "101341                                 0                                    0   \n",
       "101342                                 0                                    0   \n",
       "101343                                 0                                    0   \n",
       "101344                                 0                                    0   \n",
       "\n",
       "        CB_PERSON_CRED_HIST_LENGTH_5_10  CB_PERSON_CRED_HIST_LENGTH_5_below  \\\n",
       "0                                     0                                   0   \n",
       "1                                     0                                   1   \n",
       "2                                     1                                   0   \n",
       "3                                     1                                   0   \n",
       "4                                     0                                   1   \n",
       "...                                 ...                                 ...   \n",
       "101340                                0                                   1   \n",
       "101341                                0                                   1   \n",
       "101342                                0                                   1   \n",
       "101343                                0                                   1   \n",
       "101344                                0                                   1   \n",
       "\n",
       "        loan_status  \n",
       "0                 0  \n",
       "1                 0  \n",
       "2                 0  \n",
       "3                 0  \n",
       "4                 0  \n",
       "...             ...  \n",
       "101340            1  \n",
       "101341            1  \n",
       "101342            1  \n",
       "101343            1  \n",
       "101344            1  \n",
       "\n",
       "[101345 rows x 30 columns]"
      ]
     },
     "execution_count": 2,
     "metadata": {},
     "output_type": "execute_result"
    }
   ],
   "source": [
    "##Import Training Dataset\n",
    "loans_train_df = pd.read_csv('./outputs/cleaned_loans_train.csv')\n",
    "loans_train_ada_df = pd.read_csv('./outputs/cleaned_loans_train.csv')\n",
    "loans_train_df"
   ]
  },
  {
   "cell_type": "markdown",
   "id": "d0a612e5-c971-4f63-9b5f-d83b7917c0e7",
   "metadata": {},
   "source": [
    "## Hyperparameter Tuning"
   ]
  },
  {
   "cell_type": "code",
   "execution_count": 3,
   "id": "2fb8e823-e7ef-4f41-9edd-e8a3c8039166",
   "metadata": {},
   "outputs": [
    {
     "data": {
      "text/html": [
       "<div>\n",
       "<style scoped>\n",
       "    .dataframe tbody tr th:only-of-type {\n",
       "        vertical-align: middle;\n",
       "    }\n",
       "\n",
       "    .dataframe tbody tr th {\n",
       "        vertical-align: top;\n",
       "    }\n",
       "\n",
       "    .dataframe thead th {\n",
       "        text-align: right;\n",
       "    }\n",
       "</style>\n",
       "<table border=\"1\" class=\"dataframe\">\n",
       "  <thead>\n",
       "    <tr style=\"text-align: right;\">\n",
       "      <th></th>\n",
       "      <th>C</th>\n",
       "      <th>tol</th>\n",
       "      <th>solver</th>\n",
       "      <th>oversampling_method</th>\n",
       "      <th>roc_auc</th>\n",
       "    </tr>\n",
       "  </thead>\n",
       "  <tbody>\n",
       "  </tbody>\n",
       "</table>\n",
       "</div>"
      ],
      "text/plain": [
       "Empty DataFrame\n",
       "Columns: [C, tol, solver, oversampling_method, roc_auc]\n",
       "Index: []"
      ]
     },
     "execution_count": 3,
     "metadata": {},
     "output_type": "execute_result"
    }
   ],
   "source": [
    "df_hyper_tuning = pd.DataFrame(columns=['C', 'tol', 'solver', 'oversampling_method', 'roc_auc'])\n",
    "df_hyper_tuning"
   ]
  },
  {
   "cell_type": "code",
   "execution_count": 4,
   "id": "23925d52-e297-48f0-82ca-2f510b643f2c",
   "metadata": {},
   "outputs": [
    {
     "name": "stdout",
     "output_type": "stream",
     "text": [
      "================\n",
      "Configuration:\n",
      "C: 0.05261690851080037\n",
      "Tolerance: 0.01808892127332343\n",
      "Solver: liblinear\n",
      "Oversampling Method: none\n",
      "----------------\n",
      "[LibLinear][LibLinear][LibLinear]Results: -0.8517721821083062\n",
      "================\n",
      "================\n",
      "Configuration:\n",
      "C: 2.3253644473076385\n",
      "Tolerance: 0.03771891687639013\n",
      "Solver: newton-cholesky\n",
      "Oversampling Method: none\n",
      "----------------\n",
      "Newton iter=1\n",
      "  Check Convergence\n",
      "    1. max |gradient| 0.02823299883852823 <= 0.03771891687639013\n",
      "    2. Newton decrement 0.17212055376338264 <= 0.03771891687639013\n",
      "Newton iter=2\n",
      "  Check Convergence\n",
      "    1. max |gradient| 0.005721643347873354 <= 0.03771891687639013\n",
      "    2. Newton decrement 0.022221427426982986 <= 0.03771891687639013\n",
      "  Solver did converge at loss = 0.4714054276266912.\n"
     ]
    },
    {
     "name": "stderr",
     "output_type": "stream",
     "text": [
      "[Parallel(n_jobs=1)]: Using backend SequentialBackend with 1 concurrent workers.\n",
      "[Parallel(n_jobs=1)]: Done   1 out of   1 | elapsed:    0.0s finished\n",
      "[Parallel(n_jobs=1)]: Using backend SequentialBackend with 1 concurrent workers.\n",
      "[Parallel(n_jobs=1)]: Done   1 out of   1 | elapsed:    0.0s finished\n",
      "[Parallel(n_jobs=1)]: Using backend SequentialBackend with 1 concurrent workers.\n"
     ]
    },
    {
     "name": "stdout",
     "output_type": "stream",
     "text": [
      "Newton iter=1\n",
      "  Check Convergence\n",
      "    1. max |gradient| 0.03418536018576064 <= 0.03771891687639013\n",
      "    2. Newton decrement 0.18122750345527053 <= 0.03771891687639013\n",
      "Newton iter=2\n",
      "  Check Convergence\n",
      "    1. max |gradient| 0.006586620054096472 <= 0.03771891687639013\n",
      "    2. Newton decrement 0.021802919059106203 <= 0.03771891687639013\n",
      "  Solver did converge at loss = 0.46249001019480207.\n",
      "Newton iter=1\n",
      "  Check Convergence\n",
      "    1. max |gradient| 0.03533150690032601 <= 0.03771891687639013\n",
      "    2. Newton decrement 0.18279491000504014 <= 0.03771891687639013\n",
      "Newton iter=2\n",
      "  Check Convergence\n",
      "    1. max |gradient| 0.007022385483725216 <= 0.03771891687639013\n",
      "    2. Newton decrement 0.02292414215895556 <= 0.03771891687639013\n",
      "  Solver did converge at loss = 0.4587942624882814.\n",
      "Results: -0.8581764147482079\n",
      "================\n",
      "================\n",
      "Configuration:\n",
      "C: 1.5610712685782913\n",
      "Tolerance: 0.047682466872358505\n",
      "Solver: liblinear\n",
      "Oversampling Method: ada\n",
      "----------------\n",
      "[LibLinear]"
     ]
    },
    {
     "name": "stderr",
     "output_type": "stream",
     "text": [
      "[Parallel(n_jobs=1)]: Done   1 out of   1 | elapsed:    0.0s finished\n"
     ]
    },
    {
     "name": "stdout",
     "output_type": "stream",
     "text": [
      "[LibLinear][LibLinear]Results: -0.8561058744661288\n",
      "================\n",
      "================\n",
      "Configuration:\n",
      "C: 0.8806534083061494\n",
      "Tolerance: 0.03406793715820683\n",
      "Solver: saga\n",
      "Oversampling Method: ada\n",
      "----------------\n"
     ]
    },
    {
     "name": "stderr",
     "output_type": "stream",
     "text": [
      "[Parallel(n_jobs=1)]: Using backend SequentialBackend with 1 concurrent workers.\n"
     ]
    },
    {
     "name": "stdout",
     "output_type": "stream",
     "text": [
      "convergence after 8 epochs took 1 seconds\n"
     ]
    },
    {
     "name": "stderr",
     "output_type": "stream",
     "text": [
      "[Parallel(n_jobs=1)]: Done   1 out of   1 | elapsed:    0.2s finished\n",
      "[Parallel(n_jobs=1)]: Using backend SequentialBackend with 1 concurrent workers.\n"
     ]
    },
    {
     "name": "stdout",
     "output_type": "stream",
     "text": [
      "convergence after 7 epochs took 0 seconds\n"
     ]
    },
    {
     "name": "stderr",
     "output_type": "stream",
     "text": [
      "[Parallel(n_jobs=1)]: Done   1 out of   1 | elapsed:    0.1s finished\n",
      "[Parallel(n_jobs=1)]: Using backend SequentialBackend with 1 concurrent workers.\n"
     ]
    },
    {
     "name": "stdout",
     "output_type": "stream",
     "text": [
      "convergence after 8 epochs took 0 seconds\n",
      "Results: -0.8580687792300657\n",
      "================\n",
      "================\n",
      "Configuration:\n",
      "C: 2.9144998363556662\n",
      "Tolerance: 0.011518040247493398\n",
      "Solver: liblinear\n",
      "Oversampling Method: none\n",
      "----------------\n",
      "[LibLinear]"
     ]
    },
    {
     "name": "stderr",
     "output_type": "stream",
     "text": [
      "[Parallel(n_jobs=1)]: Done   1 out of   1 | elapsed:    0.1s finished\n"
     ]
    },
    {
     "name": "stdout",
     "output_type": "stream",
     "text": [
      "[LibLinear][LibLinear]Results: -0.8596357945656105\n",
      "================\n",
      "================\n",
      "Configuration:\n",
      "C: 1.1071494825212458\n",
      "Tolerance: 0.03321012980164414\n",
      "Solver: newton-cg\n",
      "Oversampling Method: ada\n",
      "----------------\n"
     ]
    },
    {
     "name": "stderr",
     "output_type": "stream",
     "text": [
      "[Parallel(n_jobs=1)]: Using backend SequentialBackend with 1 concurrent workers.\n",
      "[Parallel(n_jobs=1)]: Done   1 out of   1 | elapsed:    0.0s finished\n",
      "[Parallel(n_jobs=1)]: Using backend SequentialBackend with 1 concurrent workers.\n",
      "[Parallel(n_jobs=1)]: Done   1 out of   1 | elapsed:    0.0s finished\n",
      "[Parallel(n_jobs=1)]: Using backend SequentialBackend with 1 concurrent workers.\n",
      "[Parallel(n_jobs=1)]: Done   1 out of   1 | elapsed:    0.0s finished\n"
     ]
    },
    {
     "name": "stdout",
     "output_type": "stream",
     "text": [
      "Results: -0.8118697957517931\n",
      "================\n",
      "================\n",
      "Configuration:\n",
      "C: 1.994880502819961\n",
      "Tolerance: 0.06653930966825718\n",
      "Solver: saga\n",
      "Oversampling Method: ada\n",
      "----------------\n"
     ]
    },
    {
     "name": "stderr",
     "output_type": "stream",
     "text": [
      "[Parallel(n_jobs=1)]: Using backend SequentialBackend with 1 concurrent workers.\n"
     ]
    },
    {
     "name": "stdout",
     "output_type": "stream",
     "text": [
      "convergence after 5 epochs took 0 seconds\n"
     ]
    },
    {
     "name": "stderr",
     "output_type": "stream",
     "text": [
      "[Parallel(n_jobs=1)]: Done   1 out of   1 | elapsed:    0.3s finished\n",
      "[Parallel(n_jobs=1)]: Using backend SequentialBackend with 1 concurrent workers.\n"
     ]
    },
    {
     "name": "stdout",
     "output_type": "stream",
     "text": [
      "convergence after 4 epochs took 1 seconds\n"
     ]
    },
    {
     "name": "stderr",
     "output_type": "stream",
     "text": [
      "[Parallel(n_jobs=1)]: Done   1 out of   1 | elapsed:    0.3s finished\n",
      "[Parallel(n_jobs=1)]: Using backend SequentialBackend with 1 concurrent workers.\n"
     ]
    },
    {
     "name": "stdout",
     "output_type": "stream",
     "text": [
      "convergence after 4 epochs took 0 seconds\n",
      "Results: -0.8572034619333566\n",
      "================\n",
      "================\n",
      "Configuration:\n",
      "C: 2.72552810157646\n",
      "Tolerance: 0.08689799293552665\n",
      "Solver: saga\n",
      "Oversampling Method: ada\n",
      "----------------\n",
      "convergence after 4 epochs took 0 seconds\n"
     ]
    },
    {
     "name": "stderr",
     "output_type": "stream",
     "text": [
      "[Parallel(n_jobs=1)]: Done   1 out of   1 | elapsed:    0.1s finished\n",
      "[Parallel(n_jobs=1)]: Using backend SequentialBackend with 1 concurrent workers.\n",
      "[Parallel(n_jobs=1)]: Done   1 out of   1 | elapsed:    0.0s finished\n",
      "[Parallel(n_jobs=1)]: Using backend SequentialBackend with 1 concurrent workers.\n"
     ]
    },
    {
     "name": "stdout",
     "output_type": "stream",
     "text": [
      "convergence after 3 epochs took 0 seconds\n",
      "convergence after 3 epochs took 0 seconds\n",
      "Results: -0.8563914832765759\n",
      "================\n",
      "================\n",
      "Configuration:\n",
      "C: 2.1229128017163097\n",
      "Tolerance: 0.07186119243914141\n",
      "Solver: sag\n",
      "Oversampling Method: ada\n",
      "----------------\n"
     ]
    },
    {
     "name": "stderr",
     "output_type": "stream",
     "text": [
      "[Parallel(n_jobs=1)]: Done   1 out of   1 | elapsed:    0.0s finished\n",
      "[Parallel(n_jobs=1)]: Using backend SequentialBackend with 1 concurrent workers.\n",
      "[Parallel(n_jobs=1)]: Done   1 out of   1 | elapsed:    0.0s finished\n",
      "[Parallel(n_jobs=1)]: Using backend SequentialBackend with 1 concurrent workers.\n"
     ]
    },
    {
     "name": "stdout",
     "output_type": "stream",
     "text": [
      "convergence after 6 epochs took 0 seconds\n",
      "convergence after 6 epochs took 0 seconds\n"
     ]
    },
    {
     "name": "stderr",
     "output_type": "stream",
     "text": [
      "[Parallel(n_jobs=1)]: Done   1 out of   1 | elapsed:    0.1s finished\n",
      "[Parallel(n_jobs=1)]: Using backend SequentialBackend with 1 concurrent workers.\n",
      "[Parallel(n_jobs=1)]: Done   1 out of   1 | elapsed:    0.1s finished\n",
      "[Parallel(n_jobs=1)]: Using backend SequentialBackend with 1 concurrent workers.\n",
      "[Parallel(n_jobs=1)]: Done   1 out of   1 | elapsed:    0.0s finished\n"
     ]
    },
    {
     "name": "stdout",
     "output_type": "stream",
     "text": [
      "convergence after 5 epochs took 0 seconds\n",
      "Results: -0.8588618065259729\n",
      "================\n",
      "================\n",
      "Configuration:\n",
      "C: 1.9076423329941985\n",
      "Tolerance: 0.03600973370672789\n",
      "Solver: sag\n",
      "Oversampling Method: ada\n",
      "----------------\n"
     ]
    },
    {
     "name": "stderr",
     "output_type": "stream",
     "text": [
      "[Parallel(n_jobs=1)]: Using backend SequentialBackend with 1 concurrent workers.\n",
      "[Parallel(n_jobs=1)]: Done   1 out of   1 | elapsed:    0.1s finished\n"
     ]
    },
    {
     "name": "stdout",
     "output_type": "stream",
     "text": [
      "convergence after 7 epochs took 0 seconds\n"
     ]
    },
    {
     "name": "stderr",
     "output_type": "stream",
     "text": [
      "[Parallel(n_jobs=1)]: Using backend SequentialBackend with 1 concurrent workers.\n"
     ]
    },
    {
     "name": "stdout",
     "output_type": "stream",
     "text": [
      "convergence after 9 epochs took 0 seconds\n",
      "convergence after 7 epochs took 1 seconds\n"
     ]
    },
    {
     "name": "stderr",
     "output_type": "stream",
     "text": [
      "[Parallel(n_jobs=1)]: Done   1 out of   1 | elapsed:    0.1s finished\n",
      "[Parallel(n_jobs=1)]: Using backend SequentialBackend with 1 concurrent workers.\n",
      "[Parallel(n_jobs=1)]: Done   1 out of   1 | elapsed:    0.1s finished\n"
     ]
    },
    {
     "name": "stdout",
     "output_type": "stream",
     "text": [
      "Results: -0.8590990249453938\n",
      "================\n",
      "================\n",
      "Configuration:\n",
      "C: 3.0\n",
      "Tolerance: 0.03937018738288264\n",
      "Solver: sag\n",
      "Oversampling Method: ada\n",
      "----------------\n"
     ]
    },
    {
     "name": "stderr",
     "output_type": "stream",
     "text": [
      "[Parallel(n_jobs=1)]: Using backend SequentialBackend with 1 concurrent workers.\n"
     ]
    },
    {
     "name": "stdout",
     "output_type": "stream",
     "text": [
      "convergence after 7 epochs took 0 seconds\n"
     ]
    },
    {
     "name": "stderr",
     "output_type": "stream",
     "text": [
      "[Parallel(n_jobs=1)]: Done   1 out of   1 | elapsed:    0.1s finished\n",
      "[Parallel(n_jobs=1)]: Using backend SequentialBackend with 1 concurrent workers.\n"
     ]
    },
    {
     "name": "stdout",
     "output_type": "stream",
     "text": [
      "convergence after 8 epochs took 0 seconds\n"
     ]
    },
    {
     "name": "stderr",
     "output_type": "stream",
     "text": [
      "[Parallel(n_jobs=1)]: Done   1 out of   1 | elapsed:    0.1s finished\n",
      "[Parallel(n_jobs=1)]: Using backend SequentialBackend with 1 concurrent workers.\n"
     ]
    },
    {
     "name": "stdout",
     "output_type": "stream",
     "text": [
      "convergence after 8 epochs took 1 seconds\n",
      "Results: -0.8595121376235572\n",
      "================\n"
     ]
    },
    {
     "name": "stderr",
     "output_type": "stream",
     "text": [
      "[Parallel(n_jobs=1)]: Done   1 out of   1 | elapsed:    0.1s finished\n"
     ]
    },
    {
     "name": "stdout",
     "output_type": "stream",
     "text": [
      "================\n",
      "Configuration:\n",
      "C: 3.0\n",
      "Tolerance: 0.0001\n",
      "Solver: lbfgs\n",
      "Oversampling Method: ada\n",
      "----------------\n"
     ]
    },
    {
     "name": "stderr",
     "output_type": "stream",
     "text": [
      "[Parallel(n_jobs=1)]: Using backend SequentialBackend with 1 concurrent workers.\n",
      "[Parallel(n_jobs=1)]: Done   1 out of   1 | elapsed:    0.2s finished\n",
      "[Parallel(n_jobs=1)]: Using backend SequentialBackend with 1 concurrent workers.\n",
      "[Parallel(n_jobs=1)]: Done   1 out of   1 | elapsed:    0.5s finished\n",
      "[Parallel(n_jobs=1)]: Using backend SequentialBackend with 1 concurrent workers.\n",
      "[Parallel(n_jobs=1)]: Done   1 out of   1 | elapsed:    0.3s finished\n"
     ]
    },
    {
     "name": "stdout",
     "output_type": "stream",
     "text": [
      "Results: -0.8597643553790458\n",
      "================\n",
      "================\n",
      "Configuration:\n",
      "C: 0.004712678794980791\n",
      "Tolerance: 0.08182090883573338\n",
      "Solver: newton-cholesky\n",
      "Oversampling Method: ada\n",
      "----------------\n",
      "Newton iter=1\n",
      "  Check Convergence\n",
      "    1. max |gradient| 0.021045703627347652 <= 0.08182090883573338\n",
      "    2. Newton decrement 0.1415808284343619 <= 0.08182090883573338\n",
      "Newton iter=2\n",
      "  Check Convergence\n",
      "    1. max |gradient| 0.0019310710705979187 <= 0.08182090883573338\n",
      "    2. Newton decrement 0.005526037306948891 <= 0.08182090883573338\n",
      "  Solver did converge at loss = 0.5338518325790951.\n",
      "Newton iter=1\n",
      "  Check Convergence\n",
      "    1. max |gradient| 0.02853892365689504 <= 0.08182090883573338\n",
      "    2. Newton decrement 0.15640000933494627 <= 0.08182090883573338\n",
      "Newton iter=2\n"
     ]
    },
    {
     "name": "stderr",
     "output_type": "stream",
     "text": [
      "[Parallel(n_jobs=1)]: Using backend SequentialBackend with 1 concurrent workers.\n",
      "[Parallel(n_jobs=1)]: Done   1 out of   1 | elapsed:    0.0s finished\n",
      "[Parallel(n_jobs=1)]: Using backend SequentialBackend with 1 concurrent workers.\n",
      "[Parallel(n_jobs=1)]: Done   1 out of   1 | elapsed:    0.0s finished\n",
      "[Parallel(n_jobs=1)]: Using backend SequentialBackend with 1 concurrent workers.\n"
     ]
    },
    {
     "name": "stdout",
     "output_type": "stream",
     "text": [
      "  Check Convergence\n",
      "    1. max |gradient| 0.003213024448920303 <= 0.08182090883573338\n",
      "    2. Newton decrement 0.007808648901909395 <= 0.08182090883573338\n",
      "  Solver did converge at loss = 0.5137622332609723.\n",
      "Newton iter=1\n",
      "  Check Convergence\n",
      "    1. max |gradient| 0.029291843605324892 <= 0.08182090883573338\n",
      "    2. Newton decrement 0.15685699665197927 <= 0.08182090883573338\n",
      "Newton iter=2\n",
      "  Check Convergence\n",
      "    1. max |gradient| 0.003390863524343761 <= 0.08182090883573338\n",
      "    2. Newton decrement 0.008069181606087881 <= 0.08182090883573338\n",
      "  Solver did converge at loss = 0.5127777088812339.\n",
      "Results: -0.8339277156067709\n",
      "================\n"
     ]
    },
    {
     "name": "stderr",
     "output_type": "stream",
     "text": [
      "[Parallel(n_jobs=1)]: Done   1 out of   1 | elapsed:    0.0s finished\n"
     ]
    },
    {
     "name": "stdout",
     "output_type": "stream",
     "text": [
      "================\n",
      "Configuration:\n",
      "C: 2.995952889078834\n",
      "Tolerance: 0.011107425920161357\n",
      "Solver: newton-cg\n",
      "Oversampling Method: none\n",
      "----------------\n"
     ]
    },
    {
     "name": "stderr",
     "output_type": "stream",
     "text": [
      "[Parallel(n_jobs=1)]: Using backend SequentialBackend with 1 concurrent workers.\n",
      "[Parallel(n_jobs=1)]: Done   1 out of   1 | elapsed:    0.0s finished\n",
      "[Parallel(n_jobs=1)]: Using backend SequentialBackend with 1 concurrent workers.\n",
      "[Parallel(n_jobs=1)]: Done   1 out of   1 | elapsed:    0.0s finished\n",
      "[Parallel(n_jobs=1)]: Using backend SequentialBackend with 1 concurrent workers.\n",
      "[Parallel(n_jobs=1)]: Done   1 out of   1 | elapsed:    0.0s finished\n"
     ]
    },
    {
     "name": "stdout",
     "output_type": "stream",
     "text": [
      "Results: -0.8267608818266062\n",
      "================\n",
      "================\n",
      "Configuration:\n",
      "C: 3.0\n",
      "Tolerance: 0.0001\n",
      "Solver: sag\n",
      "Oversampling Method: none\n",
      "----------------\n"
     ]
    },
    {
     "name": "stderr",
     "output_type": "stream",
     "text": [
      "[Parallel(n_jobs=1)]: Using backend SequentialBackend with 1 concurrent workers.\n"
     ]
    },
    {
     "name": "stdout",
     "output_type": "stream",
     "text": [
      "convergence after 160 epochs took 5 seconds\n"
     ]
    },
    {
     "name": "stderr",
     "output_type": "stream",
     "text": [
      "[Parallel(n_jobs=1)]: Done   1 out of   1 | elapsed:    4.5s finished\n",
      "[Parallel(n_jobs=1)]: Using backend SequentialBackend with 1 concurrent workers.\n"
     ]
    },
    {
     "name": "stdout",
     "output_type": "stream",
     "text": [
      "max_iter reached after 5 seconds\n"
     ]
    },
    {
     "name": "stderr",
     "output_type": "stream",
     "text": [
      "C:\\Users\\Aaron\\AppData\\Roaming\\Python\\Python311\\site-packages\\sklearn\\linear_model\\_sag.py:350: ConvergenceWarning: The max_iter was reached which means the coef_ did not converge\n",
      "  warnings.warn(\n",
      "[Parallel(n_jobs=1)]: Done   1 out of   1 | elapsed:    5.5s finished\n",
      "[Parallel(n_jobs=1)]: Using backend SequentialBackend with 1 concurrent workers.\n"
     ]
    },
    {
     "name": "stdout",
     "output_type": "stream",
     "text": [
      "max_iter reached after 6 seconds\n",
      "Results: -0.8597474367551753\n",
      "================\n"
     ]
    },
    {
     "name": "stderr",
     "output_type": "stream",
     "text": [
      "C:\\Users\\Aaron\\AppData\\Roaming\\Python\\Python311\\site-packages\\sklearn\\linear_model\\_sag.py:350: ConvergenceWarning: The max_iter was reached which means the coef_ did not converge\n",
      "  warnings.warn(\n",
      "[Parallel(n_jobs=1)]: Done   1 out of   1 | elapsed:    5.6s finished\n"
     ]
    },
    {
     "name": "stdout",
     "output_type": "stream",
     "text": [
      "================\n",
      "Configuration:\n",
      "C: 3.0\n",
      "Tolerance: 0.0001\n",
      "Solver: lbfgs\n",
      "Oversampling Method: none\n",
      "----------------\n"
     ]
    },
    {
     "name": "stderr",
     "output_type": "stream",
     "text": [
      "[Parallel(n_jobs=1)]: Using backend SequentialBackend with 1 concurrent workers.\n",
      "[Parallel(n_jobs=1)]: Done   1 out of   1 | elapsed:    0.2s finished\n",
      "[Parallel(n_jobs=1)]: Using backend SequentialBackend with 1 concurrent workers.\n",
      "[Parallel(n_jobs=1)]: Done   1 out of   1 | elapsed:    0.3s finished\n",
      "[Parallel(n_jobs=1)]: Using backend SequentialBackend with 1 concurrent workers.\n",
      "[Parallel(n_jobs=1)]: Done   1 out of   1 | elapsed:    0.3s finished\n"
     ]
    },
    {
     "name": "stdout",
     "output_type": "stream",
     "text": [
      "Results: -0.8597643553790458\n",
      "================\n",
      "================\n",
      "Configuration:\n",
      "C: 3.0\n",
      "Tolerance: 0.01649906964655585\n",
      "Solver: newton-cholesky\n",
      "Oversampling Method: ada\n",
      "----------------\n",
      "Newton iter=1\n",
      "  Check Convergence\n",
      "    1. max |gradient| 0.0282594792077637 <= 0.01649906964655585\n",
      "Newton iter=2\n",
      "  Check Convergence\n",
      "    1. max |gradient| 0.005745313002866469 <= 0.01649906964655585\n",
      "    2. Newton decrement 0.02233225734237848 <= 0.01649906964655585\n",
      "Newton iter=3\n",
      "  Check Convergence\n",
      "    1. max |gradient| 0.0016016404701709504 <= 0.01649906964655585\n",
      "    2. Newton decrement 0.004659964171633358 <= 0.01649906964655585\n",
      "  Solver did converge at loss = 0.46553836644145813.\n",
      "Newton iter=1\n",
      "  Check Convergence\n",
      "    1. max |gradient| 0.034200556483618964 <= 0.01649906964655585\n",
      "Newton iter=2\n",
      "  Check Convergence\n",
      "    1. max |gradient| 0.006606273317286807 <= 0.01649906964655585\n",
      "    2. Newton decrement 0.021899980002729642 <= 0.01649906964655585\n",
      "Newton iter=3\n",
      "  Check Convergence\n",
      "    1. max |gradient| 0.001103813589810637 <= 0.01649906964655585\n",
      "    2. Newton decrement 0.003831503356130119 <= 0.01649906964655585\n",
      "  Solver did converge at loss = 0.45775973938751296.\n"
     ]
    },
    {
     "name": "stderr",
     "output_type": "stream",
     "text": [
      "[Parallel(n_jobs=1)]: Using backend SequentialBackend with 1 concurrent workers.\n",
      "[Parallel(n_jobs=1)]: Done   1 out of   1 | elapsed:    0.0s finished\n",
      "[Parallel(n_jobs=1)]: Using backend SequentialBackend with 1 concurrent workers.\n",
      "[Parallel(n_jobs=1)]: Done   1 out of   1 | elapsed:    0.0s finished\n",
      "[Parallel(n_jobs=1)]: Using backend SequentialBackend with 1 concurrent workers.\n"
     ]
    },
    {
     "name": "stdout",
     "output_type": "stream",
     "text": [
      "Newton iter=1\n",
      "  Check Convergence\n",
      "    1. max |gradient| 0.0353459483597149 <= 0.01649906964655585\n",
      "Newton iter=2\n",
      "  Check Convergence\n",
      "    1. max |gradient| 0.0070394199718326915 <= 0.01649906964655585\n",
      "    2. Newton decrement 0.023014054678116222 <= 0.01649906964655585\n",
      "Newton iter=3\n",
      "  Check Convergence\n",
      "    1. max |gradient| 0.0012231279101518264 <= 0.01649906964655585\n",
      "    2. Newton decrement 0.0042252369963563415 <= 0.01649906964655585\n",
      "  Solver did converge at loss = 0.4536057944134089.\n",
      "Results: -0.8594052156542156\n",
      "================\n"
     ]
    },
    {
     "name": "stderr",
     "output_type": "stream",
     "text": [
      "[Parallel(n_jobs=1)]: Done   1 out of   1 | elapsed:    0.0s finished\n"
     ]
    },
    {
     "name": "stdout",
     "output_type": "stream",
     "text": [
      "================\n",
      "Configuration:\n",
      "C: 3.0\n",
      "Tolerance: 0.0001\n",
      "Solver: newton-cholesky\n",
      "Oversampling Method: none\n",
      "----------------\n",
      "Newton iter=1\n",
      "  Check Convergence\n",
      "    1. max |gradient| 0.0282594792077637 <= 0.0001\n",
      "Newton iter=2\n",
      "  Check Convergence\n",
      "    1. max |gradient| 0.005745313002866469 <= 0.0001\n",
      "Newton iter=3\n",
      "  Check Convergence\n",
      "    1. max |gradient| 0.0016016404701709504 <= 0.0001\n",
      "Newton iter=4\n",
      "  Check Convergence\n",
      "    1. max |gradient| 0.00048151268281769813 <= 0.0001\n",
      "Newton iter=5\n",
      "  Check Convergence\n",
      "    1. max |gradient| 8.901886000339462e-05 <= 0.0001\n",
      "    2. Newton decrement 0.0001451161623954125 <= 0.0001\n",
      "Newton iter=6\n",
      "  Check Convergence\n",
      "    1. max |gradient| 5.909924906059849e-06 <= 0.0001\n",
      "    2. Newton decrement 7.78447229709502e-06 <= 0.0001\n",
      "  Solver did converge at loss = 0.4642420875110339.\n"
     ]
    },
    {
     "name": "stderr",
     "output_type": "stream",
     "text": [
      "[Parallel(n_jobs=1)]: Using backend SequentialBackend with 1 concurrent workers.\n",
      "[Parallel(n_jobs=1)]: Done   1 out of   1 | elapsed:    0.0s finished\n",
      "[Parallel(n_jobs=1)]: Using backend SequentialBackend with 1 concurrent workers.\n"
     ]
    },
    {
     "name": "stdout",
     "output_type": "stream",
     "text": [
      "Newton iter=1\n",
      "  Check Convergence\n",
      "    1. max |gradient| 0.034200556483618964 <= 0.0001\n",
      "Newton iter=2\n",
      "  Check Convergence\n",
      "    1. max |gradient| 0.006606273317286807 <= 0.0001\n",
      "Newton iter=3\n",
      "  Check Convergence\n",
      "    1. max |gradient| 0.001103813589810637 <= 0.0001\n",
      "Newton iter=4\n",
      "  Check Convergence\n",
      "    1. max |gradient| 0.0002866566637864387 <= 0.0001\n",
      "Newton iter=5\n",
      "  Check Convergence\n",
      "    1. max |gradient| 4.969113974516784e-05 <= 0.0001\n",
      "    2. Newton decrement 7.077852808155335e-05 <= 0.0001\n",
      "  Solver did converge at loss = 0.4569843548828615.\n",
      "Newton iter=1\n"
     ]
    },
    {
     "name": "stderr",
     "output_type": "stream",
     "text": [
      "[Parallel(n_jobs=1)]: Done   1 out of   1 | elapsed:    0.0s finished\n",
      "[Parallel(n_jobs=1)]: Using backend SequentialBackend with 1 concurrent workers.\n"
     ]
    },
    {
     "name": "stdout",
     "output_type": "stream",
     "text": [
      "  Check Convergence\n",
      "    1. max |gradient| 0.0353459483597149 <= 0.0001\n",
      "Newton iter=2\n",
      "  Check Convergence\n",
      "    1. max |gradient| 0.0070394199718326915 <= 0.0001\n",
      "Newton iter=3\n",
      "  Check Convergence\n",
      "    1. max |gradient| 0.0012231279101518264 <= 0.0001\n",
      "Newton iter=4\n",
      "  Check Convergence\n",
      "    1. max |gradient| 0.0003353105923634917 <= 0.0001\n",
      "Newton iter=5\n",
      "  Check Convergence\n",
      "    1. max |gradient| 6.275305151449626e-05 <= 0.0001\n",
      "    2. Newton decrement 9.030531807232e-05 <= 0.0001\n",
      "  Solver did converge at loss = 0.4526917311807594.\n",
      "Results: -0.8597383544359202\n",
      "================\n"
     ]
    },
    {
     "name": "stderr",
     "output_type": "stream",
     "text": [
      "[Parallel(n_jobs=1)]: Done   1 out of   1 | elapsed:    0.2s finished\n"
     ]
    },
    {
     "name": "stdout",
     "output_type": "stream",
     "text": [
      "================\n",
      "Configuration:\n",
      "C: 0.0015363762474159492\n",
      "Tolerance: 0.09550992708430919\n",
      "Solver: lbfgs\n",
      "Oversampling Method: none\n",
      "----------------\n"
     ]
    },
    {
     "name": "stderr",
     "output_type": "stream",
     "text": [
      "[Parallel(n_jobs=1)]: Using backend SequentialBackend with 1 concurrent workers.\n",
      "[Parallel(n_jobs=1)]: Done   1 out of   1 | elapsed:    0.0s finished\n",
      "[Parallel(n_jobs=1)]: Using backend SequentialBackend with 1 concurrent workers.\n",
      "[Parallel(n_jobs=1)]: Done   1 out of   1 | elapsed:    0.0s finished\n",
      "[Parallel(n_jobs=1)]: Using backend SequentialBackend with 1 concurrent workers.\n",
      "[Parallel(n_jobs=1)]: Done   1 out of   1 | elapsed:    0.0s finished\n"
     ]
    },
    {
     "name": "stdout",
     "output_type": "stream",
     "text": [
      "Results: -0.7431510282937754\n",
      "================\n",
      "================\n",
      "Configuration:\n",
      "C: 3.0\n",
      "Tolerance: 0.1\n",
      "Solver: lbfgs\n",
      "Oversampling Method: ada\n",
      "----------------\n"
     ]
    },
    {
     "name": "stderr",
     "output_type": "stream",
     "text": [
      "[Parallel(n_jobs=1)]: Using backend SequentialBackend with 1 concurrent workers.\n",
      "[Parallel(n_jobs=1)]: Done   1 out of   1 | elapsed:    0.0s finished\n",
      "[Parallel(n_jobs=1)]: Using backend SequentialBackend with 1 concurrent workers.\n",
      "[Parallel(n_jobs=1)]: Done   1 out of   1 | elapsed:    0.0s finished\n",
      "[Parallel(n_jobs=1)]: Using backend SequentialBackend with 1 concurrent workers.\n",
      "[Parallel(n_jobs=1)]: Done   1 out of   1 | elapsed:    0.0s finished\n"
     ]
    },
    {
     "name": "stdout",
     "output_type": "stream",
     "text": [
      "Results: -0.7431510282937754\n",
      "================\n",
      "================\n",
      "Configuration:\n",
      "C: 0.001\n",
      "Tolerance: 0.0001\n",
      "Solver: lbfgs\n",
      "Oversampling Method: ada\n",
      "----------------\n"
     ]
    },
    {
     "name": "stderr",
     "output_type": "stream",
     "text": [
      "[Parallel(n_jobs=1)]: Using backend SequentialBackend with 1 concurrent workers.\n",
      "[Parallel(n_jobs=1)]: Done   1 out of   1 | elapsed:    0.0s finished\n",
      "[Parallel(n_jobs=1)]: Using backend SequentialBackend with 1 concurrent workers.\n",
      "[Parallel(n_jobs=1)]: Done   1 out of   1 | elapsed:    0.0s finished\n",
      "[Parallel(n_jobs=1)]: Using backend SequentialBackend with 1 concurrent workers.\n",
      "[Parallel(n_jobs=1)]: Done   1 out of   1 | elapsed:    0.0s finished\n"
     ]
    },
    {
     "name": "stdout",
     "output_type": "stream",
     "text": [
      "Results: -0.8172288232335791\n",
      "================\n",
      "================\n",
      "Configuration:\n",
      "C: 3.0\n",
      "Tolerance: 0.1\n",
      "Solver: newton-cg\n",
      "Oversampling Method: none\n",
      "----------------\n"
     ]
    },
    {
     "name": "stderr",
     "output_type": "stream",
     "text": [
      "[Parallel(n_jobs=1)]: Using backend SequentialBackend with 1 concurrent workers.\n",
      "[Parallel(n_jobs=1)]: Done   1 out of   1 | elapsed:    0.0s finished\n",
      "[Parallel(n_jobs=1)]: Using backend SequentialBackend with 1 concurrent workers.\n",
      "[Parallel(n_jobs=1)]: Done   1 out of   1 | elapsed:    0.0s finished\n",
      "[Parallel(n_jobs=1)]: Using backend SequentialBackend with 1 concurrent workers.\n",
      "[Parallel(n_jobs=1)]: Done   1 out of   1 | elapsed:    0.0s finished\n"
     ]
    },
    {
     "name": "stdout",
     "output_type": "stream",
     "text": [
      "Results: -0.7742783592318155\n",
      "================\n",
      "================\n",
      "Configuration:\n",
      "C: 3.0\n",
      "Tolerance: 0.06875771936670141\n",
      "Solver: sag\n",
      "Oversampling Method: ada\n",
      "----------------\n",
      "convergence after 5 epochs took 0 seconds\n"
     ]
    },
    {
     "name": "stderr",
     "output_type": "stream",
     "text": [
      "[Parallel(n_jobs=1)]: Using backend SequentialBackend with 1 concurrent workers.\n",
      "[Parallel(n_jobs=1)]: Done   1 out of   1 | elapsed:    0.0s finished\n",
      "[Parallel(n_jobs=1)]: Using backend SequentialBackend with 1 concurrent workers.\n"
     ]
    },
    {
     "name": "stdout",
     "output_type": "stream",
     "text": [
      "convergence after 6 epochs took 0 seconds\n",
      "convergence after 6 epochs took 0 seconds\n",
      "Results: -0.8585945580909464\n",
      "================\n"
     ]
    },
    {
     "name": "stderr",
     "output_type": "stream",
     "text": [
      "[Parallel(n_jobs=1)]: Done   1 out of   1 | elapsed:    0.1s finished\n",
      "[Parallel(n_jobs=1)]: Using backend SequentialBackend with 1 concurrent workers.\n",
      "[Parallel(n_jobs=1)]: Done   1 out of   1 | elapsed:    0.1s finished\n"
     ]
    },
    {
     "name": "stdout",
     "output_type": "stream",
     "text": [
      "================\n",
      "Configuration:\n",
      "C: 1.3493443518399697\n",
      "Tolerance: 0.0001\n",
      "Solver: saga\n",
      "Oversampling Method: ada\n",
      "----------------\n"
     ]
    },
    {
     "name": "stderr",
     "output_type": "stream",
     "text": [
      "[Parallel(n_jobs=1)]: Using backend SequentialBackend with 1 concurrent workers.\n"
     ]
    },
    {
     "name": "stdout",
     "output_type": "stream",
     "text": [
      "max_iter reached after 6 seconds\n"
     ]
    },
    {
     "name": "stderr",
     "output_type": "stream",
     "text": [
      "C:\\Users\\Aaron\\AppData\\Roaming\\Python\\Python311\\site-packages\\sklearn\\linear_model\\_sag.py:350: ConvergenceWarning: The max_iter was reached which means the coef_ did not converge\n",
      "  warnings.warn(\n",
      "[Parallel(n_jobs=1)]: Done   1 out of   1 | elapsed:    6.0s finished\n",
      "[Parallel(n_jobs=1)]: Using backend SequentialBackend with 1 concurrent workers.\n"
     ]
    },
    {
     "name": "stdout",
     "output_type": "stream",
     "text": [
      "max_iter reached after 6 seconds\n"
     ]
    },
    {
     "name": "stderr",
     "output_type": "stream",
     "text": [
      "C:\\Users\\Aaron\\AppData\\Roaming\\Python\\Python311\\site-packages\\sklearn\\linear_model\\_sag.py:350: ConvergenceWarning: The max_iter was reached which means the coef_ did not converge\n",
      "  warnings.warn(\n",
      "[Parallel(n_jobs=1)]: Done   1 out of   1 | elapsed:    6.0s finished\n",
      "[Parallel(n_jobs=1)]: Using backend SequentialBackend with 1 concurrent workers.\n"
     ]
    },
    {
     "name": "stdout",
     "output_type": "stream",
     "text": [
      "max_iter reached after 6 seconds\n",
      "Results: -0.8596079864492534\n",
      "================\n"
     ]
    },
    {
     "name": "stderr",
     "output_type": "stream",
     "text": [
      "C:\\Users\\Aaron\\AppData\\Roaming\\Python\\Python311\\site-packages\\sklearn\\linear_model\\_sag.py:350: ConvergenceWarning: The max_iter was reached which means the coef_ did not converge\n",
      "  warnings.warn(\n",
      "[Parallel(n_jobs=1)]: Done   1 out of   1 | elapsed:    6.2s finished\n"
     ]
    },
    {
     "name": "stdout",
     "output_type": "stream",
     "text": [
      "================\n",
      "Configuration:\n",
      "C: 1.5489701913647267\n",
      "Tolerance: 0.014659558957841731\n",
      "Solver: newton-cholesky\n",
      "Oversampling Method: none\n",
      "----------------\n",
      "Newton iter=1\n",
      "  Check Convergence\n",
      "    1. max |gradient| 0.028185228447013683 <= 0.014659558957841731\n",
      "Newton iter=2\n",
      "  Check Convergence\n",
      "    1. max |gradient| 0.005674704177388202 <= 0.014659558957841731\n",
      "    2. Newton decrement 0.021996387354396962 <= 0.014659558957841731\n",
      "Newton iter=3\n",
      "  Check Convergence\n",
      "    1. max |gradient| 0.0014720397903040063 <= 0.014659558957841731\n",
      "    2. Newton decrement 0.004347850656106861 <= 0.014659558957841731\n",
      "  Solver did converge at loss = 0.46679081945689366.\n",
      "Newton iter=1\n",
      "  Check Convergence\n",
      "    1. max |gradient| 0.03415397749036799 <= 0.014659558957841731\n",
      "Newton iter=2\n"
     ]
    },
    {
     "name": "stderr",
     "output_type": "stream",
     "text": [
      "[Parallel(n_jobs=1)]: Using backend SequentialBackend with 1 concurrent workers.\n",
      "[Parallel(n_jobs=1)]: Done   1 out of   1 | elapsed:    0.0s finished\n",
      "[Parallel(n_jobs=1)]: Using backend SequentialBackend with 1 concurrent workers.\n",
      "[Parallel(n_jobs=1)]: Done   1 out of   1 | elapsed:    0.0s finished\n",
      "[Parallel(n_jobs=1)]: Using backend SequentialBackend with 1 concurrent workers.\n"
     ]
    },
    {
     "name": "stdout",
     "output_type": "stream",
     "text": [
      "  Check Convergence\n",
      "    1. max |gradient| 0.00654517361588105 <= 0.014659558957841731\n",
      "    2. Newton decrement 0.021600805125040045 <= 0.014659558957841731\n",
      "Newton iter=3\n",
      "  Check Convergence\n",
      "    1. max |gradient| 0.0009946066141017565 <= 0.014659558957841731\n",
      "    2. Newton decrement 0.003555691239149576 <= 0.014659558957841731\n",
      "  Solver did converge at loss = 0.4588296771727366.\n",
      "Newton iter=1\n",
      "  Check Convergence\n",
      "    1. max |gradient| 0.03530152515907126 <= 0.014659558957841731\n",
      "Newton iter=2\n",
      "  Check Convergence\n",
      "    1. max |gradient| 0.006986767198149603 <= 0.014659558957841731\n",
      "    2. Newton decrement 0.022734507217198455 <= 0.014659558957841731\n",
      "Newton iter=3\n",
      "  Check Convergence\n",
      "    1. max |gradient| 0.0011069854610178031 <= 0.014659558957841731\n",
      "    2. Newton decrement 0.003945714967441638 <= 0.014659558957841731\n",
      "  Solver did converge at loss = 0.4546296309224792.\n",
      "Results: -0.8593176480941601\n",
      "================\n"
     ]
    },
    {
     "name": "stderr",
     "output_type": "stream",
     "text": [
      "[Parallel(n_jobs=1)]: Done   1 out of   1 | elapsed:    0.0s finished\n"
     ]
    },
    {
     "name": "stdout",
     "output_type": "stream",
     "text": [
      "================\n",
      "Configuration:\n",
      "C: 2.3352527450997416\n",
      "Tolerance: 0.0001\n",
      "Solver: saga\n",
      "Oversampling Method: ada\n",
      "----------------\n"
     ]
    },
    {
     "name": "stderr",
     "output_type": "stream",
     "text": [
      "[Parallel(n_jobs=1)]: Using backend SequentialBackend with 1 concurrent workers.\n"
     ]
    },
    {
     "name": "stdout",
     "output_type": "stream",
     "text": [
      "max_iter reached after 6 seconds\n"
     ]
    },
    {
     "name": "stderr",
     "output_type": "stream",
     "text": [
      "C:\\Users\\Aaron\\AppData\\Roaming\\Python\\Python311\\site-packages\\sklearn\\linear_model\\_sag.py:350: ConvergenceWarning: The max_iter was reached which means the coef_ did not converge\n",
      "  warnings.warn(\n",
      "[Parallel(n_jobs=1)]: Done   1 out of   1 | elapsed:    5.8s finished\n",
      "[Parallel(n_jobs=1)]: Using backend SequentialBackend with 1 concurrent workers.\n"
     ]
    },
    {
     "name": "stdout",
     "output_type": "stream",
     "text": [
      "max_iter reached after 6 seconds\n"
     ]
    },
    {
     "name": "stderr",
     "output_type": "stream",
     "text": [
      "C:\\Users\\Aaron\\AppData\\Roaming\\Python\\Python311\\site-packages\\sklearn\\linear_model\\_sag.py:350: ConvergenceWarning: The max_iter was reached which means the coef_ did not converge\n",
      "  warnings.warn(\n",
      "[Parallel(n_jobs=1)]: Done   1 out of   1 | elapsed:    5.8s finished\n",
      "[Parallel(n_jobs=1)]: Using backend SequentialBackend with 1 concurrent workers.\n"
     ]
    },
    {
     "name": "stdout",
     "output_type": "stream",
     "text": [
      "max_iter reached after 6 seconds\n",
      "Results: -0.8597226882779209\n",
      "================\n"
     ]
    },
    {
     "name": "stderr",
     "output_type": "stream",
     "text": [
      "C:\\Users\\Aaron\\AppData\\Roaming\\Python\\Python311\\site-packages\\sklearn\\linear_model\\_sag.py:350: ConvergenceWarning: The max_iter was reached which means the coef_ did not converge\n",
      "  warnings.warn(\n",
      "[Parallel(n_jobs=1)]: Done   1 out of   1 | elapsed:    5.7s finished\n"
     ]
    },
    {
     "name": "stdout",
     "output_type": "stream",
     "text": [
      "================\n",
      "Configuration:\n",
      "C: 0.001\n",
      "Tolerance: 0.0001\n",
      "Solver: newton-cg\n",
      "Oversampling Method: none\n",
      "----------------\n"
     ]
    },
    {
     "name": "stderr",
     "output_type": "stream",
     "text": [
      "[Parallel(n_jobs=1)]: Using backend SequentialBackend with 1 concurrent workers.\n",
      "[Parallel(n_jobs=1)]: Done   1 out of   1 | elapsed:    0.0s finished\n",
      "[Parallel(n_jobs=1)]: Using backend SequentialBackend with 1 concurrent workers.\n",
      "[Parallel(n_jobs=1)]: Done   1 out of   1 | elapsed:    0.0s finished\n",
      "[Parallel(n_jobs=1)]: Using backend SequentialBackend with 1 concurrent workers.\n",
      "[Parallel(n_jobs=1)]: Done   1 out of   1 | elapsed:    0.0s finished\n"
     ]
    },
    {
     "name": "stdout",
     "output_type": "stream",
     "text": [
      "Results: -0.8172728135400417\n",
      "================\n",
      "================\n",
      "Configuration:\n",
      "C: 1.1623389333738077\n",
      "Tolerance: 0.01690498110531635\n",
      "Solver: sag\n",
      "Oversampling Method: none\n",
      "----------------\n"
     ]
    },
    {
     "name": "stderr",
     "output_type": "stream",
     "text": [
      "[Parallel(n_jobs=1)]: Using backend SequentialBackend with 1 concurrent workers.\n"
     ]
    },
    {
     "name": "stdout",
     "output_type": "stream",
     "text": [
      "convergence after 9 epochs took 0 seconds\n"
     ]
    },
    {
     "name": "stderr",
     "output_type": "stream",
     "text": [
      "[Parallel(n_jobs=1)]: Done   1 out of   1 | elapsed:    0.4s finished\n",
      "[Parallel(n_jobs=1)]: Using backend SequentialBackend with 1 concurrent workers.\n"
     ]
    },
    {
     "name": "stdout",
     "output_type": "stream",
     "text": [
      "convergence after 12 epochs took 1 seconds\n"
     ]
    },
    {
     "name": "stderr",
     "output_type": "stream",
     "text": [
      "[Parallel(n_jobs=1)]: Done   1 out of   1 | elapsed:    0.3s finished\n",
      "[Parallel(n_jobs=1)]: Using backend SequentialBackend with 1 concurrent workers.\n"
     ]
    },
    {
     "name": "stdout",
     "output_type": "stream",
     "text": [
      "convergence after 11 epochs took 1 seconds\n",
      "Results: -0.8593980939575179\n",
      "================\n"
     ]
    },
    {
     "name": "stderr",
     "output_type": "stream",
     "text": [
      "[Parallel(n_jobs=1)]: Done   1 out of   1 | elapsed:    0.6s finished\n"
     ]
    },
    {
     "name": "stdout",
     "output_type": "stream",
     "text": [
      "================\n",
      "Configuration:\n",
      "C: 3.0\n",
      "Tolerance: 0.019799773001297667\n",
      "Solver: newton-cholesky\n",
      "Oversampling Method: none\n",
      "----------------\n",
      "Newton iter=1\n",
      "  Check Convergence\n",
      "    1. max |gradient| 0.0282594792077637 <= 0.019799773001297667\n",
      "Newton iter=2\n",
      "  Check Convergence\n",
      "    1. max |gradient| 0.005745313002866469 <= 0.019799773001297667\n",
      "    2. Newton decrement 0.02233225734237848 <= 0.019799773001297667\n",
      "Newton iter=3\n",
      "  Check Convergence\n",
      "    1. max |gradient| 0.0016016404701709504 <= 0.019799773001297667\n",
      "    2. Newton decrement 0.004659964171633358 <= 0.019799773001297667\n",
      "  Solver did converge at loss = 0.46553836644145813.\n",
      "Newton iter=1\n",
      "  Check Convergence\n",
      "    1. max |gradient| 0.034200556483618964 <= 0.019799773001297667\n",
      "Newton iter=2\n",
      "  Check Convergence\n",
      "    1. max |gradient| 0.006606273317286807 <= 0.019799773001297667\n",
      "    2. Newton decrement 0.021899980002729642 <= 0.019799773001297667\n",
      "Newton iter=3\n",
      "  Check Convergence\n",
      "    1. max |gradient| 0.001103813589810637 <= 0.019799773001297667\n",
      "    2. Newton decrement 0.003831503356130119 <= 0.019799773001297667\n",
      "  Solver did converge at loss = 0.45775973938751296.\n"
     ]
    },
    {
     "name": "stderr",
     "output_type": "stream",
     "text": [
      "[Parallel(n_jobs=1)]: Using backend SequentialBackend with 1 concurrent workers.\n",
      "[Parallel(n_jobs=1)]: Done   1 out of   1 | elapsed:    0.0s finished\n",
      "[Parallel(n_jobs=1)]: Using backend SequentialBackend with 1 concurrent workers.\n",
      "[Parallel(n_jobs=1)]: Done   1 out of   1 | elapsed:    0.0s finished\n",
      "[Parallel(n_jobs=1)]: Using backend SequentialBackend with 1 concurrent workers.\n"
     ]
    },
    {
     "name": "stdout",
     "output_type": "stream",
     "text": [
      "Newton iter=1\n",
      "  Check Convergence\n",
      "    1. max |gradient| 0.0353459483597149 <= 0.019799773001297667\n",
      "Newton iter=2\n",
      "  Check Convergence\n",
      "    1. max |gradient| 0.0070394199718326915 <= 0.019799773001297667\n",
      "    2. Newton decrement 0.023014054678116222 <= 0.019799773001297667\n",
      "Newton iter=3\n",
      "  Check Convergence\n",
      "    1. max |gradient| 0.0012231279101518264 <= 0.019799773001297667\n",
      "    2. Newton decrement 0.0042252369963563415 <= 0.019799773001297667\n",
      "  Solver did converge at loss = 0.4536057944134089.\n",
      "Results: -0.8594052156542156\n",
      "================\n"
     ]
    },
    {
     "name": "stderr",
     "output_type": "stream",
     "text": [
      "[Parallel(n_jobs=1)]: Done   1 out of   1 | elapsed:    0.0s finished\n"
     ]
    },
    {
     "name": "stdout",
     "output_type": "stream",
     "text": [
      "================\n",
      "Configuration:\n",
      "C: 2.108835338988014\n",
      "Tolerance: 0.0001568524829826907\n",
      "Solver: lbfgs\n",
      "Oversampling Method: ada\n",
      "----------------\n"
     ]
    },
    {
     "name": "stderr",
     "output_type": "stream",
     "text": [
      "[Parallel(n_jobs=1)]: Using backend SequentialBackend with 1 concurrent workers.\n",
      "[Parallel(n_jobs=1)]: Done   1 out of   1 | elapsed:    0.1s finished\n",
      "[Parallel(n_jobs=1)]: Using backend SequentialBackend with 1 concurrent workers.\n",
      "[Parallel(n_jobs=1)]: Done   1 out of   1 | elapsed:    0.3s finished\n",
      "[Parallel(n_jobs=1)]: Using backend SequentialBackend with 1 concurrent workers.\n",
      "[Parallel(n_jobs=1)]: Done   1 out of   1 | elapsed:    0.2s finished\n"
     ]
    },
    {
     "name": "stdout",
     "output_type": "stream",
     "text": [
      "Results: -0.8597072736436924\n",
      "================\n",
      "================\n",
      "Configuration:\n",
      "C: 0.014889665136356502\n",
      "Tolerance: 0.09882758846856252\n",
      "Solver: newton-cg\n",
      "Oversampling Method: ada\n",
      "----------------\n"
     ]
    },
    {
     "name": "stderr",
     "output_type": "stream",
     "text": [
      "[Parallel(n_jobs=1)]: Using backend SequentialBackend with 1 concurrent workers.\n",
      "[Parallel(n_jobs=1)]: Done   1 out of   1 | elapsed:    0.0s finished\n",
      "[Parallel(n_jobs=1)]: Using backend SequentialBackend with 1 concurrent workers.\n",
      "[Parallel(n_jobs=1)]: Done   1 out of   1 | elapsed:    0.0s finished\n",
      "[Parallel(n_jobs=1)]: Using backend SequentialBackend with 1 concurrent workers.\n",
      "[Parallel(n_jobs=1)]: Done   1 out of   1 | elapsed:    0.0s finished\n"
     ]
    },
    {
     "name": "stdout",
     "output_type": "stream",
     "text": [
      "Results: -0.7743001619471782\n",
      "================\n",
      "================\n",
      "Configuration:\n",
      "C: 0.001\n",
      "Tolerance: 0.1\n",
      "Solver: sag\n",
      "Oversampling Method: none\n",
      "----------------\n",
      "rescaling...\n",
      "rescaling...\n",
      "rescaling...\n",
      "rescaling...\n",
      "convergence after 2 epochs took 0 seconds\n",
      "rescaling...\n"
     ]
    },
    {
     "name": "stderr",
     "output_type": "stream",
     "text": [
      "[Parallel(n_jobs=1)]: Using backend SequentialBackend with 1 concurrent workers.\n",
      "[Parallel(n_jobs=1)]: Done   1 out of   1 | elapsed:    0.0s finished\n",
      "[Parallel(n_jobs=1)]: Using backend SequentialBackend with 1 concurrent workers.\n",
      "[Parallel(n_jobs=1)]: Done   1 out of   1 | elapsed:    0.0s finished\n"
     ]
    },
    {
     "name": "stdout",
     "output_type": "stream",
     "text": [
      "rescaling...\n",
      "convergence after 2 epochs took 0 seconds\n",
      "rescaling...\n",
      "rescaling...\n",
      "convergence after 2 epochs took 0 seconds\n",
      "Results: -0.8168982322667616\n",
      "================\n"
     ]
    },
    {
     "name": "stderr",
     "output_type": "stream",
     "text": [
      "[Parallel(n_jobs=1)]: Using backend SequentialBackend with 1 concurrent workers.\n",
      "[Parallel(n_jobs=1)]: Done   1 out of   1 | elapsed:    0.0s finished\n"
     ]
    },
    {
     "name": "stdout",
     "output_type": "stream",
     "text": [
      "================\n",
      "Configuration:\n",
      "C: 0.001\n",
      "Tolerance: 0.1\n",
      "Solver: saga\n",
      "Oversampling Method: none\n",
      "----------------\n",
      "convergence after 3 epochs took 0 seconds\n"
     ]
    },
    {
     "name": "stderr",
     "output_type": "stream",
     "text": [
      "[Parallel(n_jobs=1)]: Using backend SequentialBackend with 1 concurrent workers.\n",
      "[Parallel(n_jobs=1)]: Done   1 out of   1 | elapsed:    0.0s finished\n",
      "[Parallel(n_jobs=1)]: Using backend SequentialBackend with 1 concurrent workers.\n"
     ]
    },
    {
     "name": "stdout",
     "output_type": "stream",
     "text": [
      "convergence after 3 epochs took 0 seconds\n",
      "convergence after 3 epochs took 0 seconds\n",
      "Results: -0.8176182652065286\n",
      "================\n"
     ]
    },
    {
     "name": "stderr",
     "output_type": "stream",
     "text": [
      "[Parallel(n_jobs=1)]: Done   1 out of   1 | elapsed:    0.0s finished\n",
      "[Parallel(n_jobs=1)]: Using backend SequentialBackend with 1 concurrent workers.\n",
      "[Parallel(n_jobs=1)]: Done   1 out of   1 | elapsed:    0.0s finished\n"
     ]
    },
    {
     "name": "stdout",
     "output_type": "stream",
     "text": [
      "================\n",
      "Configuration:\n",
      "C: 2.773098404861416\n",
      "Tolerance: 0.0001\n",
      "Solver: sag\n",
      "Oversampling Method: none\n",
      "----------------\n"
     ]
    },
    {
     "name": "stderr",
     "output_type": "stream",
     "text": [
      "[Parallel(n_jobs=1)]: Using backend SequentialBackend with 1 concurrent workers.\n"
     ]
    },
    {
     "name": "stdout",
     "output_type": "stream",
     "text": [
      "convergence after 128 epochs took 3 seconds\n"
     ]
    },
    {
     "name": "stderr",
     "output_type": "stream",
     "text": [
      "[Parallel(n_jobs=1)]: Done   1 out of   1 | elapsed:    3.7s finished\n",
      "[Parallel(n_jobs=1)]: Using backend SequentialBackend with 1 concurrent workers.\n"
     ]
    },
    {
     "name": "stdout",
     "output_type": "stream",
     "text": [
      "max_iter reached after 5 seconds\n"
     ]
    },
    {
     "name": "stderr",
     "output_type": "stream",
     "text": [
      "C:\\Users\\Aaron\\AppData\\Roaming\\Python\\Python311\\site-packages\\sklearn\\linear_model\\_sag.py:350: ConvergenceWarning: The max_iter was reached which means the coef_ did not converge\n",
      "  warnings.warn(\n",
      "[Parallel(n_jobs=1)]: Done   1 out of   1 | elapsed:    5.4s finished\n",
      "[Parallel(n_jobs=1)]: Using backend SequentialBackend with 1 concurrent workers.\n"
     ]
    },
    {
     "name": "stdout",
     "output_type": "stream",
     "text": [
      "max_iter reached after 6 seconds\n",
      "Results: -0.8597377851263959\n",
      "================\n"
     ]
    },
    {
     "name": "stderr",
     "output_type": "stream",
     "text": [
      "C:\\Users\\Aaron\\AppData\\Roaming\\Python\\Python311\\site-packages\\sklearn\\linear_model\\_sag.py:350: ConvergenceWarning: The max_iter was reached which means the coef_ did not converge\n",
      "  warnings.warn(\n",
      "[Parallel(n_jobs=1)]: Done   1 out of   1 | elapsed:    6.1s finished\n"
     ]
    },
    {
     "name": "stdout",
     "output_type": "stream",
     "text": [
      "================\n",
      "Configuration:\n",
      "C: 2.740191384031893\n",
      "Tolerance: 0.0001\n",
      "Solver: sag\n",
      "Oversampling Method: none\n",
      "----------------\n"
     ]
    },
    {
     "name": "stderr",
     "output_type": "stream",
     "text": [
      "[Parallel(n_jobs=1)]: Using backend SequentialBackend with 1 concurrent workers.\n"
     ]
    },
    {
     "name": "stdout",
     "output_type": "stream",
     "text": [
      "convergence after 128 epochs took 5 seconds\n"
     ]
    },
    {
     "name": "stderr",
     "output_type": "stream",
     "text": [
      "[Parallel(n_jobs=1)]: Done   1 out of   1 | elapsed:    4.8s finished\n",
      "[Parallel(n_jobs=1)]: Using backend SequentialBackend with 1 concurrent workers.\n"
     ]
    },
    {
     "name": "stdout",
     "output_type": "stream",
     "text": [
      "max_iter reached after 8 seconds\n"
     ]
    },
    {
     "name": "stderr",
     "output_type": "stream",
     "text": [
      "C:\\Users\\Aaron\\AppData\\Roaming\\Python\\Python311\\site-packages\\sklearn\\linear_model\\_sag.py:350: ConvergenceWarning: The max_iter was reached which means the coef_ did not converge\n",
      "  warnings.warn(\n",
      "[Parallel(n_jobs=1)]: Done   1 out of   1 | elapsed:    7.6s finished\n",
      "[Parallel(n_jobs=1)]: Using backend SequentialBackend with 1 concurrent workers.\n"
     ]
    },
    {
     "name": "stdout",
     "output_type": "stream",
     "text": [
      "max_iter reached after 6 seconds\n",
      "Results: -0.8597365184940373\n",
      "================\n"
     ]
    },
    {
     "name": "stderr",
     "output_type": "stream",
     "text": [
      "C:\\Users\\Aaron\\AppData\\Roaming\\Python\\Python311\\site-packages\\sklearn\\linear_model\\_sag.py:350: ConvergenceWarning: The max_iter was reached which means the coef_ did not converge\n",
      "  warnings.warn(\n",
      "[Parallel(n_jobs=1)]: Done   1 out of   1 | elapsed:    6.4s finished\n"
     ]
    },
    {
     "name": "stdout",
     "output_type": "stream",
     "text": [
      "================\n",
      "Configuration:\n",
      "C: 2.5718188829244992\n",
      "Tolerance: 0.022306581441058036\n",
      "Solver: lbfgs\n",
      "Oversampling Method: ada\n",
      "----------------\n",
      "Results: -0.8162380782311273\n",
      "================\n"
     ]
    },
    {
     "name": "stderr",
     "output_type": "stream",
     "text": [
      "[Parallel(n_jobs=1)]: Using backend SequentialBackend with 1 concurrent workers.\n",
      "[Parallel(n_jobs=1)]: Done   1 out of   1 | elapsed:    0.0s finished\n",
      "[Parallel(n_jobs=1)]: Using backend SequentialBackend with 1 concurrent workers.\n",
      "[Parallel(n_jobs=1)]: Done   1 out of   1 | elapsed:    0.0s finished\n",
      "[Parallel(n_jobs=1)]: Using backend SequentialBackend with 1 concurrent workers.\n",
      "[Parallel(n_jobs=1)]: Done   1 out of   1 | elapsed:    0.0s finished\n"
     ]
    },
    {
     "name": "stdout",
     "output_type": "stream",
     "text": [
      "================\n",
      "Configuration:\n",
      "C: 2.542509658396611\n",
      "Tolerance: 0.0001\n",
      "Solver: lbfgs\n",
      "Oversampling Method: none\n",
      "----------------\n"
     ]
    },
    {
     "name": "stderr",
     "output_type": "stream",
     "text": [
      "[Parallel(n_jobs=1)]: Using backend SequentialBackend with 1 concurrent workers.\n",
      "[Parallel(n_jobs=1)]: Done   1 out of   1 | elapsed:    0.2s finished\n",
      "[Parallel(n_jobs=1)]: Using backend SequentialBackend with 1 concurrent workers.\n",
      "[Parallel(n_jobs=1)]: Done   1 out of   1 | elapsed:    0.3s finished\n",
      "[Parallel(n_jobs=1)]: Using backend SequentialBackend with 1 concurrent workers.\n",
      "[Parallel(n_jobs=1)]: Done   1 out of   1 | elapsed:    0.2s finished\n"
     ]
    },
    {
     "name": "stdout",
     "output_type": "stream",
     "text": [
      "Results: -0.8597689706550629\n",
      "================\n",
      "================\n",
      "Configuration:\n",
      "C: 2.2939815697018098\n",
      "Tolerance: 0.023160804818398398\n",
      "Solver: liblinear\n",
      "Oversampling Method: ada\n",
      "----------------\n",
      "[LibLinear][LibLinear][LibLinear]Results: -0.8586628754403027\n",
      "================\n",
      "================\n",
      "Configuration:\n",
      "C: 1.7987389617246718\n",
      "Tolerance: 0.0001\n",
      "Solver: liblinear\n",
      "Oversampling Method: none\n",
      "----------------\n",
      "[LibLinear][LibLinear][LibLinear]Results: -0.8596619594760474\n",
      "================\n",
      "================\n",
      "Configuration:\n",
      "C: 1.7414437430508947\n",
      "Tolerance: 0.0001\n",
      "Solver: newton-cholesky\n",
      "Oversampling Method: none\n",
      "----------------\n",
      "Newton iter=1\n",
      "  Check Convergence\n",
      "    1. max |gradient| 0.02819993506612807 <= 0.0001\n",
      "Newton iter=2\n",
      "  Check Convergence\n",
      "    1. max |gradient| 0.0056896752359583335 <= 0.0001\n",
      "Newton iter=3\n",
      "  Check Convergence\n",
      "    1. max |gradient| 0.0014996735341360184 <= 0.0001\n",
      "Newton iter=4\n",
      "  Check Convergence\n",
      "    1. max |gradient| 0.00039021251442012 <= 0.0001\n",
      "Newton iter=5\n",
      "  Check Convergence\n",
      "    1. max |gradient| 4.76289482880838e-05 <= 0.0001\n",
      "    2. Newton decrement 8.066213779806496e-05 <= 0.0001\n",
      "  Solver did converge at loss = 0.4655304174664401.\n",
      "Newton iter=1\n"
     ]
    },
    {
     "name": "stderr",
     "output_type": "stream",
     "text": [
      "[Parallel(n_jobs=1)]: Using backend SequentialBackend with 1 concurrent workers.\n",
      "[Parallel(n_jobs=1)]: Done   1 out of   1 | elapsed:    0.0s finished\n",
      "[Parallel(n_jobs=1)]: Using backend SequentialBackend with 1 concurrent workers.\n"
     ]
    },
    {
     "name": "stdout",
     "output_type": "stream",
     "text": [
      "  Check Convergence\n",
      "    1. max |gradient| 0.03416410989630613 <= 0.0001\n",
      "Newton iter=2\n",
      "  Check Convergence\n",
      "    1. max |gradient| 0.006558619115461773 <= 0.0001\n",
      "Newton iter=3\n",
      "  Check Convergence\n",
      "    1. max |gradient| 0.0010177309840727106 <= 0.0001\n",
      "Newton iter=4\n",
      "  Check Convergence\n",
      "    1. max |gradient| 0.0002073988946116323 <= 0.0001\n",
      "Newton iter=5\n",
      "  Check Convergence\n",
      "    1. max |gradient| 2.1770534507687192e-05 <= 0.0001\n",
      "    2. Newton decrement 3.223433013738207e-05 <= 0.0001\n",
      "  Solver did converge at loss = 0.45803561441750573.\n",
      "Newton iter=1\n",
      "  Check Convergence\n",
      "    1. max |gradient| 0.035311220717239696 <= 0.0001\n",
      "Newton iter=2\n",
      "  Check Convergence\n",
      "    1. max |gradient| 0.0069983069231900185 <= 0.0001\n",
      "Newton iter=3\n",
      "  Check Convergence\n",
      "    1. max |gradient| 0.0011316669553849295 <= 0.0001\n",
      "Newton iter=4\n",
      "  Check Convergence\n",
      "    1. max |gradient| 0.0002594961549530949 <= 0.0001\n",
      "Newton iter=5\n",
      "  Check Convergence\n",
      "    1. max |gradient| 2.9727439871726075e-05 <= 0.0001\n",
      "    2. Newton decrement 4.408412321686719e-05 <= 0.0001\n",
      "  Solver did converge at loss = 0.4537281365610184.\n",
      "Results: -0.8596580537812551\n",
      "================\n"
     ]
    },
    {
     "name": "stderr",
     "output_type": "stream",
     "text": [
      "[Parallel(n_jobs=1)]: Done   1 out of   1 | elapsed:    0.0s finished\n",
      "[Parallel(n_jobs=1)]: Using backend SequentialBackend with 1 concurrent workers.\n",
      "[Parallel(n_jobs=1)]: Done   1 out of   1 | elapsed:    0.0s finished\n"
     ]
    },
    {
     "name": "stdout",
     "output_type": "stream",
     "text": [
      "================\n",
      "Configuration:\n",
      "C: 0.015556654236612684\n",
      "Tolerance: 0.0009512603773334194\n",
      "Solver: sag\n",
      "Oversampling Method: none\n",
      "----------------\n"
     ]
    },
    {
     "name": "stderr",
     "output_type": "stream",
     "text": [
      "[Parallel(n_jobs=1)]: Using backend SequentialBackend with 1 concurrent workers.\n"
     ]
    },
    {
     "name": "stdout",
     "output_type": "stream",
     "text": [
      "convergence after 10 epochs took 0 seconds\n"
     ]
    },
    {
     "name": "stderr",
     "output_type": "stream",
     "text": [
      "[Parallel(n_jobs=1)]: Done   1 out of   1 | elapsed:    0.2s finished\n",
      "[Parallel(n_jobs=1)]: Using backend SequentialBackend with 1 concurrent workers.\n"
     ]
    },
    {
     "name": "stdout",
     "output_type": "stream",
     "text": [
      "convergence after 11 epochs took 1 seconds\n"
     ]
    },
    {
     "name": "stderr",
     "output_type": "stream",
     "text": [
      "[Parallel(n_jobs=1)]: Done   1 out of   1 | elapsed:    0.3s finished\n",
      "[Parallel(n_jobs=1)]: Using backend SequentialBackend with 1 concurrent workers.\n"
     ]
    },
    {
     "name": "stdout",
     "output_type": "stream",
     "text": [
      "convergence after 11 epochs took 0 seconds\n",
      "Results: -0.845069610682057\n",
      "================\n"
     ]
    },
    {
     "name": "stderr",
     "output_type": "stream",
     "text": [
      "[Parallel(n_jobs=1)]: Done   1 out of   1 | elapsed:    0.2s finished\n"
     ]
    },
    {
     "name": "stdout",
     "output_type": "stream",
     "text": [
      "================\n",
      "Configuration:\n",
      "C: 2.9726661039107425\n",
      "Tolerance: 0.09914038883366685\n",
      "Solver: sag\n",
      "Oversampling Method: ada\n",
      "----------------\n",
      "convergence after 5 epochs took 1 seconds\n"
     ]
    },
    {
     "name": "stderr",
     "output_type": "stream",
     "text": [
      "[Parallel(n_jobs=1)]: Using backend SequentialBackend with 1 concurrent workers.\n",
      "[Parallel(n_jobs=1)]: Done   1 out of   1 | elapsed:    0.0s finished\n",
      "[Parallel(n_jobs=1)]: Using backend SequentialBackend with 1 concurrent workers.\n"
     ]
    },
    {
     "name": "stdout",
     "output_type": "stream",
     "text": [
      "convergence after 5 epochs took 0 seconds\n"
     ]
    },
    {
     "name": "stderr",
     "output_type": "stream",
     "text": [
      "[Parallel(n_jobs=1)]: Done   1 out of   1 | elapsed:    0.3s finished\n",
      "[Parallel(n_jobs=1)]: Using backend SequentialBackend with 1 concurrent workers.\n"
     ]
    },
    {
     "name": "stdout",
     "output_type": "stream",
     "text": [
      "convergence after 5 epochs took 0 seconds\n",
      "Results: -0.8588079122947164\n",
      "================\n"
     ]
    },
    {
     "name": "stderr",
     "output_type": "stream",
     "text": [
      "[Parallel(n_jobs=1)]: Done   1 out of   1 | elapsed:    0.1s finished\n"
     ]
    },
    {
     "name": "stdout",
     "output_type": "stream",
     "text": [
      "================\n",
      "Configuration:\n",
      "C: 1.8758951254517158\n",
      "Tolerance: 0.00021217910408365692\n",
      "Solver: newton-cg\n",
      "Oversampling Method: ada\n",
      "----------------\n"
     ]
    },
    {
     "name": "stderr",
     "output_type": "stream",
     "text": [
      "[Parallel(n_jobs=1)]: Using backend SequentialBackend with 1 concurrent workers.\n",
      "[Parallel(n_jobs=1)]: Done   1 out of   1 | elapsed:    0.1s finished\n",
      "[Parallel(n_jobs=1)]: Using backend SequentialBackend with 1 concurrent workers.\n",
      "[Parallel(n_jobs=1)]: Done   1 out of   1 | elapsed:    0.3s finished\n",
      "[Parallel(n_jobs=1)]: Using backend SequentialBackend with 1 concurrent workers.\n",
      "[Parallel(n_jobs=1)]: Done   1 out of   1 | elapsed:    0.1s finished\n"
     ]
    },
    {
     "name": "stdout",
     "output_type": "stream",
     "text": [
      "Results: -0.859644802494462\n",
      "================\n",
      "================\n",
      "Configuration:\n",
      "C: 3.0\n",
      "Tolerance: 0.06227851255435199\n",
      "Solver: liblinear\n",
      "Oversampling Method: ada\n",
      "----------------\n",
      "[LibLinear][LibLinear][LibLinear]Results: -0.8548318756027266\n",
      "================\n",
      "================\n",
      "Configuration:\n",
      "C: 1.4476137502629818\n",
      "Tolerance: 0.0001\n",
      "Solver: sag\n",
      "Oversampling Method: ada\n",
      "----------------\n"
     ]
    },
    {
     "name": "stderr",
     "output_type": "stream",
     "text": [
      "[Parallel(n_jobs=1)]: Using backend SequentialBackend with 1 concurrent workers.\n"
     ]
    },
    {
     "name": "stdout",
     "output_type": "stream",
     "text": [
      "convergence after 161 epochs took 6 seconds\n"
     ]
    },
    {
     "name": "stderr",
     "output_type": "stream",
     "text": [
      "[Parallel(n_jobs=1)]: Done   1 out of   1 | elapsed:    5.3s finished\n",
      "[Parallel(n_jobs=1)]: Using backend SequentialBackend with 1 concurrent workers.\n"
     ]
    },
    {
     "name": "stdout",
     "output_type": "stream",
     "text": [
      "max_iter reached after 7 seconds\n"
     ]
    },
    {
     "name": "stderr",
     "output_type": "stream",
     "text": [
      "C:\\Users\\Aaron\\AppData\\Roaming\\Python\\Python311\\site-packages\\sklearn\\linear_model\\_sag.py:350: ConvergenceWarning: The max_iter was reached which means the coef_ did not converge\n",
      "  warnings.warn(\n",
      "[Parallel(n_jobs=1)]: Done   1 out of   1 | elapsed:    7.0s finished\n",
      "[Parallel(n_jobs=1)]: Using backend SequentialBackend with 1 concurrent workers.\n"
     ]
    },
    {
     "name": "stdout",
     "output_type": "stream",
     "text": [
      "max_iter reached after 7 seconds\n",
      "Results: -0.8596212835240961\n",
      "================\n"
     ]
    },
    {
     "name": "stderr",
     "output_type": "stream",
     "text": [
      "C:\\Users\\Aaron\\AppData\\Roaming\\Python\\Python311\\site-packages\\sklearn\\linear_model\\_sag.py:350: ConvergenceWarning: The max_iter was reached which means the coef_ did not converge\n",
      "  warnings.warn(\n",
      "[Parallel(n_jobs=1)]: Done   1 out of   1 | elapsed:    7.2s finished\n"
     ]
    },
    {
     "name": "stdout",
     "output_type": "stream",
     "text": [
      "================\n",
      "Configuration:\n",
      "C: 2.0139441303782215\n",
      "Tolerance: 0.1\n",
      "Solver: sag\n",
      "Oversampling Method: ada\n",
      "----------------\n"
     ]
    },
    {
     "name": "stderr",
     "output_type": "stream",
     "text": [
      "[Parallel(n_jobs=1)]: Using backend SequentialBackend with 1 concurrent workers.\n"
     ]
    },
    {
     "name": "stdout",
     "output_type": "stream",
     "text": [
      "convergence after 5 epochs took 0 seconds\n"
     ]
    },
    {
     "name": "stderr",
     "output_type": "stream",
     "text": [
      "[Parallel(n_jobs=1)]: Done   1 out of   1 | elapsed:    0.1s finished\n",
      "[Parallel(n_jobs=1)]: Using backend SequentialBackend with 1 concurrent workers.\n"
     ]
    },
    {
     "name": "stdout",
     "output_type": "stream",
     "text": [
      "convergence after 5 epochs took 0 seconds\n"
     ]
    },
    {
     "name": "stderr",
     "output_type": "stream",
     "text": [
      "[Parallel(n_jobs=1)]: Done   1 out of   1 | elapsed:    0.1s finished\n",
      "[Parallel(n_jobs=1)]: Using backend SequentialBackend with 1 concurrent workers.\n"
     ]
    },
    {
     "name": "stdout",
     "output_type": "stream",
     "text": [
      "convergence after 5 epochs took 1 seconds\n",
      "Results: -0.8577513689173554\n",
      "================\n"
     ]
    },
    {
     "name": "stderr",
     "output_type": "stream",
     "text": [
      "[Parallel(n_jobs=1)]: Done   1 out of   1 | elapsed:    0.1s finished\n"
     ]
    },
    {
     "name": "stdout",
     "output_type": "stream",
     "text": [
      "================\n",
      "Configuration:\n",
      "C: 2.007559592346865\n",
      "Tolerance: 0.09992950317294938\n",
      "Solver: newton-cholesky\n",
      "Oversampling Method: none\n",
      "----------------\n",
      "Newton iter=1\n",
      "  Check Convergence\n",
      "    1. max |gradient| 0.02821669663179022 <= 0.09992950317294938\n",
      "    2. Newton decrement 0.17207179559833716 <= 0.09992950317294938\n",
      "Newton iter=2\n",
      "  Check Convergence\n",
      "    1. max |gradient| 0.005706199256082919 <= 0.09992950317294938\n",
      "    2. Newton decrement 0.02214776439594584 <= 0.09992950317294938\n",
      "  Solver did converge at loss = 0.47158673394800993.\n"
     ]
    },
    {
     "name": "stderr",
     "output_type": "stream",
     "text": [
      "[Parallel(n_jobs=1)]: Using backend SequentialBackend with 1 concurrent workers.\n",
      "[Parallel(n_jobs=1)]: Done   1 out of   1 | elapsed:    0.0s finished\n",
      "[Parallel(n_jobs=1)]: Using backend SequentialBackend with 1 concurrent workers.\n"
     ]
    },
    {
     "name": "stdout",
     "output_type": "stream",
     "text": [
      "Newton iter=1\n",
      "  Check Convergence\n",
      "    1. max |gradient| 0.034175171727656856 <= 0.09992950317294938\n",
      "    2. Newton decrement 0.18119143995852693 <= 0.09992950317294938\n",
      "Newton iter=2\n",
      "  Check Convergence\n",
      "    1. max |gradient| 0.006573244209370418 <= 0.09992950317294938\n",
      "    2. Newton decrement 0.021737332029959283 <= 0.09992950317294938\n",
      "  Solver did converge at loss = 0.46264281864998413.\n",
      "Newton iter=1\n"
     ]
    },
    {
     "name": "stderr",
     "output_type": "stream",
     "text": [
      "[Parallel(n_jobs=1)]: Done   1 out of   1 | elapsed:    0.2s finished\n",
      "[Parallel(n_jobs=1)]: Using backend SequentialBackend with 1 concurrent workers.\n"
     ]
    },
    {
     "name": "stdout",
     "output_type": "stream",
     "text": [
      "  Check Convergence\n",
      "    1. max |gradient| 0.03532179006461724 <= 0.09992950317294938\n",
      "    2. Newton decrement 0.18276318703862748 <= 0.09992950317294938\n",
      "Newton iter=2\n",
      "  Check Convergence\n",
      "    1. max |gradient| 0.007010868490091499 <= 0.09992950317294938\n",
      "    2. Newton decrement 0.022862908402291843 <= 0.09992950317294938\n",
      "  Solver did converge at loss = 0.4589351381272739.\n",
      "Results: -0.8581593002379974\n",
      "================\n"
     ]
    },
    {
     "name": "stderr",
     "output_type": "stream",
     "text": [
      "[Parallel(n_jobs=1)]: Done   1 out of   1 | elapsed:    3.6s finished\n"
     ]
    },
    {
     "name": "stdout",
     "output_type": "stream",
     "text": [
      "================\n",
      "Configuration:\n",
      "C: 1.0052967101605212\n",
      "Tolerance: 0.05460874618176278\n",
      "Solver: sag\n",
      "Oversampling Method: ada\n",
      "----------------\n"
     ]
    },
    {
     "name": "stderr",
     "output_type": "stream",
     "text": [
      "[Parallel(n_jobs=1)]: Using backend SequentialBackend with 1 concurrent workers.\n"
     ]
    },
    {
     "name": "stdout",
     "output_type": "stream",
     "text": [
      "convergence after 6 epochs took 0 seconds\n"
     ]
    },
    {
     "name": "stderr",
     "output_type": "stream",
     "text": [
      "[Parallel(n_jobs=1)]: Done   1 out of   1 | elapsed:    0.1s finished\n",
      "[Parallel(n_jobs=1)]: Using backend SequentialBackend with 1 concurrent workers.\n"
     ]
    },
    {
     "name": "stdout",
     "output_type": "stream",
     "text": [
      "convergence after 7 epochs took 1 seconds\n",
      "convergence after 6 epochs took 0 seconds\n",
      "Results: -0.8589459769364135\n",
      "================\n"
     ]
    },
    {
     "name": "stderr",
     "output_type": "stream",
     "text": [
      "[Parallel(n_jobs=1)]: Done   1 out of   1 | elapsed:    0.1s finished\n",
      "[Parallel(n_jobs=1)]: Using backend SequentialBackend with 1 concurrent workers.\n",
      "[Parallel(n_jobs=1)]: Done   1 out of   1 | elapsed:    0.1s finished\n"
     ]
    },
    {
     "name": "stdout",
     "output_type": "stream",
     "text": [
      "================\n",
      "Configuration:\n",
      "C: 0.001\n",
      "Tolerance: 0.04079813051434005\n",
      "Solver: sag\n",
      "Oversampling Method: ada\n",
      "----------------\n",
      "rescaling...\n",
      "rescaling...\n",
      "rescaling...\n",
      "rescaling...\n",
      "rescaling...\n",
      "rescaling...\n",
      "convergence after 3 epochs took 0 seconds\n",
      "rescaling...\n",
      "rescaling...\n"
     ]
    },
    {
     "name": "stderr",
     "output_type": "stream",
     "text": [
      "[Parallel(n_jobs=1)]: Using backend SequentialBackend with 1 concurrent workers.\n",
      "[Parallel(n_jobs=1)]: Done   1 out of   1 | elapsed:    0.0s finished\n",
      "[Parallel(n_jobs=1)]: Using backend SequentialBackend with 1 concurrent workers.\n",
      "[Parallel(n_jobs=1)]: Done   1 out of   1 | elapsed:    0.0s finished\n",
      "[Parallel(n_jobs=1)]: Using backend SequentialBackend with 1 concurrent workers.\n"
     ]
    },
    {
     "name": "stdout",
     "output_type": "stream",
     "text": [
      "convergence after 2 epochs took 0 seconds\n",
      "rescaling...\n",
      "rescaling...\n",
      "convergence after 2 epochs took 0 seconds\n",
      "Results: -0.8171202457176148\n",
      "================\n"
     ]
    },
    {
     "name": "stderr",
     "output_type": "stream",
     "text": [
      "[Parallel(n_jobs=1)]: Done   1 out of   1 | elapsed:    0.0s finished\n"
     ]
    },
    {
     "name": "stdout",
     "output_type": "stream",
     "text": [
      "================\n",
      "Configuration:\n",
      "C: 1.37910294721684\n",
      "Tolerance: 0.079647349883095\n",
      "Solver: sag\n",
      "Oversampling Method: none\n",
      "----------------\n",
      "convergence after 5 epochs took 0 seconds\n"
     ]
    },
    {
     "name": "stderr",
     "output_type": "stream",
     "text": [
      "[Parallel(n_jobs=1)]: Using backend SequentialBackend with 1 concurrent workers.\n",
      "[Parallel(n_jobs=1)]: Done   1 out of   1 | elapsed:    0.1s finished\n",
      "[Parallel(n_jobs=1)]: Using backend SequentialBackend with 1 concurrent workers.\n"
     ]
    },
    {
     "name": "stdout",
     "output_type": "stream",
     "text": [
      "convergence after 6 epochs took 0 seconds\n",
      "convergence after 5 epochs took 1 seconds\n",
      "Results: -0.8591926051168844\n",
      "================\n"
     ]
    },
    {
     "name": "stderr",
     "output_type": "stream",
     "text": [
      "[Parallel(n_jobs=1)]: Done   1 out of   1 | elapsed:    0.1s finished\n",
      "[Parallel(n_jobs=1)]: Using backend SequentialBackend with 1 concurrent workers.\n",
      "[Parallel(n_jobs=1)]: Done   1 out of   1 | elapsed:    0.1s finished\n"
     ]
    },
    {
     "name": "stdout",
     "output_type": "stream",
     "text": [
      "================\n",
      "Configuration:\n",
      "C: 1.8844407018176639\n",
      "Tolerance: 0.0001\n",
      "Solver: newton-cholesky\n",
      "Oversampling Method: none\n",
      "----------------\n",
      "Newton iter=1\n",
      "  Check Convergence\n",
      "    1. max |gradient| 0.028209370794396095 <= 0.0001\n",
      "Newton iter=2\n",
      "  Check Convergence\n",
      "    1. max |gradient| 0.005699053334570566 <= 0.0001\n",
      "Newton iter=3\n",
      "  Check Convergence\n",
      "    1. max |gradient| 0.001517076093546558 <= 0.0001\n",
      "Newton iter=4\n",
      "  Check Convergence\n",
      "    1. max |gradient| 0.00040484162363436086 <= 0.0001\n",
      "Newton iter=5\n",
      "  Check Convergence\n",
      "    1. max |gradient| 5.2880712766768555e-05 <= 0.0001\n",
      "    2. Newton decrement 8.918765289781442e-05 <= 0.0001\n",
      "  Solver did converge at loss = 0.46531948061444856.\n",
      "Newton iter=1\n"
     ]
    },
    {
     "name": "stderr",
     "output_type": "stream",
     "text": [
      "[Parallel(n_jobs=1)]: Using backend SequentialBackend with 1 concurrent workers.\n",
      "[Parallel(n_jobs=1)]: Done   1 out of   1 | elapsed:    0.0s finished\n",
      "[Parallel(n_jobs=1)]: Using backend SequentialBackend with 1 concurrent workers.\n"
     ]
    },
    {
     "name": "stdout",
     "output_type": "stream",
     "text": [
      "  Check Convergence\n",
      "    1. max |gradient| 0.03417040563960711 <= 0.0001\n",
      "Newton iter=2\n",
      "  Check Convergence\n",
      "    1. max |gradient| 0.006566952632649696 <= 0.0001\n",
      "Newton iter=3\n",
      "  Check Convergence\n",
      "    1. max |gradient| 0.0010323408187436574 <= 0.0001\n",
      "Newton iter=4\n",
      "  Check Convergence\n",
      "    1. max |gradient| 0.00021968291234958706 <= 0.0001\n",
      "Newton iter=5\n",
      "  Check Convergence\n",
      "    1. max |gradient| 2.513803700749176e-05 <= 0.0001\n",
      "    2. Newton decrement 3.6882354667872426e-05 <= 0.0001\n",
      "  Solver did converge at loss = 0.45786082513010085.\n",
      "Newton iter=1\n",
      "  Check Convergence\n",
      "    1. max |gradient| 0.035317238340453964 <= 0.0001\n",
      "Newton iter=2\n",
      "  Check Convergence\n",
      "    1. max |gradient| 0.0070054621699005325 <= 0.0001\n",
      "Newton iter=3\n",
      "  Check Convergence\n",
      "    1. max |gradient| 0.0011472382827862784 <= 0.0001\n",
      "Newton iter=4\n",
      "  Check Convergence\n",
      "    1. max |gradient| 0.0002710921507828755 <= 0.0001\n",
      "Newton iter=5\n"
     ]
    },
    {
     "name": "stderr",
     "output_type": "stream",
     "text": [
      "[Parallel(n_jobs=1)]: Done   1 out of   1 | elapsed:    0.0s finished\n",
      "[Parallel(n_jobs=1)]: Using backend SequentialBackend with 1 concurrent workers.\n",
      "[Parallel(n_jobs=1)]: Done   1 out of   1 | elapsed:    0.0s finished\n"
     ]
    },
    {
     "name": "stdout",
     "output_type": "stream",
     "text": [
      "  Check Convergence\n",
      "    1. max |gradient| 3.3867539990250356e-05 <= 0.0001\n",
      "    2. Newton decrement 4.985787618457129e-05 <= 0.0001\n",
      "  Solver did converge at loss = 0.4535547512163963.\n",
      "Results: -0.8596725415464563\n",
      "================\n",
      "================\n",
      "Configuration:\n",
      "C: 3.0\n",
      "Tolerance: 0.04293936536760428\n",
      "Solver: saga\n",
      "Oversampling Method: ada\n",
      "----------------\n"
     ]
    },
    {
     "name": "stderr",
     "output_type": "stream",
     "text": [
      "[Parallel(n_jobs=1)]: Using backend SequentialBackend with 1 concurrent workers.\n"
     ]
    },
    {
     "name": "stdout",
     "output_type": "stream",
     "text": [
      "convergence after 7 epochs took 0 seconds\n"
     ]
    },
    {
     "name": "stderr",
     "output_type": "stream",
     "text": [
      "[Parallel(n_jobs=1)]: Done   1 out of   1 | elapsed:    0.2s finished\n",
      "[Parallel(n_jobs=1)]: Using backend SequentialBackend with 1 concurrent workers.\n"
     ]
    },
    {
     "name": "stdout",
     "output_type": "stream",
     "text": [
      "convergence after 6 epochs took 1 seconds\n"
     ]
    },
    {
     "name": "stderr",
     "output_type": "stream",
     "text": [
      "[Parallel(n_jobs=1)]: Done   1 out of   1 | elapsed:    0.2s finished\n",
      "[Parallel(n_jobs=1)]: Using backend SequentialBackend with 1 concurrent workers.\n"
     ]
    },
    {
     "name": "stdout",
     "output_type": "stream",
     "text": [
      "convergence after 7 epochs took 0 seconds\n",
      "Results: -0.858106674521199\n",
      "================\n"
     ]
    },
    {
     "name": "stderr",
     "output_type": "stream",
     "text": [
      "[Parallel(n_jobs=1)]: Done   1 out of   1 | elapsed:    0.2s finished\n"
     ]
    },
    {
     "name": "stdout",
     "output_type": "stream",
     "text": [
      "================\n",
      "Configuration:\n",
      "C: 3.0\n",
      "Tolerance: 0.1\n",
      "Solver: liblinear\n",
      "Oversampling Method: none\n",
      "----------------\n",
      "[LibLinear][LibLinear][LibLinear]Results: -0.8438893863282347\n",
      "================\n",
      "================\n",
      "Configuration:\n",
      "C: 1.3097882622706105\n",
      "Tolerance: 0.0001\n",
      "Solver: newton-cg\n",
      "Oversampling Method: none\n",
      "----------------\n"
     ]
    },
    {
     "name": "stderr",
     "output_type": "stream",
     "text": [
      "[Parallel(n_jobs=1)]: Using backend SequentialBackend with 1 concurrent workers.\n",
      "[Parallel(n_jobs=1)]: Done   1 out of   1 | elapsed:    0.1s finished\n",
      "[Parallel(n_jobs=1)]: Using backend SequentialBackend with 1 concurrent workers.\n",
      "[Parallel(n_jobs=1)]: Done   1 out of   1 | elapsed:    0.1s finished\n",
      "[Parallel(n_jobs=1)]: Using backend SequentialBackend with 1 concurrent workers.\n",
      "[Parallel(n_jobs=1)]: Done   1 out of   1 | elapsed:    0.1s finished\n"
     ]
    },
    {
     "name": "stdout",
     "output_type": "stream",
     "text": [
      "Results: -0.859595960874413\n",
      "================\n",
      "================\n",
      "Configuration:\n",
      "C: 0.7890501761382177\n",
      "Tolerance: 0.0001236450905629262\n",
      "Solver: sag\n",
      "Oversampling Method: none\n",
      "----------------\n"
     ]
    },
    {
     "name": "stderr",
     "output_type": "stream",
     "text": [
      "[Parallel(n_jobs=1)]: Using backend SequentialBackend with 1 concurrent workers.\n"
     ]
    },
    {
     "name": "stdout",
     "output_type": "stream",
     "text": [
      "convergence after 106 epochs took 3 seconds\n"
     ]
    },
    {
     "name": "stderr",
     "output_type": "stream",
     "text": [
      "[Parallel(n_jobs=1)]: Done   1 out of   1 | elapsed:    3.1s finished\n",
      "[Parallel(n_jobs=1)]: Using backend SequentialBackend with 1 concurrent workers.\n"
     ]
    },
    {
     "name": "stdout",
     "output_type": "stream",
     "text": [
      "convergence after 128 epochs took 3 seconds\n"
     ]
    },
    {
     "name": "stderr",
     "output_type": "stream",
     "text": [
      "[Parallel(n_jobs=1)]: Done   1 out of   1 | elapsed:    3.7s finished\n",
      "[Parallel(n_jobs=1)]: Using backend SequentialBackend with 1 concurrent workers.\n"
     ]
    },
    {
     "name": "stdout",
     "output_type": "stream",
     "text": [
      "convergence after 129 epochs took 5 seconds\n",
      "Results: -0.8594189065191206\n",
      "================\n"
     ]
    },
    {
     "name": "stderr",
     "output_type": "stream",
     "text": [
      "[Parallel(n_jobs=1)]: Done   1 out of   1 | elapsed:    4.4s finished\n"
     ]
    },
    {
     "name": "stdout",
     "output_type": "stream",
     "text": [
      "================\n",
      "Configuration:\n",
      "C: 0.5728358050795871\n",
      "Tolerance: 0.0002969483211641352\n",
      "Solver: newton-cholesky\n",
      "Oversampling Method: none\n",
      "----------------\n",
      "Newton iter=1\n",
      "  Check Convergence\n",
      "    1. max |gradient| 0.02800212630164436 <= 0.0002969483211641352\n",
      "Newton iter=2\n",
      "  Check Convergence\n",
      "    1. max |gradient| 0.005473537626213528 <= 0.0002969483211641352\n",
      "Newton iter=3\n",
      "  Check Convergence\n",
      "    1. max |gradient| 0.0011392570669971835 <= 0.0002969483211641352\n",
      "Newton iter=4\n",
      "  Check Convergence\n",
      "    1. max |gradient| 0.00016340805968433156 <= 0.0002969483211641352\n",
      "    2. Newton decrement 0.0003659389136547853 <= 0.0002969483211641352\n",
      "Newton iter=5\n",
      "  Check Convergence\n",
      "    1. max |gradient| 4.531043836319451e-06 <= 0.0002969483211641352\n",
      "    2. Newton decrement 9.784002485769164e-06 <= 0.0002969483211641352\n",
      "  Solver did converge at loss = 0.4697695923834357.\n",
      "Newton iter=1\n",
      "  Check Convergence\n",
      "    1. max |gradient| 0.034011362638035225 <= 0.0002969483211641352\n",
      "Newton iter=2\n"
     ]
    },
    {
     "name": "stderr",
     "output_type": "stream",
     "text": [
      "[Parallel(n_jobs=1)]: Using backend SequentialBackend with 1 concurrent workers.\n",
      "[Parallel(n_jobs=1)]: Done   1 out of   1 | elapsed:    0.0s finished\n",
      "[Parallel(n_jobs=1)]: Using backend SequentialBackend with 1 concurrent workers.\n"
     ]
    },
    {
     "name": "stdout",
     "output_type": "stream",
     "text": [
      "  Check Convergence\n",
      "    1. max |gradient| 0.006359615822786262 <= 0.0002969483211641352\n",
      "Newton iter=3\n",
      "  Check Convergence\n",
      "    1. max |gradient| 0.0007259133195298142 <= 0.0002969483211641352\n",
      "Newton iter=4\n",
      "  Check Convergence\n",
      "    1. max |gradient| 6.366844529555251e-05 <= 0.0002969483211641352\n",
      "    2. Newton decrement 0.00018521205431164706 <= 0.0002969483211641352\n",
      "  Solver did converge at loss = 0.4615882589398817.\n",
      "Newton iter=1\n",
      "  Check Convergence\n",
      "    1. max |gradient| 0.0351636566904955 <= 0.0002969483211641352\n",
      "Newton iter=2\n",
      "  Check Convergence\n",
      "    1. max |gradient| 0.0068249816200952745 <= 0.0002969483211641352\n",
      "Newton iter=3\n",
      "  Check Convergence\n",
      "    1. max |gradient| 0.0008169798083741353 <= 0.0002969483211641352\n",
      "Newton iter=4\n",
      "  Check Convergence\n",
      "    1. max |gradient| 9.25389899557427e-05 <= 0.0002969483211641352\n",
      "    2. Newton decrement 0.0002315414090702267 <= 0.0002969483211641352\n",
      "  Solver did converge at loss = 0.45730385263189255.\n",
      "Results: -0.8592199261739991\n",
      "================\n"
     ]
    },
    {
     "name": "stderr",
     "output_type": "stream",
     "text": [
      "[Parallel(n_jobs=1)]: Done   1 out of   1 | elapsed:    0.0s finished\n",
      "[Parallel(n_jobs=1)]: Using backend SequentialBackend with 1 concurrent workers.\n",
      "[Parallel(n_jobs=1)]: Done   1 out of   1 | elapsed:    0.0s finished\n"
     ]
    },
    {
     "name": "stdout",
     "output_type": "stream",
     "text": [
      "================\n",
      "Configuration:\n",
      "C: 1.4990042804731978\n",
      "Tolerance: 0.053789414478158167\n",
      "Solver: sag\n",
      "Oversampling Method: none\n",
      "----------------\n"
     ]
    },
    {
     "name": "stderr",
     "output_type": "stream",
     "text": [
      "[Parallel(n_jobs=1)]: Using backend SequentialBackend with 1 concurrent workers.\n"
     ]
    },
    {
     "name": "stdout",
     "output_type": "stream",
     "text": [
      "convergence after 6 epochs took 1 seconds\n"
     ]
    },
    {
     "name": "stderr",
     "output_type": "stream",
     "text": [
      "[Parallel(n_jobs=1)]: Done   1 out of   1 | elapsed:    0.1s finished\n",
      "[Parallel(n_jobs=1)]: Using backend SequentialBackend with 1 concurrent workers.\n"
     ]
    },
    {
     "name": "stdout",
     "output_type": "stream",
     "text": [
      "convergence after 7 epochs took 0 seconds\n"
     ]
    },
    {
     "name": "stderr",
     "output_type": "stream",
     "text": [
      "[Parallel(n_jobs=1)]: Done   1 out of   1 | elapsed:    0.2s finished\n",
      "[Parallel(n_jobs=1)]: Using backend SequentialBackend with 1 concurrent workers.\n"
     ]
    },
    {
     "name": "stdout",
     "output_type": "stream",
     "text": [
      "convergence after 6 epochs took 0 seconds\n",
      "Results: -0.8583529767687471\n",
      "================\n"
     ]
    },
    {
     "name": "stderr",
     "output_type": "stream",
     "text": [
      "[Parallel(n_jobs=1)]: Done   1 out of   1 | elapsed:    0.2s finished\n"
     ]
    },
    {
     "name": "stdout",
     "output_type": "stream",
     "text": [
      "================\n",
      "Configuration:\n",
      "C: 2.7619077411534505\n",
      "Tolerance: 0.0001\n",
      "Solver: saga\n",
      "Oversampling Method: none\n",
      "----------------\n"
     ]
    },
    {
     "name": "stderr",
     "output_type": "stream",
     "text": [
      "[Parallel(n_jobs=1)]: Using backend SequentialBackend with 1 concurrent workers.\n"
     ]
    },
    {
     "name": "stdout",
     "output_type": "stream",
     "text": [
      "max_iter reached after 8 seconds\n"
     ]
    },
    {
     "name": "stderr",
     "output_type": "stream",
     "text": [
      "C:\\Users\\Aaron\\AppData\\Roaming\\Python\\Python311\\site-packages\\sklearn\\linear_model\\_sag.py:350: ConvergenceWarning: The max_iter was reached which means the coef_ did not converge\n",
      "  warnings.warn(\n",
      "[Parallel(n_jobs=1)]: Done   1 out of   1 | elapsed:    8.4s finished\n",
      "[Parallel(n_jobs=1)]: Using backend SequentialBackend with 1 concurrent workers.\n"
     ]
    },
    {
     "name": "stdout",
     "output_type": "stream",
     "text": [
      "max_iter reached after 8 seconds\n"
     ]
    },
    {
     "name": "stderr",
     "output_type": "stream",
     "text": [
      "C:\\Users\\Aaron\\AppData\\Roaming\\Python\\Python311\\site-packages\\sklearn\\linear_model\\_sag.py:350: ConvergenceWarning: The max_iter was reached which means the coef_ did not converge\n",
      "  warnings.warn(\n",
      "[Parallel(n_jobs=1)]: Done   1 out of   1 | elapsed:    7.8s finished\n",
      "[Parallel(n_jobs=1)]: Using backend SequentialBackend with 1 concurrent workers.\n"
     ]
    },
    {
     "name": "stdout",
     "output_type": "stream",
     "text": [
      "max_iter reached after 8 seconds\n",
      "Results: -0.8597459186513188\n",
      "================\n"
     ]
    },
    {
     "name": "stderr",
     "output_type": "stream",
     "text": [
      "C:\\Users\\Aaron\\AppData\\Roaming\\Python\\Python311\\site-packages\\sklearn\\linear_model\\_sag.py:350: ConvergenceWarning: The max_iter was reached which means the coef_ did not converge\n",
      "  warnings.warn(\n",
      "[Parallel(n_jobs=1)]: Done   1 out of   1 | elapsed:    7.7s finished\n"
     ]
    },
    {
     "name": "stdout",
     "output_type": "stream",
     "text": [
      "================\n",
      "Configuration:\n",
      "C: 2.572234515925916\n",
      "Tolerance: 0.021407122057284157\n",
      "Solver: sag\n",
      "Oversampling Method: ada\n",
      "----------------\n"
     ]
    },
    {
     "name": "stderr",
     "output_type": "stream",
     "text": [
      "[Parallel(n_jobs=1)]: Using backend SequentialBackend with 1 concurrent workers.\n"
     ]
    },
    {
     "name": "stdout",
     "output_type": "stream",
     "text": [
      "convergence after 9 epochs took 0 seconds\n"
     ]
    },
    {
     "name": "stderr",
     "output_type": "stream",
     "text": [
      "[Parallel(n_jobs=1)]: Done   1 out of   1 | elapsed:    0.2s finished\n",
      "[Parallel(n_jobs=1)]: Using backend SequentialBackend with 1 concurrent workers.\n"
     ]
    },
    {
     "name": "stdout",
     "output_type": "stream",
     "text": [
      "convergence after 12 epochs took 0 seconds\n"
     ]
    },
    {
     "name": "stderr",
     "output_type": "stream",
     "text": [
      "[Parallel(n_jobs=1)]: Done   1 out of   1 | elapsed:    0.4s finished\n",
      "[Parallel(n_jobs=1)]: Using backend SequentialBackend with 1 concurrent workers.\n"
     ]
    },
    {
     "name": "stdout",
     "output_type": "stream",
     "text": [
      "convergence after 10 epochs took 0 seconds\n",
      "Results: -0.8594888013018968\n",
      "================\n"
     ]
    },
    {
     "name": "stderr",
     "output_type": "stream",
     "text": [
      "[Parallel(n_jobs=1)]: Done   1 out of   1 | elapsed:    0.3s finished\n"
     ]
    },
    {
     "name": "stdout",
     "output_type": "stream",
     "text": [
      "================\n",
      "Configuration:\n",
      "C: 2.654098248397011\n",
      "Tolerance: 0.0001\n",
      "Solver: newton-cholesky\n",
      "Oversampling Method: none\n",
      "----------------\n",
      "Newton iter=1\n",
      "  Check Convergence\n",
      "    1. max |gradient| 0.028246975962436006 <= 0.0001\n",
      "Newton iter=2\n",
      "  Check Convergence\n",
      "    1. max |gradient| 0.00573435602151781 <= 0.0001\n",
      "Newton iter=3\n",
      "  Check Convergence\n",
      "    1. max |gradient| 0.0015821284817541506 <= 0.0001\n",
      "Newton iter=4\n",
      "  Check Convergence\n",
      "    1. max |gradient| 0.00046299047694885355 <= 0.0001\n",
      "Newton iter=5\n",
      "  Check Convergence\n",
      "    1. max |gradient| 7.882339531309346e-05 <= 0.0001\n",
      "    2. Newton decrement 0.00012972533481934564 <= 0.0001\n",
      "Newton iter=6\n",
      "  Check Convergence\n",
      "    1. max |gradient| 4.3601135046086176e-06 <= 0.0001\n",
      "    2. Newton decrement 5.776579804464591e-06 <= 0.0001\n",
      "  Solver did converge at loss = 0.46449965366838064.\n"
     ]
    },
    {
     "name": "stderr",
     "output_type": "stream",
     "text": [
      "[Parallel(n_jobs=1)]: Using backend SequentialBackend with 1 concurrent workers.\n",
      "[Parallel(n_jobs=1)]: Done   1 out of   1 | elapsed:    0.0s finished\n",
      "[Parallel(n_jobs=1)]: Using backend SequentialBackend with 1 concurrent workers.\n"
     ]
    },
    {
     "name": "stdout",
     "output_type": "stream",
     "text": [
      "Newton iter=1\n",
      "  Check Convergence\n",
      "    1. max |gradient| 0.034193598996708575 <= 0.0001\n",
      "Newton iter=2\n",
      "  Check Convergence\n",
      "    1. max |gradient| 0.0065973308729480725 <= 0.0001\n",
      "Newton iter=3\n",
      "  Check Convergence\n",
      "    1. max |gradient| 0.00108725861732863 <= 0.0001\n",
      "Newton iter=4\n",
      "  Check Convergence\n",
      "    1. max |gradient| 0.0002700872835225028 <= 0.0001\n",
      "Newton iter=5\n",
      "  Check Convergence\n",
      "    1. max |gradient| 4.256920867481452e-05 <= 0.0001\n",
      "    2. Newton decrement 6.092378783415207e-05 <= 0.0001\n",
      "  Solver did converge at loss = 0.4571918989974599.\n",
      "Newton iter=1\n",
      "  Check Convergence\n",
      "    1. max |gradient| 0.03533934645290397 <= 0.0001\n",
      "Newton iter=2\n",
      "  Check Convergence\n",
      "    1. max |gradient| 0.0070316462115644586 <= 0.0001\n",
      "Newton iter=3\n",
      "  Check Convergence\n",
      "    1. max |gradient| 0.001205596802818574 <= 0.0001\n",
      "Newton iter=4\n",
      "  Check Convergence\n",
      "    1. max |gradient| 0.00031789738793117225 <= 0.0001\n",
      "Newton iter=5\n",
      "  Check Convergence\n",
      "    1. max |gradient| 5.4559390664522464e-05 <= 0.0001\n",
      "    2. Newton decrement 7.878425495194138e-05 <= 0.0001\n"
     ]
    },
    {
     "name": "stderr",
     "output_type": "stream",
     "text": [
      "[Parallel(n_jobs=1)]: Done   1 out of   1 | elapsed:    0.0s finished\n",
      "[Parallel(n_jobs=1)]: Using backend SequentialBackend with 1 concurrent workers.\n",
      "[Parallel(n_jobs=1)]: Done   1 out of   1 | elapsed:    0.0s finished\n"
     ]
    },
    {
     "name": "stdout",
     "output_type": "stream",
     "text": [
      "  Solver did converge at loss = 0.4528948927191265.\n",
      "Results: -0.8597239693088582\n",
      "================\n",
      "================\n",
      "Configuration:\n",
      "C: 2.8417746686673646\n",
      "Tolerance: 0.0001\n",
      "Solver: saga\n",
      "Oversampling Method: none\n",
      "----------------\n"
     ]
    },
    {
     "name": "stderr",
     "output_type": "stream",
     "text": [
      "[Parallel(n_jobs=1)]: Using backend SequentialBackend with 1 concurrent workers.\n"
     ]
    },
    {
     "name": "stdout",
     "output_type": "stream",
     "text": [
      "max_iter reached after 7 seconds\n"
     ]
    },
    {
     "name": "stderr",
     "output_type": "stream",
     "text": [
      "C:\\Users\\Aaron\\AppData\\Roaming\\Python\\Python311\\site-packages\\sklearn\\linear_model\\_sag.py:350: ConvergenceWarning: The max_iter was reached which means the coef_ did not converge\n",
      "  warnings.warn(\n",
      "[Parallel(n_jobs=1)]: Done   1 out of   1 | elapsed:    7.4s finished\n",
      "[Parallel(n_jobs=1)]: Using backend SequentialBackend with 1 concurrent workers.\n"
     ]
    },
    {
     "name": "stdout",
     "output_type": "stream",
     "text": [
      "max_iter reached after 8 seconds\n"
     ]
    },
    {
     "name": "stderr",
     "output_type": "stream",
     "text": [
      "C:\\Users\\Aaron\\AppData\\Roaming\\Python\\Python311\\site-packages\\sklearn\\linear_model\\_sag.py:350: ConvergenceWarning: The max_iter was reached which means the coef_ did not converge\n",
      "  warnings.warn(\n",
      "[Parallel(n_jobs=1)]: Done   1 out of   1 | elapsed:    7.7s finished\n",
      "[Parallel(n_jobs=1)]: Using backend SequentialBackend with 1 concurrent workers.\n"
     ]
    },
    {
     "name": "stdout",
     "output_type": "stream",
     "text": [
      "max_iter reached after 8 seconds\n",
      "Results: -0.8597492861989146\n",
      "================\n"
     ]
    },
    {
     "name": "stderr",
     "output_type": "stream",
     "text": [
      "C:\\Users\\Aaron\\AppData\\Roaming\\Python\\Python311\\site-packages\\sklearn\\linear_model\\_sag.py:350: ConvergenceWarning: The max_iter was reached which means the coef_ did not converge\n",
      "  warnings.warn(\n",
      "[Parallel(n_jobs=1)]: Done   1 out of   1 | elapsed:    7.5s finished\n"
     ]
    },
    {
     "name": "stdout",
     "output_type": "stream",
     "text": [
      "================\n",
      "Configuration:\n",
      "C: 2.2974391476982237\n",
      "Tolerance: 0.08491040542562095\n",
      "Solver: liblinear\n",
      "Oversampling Method: none\n",
      "----------------\n",
      "[LibLinear][LibLinear][LibLinear]Results: -0.8511550348022688\n",
      "================\n",
      "================\n",
      "Configuration:\n",
      "C: 1.5127610077172977\n",
      "Tolerance: 0.1\n",
      "Solver: newton-cholesky\n",
      "Oversampling Method: ada\n",
      "----------------\n",
      "Newton iter=1\n",
      "  Check Convergence\n",
      "    1. max |gradient| 0.028182145213530213 <= 0.1\n",
      "    2. Newton decrement 0.17196351048858957 <= 0.1\n",
      "Newton iter=2\n",
      "  Check Convergence\n",
      "    1. max |gradient| 0.005671516015328183 <= 0.1\n",
      "    2. Newton decrement 0.021981042785829526 <= 0.1\n",
      "  Solver did converge at loss = 0.47199451015934096.\n",
      "Newton iter=1\n",
      "  Check Convergence\n",
      "    1. max |gradient| 0.03415180819220698 <= 0.1\n",
      "    2. Newton decrement 0.1811084456970917 <= 0.1\n",
      "Newton iter=2\n",
      "  Check Convergence\n",
      "    1. max |gradient| 0.006542292073796281 <= 0.1\n",
      "    2. Newton decrement 0.02158686833249411 <= 0.1\n",
      "  Solver did converge at loss = 0.4629930951548701.\n"
     ]
    },
    {
     "name": "stderr",
     "output_type": "stream",
     "text": [
      "[Parallel(n_jobs=1)]: Using backend SequentialBackend with 1 concurrent workers.\n",
      "[Parallel(n_jobs=1)]: Done   1 out of   1 | elapsed:    0.0s finished\n",
      "[Parallel(n_jobs=1)]: Using backend SequentialBackend with 1 concurrent workers.\n",
      "[Parallel(n_jobs=1)]: Done   1 out of   1 | elapsed:    0.0s finished\n",
      "[Parallel(n_jobs=1)]: Using backend SequentialBackend with 1 concurrent workers.\n"
     ]
    },
    {
     "name": "stdout",
     "output_type": "stream",
     "text": [
      "Newton iter=1\n",
      "  Check Convergence\n",
      "    1. max |gradient| 0.03529944776272449 <= 0.1\n",
      "    2. Newton decrement 0.18268862756775145 <= 0.1\n",
      "Newton iter=2\n",
      "  Check Convergence\n",
      "    1. max |gradient| 0.006984293825508983 <= 0.1\n",
      "    2. Newton decrement 0.022721337658492106 <= 0.1\n",
      "  Solver did converge at loss = 0.45926188443764254.\n",
      "Results: -0.8581219187096337\n",
      "================\n"
     ]
    },
    {
     "name": "stderr",
     "output_type": "stream",
     "text": [
      "[Parallel(n_jobs=1)]: Done   1 out of   1 | elapsed:    0.0s finished\n"
     ]
    },
    {
     "name": "stdout",
     "output_type": "stream",
     "text": [
      "================\n",
      "Configuration:\n",
      "C: 1.8260268343065813\n",
      "Tolerance: 0.1\n",
      "Solver: newton-cholesky\n",
      "Oversampling Method: ada\n",
      "----------------\n",
      "Newton iter=1\n",
      "  Check Convergence\n",
      "    1. max |gradient| 0.028205647879291758 <= 0.1\n",
      "    2. Newton decrement 0.172037832416158 <= 0.1\n",
      "Newton iter=2\n",
      "  Check Convergence\n",
      "    1. max |gradient| 0.0056953758461005905 <= 0.1\n",
      "    2. Newton decrement 0.022095835536862445 <= 0.1\n",
      "  Solver did converge at loss = 0.47171404400271255.\n",
      "Newton iter=1\n",
      "  Check Convergence\n",
      "    1. max |gradient| 0.03416794205299845 <= 0.1\n",
      "    2. Newton decrement 0.18116579289702148 <= 0.1\n",
      "Newton iter=2\n",
      "  Check Convergence\n",
      "    1. max |gradient| 0.006563694276453612 <= 0.1\n",
      "    2. Newton decrement 0.02169072228091414 <= 0.1\n",
      "  Solver did converge at loss = 0.4627513364788168.\n"
     ]
    },
    {
     "name": "stderr",
     "output_type": "stream",
     "text": [
      "[Parallel(n_jobs=1)]: Using backend SequentialBackend with 1 concurrent workers.\n",
      "[Parallel(n_jobs=1)]: Done   1 out of   1 | elapsed:    0.0s finished\n",
      "[Parallel(n_jobs=1)]: Using backend SequentialBackend with 1 concurrent workers.\n",
      "[Parallel(n_jobs=1)]: Done   1 out of   1 | elapsed:    0.0s finished\n",
      "[Parallel(n_jobs=1)]: Using backend SequentialBackend with 1 concurrent workers.\n"
     ]
    },
    {
     "name": "stdout",
     "output_type": "stream",
     "text": [
      "Newton iter=1\n",
      "  Check Convergence\n",
      "    1. max |gradient| 0.03531488423524707 <= 0.1\n",
      "    2. Newton decrement 0.18274034662770555 <= 0.1\n",
      "Newton iter=2\n",
      "  Check Convergence\n",
      "    1. max |gradient| 0.007002663932264737 <= 0.1\n",
      "    2. Newton decrement 0.02281920405092186 <= 0.1\n",
      "  Solver did converge at loss = 0.45903585920704865.\n",
      "Results: -0.8581483084447052\n",
      "================\n"
     ]
    },
    {
     "name": "stderr",
     "output_type": "stream",
     "text": [
      "[Parallel(n_jobs=1)]: Done   1 out of   1 | elapsed:    0.0s finished\n"
     ]
    },
    {
     "name": "stdout",
     "output_type": "stream",
     "text": [
      "================\n",
      "Configuration:\n",
      "C: 1.8463620933008784\n",
      "Tolerance: 0.1\n",
      "Solver: newton-cholesky\n",
      "Oversampling Method: none\n",
      "----------------\n",
      "Newton iter=1\n",
      "  Check Convergence\n",
      "    1. max |gradient| 0.028206963433509733 <= 0.1\n",
      "    2. Newton decrement 0.17204191206077993 <= 0.1\n",
      "Newton iter=2\n",
      "  Check Convergence\n",
      "    1. max |gradient| 0.005696678797784053 <= 0.1\n",
      "    2. Newton decrement 0.02210209510737641 <= 0.1\n",
      "  Solver did converge at loss = 0.47169871574552996.\n",
      "Newton iter=1\n",
      "  Check Convergence\n",
      "    1. max |gradient| 0.03416881570984226 <= 0.1\n",
      "    2. Newton decrement 0.18116889414216295 <= 0.1\n",
      "Newton iter=2\n",
      "  Check Convergence\n",
      "    1. max |gradient| 0.0065648502085361715 <= 0.1\n",
      "    2. Newton decrement 0.021696354738598995 <= 0.1\n",
      "  Solver did converge at loss = 0.46273822472342624.\n"
     ]
    },
    {
     "name": "stderr",
     "output_type": "stream",
     "text": [
      "[Parallel(n_jobs=1)]: Using backend SequentialBackend with 1 concurrent workers.\n",
      "[Parallel(n_jobs=1)]: Done   1 out of   1 | elapsed:    0.0s finished\n",
      "[Parallel(n_jobs=1)]: Using backend SequentialBackend with 1 concurrent workers.\n",
      "[Parallel(n_jobs=1)]: Done   1 out of   1 | elapsed:    0.0s finished\n",
      "[Parallel(n_jobs=1)]: Using backend SequentialBackend with 1 concurrent workers.\n"
     ]
    },
    {
     "name": "stdout",
     "output_type": "stream",
     "text": [
      "Newton iter=1\n",
      "  Check Convergence\n",
      "    1. max |gradient| 0.03531571916534721 <= 0.1\n",
      "    2. Newton decrement 0.18274311927317763 <= 0.1\n",
      "Newton iter=2\n",
      "  Check Convergence\n",
      "    1. max |gradient| 0.007003656530430367 <= 0.1\n",
      "    2. Newton decrement 0.02282449305836688 <= 0.1\n",
      "  Solver did converge at loss = 0.4590236628620467.\n",
      "Results: -0.8581498367946588\n",
      "================\n"
     ]
    },
    {
     "name": "stderr",
     "output_type": "stream",
     "text": [
      "[Parallel(n_jobs=1)]: Done   1 out of   1 | elapsed:    0.0s finished\n"
     ]
    },
    {
     "name": "stdout",
     "output_type": "stream",
     "text": [
      "================\n",
      "Configuration:\n",
      "C: 1.059388341369015\n",
      "Tolerance: 0.07008553613331886\n",
      "Solver: newton-cholesky\n",
      "Oversampling Method: none\n",
      "----------------\n",
      "Newton iter=1\n",
      "  Check Convergence\n",
      "    1. max |gradient| 0.02812995836989742 <= 0.07008553613331886\n",
      "    2. Newton decrement 0.1717912211075663 <= 0.07008553613331886\n",
      "Newton iter=2\n",
      "  Check Convergence\n",
      "    1. max |gradient| 0.00561565058129347 <= 0.07008553613331886\n",
      "    2. Newton decrement 0.021713040930330912 <= 0.07008553613331886\n",
      "  Solver did converge at loss = 0.47264739366579256.\n",
      "Newton iter=1\n",
      "  Check Convergence\n",
      "    1. max |gradient| 0.03411325616264385 <= 0.07008553613331886\n",
      "    2. Newton decrement 0.18097097830559208 <= 0.07008553613331886\n",
      "Newton iter=2\n",
      "  Check Convergence\n",
      "    1. max |gradient| 0.006491172231347785 <= 0.07008553613331886\n",
      "    2. Newton decrement 0.02134168590519328 <= 0.07008553613331886\n",
      "  Solver did converge at loss = 0.4635649795477892.\n",
      "Newton iter=1\n"
     ]
    },
    {
     "name": "stderr",
     "output_type": "stream",
     "text": [
      "[Parallel(n_jobs=1)]: Using backend SequentialBackend with 1 concurrent workers.\n",
      "[Parallel(n_jobs=1)]: Done   1 out of   1 | elapsed:    0.0s finished\n",
      "[Parallel(n_jobs=1)]: Using backend SequentialBackend with 1 concurrent workers.\n",
      "[Parallel(n_jobs=1)]: Done   1 out of   1 | elapsed:    0.0s finished\n",
      "[Parallel(n_jobs=1)]: Using backend SequentialBackend with 1 concurrent workers.\n"
     ]
    },
    {
     "name": "stdout",
     "output_type": "stream",
     "text": [
      "  Check Convergence\n",
      "    1. max |gradient| 0.03526243500194985 <= 0.07008553613331886\n",
      "    2. Newton decrement 0.18256222041535933 <= 0.07008553613331886\n",
      "Newton iter=2\n",
      "  Check Convergence\n",
      "    1. max |gradient| 0.0069402950498071835 <= 0.07008553613331886\n",
      "    2. Newton decrement 0.02248802289728062 <= 0.07008553613331886\n",
      "  Solver did converge at loss = 0.4598033127379222.\n",
      "Results: -0.8580532533004853\n",
      "================\n"
     ]
    },
    {
     "name": "stderr",
     "output_type": "stream",
     "text": [
      "[Parallel(n_jobs=1)]: Done   1 out of   1 | elapsed:    0.0s finished\n"
     ]
    },
    {
     "name": "stdout",
     "output_type": "stream",
     "text": [
      "================\n",
      "Configuration:\n",
      "C: 0.001\n",
      "Tolerance: 0.0001\n",
      "Solver: newton-cholesky\n",
      "Oversampling Method: ada\n",
      "----------------\n",
      "Newton iter=1\n",
      "  Check Convergence\n",
      "    1. max |gradient| 0.01619924240957216 <= 0.0001\n",
      "Newton iter=2\n",
      "  Check Convergence\n",
      "    1. max |gradient| 0.0008034874319292938 <= 0.0001\n",
      "Newton iter=3\n",
      "  Check Convergence\n",
      "    1. max |gradient| 2.3061929302807885e-06 <= 0.0001\n",
      "    2. Newton decrement 5.126752767902473e-06 <= 0.0001\n",
      "  Solver did converge at loss = 0.5678563098603092.\n",
      "Newton iter=1\n",
      "  Check Convergence\n",
      "    1. max |gradient| 0.023217965597302284 <= 0.0001\n",
      "Newton iter=2\n"
     ]
    },
    {
     "name": "stderr",
     "output_type": "stream",
     "text": [
      "[Parallel(n_jobs=1)]: Using backend SequentialBackend with 1 concurrent workers.\n",
      "[Parallel(n_jobs=1)]: Done   1 out of   1 | elapsed:    0.0s finished\n",
      "[Parallel(n_jobs=1)]: Using backend SequentialBackend with 1 concurrent workers.\n",
      "[Parallel(n_jobs=1)]: Done   1 out of   1 | elapsed:    0.0s finished\n"
     ]
    },
    {
     "name": "stdout",
     "output_type": "stream",
     "text": [
      "  Check Convergence\n",
      "    1. max |gradient| 0.00154297114381807 <= 0.0001\n",
      "Newton iter=3\n",
      "  Check Convergence\n",
      "    1. max |gradient| 8.12997128351537e-06 <= 0.0001\n",
      "    2. Newton decrement 1.6103144599693423e-05 <= 0.0001\n",
      "  Solver did converge at loss = 0.5463074788296056.\n",
      "Newton iter=1\n",
      "  Check Convergence\n",
      "    1. max |gradient| 0.02383402977679162 <= 0.0001\n",
      "Newton iter=2\n",
      "  Check Convergence\n",
      "    1. max |gradient| 0.001624745105183594 <= 0.0001\n",
      "Newton iter=3\n",
      "  Check Convergence\n",
      "    1. max |gradient| 8.976223074240453e-06 <= 0.0001\n",
      "    2. Newton decrement 1.7350810254555624e-05 <= 0.0001\n",
      "  Solver did converge at loss = 0.5461881983356051.\n",
      "Results: -0.8172704182854948\n",
      "================\n"
     ]
    },
    {
     "name": "stderr",
     "output_type": "stream",
     "text": [
      "[Parallel(n_jobs=1)]: Using backend SequentialBackend with 1 concurrent workers.\n",
      "[Parallel(n_jobs=1)]: Done   1 out of   1 | elapsed:    0.0s finished\n"
     ]
    },
    {
     "name": "stdout",
     "output_type": "stream",
     "text": [
      "================\n",
      "Configuration:\n",
      "C: 0.8020516649975749\n",
      "Tolerance: 0.0001\n",
      "Solver: liblinear\n",
      "Oversampling Method: none\n",
      "----------------\n",
      "[LibLinear][LibLinear][LibLinear]Results: -0.8592749131482273\n",
      "================\n",
      "================\n",
      "Configuration:\n",
      "C: 0.001\n",
      "Tolerance: 0.1\n",
      "Solver: liblinear\n",
      "Oversampling Method: ada\n",
      "----------------\n",
      "[LibLinear][LibLinear][LibLinear]Results: -0.8170098089006542\n",
      "================\n",
      "================\n",
      "Configuration:\n",
      "C: 3.0\n",
      "Tolerance: 0.1\n",
      "Solver: newton-cholesky\n",
      "Oversampling Method: ada\n",
      "----------------\n",
      "Newton iter=1\n",
      "  Check Convergence\n",
      "    1. max |gradient| 0.0282594792077637 <= 0.1\n",
      "    2. Newton decrement 0.17219577724805477 <= 0.1\n",
      "Newton iter=2\n",
      "  Check Convergence\n",
      "    1. max |gradient| 0.005745313002866469 <= 0.1\n",
      "    2. Newton decrement 0.02233225734237848 <= 0.1\n",
      "  Solver did converge at loss = 0.4711304012041946.\n",
      "Newton iter=1\n",
      "  Check Convergence\n",
      "    1. max |gradient| 0.034200556483618964 <= 0.1\n",
      "    2. Newton decrement 0.18128099619944743 <= 0.1\n",
      "Newton iter=2\n",
      "  Check Convergence\n",
      "    1. max |gradient| 0.006606273317286807 <= 0.1\n",
      "    2. Newton decrement 0.021899980002729642 <= 0.1\n",
      "  Solver did converge at loss = 0.4622634190334925.\n"
     ]
    },
    {
     "name": "stderr",
     "output_type": "stream",
     "text": [
      "[Parallel(n_jobs=1)]: Using backend SequentialBackend with 1 concurrent workers.\n",
      "[Parallel(n_jobs=1)]: Done   1 out of   1 | elapsed:    0.0s finished\n",
      "[Parallel(n_jobs=1)]: Using backend SequentialBackend with 1 concurrent workers.\n",
      "[Parallel(n_jobs=1)]: Done   1 out of   1 | elapsed:    0.0s finished\n",
      "[Parallel(n_jobs=1)]: Using backend SequentialBackend with 1 concurrent workers.\n"
     ]
    },
    {
     "name": "stdout",
     "output_type": "stream",
     "text": [
      "Newton iter=1\n",
      "  Check Convergence\n",
      "    1. max |gradient| 0.0353459483597149 <= 0.1\n",
      "    2. Newton decrement 0.18284083738644571 <= 0.1\n",
      "Newton iter=2\n",
      "  Check Convergence\n",
      "    1. max |gradient| 0.0070394199718326915 <= 0.1\n",
      "    2. Newton decrement 0.023014054678116222 <= 0.1\n",
      "  Solver did converge at loss = 0.45858802575017527.\n",
      "Results: -0.8582021047103142\n",
      "================\n"
     ]
    },
    {
     "name": "stderr",
     "output_type": "stream",
     "text": [
      "[Parallel(n_jobs=1)]: Done   1 out of   1 | elapsed:    0.0s finished\n"
     ]
    },
    {
     "name": "stdout",
     "output_type": "stream",
     "text": [
      "================\n",
      "Configuration:\n",
      "C: 0.9343352315544424\n",
      "Tolerance: 0.0001\n",
      "Solver: liblinear\n",
      "Oversampling Method: none\n",
      "----------------\n",
      "[LibLinear][LibLinear][LibLinear]Results: -0.8593711194773205\n",
      "================\n",
      "================\n",
      "Configuration:\n",
      "C: 0.9635232572239248\n",
      "Tolerance: 0.0001\n",
      "Solver: liblinear\n",
      "Oversampling Method: none\n",
      "----------------\n",
      "[LibLinear][LibLinear][LibLinear]Results: -0.8593948130398985\n",
      "================\n",
      "================\n",
      "Configuration:\n",
      "C: 0.971010690074455\n",
      "Tolerance: 0.0001\n",
      "Solver: liblinear\n",
      "Oversampling Method: none\n",
      "----------------\n",
      "[LibLinear][LibLinear][LibLinear]Results: -0.8593985649523518\n",
      "================\n",
      "================\n",
      "Configuration:\n",
      "C: 0.9733841257814525\n",
      "Tolerance: 0.0001\n",
      "Solver: liblinear\n",
      "Oversampling Method: none\n",
      "----------------\n",
      "[LibLinear][LibLinear][LibLinear]Results: -0.8594008644189364\n",
      "================\n",
      "================\n",
      "Configuration:\n",
      "C: 0.9763569016111242\n",
      "Tolerance: 0.0001\n",
      "Solver: liblinear\n",
      "Oversampling Method: none\n",
      "----------------\n",
      "[LibLinear][LibLinear][LibLinear]Results: -0.8594016683472763\n",
      "================\n",
      "================\n",
      "Configuration:\n",
      "C: 0.976073456287264\n",
      "Tolerance: 0.0001\n",
      "Solver: liblinear\n",
      "Oversampling Method: none\n",
      "----------------\n",
      "[LibLinear][LibLinear][LibLinear]Results: -0.8594026416220779\n",
      "================\n",
      "================\n",
      "Configuration:\n",
      "C: 0.001\n",
      "Tolerance: 0.0001\n",
      "Solver: saga\n",
      "Oversampling Method: ada\n",
      "----------------\n"
     ]
    },
    {
     "name": "stderr",
     "output_type": "stream",
     "text": [
      "[Parallel(n_jobs=1)]: Using backend SequentialBackend with 1 concurrent workers.\n"
     ]
    },
    {
     "name": "stdout",
     "output_type": "stream",
     "text": [
      "convergence after 14 epochs took 0 seconds\n"
     ]
    },
    {
     "name": "stderr",
     "output_type": "stream",
     "text": [
      "[Parallel(n_jobs=1)]: Done   1 out of   1 | elapsed:    0.4s finished\n",
      "[Parallel(n_jobs=1)]: Using backend SequentialBackend with 1 concurrent workers.\n"
     ]
    },
    {
     "name": "stdout",
     "output_type": "stream",
     "text": [
      "convergence after 13 epochs took 1 seconds\n"
     ]
    },
    {
     "name": "stderr",
     "output_type": "stream",
     "text": [
      "[Parallel(n_jobs=1)]: Done   1 out of   1 | elapsed:    0.4s finished\n",
      "[Parallel(n_jobs=1)]: Using backend SequentialBackend with 1 concurrent workers.\n"
     ]
    },
    {
     "name": "stdout",
     "output_type": "stream",
     "text": [
      "convergence after 15 epochs took 0 seconds\n",
      "Results: -0.817268949549608\n",
      "================\n"
     ]
    },
    {
     "name": "stderr",
     "output_type": "stream",
     "text": [
      "[Parallel(n_jobs=1)]: Done   1 out of   1 | elapsed:    0.5s finished\n"
     ]
    },
    {
     "name": "stdout",
     "output_type": "stream",
     "text": [
      "================\n",
      "Configuration:\n",
      "C: 0.756455915192403\n",
      "Tolerance: 0.0001\n",
      "Solver: liblinear\n",
      "Oversampling Method: none\n",
      "----------------\n",
      "[LibLinear][LibLinear][LibLinear]Results: -0.8592312413973922\n",
      "================\n",
      "================\n",
      "Configuration:\n",
      "C: 0.7354506938440851\n",
      "Tolerance: 0.0001\n",
      "Solver: liblinear\n",
      "Oversampling Method: none\n",
      "----------------\n",
      "[LibLinear][LibLinear][LibLinear]Results: -0.8592074695321048\n",
      "================\n",
      "================\n",
      "Configuration:\n",
      "C: 0.7101143374578877\n",
      "Tolerance: 0.0001\n",
      "Solver: liblinear\n",
      "Oversampling Method: none\n",
      "----------------\n",
      "[LibLinear][LibLinear][LibLinear]Results: -0.859180098696435\n",
      "================\n",
      "================\n",
      "Configuration:\n",
      "C: 0.6947886389447043\n",
      "Tolerance: 0.0001\n",
      "Solver: liblinear\n",
      "Oversampling Method: none\n",
      "----------------\n",
      "[LibLinear][LibLinear][LibLinear]Results: -0.8591705257445684\n",
      "================\n",
      "================\n",
      "Configuration:\n",
      "C: 0.681871949512091\n",
      "Tolerance: 0.0001\n",
      "Solver: liblinear\n",
      "Oversampling Method: none\n",
      "----------------\n",
      "[LibLinear][LibLinear][LibLinear]Results: -0.8591516333331303\n",
      "================\n",
      "================\n",
      "Configuration:\n",
      "C: 0.6741607027729472\n",
      "Tolerance: 0.0001\n",
      "Solver: liblinear\n",
      "Oversampling Method: none\n",
      "----------------\n",
      "[LibLinear][LibLinear][LibLinear]Results: -0.8591409947153257\n",
      "================\n",
      "================\n",
      "Configuration:\n",
      "C: 0.6692783993352883\n",
      "Tolerance: 0.0001\n",
      "Solver: liblinear\n",
      "Oversampling Method: none\n",
      "----------------\n",
      "[LibLinear][LibLinear][LibLinear]Results: -0.8591363162235758\n",
      "================\n",
      "================\n",
      "Configuration:\n",
      "C: 0.6792039975878119\n",
      "Tolerance: 0.0001\n",
      "Solver: liblinear\n",
      "Oversampling Method: none\n",
      "----------------\n",
      "[LibLinear][LibLinear][LibLinear]Results: -0.8591480684258678\n",
      "================\n",
      "================\n",
      "Configuration:\n",
      "C: 0.6789832121699847\n",
      "Tolerance: 0.0001\n",
      "Solver: liblinear\n",
      "Oversampling Method: none\n",
      "----------------\n",
      "[LibLinear][LibLinear][LibLinear]Results: -0.8591425030025587\n",
      "================\n",
      "================\n",
      "Configuration:\n",
      "C: 0.6944642539731357\n",
      "Tolerance: 0.0001\n",
      "Solver: liblinear\n",
      "Oversampling Method: none\n",
      "----------------\n",
      "[LibLinear][LibLinear][LibLinear]Results: -0.8591657621567356\n",
      "================\n",
      "================\n",
      "Configuration:\n",
      "C: 0.6792323158757431\n",
      "Tolerance: 0.0001\n",
      "Solver: liblinear\n",
      "Oversampling Method: none\n",
      "----------------\n",
      "[LibLinear][LibLinear][LibLinear]Results: -0.8591518984671364\n",
      "================\n",
      "================\n",
      "Configuration:\n",
      "C: 0.5599702453525881\n",
      "Tolerance: 0.04019984954867758\n",
      "Solver: liblinear\n",
      "Oversampling Method: none\n",
      "----------------\n",
      "[LibLinear][LibLinear][LibLinear]Results: -0.8559436129213754\n",
      "================\n",
      "================\n",
      "Configuration:\n",
      "C: 1.5885282716937208\n",
      "Tolerance: 0.0001\n",
      "Solver: liblinear\n",
      "Oversampling Method: none\n",
      "----------------\n",
      "[LibLinear][LibLinear][LibLinear]Results: -0.859623734448622\n",
      "================\n",
      "================\n",
      "Configuration:\n",
      "C: 0.8618353640677813\n",
      "Tolerance: 0.0001\n",
      "Solver: newton-cholesky\n",
      "Oversampling Method: none\n",
      "----------------\n",
      "Newton iter=1\n",
      "  Check Convergence\n",
      "    1. max |gradient| 0.028093470347256327 <= 0.0001\n",
      "Newton iter=2\n",
      "  Check Convergence\n",
      "    1. max |gradient| 0.005575319475251528 <= 0.0001\n",
      "Newton iter=3\n",
      "  Check Convergence\n",
      "    1. max |gradient| 0.0012982293782497008 <= 0.0001\n",
      "Newton iter=4\n",
      "  Check Convergence\n",
      "    1. max |gradient| 0.00024676539597343256 <= 0.0001\n",
      "Newton iter=5\n",
      "  Check Convergence\n",
      "    1. max |gradient| 1.3416008679007838e-05 <= 0.0001\n",
      "    2. Newton decrement 2.490320492074258e-05 <= 0.0001\n",
      "  Solver did converge at loss = 0.4678965106306556.\n"
     ]
    },
    {
     "name": "stderr",
     "output_type": "stream",
     "text": [
      "[Parallel(n_jobs=1)]: Using backend SequentialBackend with 1 concurrent workers.\n",
      "[Parallel(n_jobs=1)]: Done   1 out of   1 | elapsed:    0.0s finished\n",
      "[Parallel(n_jobs=1)]: Using backend SequentialBackend with 1 concurrent workers.\n"
     ]
    },
    {
     "name": "stdout",
     "output_type": "stream",
     "text": [
      "Newton iter=1\n",
      "  Check Convergence\n",
      "    1. max |gradient| 0.03408486939906311 <= 0.0001\n",
      "Newton iter=2\n",
      "  Check Convergence\n",
      "    1. max |gradient| 0.006453891356952799 <= 0.0001\n",
      "Newton iter=3\n",
      "  Check Convergence\n",
      "    1. max |gradient| 0.0008516134631253808 <= 0.0001\n",
      "Newton iter=4\n",
      "  Check Convergence\n",
      "    1. max |gradient| 0.00010554096424895055 <= 0.0001\n",
      "Newton iter=5\n",
      "  Check Convergence\n",
      "    1. max |gradient| 3.660800864295835e-06 <= 0.0001\n",
      "    2. Newton decrement 6.76052960198966e-06 <= 0.0001\n",
      "  Solver did converge at loss = 0.46001466044470557.\n",
      "Newton iter=1\n",
      "  Check Convergence\n",
      "    1. max |gradient| 0.035235061087874435 <= 0.0001\n",
      "Newton iter=2\n",
      "  Check Convergence\n",
      "    1. max |gradient| 0.006907966881546188 <= 0.0001\n",
      "Newton iter=3\n",
      "  Check Convergence\n",
      "    1. max |gradient| 0.0009534558882150386 <= 0.0001\n",
      "Newton iter=4\n"
     ]
    },
    {
     "name": "stderr",
     "output_type": "stream",
     "text": [
      "[Parallel(n_jobs=1)]: Done   1 out of   1 | elapsed:    0.0s finished\n",
      "[Parallel(n_jobs=1)]: Using backend SequentialBackend with 1 concurrent workers.\n",
      "[Parallel(n_jobs=1)]: Done   1 out of   1 | elapsed:    0.0s finished\n"
     ]
    },
    {
     "name": "stdout",
     "output_type": "stream",
     "text": [
      "  Check Convergence\n",
      "    1. max |gradient| 0.00015048236654522976 <= 0.0001\n",
      "Newton iter=5\n",
      "  Check Convergence\n",
      "    1. max |gradient| 5.876627048853958e-06 <= 0.0001\n",
      "    2. Newton decrement 1.0373805010981094e-05 <= 0.0001\n",
      "  Solver did converge at loss = 0.45570935236873905.\n",
      "Results: -0.8594564674533943\n",
      "================\n",
      "================\n",
      "Configuration:\n",
      "C: 1.6864714668530227\n",
      "Tolerance: 0.03088315405821759\n",
      "Solver: saga\n",
      "Oversampling Method: none\n",
      "----------------\n"
     ]
    },
    {
     "name": "stderr",
     "output_type": "stream",
     "text": [
      "[Parallel(n_jobs=1)]: Using backend SequentialBackend with 1 concurrent workers.\n"
     ]
    },
    {
     "name": "stdout",
     "output_type": "stream",
     "text": [
      "convergence after 9 epochs took 1 seconds\n"
     ]
    },
    {
     "name": "stderr",
     "output_type": "stream",
     "text": [
      "[Parallel(n_jobs=1)]: Done   1 out of   1 | elapsed:    0.3s finished\n",
      "[Parallel(n_jobs=1)]: Using backend SequentialBackend with 1 concurrent workers.\n"
     ]
    },
    {
     "name": "stdout",
     "output_type": "stream",
     "text": [
      "convergence after 9 epochs took 0 seconds\n"
     ]
    },
    {
     "name": "stderr",
     "output_type": "stream",
     "text": [
      "[Parallel(n_jobs=1)]: Done   1 out of   1 | elapsed:    0.3s finished\n",
      "[Parallel(n_jobs=1)]: Using backend SequentialBackend with 1 concurrent workers.\n"
     ]
    },
    {
     "name": "stdout",
     "output_type": "stream",
     "text": [
      "convergence after 8 epochs took 1 seconds\n",
      "Results: -0.8584081708948021\n",
      "================\n"
     ]
    },
    {
     "name": "stderr",
     "output_type": "stream",
     "text": [
      "[Parallel(n_jobs=1)]: Done   1 out of   1 | elapsed:    0.2s finished\n"
     ]
    },
    {
     "name": "stdout",
     "output_type": "stream",
     "text": [
      "================\n",
      "Configuration:\n",
      "C: 3.0\n",
      "Tolerance: 0.1\n",
      "Solver: saga\n",
      "Oversampling Method: none\n",
      "----------------\n"
     ]
    },
    {
     "name": "stderr",
     "output_type": "stream",
     "text": [
      "[Parallel(n_jobs=1)]: Using backend SequentialBackend with 1 concurrent workers.\n",
      "[Parallel(n_jobs=1)]: Done   1 out of   1 | elapsed:    0.1s finished\n"
     ]
    },
    {
     "name": "stdout",
     "output_type": "stream",
     "text": [
      "convergence after 4 epochs took 0 seconds\n",
      "convergence after 3 epochs took 0 seconds\n"
     ]
    },
    {
     "name": "stderr",
     "output_type": "stream",
     "text": [
      "[Parallel(n_jobs=1)]: Using backend SequentialBackend with 1 concurrent workers.\n",
      "[Parallel(n_jobs=1)]: Done   1 out of   1 | elapsed:    0.0s finished\n",
      "[Parallel(n_jobs=1)]: Using backend SequentialBackend with 1 concurrent workers.\n"
     ]
    },
    {
     "name": "stdout",
     "output_type": "stream",
     "text": [
      "convergence after 3 epochs took 0 seconds\n",
      "Results: -0.8560807024550284\n",
      "================\n"
     ]
    },
    {
     "name": "stderr",
     "output_type": "stream",
     "text": [
      "[Parallel(n_jobs=1)]: Done   1 out of   1 | elapsed:    0.0s finished\n"
     ]
    },
    {
     "name": "stdout",
     "output_type": "stream",
     "text": [
      "================\n",
      "Configuration:\n",
      "C: 3.0\n",
      "Tolerance: 0.0001\n",
      "Solver: liblinear\n",
      "Oversampling Method: ada\n",
      "----------------\n",
      "[LibLinear][LibLinear][LibLinear]Results: -0.8597850520317684\n",
      "================\n",
      "================\n",
      "Configuration:\n",
      "C: 0.5487727702946997\n",
      "Tolerance: 0.0001\n",
      "Solver: liblinear\n",
      "Oversampling Method: ada\n",
      "----------------\n",
      "[LibLinear][LibLinear][LibLinear]Results: -0.8589435104749464\n",
      "================\n",
      "================\n",
      "Configuration:\n",
      "C: 2.7237969141498266\n",
      "Tolerance: 0.0001\n",
      "Solver: lbfgs\n",
      "Oversampling Method: none\n",
      "----------------\n"
     ]
    },
    {
     "name": "stderr",
     "output_type": "stream",
     "text": [
      "[Parallel(n_jobs=1)]: Using backend SequentialBackend with 1 concurrent workers.\n",
      "[Parallel(n_jobs=1)]: Done   1 out of   1 | elapsed:    0.3s finished\n",
      "[Parallel(n_jobs=1)]: Using backend SequentialBackend with 1 concurrent workers.\n",
      "[Parallel(n_jobs=1)]: Done   1 out of   1 | elapsed:    0.3s finished\n",
      "[Parallel(n_jobs=1)]: Using backend SequentialBackend with 1 concurrent workers.\n",
      "[Parallel(n_jobs=1)]: Done   1 out of   1 | elapsed:    0.2s finished\n"
     ]
    },
    {
     "name": "stdout",
     "output_type": "stream",
     "text": [
      "Results: -0.8598239162406606\n",
      "================\n",
      "================\n",
      "Configuration:\n",
      "C: 1.3124476187423166\n",
      "Tolerance: 0.0001\n",
      "Solver: lbfgs\n",
      "Oversampling Method: none\n",
      "----------------\n"
     ]
    },
    {
     "name": "stderr",
     "output_type": "stream",
     "text": [
      "[Parallel(n_jobs=1)]: Using backend SequentialBackend with 1 concurrent workers.\n",
      "[Parallel(n_jobs=1)]: Done   1 out of   1 | elapsed:    0.2s finished\n",
      "[Parallel(n_jobs=1)]: Using backend SequentialBackend with 1 concurrent workers.\n",
      "[Parallel(n_jobs=1)]: Done   1 out of   1 | elapsed:    0.3s finished\n",
      "[Parallel(n_jobs=1)]: Using backend SequentialBackend with 1 concurrent workers.\n",
      "[Parallel(n_jobs=1)]: Done   1 out of   1 | elapsed:    0.2s finished\n"
     ]
    },
    {
     "name": "stdout",
     "output_type": "stream",
     "text": [
      "Results: -0.859647702720817\n",
      "================\n",
      "================\n",
      "Configuration:\n",
      "C: 0.996527534083617\n",
      "Tolerance: 0.1\n",
      "Solver: sag\n",
      "Oversampling Method: ada\n",
      "----------------\n"
     ]
    },
    {
     "name": "stderr",
     "output_type": "stream",
     "text": [
      "[Parallel(n_jobs=1)]: Using backend SequentialBackend with 1 concurrent workers.\n",
      "[Parallel(n_jobs=1)]: Done   1 out of   1 | elapsed:    0.1s finished\n"
     ]
    },
    {
     "name": "stdout",
     "output_type": "stream",
     "text": [
      "convergence after 4 epochs took 0 seconds\n",
      "convergence after 4 epochs took 0 seconds\n"
     ]
    },
    {
     "name": "stderr",
     "output_type": "stream",
     "text": [
      "[Parallel(n_jobs=1)]: Using backend SequentialBackend with 1 concurrent workers.\n",
      "[Parallel(n_jobs=1)]: Done   1 out of   1 | elapsed:    0.1s finished\n",
      "[Parallel(n_jobs=1)]: Using backend SequentialBackend with 1 concurrent workers.\n",
      "[Parallel(n_jobs=1)]: Done   1 out of   1 | elapsed:    0.0s finished\n"
     ]
    },
    {
     "name": "stdout",
     "output_type": "stream",
     "text": [
      "convergence after 4 epochs took 0 seconds\n",
      "Results: -0.8581260255635588\n",
      "================\n",
      "================\n",
      "Configuration:\n",
      "C: 0.9711734008000397\n",
      "Tolerance: 0.0001\n",
      "Solver: liblinear\n",
      "Oversampling Method: ada\n",
      "----------------\n",
      "[LibLinear][LibLinear][LibLinear]Results: -0.8593995627717442\n",
      "================\n",
      "================\n",
      "Configuration:\n",
      "C: 0.9474493243420338\n",
      "Tolerance: 0.0001\n",
      "Solver: liblinear\n",
      "Oversampling Method: ada\n",
      "----------------\n",
      "[LibLinear][LibLinear][LibLinear]Results: -0.859383717501608\n",
      "================\n",
      "================\n",
      "Configuration:\n",
      "C: 0.9419232488015251\n",
      "Tolerance: 0.0001\n",
      "Solver: liblinear\n",
      "Oversampling Method: ada\n",
      "----------------\n",
      "[LibLinear][LibLinear][LibLinear]Results: -0.8593814261337537\n",
      "================\n",
      "================\n",
      "Configuration:\n",
      "C: 0.9181888836298475\n",
      "Tolerance: 0.0001\n",
      "Solver: liblinear\n",
      "Oversampling Method: ada\n",
      "----------------\n",
      "[LibLinear][LibLinear][LibLinear]Results: -0.859363511611203\n",
      "================\n",
      "================\n",
      "Configuration:\n",
      "C: 0.9396304037154151\n",
      "Tolerance: 0.0001\n",
      "Solver: liblinear\n",
      "Oversampling Method: ada\n",
      "----------------\n",
      "[LibLinear][LibLinear][LibLinear]Results: -0.8593774149547424\n",
      "================\n",
      "================\n",
      "Configuration:\n",
      "C: 0.9097582512327276\n",
      "Tolerance: 0.0001\n",
      "Solver: liblinear\n",
      "Oversampling Method: ada\n",
      "----------------\n",
      "[LibLinear][LibLinear][LibLinear]Results: -0.8593597187606408\n",
      "================\n",
      "================\n",
      "Configuration:\n",
      "C: 0.917581869030698\n",
      "Tolerance: 0.0001\n",
      "Solver: liblinear\n",
      "Oversampling Method: ada\n",
      "----------------\n",
      "[LibLinear][LibLinear][LibLinear]Results: -0.8593651123022571\n",
      "================\n",
      "================\n",
      "Configuration:\n",
      "C: 0.9525213811575719\n",
      "Tolerance: 0.0001\n",
      "Solver: liblinear\n",
      "Oversampling Method: ada\n",
      "----------------\n",
      "[LibLinear][LibLinear][LibLinear]Results: -0.8593876095649075\n",
      "================\n",
      "================\n",
      "Configuration:\n",
      "C: 0.9628113821242532\n",
      "Tolerance: 0.0001\n",
      "Solver: liblinear\n",
      "Oversampling Method: ada\n",
      "----------------\n",
      "[LibLinear][LibLinear][LibLinear]Results: -0.8593942942495305\n",
      "================\n",
      "================\n",
      "Configuration:\n",
      "C: 0.9401881998584245\n",
      "Tolerance: 0.0001\n",
      "Solver: liblinear\n",
      "Oversampling Method: ada\n",
      "----------------\n",
      "[LibLinear][LibLinear][LibLinear]Results: -0.8593795040710318\n",
      "================\n",
      "================\n",
      "Configuration:\n",
      "C: 0.9513180426700915\n",
      "Tolerance: 0.0001\n",
      "Solver: liblinear\n",
      "Oversampling Method: ada\n",
      "----------------\n",
      "[LibLinear][LibLinear][LibLinear]Results: -0.8593891542636336\n",
      "================\n",
      "================\n",
      "Configuration:\n",
      "C: 0.9529533743115921\n",
      "Tolerance: 0.0001\n",
      "Solver: liblinear\n",
      "Oversampling Method: ada\n",
      "----------------\n",
      "[LibLinear][LibLinear][LibLinear]Results: -0.8593867508507654\n",
      "================\n",
      "================\n",
      "Configuration:\n",
      "C: 0.9515743905347266\n",
      "Tolerance: 0.0001\n",
      "Solver: liblinear\n",
      "Oversampling Method: ada\n",
      "----------------\n",
      "[LibLinear][LibLinear][LibLinear]Results: -0.8593861782559303\n",
      "================\n",
      "================\n",
      "Configuration:\n",
      "C: 0.9402512847916681\n",
      "Tolerance: 0.0001\n",
      "Solver: liblinear\n",
      "Oversampling Method: ada\n",
      "----------------\n",
      "[LibLinear][LibLinear][LibLinear]Results: -0.8593792949285176\n",
      "================\n",
      "================\n",
      "Configuration:\n",
      "C: 0.9527224873329123\n",
      "Tolerance: 0.0001\n",
      "Solver: liblinear\n",
      "Oversampling Method: ada\n",
      "----------------\n",
      "[LibLinear][LibLinear][LibLinear]Results: -0.8593882031185585\n",
      "================\n",
      "================\n",
      "Configuration:\n",
      "C: 0.9545554866925875\n",
      "Tolerance: 0.0001\n",
      "Solver: liblinear\n",
      "Oversampling Method: ada\n",
      "----------------\n",
      "[LibLinear][LibLinear][LibLinear]Results: -0.8593887301163141\n",
      "================\n",
      "================\n",
      "Configuration:\n",
      "C: 1.3953570701803355\n",
      "Tolerance: 0.1\n",
      "Solver: liblinear\n",
      "Oversampling Method: none\n",
      "----------------\n",
      "[LibLinear][LibLinear][LibLinear]Results: -0.8438973510177846\n",
      "================\n",
      "================\n",
      "Configuration:\n",
      "C: 2.575194625067002\n",
      "Tolerance: 0.09639376508951547\n",
      "Solver: sag\n",
      "Oversampling Method: none\n",
      "----------------\n",
      "convergence after 5 epochs took 0 seconds\n"
     ]
    },
    {
     "name": "stderr",
     "output_type": "stream",
     "text": [
      "[Parallel(n_jobs=1)]: Using backend SequentialBackend with 1 concurrent workers.\n",
      "[Parallel(n_jobs=1)]: Done   1 out of   1 | elapsed:    0.0s finished\n",
      "[Parallel(n_jobs=1)]: Using backend SequentialBackend with 1 concurrent workers.\n"
     ]
    },
    {
     "name": "stdout",
     "output_type": "stream",
     "text": [
      "convergence after 5 epochs took 0 seconds\n"
     ]
    },
    {
     "name": "stderr",
     "output_type": "stream",
     "text": [
      "[Parallel(n_jobs=1)]: Done   1 out of   1 | elapsed:    0.1s finished\n",
      "[Parallel(n_jobs=1)]: Using backend SequentialBackend with 1 concurrent workers.\n"
     ]
    },
    {
     "name": "stdout",
     "output_type": "stream",
     "text": [
      "convergence after 5 epochs took 1 seconds\n",
      "Results: -0.8590957784903285\n",
      "================\n"
     ]
    },
    {
     "name": "stderr",
     "output_type": "stream",
     "text": [
      "[Parallel(n_jobs=1)]: Done   1 out of   1 | elapsed:    0.1s finished\n"
     ]
    },
    {
     "name": "stdout",
     "output_type": "stream",
     "text": [
      "================\n",
      "Configuration:\n",
      "C: 0.960867187692096\n",
      "Tolerance: 0.0001\n",
      "Solver: liblinear\n",
      "Oversampling Method: ada\n",
      "----------------\n",
      "[LibLinear][LibLinear][LibLinear]Results: -0.859391985433502\n",
      "================\n",
      "================\n",
      "Configuration:\n",
      "C: 2.0333054635843615\n",
      "Tolerance: 0.00019936757947543966\n",
      "Solver: sag\n",
      "Oversampling Method: none\n",
      "----------------\n"
     ]
    },
    {
     "name": "stderr",
     "output_type": "stream",
     "text": [
      "[Parallel(n_jobs=1)]: Using backend SequentialBackend with 1 concurrent workers.\n"
     ]
    },
    {
     "name": "stdout",
     "output_type": "stream",
     "text": [
      "convergence after 138 epochs took 4 seconds\n"
     ]
    },
    {
     "name": "stderr",
     "output_type": "stream",
     "text": [
      "[Parallel(n_jobs=1)]: Done   1 out of   1 | elapsed:    4.4s finished\n",
      "[Parallel(n_jobs=1)]: Using backend SequentialBackend with 1 concurrent workers.\n"
     ]
    },
    {
     "name": "stdout",
     "output_type": "stream",
     "text": [
      "max_iter reached after 7 seconds\n"
     ]
    },
    {
     "name": "stderr",
     "output_type": "stream",
     "text": [
      "C:\\Users\\Aaron\\AppData\\Roaming\\Python\\Python311\\site-packages\\sklearn\\linear_model\\_sag.py:350: ConvergenceWarning: The max_iter was reached which means the coef_ did not converge\n",
      "  warnings.warn(\n",
      "[Parallel(n_jobs=1)]: Done   1 out of   1 | elapsed:    7.0s finished\n",
      "[Parallel(n_jobs=1)]: Using backend SequentialBackend with 1 concurrent workers.\n"
     ]
    },
    {
     "name": "stdout",
     "output_type": "stream",
     "text": [
      "max_iter reached after 7 seconds\n",
      "Results: -0.8596919273988101\n",
      "================\n"
     ]
    },
    {
     "name": "stderr",
     "output_type": "stream",
     "text": [
      "C:\\Users\\Aaron\\AppData\\Roaming\\Python\\Python311\\site-packages\\sklearn\\linear_model\\_sag.py:350: ConvergenceWarning: The max_iter was reached which means the coef_ did not converge\n",
      "  warnings.warn(\n",
      "[Parallel(n_jobs=1)]: Done   1 out of   1 | elapsed:    6.8s finished\n"
     ]
    },
    {
     "name": "stdout",
     "output_type": "stream",
     "text": [
      "================\n",
      "Configuration:\n",
      "C: 0.9367870441083295\n",
      "Tolerance: 0.0001\n",
      "Solver: liblinear\n",
      "Oversampling Method: ada\n",
      "----------------\n",
      "[LibLinear][LibLinear][LibLinear]Results: -0.8593781311099349\n",
      "================\n",
      "================\n",
      "Configuration:\n",
      "C: 0.9807748664115162\n",
      "Tolerance: 0.0001\n",
      "Solver: liblinear\n",
      "Oversampling Method: ada\n",
      "----------------\n",
      "[LibLinear][LibLinear][LibLinear]Results: -0.8594035998238422\n",
      "================\n",
      "================\n",
      "Configuration:\n",
      "C: 0.4575739253775417\n",
      "Tolerance: 0.045803845646456044\n",
      "Solver: newton-cholesky\n",
      "Oversampling Method: none\n",
      "----------------\n",
      "Newton iter=1\n",
      "  Check Convergence\n",
      "    1. max |gradient| 0.027937742515540393 <= 0.045803845646456044\n",
      "    2. Newton decrement 0.1711237415755747 <= 0.045803845646456044\n",
      "Newton iter=2\n",
      "  Check Convergence\n",
      "    1. max |gradient| 0.005402649930909808 <= 0.045803845646456044\n",
      "    2. Newton decrement 0.02071251931061911 <= 0.045803845646456044\n",
      "  Solver did converge at loss = 0.47510647336078893.\n",
      "Newton iter=1\n",
      "  Check Convergence\n",
      "    1. max |gradient| 0.03395865802494336 <= 0.045803845646456044\n",
      "    2. Newton decrement 0.1804138701002305 <= 0.045803845646456044\n",
      "Newton iter=2\n",
      "  Check Convergence\n",
      "    1. max |gradient| 0.00629424470536869 <= 0.045803845646456044\n",
      "    2. Newton decrement 0.02042123514271906 <= 0.045803845646456044\n",
      "  Solver did converge at loss = 0.465748202920694.\n"
     ]
    },
    {
     "name": "stderr",
     "output_type": "stream",
     "text": [
      "[Parallel(n_jobs=1)]: Using backend SequentialBackend with 1 concurrent workers.\n",
      "[Parallel(n_jobs=1)]: Done   1 out of   1 | elapsed:    0.0s finished\n",
      "[Parallel(n_jobs=1)]: Using backend SequentialBackend with 1 concurrent workers.\n",
      "[Parallel(n_jobs=1)]: Done   1 out of   1 | elapsed:    0.0s finished\n",
      "[Parallel(n_jobs=1)]: Using backend SequentialBackend with 1 concurrent workers.\n",
      "[Parallel(n_jobs=1)]: Done   1 out of   1 | elapsed:    0.0s finished\n"
     ]
    },
    {
     "name": "stdout",
     "output_type": "stream",
     "text": [
      "Newton iter=1\n",
      "  Check Convergence\n",
      "    1. max |gradient| 0.03511198924719261 <= 0.045803845646456044\n",
      "    2. Newton decrement 0.18203456676105897 <= 0.045803845646456044\n",
      "Newton iter=2\n",
      "  Check Convergence\n",
      "    1. max |gradient| 0.006766301390810759 <= 0.045803845646456044\n",
      "    2. Newton decrement 0.021589607831786675 <= 0.045803845646456044\n",
      "  Solver did converge at loss = 0.4619240601118686.\n",
      "Results: -0.8577244273549461\n",
      "================\n",
      "================\n",
      "Configuration:\n",
      "C: 1.8881078774082976\n",
      "Tolerance: 0.0001\n",
      "Solver: lbfgs\n",
      "Oversampling Method: ada\n",
      "----------------\n"
     ]
    },
    {
     "name": "stderr",
     "output_type": "stream",
     "text": [
      "[Parallel(n_jobs=1)]: Using backend SequentialBackend with 1 concurrent workers.\n",
      "[Parallel(n_jobs=1)]: Done   1 out of   1 | elapsed:    0.3s finished\n",
      "[Parallel(n_jobs=1)]: Using backend SequentialBackend with 1 concurrent workers.\n",
      "[Parallel(n_jobs=1)]: Done   1 out of   1 | elapsed:    0.3s finished\n",
      "[Parallel(n_jobs=1)]: Using backend SequentialBackend with 1 concurrent workers.\n",
      "[Parallel(n_jobs=1)]: Done   1 out of   1 | elapsed:    0.3s finished\n"
     ]
    },
    {
     "name": "stdout",
     "output_type": "stream",
     "text": [
      "Results: -0.859834463200333\n",
      "================\n",
      "================\n",
      "Configuration:\n",
      "C: 0.9945175639050092\n",
      "Tolerance: 0.0001\n",
      "Solver: liblinear\n",
      "Oversampling Method: ada\n",
      "----------------\n",
      "[LibLinear][LibLinear][LibLinear]Results: -0.8594126692673996\n",
      "================\n",
      "================\n",
      "Configuration:\n",
      "C: 1.6636041273526558\n",
      "Tolerance: 0.0001\n",
      "Solver: liblinear\n",
      "Oversampling Method: none\n",
      "----------------\n",
      "[LibLinear][LibLinear][LibLinear]Results: -0.8596400287400566\n",
      "================\n",
      "================\n",
      "Configuration:\n",
      "C: 2.487206624038514\n",
      "Tolerance: 0.0005377975195587397\n",
      "Solver: liblinear\n",
      "Oversampling Method: none\n",
      "----------------\n",
      "[LibLinear][LibLinear][LibLinear]Results: -0.8597410045540519\n",
      "================\n",
      "================\n",
      "Configuration:\n",
      "C: 2.5732386401768736\n",
      "Tolerance: 0.053587543349112386\n",
      "Solver: sag\n",
      "Oversampling Method: none\n",
      "----------------\n"
     ]
    },
    {
     "name": "stderr",
     "output_type": "stream",
     "text": [
      "[Parallel(n_jobs=1)]: Using backend SequentialBackend with 1 concurrent workers.\n"
     ]
    },
    {
     "name": "stdout",
     "output_type": "stream",
     "text": [
      "convergence after 7 epochs took 1 seconds\n"
     ]
    },
    {
     "name": "stderr",
     "output_type": "stream",
     "text": [
      "[Parallel(n_jobs=1)]: Done   1 out of   1 | elapsed:    0.2s finished\n",
      "[Parallel(n_jobs=1)]: Using backend SequentialBackend with 1 concurrent workers.\n"
     ]
    },
    {
     "name": "stdout",
     "output_type": "stream",
     "text": [
      "convergence after 7 epochs took 0 seconds\n",
      "convergence after 6 epochs took 0 seconds\n"
     ]
    },
    {
     "name": "stderr",
     "output_type": "stream",
     "text": [
      "[Parallel(n_jobs=1)]: Done   1 out of   1 | elapsed:    0.2s finished\n",
      "[Parallel(n_jobs=1)]: Using backend SequentialBackend with 1 concurrent workers.\n",
      "[Parallel(n_jobs=1)]: Done   1 out of   1 | elapsed:    0.1s finished\n"
     ]
    },
    {
     "name": "stdout",
     "output_type": "stream",
     "text": [
      "Results: -0.8588977304161055\n",
      "================\n",
      "================\n",
      "Configuration:\n",
      "C: 1.4989237781971052\n",
      "Tolerance: 0.0001\n",
      "Solver: liblinear\n",
      "Oversampling Method: none\n",
      "----------------\n",
      "[LibLinear][LibLinear][LibLinear]Results: -0.8596036171928899\n",
      "================\n",
      "================\n",
      "Configuration:\n",
      "C: 1.0570539712573044\n",
      "Tolerance: 0.0001\n",
      "Solver: liblinear\n",
      "Oversampling Method: ada\n",
      "----------------\n",
      "[LibLinear][LibLinear][LibLinear]Results: -0.859444118038355\n",
      "================\n",
      "================\n",
      "Configuration:\n",
      "C: 2.4107663081250417\n",
      "Tolerance: 0.00019158264116331703\n",
      "Solver: newton-cg\n",
      "Oversampling Method: none\n",
      "----------------\n"
     ]
    },
    {
     "name": "stderr",
     "output_type": "stream",
     "text": [
      "[Parallel(n_jobs=1)]: Using backend SequentialBackend with 1 concurrent workers.\n",
      "[Parallel(n_jobs=1)]: Done   1 out of   1 | elapsed:    0.1s finished\n",
      "[Parallel(n_jobs=1)]: Using backend SequentialBackend with 1 concurrent workers.\n",
      "[Parallel(n_jobs=1)]: Done   1 out of   1 | elapsed:    0.1s finished\n",
      "[Parallel(n_jobs=1)]: Using backend SequentialBackend with 1 concurrent workers.\n",
      "[Parallel(n_jobs=1)]: Done   1 out of   1 | elapsed:    0.1s finished\n"
     ]
    },
    {
     "name": "stdout",
     "output_type": "stream",
     "text": [
      "Results: -0.8597071839017417\n",
      "================\n",
      "================\n",
      "Configuration:\n",
      "C: 0.6008124491602372\n",
      "Tolerance: 0.013982518865633611\n",
      "Solver: newton-cholesky\n",
      "Oversampling Method: ada\n",
      "----------------\n",
      "Newton iter=1\n",
      "  Check Convergence\n",
      "    1. max |gradient| 0.02801435919061516 <= 0.013982518865633611\n",
      "Newton iter=2\n",
      "  Check Convergence\n",
      "    1. max |gradient| 0.005487123818243116 <= 0.013982518865633611\n",
      "    2. Newton decrement 0.021105907576858922 <= 0.013982518865633611\n",
      "Newton iter=3\n",
      "  Check Convergence\n",
      "    1. max |gradient| 0.001159448678227203 <= 0.013982518865633611\n",
      "    2. Newton decrement 0.0036007447849752557 <= 0.013982518865633611\n",
      "  Solver did converge at loss = 0.4699601414209254.\n",
      "Newton iter=1\n",
      "  Check Convergence\n",
      "    1. max |gradient| 0.03402132428370019 <= 0.013982518865633611\n",
      "Newton iter=2\n"
     ]
    },
    {
     "name": "stderr",
     "output_type": "stream",
     "text": [
      "[Parallel(n_jobs=1)]: Using backend SequentialBackend with 1 concurrent workers.\n",
      "[Parallel(n_jobs=1)]: Done   1 out of   1 | elapsed:    0.0s finished\n",
      "[Parallel(n_jobs=1)]: Using backend SequentialBackend with 1 concurrent workers.\n",
      "[Parallel(n_jobs=1)]: Done   1 out of   1 | elapsed:    0.0s finished\n"
     ]
    },
    {
     "name": "stdout",
     "output_type": "stream",
     "text": [
      "  Check Convergence\n",
      "    1. max |gradient| 0.006372183180031367 <= 0.013982518865633611\n",
      "    2. Newton decrement 0.020782165704569117 <= 0.013982518865633611\n",
      "Newton iter=3\n",
      "  Check Convergence\n",
      "    1. max |gradient| 0.0007415480024984822 <= 0.013982518865633611\n",
      "    2. Newton decrement 0.002910165940448399 <= 0.013982518865633611\n",
      "  Solver did converge at loss = 0.46159457349071614.\n",
      "Newton iter=1\n",
      "  Check Convergence\n",
      "    1. max |gradient| 0.03517337839117928 <= 0.013982518865633611\n",
      "Newton iter=2\n",
      "  Check Convergence\n",
      "    1. max |gradient| 0.006836153999752152 <= 0.013982518865633611\n",
      "    2. Newton decrement 0.021945703923718793 <= 0.013982518865633611\n",
      "Newton iter=3\n",
      "  Check Convergence\n",
      "    1. max |gradient| 0.0008340476176301512 <= 0.013982518865633611\n",
      "    2. Newton decrement 0.0032714788034148797 <= 0.013982518865633611\n",
      "  Solver did converge at loss = 0.4573605354018444.\n",
      "Results: -0.8590003226641901\n",
      "================\n"
     ]
    },
    {
     "name": "stderr",
     "output_type": "stream",
     "text": [
      "[Parallel(n_jobs=1)]: Using backend SequentialBackend with 1 concurrent workers.\n",
      "[Parallel(n_jobs=1)]: Done   1 out of   1 | elapsed:    0.0s finished\n"
     ]
    },
    {
     "name": "stdout",
     "output_type": "stream",
     "text": [
      "================\n",
      "Configuration:\n",
      "C: 1.3773171511545415\n",
      "Tolerance: 0.1\n",
      "Solver: sag\n",
      "Oversampling Method: ada\n",
      "----------------\n"
     ]
    },
    {
     "name": "stderr",
     "output_type": "stream",
     "text": [
      "[Parallel(n_jobs=1)]: Using backend SequentialBackend with 1 concurrent workers.\n"
     ]
    },
    {
     "name": "stdout",
     "output_type": "stream",
     "text": [
      "convergence after 5 epochs took 0 seconds\n"
     ]
    },
    {
     "name": "stderr",
     "output_type": "stream",
     "text": [
      "[Parallel(n_jobs=1)]: Done   1 out of   1 | elapsed:    0.1s finished\n",
      "[Parallel(n_jobs=1)]: Using backend SequentialBackend with 1 concurrent workers.\n"
     ]
    },
    {
     "name": "stdout",
     "output_type": "stream",
     "text": [
      "convergence after 4 epochs took 0 seconds\n"
     ]
    },
    {
     "name": "stderr",
     "output_type": "stream",
     "text": [
      "[Parallel(n_jobs=1)]: Done   1 out of   1 | elapsed:    0.1s finished\n",
      "[Parallel(n_jobs=1)]: Using backend SequentialBackend with 1 concurrent workers.\n"
     ]
    },
    {
     "name": "stdout",
     "output_type": "stream",
     "text": [
      "convergence after 5 epochs took 0 seconds\n",
      "Results: -0.8583180979640526\n",
      "================\n"
     ]
    },
    {
     "name": "stderr",
     "output_type": "stream",
     "text": [
      "[Parallel(n_jobs=1)]: Done   1 out of   1 | elapsed:    0.1s finished\n"
     ]
    },
    {
     "name": "stdout",
     "output_type": "stream",
     "text": [
      "================\n",
      "Configuration:\n",
      "C: 1.5124328461277585\n",
      "Tolerance: 0.07220362802489357\n",
      "Solver: newton-cholesky\n",
      "Oversampling Method: none\n",
      "----------------\n",
      "Newton iter=1\n",
      "  Check Convergence\n",
      "    1. max |gradient| 0.028182116746513892 <= 0.07220362802489357\n",
      "    2. Newton decrement 0.17196341896630535 <= 0.07220362802489357\n",
      "Newton iter=2\n",
      "  Check Convergence\n",
      "    1. max |gradient| 0.00567148650527187 <= 0.07220362802489357\n",
      "    2. Newton decrement 0.02198090076148533 <= 0.07220362802489357\n",
      "  Solver did converge at loss = 0.4719948565846395.\n",
      "Newton iter=1\n",
      "  Check Convergence\n",
      "    1. max |gradient| 0.034151788095193494 <= 0.07220362802489357\n",
      "    2. Newton decrement 0.1811083741848138 <= 0.07220362802489357\n",
      "Newton iter=2\n",
      "  Check Convergence\n",
      "    1. max |gradient| 0.006542265375829233 <= 0.07220362802489357\n",
      "    2. Newton decrement 0.021586739269691606 <= 0.07220362802489357\n",
      "  Solver did converge at loss = 0.46299339566154724.\n"
     ]
    },
    {
     "name": "stderr",
     "output_type": "stream",
     "text": [
      "[Parallel(n_jobs=1)]: Using backend SequentialBackend with 1 concurrent workers.\n",
      "[Parallel(n_jobs=1)]: Done   1 out of   1 | elapsed:    0.0s finished\n",
      "[Parallel(n_jobs=1)]: Using backend SequentialBackend with 1 concurrent workers.\n",
      "[Parallel(n_jobs=1)]: Done   1 out of   1 | elapsed:    0.0s finished\n",
      "[Parallel(n_jobs=1)]: Using backend SequentialBackend with 1 concurrent workers.\n"
     ]
    },
    {
     "name": "stdout",
     "output_type": "stream",
     "text": [
      "Newton iter=1\n",
      "  Check Convergence\n",
      "    1. max |gradient| 0.03529942851449563 <= 0.07220362802489357\n",
      "    2. Newton decrement 0.1826885626050362 <= 0.07220362802489357\n",
      "Newton iter=2\n",
      "  Check Convergence\n",
      "    1. max |gradient| 0.00698427090792274 <= 0.07220362802489357\n",
      "    2. Newton decrement 0.022721215650527392 <= 0.07220362802489357\n",
      "  Solver did converge at loss = 0.45926216662195907.\n",
      "Results: -0.8581219116984568\n",
      "================\n"
     ]
    },
    {
     "name": "stderr",
     "output_type": "stream",
     "text": [
      "[Parallel(n_jobs=1)]: Done   1 out of   1 | elapsed:    0.0s finished\n"
     ]
    },
    {
     "name": "stdout",
     "output_type": "stream",
     "text": [
      "================\n",
      "Configuration:\n",
      "C: 0.8372126535868\n",
      "Tolerance: 0.0001\n",
      "Solver: newton-cg\n",
      "Oversampling Method: ada\n",
      "----------------\n"
     ]
    },
    {
     "name": "stderr",
     "output_type": "stream",
     "text": [
      "[Parallel(n_jobs=1)]: Using backend SequentialBackend with 1 concurrent workers.\n",
      "[Parallel(n_jobs=1)]: Done   1 out of   1 | elapsed:    0.1s finished\n",
      "[Parallel(n_jobs=1)]: Using backend SequentialBackend with 1 concurrent workers.\n",
      "[Parallel(n_jobs=1)]: Done   1 out of   1 | elapsed:    0.1s finished\n",
      "[Parallel(n_jobs=1)]: Using backend SequentialBackend with 1 concurrent workers.\n",
      "[Parallel(n_jobs=1)]: Done   1 out of   1 | elapsed:    0.1s finished\n"
     ]
    },
    {
     "name": "stdout",
     "output_type": "stream",
     "text": [
      "Results: -0.8594585432378185\n",
      "================\n",
      "================\n",
      "Configuration:\n",
      "C: 2.1866415168512177\n",
      "Tolerance: 0.0001\n",
      "Solver: newton-cg\n",
      "Oversampling Method: ada\n",
      "----------------\n"
     ]
    },
    {
     "name": "stderr",
     "output_type": "stream",
     "text": [
      "[Parallel(n_jobs=1)]: Using backend SequentialBackend with 1 concurrent workers.\n",
      "[Parallel(n_jobs=1)]: Done   1 out of   1 | elapsed:    0.1s finished\n",
      "[Parallel(n_jobs=1)]: Using backend SequentialBackend with 1 concurrent workers.\n",
      "[Parallel(n_jobs=1)]: Done   1 out of   1 | elapsed:    0.1s finished\n",
      "[Parallel(n_jobs=1)]: Using backend SequentialBackend with 1 concurrent workers.\n",
      "[Parallel(n_jobs=1)]: Done   1 out of   1 | elapsed:    0.1s finished\n"
     ]
    },
    {
     "name": "stdout",
     "output_type": "stream",
     "text": [
      "Results: -0.8597146094012874\n",
      "================\n",
      "================\n",
      "Configuration:\n",
      "C: 1.0741672520848813\n",
      "Tolerance: 0.0001\n",
      "Solver: sag\n",
      "Oversampling Method: ada\n",
      "----------------\n"
     ]
    },
    {
     "name": "stderr",
     "output_type": "stream",
     "text": [
      "[Parallel(n_jobs=1)]: Using backend SequentialBackend with 1 concurrent workers.\n"
     ]
    },
    {
     "name": "stdout",
     "output_type": "stream",
     "text": [
      "convergence after 136 epochs took 5 seconds\n"
     ]
    },
    {
     "name": "stderr",
     "output_type": "stream",
     "text": [
      "[Parallel(n_jobs=1)]: Done   1 out of   1 | elapsed:    4.6s finished\n",
      "[Parallel(n_jobs=1)]: Using backend SequentialBackend with 1 concurrent workers.\n"
     ]
    },
    {
     "name": "stdout",
     "output_type": "stream",
     "text": [
      "convergence after 166 epochs took 6 seconds\n"
     ]
    },
    {
     "name": "stderr",
     "output_type": "stream",
     "text": [
      "[Parallel(n_jobs=1)]: Done   1 out of   1 | elapsed:    5.5s finished\n",
      "[Parallel(n_jobs=1)]: Using backend SequentialBackend with 1 concurrent workers.\n"
     ]
    },
    {
     "name": "stdout",
     "output_type": "stream",
     "text": [
      "convergence after 168 epochs took 5 seconds\n",
      "Results: -0.8595383629990622\n",
      "================\n"
     ]
    },
    {
     "name": "stderr",
     "output_type": "stream",
     "text": [
      "[Parallel(n_jobs=1)]: Done   1 out of   1 | elapsed:    5.5s finished\n"
     ]
    },
    {
     "name": "stdout",
     "output_type": "stream",
     "text": [
      "================\n",
      "Configuration:\n",
      "C: 0.82065201389921\n",
      "Tolerance: 0.0001\n",
      "Solver: lbfgs\n",
      "Oversampling Method: ada\n",
      "----------------\n"
     ]
    },
    {
     "name": "stderr",
     "output_type": "stream",
     "text": [
      "[Parallel(n_jobs=1)]: Using backend SequentialBackend with 1 concurrent workers.\n",
      "[Parallel(n_jobs=1)]: Done   1 out of   1 | elapsed:    0.2s finished\n",
      "[Parallel(n_jobs=1)]: Using backend SequentialBackend with 1 concurrent workers.\n",
      "[Parallel(n_jobs=1)]: Done   1 out of   1 | elapsed:    0.3s finished\n",
      "[Parallel(n_jobs=1)]: Using backend SequentialBackend with 1 concurrent workers.\n",
      "[Parallel(n_jobs=1)]: Done   1 out of   1 | elapsed:    0.3s finished\n"
     ]
    },
    {
     "name": "stdout",
     "output_type": "stream",
     "text": [
      "Results: -0.8594701116285788\n",
      "================\n",
      "================\n",
      "Configuration:\n",
      "C: 0.6833199863344706\n",
      "Tolerance: 0.0001\n",
      "Solver: liblinear\n",
      "Oversampling Method: none\n",
      "----------------\n",
      "[LibLinear][LibLinear][LibLinear]Results: -0.8591545345325263\n",
      "================\n",
      "================\n",
      "Configuration:\n",
      "C: 0.9186155968315584\n",
      "Tolerance: 0.027253919063523275\n",
      "Solver: lbfgs\n",
      "Oversampling Method: ada\n",
      "----------------\n"
     ]
    },
    {
     "name": "stderr",
     "output_type": "stream",
     "text": [
      "[Parallel(n_jobs=1)]: Using backend SequentialBackend with 1 concurrent workers.\n",
      "[Parallel(n_jobs=1)]: Done   1 out of   1 | elapsed:    0.0s finished\n",
      "[Parallel(n_jobs=1)]: Using backend SequentialBackend with 1 concurrent workers.\n",
      "[Parallel(n_jobs=1)]: Done   1 out of   1 | elapsed:    0.0s finished\n",
      "[Parallel(n_jobs=1)]: Using backend SequentialBackend with 1 concurrent workers.\n",
      "[Parallel(n_jobs=1)]: Done   1 out of   1 | elapsed:    0.0s finished\n"
     ]
    },
    {
     "name": "stdout",
     "output_type": "stream",
     "text": [
      "Results: -0.8003930859589982\n",
      "================\n",
      "================\n",
      "Configuration:\n",
      "C: 1.5655277323004886\n",
      "Tolerance: 0.0996006313907758\n",
      "Solver: newton-cg\n",
      "Oversampling Method: none\n",
      "----------------\n"
     ]
    },
    {
     "name": "stderr",
     "output_type": "stream",
     "text": [
      "[Parallel(n_jobs=1)]: Using backend SequentialBackend with 1 concurrent workers.\n",
      "[Parallel(n_jobs=1)]: Done   1 out of   1 | elapsed:    0.0s finished\n",
      "[Parallel(n_jobs=1)]: Using backend SequentialBackend with 1 concurrent workers.\n",
      "[Parallel(n_jobs=1)]: Done   1 out of   1 | elapsed:    0.0s finished\n",
      "[Parallel(n_jobs=1)]: Using backend SequentialBackend with 1 concurrent workers.\n",
      "[Parallel(n_jobs=1)]: Done   1 out of   1 | elapsed:    0.0s finished\n"
     ]
    },
    {
     "name": "stdout",
     "output_type": "stream",
     "text": [
      "Results: -0.7742785017737589\n",
      "================\n",
      "================\n",
      "Configuration:\n",
      "C: 0.005033976310483432\n",
      "Tolerance: 0.05036773914571131\n",
      "Solver: liblinear\n",
      "Oversampling Method: none\n",
      "----------------\n",
      "[LibLinear][LibLinear][LibLinear]Results: -0.832222368854436\n",
      "================\n",
      "================\n",
      "Configuration:\n",
      "C: 0.8338272500870271\n",
      "Tolerance: 0.017290461726975407\n",
      "Solver: newton-cholesky\n",
      "Oversampling Method: none\n",
      "----------------\n",
      "Newton iter=1\n",
      "  Check Convergence\n",
      "    1. max |gradient| 0.028087101743778164 <= 0.017290461726975407\n",
      "Newton iter=2\n",
      "  Check Convergence\n",
      "    1. max |gradient| 0.005568231421154288 <= 0.017290461726975407\n",
      "    2. Newton decrement 0.021487545195834387 <= 0.017290461726975407\n",
      "Newton iter=3\n",
      "  Check Convergence\n",
      "    1. max |gradient| 0.0012865570984047848 <= 0.017290461726975407\n",
      "    2. Newton decrement 0.003905477678201965 <= 0.017290461726975407\n",
      "  Solver did converge at loss = 0.4686237453859911.\n",
      "Newton iter=1\n"
     ]
    },
    {
     "name": "stderr",
     "output_type": "stream",
     "text": [
      "[Parallel(n_jobs=1)]: Using backend SequentialBackend with 1 concurrent workers.\n",
      "[Parallel(n_jobs=1)]: Done   1 out of   1 | elapsed:    0.0s finished\n",
      "[Parallel(n_jobs=1)]: Using backend SequentialBackend with 1 concurrent workers.\n"
     ]
    },
    {
     "name": "stdout",
     "output_type": "stream",
     "text": [
      "  Check Convergence\n",
      "    1. max |gradient| 0.034079835841516914 <= 0.017290461726975407\n",
      "Newton iter=2\n",
      "  Check Convergence\n",
      "    1. max |gradient| 0.006447326358545015 <= 0.017290461726975407\n",
      "    2. Newton decrement 0.021133988922696998 <= 0.017290461726975407\n",
      "Newton iter=3\n",
      "  Check Convergence\n",
      "    1. max |gradient| 0.0008421943474404911 <= 0.017290461726975407\n",
      "    2. Newton decrement 0.0031689667272129574 <= 0.017290461726975407\n",
      "  Solver did converge at loss = 0.4604304985227951.\n",
      "Newton iter=1\n",
      "  Check Convergence\n",
      "    1. max |gradient| 0.03523019576938841 <= 0.017290461726975407\n",
      "Newton iter=2\n",
      "  Check Convergence\n",
      "    1. max |gradient| 0.006902247612281692 <= 0.017290461726975407\n",
      "    2. Newton decrement 0.022288204980402772 <= 0.017290461726975407\n",
      "Newton iter=3\n",
      "  Check Convergence\n",
      "    1. max |gradient| 0.0009432842339071455 <= 0.017290461726975407\n",
      "    2. Newton decrement 0.003544845967228338 <= 0.017290461726975407\n",
      "  Solver did converge at loss = 0.4562002440971038.\n",
      "Results: -0.859149244748593\n",
      "================\n"
     ]
    },
    {
     "name": "stderr",
     "output_type": "stream",
     "text": [
      "[Parallel(n_jobs=1)]: Done   1 out of   1 | elapsed:    0.0s finished\n",
      "[Parallel(n_jobs=1)]: Using backend SequentialBackend with 1 concurrent workers.\n",
      "[Parallel(n_jobs=1)]: Done   1 out of   1 | elapsed:    0.0s finished\n"
     ]
    },
    {
     "name": "stdout",
     "output_type": "stream",
     "text": [
      "================\n",
      "Configuration:\n",
      "C: 1.0042721517511382\n",
      "Tolerance: 0.02309854121341481\n",
      "Solver: liblinear\n",
      "Oversampling Method: ada\n",
      "----------------\n",
      "[LibLinear][LibLinear][LibLinear]Results: -0.8587639861177849\n",
      "================\n",
      "================\n",
      "Configuration:\n",
      "C: 1.681996210745451\n",
      "Tolerance: 0.0001\n",
      "Solver: lbfgs\n",
      "Oversampling Method: none\n",
      "----------------\n"
     ]
    },
    {
     "name": "stderr",
     "output_type": "stream",
     "text": [
      "[Parallel(n_jobs=1)]: Using backend SequentialBackend with 1 concurrent workers.\n",
      "[Parallel(n_jobs=1)]: Done   1 out of   1 | elapsed:    0.2s finished\n",
      "[Parallel(n_jobs=1)]: Using backend SequentialBackend with 1 concurrent workers.\n",
      "[Parallel(n_jobs=1)]: Done   1 out of   1 | elapsed:    0.3s finished\n",
      "[Parallel(n_jobs=1)]: Using backend SequentialBackend with 1 concurrent workers.\n",
      "[Parallel(n_jobs=1)]: Done   1 out of   1 | elapsed:    0.4s finished\n"
     ]
    },
    {
     "name": "stdout",
     "output_type": "stream",
     "text": [
      "Results: -0.8596204101838841\n",
      "================\n",
      "================\n",
      "Configuration:\n",
      "C: 2.8107399908683184\n",
      "Tolerance: 0.0001\n",
      "Solver: newton-cholesky\n",
      "Oversampling Method: none\n",
      "----------------\n",
      "Newton iter=1\n",
      "  Check Convergence\n",
      "    1. max |gradient| 0.028252874743096634 <= 0.0001\n",
      "Newton iter=2\n",
      "  Check Convergence\n",
      "    1. max |gradient| 0.005739573242931271 <= 0.0001\n",
      "Newton iter=3\n",
      "  Check Convergence\n",
      "    1. max |gradient| 0.0015914894739712756 <= 0.0001\n",
      "Newton iter=4\n",
      "  Check Convergence\n",
      "    1. max |gradient| 0.00047181469879718394 <= 0.0001\n",
      "Newton iter=5\n",
      "  Check Convergence\n",
      "    1. max |gradient| 8.357590852712052e-05 <= 0.0001\n",
      "    2. Newton decrement 0.00013689650074982725 <= 0.0001\n",
      "Newton iter=6\n",
      "  Check Convergence\n",
      "    1. max |gradient| 5.044720164798511e-06 <= 0.0001\n",
      "    2. Newton decrement 6.66361027557927e-06 <= 0.0001\n",
      "  Solver did converge at loss = 0.46437701437506484.\n"
     ]
    },
    {
     "name": "stderr",
     "output_type": "stream",
     "text": [
      "[Parallel(n_jobs=1)]: Using backend SequentialBackend with 1 concurrent workers.\n",
      "[Parallel(n_jobs=1)]: Done   1 out of   1 | elapsed:    0.0s finished\n",
      "[Parallel(n_jobs=1)]: Using backend SequentialBackend with 1 concurrent workers.\n"
     ]
    },
    {
     "name": "stdout",
     "output_type": "stream",
     "text": [
      "Newton iter=1\n",
      "  Check Convergence\n",
      "    1. max |gradient| 0.034196930785866775 <= 0.0001\n",
      "Newton iter=2\n",
      "  Check Convergence\n",
      "    1. max |gradient| 0.0066016266142003045 <= 0.0001\n",
      "Newton iter=3\n",
      "  Check Convergence\n",
      "    1. max |gradient| 0.0010951970906055996 <= 0.0001\n",
      "Newton iter=4\n",
      "  Check Convergence\n",
      "    1. max |gradient| 0.0002779499769603559 <= 0.0001\n",
      "Newton iter=5\n",
      "  Check Convergence\n",
      "    1. max |gradient| 4.5857665334636186e-05 <= 0.0001\n",
      "    2. Newton decrement 6.547033670951381e-05 <= 0.0001\n",
      "  Solver did converge at loss = 0.45709283830974573.\n",
      "Newton iter=1\n"
     ]
    },
    {
     "name": "stderr",
     "output_type": "stream",
     "text": [
      "[Parallel(n_jobs=1)]: Done   1 out of   1 | elapsed:    0.0s finished\n",
      "[Parallel(n_jobs=1)]: Using backend SequentialBackend with 1 concurrent workers.\n",
      "[Parallel(n_jobs=1)]: Done   1 out of   1 | elapsed:    0.0s finished\n"
     ]
    },
    {
     "name": "stdout",
     "output_type": "stream",
     "text": [
      "  Check Convergence\n",
      "    1. max |gradient| 0.03534251050394961 <= 0.0001\n",
      "Newton iter=2\n",
      "  Check Convergence\n",
      "    1. max |gradient| 0.007035374760712423 <= 0.0001\n",
      "Newton iter=3\n",
      "  Check Convergence\n",
      "    1. max |gradient| 0.0012140072301140572 <= 0.0001\n",
      "Newton iter=4\n",
      "  Check Convergence\n",
      "    1. max |gradient| 0.0003261407441548271 <= 0.0001\n",
      "Newton iter=5\n",
      "  Check Convergence\n",
      "    1. max |gradient| 5.8357859143817054e-05 <= 0.0001\n",
      "    2. Newton decrement 8.411940673841366e-05 <= 0.0001\n",
      "  Solver did converge at loss = 0.45279780875284115.\n",
      "Results: -0.859730554857132\n",
      "================\n",
      "================\n",
      "Configuration:\n",
      "C: 2.5817445812487714\n",
      "Tolerance: 0.044461235942600166\n",
      "Solver: liblinear\n",
      "Oversampling Method: none\n",
      "----------------\n",
      "[LibLinear][LibLinear][LibLinear]Results: -0.8560292107357356\n",
      "================\n",
      "================\n",
      "Configuration:\n",
      "C: 2.7148282061544053\n",
      "Tolerance: 0.1\n",
      "Solver: newton-cholesky\n",
      "Oversampling Method: ada\n",
      "----------------\n",
      "Newton iter=1\n",
      "  Check Convergence\n",
      "    1. max |gradient| 0.0282493137249301 <= 0.1\n",
      "    2. Newton decrement 0.17216752410063724 <= 0.1\n",
      "Newton iter=2\n",
      "  Check Convergence\n",
      "    1. max |gradient| 0.005736434069993909 <= 0.1\n",
      "    2. Newton decrement 0.02229109361094172 <= 0.1\n",
      "  Solver did converge at loss = 0.4712329240674427.\n",
      "Newton iter=1\n",
      "  Check Convergence\n",
      "    1. max |gradient| 0.034194929915017554 <= 0.1\n",
      "    2. Newton decrement 0.18126124687158884 <= 0.1\n",
      "Newton iter=2\n"
     ]
    },
    {
     "name": "stderr",
     "output_type": "stream",
     "text": [
      "[Parallel(n_jobs=1)]: Using backend SequentialBackend with 1 concurrent workers.\n",
      "[Parallel(n_jobs=1)]: Done   1 out of   1 | elapsed:    0.0s finished\n",
      "[Parallel(n_jobs=1)]: Using backend SequentialBackend with 1 concurrent workers.\n",
      "[Parallel(n_jobs=1)]: Done   1 out of   1 | elapsed:    0.0s finished\n"
     ]
    },
    {
     "name": "stdout",
     "output_type": "stream",
     "text": [
      "  Check Convergence\n",
      "    1. max |gradient| 0.006599049620282182 <= 0.1\n",
      "    2. Newton decrement 0.021864205401768477 <= 0.1\n",
      "  Solver did converge at loss = 0.46234701773099957.\n",
      "Newton iter=1\n",
      "  Check Convergence\n",
      "    1. max |gradient| 0.035340610872422136 <= 0.1\n",
      "    2. Newton decrement 0.18282406682056182 <= 0.1\n",
      "Newton iter=2\n",
      "  Check Convergence\n",
      "    1. max |gradient| 0.007033136858187317 <= 0.1\n",
      "    2. Newton decrement 0.02298102933935031 <= 0.1\n",
      "  Solver did converge at loss = 0.4586636785512567.\n",
      "Results: -0.8581924952237303\n",
      "================\n"
     ]
    },
    {
     "name": "stderr",
     "output_type": "stream",
     "text": [
      "[Parallel(n_jobs=1)]: Using backend SequentialBackend with 1 concurrent workers.\n",
      "[Parallel(n_jobs=1)]: Done   1 out of   1 | elapsed:    0.0s finished\n"
     ]
    },
    {
     "name": "stdout",
     "output_type": "stream",
     "text": [
      "================\n",
      "Configuration:\n",
      "C: 2.8387676614188284\n",
      "Tolerance: 0.1\n",
      "Solver: newton-cholesky\n",
      "Oversampling Method: ada\n",
      "----------------\n",
      "Newton iter=1\n",
      "  Check Convergence\n",
      "    1. max |gradient| 0.028253886809540274 <= 0.1\n",
      "    2. Newton decrement 0.17218033388586518 <= 0.1\n",
      "Newton iter=2\n",
      "  Check Convergence\n",
      "    1. max |gradient| 0.005740459688570517 <= 0.1\n",
      "    2. Newton decrement 0.02230983085477067 <= 0.1\n",
      "  Solver did converge at loss = 0.4711863169870763.\n",
      "Newton iter=1\n",
      "  Check Convergence\n",
      "    1. max |gradient| 0.03419749358837984 <= 0.1\n",
      "    2. Newton decrement 0.1812702555769639 <= 0.1\n",
      "Newton iter=2\n",
      "  Check Convergence\n",
      "    1. max |gradient| 0.006602349898952437 <= 0.1\n",
      "    2. Newton decrement 0.021880535235720533 <= 0.1\n",
      "  Solver did converge at loss = 0.46230887132680815.\n"
     ]
    },
    {
     "name": "stderr",
     "output_type": "stream",
     "text": [
      "[Parallel(n_jobs=1)]: Using backend SequentialBackend with 1 concurrent workers.\n",
      "[Parallel(n_jobs=1)]: Done   1 out of   1 | elapsed:    0.0s finished\n",
      "[Parallel(n_jobs=1)]: Using backend SequentialBackend with 1 concurrent workers.\n",
      "[Parallel(n_jobs=1)]: Done   1 out of   1 | elapsed:    0.0s finished\n",
      "[Parallel(n_jobs=1)]: Using backend SequentialBackend with 1 concurrent workers.\n",
      "[Parallel(n_jobs=1)]: Done   1 out of   1 | elapsed:    0.0s finished\n"
     ]
    },
    {
     "name": "stdout",
     "output_type": "stream",
     "text": [
      "Newton iter=1\n",
      "  Check Convergence\n",
      "    1. max |gradient| 0.03534304453650105 <= 0.1\n",
      "    2. Newton decrement 0.18283174673830857 <= 0.1\n",
      "Newton iter=2\n",
      "  Check Convergence\n",
      "    1. max |gradient| 0.007036003543387163 <= 0.1\n",
      "    2. Newton decrement 0.022996122780713456 <= 0.1\n",
      "  Solver did converge at loss = 0.4586290872386132.\n",
      "Results: -0.8581969844799829\n",
      "================\n",
      "================\n",
      "Configuration:\n",
      "C: 2.6409614568912905\n",
      "Tolerance: 0.1\n",
      "Solver: newton-cholesky\n",
      "Oversampling Method: ada\n",
      "----------------\n",
      "Newton iter=1\n",
      "  Check Convergence\n",
      "    1. max |gradient| 0.028246461322579523 <= 0.1\n",
      "    2. Newton decrement 0.17215945321037923 <= 0.1\n",
      "Newton iter=2\n",
      "  Check Convergence\n",
      "    1. max |gradient| 0.005733896710175121 <= 0.1\n",
      "    2. Newton decrement 0.022279227429889865 <= 0.1\n",
      "  Solver did converge at loss = 0.4712623907238948.\n",
      "Newton iter=1\n",
      "  Check Convergence\n",
      "    1. max |gradient| 0.034193304166042396 <= 0.1\n",
      "    2. Newton decrement 0.1812555262782897 <= 0.1\n",
      "Newton iter=2\n",
      "  Check Convergence\n",
      "    1. max |gradient| 0.006596949651605872 <= 0.1\n",
      "    2. Newton decrement 0.02185382733803318 <= 0.1\n",
      "  Solver did converge at loss = 0.46237124985937444.\n"
     ]
    },
    {
     "name": "stderr",
     "output_type": "stream",
     "text": [
      "[Parallel(n_jobs=1)]: Using backend SequentialBackend with 1 concurrent workers.\n",
      "[Parallel(n_jobs=1)]: Done   1 out of   1 | elapsed:    0.0s finished\n",
      "[Parallel(n_jobs=1)]: Using backend SequentialBackend with 1 concurrent workers.\n",
      "[Parallel(n_jobs=1)]: Done   1 out of   1 | elapsed:    0.0s finished\n",
      "[Parallel(n_jobs=1)]: Using backend SequentialBackend with 1 concurrent workers.\n",
      "[Parallel(n_jobs=1)]: Done   1 out of   1 | elapsed:    0.0s finished\n"
     ]
    },
    {
     "name": "stdout",
     "output_type": "stream",
     "text": [
      "Newton iter=1\n",
      "  Check Convergence\n",
      "    1. max |gradient| 0.03533906626785212 <= 0.1\n",
      "    2. Newton decrement 0.18281916556936315 <= 0.1\n",
      "Newton iter=2\n",
      "  Check Convergence\n",
      "    1. max |gradient| 0.007031315780898018 <= 0.1\n",
      "    2. Newton decrement 0.022971421982998546 <= 0.1\n",
      "  Solver did converge at loss = 0.45868570979817364.\n",
      "Results: -0.8581892877912889\n",
      "================\n",
      "================\n",
      "Configuration:\n",
      "C: 1.600676691943194\n",
      "Tolerance: 0.0001\n",
      "Solver: lbfgs\n",
      "Oversampling Method: ada\n",
      "----------------\n"
     ]
    },
    {
     "name": "stderr",
     "output_type": "stream",
     "text": [
      "[Parallel(n_jobs=1)]: Using backend SequentialBackend with 1 concurrent workers.\n",
      "[Parallel(n_jobs=1)]: Done   1 out of   1 | elapsed:    0.3s finished\n",
      "[Parallel(n_jobs=1)]: Using backend SequentialBackend with 1 concurrent workers.\n",
      "[Parallel(n_jobs=1)]: Done   1 out of   1 | elapsed:    0.3s finished\n",
      "[Parallel(n_jobs=1)]: Using backend SequentialBackend with 1 concurrent workers.\n",
      "[Parallel(n_jobs=1)]: Done   1 out of   1 | elapsed:    0.4s finished\n"
     ]
    },
    {
     "name": "stdout",
     "output_type": "stream",
     "text": [
      "Results: -0.8596910332164552\n",
      "================\n",
      "================\n",
      "Configuration:\n",
      "C: 1.324470139669082\n",
      "Tolerance: 0.0001\n",
      "Solver: lbfgs\n",
      "Oversampling Method: ada\n",
      "----------------\n"
     ]
    },
    {
     "name": "stderr",
     "output_type": "stream",
     "text": [
      "[Parallel(n_jobs=1)]: Using backend SequentialBackend with 1 concurrent workers.\n",
      "[Parallel(n_jobs=1)]: Done   1 out of   1 | elapsed:    0.2s finished\n",
      "[Parallel(n_jobs=1)]: Using backend SequentialBackend with 1 concurrent workers.\n",
      "[Parallel(n_jobs=1)]: Done   1 out of   1 | elapsed:    0.4s finished\n",
      "[Parallel(n_jobs=1)]: Using backend SequentialBackend with 1 concurrent workers.\n",
      "[Parallel(n_jobs=1)]: Done   1 out of   1 | elapsed:    0.4s finished\n"
     ]
    },
    {
     "name": "stdout",
     "output_type": "stream",
     "text": [
      "Results: -0.8596387001171703\n",
      "================\n",
      "================\n",
      "Configuration:\n",
      "C: 2.8355954904270537\n",
      "Tolerance: 0.1\n",
      "Solver: newton-cholesky\n",
      "Oversampling Method: ada\n",
      "----------------\n",
      "Newton iter=1\n",
      "  Check Convergence\n",
      "    1. max |gradient| 0.028253772887407033 <= 0.1\n",
      "    2. Newton decrement 0.17218001674013264 <= 0.1\n",
      "Newton iter=2\n",
      "  Check Convergence\n",
      "    1. max |gradient| 0.0057403600326182535 <= 0.1\n",
      "    2. Newton decrement 0.02230936841466792 <= 0.1\n",
      "  Solver did converge at loss = 0.4711874684454994.\n",
      "Newton iter=1\n",
      "  Check Convergence\n",
      "    1. max |gradient| 0.03419743036701294 <= 0.1\n",
      "    2. Newton decrement 0.18127003361149735 <= 0.1\n",
      "Newton iter=2\n",
      "  Check Convergence\n",
      "    1. max |gradient| 0.006602268685438768 <= 0.1\n",
      "    2. Newton decrement 0.021880133098276203 <= 0.1\n",
      "  Solver did converge at loss = 0.46230981098158996.\n"
     ]
    },
    {
     "name": "stderr",
     "output_type": "stream",
     "text": [
      "[Parallel(n_jobs=1)]: Using backend SequentialBackend with 1 concurrent workers.\n",
      "[Parallel(n_jobs=1)]: Done   1 out of   1 | elapsed:    0.0s finished\n",
      "[Parallel(n_jobs=1)]: Using backend SequentialBackend with 1 concurrent workers.\n",
      "[Parallel(n_jobs=1)]: Done   1 out of   1 | elapsed:    0.0s finished\n",
      "[Parallel(n_jobs=1)]: Using backend SequentialBackend with 1 concurrent workers.\n"
     ]
    },
    {
     "name": "stdout",
     "output_type": "stream",
     "text": [
      "Newton iter=1\n",
      "  Check Convergence\n",
      "    1. max |gradient| 0.03534298455366741 <= 0.1\n",
      "    2. Newton decrement 0.1828315581001313 <= 0.1\n",
      "Newton iter=2\n",
      "  Check Convergence\n",
      "    1. max |gradient| 0.0070359329256929155 <= 0.1\n",
      "    2. Newton decrement 0.02299575145275315 <= 0.1\n",
      "  Solver did converge at loss = 0.45862993793970436.\n",
      "Results: -0.8581968886647688\n",
      "================\n"
     ]
    },
    {
     "name": "stderr",
     "output_type": "stream",
     "text": [
      "[Parallel(n_jobs=1)]: Done   1 out of   1 | elapsed:    0.0s finished\n"
     ]
    },
    {
     "name": "stdout",
     "output_type": "stream",
     "text": [
      "================\n",
      "Configuration:\n",
      "C: 1.5526094624203561\n",
      "Tolerance: 0.0001\n",
      "Solver: lbfgs\n",
      "Oversampling Method: none\n",
      "----------------\n"
     ]
    },
    {
     "name": "stderr",
     "output_type": "stream",
     "text": [
      "[Parallel(n_jobs=1)]: Using backend SequentialBackend with 1 concurrent workers.\n",
      "[Parallel(n_jobs=1)]: Done   1 out of   1 | elapsed:    0.3s finished\n",
      "[Parallel(n_jobs=1)]: Using backend SequentialBackend with 1 concurrent workers.\n",
      "[Parallel(n_jobs=1)]: Done   1 out of   1 | elapsed:    0.3s finished\n",
      "[Parallel(n_jobs=1)]: Using backend SequentialBackend with 1 concurrent workers.\n",
      "[Parallel(n_jobs=1)]: Done   1 out of   1 | elapsed:    0.3s finished\n"
     ]
    },
    {
     "name": "stdout",
     "output_type": "stream",
     "text": [
      "Results: -0.8597155460440747\n",
      "================\n",
      "================\n",
      "Configuration:\n",
      "C: 2.743038755177902\n",
      "Tolerance: 0.1\n",
      "Solver: newton-cholesky\n",
      "Oversampling Method: ada\n",
      "----------------\n",
      "Newton iter=1\n",
      "  Check Convergence\n",
      "    1. max |gradient| 0.028250377307066296 <= 0.1\n",
      "    2. Newton decrement 0.17217051768665684 <= 0.1\n",
      "Newton iter=2\n",
      "  Check Convergence\n",
      "    1. max |gradient| 0.0057373749623297315 <= 0.1\n",
      "    2. Newton decrement 0.02229548312436787 <= 0.1\n",
      "  Solver did converge at loss = 0.47122201427621246.\n",
      "Newton iter=1\n",
      "  Check Convergence\n",
      "    1. max |gradient| 0.03419553087727922 <= 0.1\n",
      "    2. Newton decrement 0.1812633600369446 <= 0.1\n",
      "Newton iter=2\n",
      "  Check Convergence\n",
      "    1. max |gradient| 0.006599824515716866 <= 0.1\n",
      "    2. Newton decrement 0.02186803741650199 <= 0.1\n",
      "  Solver did converge at loss = 0.46233806810368383.\n"
     ]
    },
    {
     "name": "stderr",
     "output_type": "stream",
     "text": [
      "[Parallel(n_jobs=1)]: Using backend SequentialBackend with 1 concurrent workers.\n",
      "[Parallel(n_jobs=1)]: Done   1 out of   1 | elapsed:    0.0s finished\n",
      "[Parallel(n_jobs=1)]: Using backend SequentialBackend with 1 concurrent workers.\n",
      "[Parallel(n_jobs=1)]: Done   1 out of   1 | elapsed:    0.0s finished\n",
      "[Parallel(n_jobs=1)]: Using backend SequentialBackend with 1 concurrent workers.\n"
     ]
    },
    {
     "name": "stdout",
     "output_type": "stream",
     "text": [
      "Newton iter=1\n",
      "  Check Convergence\n",
      "    1. max |gradient| 0.03534118159268227 <= 0.1\n",
      "    2. Newton decrement 0.18282587260618235 <= 0.1\n",
      "Newton iter=2\n",
      "  Check Convergence\n",
      "    1. max |gradient| 0.007033809410315934 <= 0.1\n",
      "    2. Newton decrement 0.022984573875188218 <= 0.1\n",
      "  Solver did converge at loss = 0.4586555528524393.\n",
      "Results: -0.8581935234794859\n",
      "================\n"
     ]
    },
    {
     "name": "stderr",
     "output_type": "stream",
     "text": [
      "[Parallel(n_jobs=1)]: Done   1 out of   1 | elapsed:    0.0s finished\n"
     ]
    },
    {
     "name": "stdout",
     "output_type": "stream",
     "text": [
      "================\n",
      "Configuration:\n",
      "C: 2.8370209278426164\n",
      "Tolerance: 0.1\n",
      "Solver: newton-cholesky\n",
      "Oversampling Method: ada\n",
      "----------------\n",
      "Newton iter=1\n",
      "  Check Convergence\n",
      "    1. max |gradient| 0.028253824098650536 <= 0.1\n",
      "    2. Newton decrement 0.1721801593186759 <= 0.1\n",
      "Newton iter=2\n",
      "  Check Convergence\n",
      "    1. max |gradient| 0.005740404834749695 <= 0.1\n",
      "    2. Newton decrement 0.02230957632217267 <= 0.1\n",
      "  Solver did converge at loss = 0.47118695077119305.\n"
     ]
    },
    {
     "name": "stderr",
     "output_type": "stream",
     "text": [
      "[Parallel(n_jobs=1)]: Using backend SequentialBackend with 1 concurrent workers.\n",
      "[Parallel(n_jobs=1)]: Done   1 out of   1 | elapsed:    0.0s finished\n",
      "[Parallel(n_jobs=1)]: Using backend SequentialBackend with 1 concurrent workers.\n"
     ]
    },
    {
     "name": "stdout",
     "output_type": "stream",
     "text": [
      "Newton iter=1\n",
      "  Check Convergence\n",
      "    1. max |gradient| 0.0341974587908964 <= 0.1\n",
      "    2. Newton decrement 0.18127013340688067 <= 0.1\n",
      "Newton iter=2\n",
      "  Check Convergence\n",
      "    1. max |gradient| 0.0066023051995778995 <= 0.1\n",
      "    2. Newton decrement 0.021880313900139604 <= 0.1\n",
      "  Solver did converge at loss = 0.46230938851245695.\n",
      "Newton iter=1\n",
      "  Check Convergence\n",
      "    1. max |gradient| 0.03534301152174124 <= 0.1\n",
      "    2. Newton decrement 0.1828316429153653 <= 0.1\n",
      "Newton iter=2\n",
      "  Check Convergence\n",
      "    1. max |gradient| 0.007035964675398175 <= 0.1\n",
      "    2. Newton decrement 0.02299591840492666 <= 0.1\n",
      "  Solver did converge at loss = 0.4586295554553377.\n",
      "Results: -0.8581969400773023\n",
      "================\n"
     ]
    },
    {
     "name": "stderr",
     "output_type": "stream",
     "text": [
      "[Parallel(n_jobs=1)]: Done   1 out of   1 | elapsed:    0.0s finished\n",
      "[Parallel(n_jobs=1)]: Using backend SequentialBackend with 1 concurrent workers.\n",
      "[Parallel(n_jobs=1)]: Done   1 out of   1 | elapsed:    0.0s finished\n"
     ]
    },
    {
     "name": "stdout",
     "output_type": "stream",
     "text": [
      "================\n",
      "Configuration:\n",
      "C: 1.3809191379671655\n",
      "Tolerance: 0.0001\n",
      "Solver: liblinear\n",
      "Oversampling Method: none\n",
      "----------------\n",
      "[LibLinear][LibLinear][LibLinear]Results: -0.8595693817427742\n",
      "================\n",
      "================\n",
      "Configuration:\n",
      "C: 2.842567230916707\n",
      "Tolerance: 0.1\n",
      "Solver: newton-cholesky\n",
      "Oversampling Method: ada\n",
      "----------------\n",
      "Newton iter=1\n",
      "  Check Convergence\n",
      "    1. max |gradient| 0.02825402305601419 <= 0.1\n",
      "    2. Newton decrement 0.17218071304717467 <= 0.1\n",
      "Newton iter=2\n",
      "  Check Convergence\n",
      "    1. max |gradient| 0.005740578831411394 <= 0.1\n",
      "    2. Newton decrement 0.02231038362327873 <= 0.1\n",
      "  Solver did converge at loss = 0.4711849405342781.\n",
      "Newton iter=1\n",
      "  Check Convergence\n",
      "    1. max |gradient| 0.03419756915540568 <= 0.1\n",
      "    2. Newton decrement 0.18127052087365977 <= 0.1\n",
      "Newton iter=2\n",
      "  Check Convergence\n",
      "    1. max |gradient| 0.006602446959755938 <= 0.1\n",
      "    2. Newton decrement 0.02188101586204806 <= 0.1\n"
     ]
    },
    {
     "name": "stderr",
     "output_type": "stream",
     "text": [
      "[Parallel(n_jobs=1)]: Using backend SequentialBackend with 1 concurrent workers.\n",
      "[Parallel(n_jobs=1)]: Done   1 out of   1 | elapsed:    0.0s finished\n",
      "[Parallel(n_jobs=1)]: Using backend SequentialBackend with 1 concurrent workers.\n",
      "[Parallel(n_jobs=1)]: Done   1 out of   1 | elapsed:    0.0s finished\n"
     ]
    },
    {
     "name": "stdout",
     "output_type": "stream",
     "text": [
      "  Solver did converge at loss = 0.4623077482530134.\n",
      "Newton iter=1\n",
      "  Check Convergence\n",
      "    1. max |gradient| 0.03534311623032831 <= 0.1\n",
      "    2. Newton decrement 0.1828319721618325 <= 0.1\n",
      "Newton iter=2\n",
      "  Check Convergence\n",
      "    1. max |gradient| 0.00703608794592288 <= 0.1\n",
      "    2. Newton decrement 0.022996566559557636 <= 0.1\n",
      "  Solver did converge at loss = 0.4586280705760002.\n",
      "Results: -0.858197165590962\n",
      "================\n"
     ]
    },
    {
     "name": "stderr",
     "output_type": "stream",
     "text": [
      "[Parallel(n_jobs=1)]: Using backend SequentialBackend with 1 concurrent workers.\n",
      "[Parallel(n_jobs=1)]: Done   1 out of   1 | elapsed:    0.0s finished\n"
     ]
    },
    {
     "name": "stdout",
     "output_type": "stream",
     "text": [
      "================\n",
      "Configuration:\n",
      "C: 2.842851919773951\n",
      "Tolerance: 0.1\n",
      "Solver: newton-cholesky\n",
      "Oversampling Method: ada\n",
      "----------------\n",
      "Newton iter=1\n",
      "  Check Convergence\n",
      "    1. max |gradient| 0.02825403325541664 <= 0.1\n",
      "    2. Newton decrement 0.17218074142534676 <= 0.1\n",
      "Newton iter=2\n",
      "  Check Convergence\n",
      "    1. max |gradient| 0.005740587748604629 <= 0.1\n",
      "    2. Newton decrement 0.02231042499069494 <= 0.1\n",
      "  Solver did converge at loss = 0.4711848375214705.\n",
      "Newton iter=1\n",
      "  Check Convergence\n",
      "    1. max |gradient| 0.03419757481045118 <= 0.1\n",
      "    2. Newton decrement 0.18127054072650273 <= 0.1\n",
      "Newton iter=2\n"
     ]
    },
    {
     "name": "stderr",
     "output_type": "stream",
     "text": [
      "[Parallel(n_jobs=1)]: Using backend SequentialBackend with 1 concurrent workers.\n",
      "[Parallel(n_jobs=1)]: Done   1 out of   1 | elapsed:    0.0s finished\n",
      "[Parallel(n_jobs=1)]: Using backend SequentialBackend with 1 concurrent workers.\n",
      "[Parallel(n_jobs=1)]: Done   1 out of   1 | elapsed:    0.0s finished\n"
     ]
    },
    {
     "name": "stdout",
     "output_type": "stream",
     "text": [
      "  Check Convergence\n",
      "    1. max |gradient| 0.006602454222766692 <= 0.1\n",
      "    2. Newton decrement 0.02188105182791806 <= 0.1\n",
      "  Solver did converge at loss = 0.46230766421121117.\n",
      "Newton iter=1\n",
      "  Check Convergence\n",
      "    1. max |gradient| 0.03534312159542478 <= 0.1\n",
      "    2. Newton decrement 0.18283198902911366 <= 0.1\n",
      "Newton iter=2\n",
      "  Check Convergence\n",
      "    1. max |gradient| 0.0070360942619468415 <= 0.1\n",
      "    2. Newton decrement 0.022996599767004983 <= 0.1\n",
      "  Solver did converge at loss = 0.45862799450127095.\n",
      "Results: -0.858197166759782\n",
      "================\n"
     ]
    },
    {
     "name": "stderr",
     "output_type": "stream",
     "text": [
      "[Parallel(n_jobs=1)]: Using backend SequentialBackend with 1 concurrent workers.\n",
      "[Parallel(n_jobs=1)]: Done   1 out of   1 | elapsed:    0.0s finished\n"
     ]
    },
    {
     "name": "stdout",
     "output_type": "stream",
     "text": [
      "================\n",
      "Configuration:\n",
      "C: 0.7964280882157925\n",
      "Tolerance: 0.008552063223968209\n",
      "Solver: liblinear\n",
      "Oversampling Method: none\n",
      "----------------\n",
      "[LibLinear][LibLinear][LibLinear]Results: -0.859160719130618\n",
      "================\n",
      "================\n",
      "Configuration:\n",
      "C: 0.9526430901484381\n",
      "Tolerance: 0.06834349494888853\n",
      "Solver: liblinear\n",
      "Oversampling Method: none\n",
      "----------------\n",
      "[LibLinear][LibLinear][LibLinear]Results: -0.8529461134142768\n",
      "================\n",
      "================\n",
      "Configuration:\n",
      "C: 0.001\n",
      "Tolerance: 0.0001\n",
      "Solver: liblinear\n",
      "Oversampling Method: none\n",
      "----------------\n",
      "[LibLinear][LibLinear][LibLinear]Results: -0.8173415539508371\n",
      "================\n",
      "================\n",
      "Configuration:\n",
      "C: 0.9286509294862982\n",
      "Tolerance: 0.052930591671581206\n",
      "Solver: newton-cholesky\n",
      "Oversampling Method: none\n",
      "----------------\n",
      "Newton iter=1\n",
      "  Check Convergence\n",
      "    1. max |gradient| 0.02810730285031359 <= 0.052930591671581206\n",
      "    2. Newton decrement 0.17171437624219363 <= 0.052930591671581206\n",
      "Newton iter=2\n",
      "  Check Convergence\n",
      "    1. max |gradient| 0.005590675980626131 <= 0.052930591671581206\n",
      "    2. Newton decrement 0.021594036726028214 <= 0.052930591671581206\n",
      "  Solver did converge at loss = 0.47293746843305867.\n",
      "Newton iter=1\n",
      "  Check Convergence\n",
      "    1. max |gradient| 0.034095729426483604 <= 0.052930591671581206\n",
      "    2. Newton decrement 0.1809083014662754 <= 0.052930591671581206\n",
      "Newton iter=2\n",
      "  Check Convergence\n",
      "    1. max |gradient| 0.006468104593270925 <= 0.052930591671581206\n",
      "    2. Newton decrement 0.02123215509195961 <= 0.052930591671581206\n"
     ]
    },
    {
     "name": "stderr",
     "output_type": "stream",
     "text": [
      "[Parallel(n_jobs=1)]: Using backend SequentialBackend with 1 concurrent workers.\n",
      "[Parallel(n_jobs=1)]: Done   1 out of   1 | elapsed:    0.0s finished\n",
      "[Parallel(n_jobs=1)]: Using backend SequentialBackend with 1 concurrent workers.\n",
      "[Parallel(n_jobs=1)]: Done   1 out of   1 | elapsed:    0.0s finished\n"
     ]
    },
    {
     "name": "stdout",
     "output_type": "stream",
     "text": [
      "  Solver did converge at loss = 0.4638214299146701.\n",
      "Newton iter=1\n",
      "  Check Convergence\n",
      "    1. max |gradient| 0.035245546335407704 <= 0.052930591671581206\n",
      "    2. Newton decrement 0.18250383248740196 <= 0.052930591671581206\n",
      "Newton iter=2\n",
      "  Check Convergence\n",
      "    1. max |gradient| 0.006920321094263762 <= 0.052930591671581206\n",
      "    2. Newton decrement 0.0223828802666549 <= 0.052930591671581206\n",
      "  Solver did converge at loss = 0.4600485045353127.\n",
      "Results: -0.8580198297862062\n",
      "================\n"
     ]
    },
    {
     "name": "stderr",
     "output_type": "stream",
     "text": [
      "[Parallel(n_jobs=1)]: Using backend SequentialBackend with 1 concurrent workers.\n",
      "[Parallel(n_jobs=1)]: Done   1 out of   1 | elapsed:    0.0s finished\n"
     ]
    },
    {
     "name": "stdout",
     "output_type": "stream",
     "text": [
      "================\n",
      "Configuration:\n",
      "C: 0.7628803819171741\n",
      "Tolerance: 0.07919561717120026\n",
      "Solver: sag\n",
      "Oversampling Method: ada\n",
      "----------------\n"
     ]
    },
    {
     "name": "stderr",
     "output_type": "stream",
     "text": [
      "[Parallel(n_jobs=1)]: Using backend SequentialBackend with 1 concurrent workers.\n"
     ]
    },
    {
     "name": "stdout",
     "output_type": "stream",
     "text": [
      "convergence after 6 epochs took 1 seconds\n"
     ]
    },
    {
     "name": "stderr",
     "output_type": "stream",
     "text": [
      "[Parallel(n_jobs=1)]: Done   1 out of   1 | elapsed:    0.2s finished\n",
      "[Parallel(n_jobs=1)]: Using backend SequentialBackend with 1 concurrent workers.\n"
     ]
    },
    {
     "name": "stdout",
     "output_type": "stream",
     "text": [
      "convergence after 5 epochs took 0 seconds\n"
     ]
    },
    {
     "name": "stderr",
     "output_type": "stream",
     "text": [
      "[Parallel(n_jobs=1)]: Done   1 out of   1 | elapsed:    0.1s finished\n",
      "[Parallel(n_jobs=1)]: Using backend SequentialBackend with 1 concurrent workers.\n"
     ]
    },
    {
     "name": "stdout",
     "output_type": "stream",
     "text": [
      "convergence after 5 epochs took 0 seconds\n",
      "Results: -0.8576533181560216\n",
      "================\n"
     ]
    },
    {
     "name": "stderr",
     "output_type": "stream",
     "text": [
      "[Parallel(n_jobs=1)]: Done   1 out of   1 | elapsed:    0.1s finished\n"
     ]
    },
    {
     "name": "stdout",
     "output_type": "stream",
     "text": [
      "================\n",
      "Configuration:\n",
      "C: 0.3980264371971877\n",
      "Tolerance: 0.010920746394827754\n",
      "Solver: liblinear\n",
      "Oversampling Method: ada\n",
      "----------------\n",
      "[LibLinear][LibLinear][LibLinear]Results: -0.8584460213422115\n",
      "================\n",
      "================\n",
      "Configuration:\n",
      "C: 0.41312067005250513\n",
      "Tolerance: 0.01099586222870391\n",
      "Solver: liblinear\n",
      "Oversampling Method: ada\n",
      "----------------\n",
      "[LibLinear][LibLinear][LibLinear]Results: -0.8584526483354314\n",
      "================\n",
      "================\n",
      "Configuration:\n",
      "C: 0.37950282471481567\n",
      "Tolerance: 0.01056026111992744\n",
      "Solver: liblinear\n",
      "Oversampling Method: ada\n",
      "----------------\n",
      "[LibLinear][LibLinear][LibLinear]Results: -0.8583876825791047\n",
      "================\n",
      "================\n",
      "Configuration:\n",
      "C: 0.34182652739408015\n",
      "Tolerance: 0.011616569527986504\n",
      "Solver: sag\n",
      "Oversampling Method: ada\n",
      "----------------\n"
     ]
    },
    {
     "name": "stderr",
     "output_type": "stream",
     "text": [
      "[Parallel(n_jobs=1)]: Using backend SequentialBackend with 1 concurrent workers.\n"
     ]
    },
    {
     "name": "stdout",
     "output_type": "stream",
     "text": [
      "convergence after 15 epochs took 0 seconds\n"
     ]
    },
    {
     "name": "stderr",
     "output_type": "stream",
     "text": [
      "[Parallel(n_jobs=1)]: Done   1 out of   1 | elapsed:    0.4s finished\n",
      "[Parallel(n_jobs=1)]: Using backend SequentialBackend with 1 concurrent workers.\n"
     ]
    },
    {
     "name": "stdout",
     "output_type": "stream",
     "text": [
      "convergence after 18 epochs took 1 seconds\n"
     ]
    },
    {
     "name": "stderr",
     "output_type": "stream",
     "text": [
      "[Parallel(n_jobs=1)]: Done   1 out of   1 | elapsed:    0.6s finished\n",
      "[Parallel(n_jobs=1)]: Using backend SequentialBackend with 1 concurrent workers.\n"
     ]
    },
    {
     "name": "stdout",
     "output_type": "stream",
     "text": [
      "convergence after 18 epochs took 1 seconds\n",
      "Results: -0.8587613706706708\n",
      "================\n"
     ]
    },
    {
     "name": "stderr",
     "output_type": "stream",
     "text": [
      "[Parallel(n_jobs=1)]: Done   1 out of   1 | elapsed:    0.7s finished\n"
     ]
    },
    {
     "name": "stdout",
     "output_type": "stream",
     "text": [
      "================\n",
      "Configuration:\n",
      "C: 0.874541471625012\n",
      "Tolerance: 0.08710301828934973\n",
      "Solver: newton-cholesky\n",
      "Oversampling Method: ada\n",
      "----------------\n",
      "Newton iter=1\n",
      "  Check Convergence\n",
      "    1. max |gradient| 0.02809624188118785 <= 0.08710301828934973\n",
      "    2. Newton decrement 0.17167655424081799 <= 0.08710301828934973\n",
      "Newton iter=2\n",
      "  Check Convergence\n",
      "    1. max |gradient| 0.0055784010440634605 <= 0.08710301828934973\n",
      "    2. Newton decrement 0.021535744083111912 <= 0.08710301828934973\n",
      "  Solver did converge at loss = 0.47307971463336757.\n",
      "Newton iter=1\n",
      "  Check Convergence\n",
      "    1. max |gradient| 0.03408705366012115 <= 0.08710301828934973\n",
      "    2. Newton decrement 0.18087723352222934 <= 0.08710301828934973\n",
      "Newton iter=2\n",
      "  Check Convergence\n",
      "    1. max |gradient| 0.006456744738282152 <= 0.08710301828934973\n",
      "    2. Newton decrement 0.021178431276976495 <= 0.08710301828934973\n",
      "  Solver did converge at loss = 0.46394749530272106.\n"
     ]
    },
    {
     "name": "stderr",
     "output_type": "stream",
     "text": [
      "[Parallel(n_jobs=1)]: Using backend SequentialBackend with 1 concurrent workers.\n",
      "[Parallel(n_jobs=1)]: Done   1 out of   1 | elapsed:    0.0s finished\n",
      "[Parallel(n_jobs=1)]: Using backend SequentialBackend with 1 concurrent workers.\n",
      "[Parallel(n_jobs=1)]: Done   1 out of   1 | elapsed:    0.0s finished\n",
      "[Parallel(n_jobs=1)]: Using backend SequentialBackend with 1 concurrent workers.\n"
     ]
    },
    {
     "name": "stdout",
     "output_type": "stream",
     "text": [
      "Newton iter=1\n",
      "  Check Convergence\n",
      "    1. max |gradient| 0.035237171259891176 <= 0.08710301828934973\n",
      "    2. Newton decrement 0.18247476208736774 <= 0.08710301828934973\n",
      "Newton iter=2\n",
      "  Check Convergence\n",
      "    1. max |gradient| 0.006910450094559163 <= 0.08710301828934973\n",
      "    2. Newton decrement 0.02233111745696538 <= 0.08710301828934973\n",
      "  Solver did converge at loss = 0.46016949504885096.\n",
      "Results: -0.8580025297434343\n",
      "================\n"
     ]
    },
    {
     "name": "stderr",
     "output_type": "stream",
     "text": [
      "[Parallel(n_jobs=1)]: Done   1 out of   1 | elapsed:    0.0s finished\n"
     ]
    },
    {
     "name": "stdout",
     "output_type": "stream",
     "text": [
      "================\n",
      "Configuration:\n",
      "C: 1.9916007291971576\n",
      "Tolerance: 0.08608228168278913\n",
      "Solver: newton-cholesky\n",
      "Oversampling Method: ada\n",
      "----------------\n",
      "Newton iter=1\n",
      "  Check Convergence\n",
      "    1. max |gradient| 0.028215783808502152 <= 0.08608228168278913\n",
      "    2. Newton decrement 0.17206901622051152 <= 0.08608228168278913\n",
      "Newton iter=2\n",
      "  Check Convergence\n",
      "    1. max |gradient| 0.005705315568328775 <= 0.08608228168278913\n",
      "    2. Newton decrement 0.022143531534692538 <= 0.08608228168278913\n",
      "  Solver did converge at loss = 0.4715971249058285.\n",
      "Newton iter=1\n",
      "  Check Convergence\n",
      "    1. max |gradient| 0.03417458393347974 <= 0.08608228168278913\n",
      "    2. Newton decrement 0.18118935626853455 <= 0.08608228168278913\n",
      "Newton iter=2\n"
     ]
    },
    {
     "name": "stderr",
     "output_type": "stream",
     "text": [
      "[Parallel(n_jobs=1)]: Using backend SequentialBackend with 1 concurrent workers.\n",
      "[Parallel(n_jobs=1)]: Done   1 out of   1 | elapsed:    0.0s finished\n",
      "[Parallel(n_jobs=1)]: Using backend SequentialBackend with 1 concurrent workers.\n"
     ]
    },
    {
     "name": "stdout",
     "output_type": "stream",
     "text": [
      "  Check Convergence\n",
      "    1. max |gradient| 0.006572469254938502 <= 0.08608228168278913\n",
      "    2. Newton decrement 0.021733543194051665 <= 0.08608228168278913\n",
      "  Solver did converge at loss = 0.4626516415568008.\n",
      "Newton iter=1\n",
      "  Check Convergence\n",
      "    1. max |gradient| 0.03532122889998759 <= 0.08608228168278913\n",
      "    2. Newton decrement 0.18276133930284716 <= 0.08608228168278913\n",
      "Newton iter=2\n",
      "  Check Convergence\n",
      "    1. max |gradient| 0.007010202297424474 <= 0.08608228168278913\n",
      "    2. Newton decrement 0.022859361258356376 <= 0.08608228168278913\n",
      "  Solver did converge at loss = 0.4589433076832203.\n",
      "Results: -0.8581585395580847\n",
      "================\n"
     ]
    },
    {
     "name": "stderr",
     "output_type": "stream",
     "text": [
      "[Parallel(n_jobs=1)]: Done   1 out of   1 | elapsed:    0.0s finished\n",
      "[Parallel(n_jobs=1)]: Using backend SequentialBackend with 1 concurrent workers.\n",
      "[Parallel(n_jobs=1)]: Done   1 out of   1 | elapsed:    0.0s finished\n"
     ]
    },
    {
     "name": "stdout",
     "output_type": "stream",
     "text": [
      "================\n",
      "Configuration:\n",
      "C: 2.596358695667309\n",
      "Tolerance: 0.06705400967764748\n",
      "Solver: newton-cholesky\n",
      "Oversampling Method: none\n",
      "----------------\n",
      "Newton iter=1\n",
      "  Check Convergence\n",
      "    1. max |gradient| 0.028244689277853945 <= 0.06705400967764748\n",
      "    2. Newton decrement 0.1721544083729927 <= 0.06705400967764748\n",
      "Newton iter=2\n",
      "  Check Convergence\n",
      "    1. max |gradient| 0.0057323100641183304 <= 0.06705400967764748\n",
      "    2. Newton decrement 0.022271787196560096 <= 0.06705400967764748\n",
      "  Solver did converge at loss = 0.4712808479369101.\n",
      "Newton iter=1\n",
      "  Check Convergence\n",
      "    1. max |gradient| 0.034192283928515026 <= 0.06705400967764748\n",
      "    2. Newton decrement 0.1812519335322859 <= 0.06705400967764748\n",
      "Newton iter=2\n",
      "  Check Convergence\n",
      "    1. max |gradient| 0.0065956291729929745 <= 0.06705400967764748\n",
      "    2. Newton decrement 0.02184730652118757 <= 0.06705400967764748\n",
      "  Solver did converge at loss = 0.46238647143142986.\n"
     ]
    },
    {
     "name": "stderr",
     "output_type": "stream",
     "text": [
      "[Parallel(n_jobs=1)]: Using backend SequentialBackend with 1 concurrent workers.\n",
      "[Parallel(n_jobs=1)]: Done   1 out of   1 | elapsed:    0.0s finished\n",
      "[Parallel(n_jobs=1)]: Using backend SequentialBackend with 1 concurrent workers.\n",
      "[Parallel(n_jobs=1)]: Done   1 out of   1 | elapsed:    0.0s finished\n",
      "[Parallel(n_jobs=1)]: Using backend SequentialBackend with 1 concurrent workers.\n",
      "[Parallel(n_jobs=1)]: Done   1 out of   1 | elapsed:    0.0s finished\n"
     ]
    },
    {
     "name": "stdout",
     "output_type": "stream",
     "text": [
      "Newton iter=1\n",
      "  Check Convergence\n",
      "    1. max |gradient| 0.03533809648158551 <= 0.06705400967764748\n",
      "    2. Newton decrement 0.18281607813905698 <= 0.06705400967764748\n",
      "Newton iter=2\n",
      "  Check Convergence\n",
      "    1. max |gradient| 0.007030171760670925 <= 0.06705400967764748\n",
      "    2. Newton decrement 0.02296537972494529 <= 0.06705400967764748\n",
      "  Solver did converge at loss = 0.4586995706151697.\n",
      "Results: -0.8581876671186417\n",
      "================\n",
      "================\n",
      "Configuration:\n",
      "C: 1.806431643534186\n",
      "Tolerance: 0.01859641086138904\n",
      "Solver: liblinear\n",
      "Oversampling Method: none\n",
      "----------------\n",
      "[LibLinear][LibLinear][LibLinear]Results: -0.8590925832364048\n",
      "================\n",
      "================\n",
      "Configuration:\n",
      "C: 1.7343798838461677\n",
      "Tolerance: 0.01869495790609409\n",
      "Solver: liblinear\n",
      "Oversampling Method: none\n",
      "----------------\n",
      "[LibLinear][LibLinear][LibLinear]Results: -0.8586621979445432\n",
      "================\n",
      "================\n",
      "Configuration:\n",
      "C: 1.8898751303389931\n",
      "Tolerance: 0.015741684431868897\n",
      "Solver: newton-cholesky\n",
      "Oversampling Method: none\n",
      "----------------\n",
      "Newton iter=1\n",
      "  Check Convergence\n",
      "    1. max |gradient| 0.0282097085913383 <= 0.015741684431868897\n",
      "Newton iter=2\n",
      "  Check Convergence\n",
      "    1. max |gradient| 0.005699385503969396 <= 0.015741684431868897\n",
      "    2. Newton decrement 0.02211509233268658 <= 0.015741684431868897\n",
      "Newton iter=3\n",
      "  Check Convergence\n",
      "    1. max |gradient| 0.001517693103138586 <= 0.015741684431868897\n",
      "    2. Newton decrement 0.004457027413660695 <= 0.015741684431868897\n",
      "  Solver did converge at loss = 0.46635239161287045.\n",
      "Newton iter=1\n",
      "  Check Convergence\n",
      "    1. max |gradient| 0.03417062781519258 <= 0.015741684431868897\n",
      "Newton iter=2\n",
      "  Check Convergence\n",
      "    1. max |gradient| 0.006567246292818176 <= 0.015741684431868897\n",
      "    2. Newton decrement 0.02170803802540431 <= 0.015741684431868897\n",
      "Newton iter=3\n",
      "  Check Convergence\n",
      "    1. max |gradient| 0.0010328594677888158 <= 0.015741684431868897\n",
      "    2. Newton decrement 0.003652221190182615 <= 0.015741684431868897\n",
      "  Solver did converge at loss = 0.45845047334888.\n"
     ]
    },
    {
     "name": "stderr",
     "output_type": "stream",
     "text": [
      "[Parallel(n_jobs=1)]: Using backend SequentialBackend with 1 concurrent workers.\n",
      "[Parallel(n_jobs=1)]: Done   1 out of   1 | elapsed:    0.0s finished\n",
      "[Parallel(n_jobs=1)]: Using backend SequentialBackend with 1 concurrent workers.\n",
      "[Parallel(n_jobs=1)]: Done   1 out of   1 | elapsed:    0.0s finished\n",
      "[Parallel(n_jobs=1)]: Using backend SequentialBackend with 1 concurrent workers.\n"
     ]
    },
    {
     "name": "stdout",
     "output_type": "stream",
     "text": [
      "Newton iter=1\n",
      "  Check Convergence\n",
      "    1. max |gradient| 0.035317450599782196 <= 0.015741684431868897\n",
      "Newton iter=2\n",
      "  Check Convergence\n",
      "    1. max |gradient| 0.007005714408891933 <= 0.015741684431868897\n",
      "    2. Newton decrement 0.022835457364052826 <= 0.015741684431868897\n",
      "Newton iter=3\n",
      "  Check Convergence\n",
      "    1. max |gradient| 0.0011477907343782664 <= 0.015741684431868897\n",
      "    2. Newton decrement 0.004044244892648127 <= 0.015741684431868897\n",
      "  Solver did converge at loss = 0.4542633753727542.\n",
      "Results: -0.859351197044909\n",
      "================\n"
     ]
    },
    {
     "name": "stderr",
     "output_type": "stream",
     "text": [
      "[Parallel(n_jobs=1)]: Done   1 out of   1 | elapsed:    0.0s finished\n"
     ]
    },
    {
     "name": "stdout",
     "output_type": "stream",
     "text": [
      "================\n",
      "Configuration:\n",
      "C: 3.0\n",
      "Tolerance: 0.017684809368607824\n",
      "Solver: liblinear\n",
      "Oversampling Method: none\n",
      "----------------\n",
      "[LibLinear][LibLinear][LibLinear]Results: -0.858633823544003\n",
      "================\n",
      "================\n",
      "Configuration:\n",
      "C: 1.9298632470773978\n",
      "Tolerance: 0.01664181941400283\n",
      "Solver: liblinear\n",
      "Oversampling Method: none\n",
      "----------------\n",
      "[LibLinear][LibLinear][LibLinear]Results: -0.8590590200185259\n",
      "================\n",
      "================\n",
      "Configuration:\n",
      "C: 1.7438404665017342\n",
      "Tolerance: 0.016494013193365742\n",
      "Solver: newton-cholesky\n",
      "Oversampling Method: none\n",
      "----------------\n",
      "Newton iter=1\n",
      "  Check Convergence\n",
      "    1. max |gradient| 0.028200102583514016 <= 0.016494013193365742\n",
      "Newton iter=2\n",
      "  Check Convergence\n",
      "    1. max |gradient| 0.005689843358336579 <= 0.016494013193365742\n",
      "    2. Newton decrement 0.022069239449904243 <= 0.016494013193365742\n",
      "Newton iter=3\n",
      "  Check Convergence\n",
      "    1. max |gradient| 0.0014999850730677711 <= 0.016494013193365742\n",
      "    2. Newton decrement 0.004414623907430954 <= 0.016494013193365742\n",
      "  Solver did converge at loss = 0.46652230589552995.\n",
      "Newton iter=1\n"
     ]
    },
    {
     "name": "stderr",
     "output_type": "stream",
     "text": [
      "[Parallel(n_jobs=1)]: Using backend SequentialBackend with 1 concurrent workers.\n",
      "[Parallel(n_jobs=1)]: Done   1 out of   1 | elapsed:    0.0s finished\n",
      "[Parallel(n_jobs=1)]: Using backend SequentialBackend with 1 concurrent workers.\n",
      "[Parallel(n_jobs=1)]: Done   1 out of   1 | elapsed:    0.0s finished\n"
     ]
    },
    {
     "name": "stdout",
     "output_type": "stream",
     "text": [
      "  Check Convergence\n",
      "    1. max |gradient| 0.03416422313415296 <= 0.016494013193365742\n",
      "Newton iter=2\n",
      "  Check Convergence\n",
      "    1. max |gradient| 0.0065587691851108285 <= 0.016494013193365742\n",
      "    2. Newton decrement 0.02166675167477809 <= 0.016494013193365742\n",
      "Newton iter=3\n",
      "  Check Convergence\n",
      "    1. max |gradient| 0.0010179922116668786 <= 0.016494013193365742\n",
      "    2. Newton decrement 0.0036147120300681584 <= 0.016494013193365742\n",
      "  Solver did converge at loss = 0.4585970460794312.\n",
      "Newton iter=1\n",
      "  Check Convergence\n",
      "    1. max |gradient| 0.03531132899993555 <= 0.016494013193365742\n",
      "Newton iter=2\n",
      "  Check Convergence\n",
      "    1. max |gradient| 0.006998435738381205 <= 0.016494013193365742\n",
      "    2. Newton decrement 0.02279667263577718 <= 0.016494013193365742\n",
      "Newton iter=3\n",
      "  Check Convergence\n",
      "    1. max |gradient| 0.0011319455298656818 <= 0.016494013193365742\n",
      "    2. Newton decrement 0.004006039701360921 <= 0.016494013193365742\n",
      "  Solver did converge at loss = 0.4544045955476743.\n",
      "Results: -0.8593386710728973\n",
      "================\n"
     ]
    },
    {
     "name": "stderr",
     "output_type": "stream",
     "text": [
      "[Parallel(n_jobs=1)]: Using backend SequentialBackend with 1 concurrent workers.\n",
      "[Parallel(n_jobs=1)]: Done   1 out of   1 | elapsed:    0.0s finished\n"
     ]
    },
    {
     "name": "stdout",
     "output_type": "stream",
     "text": [
      "================\n",
      "Configuration:\n",
      "C: 1.7364009809944483\n",
      "Tolerance: 0.01859159549406663\n",
      "Solver: newton-cholesky\n",
      "Oversampling Method: none\n",
      "----------------\n",
      "Newton iter=1\n",
      "  Check Convergence\n",
      "    1. max |gradient| 0.028199581479291247 <= 0.01859159549406663\n",
      "Newton iter=2\n",
      "  Check Convergence\n",
      "    1. max |gradient| 0.005689320184910634 <= 0.01859159549406663\n",
      "    2. Newton decrement 0.022066723238908025 <= 0.01859159549406663\n",
      "Newton iter=3\n",
      "  Check Convergence\n",
      "    1. max |gradient| 0.0014990156761365875 <= 0.01859159549406663\n",
      "    2. Newton decrement 0.004412304955020346 <= 0.01859159549406663\n",
      "  Solver did converge at loss = 0.46653160943621796.\n",
      "Newton iter=1\n"
     ]
    },
    {
     "name": "stderr",
     "output_type": "stream",
     "text": [
      "[Parallel(n_jobs=1)]: Using backend SequentialBackend with 1 concurrent workers.\n",
      "[Parallel(n_jobs=1)]: Done   1 out of   1 | elapsed:    0.0s finished\n",
      "[Parallel(n_jobs=1)]: Using backend SequentialBackend with 1 concurrent workers.\n",
      "[Parallel(n_jobs=1)]: Done   1 out of   1 | elapsed:    0.0s finished\n"
     ]
    },
    {
     "name": "stdout",
     "output_type": "stream",
     "text": [
      "  Check Convergence\n",
      "    1. max |gradient| 0.03416387071113989 <= 0.01859159549406663\n",
      "Newton iter=2\n",
      "  Check Convergence\n",
      "    1. max |gradient| 0.006558302114378773 <= 0.01859159549406663\n",
      "    2. Newton decrement 0.021664480719554548 <= 0.01859159549406663\n",
      "Newton iter=3\n",
      "  Check Convergence\n",
      "    1. max |gradient| 0.0010171794036406307 <= 0.01859159549406663\n",
      "    2. Newton decrement 0.00361266119574811 <= 0.01859159549406663\n",
      "  Solver did converge at loss = 0.45860508728092225.\n",
      "Newton iter=1\n",
      "  Check Convergence\n",
      "    1. max |gradient| 0.03531099199302929 <= 0.01859159549406663\n",
      "Newton iter=2\n",
      "  Check Convergence\n",
      "    1. max |gradient| 0.006998034822159255 <= 0.01859159549406663\n",
      "    2. Newton decrement 0.022794536176627703 <= 0.01859159549406663\n",
      "Newton iter=3\n",
      "  Check Convergence\n",
      "    1. max |gradient| 0.0011310787288638614 <= 0.01859159549406663\n",
      "    2. Newton decrement 0.004003947774234153 <= 0.01859159549406663\n",
      "  Solver did converge at loss = 0.4544123564122449.\n",
      "Results: -0.859337971161723\n",
      "================\n"
     ]
    },
    {
     "name": "stderr",
     "output_type": "stream",
     "text": [
      "[Parallel(n_jobs=1)]: Using backend SequentialBackend with 1 concurrent workers.\n",
      "[Parallel(n_jobs=1)]: Done   1 out of   1 | elapsed:    0.0s finished\n"
     ]
    },
    {
     "name": "stdout",
     "output_type": "stream",
     "text": [
      "================\n",
      "Configuration:\n",
      "C: 1.8017568703674733\n",
      "Tolerance: 0.018153858556195546\n",
      "Solver: newton-cholesky\n",
      "Oversampling Method: none\n",
      "----------------\n",
      "Newton iter=1\n",
      "  Check Convergence\n",
      "    1. max |gradient| 0.028204049316730373 <= 0.018153858556195546\n",
      "Newton iter=2\n",
      "  Check Convergence\n",
      "    1. max |gradient| 0.005693787601201163 <= 0.018153858556195546\n",
      "    2. Newton decrement 0.022088203077957627 <= 0.018153858556195546\n",
      "Newton iter=3\n",
      "  Check Convergence\n",
      "    1. max |gradient| 0.0015072993366268494 <= 0.018153858556195546\n",
      "    2. Newton decrement 0.004432128248343086 <= 0.018153858556195546\n",
      "  Solver did converge at loss = 0.46645212016486076.\n"
     ]
    },
    {
     "name": "stderr",
     "output_type": "stream",
     "text": [
      "[Parallel(n_jobs=1)]: Using backend SequentialBackend with 1 concurrent workers.\n",
      "[Parallel(n_jobs=1)]: Done   1 out of   1 | elapsed:    0.0s finished\n",
      "[Parallel(n_jobs=1)]: Using backend SequentialBackend with 1 concurrent workers.\n"
     ]
    },
    {
     "name": "stdout",
     "output_type": "stream",
     "text": [
      "Newton iter=1\n",
      "  Check Convergence\n",
      "    1. max |gradient| 0.03416687595242482 <= 0.018153858556195546\n",
      "Newton iter=2\n",
      "  Check Convergence\n",
      "    1. max |gradient| 0.006562283132250499 <= 0.018153858556195546\n",
      "    2. Newton decrement 0.021683849632261623 <= 0.018153858556195546\n",
      "Newton iter=3\n",
      "  Check Convergence\n",
      "    1. max |gradient| 0.0010241285988142896 <= 0.018153858556195546\n",
      "    2. Newton decrement 0.003630194296812204 <= 0.018153858556195546\n",
      "  Solver did converge at loss = 0.4585364338934693.\n",
      "Newton iter=1\n",
      "  Check Convergence\n",
      "    1. max |gradient| 0.035313865248633315 <= 0.018153858556195546\n",
      "Newton iter=2\n",
      "  Check Convergence\n",
      "    1. max |gradient| 0.007001452316347462 <= 0.018153858556195546\n",
      "    2. Newton decrement 0.022812747727009617 <= 0.018153858556195546\n",
      "Newton iter=3\n"
     ]
    },
    {
     "name": "stderr",
     "output_type": "stream",
     "text": [
      "[Parallel(n_jobs=1)]: Done   1 out of   1 | elapsed:    0.0s finished\n",
      "[Parallel(n_jobs=1)]: Using backend SequentialBackend with 1 concurrent workers.\n",
      "[Parallel(n_jobs=1)]: Done   1 out of   1 | elapsed:    0.0s finished\n"
     ]
    },
    {
     "name": "stdout",
     "output_type": "stream",
     "text": [
      "  Check Convergence\n",
      "    1. max |gradient| 0.0011384877954954446 <= 0.018153858556195546\n",
      "    2. Newton decrement 0.004021822117451606 <= 0.018153858556195546\n",
      "  Solver did converge at loss = 0.4543461401108194.\n",
      "Results: -0.8593439875916516\n",
      "================\n",
      "================\n",
      "Configuration:\n",
      "C: 1.957273288500974\n",
      "Tolerance: 0.016254080777049422\n",
      "Solver: newton-cholesky\n",
      "Oversampling Method: none\n",
      "----------------\n",
      "Newton iter=1\n",
      "  Check Convergence\n",
      "    1. max |gradient| 0.028213784507473992 <= 0.016254080777049422\n",
      "Newton iter=2\n",
      "  Check Convergence\n",
      "    1. max |gradient| 0.005703373329543014 <= 0.016254080777049422\n",
      "    2. Newton decrement 0.022134223228863853 <= 0.016254080777049422\n",
      "Newton iter=3\n",
      "  Check Convergence\n",
      "    1. max |gradient| 0.0015251013002688806 <= 0.016254080777049422\n",
      "    2. Newton decrement 0.004474794777258334 <= 0.016254080777049422\n",
      "  Solver did converge at loss = 0.4662812874581749.\n",
      "Newton iter=1\n",
      "  Check Convergence\n",
      "    1. max |gradient| 0.03417329040876308 <= 0.016254080777049422\n",
      "Newton iter=2\n",
      "  Check Convergence\n",
      "    1. max |gradient| 0.006570762839207453 <= 0.016254080777049422\n",
      "    2. Newton decrement 0.021725204488610546 <= 0.016254080777049422\n",
      "Newton iter=3\n",
      "  Check Convergence\n",
      "    1. max |gradient| 0.0010390901584354127 <= 0.016254080777049422\n",
      "    2. Newton decrement 0.003667940480701867 <= 0.016254080777049422\n",
      "  Solver did converge at loss = 0.45838931528881743.\n"
     ]
    },
    {
     "name": "stderr",
     "output_type": "stream",
     "text": [
      "[Parallel(n_jobs=1)]: Using backend SequentialBackend with 1 concurrent workers.\n",
      "[Parallel(n_jobs=1)]: Done   1 out of   1 | elapsed:    0.0s finished\n",
      "[Parallel(n_jobs=1)]: Using backend SequentialBackend with 1 concurrent workers.\n",
      "[Parallel(n_jobs=1)]: Done   1 out of   1 | elapsed:    0.0s finished\n",
      "[Parallel(n_jobs=1)]: Using backend SequentialBackend with 1 concurrent workers.\n"
     ]
    },
    {
     "name": "stdout",
     "output_type": "stream",
     "text": [
      "Newton iter=1\n",
      "  Check Convergence\n",
      "    1. max |gradient| 0.035319993781986185 <= 0.016254080777049422\n",
      "Newton iter=2\n",
      "  Check Convergence\n",
      "    1. max |gradient| 0.007008735669151764 <= 0.016254080777049422\n",
      "    2. Newton decrement 0.022851550958867806 <= 0.016254080777049422\n",
      "Newton iter=3\n",
      "  Check Convergence\n",
      "    1. max |gradient| 0.0011544256872258057 <= 0.016254080777049422\n",
      "    2. Newton decrement 0.004060223825852879 <= 0.016254080777049422\n",
      "  Solver did converge at loss = 0.45420459404959657.\n",
      "Results: -0.8593559889426473\n",
      "================\n"
     ]
    },
    {
     "name": "stderr",
     "output_type": "stream",
     "text": [
      "[Parallel(n_jobs=1)]: Done   1 out of   1 | elapsed:    0.0s finished\n"
     ]
    },
    {
     "name": "stdout",
     "output_type": "stream",
     "text": [
      "================\n",
      "Configuration:\n",
      "C: 0.010603087440315354\n",
      "Tolerance: 0.03701889557750507\n",
      "Solver: newton-cg\n",
      "Oversampling Method: ada\n",
      "----------------\n"
     ]
    },
    {
     "name": "stderr",
     "output_type": "stream",
     "text": [
      "[Parallel(n_jobs=1)]: Using backend SequentialBackend with 1 concurrent workers.\n",
      "[Parallel(n_jobs=1)]: Done   1 out of   1 | elapsed:    0.0s finished\n",
      "[Parallel(n_jobs=1)]: Using backend SequentialBackend with 1 concurrent workers.\n",
      "[Parallel(n_jobs=1)]: Done   1 out of   1 | elapsed:    0.0s finished\n",
      "[Parallel(n_jobs=1)]: Using backend SequentialBackend with 1 concurrent workers.\n",
      "[Parallel(n_jobs=1)]: Done   1 out of   1 | elapsed:    0.0s finished\n"
     ]
    },
    {
     "name": "stdout",
     "output_type": "stream",
     "text": [
      "Results: -0.7967216831884949\n",
      "================\n",
      "================\n",
      "Configuration:\n",
      "C: 1.805971931551963\n",
      "Tolerance: 0.01783284908051233\n",
      "Solver: newton-cholesky\n",
      "Oversampling Method: none\n",
      "----------------\n",
      "Newton iter=1\n",
      "  Check Convergence\n",
      "    1. max |gradient| 0.028204329214274605 <= 0.01783284908051233\n",
      "Newton iter=2\n",
      "  Check Convergence\n",
      "    1. max |gradient| 0.005694066084907757 <= 0.01783284908051233\n",
      "    2. Newton decrement 0.022089541528546648 <= 0.01783284908051233\n",
      "Newton iter=3\n",
      "  Check Convergence\n",
      "    1. max |gradient| 0.0015078161058438774 <= 0.01783284908051233\n",
      "    2. Newton decrement 0.004433365491370188 <= 0.01783284908051233\n",
      "  Solver did converge at loss = 0.4664471618585992.\n",
      "Newton iter=1\n",
      "  Check Convergence\n",
      "    1. max |gradient| 0.0341670629730365 <= 0.01783284908051233\n",
      "Newton iter=2\n",
      "  Check Convergence\n",
      "    1. max |gradient| 0.006562530727286825 <= 0.01783284908051233\n",
      "    2. Newton decrement 0.021685055219406196 <= 0.01783284908051233\n",
      "Newton iter=3\n",
      "  Check Convergence\n",
      "    1. max |gradient| 0.0010245623889185449 <= 0.01783284908051233\n",
      "    2. Newton decrement 0.0036312887205394153 <= 0.01783284908051233\n",
      "  Solver did converge at loss = 0.45853215540171555.\n"
     ]
    },
    {
     "name": "stderr",
     "output_type": "stream",
     "text": [
      "[Parallel(n_jobs=1)]: Using backend SequentialBackend with 1 concurrent workers.\n",
      "[Parallel(n_jobs=1)]: Done   1 out of   1 | elapsed:    0.0s finished\n",
      "[Parallel(n_jobs=1)]: Using backend SequentialBackend with 1 concurrent workers.\n",
      "[Parallel(n_jobs=1)]: Done   1 out of   1 | elapsed:    0.0s finished\n",
      "[Parallel(n_jobs=1)]: Using backend SequentialBackend with 1 concurrent workers.\n",
      "[Parallel(n_jobs=1)]: Done   1 out of   1 | elapsed:    0.0s finished\n"
     ]
    },
    {
     "name": "stdout",
     "output_type": "stream",
     "text": [
      "Newton iter=1\n",
      "  Check Convergence\n",
      "    1. max |gradient| 0.03531404401555287 <= 0.01783284908051233\n",
      "Newton iter=2\n",
      "  Check Convergence\n",
      "    1. max |gradient| 0.00700166489297844 <= 0.01783284908051233\n",
      "    2. Newton decrement 0.022813880500241964 <= 0.01783284908051233\n",
      "Newton iter=3\n",
      "  Check Convergence\n",
      "    1. max |gradient| 0.001138950159980193 <= 0.01783284908051233\n",
      "    2. Newton decrement 0.004022937080350803 <= 0.01783284908051233\n",
      "  Solver did converge at loss = 0.45434201682166436.\n",
      "Results: -0.8593443872060197\n",
      "================\n",
      "================\n",
      "Configuration:\n",
      "C: 1.7917331085774268\n",
      "Tolerance: 0.018077658446767512\n",
      "Solver: newton-cholesky\n",
      "Oversampling Method: none\n",
      "----------------\n",
      "Newton iter=1\n",
      "  Check Convergence\n",
      "    1. max |gradient| 0.028203379797922323 <= 0.018077658446767512\n",
      "Newton iter=2\n",
      "  Check Convergence\n",
      "    1. max |gradient| 0.0056931207926591496 <= 0.018077658446767512\n",
      "    2. Newton decrement 0.02208499797812365 <= 0.018077658446767512\n",
      "Newton iter=3\n",
      "  Check Convergence\n",
      "    1. max |gradient| 0.0015060621370745042 <= 0.018077658446767512\n",
      "    2. Newton decrement 0.00442916644803627 <= 0.018077658446767512\n",
      "  Solver did converge at loss = 0.46646399102275077.\n",
      "Newton iter=1\n",
      "  Check Convergence\n",
      "    1. max |gradient| 0.034166427991817266 <= 0.018077658446767512\n",
      "Newton iter=2\n"
     ]
    },
    {
     "name": "stderr",
     "output_type": "stream",
     "text": [
      "[Parallel(n_jobs=1)]: Using backend SequentialBackend with 1 concurrent workers.\n",
      "[Parallel(n_jobs=1)]: Done   1 out of   1 | elapsed:    0.0s finished\n",
      "[Parallel(n_jobs=1)]: Using backend SequentialBackend with 1 concurrent workers.\n"
     ]
    },
    {
     "name": "stdout",
     "output_type": "stream",
     "text": [
      "  Check Convergence\n",
      "    1. max |gradient| 0.006561690005372681 <= 0.018077658446767512\n",
      "    2. Newton decrement 0.021680962044923355 <= 0.018077658446767512\n",
      "Newton iter=3\n",
      "  Check Convergence\n",
      "    1. max |gradient| 0.0010230901885991909 <= 0.018077658446767512\n",
      "    2. Newton decrement 0.0036275744385716848 <= 0.018077658446767512\n",
      "  Solver did converge at loss = 0.4585466790960889.\n",
      "Newton iter=1\n",
      "  Check Convergence\n",
      "    1. max |gradient| 0.035313437038328156 <= 0.018077658446767512\n",
      "Newton iter=2\n",
      "  Check Convergence\n",
      "    1. max |gradient| 0.007000943093701043 <= 0.018077658446767512\n",
      "    2. Newton decrement 0.022810034168247874 <= 0.018077658446767512\n",
      "Newton iter=3\n",
      "  Check Convergence\n",
      "    1. max |gradient| 0.0011373809201755689 <= 0.018077658446767512\n",
      "    2. Newton decrement 0.004019152726476833 <= 0.018077658446767512\n",
      "  Solver did converge at loss = 0.4543560152742219.\n",
      "Results: -0.8593431462949476\n",
      "================\n"
     ]
    },
    {
     "name": "stderr",
     "output_type": "stream",
     "text": [
      "[Parallel(n_jobs=1)]: Done   1 out of   1 | elapsed:    0.0s finished\n",
      "[Parallel(n_jobs=1)]: Using backend SequentialBackend with 1 concurrent workers.\n",
      "[Parallel(n_jobs=1)]: Done   1 out of   1 | elapsed:    0.0s finished\n"
     ]
    },
    {
     "name": "stdout",
     "output_type": "stream",
     "text": [
      "================\n",
      "Configuration:\n",
      "C: 3.0\n",
      "Tolerance: 0.0001\n",
      "Solver: newton-cg\n",
      "Oversampling Method: ada\n",
      "----------------\n"
     ]
    },
    {
     "name": "stderr",
     "output_type": "stream",
     "text": [
      "[Parallel(n_jobs=1)]: Using backend SequentialBackend with 1 concurrent workers.\n",
      "[Parallel(n_jobs=1)]: Done   1 out of   1 | elapsed:    0.1s finished\n",
      "[Parallel(n_jobs=1)]: Using backend SequentialBackend with 1 concurrent workers.\n",
      "[Parallel(n_jobs=1)]: Done   1 out of   1 | elapsed:    0.1s finished\n",
      "[Parallel(n_jobs=1)]: Using backend SequentialBackend with 1 concurrent workers.\n",
      "[Parallel(n_jobs=1)]: Done   1 out of   1 | elapsed:    0.1s finished\n"
     ]
    },
    {
     "name": "stdout",
     "output_type": "stream",
     "text": [
      "Results: -0.8597611601942617\n",
      "================\n",
      "================\n",
      "Configuration:\n",
      "C: 1.7980517714562632\n",
      "Tolerance: 0.017398401364171687\n",
      "Solver: newton-cholesky\n",
      "Oversampling Method: none\n",
      "----------------\n",
      "Newton iter=1\n",
      "  Check Convergence\n",
      "    1. max |gradient| 0.028203802483700684 <= 0.017398401364171687\n",
      "Newton iter=2\n",
      "  Check Convergence\n",
      "    1. max |gradient| 0.0056935418774340316 <= 0.017398401364171687\n",
      "    2. Newton decrement 0.02208702202074179 <= 0.017398401364171687\n",
      "Newton iter=3\n",
      "  Check Convergence\n",
      "    1. max |gradient| 0.0015068433918998825 <= 0.017398401364171687\n",
      "    2. Newton decrement 0.004431036689909996 <= 0.017398401364171687\n",
      "  Solver did converge at loss = 0.4664564949000717.\n",
      "Newton iter=1\n",
      "  Check Convergence\n",
      "    1. max |gradient| 0.03416671090085646 <= 0.017398401364171687\n",
      "Newton iter=2\n"
     ]
    },
    {
     "name": "stderr",
     "output_type": "stream",
     "text": [
      "[Parallel(n_jobs=1)]: Using backend SequentialBackend with 1 concurrent workers.\n",
      "[Parallel(n_jobs=1)]: Done   1 out of   1 | elapsed:    0.0s finished\n",
      "[Parallel(n_jobs=1)]: Using backend SequentialBackend with 1 concurrent workers.\n",
      "[Parallel(n_jobs=1)]: Done   1 out of   1 | elapsed:    0.0s finished\n"
     ]
    },
    {
     "name": "stdout",
     "output_type": "stream",
     "text": [
      "  Check Convergence\n",
      "    1. max |gradient| 0.006562064606316677 <= 0.017398401364171687\n",
      "    2. Newton decrement 0.021682785682080583 <= 0.017398401364171687\n",
      "Newton iter=3\n",
      "  Check Convergence\n",
      "    1. max |gradient| 0.0010237458927255013 <= 0.017398401364171687\n",
      "    2. Newton decrement 0.003629228751094924 <= 0.017398401364171687\n",
      "  Solver did converge at loss = 0.4585402092174883.\n",
      "Newton iter=1\n",
      "  Check Convergence\n",
      "    1. max |gradient| 0.03531370747725232 <= 0.017398401364171687\n",
      "Newton iter=2\n",
      "  Check Convergence\n",
      "    1. max |gradient| 0.007001264700725147 <= 0.017398401364171687\n",
      "    2. Newton decrement 0.02281174795996003 <= 0.017398401364171687\n",
      "Newton iter=3\n",
      "  Check Convergence\n",
      "    1. max |gradient| 0.0011380798670098352 <= 0.017398401364171687\n",
      "    2. Newton decrement 0.004020838376459076 <= 0.017398401364171687\n",
      "  Solver did converge at loss = 0.4543497788134136.\n",
      "Results: -0.8593437141685727\n",
      "================\n"
     ]
    },
    {
     "name": "stderr",
     "output_type": "stream",
     "text": [
      "[Parallel(n_jobs=1)]: Using backend SequentialBackend with 1 concurrent workers.\n",
      "[Parallel(n_jobs=1)]: Done   1 out of   1 | elapsed:    0.0s finished\n"
     ]
    },
    {
     "name": "stdout",
     "output_type": "stream",
     "text": [
      "================\n",
      "Configuration:\n",
      "C: 1.812364609248573\n",
      "Tolerance: 0.017611667575246442\n",
      "Solver: newton-cholesky\n",
      "Oversampling Method: none\n",
      "----------------\n",
      "Newton iter=1\n",
      "  Check Convergence\n",
      "    1. max |gradient| 0.028204751881677405 <= 0.017611667575246442\n",
      "Newton iter=2\n",
      "  Check Convergence\n",
      "    1. max |gradient| 0.005694486302206506 <= 0.017611667575246442\n",
      "    2. Newton decrement 0.022091561045511694 <= 0.017611667575246442\n",
      "Newton iter=3\n",
      "  Check Convergence\n",
      "    1. max |gradient| 0.0015085959569629346 <= 0.017611667575246442\n",
      "    2. Newton decrement 0.004435232738540005 <= 0.017611667575246442\n",
      "  Solver did converge at loss = 0.4664396793814097.\n",
      "Newton iter=1\n",
      "  Check Convergence\n",
      "    1. max |gradient| 0.03416734510524342 <= 0.017611667575246442\n",
      "Newton iter=2\n",
      "  Check Convergence\n",
      "    1. max |gradient| 0.006562904203888576 <= 0.017611667575246442\n",
      "    2. Newton decrement 0.021686873962153387 <= 0.017611667575246442\n",
      "Newton iter=3\n",
      "  Check Convergence\n",
      "    1. max |gradient| 0.0010252170770073 <= 0.017611667575246442\n",
      "    2. Newton decrement 0.0036329404475899827 <= 0.017611667575246442\n",
      "  Solver did converge at loss = 0.4585256997184498.\n"
     ]
    },
    {
     "name": "stderr",
     "output_type": "stream",
     "text": [
      "[Parallel(n_jobs=1)]: Using backend SequentialBackend with 1 concurrent workers.\n",
      "[Parallel(n_jobs=1)]: Done   1 out of   1 | elapsed:    0.0s finished\n",
      "[Parallel(n_jobs=1)]: Using backend SequentialBackend with 1 concurrent workers.\n",
      "[Parallel(n_jobs=1)]: Done   1 out of   1 | elapsed:    0.0s finished\n",
      "[Parallel(n_jobs=1)]: Using backend SequentialBackend with 1 concurrent workers.\n"
     ]
    },
    {
     "name": "stdout",
     "output_type": "stream",
     "text": [
      "Newton iter=1\n",
      "  Check Convergence\n",
      "    1. max |gradient| 0.03531431368751036 <= 0.017611667575246442\n",
      "Newton iter=2\n",
      "  Check Convergence\n",
      "    1. max |gradient| 0.007001985554884847 <= 0.017611667575246442\n",
      "    2. Newton decrement 0.022815589221991787 <= 0.017611667575246442\n",
      "Newton iter=3\n",
      "  Check Convergence\n",
      "    1. max |gradient| 0.0011396479436337524 <= 0.017611667575246442\n",
      "    2. Newton decrement 0.004024619634770672 <= 0.017611667575246442\n",
      "  Solver did converge at loss = 0.45433579607055635.\n",
      "Results: -0.8593448966604648\n",
      "================\n"
     ]
    },
    {
     "name": "stderr",
     "output_type": "stream",
     "text": [
      "[Parallel(n_jobs=1)]: Done   1 out of   1 | elapsed:    0.0s finished\n"
     ]
    },
    {
     "name": "stdout",
     "output_type": "stream",
     "text": [
      "================\n",
      "Configuration:\n",
      "C: 1.839636439452486\n",
      "Tolerance: 0.017739720044216655\n",
      "Solver: newton-cholesky\n",
      "Oversampling Method: none\n",
      "----------------\n",
      "Newton iter=1\n",
      "  Check Convergence\n",
      "    1. max |gradient| 0.028206530688901048 <= 0.017739720044216655\n",
      "Newton iter=2\n",
      "  Check Convergence\n",
      "    1. max |gradient| 0.005696250611452303 <= 0.017739720044216655\n",
      "    2. Newton decrement 0.022100038236234725 <= 0.017739720044216655\n",
      "Newton iter=3\n",
      "  Check Convergence\n",
      "    1. max |gradient| 0.001511871084272724 <= 0.017739720044216655\n",
      "    2. Newton decrement 0.004443076419361717 <= 0.017739720044216655\n",
      "  Solver did converge at loss = 0.46640825555160037.\n",
      "Newton iter=1\n",
      "  Check Convergence\n",
      "    1. max |gradient| 0.03416852869672293 <= 0.017739720044216655\n",
      "Newton iter=2\n",
      "  Check Convergence\n",
      "    1. max |gradient| 0.006564470512375691 <= 0.017739720044216655\n",
      "    2. Newton decrement 0.02169450433502851 <= 0.017739720044216655\n",
      "Newton iter=3\n",
      "  Check Convergence\n",
      "    1. max |gradient| 0.0010279673445520734 <= 0.017739720044216655\n",
      "    2. Newton decrement 0.0036398790746694954 <= 0.017739720044216655\n",
      "  Solver did converge at loss = 0.4584986000964884.\n"
     ]
    },
    {
     "name": "stderr",
     "output_type": "stream",
     "text": [
      "[Parallel(n_jobs=1)]: Using backend SequentialBackend with 1 concurrent workers.\n",
      "[Parallel(n_jobs=1)]: Done   1 out of   1 | elapsed:    0.0s finished\n",
      "[Parallel(n_jobs=1)]: Using backend SequentialBackend with 1 concurrent workers.\n",
      "[Parallel(n_jobs=1)]: Done   1 out of   1 | elapsed:    0.0s finished\n",
      "[Parallel(n_jobs=1)]: Using backend SequentialBackend with 1 concurrent workers.\n"
     ]
    },
    {
     "name": "stdout",
     "output_type": "stream",
     "text": [
      "Newton iter=1\n",
      "  Check Convergence\n",
      "    1. max |gradient| 0.03531544488649436 <= 0.017739720044216655\n",
      "Newton iter=2\n",
      "  Check Convergence\n",
      "    1. max |gradient| 0.007003330474016156 <= 0.017739720044216655\n",
      "    2. Newton decrement 0.022822755712109677 <= 0.017739720044216655\n",
      "Newton iter=3\n",
      "  Check Convergence\n",
      "    1. max |gradient| 0.0011425788587367239 <= 0.017739720044216655\n",
      "    2. Newton decrement 0.00403168550935446 <= 0.017739720044216655\n",
      "  Solver did converge at loss = 0.45430969260031445.\n",
      "Results: -0.8593470758598021\n",
      "================\n"
     ]
    },
    {
     "name": "stderr",
     "output_type": "stream",
     "text": [
      "[Parallel(n_jobs=1)]: Done   1 out of   1 | elapsed:    0.0s finished\n"
     ]
    },
    {
     "name": "stdout",
     "output_type": "stream",
     "text": [
      "================\n",
      "Configuration:\n",
      "C: 1.8445639304375407\n",
      "Tolerance: 0.016117876498993457\n",
      "Solver: newton-cholesky\n",
      "Oversampling Method: ada\n",
      "----------------\n",
      "Newton iter=1\n",
      "  Check Convergence\n",
      "    1. max |gradient| 0.02820684796170768 <= 0.016117876498993457\n",
      "Newton iter=2\n",
      "  Check Convergence\n",
      "    1. max |gradient| 0.005696564582013905 <= 0.016117876498993457\n",
      "    2. Newton decrement 0.022101546470638764 <= 0.016117876498993457\n",
      "Newton iter=3\n",
      "  Check Convergence\n",
      "    1. max |gradient| 0.001512454046463035 <= 0.016117876498993457\n",
      "    2. Newton decrement 0.004444472887788175 <= 0.016117876498993457\n",
      "  Solver did converge at loss = 0.4664026621604669.\n",
      "Newton iter=1\n",
      "  Check Convergence\n",
      "    1. max |gradient| 0.03416873916020679 <= 0.016117876498993457\n",
      "Newton iter=2\n",
      "  Check Convergence\n",
      "    1. max |gradient| 0.006564748944136336 <= 0.016117876498993457\n",
      "    2. Newton decrement 0.02169586121232841 <= 0.016117876498993457\n",
      "Newton iter=3\n",
      "  Check Convergence\n",
      "    1. max |gradient| 0.0010284570161279032 <= 0.016117876498993457\n",
      "    2. Newton decrement 0.0036411144518209656 <= 0.016117876498993457\n",
      "  Solver did converge at loss = 0.45849377848021283.\n"
     ]
    },
    {
     "name": "stderr",
     "output_type": "stream",
     "text": [
      "[Parallel(n_jobs=1)]: Using backend SequentialBackend with 1 concurrent workers.\n",
      "[Parallel(n_jobs=1)]: Done   1 out of   1 | elapsed:    0.0s finished\n",
      "[Parallel(n_jobs=1)]: Using backend SequentialBackend with 1 concurrent workers.\n",
      "[Parallel(n_jobs=1)]: Done   1 out of   1 | elapsed:    0.0s finished\n",
      "[Parallel(n_jobs=1)]: Using backend SequentialBackend with 1 concurrent workers.\n",
      "[Parallel(n_jobs=1)]: Done   1 out of   1 | elapsed:    0.0s finished\n"
     ]
    },
    {
     "name": "stdout",
     "output_type": "stream",
     "text": [
      "Newton iter=1\n",
      "  Check Convergence\n",
      "    1. max |gradient| 0.035315646013217496 <= 0.016117876498993457\n",
      "Newton iter=2\n",
      "  Check Convergence\n",
      "    1. max |gradient| 0.007003569570529971 <= 0.016117876498993457\n",
      "    2. Newton decrement 0.022824029707553626 <= 0.016117876498993457\n",
      "Newton iter=3\n",
      "  Check Convergence\n",
      "    1. max |gradient| 0.0011431006270305139 <= 0.016117876498993457\n",
      "    2. Newton decrement 0.004032943158828736 <= 0.016117876498993457\n",
      "  Solver did converge at loss = 0.45430504992193893.\n",
      "Results: -0.859347500012488\n",
      "================\n",
      "================\n",
      "Configuration:\n",
      "C: 1.8501136516125571\n",
      "Tolerance: 0.017633530886543347\n",
      "Solver: newton-cholesky\n",
      "Oversampling Method: ada\n",
      "----------------\n",
      "Newton iter=1\n",
      "  Check Convergence\n",
      "    1. max |gradient| 0.028207203816712236 <= 0.017633530886543347\n",
      "Newton iter=2\n",
      "  Check Convergence\n",
      "    1. max |gradient| 0.0056969164733219535 <= 0.017633530886543347\n",
      "    2. Newton decrement 0.02210323673821176 <= 0.017633530886543347\n",
      "Newton iter=3\n",
      "  Check Convergence\n",
      "    1. max |gradient| 0.0015131074591182537 <= 0.017633530886543347\n",
      "    2. Newton decrement 0.004446038235199044 <= 0.017633530886543347\n",
      "  Solver did converge at loss = 0.4663963927652459.\n",
      "Newton iter=1\n",
      "  Check Convergence\n",
      "    1. max |gradient| 0.03416897498320783 <= 0.017633530886543347\n",
      "Newton iter=2\n"
     ]
    },
    {
     "name": "stderr",
     "output_type": "stream",
     "text": [
      "[Parallel(n_jobs=1)]: Using backend SequentialBackend with 1 concurrent workers.\n",
      "[Parallel(n_jobs=1)]: Done   1 out of   1 | elapsed:    0.0s finished\n",
      "[Parallel(n_jobs=1)]: Using backend SequentialBackend with 1 concurrent workers.\n",
      "[Parallel(n_jobs=1)]: Done   1 out of   1 | elapsed:    0.0s finished\n"
     ]
    },
    {
     "name": "stdout",
     "output_type": "stream",
     "text": [
      "  Check Convergence\n",
      "    1. max |gradient| 0.006565060893385674 <= 0.017633530886543347\n",
      "    2. Newton decrement 0.021697381602398976 <= 0.017633530886543347\n",
      "Newton iter=3\n",
      "  Check Convergence\n",
      "    1. max |gradient| 0.0010290059116785893 <= 0.017633530886543347\n",
      "    2. Newton decrement 0.0036424992403351754 <= 0.017633530886543347\n",
      "  Solver did converge at loss = 0.4584883748920531.\n",
      "Newton iter=1\n",
      "  Check Convergence\n",
      "    1. max |gradient| 0.03531587136702626 <= 0.017633530886543347\n",
      "Newton iter=2\n",
      "  Check Convergence\n",
      "    1. max |gradient| 0.0070038374568721275 <= 0.017633530886543347\n",
      "    2. Newton decrement 0.022825457086572347 <= 0.017633530886543347\n",
      "Newton iter=3\n",
      "  Check Convergence\n",
      "    1. max |gradient| 0.0011436854772062057 <= 0.017633530886543347\n",
      "    2. Newton decrement 0.0040343527751003395 <= 0.017633530886543347\n",
      "  Solver did converge at loss = 0.45429984748569535.\n",
      "Results: -0.8593480199801791\n",
      "================\n"
     ]
    },
    {
     "name": "stderr",
     "output_type": "stream",
     "text": [
      "[Parallel(n_jobs=1)]: Using backend SequentialBackend with 1 concurrent workers.\n",
      "[Parallel(n_jobs=1)]: Done   1 out of   1 | elapsed:    0.0s finished\n"
     ]
    },
    {
     "name": "stdout",
     "output_type": "stream",
     "text": [
      "================\n",
      "Configuration:\n",
      "C: 1.867033121059552\n",
      "Tolerance: 0.0172782714278706\n",
      "Solver: sag\n",
      "Oversampling Method: none\n",
      "----------------\n"
     ]
    },
    {
     "name": "stderr",
     "output_type": "stream",
     "text": [
      "[Parallel(n_jobs=1)]: Using backend SequentialBackend with 1 concurrent workers.\n"
     ]
    },
    {
     "name": "stdout",
     "output_type": "stream",
     "text": [
      "convergence after 10 epochs took 0 seconds\n"
     ]
    },
    {
     "name": "stderr",
     "output_type": "stream",
     "text": [
      "[Parallel(n_jobs=1)]: Done   1 out of   1 | elapsed:    0.2s finished\n",
      "[Parallel(n_jobs=1)]: Using backend SequentialBackend with 1 concurrent workers.\n"
     ]
    },
    {
     "name": "stdout",
     "output_type": "stream",
     "text": [
      "convergence after 13 epochs took 1 seconds\n"
     ]
    },
    {
     "name": "stderr",
     "output_type": "stream",
     "text": [
      "[Parallel(n_jobs=1)]: Done   1 out of   1 | elapsed:    0.3s finished\n",
      "[Parallel(n_jobs=1)]: Using backend SequentialBackend with 1 concurrent workers.\n"
     ]
    },
    {
     "name": "stdout",
     "output_type": "stream",
     "text": [
      "convergence after 12 epochs took 0 seconds\n",
      "Results: -0.8595151172602477\n",
      "================\n"
     ]
    },
    {
     "name": "stderr",
     "output_type": "stream",
     "text": [
      "[Parallel(n_jobs=1)]: Done   1 out of   1 | elapsed:    0.3s finished\n"
     ]
    },
    {
     "name": "stdout",
     "output_type": "stream",
     "text": [
      "================\n",
      "Configuration:\n",
      "C: 1.3163887967633914\n",
      "Tolerance: 0.03500144797210868\n",
      "Solver: newton-cholesky\n",
      "Oversampling Method: ada\n",
      "----------------\n",
      "Newton iter=1\n",
      "  Check Convergence\n",
      "    1. max |gradient| 0.028163148178494343 <= 0.03500144797210868\n",
      "    2. Newton decrement 0.1719017543954518 <= 0.03500144797210868\n",
      "Newton iter=2\n",
      "  Check Convergence\n",
      "    1. max |gradient| 0.005651549256186723 <= 0.03500144797210868\n",
      "    2. Newton decrement 0.02188501971916997 <= 0.03500144797210868\n",
      "  Solver did converge at loss = 0.472228543930655.\n",
      "Newton iter=1\n",
      "  Check Convergence\n",
      "    1. max |gradient| 0.03413814100323283 <= 0.03500144797210868\n",
      "    2. Newton decrement 0.18105977518937447 <= 0.03500144797210868\n",
      "Newton iter=2\n",
      "  Check Convergence\n",
      "    1. max |gradient| 0.0065241355069363205 <= 0.03500144797210868\n",
      "    2. Newton decrement 0.02149935620795509 <= 0.03500144797210868\n",
      "  Solver did converge at loss = 0.4631969499395535.\n"
     ]
    },
    {
     "name": "stderr",
     "output_type": "stream",
     "text": [
      "[Parallel(n_jobs=1)]: Using backend SequentialBackend with 1 concurrent workers.\n",
      "[Parallel(n_jobs=1)]: Done   1 out of   1 | elapsed:    0.0s finished\n",
      "[Parallel(n_jobs=1)]: Using backend SequentialBackend with 1 concurrent workers.\n",
      "[Parallel(n_jobs=1)]: Done   1 out of   1 | elapsed:    0.0s finished\n",
      "[Parallel(n_jobs=1)]: Using backend SequentialBackend with 1 concurrent workers.\n"
     ]
    },
    {
     "name": "stdout",
     "output_type": "stream",
     "text": [
      "Newton iter=1\n",
      "  Check Convergence\n",
      "    1. max |gradient| 0.03528634677134999 <= 0.03500144797210868\n",
      "Newton iter=2\n",
      "  Check Convergence\n",
      "    1. max |gradient| 0.00696869821298572 <= 0.03500144797210868\n",
      "    2. Newton decrement 0.022638405116064273 <= 0.03500144797210868\n",
      "  Solver did converge at loss = 0.4594539218983484.\n",
      "Results: -0.8580987049677694\n",
      "================\n"
     ]
    },
    {
     "name": "stderr",
     "output_type": "stream",
     "text": [
      "[Parallel(n_jobs=1)]: Done   1 out of   1 | elapsed:    0.0s finished\n"
     ]
    },
    {
     "name": "stdout",
     "output_type": "stream",
     "text": [
      "================\n",
      "Configuration:\n",
      "C: 3.0\n",
      "Tolerance: 0.01714932798930636\n",
      "Solver: newton-cholesky\n",
      "Oversampling Method: none\n",
      "----------------\n",
      "Newton iter=1\n",
      "  Check Convergence\n",
      "    1. max |gradient| 0.0282594792077637 <= 0.01714932798930636\n",
      "Newton iter=2\n",
      "  Check Convergence\n",
      "    1. max |gradient| 0.005745313002866469 <= 0.01714932798930636\n",
      "    2. Newton decrement 0.02233225734237848 <= 0.01714932798930636\n",
      "Newton iter=3\n",
      "  Check Convergence\n",
      "    1. max |gradient| 0.0016016404701709504 <= 0.01714932798930636\n",
      "    2. Newton decrement 0.004659964171633358 <= 0.01714932798930636\n",
      "  Solver did converge at loss = 0.46553836644145813.\n",
      "Newton iter=1\n",
      "  Check Convergence\n",
      "    1. max |gradient| 0.034200556483618964 <= 0.01714932798930636\n",
      "Newton iter=2\n"
     ]
    },
    {
     "name": "stderr",
     "output_type": "stream",
     "text": [
      "[Parallel(n_jobs=1)]: Using backend SequentialBackend with 1 concurrent workers.\n",
      "[Parallel(n_jobs=1)]: Done   1 out of   1 | elapsed:    0.0s finished\n",
      "[Parallel(n_jobs=1)]: Using backend SequentialBackend with 1 concurrent workers.\n",
      "[Parallel(n_jobs=1)]: Done   1 out of   1 | elapsed:    0.0s finished\n"
     ]
    },
    {
     "name": "stdout",
     "output_type": "stream",
     "text": [
      "  Check Convergence\n",
      "    1. max |gradient| 0.006606273317286807 <= 0.01714932798930636\n",
      "    2. Newton decrement 0.021899980002729642 <= 0.01714932798930636\n",
      "Newton iter=3\n",
      "  Check Convergence\n",
      "    1. max |gradient| 0.001103813589810637 <= 0.01714932798930636\n",
      "    2. Newton decrement 0.003831503356130119 <= 0.01714932798930636\n",
      "  Solver did converge at loss = 0.45775973938751296.\n",
      "Newton iter=1\n",
      "  Check Convergence\n",
      "    1. max |gradient| 0.0353459483597149 <= 0.01714932798930636\n",
      "Newton iter=2\n",
      "  Check Convergence\n",
      "    1. max |gradient| 0.0070394199718326915 <= 0.01714932798930636\n",
      "    2. Newton decrement 0.023014054678116222 <= 0.01714932798930636\n",
      "Newton iter=3\n",
      "  Check Convergence\n",
      "    1. max |gradient| 0.0012231279101518264 <= 0.01714932798930636\n",
      "    2. Newton decrement 0.0042252369963563415 <= 0.01714932798930636\n",
      "  Solver did converge at loss = 0.4536057944134089.\n",
      "Results: -0.8594052156542156\n",
      "================\n"
     ]
    },
    {
     "name": "stderr",
     "output_type": "stream",
     "text": [
      "[Parallel(n_jobs=1)]: Using backend SequentialBackend with 1 concurrent workers.\n",
      "[Parallel(n_jobs=1)]: Done   1 out of   1 | elapsed:    0.0s finished\n"
     ]
    },
    {
     "name": "stdout",
     "output_type": "stream",
     "text": [
      "================\n",
      "Configuration:\n",
      "C: 1.2520478699992448\n",
      "Tolerance: 0.035786744670714514\n",
      "Solver: newton-cholesky\n",
      "Oversampling Method: ada\n",
      "----------------\n",
      "Newton iter=1\n",
      "  Check Convergence\n",
      "    1. max |gradient| 0.02815590064593231 <= 0.035786744670714514\n",
      "    2. Newton decrement 0.17187787213068534 <= 0.035786744670714514\n",
      "Newton iter=2\n",
      "  Check Convergence\n",
      "    1. max |gradient| 0.005643804609363177 <= 0.035786744670714514\n",
      "    2. Newton decrement 0.02184783367807682 <= 0.035786744670714514\n",
      "  Solver did converge at loss = 0.47231911361984574.\n",
      "Newton iter=1\n",
      "  Check Convergence\n",
      "    1. max |gradient| 0.03413280481832069 <= 0.035786744670714514\n",
      "    2. Newton decrement 0.18104075299972153 <= 0.035786744670714514\n",
      "Newton iter=2\n",
      "  Check Convergence\n",
      "    1. max |gradient| 0.006517052090976891 <= 0.035786744670714514\n",
      "    2. Newton decrement 0.021465349609304803 <= 0.035786744670714514\n",
      "  Solver did converge at loss = 0.4632762329847009.\n"
     ]
    },
    {
     "name": "stderr",
     "output_type": "stream",
     "text": [
      "[Parallel(n_jobs=1)]: Using backend SequentialBackend with 1 concurrent workers.\n",
      "[Parallel(n_jobs=1)]: Done   1 out of   1 | elapsed:    0.0s finished\n",
      "[Parallel(n_jobs=1)]: Using backend SequentialBackend with 1 concurrent workers.\n",
      "[Parallel(n_jobs=1)]: Done   1 out of   1 | elapsed:    0.0s finished\n",
      "[Parallel(n_jobs=1)]: Using backend SequentialBackend with 1 concurrent workers.\n",
      "[Parallel(n_jobs=1)]: Done   1 out of   1 | elapsed:    0.0s finished\n"
     ]
    },
    {
     "name": "stdout",
     "output_type": "stream",
     "text": [
      "Newton iter=1\n",
      "  Check Convergence\n",
      "    1. max |gradient| 0.035281225633366296 <= 0.035786744670714514\n",
      "    2. Newton decrement 0.18262672205831013 <= 0.035786744670714514\n",
      "Newton iter=2\n",
      "  Check Convergence\n",
      "    1. max |gradient| 0.006962606197659508 <= 0.035786744670714514\n",
      "    2. Newton decrement 0.022606071945291822 <= 0.035786744670714514\n",
      "  Solver did converge at loss = 0.45952891578497823.\n",
      "Results: -0.8580891633666218\n",
      "================\n",
      "================\n",
      "Configuration:\n",
      "C: 3.0\n",
      "Tolerance: 0.017631193482607582\n",
      "Solver: newton-cholesky\n",
      "Oversampling Method: none\n",
      "----------------\n",
      "Newton iter=1\n",
      "  Check Convergence\n",
      "    1. max |gradient| 0.0282594792077637 <= 0.017631193482607582\n",
      "Newton iter=2\n",
      "  Check Convergence\n",
      "    1. max |gradient| 0.005745313002866469 <= 0.017631193482607582\n",
      "    2. Newton decrement 0.02233225734237848 <= 0.017631193482607582\n",
      "Newton iter=3\n",
      "  Check Convergence\n",
      "    1. max |gradient| 0.0016016404701709504 <= 0.017631193482607582\n",
      "    2. Newton decrement 0.004659964171633358 <= 0.017631193482607582\n",
      "  Solver did converge at loss = 0.46553836644145813.\n",
      "Newton iter=1\n",
      "  Check Convergence\n",
      "    1. max |gradient| 0.034200556483618964 <= 0.017631193482607582\n",
      "Newton iter=2\n",
      "  Check Convergence\n",
      "    1. max |gradient| 0.006606273317286807 <= 0.017631193482607582\n",
      "    2. Newton decrement 0.021899980002729642 <= 0.017631193482607582\n",
      "Newton iter=3\n"
     ]
    },
    {
     "name": "stderr",
     "output_type": "stream",
     "text": [
      "[Parallel(n_jobs=1)]: Using backend SequentialBackend with 1 concurrent workers.\n",
      "[Parallel(n_jobs=1)]: Done   1 out of   1 | elapsed:    0.0s finished\n",
      "[Parallel(n_jobs=1)]: Using backend SequentialBackend with 1 concurrent workers.\n"
     ]
    },
    {
     "name": "stdout",
     "output_type": "stream",
     "text": [
      "  Check Convergence\n",
      "    1. max |gradient| 0.001103813589810637 <= 0.017631193482607582\n",
      "    2. Newton decrement 0.003831503356130119 <= 0.017631193482607582\n",
      "  Solver did converge at loss = 0.45775973938751296.\n",
      "Newton iter=1\n",
      "  Check Convergence\n",
      "    1. max |gradient| 0.0353459483597149 <= 0.017631193482607582\n",
      "Newton iter=2\n",
      "  Check Convergence\n",
      "    1. max |gradient| 0.0070394199718326915 <= 0.017631193482607582\n",
      "    2. Newton decrement 0.023014054678116222 <= 0.017631193482607582\n",
      "Newton iter=3\n",
      "  Check Convergence\n",
      "    1. max |gradient| 0.0012231279101518264 <= 0.017631193482607582\n",
      "    2. Newton decrement 0.0042252369963563415 <= 0.017631193482607582\n",
      "  Solver did converge at loss = 0.4536057944134089.\n",
      "Results: -0.8594052156542156\n",
      "================\n"
     ]
    },
    {
     "name": "stderr",
     "output_type": "stream",
     "text": [
      "[Parallel(n_jobs=1)]: Done   1 out of   1 | elapsed:    0.0s finished\n",
      "[Parallel(n_jobs=1)]: Using backend SequentialBackend with 1 concurrent workers.\n",
      "[Parallel(n_jobs=1)]: Done   1 out of   1 | elapsed:    0.0s finished\n"
     ]
    },
    {
     "name": "stdout",
     "output_type": "stream",
     "text": [
      "================\n",
      "Configuration:\n",
      "C: 2.999760113458551\n",
      "Tolerance: 0.022009253023669396\n",
      "Solver: sag\n",
      "Oversampling Method: none\n",
      "----------------\n"
     ]
    },
    {
     "name": "stderr",
     "output_type": "stream",
     "text": [
      "[Parallel(n_jobs=1)]: Using backend SequentialBackend with 1 concurrent workers.\n"
     ]
    },
    {
     "name": "stdout",
     "output_type": "stream",
     "text": [
      "convergence after 9 epochs took 0 seconds\n"
     ]
    },
    {
     "name": "stderr",
     "output_type": "stream",
     "text": [
      "[Parallel(n_jobs=1)]: Done   1 out of   1 | elapsed:    0.3s finished\n",
      "[Parallel(n_jobs=1)]: Using backend SequentialBackend with 1 concurrent workers.\n"
     ]
    },
    {
     "name": "stdout",
     "output_type": "stream",
     "text": [
      "convergence after 11 epochs took 0 seconds\n"
     ]
    },
    {
     "name": "stderr",
     "output_type": "stream",
     "text": [
      "[Parallel(n_jobs=1)]: Done   1 out of   1 | elapsed:    0.4s finished\n",
      "[Parallel(n_jobs=1)]: Using backend SequentialBackend with 1 concurrent workers.\n"
     ]
    },
    {
     "name": "stdout",
     "output_type": "stream",
     "text": [
      "convergence after 10 epochs took 0 seconds\n",
      "Results: -0.8595558504050591\n",
      "================\n"
     ]
    },
    {
     "name": "stderr",
     "output_type": "stream",
     "text": [
      "[Parallel(n_jobs=1)]: Done   1 out of   1 | elapsed:    0.3s finished\n"
     ]
    },
    {
     "name": "stdout",
     "output_type": "stream",
     "text": [
      "================\n",
      "Configuration:\n",
      "C: 1.314002474768912\n",
      "Tolerance: 0.034779128489350455\n",
      "Solver: newton-cholesky\n",
      "Oversampling Method: ada\n",
      "----------------\n",
      "Newton iter=1\n",
      "  Check Convergence\n",
      "    1. max |gradient| 0.02816288969177898 <= 0.034779128489350455\n",
      "    2. Newton decrement 0.17190090543246328 <= 0.034779128489350455\n",
      "Newton iter=2\n",
      "  Check Convergence\n",
      "    1. max |gradient| 0.005651274129638395 <= 0.034779128489350455\n",
      "    2. Newton decrement 0.02188369801339457 <= 0.034779128489350455\n",
      "  Solver did converge at loss = 0.47223176341687817.\n",
      "Newton iter=1\n",
      "  Check Convergence\n",
      "    1. max |gradient| 0.03413795175764777 <= 0.034779128489350455\n",
      "    2. Newton decrement 0.18105910075573323 <= 0.034779128489350455\n",
      "Newton iter=2\n",
      "  Check Convergence\n",
      "    1. max |gradient| 0.006523884206380141 <= 0.034779128489350455\n",
      "    2. Newton decrement 0.02149814849943987 <= 0.034779128489350455\n",
      "  Solver did converge at loss = 0.463199764853112.\n"
     ]
    },
    {
     "name": "stderr",
     "output_type": "stream",
     "text": [
      "[Parallel(n_jobs=1)]: Using backend SequentialBackend with 1 concurrent workers.\n",
      "[Parallel(n_jobs=1)]: Done   1 out of   1 | elapsed:    0.0s finished\n",
      "[Parallel(n_jobs=1)]: Using backend SequentialBackend with 1 concurrent workers.\n",
      "[Parallel(n_jobs=1)]: Done   1 out of   1 | elapsed:    0.0s finished\n",
      "[Parallel(n_jobs=1)]: Using backend SequentialBackend with 1 concurrent workers.\n",
      "[Parallel(n_jobs=1)]: Done   1 out of   1 | elapsed:    0.0s finished\n"
     ]
    },
    {
     "name": "stdout",
     "output_type": "stream",
     "text": [
      "Newton iter=1\n",
      "  Check Convergence\n",
      "    1. max |gradient| 0.03528616521054187 <= 0.034779128489350455\n",
      "Newton iter=2\n",
      "  Check Convergence\n",
      "    1. max |gradient| 0.006968482172979096 <= 0.034779128489350455\n",
      "    2. Newton decrement 0.02263725782945808 <= 0.034779128489350455\n",
      "  Solver did converge at loss = 0.45945658173897597.\n",
      "Results: -0.8580984549143279\n",
      "================\n",
      "================\n",
      "Configuration:\n",
      "C: 1.3116253470170667\n",
      "Tolerance: 0.03500842653784119\n",
      "Solver: newton-cholesky\n",
      "Oversampling Method: ada\n",
      "----------------\n",
      "Newton iter=1\n",
      "  Check Convergence\n",
      "    1. max |gradient| 0.028162631445170998 <= 0.03500842653784119\n",
      "    2. Newton decrement 0.17190005704451308 <= 0.03500842653784119\n",
      "Newton iter=2\n",
      "  Check Convergence\n",
      "    1. max |gradient| 0.005650999175192059 <= 0.03500842653784119\n",
      "    2. Newton decrement 0.021882377182153825 <= 0.03500842653784119\n",
      "  Solver did converge at loss = 0.4722349807405777.\n",
      "Newton iter=1\n",
      "  Check Convergence\n",
      "    1. max |gradient| 0.03413776260651205 <= 0.03500842653784119\n",
      "    2. Newton decrement 0.18105842664533092 <= 0.03500842653784119\n",
      "Newton iter=2\n",
      "  Check Convergence\n",
      "    1. max |gradient| 0.006523633037007435 <= 0.03500842653784119\n",
      "    2. Newton decrement 0.021496941514104712 <= 0.03500842653784119\n",
      "  Solver did converge at loss = 0.46320257813307325.\n",
      "Newton iter=1\n",
      "  Check Convergence\n",
      "    1. max |gradient| 0.03528598373608554 <= 0.03500842653784119\n",
      "Newton iter=2\n"
     ]
    },
    {
     "name": "stderr",
     "output_type": "stream",
     "text": [
      "[Parallel(n_jobs=1)]: Using backend SequentialBackend with 1 concurrent workers.\n",
      "[Parallel(n_jobs=1)]: Done   1 out of   1 | elapsed:    0.0s finished\n",
      "[Parallel(n_jobs=1)]: Using backend SequentialBackend with 1 concurrent workers.\n",
      "[Parallel(n_jobs=1)]: Done   1 out of   1 | elapsed:    0.0s finished\n",
      "[Parallel(n_jobs=1)]: Using backend SequentialBackend with 1 concurrent workers.\n"
     ]
    },
    {
     "name": "stdout",
     "output_type": "stream",
     "text": [
      "  Check Convergence\n",
      "    1. max |gradient| 0.006968266239594528 <= 0.03500842653784119\n",
      "    2. Newton decrement 0.022636111156260613 <= 0.03500842653784119\n",
      "  Solver did converge at loss = 0.45945924024474477.\n",
      "Results: -0.858098095031473\n",
      "================\n"
     ]
    },
    {
     "name": "stderr",
     "output_type": "stream",
     "text": [
      "[Parallel(n_jobs=1)]: Done   1 out of   1 | elapsed:    0.0s finished\n"
     ]
    },
    {
     "name": "stdout",
     "output_type": "stream",
     "text": [
      "================\n",
      "Configuration:\n",
      "C: 1.3118727855181067\n",
      "Tolerance: 0.03501031958932725\n",
      "Solver: newton-cholesky\n",
      "Oversampling Method: ada\n",
      "----------------\n",
      "Newton iter=1\n",
      "  Check Convergence\n",
      "    1. max |gradient| 0.02816265836170553 <= 0.03501031958932725\n",
      "    2. Newton decrement 0.17190014548025964 <= 0.03501031958932725\n",
      "Newton iter=2\n",
      "  Check Convergence\n",
      "    1. max |gradient| 0.005651027837035939 <= 0.03501031958932725\n",
      "    2. Newton decrement 0.021882514866210203 <= 0.03501031958932725\n",
      "  Solver did converge at loss = 0.4722346453667614.\n",
      "Newton iter=1\n",
      "  Check Convergence\n",
      "    1. max |gradient| 0.03413778232514975 <= 0.03501031958932725\n",
      "    2. Newton decrement 0.18105849692065124 <= 0.03501031958932725\n",
      "Newton iter=2\n",
      "  Check Convergence\n",
      "    1. max |gradient| 0.006523659220653827 <= 0.03501031958932725\n",
      "    2. Newton decrement 0.021497067334345504 <= 0.03501031958932725\n",
      "  Solver did converge at loss = 0.46320228486480475.\n"
     ]
    },
    {
     "name": "stderr",
     "output_type": "stream",
     "text": [
      "[Parallel(n_jobs=1)]: Using backend SequentialBackend with 1 concurrent workers.\n",
      "[Parallel(n_jobs=1)]: Done   1 out of   1 | elapsed:    0.0s finished\n",
      "[Parallel(n_jobs=1)]: Using backend SequentialBackend with 1 concurrent workers.\n",
      "[Parallel(n_jobs=1)]: Done   1 out of   1 | elapsed:    0.0s finished\n",
      "[Parallel(n_jobs=1)]: Using backend SequentialBackend with 1 concurrent workers.\n",
      "[Parallel(n_jobs=1)]: Done   1 out of   1 | elapsed:    0.0s finished\n"
     ]
    },
    {
     "name": "stdout",
     "output_type": "stream",
     "text": [
      "Newton iter=1\n",
      "  Check Convergence\n",
      "    1. max |gradient| 0.03528600265464343 <= 0.03501031958932725\n",
      "Newton iter=2\n",
      "  Check Convergence\n",
      "    1. max |gradient| 0.006968288750284004 <= 0.03501031958932725\n",
      "    2. Newton decrement 0.022636230692791054 <= 0.03501031958932725\n",
      "  Solver did converge at loss = 0.459458963101067.\n",
      "Results: -0.8580981312528325\n",
      "================\n",
      "================\n",
      "Configuration:\n",
      "C: 1.2333705563561814\n",
      "Tolerance: 0.03584306965494532\n",
      "Solver: sag\n",
      "Oversampling Method: none\n",
      "----------------\n"
     ]
    },
    {
     "name": "stderr",
     "output_type": "stream",
     "text": [
      "[Parallel(n_jobs=1)]: Using backend SequentialBackend with 1 concurrent workers.\n"
     ]
    },
    {
     "name": "stdout",
     "output_type": "stream",
     "text": [
      "convergence after 8 epochs took 1 seconds\n"
     ]
    },
    {
     "name": "stderr",
     "output_type": "stream",
     "text": [
      "[Parallel(n_jobs=1)]: Done   1 out of   1 | elapsed:    0.3s finished\n",
      "[Parallel(n_jobs=1)]: Using backend SequentialBackend with 1 concurrent workers.\n"
     ]
    },
    {
     "name": "stdout",
     "output_type": "stream",
     "text": [
      "convergence after 9 epochs took 0 seconds\n"
     ]
    },
    {
     "name": "stderr",
     "output_type": "stream",
     "text": [
      "[Parallel(n_jobs=1)]: Done   1 out of   1 | elapsed:    0.3s finished\n",
      "[Parallel(n_jobs=1)]: Using backend SequentialBackend with 1 concurrent workers.\n"
     ]
    },
    {
     "name": "stdout",
     "output_type": "stream",
     "text": [
      "convergence after 8 epochs took 0 seconds\n",
      "Results: -0.8592392497598942\n",
      "================\n"
     ]
    },
    {
     "name": "stderr",
     "output_type": "stream",
     "text": [
      "[Parallel(n_jobs=1)]: Done   1 out of   1 | elapsed:    0.2s finished\n"
     ]
    },
    {
     "name": "stdout",
     "output_type": "stream",
     "text": [
      "================\n",
      "Configuration:\n",
      "C: 2.558901717261727\n",
      "Tolerance: 0.08032708283547572\n",
      "Solver: newton-cholesky\n",
      "Oversampling Method: ada\n",
      "----------------\n",
      "Newton iter=1\n",
      "  Check Convergence\n",
      "    1. max |gradient| 0.028243170657893626 <= 0.08032708283547572\n",
      "    2. Newton decrement 0.17215006642810218 <= 0.08032708283547572\n",
      "Newton iter=2\n",
      "  Check Convergence\n",
      "    1. max |gradient| 0.005730944009482156 <= 0.08032708283547572\n",
      "    2. Newton decrement 0.022265369703253837 <= 0.08032708283547572\n",
      "  Solver did converge at loss = 0.4712967567527326.\n",
      "Newton iter=1\n"
     ]
    },
    {
     "name": "stderr",
     "output_type": "stream",
     "text": [
      "[Parallel(n_jobs=1)]: Using backend SequentialBackend with 1 concurrent workers.\n",
      "[Parallel(n_jobs=1)]: Done   1 out of   1 | elapsed:    0.0s finished\n",
      "[Parallel(n_jobs=1)]: Using backend SequentialBackend with 1 concurrent workers.\n",
      "[Parallel(n_jobs=1)]: Done   1 out of   1 | elapsed:    0.0s finished\n"
     ]
    },
    {
     "name": "stdout",
     "output_type": "stream",
     "text": [
      "  Check Convergence\n",
      "    1. max |gradient| 0.03419140338798318 <= 0.08032708283547572\n",
      "    2. Newton decrement 0.18124883110089116 <= 0.08032708283547572\n",
      "Newton iter=2\n",
      "  Check Convergence\n",
      "    1. max |gradient| 0.006594487932260417 <= 0.08032708283547572\n",
      "    2. Newton decrement 0.02184167391725008 <= 0.08032708283547572\n",
      "  Solver did converge at loss = 0.4623996171843145.\n",
      "Newton iter=1\n",
      "  Check Convergence\n",
      "    1. max |gradient| 0.03533725920925584 <= 0.08032708283547572\n",
      "    2. Newton decrement 0.18281340649127595 <= 0.08032708283547572\n",
      "Newton iter=2\n",
      "  Check Convergence\n",
      "    1. max |gradient| 0.007029183662521961 <= 0.08032708283547572\n",
      "    2. Newton decrement 0.022960157065870485 <= 0.08032708283547572\n",
      "  Solver did converge at loss = 0.4587115542575165.\n",
      "Results: -0.8581862439161312\n",
      "================\n"
     ]
    },
    {
     "name": "stderr",
     "output_type": "stream",
     "text": [
      "[Parallel(n_jobs=1)]: Using backend SequentialBackend with 1 concurrent workers.\n",
      "[Parallel(n_jobs=1)]: Done   1 out of   1 | elapsed:    0.0s finished\n"
     ]
    },
    {
     "name": "stdout",
     "output_type": "stream",
     "text": [
      "================\n",
      "Configuration:\n",
      "C: 0.5884414966508608\n",
      "Tolerance: 0.07068682766791103\n",
      "Solver: newton-cholesky\n",
      "Oversampling Method: ada\n",
      "----------------\n",
      "Newton iter=1\n",
      "  Check Convergence\n",
      "    1. max |gradient| 0.028009078959216158 <= 0.07068682766791103\n",
      "    2. Newton decrement 0.17137419671945267 <= 0.07068682766791103\n",
      "Newton iter=2\n",
      "  Check Convergence\n",
      "    1. max |gradient| 0.005481255785647304 <= 0.07068682766791103\n",
      "    2. Newton decrement 0.021078464072680377 <= 0.07068682766791103\n",
      "  Solver did converge at loss = 0.47420092958738047.\n",
      "Newton iter=1\n",
      "  Check Convergence\n",
      "    1. max |gradient| 0.034017027292688094 <= 0.07068682766791103\n",
      "    2. Newton decrement 0.1806253678235663 <= 0.07068682766791103\n",
      "Newton iter=2\n",
      "  Check Convergence\n",
      "    1. max |gradient| 0.006366753966221576 <= 0.07068682766791103\n",
      "    2. Newton decrement 0.020756908733343377 <= 0.07068682766791103\n",
      "  Solver did converge at loss = 0.4649440626180514.\n"
     ]
    },
    {
     "name": "stderr",
     "output_type": "stream",
     "text": [
      "[Parallel(n_jobs=1)]: Using backend SequentialBackend with 1 concurrent workers.\n",
      "[Parallel(n_jobs=1)]: Done   1 out of   1 | elapsed:    0.0s finished\n",
      "[Parallel(n_jobs=1)]: Using backend SequentialBackend with 1 concurrent workers.\n",
      "[Parallel(n_jobs=1)]: Done   1 out of   1 | elapsed:    0.0s finished\n",
      "[Parallel(n_jobs=1)]: Using backend SequentialBackend with 1 concurrent workers.\n"
     ]
    },
    {
     "name": "stdout",
     "output_type": "stream",
     "text": [
      "Newton iter=1\n",
      "  Check Convergence\n",
      "    1. max |gradient| 0.0351691866316514 <= 0.07068682766791103\n",
      "    2. Newton decrement 0.1822367695460105 <= 0.07068682766791103\n",
      "Newton iter=2\n",
      "  Check Convergence\n",
      "    1. max |gradient| 0.00683133169797088 <= 0.07068682766791103\n",
      "    2. Newton decrement 0.021920934795400093 <= 0.07068682766791103\n",
      "  Solver did converge at loss = 0.4611350229077192.\n",
      "Results: -0.8578568339649518\n",
      "================\n"
     ]
    },
    {
     "name": "stderr",
     "output_type": "stream",
     "text": [
      "[Parallel(n_jobs=1)]: Done   1 out of   1 | elapsed:    0.0s finished\n"
     ]
    },
    {
     "name": "stdout",
     "output_type": "stream",
     "text": [
      "================\n",
      "Configuration:\n",
      "C: 1.4779774802614516\n",
      "Tolerance: 0.0001\n",
      "Solver: lbfgs\n",
      "Oversampling Method: ada\n",
      "----------------\n"
     ]
    },
    {
     "name": "stderr",
     "output_type": "stream",
     "text": [
      "[Parallel(n_jobs=1)]: Using backend SequentialBackend with 1 concurrent workers.\n",
      "[Parallel(n_jobs=1)]: Done   1 out of   1 | elapsed:    0.4s finished\n",
      "[Parallel(n_jobs=1)]: Using backend SequentialBackend with 1 concurrent workers.\n",
      "[Parallel(n_jobs=1)]: Done   1 out of   1 | elapsed:    0.5s finished\n",
      "[Parallel(n_jobs=1)]: Using backend SequentialBackend with 1 concurrent workers.\n",
      "[Parallel(n_jobs=1)]: Done   1 out of   1 | elapsed:    0.4s finished\n"
     ]
    },
    {
     "name": "stdout",
     "output_type": "stream",
     "text": [
      "Results: -0.8596976305459737\n",
      "================\n",
      "================\n",
      "Configuration:\n",
      "C: 1.483461138574706\n",
      "Tolerance: 0.0001\n",
      "Solver: lbfgs\n",
      "Oversampling Method: ada\n",
      "----------------\n"
     ]
    },
    {
     "name": "stderr",
     "output_type": "stream",
     "text": [
      "[Parallel(n_jobs=1)]: Using backend SequentialBackend with 1 concurrent workers.\n",
      "[Parallel(n_jobs=1)]: Done   1 out of   1 | elapsed:    0.2s finished\n",
      "[Parallel(n_jobs=1)]: Using backend SequentialBackend with 1 concurrent workers.\n",
      "[Parallel(n_jobs=1)]: Done   1 out of   1 | elapsed:    0.3s finished\n",
      "[Parallel(n_jobs=1)]: Using backend SequentialBackend with 1 concurrent workers.\n",
      "[Parallel(n_jobs=1)]: Done   1 out of   1 | elapsed:    0.3s finished\n"
     ]
    },
    {
     "name": "stdout",
     "output_type": "stream",
     "text": [
      "Results: -0.8596780542457424\n",
      "================\n",
      "================\n",
      "Configuration:\n",
      "C: 0.9771159903661422\n",
      "Tolerance: 0.0001\n",
      "Solver: newton-cholesky\n",
      "Oversampling Method: ada\n",
      "----------------\n",
      "Newton iter=1\n",
      "  Check Convergence\n",
      "    1. max |gradient| 0.02811630542061079 <= 0.0001\n",
      "Newton iter=2\n",
      "  Check Convergence\n",
      "    1. max |gradient| 0.005600631855547191 <= 0.0001\n",
      "Newton iter=3\n",
      "  Check Convergence\n",
      "    1. max |gradient| 0.00134069791427487 <= 0.0001\n",
      "Newton iter=4\n",
      "  Check Convergence\n",
      "    1. max |gradient| 0.00027328324625854815 <= 0.0001\n",
      "Newton iter=5\n",
      "  Check Convergence\n",
      "    1. max |gradient| 1.7694564664919627e-05 <= 0.0001\n",
      "    2. Newton decrement 3.1967541966050686e-05 <= 0.0001\n",
      "  Solver did converge at loss = 0.46740182123921414.\n"
     ]
    },
    {
     "name": "stderr",
     "output_type": "stream",
     "text": [
      "[Parallel(n_jobs=1)]: Using backend SequentialBackend with 1 concurrent workers.\n",
      "[Parallel(n_jobs=1)]: Done   1 out of   1 | elapsed:    0.0s finished\n",
      "[Parallel(n_jobs=1)]: Using backend SequentialBackend with 1 concurrent workers.\n"
     ]
    },
    {
     "name": "stdout",
     "output_type": "stream",
     "text": [
      "Newton iter=1\n",
      "  Check Convergence\n",
      "    1. max |gradient| 0.034102736588570534 <= 0.0001\n",
      "Newton iter=2\n",
      "  Check Convergence\n",
      "    1. max |gradient| 0.0064773089798381145 <= 0.0001\n",
      "Newton iter=3\n",
      "  Check Convergence\n",
      "    1. max |gradient| 0.0008861033723483276 <= 0.0001\n",
      "Newton iter=4\n",
      "  Check Convergence\n",
      "    1. max |gradient| 0.00011998176935820497 <= 0.0001\n",
      "Newton iter=5\n",
      "  Check Convergence\n",
      "    1. max |gradient| 5.453753234602177e-06 <= 0.0001\n",
      "    2. Newton decrement 9.383147986160604e-06 <= 0.0001\n",
      "  Solver did converge at loss = 0.4595994628131514.\n",
      "Newton iter=1\n",
      "  Check Convergence\n",
      "    1. max |gradient| 0.03525230325018848 <= 0.0001\n",
      "Newton iter=2\n",
      "  Check Convergence\n",
      "    1. max |gradient| 0.00692830195033172 <= 0.0001\n",
      "Newton iter=3\n"
     ]
    },
    {
     "name": "stderr",
     "output_type": "stream",
     "text": [
      "[Parallel(n_jobs=1)]: Done   1 out of   1 | elapsed:    0.0s finished\n",
      "[Parallel(n_jobs=1)]: Using backend SequentialBackend with 1 concurrent workers.\n",
      "[Parallel(n_jobs=1)]: Done   1 out of   1 | elapsed:    0.0s finished\n"
     ]
    },
    {
     "name": "stdout",
     "output_type": "stream",
     "text": [
      "  Check Convergence\n",
      "    1. max |gradient| 0.00099063495114583 <= 0.0001\n",
      "Newton iter=4\n",
      "  Check Convergence\n",
      "    1. max |gradient| 0.00016987227526215858 <= 0.0001\n",
      "Newton iter=5\n",
      "  Check Convergence\n",
      "    1. max |gradient| 8.44131912928689e-06 <= 0.0001\n",
      "    2. Newton decrement 1.4113086762541174e-05 <= 0.0001\n",
      "  Solver did converge at loss = 0.45529137985004053.\n",
      "Results: -0.8595048716707862\n",
      "================\n",
      "================\n",
      "Configuration:\n",
      "C: 3.0\n",
      "Tolerance: 0.085728109372443\n",
      "Solver: newton-cholesky\n",
      "Oversampling Method: none\n",
      "----------------\n",
      "Newton iter=1\n",
      "  Check Convergence\n",
      "    1. max |gradient| 0.0282594792077637 <= 0.085728109372443\n",
      "    2. Newton decrement 0.17219577724805477 <= 0.085728109372443\n",
      "Newton iter=2\n",
      "  Check Convergence\n",
      "    1. max |gradient| 0.005745313002866469 <= 0.085728109372443\n",
      "    2. Newton decrement 0.02233225734237848 <= 0.085728109372443\n",
      "  Solver did converge at loss = 0.4711304012041946.\n"
     ]
    },
    {
     "name": "stderr",
     "output_type": "stream",
     "text": [
      "[Parallel(n_jobs=1)]: Using backend SequentialBackend with 1 concurrent workers.\n",
      "[Parallel(n_jobs=1)]: Done   1 out of   1 | elapsed:    0.0s finished\n",
      "[Parallel(n_jobs=1)]: Using backend SequentialBackend with 1 concurrent workers.\n",
      "[Parallel(n_jobs=1)]: Done   1 out of   1 | elapsed:    0.0s finished\n"
     ]
    },
    {
     "name": "stdout",
     "output_type": "stream",
     "text": [
      "Newton iter=1\n",
      "  Check Convergence\n",
      "    1. max |gradient| 0.034200556483618964 <= 0.085728109372443\n",
      "    2. Newton decrement 0.18128099619944743 <= 0.085728109372443\n",
      "Newton iter=2\n",
      "  Check Convergence\n",
      "    1. max |gradient| 0.006606273317286807 <= 0.085728109372443\n",
      "    2. Newton decrement 0.021899980002729642 <= 0.085728109372443\n",
      "  Solver did converge at loss = 0.4622634190334925.\n",
      "Newton iter=1\n",
      "  Check Convergence\n",
      "    1. max |gradient| 0.0353459483597149 <= 0.085728109372443\n",
      "    2. Newton decrement 0.18284083738644571 <= 0.085728109372443\n",
      "Newton iter=2\n",
      "  Check Convergence\n",
      "    1. max |gradient| 0.0070394199718326915 <= 0.085728109372443\n",
      "    2. Newton decrement 0.023014054678116222 <= 0.085728109372443\n",
      "  Solver did converge at loss = 0.45858802575017527.\n",
      "Results: -0.8582021047103142\n",
      "================\n"
     ]
    },
    {
     "name": "stderr",
     "output_type": "stream",
     "text": [
      "[Parallel(n_jobs=1)]: Using backend SequentialBackend with 1 concurrent workers.\n",
      "[Parallel(n_jobs=1)]: Done   1 out of   1 | elapsed:    0.0s finished\n"
     ]
    },
    {
     "name": "stdout",
     "output_type": "stream",
     "text": [
      "================\n",
      "Configuration:\n",
      "C: 1.4790285761083704\n",
      "Tolerance: 0.0001\n",
      "Solver: lbfgs\n",
      "Oversampling Method: ada\n",
      "----------------\n"
     ]
    },
    {
     "name": "stderr",
     "output_type": "stream",
     "text": [
      "[Parallel(n_jobs=1)]: Using backend SequentialBackend with 1 concurrent workers.\n",
      "[Parallel(n_jobs=1)]: Done   1 out of   1 | elapsed:    0.4s finished\n",
      "[Parallel(n_jobs=1)]: Using backend SequentialBackend with 1 concurrent workers.\n",
      "[Parallel(n_jobs=1)]: Done   1 out of   1 | elapsed:    0.4s finished\n",
      "[Parallel(n_jobs=1)]: Using backend SequentialBackend with 1 concurrent workers.\n",
      "[Parallel(n_jobs=1)]: Done   1 out of   1 | elapsed:    0.4s finished\n"
     ]
    },
    {
     "name": "stdout",
     "output_type": "stream",
     "text": [
      "Results: -0.8596205161744525\n",
      "================\n",
      "================\n",
      "Configuration:\n",
      "C: 0.7182776249243069\n",
      "Tolerance: 0.01992438346523902\n",
      "Solver: sag\n",
      "Oversampling Method: ada\n",
      "----------------\n"
     ]
    },
    {
     "name": "stderr",
     "output_type": "stream",
     "text": [
      "[Parallel(n_jobs=1)]: Using backend SequentialBackend with 1 concurrent workers.\n"
     ]
    },
    {
     "name": "stdout",
     "output_type": "stream",
     "text": [
      "convergence after 8 epochs took 0 seconds\n"
     ]
    },
    {
     "name": "stderr",
     "output_type": "stream",
     "text": [
      "[Parallel(n_jobs=1)]: Done   1 out of   1 | elapsed:    0.3s finished\n",
      "[Parallel(n_jobs=1)]: Using backend SequentialBackend with 1 concurrent workers.\n"
     ]
    },
    {
     "name": "stdout",
     "output_type": "stream",
     "text": [
      "convergence after 10 epochs took 1 seconds\n"
     ]
    },
    {
     "name": "stderr",
     "output_type": "stream",
     "text": [
      "[Parallel(n_jobs=1)]: Done   1 out of   1 | elapsed:    0.4s finished\n",
      "[Parallel(n_jobs=1)]: Using backend SequentialBackend with 1 concurrent workers.\n"
     ]
    },
    {
     "name": "stdout",
     "output_type": "stream",
     "text": [
      "convergence after 10 epochs took 0 seconds\n",
      "Results: -0.8592817206572133\n",
      "================\n"
     ]
    },
    {
     "name": "stderr",
     "output_type": "stream",
     "text": [
      "[Parallel(n_jobs=1)]: Done   1 out of   1 | elapsed:    0.3s finished\n"
     ]
    },
    {
     "name": "stdout",
     "output_type": "stream",
     "text": [
      "================\n",
      "Configuration:\n",
      "C: 3.0\n",
      "Tolerance: 0.0856758992638516\n",
      "Solver: newton-cholesky\n",
      "Oversampling Method: ada\n",
      "----------------\n",
      "Newton iter=1\n",
      "  Check Convergence\n",
      "    1. max |gradient| 0.0282594792077637 <= 0.0856758992638516\n",
      "    2. Newton decrement 0.17219577724805477 <= 0.0856758992638516\n",
      "Newton iter=2\n",
      "  Check Convergence\n",
      "    1. max |gradient| 0.005745313002866469 <= 0.0856758992638516\n",
      "    2. Newton decrement 0.02233225734237848 <= 0.0856758992638516\n",
      "  Solver did converge at loss = 0.4711304012041946.\n",
      "Newton iter=1\n",
      "  Check Convergence\n",
      "    1. max |gradient| 0.034200556483618964 <= 0.0856758992638516\n",
      "    2. Newton decrement 0.18128099619944743 <= 0.0856758992638516\n",
      "Newton iter=2\n"
     ]
    },
    {
     "name": "stderr",
     "output_type": "stream",
     "text": [
      "[Parallel(n_jobs=1)]: Using backend SequentialBackend with 1 concurrent workers.\n",
      "[Parallel(n_jobs=1)]: Done   1 out of   1 | elapsed:    0.0s finished\n",
      "[Parallel(n_jobs=1)]: Using backend SequentialBackend with 1 concurrent workers.\n",
      "[Parallel(n_jobs=1)]: Done   1 out of   1 | elapsed:    0.0s finished\n",
      "[Parallel(n_jobs=1)]: Using backend SequentialBackend with 1 concurrent workers.\n"
     ]
    },
    {
     "name": "stdout",
     "output_type": "stream",
     "text": [
      "  Check Convergence\n",
      "    1. max |gradient| 0.006606273317286807 <= 0.0856758992638516\n",
      "    2. Newton decrement 0.021899980002729642 <= 0.0856758992638516\n",
      "  Solver did converge at loss = 0.4622634190334925.\n",
      "Newton iter=1\n",
      "  Check Convergence\n",
      "    1. max |gradient| 0.0353459483597149 <= 0.0856758992638516\n",
      "    2. Newton decrement 0.18284083738644571 <= 0.0856758992638516\n",
      "Newton iter=2\n",
      "  Check Convergence\n",
      "    1. max |gradient| 0.0070394199718326915 <= 0.0856758992638516\n",
      "    2. Newton decrement 0.023014054678116222 <= 0.0856758992638516\n",
      "  Solver did converge at loss = 0.45858802575017527.\n",
      "Results: -0.8582021047103142\n",
      "================\n"
     ]
    },
    {
     "name": "stderr",
     "output_type": "stream",
     "text": [
      "[Parallel(n_jobs=1)]: Done   1 out of   1 | elapsed:    0.0s finished\n"
     ]
    },
    {
     "name": "stdout",
     "output_type": "stream",
     "text": [
      "================\n",
      "Configuration:\n",
      "C: 3.0\n",
      "Tolerance: 0.08565460682161269\n",
      "Solver: newton-cholesky\n",
      "Oversampling Method: none\n",
      "----------------\n",
      "Newton iter=1\n",
      "  Check Convergence\n",
      "    1. max |gradient| 0.0282594792077637 <= 0.08565460682161269\n",
      "    2. Newton decrement 0.17219577724805477 <= 0.08565460682161269\n",
      "Newton iter=2\n",
      "  Check Convergence\n",
      "    1. max |gradient| 0.005745313002866469 <= 0.08565460682161269\n",
      "    2. Newton decrement 0.02233225734237848 <= 0.08565460682161269\n",
      "  Solver did converge at loss = 0.4711304012041946.\n",
      "Newton iter=1\n",
      "  Check Convergence\n",
      "    1. max |gradient| 0.034200556483618964 <= 0.08565460682161269\n",
      "    2. Newton decrement 0.18128099619944743 <= 0.08565460682161269\n",
      "Newton iter=2\n"
     ]
    },
    {
     "name": "stderr",
     "output_type": "stream",
     "text": [
      "[Parallel(n_jobs=1)]: Using backend SequentialBackend with 1 concurrent workers.\n",
      "[Parallel(n_jobs=1)]: Done   1 out of   1 | elapsed:    0.0s finished\n",
      "[Parallel(n_jobs=1)]: Using backend SequentialBackend with 1 concurrent workers.\n",
      "[Parallel(n_jobs=1)]: Done   1 out of   1 | elapsed:    0.0s finished\n",
      "[Parallel(n_jobs=1)]: Using backend SequentialBackend with 1 concurrent workers.\n"
     ]
    },
    {
     "name": "stdout",
     "output_type": "stream",
     "text": [
      "  Check Convergence\n",
      "    1. max |gradient| 0.006606273317286807 <= 0.08565460682161269\n",
      "    2. Newton decrement 0.021899980002729642 <= 0.08565460682161269\n",
      "  Solver did converge at loss = 0.4622634190334925.\n",
      "Newton iter=1\n",
      "  Check Convergence\n",
      "    1. max |gradient| 0.0353459483597149 <= 0.08565460682161269\n",
      "    2. Newton decrement 0.18284083738644571 <= 0.08565460682161269\n",
      "Newton iter=2\n",
      "  Check Convergence\n",
      "    1. max |gradient| 0.0070394199718326915 <= 0.08565460682161269\n",
      "    2. Newton decrement 0.023014054678116222 <= 0.08565460682161269\n",
      "  Solver did converge at loss = 0.45858802575017527.\n",
      "Results: -0.8582021047103142\n",
      "================\n"
     ]
    },
    {
     "name": "stderr",
     "output_type": "stream",
     "text": [
      "[Parallel(n_jobs=1)]: Done   1 out of   1 | elapsed:    0.0s finished\n"
     ]
    },
    {
     "name": "stdout",
     "output_type": "stream",
     "text": [
      "================\n",
      "Configuration:\n",
      "C: 3.0\n",
      "Tolerance: 0.08565279833875257\n",
      "Solver: newton-cholesky\n",
      "Oversampling Method: none\n",
      "----------------\n",
      "Newton iter=1\n",
      "  Check Convergence\n",
      "    1. max |gradient| 0.0282594792077637 <= 0.08565279833875257\n",
      "    2. Newton decrement 0.17219577724805477 <= 0.08565279833875257\n",
      "Newton iter=2\n",
      "  Check Convergence\n",
      "    1. max |gradient| 0.005745313002866469 <= 0.08565279833875257\n",
      "    2. Newton decrement 0.02233225734237848 <= 0.08565279833875257\n",
      "  Solver did converge at loss = 0.4711304012041946.\n",
      "Newton iter=1\n"
     ]
    },
    {
     "name": "stderr",
     "output_type": "stream",
     "text": [
      "[Parallel(n_jobs=1)]: Using backend SequentialBackend with 1 concurrent workers.\n",
      "[Parallel(n_jobs=1)]: Done   1 out of   1 | elapsed:    0.0s finished\n",
      "[Parallel(n_jobs=1)]: Using backend SequentialBackend with 1 concurrent workers.\n",
      "[Parallel(n_jobs=1)]: Done   1 out of   1 | elapsed:    0.0s finished\n"
     ]
    },
    {
     "name": "stdout",
     "output_type": "stream",
     "text": [
      "  Check Convergence\n",
      "    1. max |gradient| 0.034200556483618964 <= 0.08565279833875257\n",
      "    2. Newton decrement 0.18128099619944743 <= 0.08565279833875257\n",
      "Newton iter=2\n",
      "  Check Convergence\n",
      "    1. max |gradient| 0.006606273317286807 <= 0.08565279833875257\n",
      "    2. Newton decrement 0.021899980002729642 <= 0.08565279833875257\n",
      "  Solver did converge at loss = 0.4622634190334925.\n",
      "Newton iter=1\n",
      "  Check Convergence\n",
      "    1. max |gradient| 0.0353459483597149 <= 0.08565279833875257\n",
      "    2. Newton decrement 0.18284083738644571 <= 0.08565279833875257\n",
      "Newton iter=2\n",
      "  Check Convergence\n",
      "    1. max |gradient| 0.0070394199718326915 <= 0.08565279833875257\n",
      "    2. Newton decrement 0.023014054678116222 <= 0.08565279833875257\n",
      "  Solver did converge at loss = 0.45858802575017527.\n",
      "Results: -0.8582021047103142\n",
      "================\n"
     ]
    },
    {
     "name": "stderr",
     "output_type": "stream",
     "text": [
      "[Parallel(n_jobs=1)]: Using backend SequentialBackend with 1 concurrent workers.\n",
      "[Parallel(n_jobs=1)]: Done   1 out of   1 | elapsed:    0.0s finished\n"
     ]
    },
    {
     "name": "stdout",
     "output_type": "stream",
     "text": [
      "================\n",
      "Configuration:\n",
      "C: 3.0\n",
      "Tolerance: 0.08565154464872503\n",
      "Solver: newton-cholesky\n",
      "Oversampling Method: none\n",
      "----------------\n",
      "Newton iter=1\n",
      "  Check Convergence\n",
      "    1. max |gradient| 0.0282594792077637 <= 0.08565154464872503\n",
      "    2. Newton decrement 0.17219577724805477 <= 0.08565154464872503\n",
      "Newton iter=2\n",
      "  Check Convergence\n",
      "    1. max |gradient| 0.005745313002866469 <= 0.08565154464872503\n",
      "    2. Newton decrement 0.02233225734237848 <= 0.08565154464872503\n",
      "  Solver did converge at loss = 0.4711304012041946.\n",
      "Newton iter=1\n",
      "  Check Convergence\n",
      "    1. max |gradient| 0.034200556483618964 <= 0.08565154464872503\n",
      "    2. Newton decrement 0.18128099619944743 <= 0.08565154464872503\n",
      "Newton iter=2\n"
     ]
    },
    {
     "name": "stderr",
     "output_type": "stream",
     "text": [
      "[Parallel(n_jobs=1)]: Using backend SequentialBackend with 1 concurrent workers.\n",
      "[Parallel(n_jobs=1)]: Done   1 out of   1 | elapsed:    0.0s finished\n",
      "[Parallel(n_jobs=1)]: Using backend SequentialBackend with 1 concurrent workers.\n"
     ]
    },
    {
     "name": "stdout",
     "output_type": "stream",
     "text": [
      "  Check Convergence\n",
      "    1. max |gradient| 0.006606273317286807 <= 0.08565154464872503\n",
      "    2. Newton decrement 0.021899980002729642 <= 0.08565154464872503\n",
      "  Solver did converge at loss = 0.4622634190334925.\n",
      "Newton iter=1\n",
      "  Check Convergence\n",
      "    1. max |gradient| 0.0353459483597149 <= 0.08565154464872503\n",
      "    2. Newton decrement 0.18284083738644571 <= 0.08565154464872503\n",
      "Newton iter=2\n",
      "  Check Convergence\n",
      "    1. max |gradient| 0.0070394199718326915 <= 0.08565154464872503\n",
      "    2. Newton decrement 0.023014054678116222 <= 0.08565154464872503\n",
      "  Solver did converge at loss = 0.45858802575017527.\n",
      "Results: -0.8582021047103142\n",
      "================\n"
     ]
    },
    {
     "name": "stderr",
     "output_type": "stream",
     "text": [
      "[Parallel(n_jobs=1)]: Done   1 out of   1 | elapsed:    0.0s finished\n",
      "[Parallel(n_jobs=1)]: Using backend SequentialBackend with 1 concurrent workers.\n",
      "[Parallel(n_jobs=1)]: Done   1 out of   1 | elapsed:    0.0s finished\n"
     ]
    },
    {
     "name": "stdout",
     "output_type": "stream",
     "text": [
      "================\n",
      "Configuration:\n",
      "C: 2.6179955676952265\n",
      "Tolerance: 0.0809605626471559\n",
      "Solver: newton-cholesky\n",
      "Oversampling Method: none\n",
      "----------------\n",
      "Newton iter=1\n",
      "  Check Convergence\n",
      "    1. max |gradient| 0.02824555372640444 <= 0.0809605626471559\n",
      "    2. Newton decrement 0.17215687230405372 <= 0.0809605626471559\n",
      "Newton iter=2\n",
      "  Check Convergence\n",
      "    1. max |gradient| 0.005733085061271869 <= 0.0809605626471559\n",
      "    2. Newton decrement 0.02227542324328553 <= 0.0809605626471559\n",
      "  Solver did converge at loss = 0.47127182965638903.\n",
      "Newton iter=1\n",
      "  Check Convergence\n",
      "    1. max |gradient| 0.03419278260380517 <= 0.0809605626471559\n",
      "    2. Newton decrement 0.18125368986614154 <= 0.0809605626471559\n",
      "Newton iter=2\n",
      "  Check Convergence\n",
      "    1. max |gradient| 0.006596274849350129 <= 0.0809605626471559\n",
      "    2. Newton decrement 0.021850494533419387 <= 0.0809605626471559\n",
      "  Solver did converge at loss = 0.4623790300283224.\n"
     ]
    },
    {
     "name": "stderr",
     "output_type": "stream",
     "text": [
      "[Parallel(n_jobs=1)]: Using backend SequentialBackend with 1 concurrent workers.\n",
      "[Parallel(n_jobs=1)]: Done   1 out of   1 | elapsed:    0.0s finished\n",
      "[Parallel(n_jobs=1)]: Using backend SequentialBackend with 1 concurrent workers.\n",
      "[Parallel(n_jobs=1)]: Done   1 out of   1 | elapsed:    0.0s finished\n",
      "[Parallel(n_jobs=1)]: Using backend SequentialBackend with 1 concurrent workers.\n"
     ]
    },
    {
     "name": "stdout",
     "output_type": "stream",
     "text": [
      "Newton iter=1\n",
      "  Check Convergence\n",
      "    1. max |gradient| 0.0353385705408544 <= 0.0809605626471559\n",
      "    2. Newton decrement 0.1828175883221452 <= 0.0809605626471559\n",
      "Newton iter=2\n",
      "  Check Convergence\n",
      "    1. max |gradient| 0.007030731052804411 <= 0.0809605626471559\n",
      "    2. Newton decrement 0.02296833430956339 <= 0.0809605626471559\n",
      "  Solver did converge at loss = 0.4586927923922248.\n",
      "Results: -0.8581885551530873\n",
      "================\n"
     ]
    },
    {
     "name": "stderr",
     "output_type": "stream",
     "text": [
      "[Parallel(n_jobs=1)]: Done   1 out of   1 | elapsed:    0.0s finished\n"
     ]
    },
    {
     "name": "stdout",
     "output_type": "stream",
     "text": [
      "================\n",
      "Configuration:\n",
      "C: 2.6178170230480218\n",
      "Tolerance: 0.08098782158963964\n",
      "Solver: newton-cholesky\n",
      "Oversampling Method: none\n",
      "----------------\n",
      "Newton iter=1\n",
      "  Check Convergence\n",
      "    1. max |gradient| 0.028245546630597494 <= 0.08098782158963964\n",
      "    2. Newton decrement 0.17215685210161705 <= 0.08098782158963964\n",
      "Newton iter=2\n",
      "  Check Convergence\n",
      "    1. max |gradient| 0.005733078707412362 <= 0.08098782158963964\n",
      "    2. Newton decrement 0.0222753934472918 <= 0.08098782158963964\n",
      "  Solver did converge at loss = 0.4712719035714034.\n",
      "Newton iter=1\n",
      "  Check Convergence\n",
      "    1. max |gradient| 0.03419277851801191 <= 0.08098782158963964\n",
      "    2. Newton decrement 0.18125367547797475 <= 0.08098782158963964\n",
      "Newton iter=2\n",
      "  Check Convergence\n",
      "    1. max |gradient| 0.006596269561049824 <= 0.08098782158963964\n",
      "    2. Newton decrement 0.021850468418819928 <= 0.08098782158963964\n",
      "  Solver did converge at loss = 0.4623790909875673.\n"
     ]
    },
    {
     "name": "stderr",
     "output_type": "stream",
     "text": [
      "[Parallel(n_jobs=1)]: Using backend SequentialBackend with 1 concurrent workers.\n",
      "[Parallel(n_jobs=1)]: Done   1 out of   1 | elapsed:    0.0s finished\n",
      "[Parallel(n_jobs=1)]: Using backend SequentialBackend with 1 concurrent workers.\n",
      "[Parallel(n_jobs=1)]: Done   1 out of   1 | elapsed:    0.0s finished\n",
      "[Parallel(n_jobs=1)]: Using backend SequentialBackend with 1 concurrent workers.\n"
     ]
    },
    {
     "name": "stdout",
     "output_type": "stream",
     "text": [
      "Newton iter=1\n",
      "  Check Convergence\n",
      "    1. max |gradient| 0.035338566657084285 <= 0.08098782158963964\n",
      "    2. Newton decrement 0.18281757595725653 <= 0.08098782158963964\n",
      "Newton iter=2\n",
      "  Check Convergence\n",
      "    1. max |gradient| 0.0070307264712402276 <= 0.08098782158963964\n",
      "    2. Newton decrement 0.022968310111252006 <= 0.08098782158963964\n",
      "  Solver did converge at loss = 0.45869284790286907.\n",
      "Results: -0.8581885574894029\n",
      "================\n"
     ]
    },
    {
     "name": "stderr",
     "output_type": "stream",
     "text": [
      "[Parallel(n_jobs=1)]: Done   1 out of   1 | elapsed:    0.0s finished\n"
     ]
    },
    {
     "name": "stdout",
     "output_type": "stream",
     "text": [
      "================\n",
      "Configuration:\n",
      "C: 3.0\n",
      "Tolerance: 0.0856300154578655\n",
      "Solver: newton-cholesky\n",
      "Oversampling Method: none\n",
      "----------------\n",
      "Newton iter=1\n",
      "  Check Convergence\n",
      "    1. max |gradient| 0.0282594792077637 <= 0.0856300154578655\n",
      "    2. Newton decrement 0.17219577724805477 <= 0.0856300154578655\n",
      "Newton iter=2\n",
      "  Check Convergence\n",
      "    1. max |gradient| 0.005745313002866469 <= 0.0856300154578655\n",
      "    2. Newton decrement 0.02233225734237848 <= 0.0856300154578655\n",
      "  Solver did converge at loss = 0.4711304012041946.\n",
      "Newton iter=1\n",
      "  Check Convergence\n",
      "    1. max |gradient| 0.034200556483618964 <= 0.0856300154578655\n",
      "    2. Newton decrement 0.18128099619944743 <= 0.0856300154578655\n",
      "Newton iter=2\n",
      "  Check Convergence\n",
      "    1. max |gradient| 0.006606273317286807 <= 0.0856300154578655\n",
      "    2. Newton decrement 0.021899980002729642 <= 0.0856300154578655\n",
      "  Solver did converge at loss = 0.4622634190334925.\n",
      "Newton iter=1\n"
     ]
    },
    {
     "name": "stderr",
     "output_type": "stream",
     "text": [
      "[Parallel(n_jobs=1)]: Using backend SequentialBackend with 1 concurrent workers.\n",
      "[Parallel(n_jobs=1)]: Done   1 out of   1 | elapsed:    0.0s finished\n",
      "[Parallel(n_jobs=1)]: Using backend SequentialBackend with 1 concurrent workers.\n",
      "[Parallel(n_jobs=1)]: Done   1 out of   1 | elapsed:    0.0s finished\n",
      "[Parallel(n_jobs=1)]: Using backend SequentialBackend with 1 concurrent workers.\n"
     ]
    },
    {
     "name": "stdout",
     "output_type": "stream",
     "text": [
      "  Check Convergence\n",
      "    1. max |gradient| 0.0353459483597149 <= 0.0856300154578655\n",
      "    2. Newton decrement 0.18284083738644571 <= 0.0856300154578655\n",
      "Newton iter=2\n",
      "  Check Convergence\n",
      "    1. max |gradient| 0.0070394199718326915 <= 0.0856300154578655\n",
      "    2. Newton decrement 0.023014054678116222 <= 0.0856300154578655\n",
      "  Solver did converge at loss = 0.45858802575017527.\n",
      "Results: -0.8582021047103142\n",
      "================\n"
     ]
    },
    {
     "name": "stderr",
     "output_type": "stream",
     "text": [
      "[Parallel(n_jobs=1)]: Done   1 out of   1 | elapsed:    0.0s finished\n"
     ]
    },
    {
     "name": "stdout",
     "output_type": "stream",
     "text": [
      "================\n",
      "Configuration:\n",
      "C: 2.617795832979293\n",
      "Tolerance: 0.08098482870745831\n",
      "Solver: newton-cholesky\n",
      "Oversampling Method: none\n",
      "----------------\n",
      "Newton iter=1\n",
      "  Check Convergence\n",
      "    1. max |gradient| 0.028245545788410542 <= 0.08098482870745831\n",
      "    2. Newton decrement 0.17215684970380565 <= 0.08098482870745831\n",
      "Newton iter=2\n",
      "  Check Convergence\n",
      "    1. max |gradient| 0.0057330779532771626 <= 0.08098482870745831\n",
      "    2. Newton decrement 0.022275389910810114 <= 0.08098482870745831\n",
      "  Solver did converge at loss = 0.47127191234434995.\n",
      "Newton iter=1\n",
      "  Check Convergence\n",
      "    1. max |gradient| 0.03419277803306918 <= 0.08098482870745831\n",
      "    2. Newton decrement 0.18125367377024046 <= 0.08098482870745831\n",
      "Newton iter=2\n",
      "  Check Convergence\n",
      "    1. max |gradient| 0.006596268933379208 <= 0.08098482870745831\n",
      "    2. Newton decrement 0.021850465319271126 <= 0.08098482870745831\n",
      "  Solver did converge at loss = 0.462379098222833.\n"
     ]
    },
    {
     "name": "stderr",
     "output_type": "stream",
     "text": [
      "[Parallel(n_jobs=1)]: Using backend SequentialBackend with 1 concurrent workers.\n",
      "[Parallel(n_jobs=1)]: Done   1 out of   1 | elapsed:    0.0s finished\n",
      "[Parallel(n_jobs=1)]: Using backend SequentialBackend with 1 concurrent workers.\n",
      "[Parallel(n_jobs=1)]: Done   1 out of   1 | elapsed:    0.0s finished\n",
      "[Parallel(n_jobs=1)]: Using backend SequentialBackend with 1 concurrent workers.\n",
      "[Parallel(n_jobs=1)]: Done   1 out of   1 | elapsed:    0.0s finished\n"
     ]
    },
    {
     "name": "stdout",
     "output_type": "stream",
     "text": [
      "Newton iter=1\n",
      "  Check Convergence\n",
      "    1. max |gradient| 0.035338566196119046 <= 0.08098482870745831\n",
      "    2. Newton decrement 0.18281757448965819 <= 0.08098482870745831\n",
      "Newton iter=2\n",
      "  Check Convergence\n",
      "    1. max |gradient| 0.007030725927453728 <= 0.08098482870745831\n",
      "    2. Newton decrement 0.022968307239144604 <= 0.08098482870745831\n",
      "  Solver did converge at loss = 0.4586928544914558.\n",
      "Results: -0.8581885516473943\n",
      "================\n",
      "================\n",
      "Configuration:\n",
      "C: 3.0\n",
      "Tolerance: 0.08562753573305242\n",
      "Solver: newton-cholesky\n",
      "Oversampling Method: none\n",
      "----------------\n",
      "Newton iter=1\n",
      "  Check Convergence\n",
      "    1. max |gradient| 0.0282594792077637 <= 0.08562753573305242\n",
      "    2. Newton decrement 0.17219577724805477 <= 0.08562753573305242\n",
      "Newton iter=2\n",
      "  Check Convergence\n",
      "    1. max |gradient| 0.005745313002866469 <= 0.08562753573305242\n",
      "    2. Newton decrement 0.02233225734237848 <= 0.08562753573305242\n",
      "  Solver did converge at loss = 0.4711304012041946.\n",
      "Newton iter=1\n",
      "  Check Convergence\n",
      "    1. max |gradient| 0.034200556483618964 <= 0.08562753573305242\n",
      "    2. Newton decrement 0.18128099619944743 <= 0.08562753573305242\n",
      "Newton iter=2\n"
     ]
    },
    {
     "name": "stderr",
     "output_type": "stream",
     "text": [
      "[Parallel(n_jobs=1)]: Using backend SequentialBackend with 1 concurrent workers.\n",
      "[Parallel(n_jobs=1)]: Done   1 out of   1 | elapsed:    0.0s finished\n",
      "[Parallel(n_jobs=1)]: Using backend SequentialBackend with 1 concurrent workers.\n",
      "[Parallel(n_jobs=1)]: Done   1 out of   1 | elapsed:    0.0s finished\n"
     ]
    },
    {
     "name": "stdout",
     "output_type": "stream",
     "text": [
      "  Check Convergence\n",
      "    1. max |gradient| 0.006606273317286807 <= 0.08562753573305242\n",
      "    2. Newton decrement 0.021899980002729642 <= 0.08562753573305242\n",
      "  Solver did converge at loss = 0.4622634190334925.\n",
      "Newton iter=1\n",
      "  Check Convergence\n",
      "    1. max |gradient| 0.0353459483597149 <= 0.08562753573305242\n",
      "    2. Newton decrement 0.18284083738644571 <= 0.08562753573305242\n",
      "Newton iter=2\n",
      "  Check Convergence\n",
      "    1. max |gradient| 0.0070394199718326915 <= 0.08562753573305242\n",
      "    2. Newton decrement 0.023014054678116222 <= 0.08562753573305242\n",
      "  Solver did converge at loss = 0.45858802575017527.\n",
      "Results: -0.8582021047103142\n",
      "================\n"
     ]
    },
    {
     "name": "stderr",
     "output_type": "stream",
     "text": [
      "[Parallel(n_jobs=1)]: Using backend SequentialBackend with 1 concurrent workers.\n",
      "[Parallel(n_jobs=1)]: Done   1 out of   1 | elapsed:    0.0s finished\n"
     ]
    },
    {
     "name": "stdout",
     "output_type": "stream",
     "text": [
      "================\n",
      "Configuration:\n",
      "C: 2.6601892374696576\n",
      "Tolerance: 0.08106414503864326\n",
      "Solver: newton-cholesky\n",
      "Oversampling Method: ada\n",
      "----------------\n",
      "Newton iter=1\n",
      "  Check Convergence\n",
      "    1. max |gradient| 0.02824721348010933 <= 0.08106414503864326\n",
      "    2. Newton decrement 0.17216158741445198 <= 0.08106414503864326\n",
      "Newton iter=2\n",
      "  Check Convergence\n",
      "    1. max |gradient| 0.005734567778863608 <= 0.08106414503864326\n",
      "    2. Newton decrement 0.022282369692994974 <= 0.08106414503864326\n",
      "  Solver did converge at loss = 0.471254591324441.\n",
      "Newton iter=1\n",
      "  Check Convergence\n",
      "    1. max |gradient| 0.0341937348441349 <= 0.08106414503864326\n",
      "    2. Newton decrement 0.18125704227008121 <= 0.08106414503864326\n",
      "Newton iter=2\n"
     ]
    },
    {
     "name": "stderr",
     "output_type": "stream",
     "text": [
      "[Parallel(n_jobs=1)]: Using backend SequentialBackend with 1 concurrent workers.\n",
      "[Parallel(n_jobs=1)]: Done   1 out of   1 | elapsed:    0.0s finished\n",
      "[Parallel(n_jobs=1)]: Using backend SequentialBackend with 1 concurrent workers.\n",
      "[Parallel(n_jobs=1)]: Done   1 out of   1 | elapsed:    0.0s finished\n",
      "[Parallel(n_jobs=1)]: Using backend SequentialBackend with 1 concurrent workers.\n"
     ]
    },
    {
     "name": "stdout",
     "output_type": "stream",
     "text": [
      "  Check Convergence\n",
      "    1. max |gradient| 0.006597506468707114 <= 0.08106414503864326\n",
      "    2. Newton decrement 0.021856578180244928 <= 0.08106414503864326\n",
      "  Solver did converge at loss = 0.4623648276138325.\n",
      "Newton iter=1\n",
      "  Check Convergence\n",
      "    1. max |gradient| 0.035339475541934645 <= 0.08106414503864326\n",
      "    2. Newton decrement 0.1828204662179499 <= 0.08106414503864326\n",
      "Newton iter=2\n",
      "  Check Convergence\n",
      "    1. max |gradient| 0.00703179843606333 <= 0.08106414503864326\n",
      "    2. Newton decrement 0.022973969638342272 <= 0.08106414503864326\n",
      "  Solver did converge at loss = 0.45867986665614663.\n",
      "Results: -0.858190140767201\n",
      "================\n"
     ]
    },
    {
     "name": "stderr",
     "output_type": "stream",
     "text": [
      "[Parallel(n_jobs=1)]: Done   1 out of   1 | elapsed:    0.0s finished\n"
     ]
    },
    {
     "name": "stdout",
     "output_type": "stream",
     "text": [
      "================\n",
      "Configuration:\n",
      "C: 2.635700212103431\n",
      "Tolerance: 0.08112814110103285\n",
      "Solver: newton-cholesky\n",
      "Oversampling Method: ada\n",
      "----------------\n",
      "Newton iter=1\n",
      "  Check Convergence\n",
      "    1. max |gradient| 0.02824625429450827 <= 0.08112814110103285\n",
      "    2. Newton decrement 0.17215886503374478 <= 0.08112814110103285\n",
      "Newton iter=2\n",
      "  Check Convergence\n",
      "    1. max |gradient| 0.005733711751224214 <= 0.08112814110103285\n",
      "    2. Newton decrement 0.022278360879137427 <= 0.08112814110103285\n",
      "  Solver did converge at loss = 0.4712645411345536.\n",
      "Newton iter=1\n",
      "  Check Convergence\n",
      "    1. max |gradient| 0.03419318537558362 <= 0.08112814110103285\n",
      "    2. Newton decrement 0.18125510806739525 <= 0.08112814110103285\n",
      "Newton iter=2\n"
     ]
    },
    {
     "name": "stderr",
     "output_type": "stream",
     "text": [
      "[Parallel(n_jobs=1)]: Using backend SequentialBackend with 1 concurrent workers.\n",
      "[Parallel(n_jobs=1)]: Done   1 out of   1 | elapsed:    0.0s finished\n",
      "[Parallel(n_jobs=1)]: Using backend SequentialBackend with 1 concurrent workers.\n",
      "[Parallel(n_jobs=1)]: Done   1 out of   1 | elapsed:    0.0s finished\n"
     ]
    },
    {
     "name": "stdout",
     "output_type": "stream",
     "text": [
      "  Check Convergence\n",
      "    1. max |gradient| 0.006596796005527209 <= 0.08112814110103285\n",
      "    2. Newton decrement 0.021853068401486632 <= 0.08112814110103285\n",
      "  Solver did converge at loss = 0.46237302160887855.\n",
      "Newton iter=1\n",
      "  Check Convergence\n",
      "    1. max |gradient| 0.03533895336976637 <= 0.08112814110103285\n",
      "    2. Newton decrement 0.1828188065410942 <= 0.08112814110103285\n",
      "Newton iter=2\n",
      "  Check Convergence\n",
      "    1. max |gradient| 0.007031182624971125 <= 0.08112814110103285\n",
      "    2. Newton decrement 0.022970718966848082 <= 0.08112814110103285\n",
      "  Solver did converge at loss = 0.4586873223104961.\n",
      "Results: -0.8581890856450363\n",
      "================\n"
     ]
    },
    {
     "name": "stderr",
     "output_type": "stream",
     "text": [
      "[Parallel(n_jobs=1)]: Using backend SequentialBackend with 1 concurrent workers.\n",
      "[Parallel(n_jobs=1)]: Done   1 out of   1 | elapsed:    0.0s finished\n"
     ]
    },
    {
     "name": "stdout",
     "output_type": "stream",
     "text": [
      "================\n",
      "Configuration:\n",
      "C: 3.0\n",
      "Tolerance: 0.08557887344728096\n",
      "Solver: newton-cholesky\n",
      "Oversampling Method: ada\n",
      "----------------\n",
      "Newton iter=1\n",
      "  Check Convergence\n",
      "    1. max |gradient| 0.0282594792077637 <= 0.08557887344728096\n",
      "    2. Newton decrement 0.17219577724805477 <= 0.08557887344728096\n",
      "Newton iter=2\n",
      "  Check Convergence\n",
      "    1. max |gradient| 0.005745313002866469 <= 0.08557887344728096\n",
      "    2. Newton decrement 0.02233225734237848 <= 0.08557887344728096\n",
      "  Solver did converge at loss = 0.4711304012041946.\n"
     ]
    },
    {
     "name": "stderr",
     "output_type": "stream",
     "text": [
      "[Parallel(n_jobs=1)]: Using backend SequentialBackend with 1 concurrent workers.\n",
      "[Parallel(n_jobs=1)]: Done   1 out of   1 | elapsed:    0.0s finished\n",
      "[Parallel(n_jobs=1)]: Using backend SequentialBackend with 1 concurrent workers.\n"
     ]
    },
    {
     "name": "stdout",
     "output_type": "stream",
     "text": [
      "Newton iter=1\n",
      "  Check Convergence\n",
      "    1. max |gradient| 0.034200556483618964 <= 0.08557887344728096\n",
      "    2. Newton decrement 0.18128099619944743 <= 0.08557887344728096\n",
      "Newton iter=2\n",
      "  Check Convergence\n",
      "    1. max |gradient| 0.006606273317286807 <= 0.08557887344728096\n",
      "    2. Newton decrement 0.021899980002729642 <= 0.08557887344728096\n",
      "  Solver did converge at loss = 0.4622634190334925.\n",
      "Newton iter=1\n",
      "  Check Convergence\n",
      "    1. max |gradient| 0.0353459483597149 <= 0.08557887344728096\n",
      "    2. Newton decrement 0.18284083738644571 <= 0.08557887344728096\n",
      "Newton iter=2\n",
      "  Check Convergence\n",
      "    1. max |gradient| 0.0070394199718326915 <= 0.08557887344728096\n",
      "    2. Newton decrement 0.023014054678116222 <= 0.08557887344728096\n",
      "  Solver did converge at loss = 0.45858802575017527.\n",
      "Results: -0.8582021047103142\n",
      "================\n"
     ]
    },
    {
     "name": "stderr",
     "output_type": "stream",
     "text": [
      "[Parallel(n_jobs=1)]: Done   1 out of   1 | elapsed:    0.0s finished\n",
      "[Parallel(n_jobs=1)]: Using backend SequentialBackend with 1 concurrent workers.\n",
      "[Parallel(n_jobs=1)]: Done   1 out of   1 | elapsed:    0.0s finished\n"
     ]
    },
    {
     "name": "stdout",
     "output_type": "stream",
     "text": [
      "================\n",
      "Configuration:\n",
      "C: 3.0\n",
      "Tolerance: 0.0855637443746455\n",
      "Solver: newton-cholesky\n",
      "Oversampling Method: none\n",
      "----------------\n",
      "Newton iter=1\n",
      "  Check Convergence\n",
      "    1. max |gradient| 0.0282594792077637 <= 0.0855637443746455\n",
      "    2. Newton decrement 0.17219577724805477 <= 0.0855637443746455\n",
      "Newton iter=2\n",
      "  Check Convergence\n",
      "    1. max |gradient| 0.005745313002866469 <= 0.0855637443746455\n",
      "    2. Newton decrement 0.02233225734237848 <= 0.0855637443746455\n",
      "  Solver did converge at loss = 0.4711304012041946.\n",
      "Newton iter=1\n"
     ]
    },
    {
     "name": "stderr",
     "output_type": "stream",
     "text": [
      "[Parallel(n_jobs=1)]: Using backend SequentialBackend with 1 concurrent workers.\n",
      "[Parallel(n_jobs=1)]: Done   1 out of   1 | elapsed:    0.0s finished\n",
      "[Parallel(n_jobs=1)]: Using backend SequentialBackend with 1 concurrent workers.\n",
      "[Parallel(n_jobs=1)]: Done   1 out of   1 | elapsed:    0.0s finished\n"
     ]
    },
    {
     "name": "stdout",
     "output_type": "stream",
     "text": [
      "  Check Convergence\n",
      "    1. max |gradient| 0.034200556483618964 <= 0.0855637443746455\n",
      "    2. Newton decrement 0.18128099619944743 <= 0.0855637443746455\n",
      "Newton iter=2\n",
      "  Check Convergence\n",
      "    1. max |gradient| 0.006606273317286807 <= 0.0855637443746455\n",
      "    2. Newton decrement 0.021899980002729642 <= 0.0855637443746455\n",
      "  Solver did converge at loss = 0.4622634190334925.\n",
      "Newton iter=1\n",
      "  Check Convergence\n",
      "    1. max |gradient| 0.0353459483597149 <= 0.0855637443746455\n",
      "    2. Newton decrement 0.18284083738644571 <= 0.0855637443746455\n",
      "Newton iter=2\n",
      "  Check Convergence\n",
      "    1. max |gradient| 0.0070394199718326915 <= 0.0855637443746455\n",
      "    2. Newton decrement 0.023014054678116222 <= 0.0855637443746455\n",
      "  Solver did converge at loss = 0.45858802575017527.\n",
      "Results: -0.8582021047103142\n",
      "================\n"
     ]
    },
    {
     "name": "stderr",
     "output_type": "stream",
     "text": [
      "[Parallel(n_jobs=1)]: Using backend SequentialBackend with 1 concurrent workers.\n",
      "[Parallel(n_jobs=1)]: Done   1 out of   1 | elapsed:    0.0s finished\n"
     ]
    },
    {
     "name": "stdout",
     "output_type": "stream",
     "text": [
      "================\n",
      "Configuration:\n",
      "C: 3.0\n",
      "Tolerance: 0.08555821079560173\n",
      "Solver: newton-cholesky\n",
      "Oversampling Method: none\n",
      "----------------\n",
      "Newton iter=1\n",
      "  Check Convergence\n",
      "    1. max |gradient| 0.0282594792077637 <= 0.08555821079560173\n",
      "    2. Newton decrement 0.17219577724805477 <= 0.08555821079560173\n",
      "Newton iter=2\n",
      "  Check Convergence\n",
      "    1. max |gradient| 0.005745313002866469 <= 0.08555821079560173\n",
      "    2. Newton decrement 0.02233225734237848 <= 0.08555821079560173\n",
      "  Solver did converge at loss = 0.4711304012041946.\n",
      "Newton iter=1\n",
      "  Check Convergence\n",
      "    1. max |gradient| 0.034200556483618964 <= 0.08555821079560173\n",
      "    2. Newton decrement 0.18128099619944743 <= 0.08555821079560173\n",
      "Newton iter=2\n",
      "  Check Convergence\n",
      "    1. max |gradient| 0.006606273317286807 <= 0.08555821079560173\n",
      "    2. Newton decrement 0.021899980002729642 <= 0.08555821079560173\n",
      "  Solver did converge at loss = 0.4622634190334925.\n"
     ]
    },
    {
     "name": "stderr",
     "output_type": "stream",
     "text": [
      "[Parallel(n_jobs=1)]: Using backend SequentialBackend with 1 concurrent workers.\n",
      "[Parallel(n_jobs=1)]: Done   1 out of   1 | elapsed:    0.0s finished\n",
      "[Parallel(n_jobs=1)]: Using backend SequentialBackend with 1 concurrent workers.\n",
      "[Parallel(n_jobs=1)]: Done   1 out of   1 | elapsed:    0.0s finished\n",
      "[Parallel(n_jobs=1)]: Using backend SequentialBackend with 1 concurrent workers.\n",
      "[Parallel(n_jobs=1)]: Done   1 out of   1 | elapsed:    0.0s finished\n"
     ]
    },
    {
     "name": "stdout",
     "output_type": "stream",
     "text": [
      "Newton iter=1\n",
      "  Check Convergence\n",
      "    1. max |gradient| 0.0353459483597149 <= 0.08555821079560173\n",
      "    2. Newton decrement 0.18284083738644571 <= 0.08555821079560173\n",
      "Newton iter=2\n",
      "  Check Convergence\n",
      "    1. max |gradient| 0.0070394199718326915 <= 0.08555821079560173\n",
      "    2. Newton decrement 0.023014054678116222 <= 0.08555821079560173\n",
      "  Solver did converge at loss = 0.45858802575017527.\n",
      "Results: -0.8582021047103142\n",
      "================\n",
      "================\n",
      "Configuration:\n",
      "C: 2.635468544716739\n",
      "Tolerance: 0.08112358952224075\n",
      "Solver: newton-cholesky\n",
      "Oversampling Method: ada\n",
      "----------------\n",
      "Newton iter=1\n",
      "  Check Convergence\n",
      "    1. max |gradient| 0.02824624516635756 <= 0.08112358952224075\n",
      "    2. Newton decrement 0.17215883909283097 <= 0.08112358952224075\n",
      "Newton iter=2\n",
      "  Check Convergence\n",
      "    1. max |gradient| 0.00573370359364325 <= 0.08112358952224075\n",
      "    2. Newton decrement 0.022278322655294665 <= 0.08112358952224075\n",
      "  Solver did converge at loss = 0.4712646359854087.\n",
      "Newton iter=1\n",
      "  Check Convergence\n",
      "    1. max |gradient| 0.03419318013548608 <= 0.08112358952224075\n",
      "    2. Newton decrement 0.18125508961856976 <= 0.08112358952224075\n",
      "Newton iter=2\n",
      "  Check Convergence\n",
      "    1. max |gradient| 0.006596789227244736 <= 0.08112358952224075\n",
      "    2. Newton decrement 0.021853034921285323 <= 0.08112358952224075\n",
      "  Solver did converge at loss = 0.4623730997679591.\n"
     ]
    },
    {
     "name": "stderr",
     "output_type": "stream",
     "text": [
      "[Parallel(n_jobs=1)]: Using backend SequentialBackend with 1 concurrent workers.\n",
      "[Parallel(n_jobs=1)]: Done   1 out of   1 | elapsed:    0.0s finished\n",
      "[Parallel(n_jobs=1)]: Using backend SequentialBackend with 1 concurrent workers.\n",
      "[Parallel(n_jobs=1)]: Done   1 out of   1 | elapsed:    0.0s finished\n",
      "[Parallel(n_jobs=1)]: Using backend SequentialBackend with 1 concurrent workers.\n"
     ]
    },
    {
     "name": "stdout",
     "output_type": "stream",
     "text": [
      "Newton iter=1\n",
      "  Check Convergence\n",
      "    1. max |gradient| 0.03533894838948207 <= 0.08112358952224075\n",
      "    2. Newton decrement 0.18281879070081958 <= 0.08112358952224075\n",
      "Newton iter=2\n",
      "  Check Convergence\n",
      "    1. max |gradient| 0.007031176750894825 <= 0.08112358952224075\n",
      "    2. Newton decrement 0.02297068795219375 <= 0.08112358952224075\n",
      "  Solver did converge at loss = 0.4586873934501697.\n",
      "Results: -0.8581890739603221\n",
      "================\n"
     ]
    },
    {
     "name": "stderr",
     "output_type": "stream",
     "text": [
      "[Parallel(n_jobs=1)]: Done   1 out of   1 | elapsed:    0.0s finished\n"
     ]
    },
    {
     "name": "stdout",
     "output_type": "stream",
     "text": [
      "================\n",
      "Configuration:\n",
      "C: 2.6353974959691078\n",
      "Tolerance: 0.08112330385846367\n",
      "Solver: newton-cholesky\n",
      "Oversampling Method: ada\n",
      "----------------\n",
      "Newton iter=1\n",
      "  Check Convergence\n",
      "    1. max |gradient| 0.02824624236669179 <= 0.08112330385846367\n",
      "    2. Newton decrement 0.17215883113645136 <= 0.08112330385846367\n",
      "Newton iter=2\n",
      "  Check Convergence\n",
      "    1. max |gradient| 0.005733701091615694 <= 0.08112330385846367\n",
      "    2. Newton decrement 0.022278310931504633 <= 0.08112330385846367\n",
      "  Solver did converge at loss = 0.4712646650774233.\n",
      "Newton iter=1\n",
      "  Check Convergence\n",
      "    1. max |gradient| 0.03419317852827082 <= 0.08112330385846367\n",
      "    2. Newton decrement 0.18125508396003118 <= 0.08112330385846367\n",
      "Newton iter=2\n",
      "  Check Convergence\n",
      "    1. max |gradient| 0.006596787148234681 <= 0.08112330385846367\n",
      "    2. Newton decrement 0.02185302465238214 <= 0.08112330385846367\n",
      "  Solver did converge at loss = 0.4623731237405596.\n"
     ]
    },
    {
     "name": "stderr",
     "output_type": "stream",
     "text": [
      "[Parallel(n_jobs=1)]: Using backend SequentialBackend with 1 concurrent workers.\n",
      "[Parallel(n_jobs=1)]: Done   1 out of   1 | elapsed:    0.0s finished\n",
      "[Parallel(n_jobs=1)]: Using backend SequentialBackend with 1 concurrent workers.\n",
      "[Parallel(n_jobs=1)]: Done   1 out of   1 | elapsed:    0.0s finished\n",
      "[Parallel(n_jobs=1)]: Using backend SequentialBackend with 1 concurrent workers.\n"
     ]
    },
    {
     "name": "stdout",
     "output_type": "stream",
     "text": [
      "Newton iter=1\n",
      "  Check Convergence\n",
      "    1. max |gradient| 0.035338946861953546 <= 0.08112330385846367\n",
      "    2. Newton decrement 0.18281878584232628 <= 0.08112330385846367\n",
      "Newton iter=2\n",
      "  Check Convergence\n",
      "    1. max |gradient| 0.007031174949223792 <= 0.08112330385846367\n",
      "    2. Newton decrement 0.022970678439488516 <= 0.08112330385846367\n",
      "  Solver did converge at loss = 0.4586874152698977.\n",
      "Results: -0.8581890786339986\n",
      "================\n"
     ]
    },
    {
     "name": "stderr",
     "output_type": "stream",
     "text": [
      "[Parallel(n_jobs=1)]: Done   1 out of   1 | elapsed:    0.0s finished\n"
     ]
    },
    {
     "name": "stdout",
     "output_type": "stream",
     "text": [
      "================\n",
      "Configuration:\n",
      "C: 2.6355469796729647\n",
      "Tolerance: 0.0811334871740663\n",
      "Solver: newton-cholesky\n",
      "Oversampling Method: ada\n",
      "----------------\n",
      "Newton iter=1\n",
      "  Check Convergence\n",
      "    1. max |gradient| 0.028246248256963768 <= 0.0811334871740663\n",
      "    2. Newton decrement 0.1721588478759665 <= 0.0811334871740663\n",
      "Newton iter=2\n",
      "  Check Convergence\n",
      "    1. max |gradient| 0.005733706355657601 <= 0.0811334871740663\n",
      "    2. Newton decrement 0.022278335597265553 <= 0.0811334871740663\n",
      "  Solver did converge at loss = 0.47126460387049446.\n",
      "Newton iter=1\n",
      "  Check Convergence\n",
      "    1. max |gradient| 0.034193181909699874 <= 0.0811334871740663\n",
      "    2. Newton decrement 0.18125509586505495 <= 0.0811334871740663\n",
      "Newton iter=2\n",
      "  Check Convergence\n",
      "    1. max |gradient| 0.00659679152226957 <= 0.0811334871740663\n",
      "    2. Newton decrement 0.021853046257168652 <= 0.0811334871740663\n"
     ]
    },
    {
     "name": "stderr",
     "output_type": "stream",
     "text": [
      "[Parallel(n_jobs=1)]: Using backend SequentialBackend with 1 concurrent workers.\n",
      "[Parallel(n_jobs=1)]: Done   1 out of   1 | elapsed:    0.0s finished\n",
      "[Parallel(n_jobs=1)]: Using backend SequentialBackend with 1 concurrent workers.\n",
      "[Parallel(n_jobs=1)]: Done   1 out of   1 | elapsed:    0.0s finished\n",
      "[Parallel(n_jobs=1)]: Using backend SequentialBackend with 1 concurrent workers.\n"
     ]
    },
    {
     "name": "stdout",
     "output_type": "stream",
     "text": [
      "  Solver did converge at loss = 0.46237307330450284.\n",
      "Newton iter=1\n",
      "  Check Convergence\n",
      "    1. max |gradient| 0.03533895007572828 <= 0.0811334871740663\n",
      "    2. Newton decrement 0.1828187960641109 <= 0.0811334871740663\n",
      "Newton iter=2\n",
      "  Check Convergence\n",
      "    1. max |gradient| 0.007031178739766467 <= 0.0811334871740663\n",
      "    2. Newton decrement 0.02297069845329281 <= 0.0811334871740663\n",
      "  Solver did converge at loss = 0.45868736936332716.\n",
      "Results: -0.8581890879812821\n",
      "================\n"
     ]
    },
    {
     "name": "stderr",
     "output_type": "stream",
     "text": [
      "[Parallel(n_jobs=1)]: Done   1 out of   1 | elapsed:    0.0s finished\n"
     ]
    },
    {
     "name": "stdout",
     "output_type": "stream",
     "text": [
      "================\n",
      "Configuration:\n",
      "C: 1.073692106419707\n",
      "Tolerance: 0.08504925280924179\n",
      "Solver: newton-cholesky\n",
      "Oversampling Method: ada\n",
      "----------------\n",
      "Newton iter=1\n",
      "  Check Convergence\n",
      "    1. max |gradient| 0.02813214987199785 <= 0.08504925280924179\n",
      "    2. Newton decrement 0.17179860249545706 <= 0.08504925280924179\n",
      "Newton iter=2\n",
      "  Check Convergence\n",
      "    1. max |gradient| 0.005618050439671099 <= 0.08504925280924179\n",
      "    2. Newton decrement 0.021724504880491092 <= 0.08504925280924179\n",
      "  Solver did converge at loss = 0.47261946719259423.\n",
      "Newton iter=1\n",
      "  Check Convergence\n",
      "    1. max |gradient| 0.0341149313290175 <= 0.08504925280924179\n",
      "    2. Newton decrement 0.18097696288146772 <= 0.08504925280924179\n",
      "Newton iter=2\n",
      "  Check Convergence\n",
      "    1. max |gradient| 0.00649338443732628 <= 0.08504925280924179\n",
      "    2. Newton decrement 0.02135222292799409 <= 0.08504925280924179\n",
      "  Solver did converge at loss = 0.46354034590813364.\n"
     ]
    },
    {
     "name": "stderr",
     "output_type": "stream",
     "text": [
      "[Parallel(n_jobs=1)]: Using backend SequentialBackend with 1 concurrent workers.\n",
      "[Parallel(n_jobs=1)]: Done   1 out of   1 | elapsed:    0.0s finished\n",
      "[Parallel(n_jobs=1)]: Using backend SequentialBackend with 1 concurrent workers.\n",
      "[Parallel(n_jobs=1)]: Done   1 out of   1 | elapsed:    0.0s finished\n",
      "[Parallel(n_jobs=1)]: Using backend SequentialBackend with 1 concurrent workers.\n",
      "[Parallel(n_jobs=1)]: Done   1 out of   1 | elapsed:    0.0s finished\n"
     ]
    },
    {
     "name": "stdout",
     "output_type": "stream",
     "text": [
      "Newton iter=1\n",
      "  Check Convergence\n",
      "    1. max |gradient| 0.0352640470892867 <= 0.08504925280924179\n",
      "    2. Newton decrement 0.18256777516131265 <= 0.08504925280924179\n",
      "Newton iter=2\n",
      "  Check Convergence\n",
      "    1. max |gradient| 0.006942205954558656 <= 0.08504925280924179\n",
      "    2. Newton decrement 0.022498109399442814 <= 0.08504925280924179\n",
      "  Solver did converge at loss = 0.4597798307282067.\n",
      "Results: -0.8580561475572165\n",
      "================\n",
      "================\n",
      "Configuration:\n",
      "C: 2.658495661778685\n",
      "Tolerance: 0.08088156244610968\n",
      "Solver: newton-cholesky\n",
      "Oversampling Method: ada\n",
      "----------------\n",
      "Newton iter=1\n",
      "  Check Convergence\n",
      "    1. max |gradient| 0.028247147508761887 <= 0.08088156244610968\n",
      "    2. Newton decrement 0.17216140039492434 <= 0.08088156244610968\n",
      "Newton iter=2\n",
      "  Check Convergence\n",
      "    1. max |gradient| 0.005734508976781099 <= 0.08088156244610968\n",
      "    2. Newton decrement 0.022282094464882187 <= 0.08088156244610968\n",
      "  Solver did converge at loss = 0.4712552745701444.\n",
      "Newton iter=1\n",
      "  Check Convergence\n",
      "    1. max |gradient| 0.034193697126210995 <= 0.08088156244610968\n",
      "    2. Newton decrement 0.18125690951794218 <= 0.08088156244610968\n",
      "Newton iter=2\n",
      "  Check Convergence\n",
      "    1. max |gradient| 0.006597457718341009 <= 0.08088156244610968\n",
      "    2. Newton decrement 0.021856337311496322 <= 0.08088156244610968\n",
      "  Solver did converge at loss = 0.46236538998003746.\n"
     ]
    },
    {
     "name": "stderr",
     "output_type": "stream",
     "text": [
      "[Parallel(n_jobs=1)]: Using backend SequentialBackend with 1 concurrent workers.\n",
      "[Parallel(n_jobs=1)]: Done   1 out of   1 | elapsed:    0.0s finished\n",
      "[Parallel(n_jobs=1)]: Using backend SequentialBackend with 1 concurrent workers.\n",
      "[Parallel(n_jobs=1)]: Done   1 out of   1 | elapsed:    0.0s finished\n",
      "[Parallel(n_jobs=1)]: Using backend SequentialBackend with 1 concurrent workers.\n"
     ]
    },
    {
     "name": "stdout",
     "output_type": "stream",
     "text": [
      "Newton iter=1\n",
      "  Check Convergence\n",
      "    1. max |gradient| 0.035339439701124395 <= 0.08088156244610968\n",
      "    2. Newton decrement 0.18282035237387256 <= 0.08088156244610968\n",
      "Newton iter=2\n",
      "  Check Convergence\n",
      "    1. max |gradient| 0.007031756172717483 <= 0.08088156244610968\n",
      "    2. Newton decrement 0.022973746592317924 <= 0.08088156244610968\n",
      "  Solver did converge at loss = 0.45868037819341556.\n",
      "Results: -0.8581900846815488\n",
      "================\n"
     ]
    },
    {
     "name": "stderr",
     "output_type": "stream",
     "text": [
      "[Parallel(n_jobs=1)]: Done   1 out of   1 | elapsed:    0.0s finished\n"
     ]
    },
    {
     "name": "stdout",
     "output_type": "stream",
     "text": [
      "================\n",
      "Configuration:\n",
      "C: 2.635072922312641\n",
      "Tolerance: 0.08113781336877626\n",
      "Solver: newton-cholesky\n",
      "Oversampling Method: ada\n",
      "----------------\n",
      "Newton iter=1\n",
      "  Check Convergence\n",
      "    1. max |gradient| 0.028246229575687534 <= 0.08113781336877626\n",
      "    2. Newton decrement 0.17215879478490492 <= 0.08113781336877626\n",
      "Newton iter=2\n",
      "  Check Convergence\n",
      "    1. max |gradient| 0.005733689660197209 <= 0.08113781336877626\n",
      "    2. Newton decrement 0.022278257366646324 <= 0.08113781336877626\n",
      "  Solver did converge at loss = 0.4712647979955618.\n",
      "Newton iter=1\n",
      "  Check Convergence\n",
      "    1. max |gradient| 0.034193171185039735 <= 0.08113781336877626\n",
      "    2. Newton decrement 0.18125505810657902 <= 0.08113781336877626\n",
      "Newton iter=2\n"
     ]
    },
    {
     "name": "stderr",
     "output_type": "stream",
     "text": [
      "[Parallel(n_jobs=1)]: Using backend SequentialBackend with 1 concurrent workers.\n",
      "[Parallel(n_jobs=1)]: Done   1 out of   1 | elapsed:    0.0s finished\n",
      "[Parallel(n_jobs=1)]: Using backend SequentialBackend with 1 concurrent workers.\n",
      "[Parallel(n_jobs=1)]: Done   1 out of   1 | elapsed:    0.0s finished\n"
     ]
    },
    {
     "name": "stdout",
     "output_type": "stream",
     "text": [
      "  Check Convergence\n",
      "    1. max |gradient| 0.006596777649349853 <= 0.08113781336877626\n",
      "    2. Newton decrement 0.021852977734432164 <= 0.08113781336877626\n",
      "  Solver did converge at loss = 0.4623732332697105.\n",
      "Newton iter=1\n",
      "  Check Convergence\n",
      "    1. max |gradient| 0.03533893988279285 <= 0.08113781336877626\n",
      "    2. Newton decrement 0.18281876364400068 <= 0.08113781336877626\n",
      "Newton iter=2\n",
      "  Check Convergence\n",
      "    1. max |gradient| 0.007031166717512441 <= 0.08113781336877626\n",
      "    2. Newton decrement 0.02297063497642412 <= 0.08113781336877626\n",
      "  Solver did converge at loss = 0.45868751496324633.\n",
      "Results: -0.8581890657806737\n",
      "================\n"
     ]
    },
    {
     "name": "stderr",
     "output_type": "stream",
     "text": [
      "[Parallel(n_jobs=1)]: Using backend SequentialBackend with 1 concurrent workers.\n",
      "[Parallel(n_jobs=1)]: Done   1 out of   1 | elapsed:    0.0s finished\n"
     ]
    },
    {
     "name": "stdout",
     "output_type": "stream",
     "text": [
      "================\n",
      "Configuration:\n",
      "C: 2.6411418050830684\n",
      "Tolerance: 0.08026962622548298\n",
      "Solver: newton-cholesky\n",
      "Oversampling Method: ada\n",
      "----------------\n",
      "Newton iter=1\n",
      "  Check Convergence\n",
      "    1. max |gradient| 0.028246468409883645 <= 0.08026962622548298\n",
      "    2. Newton decrement 0.17215947334005305 <= 0.08026962622548298\n",
      "Newton iter=2\n",
      "  Check Convergence\n",
      "    1. max |gradient| 0.005733903040062323 <= 0.08026962622548298\n",
      "    2. Newton decrement 0.022279257082348496 <= 0.08026962622548298\n",
      "  Solver did converge at loss = 0.4712623171356547.\n",
      "Newton iter=1\n"
     ]
    },
    {
     "name": "stderr",
     "output_type": "stream",
     "text": [
      "[Parallel(n_jobs=1)]: Using backend SequentialBackend with 1 concurrent workers.\n",
      "[Parallel(n_jobs=1)]: Done   1 out of   1 | elapsed:    0.0s finished\n",
      "[Parallel(n_jobs=1)]: Using backend SequentialBackend with 1 concurrent workers.\n",
      "[Parallel(n_jobs=1)]: Done   1 out of   1 | elapsed:    0.0s finished\n"
     ]
    },
    {
     "name": "stdout",
     "output_type": "stream",
     "text": [
      "  Check Convergence\n",
      "    1. max |gradient| 0.034193308230765225 <= 0.08026962622548298\n",
      "    2. Newton decrement 0.18125554058794724 <= 0.08026962622548298\n",
      "Newton iter=2\n",
      "  Check Convergence\n",
      "    1. max |gradient| 0.006596954908519078 <= 0.08026962622548298\n",
      "    2. Newton decrement 0.021853853305539253 <= 0.08026962622548298\n",
      "  Solver did converge at loss = 0.46237118923705856.\n",
      "Newton iter=1\n",
      "  Check Convergence\n",
      "    1. max |gradient| 0.0353390701308663 <= 0.08026962622548298\n",
      "    2. Newton decrement 0.18281917785230503 <= 0.08026962622548298\n",
      "Newton iter=2\n",
      "  Check Convergence\n",
      "    1. max |gradient| 0.007031320336950953 <= 0.08026962622548298\n",
      "    2. Newton decrement 0.02297144603610513 <= 0.08026962622548298\n",
      "  Solver did converge at loss = 0.4586856546283244.\n",
      "Results: -0.8581892842860835\n",
      "================\n"
     ]
    },
    {
     "name": "stderr",
     "output_type": "stream",
     "text": [
      "[Parallel(n_jobs=1)]: Using backend SequentialBackend with 1 concurrent workers.\n",
      "[Parallel(n_jobs=1)]: Done   1 out of   1 | elapsed:    0.0s finished\n"
     ]
    },
    {
     "name": "stdout",
     "output_type": "stream",
     "text": [
      "================\n",
      "Configuration:\n",
      "C: 2.633638197552016\n",
      "Tolerance: 0.08103106946308718\n",
      "Solver: newton-cholesky\n",
      "Oversampling Method: ada\n",
      "----------------\n",
      "Newton iter=1\n",
      "  Check Convergence\n",
      "    1. max |gradient| 0.028246173011032716 <= 0.08103106946308718\n",
      "    2. Newton decrement 0.17215863401560547 <= 0.08103106946308718\n",
      "Newton iter=2\n",
      "  Check Convergence\n",
      "    1. max |gradient| 0.005733639102985781 <= 0.08103106946308718\n",
      "    2. Newton decrement 0.022278020458320134 <= 0.08103106946308718\n",
      "  Solver did converge at loss = 0.4712653858611673.\n",
      "Newton iter=1\n",
      "  Check Convergence\n",
      "    1. max |gradient| 0.03419313870674712 <= 0.08103106946308718\n",
      "    2. Newton decrement 0.1812549437583312 <= 0.08103106946308718\n",
      "Newton iter=2\n"
     ]
    },
    {
     "name": "stderr",
     "output_type": "stream",
     "text": [
      "[Parallel(n_jobs=1)]: Using backend SequentialBackend with 1 concurrent workers.\n",
      "[Parallel(n_jobs=1)]: Done   1 out of   1 | elapsed:    0.0s finished\n",
      "[Parallel(n_jobs=1)]: Using backend SequentialBackend with 1 concurrent workers.\n",
      "[Parallel(n_jobs=1)]: Done   1 out of   1 | elapsed:    0.0s finished\n"
     ]
    },
    {
     "name": "stdout",
     "output_type": "stream",
     "text": [
      "  Check Convergence\n",
      "    1. max |gradient| 0.006596735635589211 <= 0.08103106946308718\n",
      "    2. Newton decrement 0.021852770217782973 <= 0.08103106946308718\n",
      "  Solver did converge at loss = 0.4623737177118151.\n",
      "Newton iter=1\n",
      "  Check Convergence\n",
      "    1. max |gradient| 0.035338909014522066 <= 0.08103106946308718\n",
      "    2. Newton decrement 0.18281866545775555 <= 0.08103106946308718\n",
      "Newton iter=2\n",
      "  Check Convergence\n",
      "    1. max |gradient| 0.007031130308999184 <= 0.08103106946308718\n",
      "    2. Newton decrement 0.02297044273792493 <= 0.08103106946308718\n",
      "  Solver did converge at loss = 0.458687955912393.\n",
      "Results: -0.858189062273726\n",
      "================\n"
     ]
    },
    {
     "name": "stderr",
     "output_type": "stream",
     "text": [
      "[Parallel(n_jobs=1)]: Using backend SequentialBackend with 1 concurrent workers.\n",
      "[Parallel(n_jobs=1)]: Done   1 out of   1 | elapsed:    0.0s finished\n"
     ]
    },
    {
     "name": "stdout",
     "output_type": "stream",
     "text": [
      "================\n",
      "Configuration:\n",
      "C: 3.0\n",
      "Tolerance: 0.08556650049443397\n",
      "Solver: newton-cholesky\n",
      "Oversampling Method: none\n",
      "----------------\n",
      "Newton iter=1\n",
      "  Check Convergence\n",
      "    1. max |gradient| 0.0282594792077637 <= 0.08556650049443397\n",
      "    2. Newton decrement 0.17219577724805477 <= 0.08556650049443397\n",
      "Newton iter=2\n",
      "  Check Convergence\n",
      "    1. max |gradient| 0.005745313002866469 <= 0.08556650049443397\n",
      "    2. Newton decrement 0.02233225734237848 <= 0.08556650049443397\n",
      "  Solver did converge at loss = 0.4711304012041946.\n",
      "Newton iter=1\n",
      "  Check Convergence\n",
      "    1. max |gradient| 0.034200556483618964 <= 0.08556650049443397\n",
      "    2. Newton decrement 0.18128099619944743 <= 0.08556650049443397\n",
      "Newton iter=2\n",
      "  Check Convergence\n",
      "    1. max |gradient| 0.006606273317286807 <= 0.08556650049443397\n",
      "    2. Newton decrement 0.021899980002729642 <= 0.08556650049443397\n",
      "  Solver did converge at loss = 0.4622634190334925.\n"
     ]
    },
    {
     "name": "stderr",
     "output_type": "stream",
     "text": [
      "[Parallel(n_jobs=1)]: Using backend SequentialBackend with 1 concurrent workers.\n",
      "[Parallel(n_jobs=1)]: Done   1 out of   1 | elapsed:    0.0s finished\n",
      "[Parallel(n_jobs=1)]: Using backend SequentialBackend with 1 concurrent workers.\n",
      "[Parallel(n_jobs=1)]: Done   1 out of   1 | elapsed:    0.0s finished\n",
      "[Parallel(n_jobs=1)]: Using backend SequentialBackend with 1 concurrent workers.\n"
     ]
    },
    {
     "name": "stdout",
     "output_type": "stream",
     "text": [
      "Newton iter=1\n",
      "  Check Convergence\n",
      "    1. max |gradient| 0.0353459483597149 <= 0.08556650049443397\n",
      "    2. Newton decrement 0.18284083738644571 <= 0.08556650049443397\n",
      "Newton iter=2\n",
      "  Check Convergence\n",
      "    1. max |gradient| 0.0070394199718326915 <= 0.08556650049443397\n",
      "    2. Newton decrement 0.023014054678116222 <= 0.08556650049443397\n",
      "  Solver did converge at loss = 0.45858802575017527.\n",
      "Results: -0.8582021047103142\n",
      "================\n"
     ]
    },
    {
     "name": "stderr",
     "output_type": "stream",
     "text": [
      "[Parallel(n_jobs=1)]: Done   1 out of   1 | elapsed:    0.0s finished\n"
     ]
    },
    {
     "name": "stdout",
     "output_type": "stream",
     "text": [
      "================\n",
      "Configuration:\n",
      "C: 2.6335493190599935\n",
      "Tolerance: 0.08103102839279737\n",
      "Solver: newton-cholesky\n",
      "Oversampling Method: ada\n",
      "----------------\n",
      "Newton iter=1\n",
      "  Check Convergence\n",
      "    1. max |gradient| 0.028246169505664616 <= 0.08103102839279737\n",
      "    2. Newton decrement 0.17215862405178248 <= 0.08103102839279737\n",
      "Newton iter=2\n",
      "  Check Convergence\n",
      "    1. max |gradient| 0.00573363596963952 <= 0.08103102839279737\n",
      "    2. Newton decrement 0.02227800577512232 <= 0.08103102839279737\n",
      "  Solver did converge at loss = 0.47126542229565704.\n",
      "Newton iter=1\n",
      "  Check Convergence\n",
      "    1. max |gradient| 0.03419313669377217 <= 0.08103102839279737\n",
      "    2. Newton decrement 0.18125493667106035 <= 0.08103102839279737\n",
      "Newton iter=2\n",
      "  Check Convergence\n",
      "    1. max |gradient| 0.006596733031547532 <= 0.08103102839279737\n",
      "    2. Newton decrement 0.0218527573558875 <= 0.08103102839279737\n",
      "  Solver did converge at loss = 0.4623737477374648.\n"
     ]
    },
    {
     "name": "stderr",
     "output_type": "stream",
     "text": [
      "[Parallel(n_jobs=1)]: Using backend SequentialBackend with 1 concurrent workers.\n",
      "[Parallel(n_jobs=1)]: Done   1 out of   1 | elapsed:    0.0s finished\n",
      "[Parallel(n_jobs=1)]: Using backend SequentialBackend with 1 concurrent workers.\n",
      "[Parallel(n_jobs=1)]: Done   1 out of   1 | elapsed:    0.0s finished\n",
      "[Parallel(n_jobs=1)]: Using backend SequentialBackend with 1 concurrent workers.\n"
     ]
    },
    {
     "name": "stdout",
     "output_type": "stream",
     "text": [
      "Newton iter=1\n",
      "  Check Convergence\n",
      "    1. max |gradient| 0.035338907101322876 <= 0.08103102839279737\n",
      "    2. Newton decrement 0.18281865937196526 <= 0.08103102839279737\n",
      "Newton iter=2\n",
      "  Check Convergence\n",
      "    1. max |gradient| 0.007031128052401622 <= 0.08103102839279737\n",
      "    2. Newton decrement 0.022970430822823847 <= 0.08103102839279737\n",
      "  Solver did converge at loss = 0.45868798324291.\n",
      "Results: -0.85818905759991\n",
      "================\n"
     ]
    },
    {
     "name": "stderr",
     "output_type": "stream",
     "text": [
      "[Parallel(n_jobs=1)]: Done   1 out of   1 | elapsed:    0.0s finished\n"
     ]
    },
    {
     "name": "stdout",
     "output_type": "stream",
     "text": [
      "================\n",
      "Configuration:\n",
      "C: 2.6396201473408976\n",
      "Tolerance: 0.08018696807272886\n",
      "Solver: newton-cholesky\n",
      "Oversampling Method: ada\n",
      "----------------\n",
      "Newton iter=1\n",
      "  Check Convergence\n",
      "    1. max |gradient| 0.028246408592556456 <= 0.08018696807272886\n",
      "    2. Newton decrement 0.1721593034323981 <= 0.08018696807272886\n",
      "Newton iter=2\n",
      "  Check Convergence\n",
      "    1. max |gradient| 0.005733849611412765 <= 0.08018696807272886\n",
      "    2. Newton decrement 0.022279006787313767 <= 0.08018696807272886\n",
      "  Solver did converge at loss = 0.47126293828345117.\n",
      "Newton iter=1\n",
      "  Check Convergence\n",
      "    1. max |gradient| 0.034193273920289015 <= 0.08018696807272886\n",
      "    2. Newton decrement 0.18125541979853374 <= 0.08018696807272886\n",
      "Newton iter=2\n",
      "  Check Convergence\n",
      "    1. max |gradient| 0.006596910533711453 <= 0.08018696807272886\n",
      "    2. Newton decrement 0.02185363410979503 <= 0.08018696807272886\n",
      "  Solver did converge at loss = 0.46237170095784325.\n"
     ]
    },
    {
     "name": "stderr",
     "output_type": "stream",
     "text": [
      "[Parallel(n_jobs=1)]: Using backend SequentialBackend with 1 concurrent workers.\n",
      "[Parallel(n_jobs=1)]: Done   1 out of   1 | elapsed:    0.0s finished\n",
      "[Parallel(n_jobs=1)]: Using backend SequentialBackend with 1 concurrent workers.\n",
      "[Parallel(n_jobs=1)]: Done   1 out of   1 | elapsed:    0.0s finished\n",
      "[Parallel(n_jobs=1)]: Using backend SequentialBackend with 1 concurrent workers.\n"
     ]
    },
    {
     "name": "stdout",
     "output_type": "stream",
     "text": [
      "Newton iter=1\n",
      "  Check Convergence\n",
      "    1. max |gradient| 0.03533903752284228 <= 0.08018696807272886\n",
      "    2. Newton decrement 0.18281907416709037 <= 0.08018696807272886\n",
      "Newton iter=2\n",
      "  Check Convergence\n",
      "    1. max |gradient| 0.007031281878678005 <= 0.08018696807272886\n",
      "    2. Newton decrement 0.02297124299792732 <= 0.08018696807272886\n",
      "  Solver did converge at loss = 0.45868612033244527.\n",
      "Results: -0.8581892702631024\n",
      "================\n"
     ]
    },
    {
     "name": "stderr",
     "output_type": "stream",
     "text": [
      "[Parallel(n_jobs=1)]: Done   1 out of   1 | elapsed:    0.0s finished\n"
     ]
    },
    {
     "name": "stdout",
     "output_type": "stream",
     "text": [
      "================\n",
      "Configuration:\n",
      "C: 2.654856776475522\n",
      "Tolerance: 0.08070670460014286\n",
      "Solver: newton-cholesky\n",
      "Oversampling Method: ada\n",
      "----------------\n",
      "Newton iter=1\n",
      "  Check Convergence\n",
      "    1. max |gradient| 0.028247005578983176 <= 0.08070670460014286\n",
      "    2. Newton decrement 0.1721609979326992 <= 0.08070670460014286\n",
      "Newton iter=2\n",
      "  Check Convergence\n",
      "    1. max |gradient| 0.005734382433710483 <= 0.08070670460014286\n",
      "    2. Newton decrement 0.022281502096503366 <= 0.08070670460014286\n",
      "  Solver did converge at loss = 0.47125674503996096.\n",
      "Newton iter=1\n",
      "  Check Convergence\n",
      "    1. max |gradient| 0.034193615943497194 <= 0.08070670460014286\n",
      "    2. Newton decrement 0.18125662377689944 <= 0.08070670460014286\n",
      "Newton iter=2\n",
      "  Check Convergence\n",
      "    1. max |gradient| 0.006597352780274084 <= 0.08070670460014286\n",
      "    2. Newton decrement 0.02185581884503626 <= 0.08070670460014286\n",
      "  Solver did converge at loss = 0.4623666004502354.\n"
     ]
    },
    {
     "name": "stderr",
     "output_type": "stream",
     "text": [
      "[Parallel(n_jobs=1)]: Using backend SequentialBackend with 1 concurrent workers.\n",
      "[Parallel(n_jobs=1)]: Done   1 out of   1 | elapsed:    0.0s finished\n",
      "[Parallel(n_jobs=1)]: Using backend SequentialBackend with 1 concurrent workers.\n",
      "[Parallel(n_jobs=1)]: Done   1 out of   1 | elapsed:    0.0s finished\n",
      "[Parallel(n_jobs=1)]: Using backend SequentialBackend with 1 concurrent workers.\n"
     ]
    },
    {
     "name": "stdout",
     "output_type": "stream",
     "text": [
      "Newton iter=1\n",
      "  Check Convergence\n",
      "    1. max |gradient| 0.0353393625569455 <= 0.08070670460014286\n",
      "    2. Newton decrement 0.18282010729805148 <= 0.08070670460014286\n",
      "Newton iter=2\n",
      "  Check Convergence\n",
      "    1. max |gradient| 0.00703166520227408 <= 0.08070670460014286\n",
      "    2. Newton decrement 0.022973266468565692 <= 0.08070670460014286\n",
      "  Solver did converge at loss = 0.4586814793344724.\n",
      "Results: -0.8581899795164724\n",
      "================\n"
     ]
    },
    {
     "name": "stderr",
     "output_type": "stream",
     "text": [
      "[Parallel(n_jobs=1)]: Done   1 out of   1 | elapsed:    0.0s finished\n"
     ]
    },
    {
     "name": "stdout",
     "output_type": "stream",
     "text": [
      "================\n",
      "Configuration:\n",
      "C: 2.6551683070911003\n",
      "Tolerance: 0.0807132598728656\n",
      "Solver: newton-cholesky\n",
      "Oversampling Method: ada\n",
      "----------------\n",
      "Newton iter=1\n",
      "  Check Convergence\n",
      "    1. max |gradient| 0.028247017739500783 <= 0.0807132598728656\n",
      "    2. Newton decrement 0.17216103242153308 <= 0.0807132598728656\n",
      "Newton iter=2\n",
      "  Check Convergence\n",
      "    1. max |gradient| 0.005734393277884819 <= 0.0807132598728656\n",
      "    2. Newton decrement 0.022281552863709024 <= 0.0807132598728656\n",
      "  Solver did converge at loss = 0.4712566190212288.\n",
      "Newton iter=1\n",
      "  Check Convergence\n",
      "    1. max |gradient| 0.034193622901192176 <= 0.0807132598728656\n",
      "    2. Newton decrement 0.18125664826662832 <= 0.0807132598728656\n",
      "Newton iter=2\n"
     ]
    },
    {
     "name": "stderr",
     "output_type": "stream",
     "text": [
      "[Parallel(n_jobs=1)]: Using backend SequentialBackend with 1 concurrent workers.\n",
      "[Parallel(n_jobs=1)]: Done   1 out of   1 | elapsed:    0.0s finished\n",
      "[Parallel(n_jobs=1)]: Using backend SequentialBackend with 1 concurrent workers.\n",
      "[Parallel(n_jobs=1)]: Done   1 out of   1 | elapsed:    0.0s finished\n"
     ]
    },
    {
     "name": "stdout",
     "output_type": "stream",
     "text": [
      "  Check Convergence\n",
      "    1. max |gradient| 0.006597361774409059 <= 0.0807132598728656\n",
      "    2. Newton decrement 0.021855863281314416 <= 0.0807132598728656\n",
      "  Solver did converge at loss = 0.46236649670508445.\n",
      "Newton iter=1\n",
      "  Check Convergence\n",
      "    1. max |gradient| 0.035339369168611835 <= 0.0807132598728656\n",
      "    2. Newton decrement 0.18282012830430325 <= 0.0807132598728656\n",
      "Newton iter=2\n",
      "  Check Convergence\n",
      "    1. max |gradient| 0.007031672999049361 <= 0.0807132598728656\n",
      "    2. Newton decrement 0.022973307619695713 <= 0.0807132598728656\n",
      "  Solver did converge at loss = 0.45868138495536465.\n",
      "Results: -0.8581899970436133\n",
      "================\n"
     ]
    },
    {
     "name": "stderr",
     "output_type": "stream",
     "text": [
      "[Parallel(n_jobs=1)]: Using backend SequentialBackend with 1 concurrent workers.\n",
      "[Parallel(n_jobs=1)]: Done   1 out of   1 | elapsed:    0.0s finished\n"
     ]
    },
    {
     "name": "stdout",
     "output_type": "stream",
     "text": [
      "================\n",
      "Configuration:\n",
      "C: 2.633206693398721\n",
      "Tolerance: 0.0809979229438907\n",
      "Solver: newton-cholesky\n",
      "Oversampling Method: ada\n",
      "----------------\n",
      "Newton iter=1\n",
      "  Check Convergence\n",
      "    1. max |gradient| 0.028246155991093088 <= 0.0809979229438907\n",
      "    2. Newton decrement 0.17215858563646616 <= 0.0809979229438907\n",
      "Newton iter=2\n",
      "  Check Convergence\n",
      "    1. max |gradient| 0.005733623889067564 <= 0.0809979229438907\n",
      "    2. Newton decrement 0.022277949163708066 <= 0.0809979229438907\n",
      "  Solver did converge at loss = 0.4712655627691648.\n",
      "Newton iter=1\n",
      "  Check Convergence\n",
      "    1. max |gradient| 0.03419312893267544 <= 0.0809979229438907\n",
      "    2. Newton decrement 0.1812549093457582 <= 0.0809979229438907\n",
      "Newton iter=2\n",
      "  Check Convergence\n",
      "    1. max |gradient| 0.006596722991498355 <= 0.0809979229438907\n",
      "    2. Newton decrement 0.021852707766167122 <= 0.0809979229438907\n"
     ]
    },
    {
     "name": "stderr",
     "output_type": "stream",
     "text": [
      "[Parallel(n_jobs=1)]: Using backend SequentialBackend with 1 concurrent workers.\n",
      "[Parallel(n_jobs=1)]: Done   1 out of   1 | elapsed:    0.0s finished\n",
      "[Parallel(n_jobs=1)]: Using backend SequentialBackend with 1 concurrent workers.\n",
      "[Parallel(n_jobs=1)]: Done   1 out of   1 | elapsed:    0.0s finished\n",
      "[Parallel(n_jobs=1)]: Using backend SequentialBackend with 1 concurrent workers.\n"
     ]
    },
    {
     "name": "stdout",
     "output_type": "stream",
     "text": [
      "  Solver did converge at loss = 0.46237386350283083.\n",
      "Newton iter=1\n",
      "  Check Convergence\n",
      "    1. max |gradient| 0.03533889972490226 <= 0.0809979229438907\n",
      "    2. Newton decrement 0.18281863590765893 <= 0.0809979229438907\n",
      "Newton iter=2\n",
      "  Check Convergence\n",
      "    1. max |gradient| 0.007031119351976971 <= 0.0809979229438907\n",
      "    2. Newton decrement 0.02297038488336528 <= 0.0809979229438907\n",
      "  Solver did converge at loss = 0.45868808861766214.\n",
      "Results: -0.8581890552621309\n",
      "================\n"
     ]
    },
    {
     "name": "stderr",
     "output_type": "stream",
     "text": [
      "[Parallel(n_jobs=1)]: Done   1 out of   1 | elapsed:    0.0s finished\n"
     ]
    },
    {
     "name": "stdout",
     "output_type": "stream",
     "text": [
      "================\n",
      "Configuration:\n",
      "C: 2.6313197875218903\n",
      "Tolerance: 0.0807584730845892\n",
      "Solver: newton-cholesky\n",
      "Oversampling Method: none\n",
      "----------------\n",
      "Newton iter=1\n",
      "  Check Convergence\n",
      "    1. max |gradient| 0.028246081523459893 <= 0.0807584730845892\n",
      "    2. Newton decrement 0.17215837393685546 <= 0.0807584730845892\n",
      "Newton iter=2\n",
      "  Check Convergence\n",
      "    1. max |gradient| 0.005733557314755309 <= 0.0807584730845892\n",
      "    2. Newton decrement 0.022277637170471168 <= 0.0807584730845892\n",
      "  Solver did converge at loss = 0.4712663369230114.\n",
      "Newton iter=1\n",
      "  Check Convergence\n",
      "    1. max |gradient| 0.034193086159508904 <= 0.0807584730845892\n",
      "    2. Newton decrement 0.1812547587476284 <= 0.0807584730845892\n",
      "Newton iter=2\n",
      "  Check Convergence\n",
      "    1. max |gradient| 0.006596667656421506 <= 0.0807584730845892\n",
      "    2. Newton decrement 0.02185243445965154 <= 0.0807584730845892\n",
      "  Solver did converge at loss = 0.4623745015235139.\n"
     ]
    },
    {
     "name": "stderr",
     "output_type": "stream",
     "text": [
      "[Parallel(n_jobs=1)]: Using backend SequentialBackend with 1 concurrent workers.\n",
      "[Parallel(n_jobs=1)]: Done   1 out of   1 | elapsed:    0.0s finished\n",
      "[Parallel(n_jobs=1)]: Using backend SequentialBackend with 1 concurrent workers.\n",
      "[Parallel(n_jobs=1)]: Done   1 out of   1 | elapsed:    0.0s finished\n",
      "[Parallel(n_jobs=1)]: Using backend SequentialBackend with 1 concurrent workers.\n"
     ]
    },
    {
     "name": "stdout",
     "output_type": "stream",
     "text": [
      "Newton iter=1\n",
      "  Check Convergence\n",
      "    1. max |gradient| 0.03533885907140395 <= 0.0807584730845892\n",
      "    2. Newton decrement 0.1828185065813263 <= 0.0807584730845892\n",
      "Newton iter=2\n",
      "  Check Convergence\n",
      "    1. max |gradient| 0.007031071401008167 <= 0.0807584730845892\n",
      "    2. Newton decrement 0.02297013169022301 <= 0.0807584730845892\n",
      "  Solver did converge at loss = 0.45868866938950814.\n",
      "Results: -0.8581889699636475\n",
      "================\n"
     ]
    },
    {
     "name": "stderr",
     "output_type": "stream",
     "text": [
      "[Parallel(n_jobs=1)]: Done   1 out of   1 | elapsed:    0.0s finished\n"
     ]
    },
    {
     "name": "stdout",
     "output_type": "stream",
     "text": [
      "================\n",
      "Configuration:\n",
      "C: 2.6331641464157074\n",
      "Tolerance: 0.08099948519728792\n",
      "Solver: newton-cholesky\n",
      "Oversampling Method: ada\n",
      "----------------\n",
      "Newton iter=1\n",
      "  Check Convergence\n",
      "    1. max |gradient| 0.028246154312707616 <= 0.08099948519728792\n",
      "    2. Newton decrement 0.17215858086554106 <= 0.08099948519728792\n",
      "Newton iter=2\n",
      "  Check Convergence\n",
      "    1. max |gradient| 0.005733622388739706 <= 0.08099948519728792\n",
      "    2. Newton decrement 0.022277942132879577 <= 0.08099948519728792\n",
      "  Solver did converge at loss = 0.4712655802151515.\n",
      "Newton iter=1\n",
      "  Check Convergence\n",
      "    1. max |gradient| 0.034193127968786645 <= 0.08099948519728792\n",
      "    2. Newton decrement 0.18125490595208626 <= 0.08099948519728792\n",
      "Newton iter=2\n",
      "  Check Convergence\n",
      "    1. max |gradient| 0.00659672174456771 <= 0.08099948519728792\n",
      "    2. Newton decrement 0.021852701607352996 <= 0.08099948519728792\n",
      "  Solver did converge at loss = 0.46237387788034356.\n",
      "Newton iter=1\n"
     ]
    },
    {
     "name": "stderr",
     "output_type": "stream",
     "text": [
      "[Parallel(n_jobs=1)]: Using backend SequentialBackend with 1 concurrent workers.\n",
      "[Parallel(n_jobs=1)]: Done   1 out of   1 | elapsed:    0.0s finished\n",
      "[Parallel(n_jobs=1)]: Using backend SequentialBackend with 1 concurrent workers.\n",
      "[Parallel(n_jobs=1)]: Done   1 out of   1 | elapsed:    0.0s finished\n",
      "[Parallel(n_jobs=1)]: Using backend SequentialBackend with 1 concurrent workers.\n"
     ]
    },
    {
     "name": "stdout",
     "output_type": "stream",
     "text": [
      "  Check Convergence\n",
      "    1. max |gradient| 0.03533889880878691 <= 0.08099948519728792\n",
      "    2. Newton decrement 0.18281863299347628 <= 0.08099948519728792\n",
      "Newton iter=2\n",
      "  Check Convergence\n",
      "    1. max |gradient| 0.0070311182714250615 <= 0.08099948519728792\n",
      "    2. Newton decrement 0.02297037917787828 <= 0.08099948519728792\n",
      "  Solver did converge at loss = 0.4586881017047773.\n",
      "Results: -0.8581890529251881\n",
      "================\n"
     ]
    },
    {
     "name": "stderr",
     "output_type": "stream",
     "text": [
      "[Parallel(n_jobs=1)]: Done   1 out of   1 | elapsed:    0.0s finished\n"
     ]
    },
    {
     "name": "stdout",
     "output_type": "stream",
     "text": [
      "================\n",
      "Configuration:\n",
      "C: 2.629884776573983\n",
      "Tolerance: 0.07979823659101197\n",
      "Solver: newton-cholesky\n",
      "Oversampling Method: ada\n",
      "----------------\n",
      "Newton iter=1\n",
      "  Check Convergence\n",
      "    1. max |gradient| 0.02824602484438518 <= 0.07979823659101197\n",
      "    2. Newton decrement 0.17215821277943152 <= 0.07979823659101197\n",
      "Newton iter=2\n",
      "  Check Convergence\n",
      "    1. max |gradient| 0.005733506634095476 <= 0.07979823659101197\n",
      "    2. Newton decrement 0.022277399643199327 <= 0.07979823659101197\n",
      "  Solver did converge at loss = 0.4712669262864164.\n",
      "Newton iter=1\n",
      "  Check Convergence\n",
      "    1. max |gradient| 0.03419305359456619 <= 0.07979823659101197\n",
      "    2. Newton decrement 0.1812546440886975 <= 0.07979823659101197\n",
      "Newton iter=2\n",
      "  Check Convergence\n",
      "    1. max |gradient| 0.0065966255252208564 <= 0.07979823659101197\n",
      "    2. Newton decrement 0.021852226373188274 <= 0.07979823659101197\n",
      "  Solver did converge at loss = 0.46237498728747806.\n"
     ]
    },
    {
     "name": "stderr",
     "output_type": "stream",
     "text": [
      "[Parallel(n_jobs=1)]: Using backend SequentialBackend with 1 concurrent workers.\n",
      "[Parallel(n_jobs=1)]: Done   1 out of   1 | elapsed:    0.0s finished\n",
      "[Parallel(n_jobs=1)]: Using backend SequentialBackend with 1 concurrent workers.\n",
      "[Parallel(n_jobs=1)]: Done   1 out of   1 | elapsed:    0.0s finished\n",
      "[Parallel(n_jobs=1)]: Using backend SequentialBackend with 1 concurrent workers.\n",
      "[Parallel(n_jobs=1)]: Done   1 out of   1 | elapsed:    0.0s finished\n"
     ]
    },
    {
     "name": "stdout",
     "output_type": "stream",
     "text": [
      "Newton iter=1\n",
      "  Check Convergence\n",
      "    1. max |gradient| 0.0353388281198316 <= 0.07979823659101197\n",
      "    2. Newton decrement 0.18281840810950098 <= 0.07979823659101197\n",
      "Newton iter=2\n",
      "  Check Convergence\n",
      "    1. max |gradient| 0.0070310348929112886 <= 0.07979823659101197\n",
      "    2. Newton decrement 0.022969938912290246 <= 0.07979823659101197\n",
      "  Solver did converge at loss = 0.45868911158598735.\n",
      "Results: -0.8581889419183123\n",
      "================\n",
      "================\n",
      "Configuration:\n",
      "C: 2.6290700920421144\n",
      "Tolerance: 0.07977708945680333\n",
      "Solver: newton-cholesky\n",
      "Oversampling Method: ada\n",
      "----------------\n",
      "Newton iter=1\n",
      "  Check Convergence\n",
      "    1. max |gradient| 0.028245992648945378 <= 0.07977708945680333\n",
      "    2. Newton decrement 0.1721581212263919 <= 0.07977708945680333\n",
      "Newton iter=2\n",
      "  Check Convergence\n",
      "    1. max |gradient| 0.005733477842328342 <= 0.07977708945680333\n",
      "    2. Newton decrement 0.02227726469667975 <= 0.07977708945680333\n",
      "  Solver did converge at loss = 0.47126726111534717.\n",
      "Newton iter=1\n",
      "  Check Convergence\n",
      "    1. max |gradient| 0.03419303509311753 <= 0.07977708945680333\n",
      "    2. Newton decrement 0.18125457894541125 <= 0.07977708945680333\n",
      "Newton iter=2\n",
      "  Check Convergence\n",
      "    1. max |gradient| 0.006596601587887096 <= 0.07977708945680333\n",
      "    2. Newton decrement 0.02185210814818217 <= 0.07977708945680333\n",
      "  Solver did converge at loss = 0.4623752632744427.\n"
     ]
    },
    {
     "name": "stderr",
     "output_type": "stream",
     "text": [
      "[Parallel(n_jobs=1)]: Using backend SequentialBackend with 1 concurrent workers.\n",
      "[Parallel(n_jobs=1)]: Done   1 out of   1 | elapsed:    0.0s finished\n",
      "[Parallel(n_jobs=1)]: Using backend SequentialBackend with 1 concurrent workers.\n",
      "[Parallel(n_jobs=1)]: Done   1 out of   1 | elapsed:    0.0s finished\n",
      "[Parallel(n_jobs=1)]: Using backend SequentialBackend with 1 concurrent workers.\n"
     ]
    },
    {
     "name": "stdout",
     "output_type": "stream",
     "text": [
      "Newton iter=1\n",
      "  Check Convergence\n",
      "    1. max |gradient| 0.03533881053484238 <= 0.07977708945680333\n",
      "    2. Newton decrement 0.1828183521596908 <= 0.07977708945680333\n",
      "Newton iter=2\n",
      "  Check Convergence\n",
      "    1. max |gradient| 0.007031014150782743 <= 0.07977708945680333\n",
      "    2. Newton decrement 0.022969829382907623 <= 0.07977708945680333\n",
      "  Solver did converge at loss = 0.4586893628275858.\n",
      "Results: -0.8581888788214828\n",
      "================\n"
     ]
    },
    {
     "name": "stderr",
     "output_type": "stream",
     "text": [
      "[Parallel(n_jobs=1)]: Done   1 out of   1 | elapsed:    0.0s finished\n"
     ]
    },
    {
     "name": "stdout",
     "output_type": "stream",
     "text": [
      "================\n",
      "Configuration:\n",
      "C: 2.654628548197034\n",
      "Tolerance: 0.08069950685519438\n",
      "Solver: newton-cholesky\n",
      "Oversampling Method: ada\n",
      "----------------\n",
      "Newton iter=1\n",
      "  Check Convergence\n",
      "    1. max |gradient| 0.028246996668997833 <= 0.08069950685519438\n",
      "    2. Newton decrement 0.17216097266209687 <= 0.08069950685519438\n",
      "Newton iter=2\n",
      "  Check Convergence\n",
      "    1. max |gradient| 0.005734374487971158 <= 0.08069950685519438\n",
      "    2. Newton decrement 0.022281464897912995 <= 0.08069950685519438\n",
      "  Solver did converge at loss = 0.47125683737708207.\n",
      "Newton iter=1\n",
      "  Check Convergence\n",
      "    1. max |gradient| 0.03419361084537404 <= 0.08069950685519438\n",
      "    2. Newton decrement 0.18125660583243644 <= 0.08069950685519438\n",
      "Newton iter=2\n",
      "  Check Convergence\n",
      "    1. max |gradient| 0.006597346189925866 <= 0.08069950685519438\n",
      "    2. Newton decrement 0.02185578628498256 <= 0.08069950685519438\n",
      "  Solver did converge at loss = 0.4623666764679269.\n",
      "Newton iter=1\n"
     ]
    },
    {
     "name": "stderr",
     "output_type": "stream",
     "text": [
      "[Parallel(n_jobs=1)]: Using backend SequentialBackend with 1 concurrent workers.\n",
      "[Parallel(n_jobs=1)]: Done   1 out of   1 | elapsed:    0.0s finished\n",
      "[Parallel(n_jobs=1)]: Using backend SequentialBackend with 1 concurrent workers.\n",
      "[Parallel(n_jobs=1)]: Done   1 out of   1 | elapsed:    0.0s finished\n",
      "[Parallel(n_jobs=1)]: Using backend SequentialBackend with 1 concurrent workers.\n"
     ]
    },
    {
     "name": "stdout",
     "output_type": "stream",
     "text": [
      "  Check Convergence\n",
      "    1. max |gradient| 0.03533935771235766 <= 0.08069950685519438\n",
      "    2. Newton decrement 0.18282009190584006 <= 0.08069950685519438\n",
      "Newton iter=2\n",
      "  Check Convergence\n",
      "    1. max |gradient| 0.007031659489302506 <= 0.08069950685519438\n",
      "    2. Newton decrement 0.022973236315530714 <= 0.08069950685519438\n",
      "  Solver did converge at loss = 0.4586815484898328.\n",
      "Results: -0.8581899561476017\n",
      "================\n"
     ]
    },
    {
     "name": "stderr",
     "output_type": "stream",
     "text": [
      "[Parallel(n_jobs=1)]: Done   1 out of   1 | elapsed:    0.0s finished\n"
     ]
    },
    {
     "name": "stdout",
     "output_type": "stream",
     "text": [
      "================\n",
      "Configuration:\n",
      "C: 2.6328145369539553\n",
      "Tolerance: 0.08097853381634962\n",
      "Solver: newton-cholesky\n",
      "Oversampling Method: ada\n",
      "----------------\n",
      "Newton iter=1\n",
      "  Check Convergence\n",
      "    1. max |gradient| 0.028246140520065945 <= 0.08097853381634962\n",
      "    2. Newton decrement 0.17215854165822253 <= 0.08097853381634962\n",
      "Newton iter=2\n",
      "  Check Convergence\n",
      "    1. max |gradient| 0.005733610059069134 <= 0.08097853381634962\n",
      "    2. Newton decrement 0.022277884353132583 <= 0.08097853381634962\n",
      "  Solver did converge at loss = 0.4712657235867588.\n",
      "Newton iter=1\n",
      "  Check Convergence\n",
      "    1. max |gradient| 0.03419312004747301 <= 0.08097853381634962\n",
      "    2. Newton decrement 0.18125487806255092 <= 0.08097853381634962\n",
      "Newton iter=2\n",
      "  Check Convergence\n",
      "    1. max |gradient| 0.006596711497120961 <= 0.08097853381634962\n",
      "    2. Newton decrement 0.021852650993514737 <= 0.08097853381634962\n",
      "  Solver did converge at loss = 0.4623739960362635.\n"
     ]
    },
    {
     "name": "stderr",
     "output_type": "stream",
     "text": [
      "[Parallel(n_jobs=1)]: Using backend SequentialBackend with 1 concurrent workers.\n",
      "[Parallel(n_jobs=1)]: Done   1 out of   1 | elapsed:    0.0s finished\n",
      "[Parallel(n_jobs=1)]: Using backend SequentialBackend with 1 concurrent workers.\n",
      "[Parallel(n_jobs=1)]: Done   1 out of   1 | elapsed:    0.0s finished\n",
      "[Parallel(n_jobs=1)]: Using backend SequentialBackend with 1 concurrent workers.\n"
     ]
    },
    {
     "name": "stdout",
     "output_type": "stream",
     "text": [
      "Newton iter=1\n",
      "  Check Convergence\n",
      "    1. max |gradient| 0.03533889128006661 <= 0.08097853381634962\n",
      "    2. Newton decrement 0.18281860904418834 <= 0.08097853381634962\n",
      "Newton iter=2\n",
      "  Check Convergence\n",
      "    1. max |gradient| 0.007031109391331177 <= 0.08097853381634962\n",
      "    2. Newton decrement 0.022970332289396864 <= 0.08097853381634962\n",
      "  Solver did converge at loss = 0.45868820925662807.\n",
      "Results: -0.858189040071654\n",
      "================\n"
     ]
    },
    {
     "name": "stderr",
     "output_type": "stream",
     "text": [
      "[Parallel(n_jobs=1)]: Done   1 out of   1 | elapsed:    0.0s finished\n"
     ]
    },
    {
     "name": "stdout",
     "output_type": "stream",
     "text": [
      "================\n",
      "Configuration:\n",
      "C: 2.6329224520875516\n",
      "Tolerance: 0.08096986119823621\n",
      "Solver: newton-cholesky\n",
      "Oversampling Method: ada\n",
      "----------------\n",
      "Newton iter=1\n",
      "  Check Convergence\n",
      "    1. max |gradient| 0.028246144777736796 <= 0.08096986119823621\n",
      "    2. Newton decrement 0.1721585537613394 <= 0.08096986119823621\n",
      "Newton iter=2\n",
      "  Check Convergence\n",
      "    1. max |gradient| 0.005733613865184723 <= 0.08096986119823621\n",
      "    2. Newton decrement 0.02227790218958588 <= 0.08096986119823621\n",
      "  Solver did converge at loss = 0.4712656793284194.\n",
      "Newton iter=1\n",
      "  Check Convergence\n",
      "    1. max |gradient| 0.034193122492765564 <= 0.08096986119823621\n",
      "    2. Newton decrement 0.1812548866720046 <= 0.08096986119823621\n",
      "Newton iter=2\n",
      "  Check Convergence\n",
      "    1. max |gradient| 0.006596714660498689 <= 0.08096986119823621\n",
      "    2. Newton decrement 0.021852666617938003 <= 0.08096986119823621\n",
      "  Solver did converge at loss = 0.46237395956171173.\n"
     ]
    },
    {
     "name": "stderr",
     "output_type": "stream",
     "text": [
      "[Parallel(n_jobs=1)]: Using backend SequentialBackend with 1 concurrent workers.\n",
      "[Parallel(n_jobs=1)]: Done   1 out of   1 | elapsed:    0.0s finished\n",
      "[Parallel(n_jobs=1)]: Using backend SequentialBackend with 1 concurrent workers.\n",
      "[Parallel(n_jobs=1)]: Done   1 out of   1 | elapsed:    0.0s finished\n",
      "[Parallel(n_jobs=1)]: Using backend SequentialBackend with 1 concurrent workers.\n"
     ]
    },
    {
     "name": "stdout",
     "output_type": "stream",
     "text": [
      "Newton iter=1\n",
      "  Check Convergence\n",
      "    1. max |gradient| 0.03533889360416879 <= 0.08096986119823621\n",
      "    2. Newton decrement 0.18281861643733974 <= 0.08096986119823621\n",
      "Newton iter=2\n",
      "  Check Convergence\n",
      "    1. max |gradient| 0.007031112132603052 <= 0.08096986119823621\n",
      "    2. Newton decrement 0.02297034676383474 <= 0.08096986119823621\n",
      "  Solver did converge at loss = 0.4586881760554295.\n",
      "Results: -0.8581890470823431\n",
      "================\n"
     ]
    },
    {
     "name": "stderr",
     "output_type": "stream",
     "text": [
      "[Parallel(n_jobs=1)]: Done   1 out of   1 | elapsed:    0.0s finished\n"
     ]
    },
    {
     "name": "stdout",
     "output_type": "stream",
     "text": [
      "================\n",
      "Configuration:\n",
      "C: 2.6452739544005515\n",
      "Tolerance: 0.08033984651830886\n",
      "Solver: sag\n",
      "Oversampling Method: ada\n",
      "----------------\n"
     ]
    },
    {
     "name": "stderr",
     "output_type": "stream",
     "text": [
      "[Parallel(n_jobs=1)]: Using backend SequentialBackend with 1 concurrent workers.\n"
     ]
    },
    {
     "name": "stdout",
     "output_type": "stream",
     "text": [
      "convergence after 5 epochs took 0 seconds\n"
     ]
    },
    {
     "name": "stderr",
     "output_type": "stream",
     "text": [
      "[Parallel(n_jobs=1)]: Done   1 out of   1 | elapsed:    0.2s finished\n",
      "[Parallel(n_jobs=1)]: Using backend SequentialBackend with 1 concurrent workers.\n"
     ]
    },
    {
     "name": "stdout",
     "output_type": "stream",
     "text": [
      "convergence after 5 epochs took 0 seconds\n"
     ]
    },
    {
     "name": "stderr",
     "output_type": "stream",
     "text": [
      "[Parallel(n_jobs=1)]: Done   1 out of   1 | elapsed:    0.2s finished\n",
      "[Parallel(n_jobs=1)]: Using backend SequentialBackend with 1 concurrent workers.\n"
     ]
    },
    {
     "name": "stdout",
     "output_type": "stream",
     "text": [
      "convergence after 5 epochs took 0 seconds\n",
      "Results: -0.8585399324798689\n",
      "================\n"
     ]
    },
    {
     "name": "stderr",
     "output_type": "stream",
     "text": [
      "[Parallel(n_jobs=1)]: Done   1 out of   1 | elapsed:    0.1s finished\n"
     ]
    },
    {
     "name": "stdout",
     "output_type": "stream",
     "text": [
      "================\n",
      "Configuration:\n",
      "C: 0.32447234657047125\n",
      "Tolerance: 0.02724395440421207\n",
      "Solver: newton-cholesky\n",
      "Oversampling Method: ada\n",
      "----------------\n",
      "Newton iter=1\n",
      "  Check Convergence\n",
      "    1. max |gradient| 0.027813546360263598 <= 0.02724395440421207\n",
      "Newton iter=2\n",
      "  Check Convergence\n",
      "    1. max |gradient| 0.0052697676017582065 <= 0.02724395440421207\n",
      "    2. Newton decrement 0.02009872776338407 <= 0.02724395440421207\n",
      "  Solver did converge at loss = 0.4766433300750829.\n",
      "Newton iter=1\n"
     ]
    },
    {
     "name": "stderr",
     "output_type": "stream",
     "text": [
      "[Parallel(n_jobs=1)]: Using backend SequentialBackend with 1 concurrent workers.\n",
      "[Parallel(n_jobs=1)]: Done   1 out of   1 | elapsed:    0.0s finished\n",
      "[Parallel(n_jobs=1)]: Using backend SequentialBackend with 1 concurrent workers.\n",
      "[Parallel(n_jobs=1)]: Done   1 out of   1 | elapsed:    0.0s finished\n"
     ]
    },
    {
     "name": "stdout",
     "output_type": "stream",
     "text": [
      "  Check Convergence\n",
      "    1. max |gradient| 0.03385659101327431 <= 0.02724395440421207\n",
      "Newton iter=2\n",
      "  Check Convergence\n",
      "    1. max |gradient| 0.006172862063033138 <= 0.02724395440421207\n",
      "    2. Newton decrement 0.0198645069377341 <= 0.02724395440421207\n",
      "  Solver did converge at loss = 0.4671042845776792.\n",
      "Newton iter=1\n",
      "  Check Convergence\n",
      "    1. max |gradient| 0.03501087554971515 <= 0.02724395440421207\n",
      "Newton iter=2\n",
      "  Check Convergence\n",
      "    1. max |gradient| 0.006654845514721642 <= 0.02724395440421207\n",
      "    2. Newton decrement 0.021032088232314575 <= 0.02724395440421207\n",
      "  Solver did converge at loss = 0.4632710921947318.\n",
      "Results: -0.857472797090648\n",
      "================\n"
     ]
    },
    {
     "name": "stderr",
     "output_type": "stream",
     "text": [
      "[Parallel(n_jobs=1)]: Using backend SequentialBackend with 1 concurrent workers.\n",
      "[Parallel(n_jobs=1)]: Done   1 out of   1 | elapsed:    0.0s finished\n"
     ]
    },
    {
     "name": "stdout",
     "output_type": "stream",
     "text": [
      "================\n",
      "Configuration:\n",
      "C: 1.3963172559888948\n",
      "Tolerance: 0.0999025843869517\n",
      "Solver: lbfgs\n",
      "Oversampling Method: ada\n",
      "----------------\n"
     ]
    },
    {
     "name": "stderr",
     "output_type": "stream",
     "text": [
      "[Parallel(n_jobs=1)]: Using backend SequentialBackend with 1 concurrent workers.\n",
      "[Parallel(n_jobs=1)]: Done   1 out of   1 | elapsed:    0.0s finished\n",
      "[Parallel(n_jobs=1)]: Using backend SequentialBackend with 1 concurrent workers.\n",
      "[Parallel(n_jobs=1)]: Done   1 out of   1 | elapsed:    0.0s finished\n",
      "[Parallel(n_jobs=1)]: Using backend SequentialBackend with 1 concurrent workers.\n",
      "[Parallel(n_jobs=1)]: Done   1 out of   1 | elapsed:    0.0s finished\n"
     ]
    },
    {
     "name": "stdout",
     "output_type": "stream",
     "text": [
      "Results: -0.7431510282937754\n",
      "================\n",
      "================\n",
      "Configuration:\n",
      "C: 1.0070801174343682\n",
      "Tolerance: 0.08423670258982784\n",
      "Solver: newton-cholesky\n",
      "Oversampling Method: ada\n",
      "----------------\n",
      "Newton iter=1\n",
      "  Check Convergence\n",
      "    1. max |gradient| 0.028121497674390466 <= 0.08423670258982784\n",
      "    2. Newton decrement 0.17176263264402084 <= 0.08423670258982784\n",
      "Newton iter=2\n",
      "  Check Convergence\n",
      "    1. max |gradient| 0.005606356199487773 <= 0.08423670258982784\n",
      "    2. Newton decrement 0.021668689584839924 <= 0.08423670258982784\n",
      "  Solver did converge at loss = 0.4727554588528299.\n",
      "Newton iter=1\n",
      "  Check Convergence\n",
      "    1. max |gradient| 0.03410675338047754 <= 0.08423670258982784\n",
      "    2. Newton decrement 0.18094773720229165 <= 0.08423670258982784\n",
      "Newton iter=2\n",
      "  Check Convergence\n",
      "    1. max |gradient| 0.006482596420235231 <= 0.08423670258982784\n",
      "    2. Newton decrement 0.021300894110378266 <= 0.08423670258982784\n",
      "  Solver did converge at loss = 0.4636604028575616.\n",
      "Newton iter=1\n"
     ]
    },
    {
     "name": "stderr",
     "output_type": "stream",
     "text": [
      "[Parallel(n_jobs=1)]: Using backend SequentialBackend with 1 concurrent workers.\n",
      "[Parallel(n_jobs=1)]: Done   1 out of   1 | elapsed:    0.0s finished\n",
      "[Parallel(n_jobs=1)]: Using backend SequentialBackend with 1 concurrent workers.\n",
      "[Parallel(n_jobs=1)]: Done   1 out of   1 | elapsed:    0.0s finished\n",
      "[Parallel(n_jobs=1)]: Using backend SequentialBackend with 1 concurrent workers.\n"
     ]
    },
    {
     "name": "stdout",
     "output_type": "stream",
     "text": [
      "  Check Convergence\n",
      "    1. max |gradient| 0.03525617365863304 <= 0.08423670258982784\n",
      "    2. Newton decrement 0.18254061337962688 <= 0.08423670258982784\n",
      "Newton iter=2\n",
      "  Check Convergence\n",
      "    1. max |gradient| 0.0069328798757850914 <= 0.08423670258982784\n",
      "    2. Newton decrement 0.022448927705483013 <= 0.08423670258982784\n",
      "  Solver did converge at loss = 0.4598943940820518.\n",
      "Results: -0.8580412509682246\n",
      "================\n"
     ]
    },
    {
     "name": "stderr",
     "output_type": "stream",
     "text": [
      "[Parallel(n_jobs=1)]: Done   1 out of   1 | elapsed:    0.0s finished\n"
     ]
    },
    {
     "name": "stdout",
     "output_type": "stream",
     "text": [
      "================\n",
      "Configuration:\n",
      "C: 0.7527083781186502\n",
      "Tolerance: 0.010360555661403781\n",
      "Solver: newton-cg\n",
      "Oversampling Method: ada\n",
      "----------------\n"
     ]
    },
    {
     "name": "stderr",
     "output_type": "stream",
     "text": [
      "[Parallel(n_jobs=1)]: Using backend SequentialBackend with 1 concurrent workers.\n",
      "[Parallel(n_jobs=1)]: Done   1 out of   1 | elapsed:    0.0s finished\n",
      "[Parallel(n_jobs=1)]: Using backend SequentialBackend with 1 concurrent workers.\n",
      "[Parallel(n_jobs=1)]: Done   1 out of   1 | elapsed:    0.0s finished\n",
      "[Parallel(n_jobs=1)]: Using backend SequentialBackend with 1 concurrent workers.\n",
      "[Parallel(n_jobs=1)]: Done   1 out of   1 | elapsed:    0.0s finished\n"
     ]
    },
    {
     "name": "stdout",
     "output_type": "stream",
     "text": [
      "Results: -0.8267529014066364\n",
      "================\n",
      "================\n",
      "Configuration:\n",
      "C: 1.7058093266465868\n",
      "Tolerance: 0.1\n",
      "Solver: saga\n",
      "Oversampling Method: ada\n",
      "----------------\n",
      "convergence after 3 epochs took 0 seconds\n"
     ]
    },
    {
     "name": "stderr",
     "output_type": "stream",
     "text": [
      "[Parallel(n_jobs=1)]: Using backend SequentialBackend with 1 concurrent workers.\n",
      "[Parallel(n_jobs=1)]: Done   1 out of   1 | elapsed:    0.0s finished\n",
      "[Parallel(n_jobs=1)]: Using backend SequentialBackend with 1 concurrent workers.\n"
     ]
    },
    {
     "name": "stdout",
     "output_type": "stream",
     "text": [
      "convergence after 3 epochs took 1 seconds\n",
      "convergence after 3 epochs took 0 seconds\n",
      "Results: -0.8560019064594458\n",
      "================\n"
     ]
    },
    {
     "name": "stderr",
     "output_type": "stream",
     "text": [
      "[Parallel(n_jobs=1)]: Done   1 out of   1 | elapsed:    0.0s finished\n",
      "[Parallel(n_jobs=1)]: Using backend SequentialBackend with 1 concurrent workers.\n",
      "[Parallel(n_jobs=1)]: Done   1 out of   1 | elapsed:    0.0s finished\n"
     ]
    },
    {
     "name": "stdout",
     "output_type": "stream",
     "text": [
      "================\n",
      "Configuration:\n",
      "C: 1.1136875318585109\n",
      "Tolerance: 0.06948670451871176\n",
      "Solver: sag\n",
      "Oversampling Method: ada\n",
      "----------------\n"
     ]
    },
    {
     "name": "stderr",
     "output_type": "stream",
     "text": [
      "[Parallel(n_jobs=1)]: Using backend SequentialBackend with 1 concurrent workers.\n",
      "[Parallel(n_jobs=1)]: Done   1 out of   1 | elapsed:    0.1s finished\n",
      "[Parallel(n_jobs=1)]: Using backend SequentialBackend with 1 concurrent workers.\n"
     ]
    },
    {
     "name": "stdout",
     "output_type": "stream",
     "text": [
      "convergence after 5 epochs took 0 seconds\n",
      "convergence after 6 epochs took 1 seconds\n",
      "convergence after 5 epochs took 0 seconds\n"
     ]
    },
    {
     "name": "stderr",
     "output_type": "stream",
     "text": [
      "[Parallel(n_jobs=1)]: Done   1 out of   1 | elapsed:    0.1s finished\n",
      "[Parallel(n_jobs=1)]: Using backend SequentialBackend with 1 concurrent workers.\n",
      "[Parallel(n_jobs=1)]: Done   1 out of   1 | elapsed:    0.1s finished\n"
     ]
    },
    {
     "name": "stdout",
     "output_type": "stream",
     "text": [
      "Results: -0.8590546201783202\n",
      "================\n",
      "================\n",
      "Configuration:\n",
      "C: 0.7044737098180879\n",
      "Tolerance: 0.008950751858284985\n",
      "Solver: sag\n",
      "Oversampling Method: ada\n",
      "----------------\n"
     ]
    },
    {
     "name": "stderr",
     "output_type": "stream",
     "text": [
      "[Parallel(n_jobs=1)]: Using backend SequentialBackend with 1 concurrent workers.\n"
     ]
    },
    {
     "name": "stdout",
     "output_type": "stream",
     "text": [
      "convergence after 19 epochs took 1 seconds\n"
     ]
    },
    {
     "name": "stderr",
     "output_type": "stream",
     "text": [
      "[Parallel(n_jobs=1)]: Done   1 out of   1 | elapsed:    0.7s finished\n",
      "[Parallel(n_jobs=1)]: Using backend SequentialBackend with 1 concurrent workers.\n"
     ]
    },
    {
     "name": "stdout",
     "output_type": "stream",
     "text": [
      "convergence after 21 epochs took 0 seconds\n"
     ]
    },
    {
     "name": "stderr",
     "output_type": "stream",
     "text": [
      "[Parallel(n_jobs=1)]: Done   1 out of   1 | elapsed:    0.6s finished\n",
      "[Parallel(n_jobs=1)]: Using backend SequentialBackend with 1 concurrent workers.\n"
     ]
    },
    {
     "name": "stdout",
     "output_type": "stream",
     "text": [
      "convergence after 23 epochs took 1 seconds\n",
      "Results: -0.8593488604699303\n",
      "================\n"
     ]
    },
    {
     "name": "stderr",
     "output_type": "stream",
     "text": [
      "[Parallel(n_jobs=1)]: Done   1 out of   1 | elapsed:    0.7s finished\n"
     ]
    },
    {
     "name": "stdout",
     "output_type": "stream",
     "text": [
      "================\n",
      "Configuration:\n",
      "C: 1.0774495460084292\n",
      "Tolerance: 0.0880413262069415\n",
      "Solver: sag\n",
      "Oversampling Method: ada\n",
      "----------------\n"
     ]
    },
    {
     "name": "stderr",
     "output_type": "stream",
     "text": [
      "[Parallel(n_jobs=1)]: Using backend SequentialBackend with 1 concurrent workers.\n"
     ]
    },
    {
     "name": "stdout",
     "output_type": "stream",
     "text": [
      "convergence after 5 epochs took 0 seconds\n"
     ]
    },
    {
     "name": "stderr",
     "output_type": "stream",
     "text": [
      "[Parallel(n_jobs=1)]: Done   1 out of   1 | elapsed:    0.1s finished\n",
      "[Parallel(n_jobs=1)]: Using backend SequentialBackend with 1 concurrent workers.\n"
     ]
    },
    {
     "name": "stdout",
     "output_type": "stream",
     "text": [
      "convergence after 5 epochs took 0 seconds\n"
     ]
    },
    {
     "name": "stderr",
     "output_type": "stream",
     "text": [
      "[Parallel(n_jobs=1)]: Done   1 out of   1 | elapsed:    0.1s finished\n",
      "[Parallel(n_jobs=1)]: Using backend SequentialBackend with 1 concurrent workers.\n"
     ]
    },
    {
     "name": "stdout",
     "output_type": "stream",
     "text": [
      "convergence after 5 epochs took 0 seconds\n",
      "Results: -0.8581733235308956\n",
      "================\n"
     ]
    },
    {
     "name": "stderr",
     "output_type": "stream",
     "text": [
      "[Parallel(n_jobs=1)]: Done   1 out of   1 | elapsed:    0.1s finished\n"
     ]
    },
    {
     "name": "stdout",
     "output_type": "stream",
     "text": [
      "================\n",
      "Configuration:\n",
      "C: 2.4671484240120374\n",
      "Tolerance: 0.03603954246411845\n",
      "Solver: sag\n",
      "Oversampling Method: none\n",
      "----------------\n"
     ]
    },
    {
     "name": "stderr",
     "output_type": "stream",
     "text": [
      "[Parallel(n_jobs=1)]: Using backend SequentialBackend with 1 concurrent workers.\n"
     ]
    },
    {
     "name": "stdout",
     "output_type": "stream",
     "text": [
      "convergence after 7 epochs took 0 seconds\n"
     ]
    },
    {
     "name": "stderr",
     "output_type": "stream",
     "text": [
      "[Parallel(n_jobs=1)]: Done   1 out of   1 | elapsed:    0.2s finished\n",
      "[Parallel(n_jobs=1)]: Using backend SequentialBackend with 1 concurrent workers.\n"
     ]
    },
    {
     "name": "stdout",
     "output_type": "stream",
     "text": [
      "convergence after 8 epochs took 0 seconds\n"
     ]
    },
    {
     "name": "stderr",
     "output_type": "stream",
     "text": [
      "[Parallel(n_jobs=1)]: Done   1 out of   1 | elapsed:    0.2s finished\n",
      "[Parallel(n_jobs=1)]: Using backend SequentialBackend with 1 concurrent workers.\n"
     ]
    },
    {
     "name": "stdout",
     "output_type": "stream",
     "text": [
      "convergence after 8 epochs took 1 seconds\n",
      "Results: -0.8592120573925693\n",
      "================\n"
     ]
    },
    {
     "name": "stderr",
     "output_type": "stream",
     "text": [
      "[Parallel(n_jobs=1)]: Done   1 out of   1 | elapsed:    0.2s finished\n"
     ]
    },
    {
     "name": "stdout",
     "output_type": "stream",
     "text": [
      "================\n",
      "Configuration:\n",
      "C: 3.0\n",
      "Tolerance: 0.08644578326714758\n",
      "Solver: sag\n",
      "Oversampling Method: none\n",
      "----------------\n"
     ]
    },
    {
     "name": "stderr",
     "output_type": "stream",
     "text": [
      "[Parallel(n_jobs=1)]: Using backend SequentialBackend with 1 concurrent workers.\n"
     ]
    },
    {
     "name": "stdout",
     "output_type": "stream",
     "text": [
      "convergence after 5 epochs took 0 seconds\n"
     ]
    },
    {
     "name": "stderr",
     "output_type": "stream",
     "text": [
      "[Parallel(n_jobs=1)]: Done   1 out of   1 | elapsed:    0.1s finished\n",
      "[Parallel(n_jobs=1)]: Using backend SequentialBackend with 1 concurrent workers.\n"
     ]
    },
    {
     "name": "stdout",
     "output_type": "stream",
     "text": [
      "convergence after 5 epochs took 1 seconds\n"
     ]
    },
    {
     "name": "stderr",
     "output_type": "stream",
     "text": [
      "[Parallel(n_jobs=1)]: Done   1 out of   1 | elapsed:    0.1s finished\n",
      "[Parallel(n_jobs=1)]: Using backend SequentialBackend with 1 concurrent workers.\n"
     ]
    },
    {
     "name": "stdout",
     "output_type": "stream",
     "text": [
      "convergence after 5 epochs took 0 seconds\n",
      "Results: -0.8589501308437383\n",
      "================\n"
     ]
    },
    {
     "name": "stderr",
     "output_type": "stream",
     "text": [
      "[Parallel(n_jobs=1)]: Done   1 out of   1 | elapsed:    0.1s finished\n"
     ]
    },
    {
     "name": "stdout",
     "output_type": "stream",
     "text": [
      "================\n",
      "Configuration:\n",
      "C: 2.069975961855043\n",
      "Tolerance: 0.060791070681720565\n",
      "Solver: newton-cg\n",
      "Oversampling Method: ada\n",
      "----------------\n"
     ]
    },
    {
     "name": "stderr",
     "output_type": "stream",
     "text": [
      "[Parallel(n_jobs=1)]: Using backend SequentialBackend with 1 concurrent workers.\n",
      "[Parallel(n_jobs=1)]: Done   1 out of   1 | elapsed:    0.0s finished\n",
      "[Parallel(n_jobs=1)]: Using backend SequentialBackend with 1 concurrent workers.\n",
      "[Parallel(n_jobs=1)]: Done   1 out of   1 | elapsed:    0.0s finished\n",
      "[Parallel(n_jobs=1)]: Using backend SequentialBackend with 1 concurrent workers.\n",
      "[Parallel(n_jobs=1)]: Done   1 out of   1 | elapsed:    0.0s finished\n"
     ]
    },
    {
     "name": "stdout",
     "output_type": "stream",
     "text": [
      "Results: -0.7742784176503683\n",
      "================\n",
      "================\n",
      "Configuration:\n",
      "C: 1.1569014688306625\n",
      "Tolerance: 0.0001\n",
      "Solver: sag\n",
      "Oversampling Method: ada\n",
      "----------------\n"
     ]
    },
    {
     "name": "stderr",
     "output_type": "stream",
     "text": [
      "[Parallel(n_jobs=1)]: Using backend SequentialBackend with 1 concurrent workers.\n"
     ]
    },
    {
     "name": "stdout",
     "output_type": "stream",
     "text": [
      "convergence after 142 epochs took 6 seconds\n"
     ]
    },
    {
     "name": "stderr",
     "output_type": "stream",
     "text": [
      "[Parallel(n_jobs=1)]: Done   1 out of   1 | elapsed:    5.7s finished\n",
      "[Parallel(n_jobs=1)]: Using backend SequentialBackend with 1 concurrent workers.\n"
     ]
    },
    {
     "name": "stdout",
     "output_type": "stream",
     "text": [
      "convergence after 175 epochs took 7 seconds\n"
     ]
    },
    {
     "name": "stderr",
     "output_type": "stream",
     "text": [
      "[Parallel(n_jobs=1)]: Done   1 out of   1 | elapsed:    6.6s finished\n",
      "[Parallel(n_jobs=1)]: Using backend SequentialBackend with 1 concurrent workers.\n"
     ]
    },
    {
     "name": "stdout",
     "output_type": "stream",
     "text": [
      "convergence after 177 epochs took 6 seconds\n",
      "Results: -0.8595610718920641\n",
      "================\n"
     ]
    },
    {
     "name": "stderr",
     "output_type": "stream",
     "text": [
      "[Parallel(n_jobs=1)]: Done   1 out of   1 | elapsed:    6.7s finished\n"
     ]
    },
    {
     "name": "stdout",
     "output_type": "stream",
     "text": [
      "================\n",
      "Configuration:\n",
      "C: 1.1375311994283752\n",
      "Tolerance: 0.0001\n",
      "Solver: sag\n",
      "Oversampling Method: none\n",
      "----------------\n"
     ]
    },
    {
     "name": "stderr",
     "output_type": "stream",
     "text": [
      "[Parallel(n_jobs=1)]: Using backend SequentialBackend with 1 concurrent workers.\n"
     ]
    },
    {
     "name": "stdout",
     "output_type": "stream",
     "text": [
      "convergence after 141 epochs took 5 seconds\n"
     ]
    },
    {
     "name": "stderr",
     "output_type": "stream",
     "text": [
      "[Parallel(n_jobs=1)]: Done   1 out of   1 | elapsed:    5.1s finished\n",
      "[Parallel(n_jobs=1)]: Using backend SequentialBackend with 1 concurrent workers.\n"
     ]
    },
    {
     "name": "stdout",
     "output_type": "stream",
     "text": [
      "convergence after 173 epochs took 6 seconds\n"
     ]
    },
    {
     "name": "stderr",
     "output_type": "stream",
     "text": [
      "[Parallel(n_jobs=1)]: Done   1 out of   1 | elapsed:    6.2s finished\n",
      "[Parallel(n_jobs=1)]: Using backend SequentialBackend with 1 concurrent workers.\n"
     ]
    },
    {
     "name": "stdout",
     "output_type": "stream",
     "text": [
      "convergence after 175 epochs took 7 seconds\n",
      "Results: -0.8595557612839699\n",
      "================\n"
     ]
    },
    {
     "name": "stderr",
     "output_type": "stream",
     "text": [
      "[Parallel(n_jobs=1)]: Done   1 out of   1 | elapsed:    6.4s finished\n"
     ]
    },
    {
     "name": "stdout",
     "output_type": "stream",
     "text": [
      "================\n",
      "Configuration:\n",
      "C: 1.146851282340993\n",
      "Tolerance: 0.0001\n",
      "Solver: sag\n",
      "Oversampling Method: ada\n",
      "----------------\n"
     ]
    },
    {
     "name": "stderr",
     "output_type": "stream",
     "text": [
      "[Parallel(n_jobs=1)]: Using backend SequentialBackend with 1 concurrent workers.\n"
     ]
    },
    {
     "name": "stdout",
     "output_type": "stream",
     "text": [
      "convergence after 141 epochs took 6 seconds\n"
     ]
    },
    {
     "name": "stderr",
     "output_type": "stream",
     "text": [
      "[Parallel(n_jobs=1)]: Done   1 out of   1 | elapsed:    5.1s finished\n",
      "[Parallel(n_jobs=1)]: Using backend SequentialBackend with 1 concurrent workers.\n"
     ]
    },
    {
     "name": "stdout",
     "output_type": "stream",
     "text": [
      "convergence after 174 epochs took 6 seconds\n"
     ]
    },
    {
     "name": "stderr",
     "output_type": "stream",
     "text": [
      "[Parallel(n_jobs=1)]: Done   1 out of   1 | elapsed:    6.5s finished\n",
      "[Parallel(n_jobs=1)]: Using backend SequentialBackend with 1 concurrent workers.\n"
     ]
    },
    {
     "name": "stdout",
     "output_type": "stream",
     "text": [
      "convergence after 176 epochs took 7 seconds\n",
      "Results: -0.8595583201882189\n",
      "================\n"
     ]
    },
    {
     "name": "stderr",
     "output_type": "stream",
     "text": [
      "[Parallel(n_jobs=1)]: Done   1 out of   1 | elapsed:    6.2s finished\n"
     ]
    },
    {
     "name": "stdout",
     "output_type": "stream",
     "text": [
      "================\n",
      "Configuration:\n",
      "C: 1.9697235443356211\n",
      "Tolerance: 0.08583127981870022\n",
      "Solver: newton-cholesky\n",
      "Oversampling Method: none\n",
      "----------------\n",
      "Newton iter=1\n",
      "  Check Convergence\n",
      "    1. max |gradient| 0.028214515389444344 <= 0.08583127981870022\n",
      "    2. Newton decrement 0.17206514593538896 <= 0.08583127981870022\n",
      "Newton iter=2\n",
      "  Check Convergence\n",
      "    1. max |gradient| 0.00570408442100339 <= 0.08583127981870022\n",
      "    2. Newton decrement 0.02213763194682778 <= 0.08583127981870022\n",
      "  Solver did converge at loss = 0.4716116030820306.\n",
      "Newton iter=1\n",
      "  Check Convergence\n",
      "    1. max |gradient| 0.034173764249053634 <= 0.08583127981870022\n",
      "    2. Newton decrement 0.1811864500681774 <= 0.08583127981870022\n",
      "Newton iter=2\n"
     ]
    },
    {
     "name": "stderr",
     "output_type": "stream",
     "text": [
      "[Parallel(n_jobs=1)]: Using backend SequentialBackend with 1 concurrent workers.\n",
      "[Parallel(n_jobs=1)]: Done   1 out of   1 | elapsed:    0.0s finished\n",
      "[Parallel(n_jobs=1)]: Using backend SequentialBackend with 1 concurrent workers.\n",
      "[Parallel(n_jobs=1)]: Done   1 out of   1 | elapsed:    0.0s finished\n"
     ]
    },
    {
     "name": "stdout",
     "output_type": "stream",
     "text": [
      "  Check Convergence\n",
      "    1. max |gradient| 0.006571388086981549 <= 0.08583127981870022\n",
      "    2. Newton decrement 0.021728259214217352 <= 0.08583127981870022\n",
      "  Solver did converge at loss = 0.462663945546565.\n",
      "Newton iter=1\n",
      "  Check Convergence\n",
      "    1. max |gradient| 0.03532044625768357 <= 0.08583127981870022\n",
      "    2. Newton decrement 0.18275875974391648 <= 0.08583127981870022\n",
      "Newton iter=2\n",
      "  Check Convergence\n",
      "    1. max |gradient| 0.007009273010567556 <= 0.08583127981870022\n",
      "    2. Newton decrement 0.022854412671755288 <= 0.08583127981870022\n",
      "  Solver did converge at loss = 0.45895470651214704.\n",
      "Results: -0.8581574376852843\n",
      "================\n"
     ]
    },
    {
     "name": "stderr",
     "output_type": "stream",
     "text": [
      "[Parallel(n_jobs=1)]: Using backend SequentialBackend with 1 concurrent workers.\n",
      "[Parallel(n_jobs=1)]: Done   1 out of   1 | elapsed:    0.0s finished\n"
     ]
    },
    {
     "name": "stdout",
     "output_type": "stream",
     "text": [
      "================\n",
      "Configuration:\n",
      "C: 1.9706138893509153\n",
      "Tolerance: 0.0858367500340502\n",
      "Solver: newton-cholesky\n",
      "Oversampling Method: none\n",
      "----------------\n",
      "Newton iter=1\n",
      "  Check Convergence\n",
      "    1. max |gradient| 0.028214567403034047 <= 0.0858367500340502\n",
      "    2. Newton decrement 0.17206530482860116 <= 0.0858367500340502\n",
      "Newton iter=2\n",
      "  Check Convergence\n",
      "    1. max |gradient| 0.005704134979339995 <= 0.0858367500340502\n",
      "    2. Newton decrement 0.022137874272435083 <= 0.0858367500340502\n",
      "  Solver did converge at loss = 0.47161100848812243.\n",
      "Newton iter=1\n",
      "  Check Convergence\n",
      "    1. max |gradient| 0.03417379792775575 <= 0.0858367500340502\n",
      "    2. Newton decrement 0.1811865694870995 <= 0.0858367500340502\n",
      "Newton iter=2\n"
     ]
    },
    {
     "name": "stderr",
     "output_type": "stream",
     "text": [
      "[Parallel(n_jobs=1)]: Using backend SequentialBackend with 1 concurrent workers.\n",
      "[Parallel(n_jobs=1)]: Done   1 out of   1 | elapsed:    0.0s finished\n",
      "[Parallel(n_jobs=1)]: Using backend SequentialBackend with 1 concurrent workers.\n",
      "[Parallel(n_jobs=1)]: Done   1 out of   1 | elapsed:    0.0s finished\n"
     ]
    },
    {
     "name": "stdout",
     "output_type": "stream",
     "text": [
      "  Check Convergence\n",
      "    1. max |gradient| 0.00657143252025882 <= 0.0858367500340502\n",
      "    2. Newton decrement 0.02172847632747491 <= 0.0858367500340502\n",
      "  Solver did converge at loss = 0.46266344000147874.\n",
      "Newton iter=1\n",
      "  Check Convergence\n",
      "    1. max |gradient| 0.03532047841652912 <= 0.0858367500340502\n",
      "    2. Newton decrement 0.1827588657964465 <= 0.0858367500340502\n",
      "Newton iter=2\n",
      "  Check Convergence\n",
      "    1. max |gradient| 0.007009311198746016 <= 0.0858367500340502\n",
      "    2. Newton decrement 0.02285461604222563 <= 0.0858367500340502\n",
      "  Solver did converge at loss = 0.45895423802250546.\n",
      "Results: -0.8581575148027252\n",
      "================\n"
     ]
    },
    {
     "name": "stderr",
     "output_type": "stream",
     "text": [
      "[Parallel(n_jobs=1)]: Using backend SequentialBackend with 1 concurrent workers.\n",
      "[Parallel(n_jobs=1)]: Done   1 out of   1 | elapsed:    0.0s finished\n"
     ]
    },
    {
     "name": "stdout",
     "output_type": "stream",
     "text": [
      "================\n",
      "Configuration:\n",
      "C: 1.9707131021538558\n",
      "Tolerance: 0.08584153051814337\n",
      "Solver: newton-cholesky\n",
      "Oversampling Method: none\n",
      "----------------\n",
      "Newton iter=1\n",
      "  Check Convergence\n",
      "    1. max |gradient| 0.02821457319692405 <= 0.08584153051814337\n",
      "    2. Newton decrement 0.17206532252703088 <= 0.08584153051814337\n",
      "Newton iter=2\n",
      "  Check Convergence\n",
      "    1. max |gradient| 0.005704140610740448 <= 0.08584153051814337\n",
      "    2. Newton decrement 0.02213790126340787 <= 0.08584153051814337\n",
      "  Solver did converge at loss = 0.47161094225990946.\n",
      "Newton iter=1\n",
      "  Check Convergence\n",
      "    1. max |gradient| 0.03417380167893933 <= 0.08584153051814337\n",
      "    2. Newton decrement 0.18118658278809954 <= 0.08584153051814337\n",
      "Newton iter=2\n"
     ]
    },
    {
     "name": "stderr",
     "output_type": "stream",
     "text": [
      "[Parallel(n_jobs=1)]: Using backend SequentialBackend with 1 concurrent workers.\n",
      "[Parallel(n_jobs=1)]: Done   1 out of   1 | elapsed:    0.0s finished\n",
      "[Parallel(n_jobs=1)]: Using backend SequentialBackend with 1 concurrent workers.\n",
      "[Parallel(n_jobs=1)]: Done   1 out of   1 | elapsed:    0.0s finished\n",
      "[Parallel(n_jobs=1)]: Using backend SequentialBackend with 1 concurrent workers.\n"
     ]
    },
    {
     "name": "stdout",
     "output_type": "stream",
     "text": [
      "  Check Convergence\n",
      "    1. max |gradient| 0.006571437469246493 <= 0.08584153051814337\n",
      "    2. Newton decrement 0.021728500509832077 <= 0.08584153051814337\n",
      "  Solver did converge at loss = 0.46266338369314414.\n",
      "Newton iter=1\n",
      "  Check Convergence\n",
      "    1. max |gradient| 0.035320481998417766 <= 0.08584153051814337\n",
      "    2. Newton decrement 0.1827588776083911 <= 0.08584153051814337\n",
      "Newton iter=2\n",
      "  Check Convergence\n",
      "    1. max |gradient| 0.007009315452169258 <= 0.08584153051814337\n",
      "    2. Newton decrement 0.022854638693690282 <= 0.08584153051814337\n",
      "  Solver did converge at loss = 0.45895418584217595.\n",
      "Results: -0.8581575089607864\n",
      "================\n"
     ]
    },
    {
     "name": "stderr",
     "output_type": "stream",
     "text": [
      "[Parallel(n_jobs=1)]: Done   1 out of   1 | elapsed:    0.0s finished\n"
     ]
    },
    {
     "name": "stdout",
     "output_type": "stream",
     "text": [
      "================\n",
      "Configuration:\n",
      "C: 1.9706198044504846\n",
      "Tolerance: 0.08584101109027105\n",
      "Solver: newton-cholesky\n",
      "Oversampling Method: none\n",
      "----------------\n",
      "Newton iter=1\n",
      "  Check Convergence\n",
      "    1. max |gradient| 0.028214567748479226 <= 0.08584101109027105\n",
      "    2. Newton decrement 0.17206530588382876 <= 0.08584101109027105\n",
      "Newton iter=2\n",
      "  Check Convergence\n",
      "    1. max |gradient| 0.0057041353150993285 <= 0.08584101109027105\n",
      "    2. Newton decrement 0.0221378758817118 <= 0.08584101109027105\n",
      "  Solver did converge at loss = 0.47161100453941524.\n",
      "Newton iter=1\n",
      "  Check Convergence\n",
      "    1. max |gradient| 0.03417379815141203 <= 0.08584101109027105\n",
      "    2. Newton decrement 0.18118657028014334 <= 0.08584101109027105\n",
      "Newton iter=2\n",
      "  Check Convergence\n",
      "    1. max |gradient| 0.00657143281533228 <= 0.08584101109027105\n",
      "    2. Newton decrement 0.0217284777692974 <= 0.08584101109027105\n",
      "  Solver did converge at loss = 0.4626634366442137.\n"
     ]
    },
    {
     "name": "stderr",
     "output_type": "stream",
     "text": [
      "[Parallel(n_jobs=1)]: Using backend SequentialBackend with 1 concurrent workers.\n",
      "[Parallel(n_jobs=1)]: Done   1 out of   1 | elapsed:    0.0s finished\n",
      "[Parallel(n_jobs=1)]: Using backend SequentialBackend with 1 concurrent workers.\n",
      "[Parallel(n_jobs=1)]: Done   1 out of   1 | elapsed:    0.0s finished\n",
      "[Parallel(n_jobs=1)]: Using backend SequentialBackend with 1 concurrent workers.\n"
     ]
    },
    {
     "name": "stdout",
     "output_type": "stream",
     "text": [
      "Newton iter=1\n",
      "  Check Convergence\n",
      "    1. max |gradient| 0.035320478630091634 <= 0.08584101109027105\n",
      "    2. Newton decrement 0.18275886650071047 <= 0.08584101109027105\n",
      "Newton iter=2\n",
      "  Check Convergence\n",
      "    1. max |gradient| 0.007009311452347445 <= 0.08584101109027105\n",
      "    2. Newton decrement 0.022854617392772697 <= 0.08584101109027105\n",
      "  Solver did converge at loss = 0.45895423491136017.\n",
      "Results: -0.8581575136343235\n",
      "================\n"
     ]
    },
    {
     "name": "stderr",
     "output_type": "stream",
     "text": [
      "[Parallel(n_jobs=1)]: Done   1 out of   1 | elapsed:    0.0s finished\n"
     ]
    },
    {
     "name": "stdout",
     "output_type": "stream",
     "text": [
      "================\n",
      "Configuration:\n",
      "C: 1.9582040955265363\n",
      "Tolerance: 0.08572396278119776\n",
      "Solver: newton-cholesky\n",
      "Oversampling Method: none\n",
      "----------------\n",
      "Newton iter=1\n",
      "  Check Convergence\n",
      "    1. max |gradient| 0.028213839379811652 <= 0.08572396278119776\n",
      "    2. Newton decrement 0.17206307939723656 <= 0.08572396278119776\n",
      "Newton iter=2\n",
      "  Check Convergence\n",
      "    1. max |gradient| 0.005703426758675921 <= 0.08572396278119776\n",
      "    2. Newton decrement 0.022134479378693526 <= 0.08572396278119776\n",
      "  Solver did converge at loss = 0.4716193377851083.\n",
      "Newton iter=1\n",
      "  Check Convergence\n",
      "    1. max |gradient| 0.03417332602174753 <= 0.08572396278119776\n",
      "    2. Newton decrement 0.18118489610683985 <= 0.08572396278119776\n",
      "Newton iter=2\n",
      "  Check Convergence\n",
      "    1. max |gradient| 0.006570809837927084 <= 0.08572396278119776\n",
      "    2. Newton decrement 0.02172543408026592 <= 0.08572396278119776\n",
      "  Solver did converge at loss = 0.4626705237320054.\n"
     ]
    },
    {
     "name": "stderr",
     "output_type": "stream",
     "text": [
      "[Parallel(n_jobs=1)]: Using backend SequentialBackend with 1 concurrent workers.\n",
      "[Parallel(n_jobs=1)]: Done   1 out of   1 | elapsed:    0.0s finished\n",
      "[Parallel(n_jobs=1)]: Using backend SequentialBackend with 1 concurrent workers.\n",
      "[Parallel(n_jobs=1)]: Done   1 out of   1 | elapsed:    0.0s finished\n",
      "[Parallel(n_jobs=1)]: Using backend SequentialBackend with 1 concurrent workers.\n"
     ]
    },
    {
     "name": "stdout",
     "output_type": "stream",
     "text": [
      "Newton iter=1\n",
      "  Check Convergence\n",
      "    1. max |gradient| 0.03532002779046966 <= 0.08572396278119776\n",
      "    2. Newton decrement 0.18275737928481134 <= 0.08572396278119776\n",
      "Newton iter=2\n",
      "  Check Convergence\n",
      "    1. max |gradient| 0.007008776058335833 <= 0.08572396278119776\n",
      "    2. Newton decrement 0.022851766066099437 <= 0.08572396278119776\n",
      "  Solver did converge at loss = 0.45896080358100144.\n",
      "Results: -0.8581567728235132\n",
      "================\n"
     ]
    },
    {
     "name": "stderr",
     "output_type": "stream",
     "text": [
      "[Parallel(n_jobs=1)]: Done   1 out of   1 | elapsed:    0.0s finished\n"
     ]
    },
    {
     "name": "stdout",
     "output_type": "stream",
     "text": [
      "================\n",
      "Configuration:\n",
      "C: 1.9525490549864764\n",
      "Tolerance: 0.08571632816099647\n",
      "Solver: newton-cholesky\n",
      "Oversampling Method: none\n",
      "----------------\n",
      "Newton iter=1\n",
      "  Check Convergence\n",
      "    1. max |gradient| 0.028213505429533933 <= 0.08571632816099647\n",
      "    2. Newton decrement 0.17206205754162054 <= 0.08571632816099647\n",
      "Newton iter=2\n",
      "  Check Convergence\n",
      "    1. max |gradient| 0.0057031014848875124 <= 0.08571632816099647\n",
      "    2. Newton decrement 0.02213291987846037 <= 0.08571632816099647\n",
      "  Solver did converge at loss = 0.47162316344915056.\n",
      "Newton iter=1\n",
      "  Check Convergence\n",
      "    1. max |gradient| 0.03417310918637005 <= 0.08571632816099647\n",
      "    2. Newton decrement 0.1811841271490258 <= 0.08571632816099647\n",
      "Newton iter=2\n",
      "  Check Convergence\n",
      "    1. max |gradient| 0.0065705236631976765 <= 0.08571632816099647\n",
      "    2. Newton decrement 0.021724036165421397 <= 0.08571632816099647\n",
      "  Solver did converge at loss = 0.46267377864212184.\n",
      "Newton iter=1\n"
     ]
    },
    {
     "name": "stderr",
     "output_type": "stream",
     "text": [
      "[Parallel(n_jobs=1)]: Using backend SequentialBackend with 1 concurrent workers.\n",
      "[Parallel(n_jobs=1)]: Done   1 out of   1 | elapsed:    0.0s finished\n",
      "[Parallel(n_jobs=1)]: Using backend SequentialBackend with 1 concurrent workers.\n",
      "[Parallel(n_jobs=1)]: Done   1 out of   1 | elapsed:    0.0s finished\n",
      "[Parallel(n_jobs=1)]: Using backend SequentialBackend with 1 concurrent workers.\n"
     ]
    },
    {
     "name": "stdout",
     "output_type": "stream",
     "text": [
      "  Check Convergence\n",
      "    1. max |gradient| 0.035319820721291376 <= 0.08571632816099647\n",
      "    2. Newton decrement 0.18275669588830232 <= 0.08571632816099647\n",
      "Newton iter=2\n",
      "  Check Convergence\n",
      "    1. max |gradient| 0.0070085301333902335 <= 0.08571632816099647\n",
      "    2. Newton decrement 0.022850456286558653 <= 0.08571632816099647\n",
      "  Solver did converge at loss = 0.4589638211516182.\n",
      "Results: -0.858156352179099\n",
      "================\n"
     ]
    },
    {
     "name": "stderr",
     "output_type": "stream",
     "text": [
      "[Parallel(n_jobs=1)]: Done   1 out of   1 | elapsed:    0.0s finished\n"
     ]
    },
    {
     "name": "stdout",
     "output_type": "stream",
     "text": [
      "================\n",
      "Configuration:\n",
      "C: 1.944272507027638\n",
      "Tolerance: 0.08567879482571135\n",
      "Solver: newton-cholesky\n",
      "Oversampling Method: none\n",
      "----------------\n",
      "Newton iter=1\n",
      "  Check Convergence\n",
      "    1. max |gradient| 0.028213014159886498 <= 0.08567879482571135\n",
      "    2. Newton decrement 0.17206055313042676 <= 0.08567879482571135\n",
      "Newton iter=2\n",
      "  Check Convergence\n",
      "    1. max |gradient| 0.005702622515466022 <= 0.08567879482571135\n",
      "    2. Newton decrement 0.02213062318116159 <= 0.08567879482571135\n",
      "  Solver did converge at loss = 0.4716287969507634.\n",
      "Newton iter=1\n",
      "  Check Convergence\n",
      "    1. max |gradient| 0.034172789783722665 <= 0.08567879482571135\n",
      "    2. Newton decrement 0.18118299439290023 <= 0.08567879482571135\n",
      "Newton iter=2\n"
     ]
    },
    {
     "name": "stderr",
     "output_type": "stream",
     "text": [
      "[Parallel(n_jobs=1)]: Using backend SequentialBackend with 1 concurrent workers.\n",
      "[Parallel(n_jobs=1)]: Done   1 out of   1 | elapsed:    0.0s finished\n",
      "[Parallel(n_jobs=1)]: Using backend SequentialBackend with 1 concurrent workers.\n",
      "[Parallel(n_jobs=1)]: Done   1 out of   1 | elapsed:    0.0s finished\n"
     ]
    },
    {
     "name": "stdout",
     "output_type": "stream",
     "text": [
      "  Check Convergence\n",
      "    1. max |gradient| 0.006570102055534606 <= 0.08567879482571135\n",
      "    2. Newton decrement 0.0217219769729902 <= 0.08567879482571135\n",
      "  Solver did converge at loss = 0.46267857319674066.\n",
      "Newton iter=1\n",
      "  Check Convergence\n",
      "    1. max |gradient| 0.03531951569114857 <= 0.08567879482571135\n",
      "    2. Newton decrement 0.18275568882119483 <= 0.08567879482571135\n",
      "Newton iter=2\n",
      "  Check Convergence\n",
      "    1. max |gradient| 0.007008167842682798 <= 0.08567879482571135\n",
      "    2. Newton decrement 0.02284852667787183 <= 0.08567879482571135\n",
      "  Solver did converge at loss = 0.4589682669609616.\n",
      "Results: -0.8581559023180901\n",
      "================\n"
     ]
    },
    {
     "name": "stderr",
     "output_type": "stream",
     "text": [
      "[Parallel(n_jobs=1)]: Using backend SequentialBackend with 1 concurrent workers.\n",
      "[Parallel(n_jobs=1)]: Done   1 out of   1 | elapsed:    0.0s finished\n"
     ]
    },
    {
     "name": "stdout",
     "output_type": "stream",
     "text": [
      "================\n",
      "Configuration:\n",
      "C: 1.5655551094693294\n",
      "Tolerance: 0.0001\n",
      "Solver: lbfgs\n",
      "Oversampling Method: ada\n",
      "----------------\n"
     ]
    },
    {
     "name": "stderr",
     "output_type": "stream",
     "text": [
      "[Parallel(n_jobs=1)]: Using backend SequentialBackend with 1 concurrent workers.\n",
      "[Parallel(n_jobs=1)]: Done   1 out of   1 | elapsed:    0.2s finished\n",
      "[Parallel(n_jobs=1)]: Using backend SequentialBackend with 1 concurrent workers.\n",
      "[Parallel(n_jobs=1)]: Done   1 out of   1 | elapsed:    0.3s finished\n",
      "[Parallel(n_jobs=1)]: Using backend SequentialBackend with 1 concurrent workers.\n",
      "[Parallel(n_jobs=1)]: Done   1 out of   1 | elapsed:    0.3s finished\n"
     ]
    },
    {
     "name": "stdout",
     "output_type": "stream",
     "text": [
      "Results: -0.8596732224021725\n",
      "================\n",
      "================\n",
      "Configuration:\n",
      "C: 1.146880239449714\n",
      "Tolerance: 0.0001\n",
      "Solver: sag\n",
      "Oversampling Method: ada\n",
      "----------------\n"
     ]
    },
    {
     "name": "stderr",
     "output_type": "stream",
     "text": [
      "[Parallel(n_jobs=1)]: Using backend SequentialBackend with 1 concurrent workers.\n"
     ]
    },
    {
     "name": "stdout",
     "output_type": "stream",
     "text": [
      "convergence after 142 epochs took 6 seconds\n"
     ]
    },
    {
     "name": "stderr",
     "output_type": "stream",
     "text": [
      "[Parallel(n_jobs=1)]: Done   1 out of   1 | elapsed:    5.4s finished\n",
      "[Parallel(n_jobs=1)]: Using backend SequentialBackend with 1 concurrent workers.\n"
     ]
    },
    {
     "name": "stdout",
     "output_type": "stream",
     "text": [
      "convergence after 174 epochs took 6 seconds\n"
     ]
    },
    {
     "name": "stderr",
     "output_type": "stream",
     "text": [
      "[Parallel(n_jobs=1)]: Done   1 out of   1 | elapsed:    6.0s finished\n",
      "[Parallel(n_jobs=1)]: Using backend SequentialBackend with 1 concurrent workers.\n"
     ]
    },
    {
     "name": "stdout",
     "output_type": "stream",
     "text": [
      "convergence after 176 epochs took 6 seconds\n",
      "Results: -0.8595582968203238\n",
      "================\n"
     ]
    },
    {
     "name": "stderr",
     "output_type": "stream",
     "text": [
      "[Parallel(n_jobs=1)]: Done   1 out of   1 | elapsed:    6.3s finished\n"
     ]
    },
    {
     "name": "stdout",
     "output_type": "stream",
     "text": [
      "================\n",
      "Configuration:\n",
      "C: 1.133800182968195\n",
      "Tolerance: 0.0001\n",
      "Solver: newton-cholesky\n",
      "Oversampling Method: ada\n",
      "----------------\n",
      "Newton iter=1\n",
      "  Check Convergence\n",
      "    1. max |gradient| 0.028140847363396258 <= 0.0001\n",
      "Newton iter=2\n",
      "  Check Convergence\n",
      "    1. max |gradient| 0.005627539551743091 <= 0.0001\n",
      "Newton iter=3\n",
      "  Check Convergence\n",
      "    1. max |gradient| 0.0013872147019590572 <= 0.0001\n",
      "Newton iter=4\n",
      "  Check Convergence\n",
      "    1. max |gradient| 0.00030452590202085736 <= 0.0001\n",
      "Newton iter=5\n",
      "  Check Convergence\n",
      "    1. max |gradient| 2.3811394807729735e-05 <= 0.0001\n",
      "    2. Newton decrement 4.19796810756861e-05 <= 0.0001\n",
      "  Solver did converge at loss = 0.46685967748340307.\n",
      "Newton iter=1\n",
      "  Check Convergence\n",
      "    1. max |gradient| 0.03412153911609366 <= 0.0001\n",
      "Newton iter=2\n"
     ]
    },
    {
     "name": "stderr",
     "output_type": "stream",
     "text": [
      "[Parallel(n_jobs=1)]: Using backend SequentialBackend with 1 concurrent workers.\n",
      "[Parallel(n_jobs=1)]: Done   1 out of   1 | elapsed:    0.0s finished\n",
      "[Parallel(n_jobs=1)]: Using backend SequentialBackend with 1 concurrent workers.\n"
     ]
    },
    {
     "name": "stdout",
     "output_type": "stream",
     "text": [
      "  Check Convergence\n",
      "    1. max |gradient| 0.0065021216014626605 <= 0.0001\n",
      "Newton iter=3\n",
      "  Check Convergence\n",
      "    1. max |gradient| 0.0009242407210265027 <= 0.0001\n",
      "Newton iter=4\n",
      "  Check Convergence\n",
      "    1. max |gradient| 0.00013916256136964691 <= 0.0001\n",
      "Newton iter=5\n",
      "  Check Convergence\n",
      "    1. max |gradient| 8.30291767366792e-06 <= 0.0001\n",
      "    2. Newton decrement 1.3461524056476927e-05 <= 0.0001\n",
      "  Solver did converge at loss = 0.4591448736374052.\n",
      "Newton iter=1\n",
      "  Check Convergence\n",
      "    1. max |gradient| 0.035270402584274614 <= 0.0001\n",
      "Newton iter=2\n",
      "  Check Convergence\n",
      "    1. max |gradient| 0.006949745895482558 <= 0.0001\n",
      "Newton iter=3\n",
      "  Check Convergence\n",
      "    1. max |gradient| 0.0010316322585202599 <= 0.0001\n",
      "Newton iter=4\n",
      "  Check Convergence\n",
      "    1. max |gradient| 0.0001932142568746865 <= 0.0001\n",
      "Newton iter=5\n",
      "  Check Convergence\n",
      "    1. max |gradient| 1.2376301399594225e-05 <= 0.0001\n",
      "    2. Newton decrement 1.9746480160782188e-05 <= 0.0001\n",
      "  Solver did converge at loss = 0.4548350496873304.\n",
      "Results: -0.8595527256594124\n",
      "================\n"
     ]
    },
    {
     "name": "stderr",
     "output_type": "stream",
     "text": [
      "[Parallel(n_jobs=1)]: Done   1 out of   1 | elapsed:    0.0s finished\n",
      "[Parallel(n_jobs=1)]: Using backend SequentialBackend with 1 concurrent workers.\n",
      "[Parallel(n_jobs=1)]: Done   1 out of   1 | elapsed:    0.0s finished\n"
     ]
    },
    {
     "name": "stdout",
     "output_type": "stream",
     "text": [
      "================\n",
      "Configuration:\n",
      "C: 1.943021765921933\n",
      "Tolerance: 0.08568738967559142\n",
      "Solver: newton-cholesky\n",
      "Oversampling Method: none\n",
      "----------------\n",
      "Newton iter=1\n",
      "  Check Convergence\n",
      "    1. max |gradient| 0.028212939658574868 <= 0.08568738967559142\n",
      "    2. Newton decrement 0.17206032486399644 <= 0.08568738967559142\n",
      "Newton iter=2\n",
      "  Check Convergence\n",
      "    1. max |gradient| 0.0057025498313901715 <= 0.08568738967559142\n",
      "    2. Newton decrement 0.022130274622846995 <= 0.08568738967559142\n",
      "  Solver did converge at loss = 0.4716296518566132.\n",
      "Newton iter=1\n",
      "  Check Convergence\n",
      "    1. max |gradient| 0.03417274130266682 <= 0.08568738967559142\n",
      "    2. Newton decrement 0.18118282244876896 <= 0.08568738967559142\n",
      "Newton iter=2\n",
      "  Check Convergence\n",
      "    1. max |gradient| 0.006570038054238526 <= 0.08568738967559142\n",
      "    2. Newton decrement 0.02172166441153906 <= 0.08568738967559142\n",
      "  Solver did converge at loss = 0.46267930094652376.\n"
     ]
    },
    {
     "name": "stderr",
     "output_type": "stream",
     "text": [
      "[Parallel(n_jobs=1)]: Using backend SequentialBackend with 1 concurrent workers.\n",
      "[Parallel(n_jobs=1)]: Done   1 out of   1 | elapsed:    0.0s finished\n",
      "[Parallel(n_jobs=1)]: Using backend SequentialBackend with 1 concurrent workers.\n",
      "[Parallel(n_jobs=1)]: Done   1 out of   1 | elapsed:    0.0s finished\n",
      "[Parallel(n_jobs=1)]: Using backend SequentialBackend with 1 concurrent workers.\n",
      "[Parallel(n_jobs=1)]: Done   1 out of   1 | elapsed:    0.0s finished\n"
     ]
    },
    {
     "name": "stdout",
     "output_type": "stream",
     "text": [
      "Newton iter=1\n",
      "  Check Convergence\n",
      "    1. max |gradient| 0.03531946939026954 <= 0.08568738967559142\n",
      "    2. Newton decrement 0.18275553591927365 <= 0.08568738967559142\n",
      "Newton iter=2\n",
      "  Check Convergence\n",
      "    1. max |gradient| 0.007008112847806911 <= 0.08568738967559142\n",
      "    2. Newton decrement 0.02284823376043095 <= 0.08568738967559142\n",
      "  Solver did converge at loss = 0.45896894186515513.\n",
      "Results: -0.8581558403886866\n",
      "================\n",
      "================\n",
      "Configuration:\n",
      "C: 1.9415428703154958\n",
      "Tolerance: 0.08568562683888753\n",
      "Solver: newton-cholesky\n",
      "Oversampling Method: none\n",
      "----------------\n",
      "Newton iter=1\n",
      "  Check Convergence\n",
      "    1. max |gradient| 0.02821285147808989 <= 0.08568562683888753\n",
      "    2. Newton decrement 0.17206005464429433 <= 0.08568562683888753\n",
      "Newton iter=2\n",
      "  Check Convergence\n",
      "    1. max |gradient| 0.0057024637854607655 <= 0.08568562683888753\n",
      "    2. Newton decrement 0.022129861976567133 <= 0.08568562683888753\n",
      "  Solver did converge at loss = 0.4716306639292214.\n",
      "Newton iter=1\n",
      "  Check Convergence\n",
      "    1. max |gradient| 0.0341726839052447 <= 0.08568562683888753\n",
      "    2. Newton decrement 0.18118261887929588 <= 0.08568562683888753\n",
      "Newton iter=2\n",
      "  Check Convergence\n",
      "    1. max |gradient| 0.0065699622798532885 <= 0.08568562683888753\n",
      "    2. Newton decrement 0.021721294364400366 <= 0.08568562683888753\n",
      "  Solver did converge at loss = 0.4626801625399965.\n"
     ]
    },
    {
     "name": "stderr",
     "output_type": "stream",
     "text": [
      "[Parallel(n_jobs=1)]: Using backend SequentialBackend with 1 concurrent workers.\n",
      "[Parallel(n_jobs=1)]: Done   1 out of   1 | elapsed:    0.0s finished\n",
      "[Parallel(n_jobs=1)]: Using backend SequentialBackend with 1 concurrent workers.\n",
      "[Parallel(n_jobs=1)]: Done   1 out of   1 | elapsed:    0.0s finished\n",
      "[Parallel(n_jobs=1)]: Using backend SequentialBackend with 1 concurrent workers.\n"
     ]
    },
    {
     "name": "stdout",
     "output_type": "stream",
     "text": [
      "Newton iter=1\n",
      "  Check Convergence\n",
      "    1. max |gradient| 0.035319414573522376 <= 0.08568562683888753\n",
      "    2. Newton decrement 0.18275535488202496 <= 0.08568562683888753\n",
      "Newton iter=2\n",
      "  Check Convergence\n",
      "    1. max |gradient| 0.007008047737229036 <= 0.08568562683888753\n",
      "    2. Newton decrement 0.022847886961585955 <= 0.08568562683888753\n",
      "  Solver did converge at loss = 0.45896974092431997.\n",
      "Results: -0.8581557141945401\n",
      "================\n"
     ]
    },
    {
     "name": "stderr",
     "output_type": "stream",
     "text": [
      "[Parallel(n_jobs=1)]: Done   1 out of   1 | elapsed:    0.0s finished\n"
     ]
    },
    {
     "name": "stdout",
     "output_type": "stream",
     "text": [
      "================\n",
      "Configuration:\n",
      "C: 1.9407638667208857\n",
      "Tolerance: 0.08568852055428795\n",
      "Solver: newton-cholesky\n",
      "Oversampling Method: none\n",
      "----------------\n",
      "Newton iter=1\n",
      "  Check Convergence\n",
      "    1. max |gradient| 0.028212804990461065 <= 0.08568852055428795\n",
      "    2. Newton decrement 0.17205991216989205 <= 0.08568852055428795\n",
      "Newton iter=2\n",
      "  Check Convergence\n",
      "    1. max |gradient| 0.005702418416013034 <= 0.08568852055428795\n",
      "    2. Newton decrement 0.022129644395791726 <= 0.08568852055428795\n",
      "  Solver did converge at loss = 0.47163119756719324.\n",
      "Newton iter=1\n",
      "  Check Convergence\n",
      "    1. max |gradient| 0.0341726536396136 <= 0.08568852055428795\n",
      "    2. Newton decrement 0.18118251153620243 <= 0.08568852055428795\n",
      "Newton iter=2\n"
     ]
    },
    {
     "name": "stderr",
     "output_type": "stream",
     "text": [
      "[Parallel(n_jobs=1)]: Using backend SequentialBackend with 1 concurrent workers.\n",
      "[Parallel(n_jobs=1)]: Done   1 out of   1 | elapsed:    0.0s finished\n",
      "[Parallel(n_jobs=1)]: Using backend SequentialBackend with 1 concurrent workers.\n",
      "[Parallel(n_jobs=1)]: Done   1 out of   1 | elapsed:    0.0s finished\n",
      "[Parallel(n_jobs=1)]: Using backend SequentialBackend with 1 concurrent workers.\n"
     ]
    },
    {
     "name": "stdout",
     "output_type": "stream",
     "text": [
      "  Check Convergence\n",
      "    1. max |gradient| 0.006569922323046045 <= 0.08568852055428795\n",
      "    2. Newton decrement 0.021721099238256568 <= 0.08568852055428795\n",
      "  Solver did converge at loss = 0.46268061685776674.\n",
      "Newton iter=1\n",
      "  Check Convergence\n",
      "    1. max |gradient| 0.0353193856684761 <= 0.08568852055428795\n",
      "    2. Newton decrement 0.18275525941487294 <= 0.08568852055428795\n",
      "Newton iter=2\n",
      "  Check Convergence\n",
      "    1. max |gradient| 0.007008013403866493 <= 0.08568852055428795\n",
      "    2. Newton decrement 0.022847704090531405 <= 0.08568852055428795\n",
      "  Solver did converge at loss = 0.4589701622810212.\n",
      "Results: -0.8581556592770804\n",
      "================\n"
     ]
    },
    {
     "name": "stderr",
     "output_type": "stream",
     "text": [
      "[Parallel(n_jobs=1)]: Done   1 out of   1 | elapsed:    0.0s finished\n"
     ]
    },
    {
     "name": "stdout",
     "output_type": "stream",
     "text": [
      "================\n",
      "Configuration:\n",
      "C: 1.9402991204177344\n",
      "Tolerance: 0.08568754027600554\n",
      "Solver: newton-cholesky\n",
      "Oversampling Method: none\n",
      "----------------\n",
      "Newton iter=1\n",
      "  Check Convergence\n",
      "    1. max |gradient| 0.028212777243594347 <= 0.08568754027600554\n",
      "    2. Newton decrement 0.17205982712589765 <= 0.08568754027600554\n",
      "Newton iter=2\n",
      "  Check Convergence\n",
      "    1. max |gradient| 0.005702391334205722 <= 0.08568754027600554\n",
      "    2. Newton decrement 0.02212951451651762 <= 0.08568754027600554\n",
      "  Solver did converge at loss = 0.47163151610567977.\n",
      "Newton iter=1\n",
      "  Check Convergence\n",
      "    1. max |gradient| 0.0341726355729811 <= 0.08568754027600554\n",
      "    2. Newton decrement 0.1811824474589551 <= 0.08568754027600554\n",
      "Newton iter=2\n",
      "  Check Convergence\n",
      "    1. max |gradient| 0.006569898471072297 <= 0.08568754027600554\n",
      "    2. Newton decrement 0.02172098276035893 <= 0.08568754027600554\n",
      "  Solver did converge at loss = 0.4626808880562027.\n"
     ]
    },
    {
     "name": "stderr",
     "output_type": "stream",
     "text": [
      "[Parallel(n_jobs=1)]: Using backend SequentialBackend with 1 concurrent workers.\n",
      "[Parallel(n_jobs=1)]: Done   1 out of   1 | elapsed:    0.0s finished\n",
      "[Parallel(n_jobs=1)]: Using backend SequentialBackend with 1 concurrent workers.\n",
      "[Parallel(n_jobs=1)]: Done   1 out of   1 | elapsed:    0.0s finished\n",
      "[Parallel(n_jobs=1)]: Using backend SequentialBackend with 1 concurrent workers.\n",
      "[Parallel(n_jobs=1)]: Done   1 out of   1 | elapsed:    0.0s finished\n"
     ]
    },
    {
     "name": "stdout",
     "output_type": "stream",
     "text": [
      "Newton iter=1\n",
      "  Check Convergence\n",
      "    1. max |gradient| 0.035319368413957976 <= 0.08568754027600554\n",
      "    2. Newton decrement 0.18275520242505894 <= 0.08568754027600554\n",
      "Newton iter=2\n",
      "  Check Convergence\n",
      "    1. max |gradient| 0.007007992908867142 <= 0.08568754027600554\n",
      "    2. Newton decrement 0.02284759492690966 <= 0.08568754027600554\n",
      "  Solver did converge at loss = 0.4589704138081757.\n",
      "Results: -0.8581556510968046\n",
      "================\n",
      "================\n",
      "Configuration:\n",
      "C: 1.9401586948559064\n",
      "Tolerance: 0.08568761748797794\n",
      "Solver: newton-cholesky\n",
      "Oversampling Method: none\n",
      "----------------\n",
      "Newton iter=1\n",
      "  Check Convergence\n",
      "    1. max |gradient| 0.028212768857851244 <= 0.08568761748797794\n",
      "    2. Newton decrement 0.1720598014227697 <= 0.08568761748797794\n",
      "Newton iter=2\n",
      "  Check Convergence\n",
      "    1. max |gradient| 0.005702383149114381 <= 0.08568761748797794\n",
      "    2. Newton decrement 0.022129475262125387 <= 0.08568761748797794\n",
      "  Solver did converge at loss = 0.47163161237952417.\n",
      "Newton iter=1\n",
      "  Check Convergence\n",
      "    1. max |gradient| 0.03417263011251666 <= 0.08568761748797794\n",
      "    2. Newton decrement 0.1811824280921784 <= 0.08568761748797794\n",
      "Newton iter=2\n",
      "  Check Convergence\n",
      "    1. max |gradient| 0.006569891261995793 <= 0.08568761748797794\n",
      "    2. Newton decrement 0.02172094755602183 <= 0.08568761748797794\n",
      "  Solver did converge at loss = 0.46268097002329917.\n"
     ]
    },
    {
     "name": "stderr",
     "output_type": "stream",
     "text": [
      "[Parallel(n_jobs=1)]: Using backend SequentialBackend with 1 concurrent workers.\n",
      "[Parallel(n_jobs=1)]: Done   1 out of   1 | elapsed:    0.0s finished\n",
      "[Parallel(n_jobs=1)]: Using backend SequentialBackend with 1 concurrent workers.\n",
      "[Parallel(n_jobs=1)]: Done   1 out of   1 | elapsed:    0.0s finished\n",
      "[Parallel(n_jobs=1)]: Using backend SequentialBackend with 1 concurrent workers.\n",
      "[Parallel(n_jobs=1)]: Done   1 out of   1 | elapsed:    0.0s finished\n"
     ]
    },
    {
     "name": "stdout",
     "output_type": "stream",
     "text": [
      "Newton iter=1\n",
      "  Check Convergence\n",
      "    1. max |gradient| 0.03531936319893734 <= 0.08568761748797794\n",
      "    2. Newton decrement 0.18275518520013545 <= 0.08568761748797794\n",
      "Newton iter=2\n",
      "  Check Convergence\n",
      "    1. max |gradient| 0.007007986714424206 <= 0.08568761748797794\n",
      "    2. Newton decrement 0.022847561933061793 <= 0.08568761748797794\n",
      "  Solver did converge at loss = 0.4589704898304577.\n",
      "Results: -0.8581556475911115\n",
      "================\n",
      "================\n",
      "Configuration:\n",
      "C: 1.9278530118255561\n",
      "Tolerance: 0.08557468197669246\n",
      "Solver: newton-cholesky\n",
      "Oversampling Method: none\n",
      "----------------\n",
      "Newton iter=1\n",
      "  Check Convergence\n",
      "    1. max |gradient| 0.02821203059424564 <= 0.08557468197669246\n",
      "    2. Newton decrement 0.17205753699124518 <= 0.08557468197669246\n",
      "Newton iter=2\n",
      "  Check Convergence\n",
      "    1. max |gradient| 0.005701661924354295 <= 0.08557468197669246\n",
      "    2. Newton decrement 0.02212601597448265 <= 0.08557468197669246\n",
      "  Solver did converge at loss = 0.4716400956882424.\n",
      "Newton iter=1\n",
      "  Check Convergence\n",
      "    1. max |gradient| 0.03417214881889294 <= 0.08557468197669246\n",
      "    2. Newton decrement 0.18118072098622467 <= 0.08557468197669246\n",
      "Newton iter=2\n",
      "  Check Convergence\n",
      "    1. max |gradient| 0.006569255754681974 <= 0.08557468197669246\n",
      "    2. Newton decrement 0.02171784455485235 <= 0.08557468197669246\n",
      "  Solver did converge at loss = 0.46268819471657685.\n",
      "Newton iter=1\n"
     ]
    },
    {
     "name": "stderr",
     "output_type": "stream",
     "text": [
      "[Parallel(n_jobs=1)]: Using backend SequentialBackend with 1 concurrent workers.\n",
      "[Parallel(n_jobs=1)]: Done   1 out of   1 | elapsed:    0.0s finished\n",
      "[Parallel(n_jobs=1)]: Using backend SequentialBackend with 1 concurrent workers.\n",
      "[Parallel(n_jobs=1)]: Done   1 out of   1 | elapsed:    0.0s finished\n",
      "[Parallel(n_jobs=1)]: Using backend SequentialBackend with 1 concurrent workers.\n"
     ]
    },
    {
     "name": "stdout",
     "output_type": "stream",
     "text": [
      "  Check Convergence\n",
      "    1. max |gradient| 0.03531890352119705 <= 0.08557468197669246\n",
      "    2. Newton decrement 0.18275366641575802 <= 0.08557468197669246\n",
      "Newton iter=2\n",
      "  Check Convergence\n",
      "    1. max |gradient| 0.007007440675305915 <= 0.08557468197669246\n",
      "    2. Newton decrement 0.02284465343965853 <= 0.08557468197669246\n",
      "  Solver did converge at loss = 0.45897719170336915.\n",
      "Results: -0.8581547618998814\n",
      "================\n"
     ]
    },
    {
     "name": "stderr",
     "output_type": "stream",
     "text": [
      "[Parallel(n_jobs=1)]: Done   1 out of   1 | elapsed:    0.0s finished\n"
     ]
    },
    {
     "name": "stdout",
     "output_type": "stream",
     "text": [
      "================\n",
      "Configuration:\n",
      "C: 1.1620029978644149\n",
      "Tolerance: 0.0001\n",
      "Solver: sag\n",
      "Oversampling Method: ada\n",
      "----------------\n"
     ]
    },
    {
     "name": "stderr",
     "output_type": "stream",
     "text": [
      "[Parallel(n_jobs=1)]: Using backend SequentialBackend with 1 concurrent workers.\n"
     ]
    },
    {
     "name": "stdout",
     "output_type": "stream",
     "text": [
      "convergence after 143 epochs took 5 seconds\n"
     ]
    },
    {
     "name": "stderr",
     "output_type": "stream",
     "text": [
      "[Parallel(n_jobs=1)]: Done   1 out of   1 | elapsed:    5.2s finished\n",
      "[Parallel(n_jobs=1)]: Using backend SequentialBackend with 1 concurrent workers.\n"
     ]
    },
    {
     "name": "stdout",
     "output_type": "stream",
     "text": [
      "convergence after 175 epochs took 6 seconds\n"
     ]
    },
    {
     "name": "stderr",
     "output_type": "stream",
     "text": [
      "[Parallel(n_jobs=1)]: Done   1 out of   1 | elapsed:    5.4s finished\n",
      "[Parallel(n_jobs=1)]: Using backend SequentialBackend with 1 concurrent workers.\n"
     ]
    },
    {
     "name": "stdout",
     "output_type": "stream",
     "text": [
      "convergence after 178 epochs took 6 seconds\n",
      "Results: -0.8595623723799148\n",
      "================\n"
     ]
    },
    {
     "name": "stderr",
     "output_type": "stream",
     "text": [
      "[Parallel(n_jobs=1)]: Done   1 out of   1 | elapsed:    6.1s finished\n"
     ]
    },
    {
     "name": "stdout",
     "output_type": "stream",
     "text": [
      "================\n",
      "Configuration:\n",
      "C: 1.9399477549375785\n",
      "Tolerance: 0.08568802057895421\n",
      "Solver: newton-cholesky\n",
      "Oversampling Method: none\n",
      "----------------\n",
      "Newton iter=1\n",
      "  Check Convergence\n",
      "    1. max |gradient| 0.02821275625958714 <= 0.08568802057895421\n",
      "    2. Newton decrement 0.17205976280709046 <= 0.08568802057895421\n",
      "Newton iter=2\n",
      "  Check Convergence\n",
      "    1. max |gradient| 0.005702370851996688 <= 0.08568802057895421\n",
      "    2. Newton decrement 0.022129416286913145 <= 0.08568802057895421\n",
      "  Solver did converge at loss = 0.4716317570195146.\n"
     ]
    },
    {
     "name": "stderr",
     "output_type": "stream",
     "text": [
      "[Parallel(n_jobs=1)]: Using backend SequentialBackend with 1 concurrent workers.\n",
      "[Parallel(n_jobs=1)]: Done   1 out of   1 | elapsed:    0.0s finished\n",
      "[Parallel(n_jobs=1)]: Using backend SequentialBackend with 1 concurrent workers.\n",
      "[Parallel(n_jobs=1)]: Done   1 out of   1 | elapsed:    0.0s finished\n"
     ]
    },
    {
     "name": "stdout",
     "output_type": "stream",
     "text": [
      "Newton iter=1\n",
      "  Check Convergence\n",
      "    1. max |gradient| 0.03417262190875307 <= 0.08568802057895421\n",
      "    2. Newton decrement 0.1811823989956272 <= 0.08568802057895421\n",
      "Newton iter=2\n",
      "  Check Convergence\n",
      "    1. max |gradient| 0.006569880431086539 <= 0.08568802057895421\n",
      "    2. Newton decrement 0.021720894665252424 <= 0.08568802057895421\n",
      "  Solver did converge at loss = 0.46268109317008677.\n",
      "Newton iter=1\n",
      "  Check Convergence\n",
      "    1. max |gradient| 0.03531935536391828 <= 0.08568802057895421\n",
      "    2. Newton decrement 0.182755159321265 <= 0.08568802057895421\n",
      "Newton iter=2\n",
      "  Check Convergence\n",
      "    1. max |gradient| 0.007007977407910938 <= 0.08568802057895421\n",
      "    2. Newton decrement 0.02284751236315677 <= 0.08568802057895421\n",
      "  Solver did converge at loss = 0.45897060404635837.\n",
      "Results: -0.8581556125386417\n",
      "================\n"
     ]
    },
    {
     "name": "stderr",
     "output_type": "stream",
     "text": [
      "[Parallel(n_jobs=1)]: Using backend SequentialBackend with 1 concurrent workers.\n",
      "[Parallel(n_jobs=1)]: Done   1 out of   1 | elapsed:    0.0s finished\n"
     ]
    },
    {
     "name": "stdout",
     "output_type": "stream",
     "text": [
      "================\n",
      "Configuration:\n",
      "C: 1.939848156288427\n",
      "Tolerance: 0.08569003415939729\n",
      "Solver: newton-cholesky\n",
      "Oversampling Method: none\n",
      "----------------\n",
      "Newton iter=1\n",
      "  Check Convergence\n",
      "    1. max |gradient| 0.02821275031043101 <= 0.08569003415939729\n",
      "    2. Newton decrement 0.17205974457166484 <= 0.08569003415939729\n",
      "Newton iter=2\n",
      "  Check Convergence\n",
      "    1. max |gradient| 0.005702365044922525 <= 0.08569003415939729\n",
      "    2. Newton decrement 0.022129388436935515 <= 0.08569003415939729\n",
      "  Solver did converge at loss = 0.47163182532297254.\n",
      "Newton iter=1\n",
      "  Check Convergence\n",
      "    1. max |gradient| 0.034172618034655794 <= 0.08569003415939729\n",
      "    2. Newton decrement 0.18118238525522426 <= 0.08569003415939729\n",
      "Newton iter=2\n",
      "  Check Convergence\n",
      "    1. max |gradient| 0.006569875316344653 <= 0.08569003415939729\n",
      "    2. Newton decrement 0.021720869688419107 <= 0.08569003415939729\n",
      "  Solver did converge at loss = 0.462681151324201.\n"
     ]
    },
    {
     "name": "stderr",
     "output_type": "stream",
     "text": [
      "[Parallel(n_jobs=1)]: Using backend SequentialBackend with 1 concurrent workers.\n",
      "[Parallel(n_jobs=1)]: Done   1 out of   1 | elapsed:    0.0s finished\n",
      "[Parallel(n_jobs=1)]: Using backend SequentialBackend with 1 concurrent workers.\n",
      "[Parallel(n_jobs=1)]: Done   1 out of   1 | elapsed:    0.0s finished\n",
      "[Parallel(n_jobs=1)]: Using backend SequentialBackend with 1 concurrent workers.\n"
     ]
    },
    {
     "name": "stdout",
     "output_type": "stream",
     "text": [
      "Newton iter=1\n",
      "  Check Convergence\n",
      "    1. max |gradient| 0.03531935166395134 <= 0.08569003415939729\n",
      "    2. Newton decrement 0.182755147100268 <= 0.08569003415939729\n",
      "Newton iter=2\n",
      "  Check Convergence\n",
      "    1. max |gradient| 0.007007973013047691 <= 0.08569003415939729\n",
      "    2. Newton decrement 0.02284748895448278 <= 0.08569003415939729\n",
      "  Solver did converge at loss = 0.45897065798323655.\n",
      "Results: -0.8581556020219807\n",
      "================\n"
     ]
    },
    {
     "name": "stderr",
     "output_type": "stream",
     "text": [
      "[Parallel(n_jobs=1)]: Done   1 out of   1 | elapsed:    0.0s finished\n"
     ]
    },
    {
     "name": "stdout",
     "output_type": "stream",
     "text": [
      "================\n",
      "Configuration:\n",
      "C: 1.1343521778788572\n",
      "Tolerance: 0.0001\n",
      "Solver: sag\n",
      "Oversampling Method: ada\n",
      "----------------\n"
     ]
    },
    {
     "name": "stderr",
     "output_type": "stream",
     "text": [
      "[Parallel(n_jobs=1)]: Using backend SequentialBackend with 1 concurrent workers.\n"
     ]
    },
    {
     "name": "stdout",
     "output_type": "stream",
     "text": [
      "convergence after 141 epochs took 5 seconds\n"
     ]
    },
    {
     "name": "stderr",
     "output_type": "stream",
     "text": [
      "[Parallel(n_jobs=1)]: Done   1 out of   1 | elapsed:    5.4s finished\n",
      "[Parallel(n_jobs=1)]: Using backend SequentialBackend with 1 concurrent workers.\n"
     ]
    },
    {
     "name": "stdout",
     "output_type": "stream",
     "text": [
      "convergence after 173 epochs took 6 seconds\n"
     ]
    },
    {
     "name": "stderr",
     "output_type": "stream",
     "text": [
      "[Parallel(n_jobs=1)]: Done   1 out of   1 | elapsed:    5.9s finished\n",
      "[Parallel(n_jobs=1)]: Using backend SequentialBackend with 1 concurrent workers.\n"
     ]
    },
    {
     "name": "stdout",
     "output_type": "stream",
     "text": [
      "convergence after 175 epochs took 7 seconds\n",
      "Results: -0.8595549129869617\n",
      "================\n"
     ]
    },
    {
     "name": "stderr",
     "output_type": "stream",
     "text": [
      "[Parallel(n_jobs=1)]: Done   1 out of   1 | elapsed:    6.1s finished\n"
     ]
    },
    {
     "name": "stdout",
     "output_type": "stream",
     "text": [
      "================\n",
      "Configuration:\n",
      "C: 1.9891575792266258\n",
      "Tolerance: 0.08579399391764699\n",
      "Solver: sag\n",
      "Oversampling Method: none\n",
      "----------------\n",
      "convergence after 5 epochs took 0 seconds\n"
     ]
    },
    {
     "name": "stderr",
     "output_type": "stream",
     "text": [
      "[Parallel(n_jobs=1)]: Using backend SequentialBackend with 1 concurrent workers.\n",
      "[Parallel(n_jobs=1)]: Done   1 out of   1 | elapsed:    0.1s finished\n",
      "[Parallel(n_jobs=1)]: Using backend SequentialBackend with 1 concurrent workers.\n"
     ]
    },
    {
     "name": "stdout",
     "output_type": "stream",
     "text": [
      "convergence after 5 epochs took 0 seconds\n",
      "convergence after 5 epochs took 0 seconds\n",
      "Results: -0.8580500494743099\n",
      "================\n"
     ]
    },
    {
     "name": "stderr",
     "output_type": "stream",
     "text": [
      "[Parallel(n_jobs=1)]: Done   1 out of   1 | elapsed:    0.0s finished\n",
      "[Parallel(n_jobs=1)]: Using backend SequentialBackend with 1 concurrent workers.\n",
      "[Parallel(n_jobs=1)]: Done   1 out of   1 | elapsed:    0.1s finished\n"
     ]
    },
    {
     "name": "stdout",
     "output_type": "stream",
     "text": [
      "================\n",
      "Configuration:\n",
      "C: 3.0\n",
      "Tolerance: 0.053340019802594146\n",
      "Solver: newton-cholesky\n",
      "Oversampling Method: none\n",
      "----------------\n",
      "Newton iter=1\n",
      "  Check Convergence\n",
      "    1. max |gradient| 0.0282594792077637 <= 0.053340019802594146\n",
      "    2. Newton decrement 0.17219577724805477 <= 0.053340019802594146\n",
      "Newton iter=2\n",
      "  Check Convergence\n",
      "    1. max |gradient| 0.005745313002866469 <= 0.053340019802594146\n",
      "    2. Newton decrement 0.02233225734237848 <= 0.053340019802594146\n",
      "  Solver did converge at loss = 0.4711304012041946.\n",
      "Newton iter=1\n",
      "  Check Convergence\n",
      "    1. max |gradient| 0.034200556483618964 <= 0.053340019802594146\n",
      "    2. Newton decrement 0.18128099619944743 <= 0.053340019802594146\n",
      "Newton iter=2\n",
      "  Check Convergence\n",
      "    1. max |gradient| 0.006606273317286807 <= 0.053340019802594146\n",
      "    2. Newton decrement 0.021899980002729642 <= 0.053340019802594146\n",
      "  Solver did converge at loss = 0.4622634190334925.\n"
     ]
    },
    {
     "name": "stderr",
     "output_type": "stream",
     "text": [
      "[Parallel(n_jobs=1)]: Using backend SequentialBackend with 1 concurrent workers.\n",
      "[Parallel(n_jobs=1)]: Done   1 out of   1 | elapsed:    0.0s finished\n",
      "[Parallel(n_jobs=1)]: Using backend SequentialBackend with 1 concurrent workers.\n",
      "[Parallel(n_jobs=1)]: Done   1 out of   1 | elapsed:    0.0s finished\n",
      "[Parallel(n_jobs=1)]: Using backend SequentialBackend with 1 concurrent workers.\n"
     ]
    },
    {
     "name": "stdout",
     "output_type": "stream",
     "text": [
      "Newton iter=1\n",
      "  Check Convergence\n",
      "    1. max |gradient| 0.0353459483597149 <= 0.053340019802594146\n",
      "    2. Newton decrement 0.18284083738644571 <= 0.053340019802594146\n",
      "Newton iter=2\n",
      "  Check Convergence\n",
      "    1. max |gradient| 0.0070394199718326915 <= 0.053340019802594146\n",
      "    2. Newton decrement 0.023014054678116222 <= 0.053340019802594146\n",
      "  Solver did converge at loss = 0.45858802575017527.\n",
      "Results: -0.8582021047103142\n",
      "================\n"
     ]
    },
    {
     "name": "stderr",
     "output_type": "stream",
     "text": [
      "[Parallel(n_jobs=1)]: Done   1 out of   1 | elapsed:    0.0s finished\n"
     ]
    },
    {
     "name": "stdout",
     "output_type": "stream",
     "text": [
      "================\n",
      "Configuration:\n",
      "C: 1.4930988526442681\n",
      "Tolerance: 0.0001\n",
      "Solver: lbfgs\n",
      "Oversampling Method: ada\n",
      "----------------\n"
     ]
    },
    {
     "name": "stderr",
     "output_type": "stream",
     "text": [
      "[Parallel(n_jobs=1)]: Using backend SequentialBackend with 1 concurrent workers.\n",
      "[Parallel(n_jobs=1)]: Done   1 out of   1 | elapsed:    0.3s finished\n",
      "[Parallel(n_jobs=1)]: Using backend SequentialBackend with 1 concurrent workers.\n",
      "[Parallel(n_jobs=1)]: Done   1 out of   1 | elapsed:    0.4s finished\n",
      "[Parallel(n_jobs=1)]: Using backend SequentialBackend with 1 concurrent workers.\n",
      "[Parallel(n_jobs=1)]: Done   1 out of   1 | elapsed:    0.4s finished\n"
     ]
    },
    {
     "name": "stdout",
     "output_type": "stream",
     "text": [
      "Results: -0.8596786387244163\n",
      "================\n",
      "================\n",
      "Configuration:\n",
      "C: 1.44484977701661\n",
      "Tolerance: 0.0001\n",
      "Solver: lbfgs\n",
      "Oversampling Method: ada\n",
      "----------------\n"
     ]
    },
    {
     "name": "stderr",
     "output_type": "stream",
     "text": [
      "[Parallel(n_jobs=1)]: Using backend SequentialBackend with 1 concurrent workers.\n",
      "[Parallel(n_jobs=1)]: Done   1 out of   1 | elapsed:    0.2s finished\n",
      "[Parallel(n_jobs=1)]: Using backend SequentialBackend with 1 concurrent workers.\n",
      "[Parallel(n_jobs=1)]: Done   1 out of   1 | elapsed:    0.3s finished\n",
      "[Parallel(n_jobs=1)]: Using backend SequentialBackend with 1 concurrent workers.\n",
      "[Parallel(n_jobs=1)]: Done   1 out of   1 | elapsed:    0.3s finished\n"
     ]
    },
    {
     "name": "stdout",
     "output_type": "stream",
     "text": [
      "Results: -0.8595176301951649\n",
      "================\n",
      "================\n",
      "Configuration:\n",
      "C: 2.0755124202201554\n",
      "Tolerance: 0.05429888385494343\n",
      "Solver: newton-cholesky\n",
      "Oversampling Method: ada\n",
      "----------------\n",
      "Newton iter=1\n",
      "  Check Convergence\n",
      "    1. max |gradient| 0.028220471380655407 <= 0.05429888385494343\n",
      "    2. Newton decrement 0.17208323566523145 <= 0.05429888385494343\n",
      "Newton iter=2\n",
      "  Check Convergence\n",
      "    1. max |gradient| 0.00570983270179479 <= 0.05429888385494343\n",
      "    2. Newton decrement 0.022165151882750974 <= 0.05429888385494343\n",
      "  Solver did converge at loss = 0.47154402220147457.\n",
      "Newton iter=1\n",
      "  Check Convergence\n",
      "    1. max |gradient| 0.0341775834924686 <= 0.05429888385494343\n",
      "    2. Newton decrement 0.18119998635418194 <= 0.05429888385494343\n",
      "Newton iter=2\n",
      "  Check Convergence\n",
      "    1. max |gradient| 0.006576420641126162 <= 0.05429888385494343\n",
      "    2. Newton decrement 0.021752874372776343 <= 0.05429888385494343\n",
      "  Solver did converge at loss = 0.4626066216266203.\n",
      "Newton iter=1\n"
     ]
    },
    {
     "name": "stderr",
     "output_type": "stream",
     "text": [
      "[Parallel(n_jobs=1)]: Using backend SequentialBackend with 1 concurrent workers.\n",
      "[Parallel(n_jobs=1)]: Done   1 out of   1 | elapsed:    0.0s finished\n",
      "[Parallel(n_jobs=1)]: Using backend SequentialBackend with 1 concurrent workers.\n",
      "[Parallel(n_jobs=1)]: Done   1 out of   1 | elapsed:    0.0s finished\n",
      "[Parallel(n_jobs=1)]: Using backend SequentialBackend with 1 concurrent workers.\n",
      "[Parallel(n_jobs=1)]: Done   1 out of   1 | elapsed:    0.0s finished\n"
     ]
    },
    {
     "name": "stdout",
     "output_type": "stream",
     "text": [
      "  Check Convergence\n",
      "    1. max |gradient| 0.035324091961113316 <= 0.05429888385494343\n",
      "    2. Newton decrement 0.18277074979470762 <= 0.05429888385494343\n",
      "Newton iter=2\n",
      "  Check Convergence\n",
      "    1. max |gradient| 0.0070136001179244255 <= 0.05429888385494343\n",
      "    2. Newton decrement 0.022877448588049253 <= 0.05429888385494343\n",
      "  Solver did converge at loss = 0.45890165998247817.\n",
      "Results: -0.8581633571507639\n",
      "================\n",
      "================\n",
      "Configuration:\n",
      "C: 0.6745442674263004\n",
      "Tolerance: 0.06589814359502119\n",
      "Solver: newton-cg\n",
      "Oversampling Method: ada\n",
      "----------------\n"
     ]
    },
    {
     "name": "stderr",
     "output_type": "stream",
     "text": [
      "[Parallel(n_jobs=1)]: Using backend SequentialBackend with 1 concurrent workers.\n",
      "[Parallel(n_jobs=1)]: Done   1 out of   1 | elapsed:    0.0s finished\n",
      "[Parallel(n_jobs=1)]: Using backend SequentialBackend with 1 concurrent workers.\n",
      "[Parallel(n_jobs=1)]: Done   1 out of   1 | elapsed:    0.0s finished\n",
      "[Parallel(n_jobs=1)]: Using backend SequentialBackend with 1 concurrent workers.\n",
      "[Parallel(n_jobs=1)]: Done   1 out of   1 | elapsed:    0.0s finished\n"
     ]
    },
    {
     "name": "stdout",
     "output_type": "stream",
     "text": [
      "Results: -0.7742787494634243\n",
      "================\n",
      "================\n",
      "Configuration:\n",
      "C: 3.0\n",
      "Tolerance: 0.009641431911937094\n",
      "Solver: sag\n",
      "Oversampling Method: ada\n",
      "----------------\n"
     ]
    },
    {
     "name": "stderr",
     "output_type": "stream",
     "text": [
      "[Parallel(n_jobs=1)]: Using backend SequentialBackend with 1 concurrent workers.\n"
     ]
    },
    {
     "name": "stdout",
     "output_type": "stream",
     "text": [
      "convergence after 25 epochs took 1 seconds\n"
     ]
    },
    {
     "name": "stderr",
     "output_type": "stream",
     "text": [
      "[Parallel(n_jobs=1)]: Done   1 out of   1 | elapsed:    0.6s finished\n",
      "[Parallel(n_jobs=1)]: Using backend SequentialBackend with 1 concurrent workers.\n"
     ]
    },
    {
     "name": "stdout",
     "output_type": "stream",
     "text": [
      "convergence after 24 epochs took 1 seconds\n"
     ]
    },
    {
     "name": "stderr",
     "output_type": "stream",
     "text": [
      "[Parallel(n_jobs=1)]: Done   1 out of   1 | elapsed:    0.6s finished\n",
      "[Parallel(n_jobs=1)]: Using backend SequentialBackend with 1 concurrent workers.\n"
     ]
    },
    {
     "name": "stdout",
     "output_type": "stream",
     "text": [
      "convergence after 16 epochs took 0 seconds\n",
      "Results: -0.8596379151235735\n",
      "================\n"
     ]
    },
    {
     "name": "stderr",
     "output_type": "stream",
     "text": [
      "[Parallel(n_jobs=1)]: Done   1 out of   1 | elapsed:    0.3s finished\n"
     ]
    },
    {
     "name": "stdout",
     "output_type": "stream",
     "text": [
      "================\n",
      "Configuration:\n",
      "C: 1.1383780056299475\n",
      "Tolerance: 0.06113638406649443\n",
      "Solver: saga\n",
      "Oversampling Method: none\n",
      "----------------\n"
     ]
    },
    {
     "name": "stderr",
     "output_type": "stream",
     "text": [
      "[Parallel(n_jobs=1)]: Using backend SequentialBackend with 1 concurrent workers.\n",
      "[Parallel(n_jobs=1)]: Done   1 out of   1 | elapsed:    0.1s finished\n"
     ]
    },
    {
     "name": "stdout",
     "output_type": "stream",
     "text": [
      "convergence after 5 epochs took 0 seconds\n",
      "convergence after 4 epochs took 1 seconds\n"
     ]
    },
    {
     "name": "stderr",
     "output_type": "stream",
     "text": [
      "[Parallel(n_jobs=1)]: Using backend SequentialBackend with 1 concurrent workers.\n",
      "[Parallel(n_jobs=1)]: Done   1 out of   1 | elapsed:    0.0s finished\n",
      "[Parallel(n_jobs=1)]: Using backend SequentialBackend with 1 concurrent workers.\n"
     ]
    },
    {
     "name": "stdout",
     "output_type": "stream",
     "text": [
      "convergence after 4 epochs took 0 seconds\n",
      "Results: -0.8572306192310662\n",
      "================\n"
     ]
    },
    {
     "name": "stderr",
     "output_type": "stream",
     "text": [
      "[Parallel(n_jobs=1)]: Done   1 out of   1 | elapsed:    0.0s finished\n"
     ]
    },
    {
     "name": "stdout",
     "output_type": "stream",
     "text": [
      "================\n",
      "Configuration:\n",
      "C: 2.0856872008809644\n",
      "Tolerance: 0.05325563049311479\n",
      "Solver: sag\n",
      "Oversampling Method: none\n",
      "----------------\n",
      "convergence after 6 epochs took 0 seconds\n"
     ]
    },
    {
     "name": "stderr",
     "output_type": "stream",
     "text": [
      "[Parallel(n_jobs=1)]: Using backend SequentialBackend with 1 concurrent workers.\n",
      "[Parallel(n_jobs=1)]: Done   1 out of   1 | elapsed:    0.1s finished\n",
      "[Parallel(n_jobs=1)]: Using backend SequentialBackend with 1 concurrent workers.\n",
      "[Parallel(n_jobs=1)]: Done   1 out of   1 | elapsed:    0.1s finished\n"
     ]
    },
    {
     "name": "stdout",
     "output_type": "stream",
     "text": [
      "convergence after 7 epochs took 0 seconds\n"
     ]
    },
    {
     "name": "stderr",
     "output_type": "stream",
     "text": [
      "[Parallel(n_jobs=1)]: Using backend SequentialBackend with 1 concurrent workers.\n"
     ]
    },
    {
     "name": "stdout",
     "output_type": "stream",
     "text": [
      "convergence after 7 epochs took 0 seconds\n",
      "Results: -0.8593657238403315\n",
      "================\n"
     ]
    },
    {
     "name": "stderr",
     "output_type": "stream",
     "text": [
      "[Parallel(n_jobs=1)]: Done   1 out of   1 | elapsed:    0.1s finished\n"
     ]
    },
    {
     "name": "stdout",
     "output_type": "stream",
     "text": [
      "================\n",
      "Configuration:\n",
      "C: 2.315435265677151\n",
      "Tolerance: 0.010312784882487644\n",
      "Solver: sag\n",
      "Oversampling Method: none\n",
      "----------------\n"
     ]
    },
    {
     "name": "stderr",
     "output_type": "stream",
     "text": [
      "[Parallel(n_jobs=1)]: Using backend SequentialBackend with 1 concurrent workers.\n"
     ]
    },
    {
     "name": "stdout",
     "output_type": "stream",
     "text": [
      "convergence after 20 epochs took 0 seconds\n"
     ]
    },
    {
     "name": "stderr",
     "output_type": "stream",
     "text": [
      "[Parallel(n_jobs=1)]: Done   1 out of   1 | elapsed:    0.4s finished\n",
      "[Parallel(n_jobs=1)]: Using backend SequentialBackend with 1 concurrent workers.\n"
     ]
    },
    {
     "name": "stdout",
     "output_type": "stream",
     "text": [
      "convergence after 22 epochs took 1 seconds\n"
     ]
    },
    {
     "name": "stderr",
     "output_type": "stream",
     "text": [
      "[Parallel(n_jobs=1)]: Done   1 out of   1 | elapsed:    0.6s finished\n",
      "[Parallel(n_jobs=1)]: Using backend SequentialBackend with 1 concurrent workers.\n"
     ]
    },
    {
     "name": "stdout",
     "output_type": "stream",
     "text": [
      "convergence after 15 epochs took 1 seconds\n",
      "Results: -0.8596129400396695\n",
      "================\n"
     ]
    },
    {
     "name": "stderr",
     "output_type": "stream",
     "text": [
      "[Parallel(n_jobs=1)]: Done   1 out of   1 | elapsed:    0.5s finished\n"
     ]
    },
    {
     "name": "stdout",
     "output_type": "stream",
     "text": [
      "================\n",
      "Configuration:\n",
      "C: 0.7660273792176194\n",
      "Tolerance: 0.037786105371047096\n",
      "Solver: sag\n",
      "Oversampling Method: none\n",
      "----------------\n"
     ]
    },
    {
     "name": "stderr",
     "output_type": "stream",
     "text": [
      "[Parallel(n_jobs=1)]: Using backend SequentialBackend with 1 concurrent workers.\n"
     ]
    },
    {
     "name": "stdout",
     "output_type": "stream",
     "text": [
      "convergence after 7 epochs took 0 seconds\n"
     ]
    },
    {
     "name": "stderr",
     "output_type": "stream",
     "text": [
      "[Parallel(n_jobs=1)]: Done   1 out of   1 | elapsed:    0.2s finished\n",
      "[Parallel(n_jobs=1)]: Using backend SequentialBackend with 1 concurrent workers.\n"
     ]
    },
    {
     "name": "stdout",
     "output_type": "stream",
     "text": [
      "convergence after 8 epochs took 0 seconds\n"
     ]
    },
    {
     "name": "stderr",
     "output_type": "stream",
     "text": [
      "[Parallel(n_jobs=1)]: Done   1 out of   1 | elapsed:    0.2s finished\n",
      "[Parallel(n_jobs=1)]: Using backend SequentialBackend with 1 concurrent workers.\n"
     ]
    },
    {
     "name": "stdout",
     "output_type": "stream",
     "text": [
      "convergence after 8 epochs took 0 seconds\n",
      "Results: -0.8590880597267593\n",
      "================\n"
     ]
    },
    {
     "name": "stderr",
     "output_type": "stream",
     "text": [
      "[Parallel(n_jobs=1)]: Done   1 out of   1 | elapsed:    0.2s finished\n"
     ]
    },
    {
     "name": "stdout",
     "output_type": "stream",
     "text": [
      "================\n",
      "Configuration:\n",
      "C: 2.6224422546144712\n",
      "Tolerance: 0.01721388217833635\n",
      "Solver: newton-cholesky\n",
      "Oversampling Method: ada\n",
      "----------------\n",
      "Newton iter=1\n",
      "  Check Convergence\n",
      "    1. max |gradient| 0.028245730249199623 <= 0.01721388217833635\n",
      "Newton iter=2\n",
      "  Check Convergence\n",
      "    1. max |gradient| 0.0057332430856827 <= 0.01721388217833635\n",
      "    2. Newton decrement 0.022276164210907858 <= 0.01721388217833635\n",
      "Newton iter=3\n",
      "  Check Convergence\n",
      "    1. max |gradient| 0.0015801175479180775 <= 0.01721388217833635\n",
      "    2. Newton decrement 0.00460750666912382 <= 0.01721388217833635\n",
      "  Solver did converge at loss = 0.46574993899612027.\n",
      "Newton iter=1\n",
      "  Check Convergence\n",
      "    1. max |gradient| 0.03419288420593023 <= 0.01721388217833635\n",
      "Newton iter=2\n",
      "  Check Convergence\n",
      "    1. max |gradient| 0.0065964063441762925 <= 0.01721388217833635\n",
      "    2. Newton decrement 0.02185114389889628 <= 0.01721388217833635\n",
      "Newton iter=3\n"
     ]
    },
    {
     "name": "stderr",
     "output_type": "stream",
     "text": [
      "[Parallel(n_jobs=1)]: Using backend SequentialBackend with 1 concurrent workers.\n",
      "[Parallel(n_jobs=1)]: Done   1 out of   1 | elapsed:    0.0s finished\n",
      "[Parallel(n_jobs=1)]: Using backend SequentialBackend with 1 concurrent workers.\n",
      "[Parallel(n_jobs=1)]: Done   1 out of   1 | elapsed:    0.0s finished\n",
      "[Parallel(n_jobs=1)]: Using backend SequentialBackend with 1 concurrent workers.\n"
     ]
    },
    {
     "name": "stdout",
     "output_type": "stream",
     "text": [
      "  Check Convergence\n",
      "    1. max |gradient| 0.0010855542973354317 <= 0.01721388217833635\n",
      "    2. Newton decrement 0.0037852656864556687 <= 0.01721388217833635\n",
      "  Solver did converge at loss = 0.4579368371512488.\n",
      "Newton iter=1\n",
      "  Check Convergence\n",
      "    1. max |gradient| 0.03533866711743138 <= 0.01721388217833635\n",
      "Newton iter=2\n",
      "  Check Convergence\n",
      "    1. max |gradient| 0.007030844978641639 <= 0.01721388217833635\n",
      "    2. Newton decrement 0.022968936002367348 <= 0.01721388217833635\n",
      "Newton iter=3\n",
      "  Check Convergence\n",
      "    1. max |gradient| 0.0012037902521678026 <= 0.01721388217833635\n",
      "    2. Newton decrement 0.004178838255600298 <= 0.01721388217833635\n",
      "  Solver did converge at loss = 0.45377286465908734.\n",
      "Results: -0.8593914498214669\n",
      "================\n"
     ]
    },
    {
     "name": "stderr",
     "output_type": "stream",
     "text": [
      "[Parallel(n_jobs=1)]: Done   1 out of   1 | elapsed:    0.0s finished\n"
     ]
    },
    {
     "name": "stdout",
     "output_type": "stream",
     "text": [
      "================\n",
      "Configuration:\n",
      "C: 1.6974449812864918\n",
      "Tolerance: 0.0691839318661731\n",
      "Solver: sag\n",
      "Oversampling Method: ada\n",
      "----------------\n"
     ]
    },
    {
     "name": "stderr",
     "output_type": "stream",
     "text": [
      "[Parallel(n_jobs=1)]: Using backend SequentialBackend with 1 concurrent workers.\n",
      "[Parallel(n_jobs=1)]: Done   1 out of   1 | elapsed:    0.1s finished\n",
      "[Parallel(n_jobs=1)]: Using backend SequentialBackend with 1 concurrent workers.\n"
     ]
    },
    {
     "name": "stdout",
     "output_type": "stream",
     "text": [
      "convergence after 6 epochs took 0 seconds\n",
      "convergence after 6 epochs took 0 seconds\n"
     ]
    },
    {
     "name": "stderr",
     "output_type": "stream",
     "text": [
      "[Parallel(n_jobs=1)]: Done   1 out of   1 | elapsed:    0.1s finished\n",
      "[Parallel(n_jobs=1)]: Using backend SequentialBackend with 1 concurrent workers.\n",
      "[Parallel(n_jobs=1)]: Done   1 out of   1 | elapsed:    0.0s finished\n"
     ]
    },
    {
     "name": "stdout",
     "output_type": "stream",
     "text": [
      "convergence after 5 epochs took 1 seconds\n",
      "Results: -0.8583134604088084\n",
      "================\n",
      "================\n",
      "Configuration:\n",
      "C: 0.6044757928896761\n",
      "Tolerance: 0.06293841783086221\n",
      "Solver: sag\n",
      "Oversampling Method: none\n",
      "----------------\n"
     ]
    },
    {
     "name": "stderr",
     "output_type": "stream",
     "text": [
      "[Parallel(n_jobs=1)]: Using backend SequentialBackend with 1 concurrent workers.\n"
     ]
    },
    {
     "name": "stdout",
     "output_type": "stream",
     "text": [
      "convergence after 6 epochs took 0 seconds\n",
      "convergence after 5 epochs took 0 seconds\n"
     ]
    },
    {
     "name": "stderr",
     "output_type": "stream",
     "text": [
      "[Parallel(n_jobs=1)]: Done   1 out of   1 | elapsed:    0.1s finished\n",
      "[Parallel(n_jobs=1)]: Using backend SequentialBackend with 1 concurrent workers.\n",
      "[Parallel(n_jobs=1)]: Done   1 out of   1 | elapsed:    0.0s finished\n",
      "[Parallel(n_jobs=1)]: Using backend SequentialBackend with 1 concurrent workers.\n",
      "[Parallel(n_jobs=1)]: Done   1 out of   1 | elapsed:    0.1s finished\n"
     ]
    },
    {
     "name": "stdout",
     "output_type": "stream",
     "text": [
      "convergence after 5 epochs took 0 seconds\n",
      "Results: -0.8578950735088139\n",
      "================\n",
      "================\n",
      "Configuration:\n",
      "C: 2.7045111080495037\n",
      "Tolerance: 0.0001\n",
      "Solver: newton-cg\n",
      "Oversampling Method: ada\n",
      "----------------\n"
     ]
    },
    {
     "name": "stderr",
     "output_type": "stream",
     "text": [
      "[Parallel(n_jobs=1)]: Using backend SequentialBackend with 1 concurrent workers.\n",
      "[Parallel(n_jobs=1)]: Done   1 out of   1 | elapsed:    0.1s finished\n",
      "[Parallel(n_jobs=1)]: Using backend SequentialBackend with 1 concurrent workers.\n",
      "[Parallel(n_jobs=1)]: Done   1 out of   1 | elapsed:    0.1s finished\n",
      "[Parallel(n_jobs=1)]: Using backend SequentialBackend with 1 concurrent workers.\n",
      "[Parallel(n_jobs=1)]: Done   1 out of   1 | elapsed:    0.1s finished\n"
     ]
    },
    {
     "name": "stdout",
     "output_type": "stream",
     "text": [
      "Results: -0.8597517585453932\n",
      "================\n",
      "================\n",
      "Configuration:\n",
      "C: 0.8577917361102528\n",
      "Tolerance: 0.06630245278938099\n",
      "Solver: sag\n",
      "Oversampling Method: none\n",
      "----------------\n"
     ]
    },
    {
     "name": "stderr",
     "output_type": "stream",
     "text": [
      "[Parallel(n_jobs=1)]: Using backend SequentialBackend with 1 concurrent workers.\n"
     ]
    },
    {
     "name": "stdout",
     "output_type": "stream",
     "text": [
      "convergence after 6 epochs took 0 seconds\n",
      "convergence after 5 epochs took 0 seconds\n"
     ]
    },
    {
     "name": "stderr",
     "output_type": "stream",
     "text": [
      "[Parallel(n_jobs=1)]: Done   1 out of   1 | elapsed:    0.1s finished\n",
      "[Parallel(n_jobs=1)]: Using backend SequentialBackend with 1 concurrent workers.\n",
      "[Parallel(n_jobs=1)]: Done   1 out of   1 | elapsed:    0.1s finished\n",
      "[Parallel(n_jobs=1)]: Using backend SequentialBackend with 1 concurrent workers.\n",
      "[Parallel(n_jobs=1)]: Done   1 out of   1 | elapsed:    0.1s finished\n"
     ]
    },
    {
     "name": "stdout",
     "output_type": "stream",
     "text": [
      "convergence after 6 epochs took 0 seconds\n",
      "Results: -0.8578004857249346\n",
      "================\n",
      "================\n",
      "Configuration:\n",
      "C: 0.010814849783219106\n",
      "Tolerance: 0.04047241433251341\n",
      "Solver: lbfgs\n",
      "Oversampling Method: none\n",
      "----------------\n"
     ]
    },
    {
     "name": "stderr",
     "output_type": "stream",
     "text": [
      "[Parallel(n_jobs=1)]: Using backend SequentialBackend with 1 concurrent workers.\n",
      "[Parallel(n_jobs=1)]: Done   1 out of   1 | elapsed:    0.0s finished\n",
      "[Parallel(n_jobs=1)]: Using backend SequentialBackend with 1 concurrent workers.\n",
      "[Parallel(n_jobs=1)]: Done   1 out of   1 | elapsed:    0.0s finished\n",
      "[Parallel(n_jobs=1)]: Using backend SequentialBackend with 1 concurrent workers.\n",
      "[Parallel(n_jobs=1)]: Done   1 out of   1 | elapsed:    0.0s finished\n"
     ]
    },
    {
     "name": "stdout",
     "output_type": "stream",
     "text": [
      "Results: -0.7652604596199873\n",
      "================\n",
      "================\n",
      "Configuration:\n",
      "C: 2.990527358822673\n",
      "Tolerance: 0.05635400839771059\n",
      "Solver: lbfgs\n",
      "Oversampling Method: ada\n",
      "----------------\n"
     ]
    },
    {
     "name": "stderr",
     "output_type": "stream",
     "text": [
      "[Parallel(n_jobs=1)]: Using backend SequentialBackend with 1 concurrent workers.\n",
      "[Parallel(n_jobs=1)]: Done   1 out of   1 | elapsed:    0.0s finished\n",
      "[Parallel(n_jobs=1)]: Using backend SequentialBackend with 1 concurrent workers.\n",
      "[Parallel(n_jobs=1)]: Done   1 out of   1 | elapsed:    0.0s finished\n",
      "[Parallel(n_jobs=1)]: Using backend SequentialBackend with 1 concurrent workers.\n",
      "[Parallel(n_jobs=1)]: Done   1 out of   1 | elapsed:    0.0s finished\n"
     ]
    },
    {
     "name": "stdout",
     "output_type": "stream",
     "text": [
      "Results: -0.7653018324175571\n",
      "================\n",
      "================\n",
      "Configuration:\n",
      "C: 1.5111710284575213\n",
      "Tolerance: 0.023080656198118197\n",
      "Solver: sag\n",
      "Oversampling Method: ada\n",
      "----------------\n"
     ]
    },
    {
     "name": "stderr",
     "output_type": "stream",
     "text": [
      "[Parallel(n_jobs=1)]: Using backend SequentialBackend with 1 concurrent workers.\n"
     ]
    },
    {
     "name": "stdout",
     "output_type": "stream",
     "text": [
      "convergence after 9 epochs took 0 seconds\n"
     ]
    },
    {
     "name": "stderr",
     "output_type": "stream",
     "text": [
      "[Parallel(n_jobs=1)]: Done   1 out of   1 | elapsed:    0.3s finished\n",
      "[Parallel(n_jobs=1)]: Using backend SequentialBackend with 1 concurrent workers.\n"
     ]
    },
    {
     "name": "stdout",
     "output_type": "stream",
     "text": [
      "convergence after 11 epochs took 0 seconds\n"
     ]
    },
    {
     "name": "stderr",
     "output_type": "stream",
     "text": [
      "[Parallel(n_jobs=1)]: Done   1 out of   1 | elapsed:    0.4s finished\n",
      "[Parallel(n_jobs=1)]: Using backend SequentialBackend with 1 concurrent workers.\n"
     ]
    },
    {
     "name": "stdout",
     "output_type": "stream",
     "text": [
      "convergence after 10 epochs took 1 seconds\n",
      "Results: -0.859363504444671\n",
      "================\n"
     ]
    },
    {
     "name": "stderr",
     "output_type": "stream",
     "text": [
      "[Parallel(n_jobs=1)]: Done   1 out of   1 | elapsed:    0.5s finished\n"
     ]
    },
    {
     "name": "stdout",
     "output_type": "stream",
     "text": [
      "================\n",
      "Configuration:\n",
      "C: 1.4477495964080749\n",
      "Tolerance: 0.0001\n",
      "Solver: newton-cg\n",
      "Oversampling Method: ada\n",
      "----------------\n"
     ]
    },
    {
     "name": "stderr",
     "output_type": "stream",
     "text": [
      "[Parallel(n_jobs=1)]: Using backend SequentialBackend with 1 concurrent workers.\n",
      "[Parallel(n_jobs=1)]: Done   1 out of   1 | elapsed:    0.1s finished\n",
      "[Parallel(n_jobs=1)]: Using backend SequentialBackend with 1 concurrent workers.\n",
      "[Parallel(n_jobs=1)]: Done   1 out of   1 | elapsed:    0.1s finished\n",
      "[Parallel(n_jobs=1)]: Using backend SequentialBackend with 1 concurrent workers.\n",
      "[Parallel(n_jobs=1)]: Done   1 out of   1 | elapsed:    0.1s finished\n"
     ]
    },
    {
     "name": "stdout",
     "output_type": "stream",
     "text": [
      "Results: -0.8596126701792959\n",
      "================\n",
      "================\n",
      "Configuration:\n",
      "C: 0.456234987983851\n",
      "Tolerance: 0.0001\n",
      "Solver: liblinear\n",
      "Oversampling Method: ada\n",
      "----------------\n",
      "[LibLinear][LibLinear][LibLinear]Results: -0.8587407303378524\n",
      "================\n",
      "================\n",
      "Configuration:\n",
      "C: 0.44360400462897237\n",
      "Tolerance: 0.0001\n",
      "Solver: sag\n",
      "Oversampling Method: ada\n",
      "----------------\n"
     ]
    },
    {
     "name": "stderr",
     "output_type": "stream",
     "text": [
      "[Parallel(n_jobs=1)]: Using backend SequentialBackend with 1 concurrent workers.\n"
     ]
    },
    {
     "name": "stdout",
     "output_type": "stream",
     "text": [
      "convergence after 72 epochs took 3 seconds\n"
     ]
    },
    {
     "name": "stderr",
     "output_type": "stream",
     "text": [
      "[Parallel(n_jobs=1)]: Done   1 out of   1 | elapsed:    2.7s finished\n",
      "[Parallel(n_jobs=1)]: Using backend SequentialBackend with 1 concurrent workers.\n"
     ]
    },
    {
     "name": "stdout",
     "output_type": "stream",
     "text": [
      "convergence after 86 epochs took 3 seconds\n"
     ]
    },
    {
     "name": "stderr",
     "output_type": "stream",
     "text": [
      "[Parallel(n_jobs=1)]: Done   1 out of   1 | elapsed:    3.2s finished\n",
      "[Parallel(n_jobs=1)]: Using backend SequentialBackend with 1 concurrent workers.\n"
     ]
    },
    {
     "name": "stdout",
     "output_type": "stream",
     "text": [
      "convergence after 85 epochs took 3 seconds\n",
      "Results: -0.8590494282190374\n",
      "================\n"
     ]
    },
    {
     "name": "stderr",
     "output_type": "stream",
     "text": [
      "[Parallel(n_jobs=1)]: Done   1 out of   1 | elapsed:    2.7s finished\n"
     ]
    },
    {
     "name": "stdout",
     "output_type": "stream",
     "text": [
      "================\n",
      "Configuration:\n",
      "C: 3.0\n",
      "Tolerance: 0.05281239914388158\n",
      "Solver: sag\n",
      "Oversampling Method: none\n",
      "----------------\n"
     ]
    },
    {
     "name": "stderr",
     "output_type": "stream",
     "text": [
      "[Parallel(n_jobs=1)]: Using backend SequentialBackend with 1 concurrent workers.\n",
      "[Parallel(n_jobs=1)]: Done   1 out of   1 | elapsed:    0.1s finished\n"
     ]
    },
    {
     "name": "stdout",
     "output_type": "stream",
     "text": [
      "convergence after 6 epochs took 0 seconds\n"
     ]
    },
    {
     "name": "stderr",
     "output_type": "stream",
     "text": [
      "[Parallel(n_jobs=1)]: Using backend SequentialBackend with 1 concurrent workers.\n",
      "[Parallel(n_jobs=1)]: Done   1 out of   1 | elapsed:    0.1s finished\n"
     ]
    },
    {
     "name": "stdout",
     "output_type": "stream",
     "text": [
      "convergence after 7 epochs took 1 seconds\n"
     ]
    },
    {
     "name": "stderr",
     "output_type": "stream",
     "text": [
      "[Parallel(n_jobs=1)]: Using backend SequentialBackend with 1 concurrent workers.\n",
      "[Parallel(n_jobs=1)]: Done   1 out of   1 | elapsed:    0.1s finished\n"
     ]
    },
    {
     "name": "stdout",
     "output_type": "stream",
     "text": [
      "convergence after 6 epochs took 0 seconds\n",
      "Results: -0.8592779311477895\n",
      "================\n",
      "================\n",
      "Configuration:\n",
      "C: 1.4254622645135226\n",
      "Tolerance: 0.0001\n",
      "Solver: newton-cholesky\n",
      "Oversampling Method: ada\n",
      "----------------\n",
      "Newton iter=1\n",
      "  Check Convergence\n",
      "    1. max |gradient| 0.028174213414596513 <= 0.0001\n",
      "Newton iter=2\n"
     ]
    },
    {
     "name": "stderr",
     "output_type": "stream",
     "text": [
      "[Parallel(n_jobs=1)]: Using backend SequentialBackend with 1 concurrent workers.\n"
     ]
    },
    {
     "name": "stdout",
     "output_type": "stream",
     "text": [
      "  Check Convergence\n",
      "    1. max |gradient| 0.005663243528261506 <= 0.0001\n",
      "Newton iter=3\n",
      "  Check Convergence\n",
      "    1. max |gradient| 0.0014510783235428617 <= 0.0001\n",
      "Newton iter=4\n",
      "  Check Convergence\n",
      "    1. max |gradient| 0.0003513513245893326 <= 0.0001\n",
      "Newton iter=5\n",
      "  Check Convergence\n",
      "    1. max |gradient| 3.543724792028667e-05 <= 0.0001\n",
      "    2. Newton decrement 6.0884404363142486e-05 <= 0.0001\n",
      "  Solver did converge at loss = 0.46611018082568234.\n",
      "Newton iter=1\n"
     ]
    },
    {
     "name": "stderr",
     "output_type": "stream",
     "text": [
      "[Parallel(n_jobs=1)]: Done   1 out of   1 | elapsed:    6.8s finished\n",
      "[Parallel(n_jobs=1)]: Using backend SequentialBackend with 1 concurrent workers.\n"
     ]
    },
    {
     "name": "stdout",
     "output_type": "stream",
     "text": [
      "  Check Convergence\n",
      "    1. max |gradient| 0.03414616218091975 <= 0.0001\n",
      "Newton iter=2\n",
      "  Check Convergence\n",
      "    1. max |gradient| 0.006534790708257643 <= 0.0001\n",
      "Newton iter=3\n",
      "  Check Convergence\n",
      "    1. max |gradient| 0.0009771288131286576 <= 0.0001\n",
      "Newton iter=4\n",
      "  Check Convergence\n",
      "    1. max |gradient| 0.0001756156913868684 <= 0.0001\n",
      "Newton iter=5\n",
      "  Check Convergence\n",
      "    1. max |gradient| 1.446676073595457e-05 <= 0.0001\n",
      "    2. Newton decrement 2.2111747917507903e-05 <= 0.0001\n",
      "  Solver did converge at loss = 0.45851808754779383.\n"
     ]
    },
    {
     "name": "stderr",
     "output_type": "stream",
     "text": [
      "[Parallel(n_jobs=1)]: Done   1 out of   1 | elapsed:    0.2s finished\n",
      "[Parallel(n_jobs=1)]: Using backend SequentialBackend with 1 concurrent workers.\n",
      "[Parallel(n_jobs=1)]: Done   1 out of   1 | elapsed:    0.1s finished\n"
     ]
    },
    {
     "name": "stdout",
     "output_type": "stream",
     "text": [
      "Newton iter=1\n",
      "  Check Convergence\n",
      "    1. max |gradient| 0.03529403832658388 <= 0.0001\n",
      "Newton iter=2\n",
      "  Check Convergence\n",
      "    1. max |gradient| 0.006977853273832678 <= 0.0001\n",
      "Newton iter=3\n",
      "  Check Convergence\n",
      "    1. max |gradient| 0.001088303372968474 <= 0.0001\n",
      "Newton iter=4\n",
      "  Check Convergence\n",
      "    1. max |gradient| 0.00022906739428324197 <= 0.0001\n",
      "Newton iter=5\n",
      "  Check Convergence\n",
      "    1. max |gradient| 2.0511823333606988e-05 <= 0.0001\n",
      "    2. Newton decrement 3.1209871771740014e-05 <= 0.0001\n",
      "  Solver did converge at loss = 0.45420831777789944.\n",
      "Results: -0.8596142576493033\n",
      "================\n",
      "================\n",
      "Configuration:\n",
      "C: 2.198336117202725\n",
      "Tolerance: 0.02515549186380288\n",
      "Solver: sag\n",
      "Oversampling Method: ada\n",
      "----------------\n"
     ]
    },
    {
     "name": "stderr",
     "output_type": "stream",
     "text": [
      "[Parallel(n_jobs=1)]: Using backend SequentialBackend with 1 concurrent workers.\n"
     ]
    },
    {
     "name": "stdout",
     "output_type": "stream",
     "text": [
      "convergence after 8 epochs took 0 seconds\n"
     ]
    },
    {
     "name": "stderr",
     "output_type": "stream",
     "text": [
      "[Parallel(n_jobs=1)]: Done   1 out of   1 | elapsed:    0.3s finished\n",
      "[Parallel(n_jobs=1)]: Using backend SequentialBackend with 1 concurrent workers.\n"
     ]
    },
    {
     "name": "stdout",
     "output_type": "stream",
     "text": [
      "convergence after 10 epochs took 0 seconds\n"
     ]
    },
    {
     "name": "stderr",
     "output_type": "stream",
     "text": [
      "[Parallel(n_jobs=1)]: Done   1 out of   1 | elapsed:    0.3s finished\n",
      "[Parallel(n_jobs=1)]: Using backend SequentialBackend with 1 concurrent workers.\n"
     ]
    },
    {
     "name": "stdout",
     "output_type": "stream",
     "text": [
      "convergence after 9 epochs took 1 seconds\n",
      "Results: -0.8593270853508449\n",
      "================\n"
     ]
    },
    {
     "name": "stderr",
     "output_type": "stream",
     "text": [
      "[Parallel(n_jobs=1)]: Done   1 out of   1 | elapsed:    0.3s finished\n"
     ]
    },
    {
     "name": "stdout",
     "output_type": "stream",
     "text": [
      "================\n",
      "Configuration:\n",
      "C: 1.143111963613174\n",
      "Tolerance: 0.01309048659156046\n",
      "Solver: saga\n",
      "Oversampling Method: ada\n",
      "----------------\n"
     ]
    },
    {
     "name": "stderr",
     "output_type": "stream",
     "text": [
      "[Parallel(n_jobs=1)]: Using backend SequentialBackend with 1 concurrent workers.\n"
     ]
    },
    {
     "name": "stdout",
     "output_type": "stream",
     "text": [
      "convergence after 15 epochs took 1 seconds\n"
     ]
    },
    {
     "name": "stderr",
     "output_type": "stream",
     "text": [
      "[Parallel(n_jobs=1)]: Done   1 out of   1 | elapsed:    0.5s finished\n",
      "[Parallel(n_jobs=1)]: Using backend SequentialBackend with 1 concurrent workers.\n"
     ]
    },
    {
     "name": "stdout",
     "output_type": "stream",
     "text": [
      "convergence after 17 epochs took 0 seconds\n"
     ]
    },
    {
     "name": "stderr",
     "output_type": "stream",
     "text": [
      "[Parallel(n_jobs=1)]: Done   1 out of   1 | elapsed:    0.5s finished\n",
      "[Parallel(n_jobs=1)]: Using backend SequentialBackend with 1 concurrent workers.\n"
     ]
    },
    {
     "name": "stdout",
     "output_type": "stream",
     "text": [
      "convergence after 15 epochs took 0 seconds\n",
      "Results: -0.859036989918625\n",
      "================\n"
     ]
    },
    {
     "name": "stderr",
     "output_type": "stream",
     "text": [
      "[Parallel(n_jobs=1)]: Done   1 out of   1 | elapsed:    0.4s finished\n"
     ]
    },
    {
     "name": "stdout",
     "output_type": "stream",
     "text": [
      "================\n",
      "Configuration:\n",
      "C: 2.516070779166306\n",
      "Tolerance: 0.026278296977021033\n",
      "Solver: saga\n",
      "Oversampling Method: ada\n",
      "----------------\n"
     ]
    },
    {
     "name": "stderr",
     "output_type": "stream",
     "text": [
      "[Parallel(n_jobs=1)]: Using backend SequentialBackend with 1 concurrent workers.\n"
     ]
    },
    {
     "name": "stdout",
     "output_type": "stream",
     "text": [
      "convergence after 11 epochs took 1 seconds\n"
     ]
    },
    {
     "name": "stderr",
     "output_type": "stream",
     "text": [
      "[Parallel(n_jobs=1)]: Done   1 out of   1 | elapsed:    0.3s finished\n",
      "[Parallel(n_jobs=1)]: Using backend SequentialBackend with 1 concurrent workers.\n"
     ]
    },
    {
     "name": "stdout",
     "output_type": "stream",
     "text": [
      "convergence after 10 epochs took 0 seconds\n"
     ]
    },
    {
     "name": "stderr",
     "output_type": "stream",
     "text": [
      "[Parallel(n_jobs=1)]: Done   1 out of   1 | elapsed:    0.3s finished\n",
      "[Parallel(n_jobs=1)]: Using backend SequentialBackend with 1 concurrent workers.\n"
     ]
    },
    {
     "name": "stdout",
     "output_type": "stream",
     "text": [
      "convergence after 10 epochs took 0 seconds\n",
      "Results: -0.8586718177583516\n",
      "================\n"
     ]
    },
    {
     "name": "stderr",
     "output_type": "stream",
     "text": [
      "[Parallel(n_jobs=1)]: Done   1 out of   1 | elapsed:    0.3s finished\n"
     ]
    },
    {
     "name": "stdout",
     "output_type": "stream",
     "text": [
      "================\n",
      "Configuration:\n",
      "C: 1.7106937040709973\n",
      "Tolerance: 0.0072858704533048995\n",
      "Solver: sag\n",
      "Oversampling Method: ada\n",
      "----------------\n"
     ]
    },
    {
     "name": "stderr",
     "output_type": "stream",
     "text": [
      "[Parallel(n_jobs=1)]: Using backend SequentialBackend with 1 concurrent workers.\n"
     ]
    },
    {
     "name": "stdout",
     "output_type": "stream",
     "text": [
      "convergence after 26 epochs took 1 seconds\n"
     ]
    },
    {
     "name": "stderr",
     "output_type": "stream",
     "text": [
      "[Parallel(n_jobs=1)]: Done   1 out of   1 | elapsed:    0.6s finished\n",
      "[Parallel(n_jobs=1)]: Using backend SequentialBackend with 1 concurrent workers.\n"
     ]
    },
    {
     "name": "stdout",
     "output_type": "stream",
     "text": [
      "convergence after 27 epochs took 1 seconds\n"
     ]
    },
    {
     "name": "stderr",
     "output_type": "stream",
     "text": [
      "[Parallel(n_jobs=1)]: Done   1 out of   1 | elapsed:    0.7s finished\n",
      "[Parallel(n_jobs=1)]: Using backend SequentialBackend with 1 concurrent workers.\n"
     ]
    },
    {
     "name": "stdout",
     "output_type": "stream",
     "text": [
      "convergence after 18 epochs took 1 seconds\n",
      "Results: -0.8596022839642119\n",
      "================\n"
     ]
    },
    {
     "name": "stderr",
     "output_type": "stream",
     "text": [
      "[Parallel(n_jobs=1)]: Done   1 out of   1 | elapsed:    0.7s finished\n"
     ]
    },
    {
     "name": "stdout",
     "output_type": "stream",
     "text": [
      "================\n",
      "Configuration:\n",
      "C: 2.3161619861208362\n",
      "Tolerance: 0.1\n",
      "Solver: saga\n",
      "Oversampling Method: none\n",
      "----------------\n",
      "convergence after 3 epochs took 1 seconds\n"
     ]
    },
    {
     "name": "stderr",
     "output_type": "stream",
     "text": [
      "[Parallel(n_jobs=1)]: Using backend SequentialBackend with 1 concurrent workers.\n",
      "[Parallel(n_jobs=1)]: Done   1 out of   1 | elapsed:    0.1s finished\n",
      "[Parallel(n_jobs=1)]: Using backend SequentialBackend with 1 concurrent workers.\n"
     ]
    },
    {
     "name": "stdout",
     "output_type": "stream",
     "text": [
      "convergence after 3 epochs took 0 seconds\n",
      "convergence after 3 epochs took 0 seconds\n",
      "Results: -0.8565766990325535\n",
      "================\n"
     ]
    },
    {
     "name": "stderr",
     "output_type": "stream",
     "text": [
      "[Parallel(n_jobs=1)]: Done   1 out of   1 | elapsed:    0.0s finished\n",
      "[Parallel(n_jobs=1)]: Using backend SequentialBackend with 1 concurrent workers.\n",
      "[Parallel(n_jobs=1)]: Done   1 out of   1 | elapsed:    0.0s finished\n"
     ]
    },
    {
     "name": "stdout",
     "output_type": "stream",
     "text": [
      "================\n",
      "Configuration:\n",
      "C: 1.0147397767188764\n",
      "Tolerance: 0.09981907512994789\n",
      "Solver: newton-cholesky\n",
      "Oversampling Method: none\n",
      "----------------\n",
      "Newton iter=1\n",
      "  Check Convergence\n",
      "    1. max |gradient| 0.02812278285262403 <= 0.09981907512994789\n",
      "    2. Newton decrement 0.17176698418775835 <= 0.09981907512994789\n",
      "Newton iter=2\n",
      "  Check Convergence\n",
      "    1. max |gradient| 0.0056077708096785445 <= 0.09981907512994789\n",
      "    2. Newton decrement 0.021675435023196202 <= 0.09981907512994789\n",
      "  Solver did converge at loss = 0.47273902033961607.\n",
      "Newton iter=1\n",
      "  Check Convergence\n",
      "    1. max |gradient| 0.03410774464074522 <= 0.09981907512994789\n",
      "    2. Newton decrement 0.18095128099623128 <= 0.09981907512994789\n",
      "Newton iter=2\n",
      "  Check Convergence\n",
      "    1. max |gradient| 0.006483902438733725 <= 0.09981907512994789\n",
      "    2. Newton decrement 0.021307100693755434 <= 0.09981907512994789\n",
      "  Solver did converge at loss = 0.46364587768504756.\n"
     ]
    },
    {
     "name": "stderr",
     "output_type": "stream",
     "text": [
      "[Parallel(n_jobs=1)]: Using backend SequentialBackend with 1 concurrent workers.\n",
      "[Parallel(n_jobs=1)]: Done   1 out of   1 | elapsed:    0.0s finished\n",
      "[Parallel(n_jobs=1)]: Using backend SequentialBackend with 1 concurrent workers.\n",
      "[Parallel(n_jobs=1)]: Done   1 out of   1 | elapsed:    0.0s finished\n",
      "[Parallel(n_jobs=1)]: Using backend SequentialBackend with 1 concurrent workers.\n",
      "[Parallel(n_jobs=1)]: Done   1 out of   1 | elapsed:    0.0s finished\n"
     ]
    },
    {
     "name": "stdout",
     "output_type": "stream",
     "text": [
      "Newton iter=1\n",
      "  Check Convergence\n",
      "    1. max |gradient| 0.03525712846928504 <= 0.09981907512994789\n",
      "    2. Newton decrement 0.1825439115118209 <= 0.09981907512994789\n",
      "Newton iter=2\n",
      "  Check Convergence\n",
      "    1. max |gradient| 0.0069340099155285285 <= 0.09981907512994789\n",
      "    2. Newton decrement 0.022454880977030203 <= 0.09981907512994789\n",
      "  Solver did converge at loss = 0.45988051783305556.\n",
      "Results: -0.8580432525141152\n",
      "================\n",
      "================\n",
      "Configuration:\n",
      "C: 0.9820877350451436\n",
      "Tolerance: 0.031035699603780175\n",
      "Solver: sag\n",
      "Oversampling Method: ada\n",
      "----------------\n"
     ]
    },
    {
     "name": "stderr",
     "output_type": "stream",
     "text": [
      "[Parallel(n_jobs=1)]: Using backend SequentialBackend with 1 concurrent workers.\n"
     ]
    },
    {
     "name": "stdout",
     "output_type": "stream",
     "text": [
      "convergence after 7 epochs took 1 seconds\n"
     ]
    },
    {
     "name": "stderr",
     "output_type": "stream",
     "text": [
      "[Parallel(n_jobs=1)]: Done   1 out of   1 | elapsed:    0.2s finished\n",
      "[Parallel(n_jobs=1)]: Using backend SequentialBackend with 1 concurrent workers.\n"
     ]
    },
    {
     "name": "stdout",
     "output_type": "stream",
     "text": [
      "convergence after 9 epochs took 0 seconds\n"
     ]
    },
    {
     "name": "stderr",
     "output_type": "stream",
     "text": [
      "[Parallel(n_jobs=1)]: Done   1 out of   1 | elapsed:    0.3s finished\n",
      "[Parallel(n_jobs=1)]: Using backend SequentialBackend with 1 concurrent workers.\n"
     ]
    },
    {
     "name": "stdout",
     "output_type": "stream",
     "text": [
      "convergence after 8 epochs took 0 seconds\n",
      "Results: -0.8595123666275767\n",
      "================\n"
     ]
    },
    {
     "name": "stderr",
     "output_type": "stream",
     "text": [
      "[Parallel(n_jobs=1)]: Done   1 out of   1 | elapsed:    0.2s finished\n"
     ]
    },
    {
     "name": "stdout",
     "output_type": "stream",
     "text": [
      "================\n",
      "Configuration:\n",
      "C: 0.5564901778521297\n",
      "Tolerance: 0.0984665008158082\n",
      "Solver: sag\n",
      "Oversampling Method: none\n",
      "----------------\n"
     ]
    },
    {
     "name": "stderr",
     "output_type": "stream",
     "text": [
      "[Parallel(n_jobs=1)]: Using backend SequentialBackend with 1 concurrent workers.\n",
      "[Parallel(n_jobs=1)]: Done   1 out of   1 | elapsed:    0.1s finished\n"
     ]
    },
    {
     "name": "stdout",
     "output_type": "stream",
     "text": [
      "convergence after 5 epochs took 0 seconds\n"
     ]
    },
    {
     "name": "stderr",
     "output_type": "stream",
     "text": [
      "[Parallel(n_jobs=1)]: Using backend SequentialBackend with 1 concurrent workers.\n",
      "[Parallel(n_jobs=1)]: Done   1 out of   1 | elapsed:    0.1s finished\n"
     ]
    },
    {
     "name": "stdout",
     "output_type": "stream",
     "text": [
      "convergence after 4 epochs took 0 seconds\n"
     ]
    },
    {
     "name": "stderr",
     "output_type": "stream",
     "text": [
      "[Parallel(n_jobs=1)]: Using backend SequentialBackend with 1 concurrent workers.\n"
     ]
    },
    {
     "name": "stdout",
     "output_type": "stream",
     "text": [
      "convergence after 5 epochs took 0 seconds\n",
      "Results: -0.8581883120798776\n",
      "================\n"
     ]
    },
    {
     "name": "stderr",
     "output_type": "stream",
     "text": [
      "[Parallel(n_jobs=1)]: Done   1 out of   1 | elapsed:    0.1s finished\n"
     ]
    },
    {
     "name": "stdout",
     "output_type": "stream",
     "text": [
      "================\n",
      "Configuration:\n",
      "C: 3.0\n",
      "Tolerance: 0.01899416369094705\n",
      "Solver: saga\n",
      "Oversampling Method: ada\n",
      "----------------\n"
     ]
    },
    {
     "name": "stderr",
     "output_type": "stream",
     "text": [
      "[Parallel(n_jobs=1)]: Using backend SequentialBackend with 1 concurrent workers.\n"
     ]
    },
    {
     "name": "stdout",
     "output_type": "stream",
     "text": [
      "convergence after 14 epochs took 0 seconds\n"
     ]
    },
    {
     "name": "stderr",
     "output_type": "stream",
     "text": [
      "[Parallel(n_jobs=1)]: Done   1 out of   1 | elapsed:    0.4s finished\n",
      "[Parallel(n_jobs=1)]: Using backend SequentialBackend with 1 concurrent workers.\n"
     ]
    },
    {
     "name": "stdout",
     "output_type": "stream",
     "text": [
      "convergence after 13 epochs took 1 seconds\n"
     ]
    },
    {
     "name": "stderr",
     "output_type": "stream",
     "text": [
      "[Parallel(n_jobs=1)]: Done   1 out of   1 | elapsed:    0.4s finished\n",
      "[Parallel(n_jobs=1)]: Using backend SequentialBackend with 1 concurrent workers.\n"
     ]
    },
    {
     "name": "stdout",
     "output_type": "stream",
     "text": [
      "convergence after 13 epochs took 0 seconds\n",
      "Results: -0.8589849161598465\n",
      "================\n"
     ]
    },
    {
     "name": "stderr",
     "output_type": "stream",
     "text": [
      "[Parallel(n_jobs=1)]: Done   1 out of   1 | elapsed:    0.3s finished\n"
     ]
    },
    {
     "name": "stdout",
     "output_type": "stream",
     "text": [
      "================\n",
      "Configuration:\n",
      "C: 1.4746619645063919\n",
      "Tolerance: 0.0001\n",
      "Solver: newton-cholesky\n",
      "Oversampling Method: ada\n",
      "----------------\n",
      "Newton iter=1\n",
      "  Check Convergence\n",
      "    1. max |gradient| 0.028178774366096154 <= 0.0001\n",
      "Newton iter=2\n",
      "  Check Convergence\n",
      "    1. max |gradient| 0.005668012476830906 <= 0.0001\n",
      "Newton iter=3\n",
      "  Check Convergence\n",
      "    1. max |gradient| 0.0014597770176478539 <= 0.0001\n",
      "Newton iter=4\n",
      "  Check Convergence\n",
      "    1. max |gradient| 0.0003580967937899005 <= 0.0001\n",
      "Newton iter=5\n",
      "  Check Convergence\n",
      "    1. max |gradient| 3.737857939582148e-05 <= 0.0001\n",
      "    2. Newton decrement 6.403435553698842e-05 <= 0.0001\n",
      "  Solver did converge at loss = 0.4660071988967422.\n",
      "Newton iter=1\n",
      "  Check Convergence\n",
      "    1. max |gradient| 0.034149419983608084 <= 0.0001\n",
      "Newton iter=2\n"
     ]
    },
    {
     "name": "stderr",
     "output_type": "stream",
     "text": [
      "[Parallel(n_jobs=1)]: Using backend SequentialBackend with 1 concurrent workers.\n",
      "[Parallel(n_jobs=1)]: Done   1 out of   1 | elapsed:    0.0s finished\n",
      "[Parallel(n_jobs=1)]: Using backend SequentialBackend with 1 concurrent workers.\n",
      "[Parallel(n_jobs=1)]: Done   1 out of   1 | elapsed:    0.0s finished\n"
     ]
    },
    {
     "name": "stdout",
     "output_type": "stream",
     "text": [
      "  Check Convergence\n",
      "    1. max |gradient| 0.006539119221759776 <= 0.0001\n",
      "Newton iter=3\n",
      "  Check Convergence\n",
      "    1. max |gradient| 0.0009843750868170338 <= 0.0001\n",
      "Newton iter=4\n",
      "  Check Convergence\n",
      "    1. max |gradient| 0.0001810395333880846 <= 0.0001\n",
      "Newton iter=5\n",
      "  Check Convergence\n",
      "    1. max |gradient| 1.557738405274893e-05 <= 0.0001\n",
      "    2. Newton decrement 2.3656804443858117e-05 <= 0.0001\n",
      "  Solver did converge at loss = 0.4584322005815407.\n",
      "Newton iter=1\n",
      "  Check Convergence\n",
      "    1. max |gradient| 0.035297160083132946 <= 0.0001\n",
      "Newton iter=2\n",
      "  Check Convergence\n",
      "    1. max |gradient| 0.0069815700266698975 <= 0.0001\n",
      "Newton iter=3\n",
      "  Check Convergence\n",
      "    1. max |gradient| 0.0010960517436622863 <= 0.0001\n",
      "Newton iter=4\n",
      "  Check Convergence\n",
      "    1. max |gradient| 0.00023430826319211341 <= 0.0001\n",
      "Newton iter=5\n",
      "  Check Convergence\n",
      "    1. max |gradient| 2.193792500548679e-05 <= 0.0001\n",
      "    2. Newton decrement 3.320644531407329e-05 <= 0.0001\n",
      "  Solver did converge at loss = 0.45412268330684746.\n",
      "Results: -0.859622405290741\n",
      "================\n"
     ]
    },
    {
     "name": "stderr",
     "output_type": "stream",
     "text": [
      "[Parallel(n_jobs=1)]: Using backend SequentialBackend with 1 concurrent workers.\n",
      "[Parallel(n_jobs=1)]: Done   1 out of   1 | elapsed:    0.0s finished\n"
     ]
    },
    {
     "name": "stdout",
     "output_type": "stream",
     "text": [
      "================\n",
      "Configuration:\n",
      "C: 1.4624615421164464\n",
      "Tolerance: 0.0001\n",
      "Solver: newton-cholesky\n",
      "Oversampling Method: ada\n",
      "----------------\n",
      "Newton iter=1\n",
      "  Check Convergence\n",
      "    1. max |gradient| 0.028177665922313296 <= 0.0001\n",
      "Newton iter=2\n",
      "  Check Convergence\n",
      "    1. max |gradient| 0.005666856432865827 <= 0.0001\n",
      "Newton iter=3\n",
      "  Check Convergence\n",
      "    1. max |gradient| 0.001457665132288075 <= 0.0001\n",
      "Newton iter=4\n",
      "  Check Convergence\n",
      "    1. max |gradient| 0.00035645079954591647 <= 0.0001\n",
      "Newton iter=5\n",
      "  Check Convergence\n",
      "    1. max |gradient| 3.6898324478044366e-05 <= 0.0001\n",
      "    2. Newton decrement 6.32551874032369e-05 <= 0.0001\n",
      "  Solver did converge at loss = 0.4660322277582153.\n",
      "Newton iter=1\n"
     ]
    },
    {
     "name": "stderr",
     "output_type": "stream",
     "text": [
      "[Parallel(n_jobs=1)]: Using backend SequentialBackend with 1 concurrent workers.\n",
      "[Parallel(n_jobs=1)]: Done   1 out of   1 | elapsed:    0.0s finished\n",
      "[Parallel(n_jobs=1)]: Using backend SequentialBackend with 1 concurrent workers.\n"
     ]
    },
    {
     "name": "stdout",
     "output_type": "stream",
     "text": [
      "  Check Convergence\n",
      "    1. max |gradient| 0.03414863099054491 <= 0.0001\n",
      "Newton iter=2\n",
      "  Check Convergence\n",
      "    1. max |gradient| 0.006538070934709484 <= 0.0001\n",
      "Newton iter=3\n",
      "  Check Convergence\n",
      "    1. max |gradient| 0.000982614934630501 <= 0.0001\n",
      "Newton iter=4\n",
      "  Check Convergence\n",
      "    1. max |gradient| 0.00017971228574678068 <= 0.0001\n",
      "Newton iter=5\n",
      "  Check Convergence\n",
      "    1. max |gradient| 1.53006624305993e-05 <= 0.0001\n",
      "    2. Newton decrement 2.3272100815205068e-05 <= 0.0001\n",
      "  Solver did converge at loss = 0.4584530681643984.\n",
      "Newton iter=1\n",
      "  Check Convergence\n",
      "    1. max |gradient| 0.03529640415349392 <= 0.0001\n",
      "Newton iter=2\n",
      "  Check Convergence\n",
      "    1. max |gradient| 0.00698066999590826 <= 0.0001\n",
      "Newton iter=3\n",
      "  Check Convergence\n",
      "    1. max |gradient| 0.0010941699926473795 <= 0.0001\n",
      "Newton iter=4\n",
      "  Check Convergence\n",
      "    1. max |gradient| 0.0002330277677730295 <= 0.0001\n",
      "Newton iter=5\n"
     ]
    },
    {
     "name": "stderr",
     "output_type": "stream",
     "text": [
      "[Parallel(n_jobs=1)]: Done   1 out of   1 | elapsed:    0.0s finished\n",
      "[Parallel(n_jobs=1)]: Using backend SequentialBackend with 1 concurrent workers.\n",
      "[Parallel(n_jobs=1)]: Done   1 out of   1 | elapsed:    0.0s finished\n"
     ]
    },
    {
     "name": "stdout",
     "output_type": "stream",
     "text": [
      "  Check Convergence\n",
      "    1. max |gradient| 2.158354388050697e-05 <= 0.0001\n",
      "    2. Newton decrement 3.271052331830475e-05 <= 0.0001\n",
      "  Solver did converge at loss = 0.45414348369595636.\n",
      "Results: -0.8596206876538538\n",
      "================\n",
      "================\n",
      "Configuration:\n",
      "C: 1.7914804672805726\n",
      "Tolerance: 0.01773196373574589\n",
      "Solver: newton-cg\n",
      "Oversampling Method: ada\n",
      "----------------\n"
     ]
    },
    {
     "name": "stderr",
     "output_type": "stream",
     "text": [
      "[Parallel(n_jobs=1)]: Using backend SequentialBackend with 1 concurrent workers.\n",
      "[Parallel(n_jobs=1)]: Done   1 out of   1 | elapsed:    0.0s finished\n",
      "[Parallel(n_jobs=1)]: Using backend SequentialBackend with 1 concurrent workers.\n",
      "[Parallel(n_jobs=1)]: Done   1 out of   1 | elapsed:    0.0s finished\n",
      "[Parallel(n_jobs=1)]: Using backend SequentialBackend with 1 concurrent workers.\n",
      "[Parallel(n_jobs=1)]: Done   1 out of   1 | elapsed:    0.0s finished\n"
     ]
    },
    {
     "name": "stdout",
     "output_type": "stream",
     "text": [
      "Results: -0.8267591443566505\n",
      "================\n",
      "================\n",
      "Configuration:\n",
      "C: 1.0542883510288605\n",
      "Tolerance: 0.0001\n",
      "Solver: newton-cg\n",
      "Oversampling Method: ada\n",
      "----------------\n"
     ]
    },
    {
     "name": "stderr",
     "output_type": "stream",
     "text": [
      "[Parallel(n_jobs=1)]: Using backend SequentialBackend with 1 concurrent workers.\n",
      "[Parallel(n_jobs=1)]: Done   1 out of   1 | elapsed:    0.1s finished\n",
      "[Parallel(n_jobs=1)]: Using backend SequentialBackend with 1 concurrent workers.\n",
      "[Parallel(n_jobs=1)]: Done   1 out of   1 | elapsed:    0.1s finished\n",
      "[Parallel(n_jobs=1)]: Using backend SequentialBackend with 1 concurrent workers.\n",
      "[Parallel(n_jobs=1)]: Done   1 out of   1 | elapsed:    0.1s finished\n"
     ]
    },
    {
     "name": "stdout",
     "output_type": "stream",
     "text": [
      "Results: -0.8595295119665449\n",
      "================\n",
      "================\n",
      "Configuration:\n",
      "C: 1.2495963916002764\n",
      "Tolerance: 0.0001\n",
      "Solver: sag\n",
      "Oversampling Method: none\n",
      "----------------\n"
     ]
    },
    {
     "name": "stderr",
     "output_type": "stream",
     "text": [
      "[Parallel(n_jobs=1)]: Using backend SequentialBackend with 1 concurrent workers.\n"
     ]
    },
    {
     "name": "stdout",
     "output_type": "stream",
     "text": [
      "convergence after 149 epochs took 5 seconds\n"
     ]
    },
    {
     "name": "stderr",
     "output_type": "stream",
     "text": [
      "[Parallel(n_jobs=1)]: Done   1 out of   1 | elapsed:    4.9s finished\n",
      "[Parallel(n_jobs=1)]: Using backend SequentialBackend with 1 concurrent workers.\n"
     ]
    },
    {
     "name": "stdout",
     "output_type": "stream",
     "text": [
      "convergence after 184 epochs took 6 seconds\n"
     ]
    },
    {
     "name": "stderr",
     "output_type": "stream",
     "text": [
      "[Parallel(n_jobs=1)]: Done   1 out of   1 | elapsed:    6.7s finished\n",
      "[Parallel(n_jobs=1)]: Using backend SequentialBackend with 1 concurrent workers.\n"
     ]
    },
    {
     "name": "stdout",
     "output_type": "stream",
     "text": [
      "convergence after 187 epochs took 8 seconds\n",
      "Results: -0.8595831264564738\n",
      "================\n"
     ]
    },
    {
     "name": "stderr",
     "output_type": "stream",
     "text": [
      "[Parallel(n_jobs=1)]: Done   1 out of   1 | elapsed:    7.1s finished\n"
     ]
    },
    {
     "name": "stdout",
     "output_type": "stream",
     "text": [
      "================\n",
      "Configuration:\n",
      "C: 2.462284185955337\n",
      "Tolerance: 0.04630619170935882\n",
      "Solver: newton-cholesky\n",
      "Oversampling Method: ada\n",
      "----------------\n",
      "Newton iter=1\n",
      "  Check Convergence\n",
      "    1. max |gradient| 0.02823911672034726 <= 0.04630619170935882\n",
      "    2. Newton decrement 0.17213839287907454 <= 0.04630619170935882\n",
      "Newton iter=2\n",
      "  Check Convergence\n",
      "    1. max |gradient| 0.0057272687028113705 <= 0.04630619170935882\n",
      "    2. Newton decrement 0.022248054038322394 <= 0.04630619170935882\n",
      "  Solver did converge at loss = 0.47133963177837374.\n",
      "Newton iter=1\n"
     ]
    },
    {
     "name": "stderr",
     "output_type": "stream",
     "text": [
      "[Parallel(n_jobs=1)]: Using backend SequentialBackend with 1 concurrent workers.\n",
      "[Parallel(n_jobs=1)]: Done   1 out of   1 | elapsed:    0.0s finished\n",
      "[Parallel(n_jobs=1)]: Using backend SequentialBackend with 1 concurrent workers.\n",
      "[Parallel(n_jobs=1)]: Done   1 out of   1 | elapsed:    0.0s finished\n"
     ]
    },
    {
     "name": "stdout",
     "output_type": "stream",
     "text": [
      "  Check Convergence\n",
      "    1. max |gradient| 0.034189024963690536 <= 0.04630619170935882\n",
      "    2. Newton decrement 0.18124044415162116 <= 0.04630619170935882\n",
      "Newton iter=2\n",
      "  Check Convergence\n",
      "    1. max |gradient| 0.006591398444343704 <= 0.04630619170935882\n",
      "    2. Newton decrement 0.021826440035747487 <= 0.04630619170935882\n",
      "  Solver did converge at loss = 0.4624351602291465.\n",
      "Newton iter=1\n",
      "  Check Convergence\n",
      "    1. max |gradient| 0.03533499646940732 <= 0.04630619170935882\n",
      "    2. Newton decrement 0.18280615922784532 <= 0.04630619170935882\n",
      "Newton iter=2\n",
      "  Check Convergence\n",
      "    1. max |gradient| 0.007026511491410419 <= 0.04630619170935882\n",
      "    2. Newton decrement 0.022946016571198366 <= 0.04630619170935882\n",
      "  Solver did converge at loss = 0.4587440136282582.\n",
      "Results: -0.8581823365492364\n",
      "================\n"
     ]
    },
    {
     "name": "stderr",
     "output_type": "stream",
     "text": [
      "[Parallel(n_jobs=1)]: Using backend SequentialBackend with 1 concurrent workers.\n",
      "[Parallel(n_jobs=1)]: Done   1 out of   1 | elapsed:    0.0s finished\n"
     ]
    },
    {
     "name": "stdout",
     "output_type": "stream",
     "text": [
      "================\n",
      "Configuration:\n",
      "C: 2.3538988763985254\n",
      "Tolerance: 0.0001\n",
      "Solver: sag\n",
      "Oversampling Method: ada\n",
      "----------------\n"
     ]
    },
    {
     "name": "stderr",
     "output_type": "stream",
     "text": [
      "[Parallel(n_jobs=1)]: Using backend SequentialBackend with 1 concurrent workers.\n"
     ]
    },
    {
     "name": "stdout",
     "output_type": "stream",
     "text": [
      "convergence after 152 epochs took 6 seconds\n"
     ]
    },
    {
     "name": "stderr",
     "output_type": "stream",
     "text": [
      "[Parallel(n_jobs=1)]: Done   1 out of   1 | elapsed:    5.9s finished\n",
      "[Parallel(n_jobs=1)]: Using backend SequentialBackend with 1 concurrent workers.\n"
     ]
    },
    {
     "name": "stdout",
     "output_type": "stream",
     "text": [
      "max_iter reached after 9 seconds\n"
     ]
    },
    {
     "name": "stderr",
     "output_type": "stream",
     "text": [
      "C:\\Users\\Aaron\\AppData\\Roaming\\Python\\Python311\\site-packages\\sklearn\\linear_model\\_sag.py:350: ConvergenceWarning: The max_iter was reached which means the coef_ did not converge\n",
      "  warnings.warn(\n",
      "[Parallel(n_jobs=1)]: Done   1 out of   1 | elapsed:    9.2s finished\n",
      "[Parallel(n_jobs=1)]: Using backend SequentialBackend with 1 concurrent workers.\n"
     ]
    },
    {
     "name": "stdout",
     "output_type": "stream",
     "text": [
      "max_iter reached after 9 seconds\n",
      "Results: -0.8597151693798374\n",
      "================\n"
     ]
    },
    {
     "name": "stderr",
     "output_type": "stream",
     "text": [
      "C:\\Users\\Aaron\\AppData\\Roaming\\Python\\Python311\\site-packages\\sklearn\\linear_model\\_sag.py:350: ConvergenceWarning: The max_iter was reached which means the coef_ did not converge\n",
      "  warnings.warn(\n",
      "[Parallel(n_jobs=1)]: Done   1 out of   1 | elapsed:    9.3s finished\n"
     ]
    },
    {
     "name": "stdout",
     "output_type": "stream",
     "text": [
      "================\n",
      "Configuration:\n",
      "C: 2.7886671715970945\n",
      "Tolerance: 0.0350993368941998\n",
      "Solver: sag\n",
      "Oversampling Method: none\n",
      "----------------\n"
     ]
    },
    {
     "name": "stderr",
     "output_type": "stream",
     "text": [
      "[Parallel(n_jobs=1)]: Using backend SequentialBackend with 1 concurrent workers.\n"
     ]
    },
    {
     "name": "stdout",
     "output_type": "stream",
     "text": [
      "convergence after 8 epochs took 0 seconds\n"
     ]
    },
    {
     "name": "stderr",
     "output_type": "stream",
     "text": [
      "[Parallel(n_jobs=1)]: Done   1 out of   1 | elapsed:    0.4s finished\n",
      "[Parallel(n_jobs=1)]: Using backend SequentialBackend with 1 concurrent workers.\n"
     ]
    },
    {
     "name": "stdout",
     "output_type": "stream",
     "text": [
      "convergence after 9 epochs took 1 seconds\n"
     ]
    },
    {
     "name": "stderr",
     "output_type": "stream",
     "text": [
      "[Parallel(n_jobs=1)]: Done   1 out of   1 | elapsed:    0.2s finished\n",
      "[Parallel(n_jobs=1)]: Using backend SequentialBackend with 1 concurrent workers.\n"
     ]
    },
    {
     "name": "stdout",
     "output_type": "stream",
     "text": [
      "convergence after 8 epochs took 0 seconds\n",
      "Results: -0.8591466187462758\n",
      "================\n"
     ]
    },
    {
     "name": "stderr",
     "output_type": "stream",
     "text": [
      "[Parallel(n_jobs=1)]: Done   1 out of   1 | elapsed:    0.1s finished\n"
     ]
    },
    {
     "name": "stdout",
     "output_type": "stream",
     "text": [
      "================\n",
      "Configuration:\n",
      "C: 0.7359625948984528\n",
      "Tolerance: 0.09402344609898912\n",
      "Solver: sag\n",
      "Oversampling Method: none\n",
      "----------------\n"
     ]
    },
    {
     "name": "stderr",
     "output_type": "stream",
     "text": [
      "[Parallel(n_jobs=1)]: Using backend SequentialBackend with 1 concurrent workers.\n",
      "[Parallel(n_jobs=1)]: Done   1 out of   1 | elapsed:    0.1s finished\n"
     ]
    },
    {
     "name": "stdout",
     "output_type": "stream",
     "text": [
      "convergence after 4 epochs took 0 seconds\n"
     ]
    },
    {
     "name": "stderr",
     "output_type": "stream",
     "text": [
      "[Parallel(n_jobs=1)]: Using backend SequentialBackend with 1 concurrent workers.\n",
      "[Parallel(n_jobs=1)]: Done   1 out of   1 | elapsed:    0.1s finished\n",
      "[Parallel(n_jobs=1)]: Using backend SequentialBackend with 1 concurrent workers.\n"
     ]
    },
    {
     "name": "stdout",
     "output_type": "stream",
     "text": [
      "convergence after 5 epochs took 0 seconds\n",
      "convergence after 4 epochs took 0 seconds\n",
      "Results: -0.8577154911806941\n",
      "================\n"
     ]
    },
    {
     "name": "stderr",
     "output_type": "stream",
     "text": [
      "[Parallel(n_jobs=1)]: Done   1 out of   1 | elapsed:    0.0s finished\n"
     ]
    },
    {
     "name": "stdout",
     "output_type": "stream",
     "text": [
      "================\n",
      "Configuration:\n",
      "C: 0.5982536465051517\n",
      "Tolerance: 0.09905912614905475\n",
      "Solver: newton-cholesky\n",
      "Oversampling Method: ada\n",
      "----------------\n",
      "Newton iter=1\n",
      "  Check Convergence\n",
      "    1. max |gradient| 0.028013283131789062 <= 0.09905912614905475\n",
      "    2. Newton decrement 0.17138889920898145 <= 0.09905912614905475\n",
      "Newton iter=2\n",
      "  Check Convergence\n",
      "    1. max |gradient| 0.0054859275439527195 <= 0.09905912614905475\n",
      "    2. Newton decrement 0.021100311247916254 <= 0.09905912614905475\n",
      "  Solver did converge at loss = 0.47414711306329366.\n",
      "Newton iter=1\n",
      "  Check Convergence\n",
      "    1. max |gradient| 0.03402044897369368 <= 0.09905912614905475\n",
      "    2. Newton decrement 0.18063772164916964 <= 0.09905912614905475\n",
      "Newton iter=2\n",
      "  Check Convergence\n",
      "    1. max |gradient| 0.00637107622033348 <= 0.09905912614905475\n",
      "    2. Newton decrement 0.02077701450952513 <= 0.09905912614905475\n",
      "  Solver did converge at loss = 0.46489620517783015.\n",
      "Newton iter=1\n",
      "  Check Convergence\n",
      "    1. max |gradient| 0.03517252473026007 <= 0.09905912614905475\n",
      "    2. Newton decrement 0.18224852219227633 <= 0.09905912614905475\n",
      "Newton iter=2\n"
     ]
    },
    {
     "name": "stderr",
     "output_type": "stream",
     "text": [
      "[Parallel(n_jobs=1)]: Using backend SequentialBackend with 1 concurrent workers.\n",
      "[Parallel(n_jobs=1)]: Done   1 out of   1 | elapsed:    0.0s finished\n",
      "[Parallel(n_jobs=1)]: Using backend SequentialBackend with 1 concurrent workers.\n",
      "[Parallel(n_jobs=1)]: Done   1 out of   1 | elapsed:    0.0s finished\n",
      "[Parallel(n_jobs=1)]: Using backend SequentialBackend with 1 concurrent workers.\n"
     ]
    },
    {
     "name": "stdout",
     "output_type": "stream",
     "text": [
      "  Check Convergence\n",
      "    1. max |gradient| 0.0068351713089829175 <= 0.09905912614905475\n",
      "    2. Newton decrement 0.021940654120235232 <= 0.09905912614905475\n",
      "  Solver did converge at loss = 0.46108832403822786.\n",
      "Results: -0.8578642991500107\n",
      "================\n"
     ]
    },
    {
     "name": "stderr",
     "output_type": "stream",
     "text": [
      "[Parallel(n_jobs=1)]: Done   1 out of   1 | elapsed:    0.0s finished\n"
     ]
    },
    {
     "name": "stdout",
     "output_type": "stream",
     "text": [
      "================\n",
      "Configuration:\n",
      "C: 0.36263686191269984\n",
      "Tolerance: 0.07994964356933565\n",
      "Solver: sag\n",
      "Oversampling Method: ada\n",
      "----------------\n",
      "convergence after 5 epochs took 0 seconds\n"
     ]
    },
    {
     "name": "stderr",
     "output_type": "stream",
     "text": [
      "[Parallel(n_jobs=1)]: Using backend SequentialBackend with 1 concurrent workers.\n",
      "[Parallel(n_jobs=1)]: Done   1 out of   1 | elapsed:    0.0s finished\n",
      "[Parallel(n_jobs=1)]: Using backend SequentialBackend with 1 concurrent workers.\n"
     ]
    },
    {
     "name": "stdout",
     "output_type": "stream",
     "text": [
      "convergence after 5 epochs took 0 seconds\n",
      "convergence after 4 epochs took 0 seconds\n",
      "Results: -0.8582588786855595\n",
      "================\n"
     ]
    },
    {
     "name": "stderr",
     "output_type": "stream",
     "text": [
      "[Parallel(n_jobs=1)]: Done   1 out of   1 | elapsed:    0.0s finished\n",
      "[Parallel(n_jobs=1)]: Using backend SequentialBackend with 1 concurrent workers.\n",
      "[Parallel(n_jobs=1)]: Done   1 out of   1 | elapsed:    0.0s finished\n"
     ]
    },
    {
     "name": "stdout",
     "output_type": "stream",
     "text": [
      "================\n",
      "Configuration:\n",
      "C: 2.3297621045579495\n",
      "Tolerance: 0.08936879755481997\n",
      "Solver: sag\n",
      "Oversampling Method: ada\n",
      "----------------\n",
      "convergence after 5 epochs took 0 seconds\n"
     ]
    },
    {
     "name": "stderr",
     "output_type": "stream",
     "text": [
      "[Parallel(n_jobs=1)]: Using backend SequentialBackend with 1 concurrent workers.\n",
      "[Parallel(n_jobs=1)]: Done   1 out of   1 | elapsed:    0.1s finished\n",
      "[Parallel(n_jobs=1)]: Using backend SequentialBackend with 1 concurrent workers.\n",
      "[Parallel(n_jobs=1)]: Done   1 out of   1 | elapsed:    0.1s finished\n"
     ]
    },
    {
     "name": "stdout",
     "output_type": "stream",
     "text": [
      "convergence after 5 epochs took 0 seconds\n"
     ]
    },
    {
     "name": "stderr",
     "output_type": "stream",
     "text": [
      "[Parallel(n_jobs=1)]: Using backend SequentialBackend with 1 concurrent workers.\n"
     ]
    },
    {
     "name": "stdout",
     "output_type": "stream",
     "text": [
      "convergence after 6 epochs took 1 seconds\n",
      "Results: -0.8591797451321774\n",
      "================\n"
     ]
    },
    {
     "name": "stderr",
     "output_type": "stream",
     "text": [
      "[Parallel(n_jobs=1)]: Done   1 out of   1 | elapsed:    0.3s finished\n"
     ]
    },
    {
     "name": "stdout",
     "output_type": "stream",
     "text": [
      "================\n",
      "Configuration:\n",
      "C: 1.6258590631334935\n",
      "Tolerance: 0.0001\n",
      "Solver: lbfgs\n",
      "Oversampling Method: none\n",
      "----------------\n"
     ]
    },
    {
     "name": "stderr",
     "output_type": "stream",
     "text": [
      "[Parallel(n_jobs=1)]: Using backend SequentialBackend with 1 concurrent workers.\n",
      "[Parallel(n_jobs=1)]: Done   1 out of   1 | elapsed:    0.2s finished\n",
      "[Parallel(n_jobs=1)]: Using backend SequentialBackend with 1 concurrent workers.\n",
      "[Parallel(n_jobs=1)]: Done   1 out of   1 | elapsed:    0.5s finished\n",
      "[Parallel(n_jobs=1)]: Using backend SequentialBackend with 1 concurrent workers.\n",
      "[Parallel(n_jobs=1)]: Done   1 out of   1 | elapsed:    0.3s finished\n"
     ]
    },
    {
     "name": "stdout",
     "output_type": "stream",
     "text": [
      "Results: -0.8596149675314105\n",
      "================\n",
      "================\n",
      "Configuration:\n",
      "C: 1.742217632358934\n",
      "Tolerance: 0.014447396980269119\n",
      "Solver: lbfgs\n",
      "Oversampling Method: ada\n",
      "----------------\n"
     ]
    },
    {
     "name": "stderr",
     "output_type": "stream",
     "text": [
      "[Parallel(n_jobs=1)]: Using backend SequentialBackend with 1 concurrent workers.\n",
      "[Parallel(n_jobs=1)]: Done   1 out of   1 | elapsed:    0.0s finished\n",
      "[Parallel(n_jobs=1)]: Using backend SequentialBackend with 1 concurrent workers.\n",
      "[Parallel(n_jobs=1)]: Done   1 out of   1 | elapsed:    0.0s finished\n",
      "[Parallel(n_jobs=1)]: Using backend SequentialBackend with 1 concurrent workers.\n",
      "[Parallel(n_jobs=1)]: Done   1 out of   1 | elapsed:    0.0s finished\n"
     ]
    },
    {
     "name": "stdout",
     "output_type": "stream",
     "text": [
      "Results: -0.818562036244446\n",
      "================\n",
      "================\n",
      "Configuration:\n",
      "C: 0.5092108289081636\n",
      "Tolerance: 0.08556906795192905\n",
      "Solver: sag\n",
      "Oversampling Method: ada\n",
      "----------------\n"
     ]
    },
    {
     "name": "stderr",
     "output_type": "stream",
     "text": [
      "[Parallel(n_jobs=1)]: Using backend SequentialBackend with 1 concurrent workers.\n",
      "[Parallel(n_jobs=1)]: Done   1 out of   1 | elapsed:    0.1s finished\n"
     ]
    },
    {
     "name": "stdout",
     "output_type": "stream",
     "text": [
      "convergence after 4 epochs took 0 seconds\n"
     ]
    },
    {
     "name": "stderr",
     "output_type": "stream",
     "text": [
      "[Parallel(n_jobs=1)]: Using backend SequentialBackend with 1 concurrent workers.\n"
     ]
    },
    {
     "name": "stdout",
     "output_type": "stream",
     "text": [
      "convergence after 5 epochs took 0 seconds\n"
     ]
    },
    {
     "name": "stderr",
     "output_type": "stream",
     "text": [
      "[Parallel(n_jobs=1)]: Done   1 out of   1 | elapsed:    0.1s finished\n",
      "[Parallel(n_jobs=1)]: Using backend SequentialBackend with 1 concurrent workers.\n"
     ]
    },
    {
     "name": "stdout",
     "output_type": "stream",
     "text": [
      "convergence after 5 epochs took 1 seconds\n",
      "Results: -0.858473985408347\n",
      "================\n"
     ]
    },
    {
     "name": "stderr",
     "output_type": "stream",
     "text": [
      "[Parallel(n_jobs=1)]: Done   1 out of   1 | elapsed:    0.1s finished\n"
     ]
    },
    {
     "name": "stdout",
     "output_type": "stream",
     "text": [
      "================\n",
      "Configuration:\n",
      "C: 2.148437964722485\n",
      "Tolerance: 0.0001\n",
      "Solver: liblinear\n",
      "Oversampling Method: none\n",
      "----------------\n",
      "[LibLinear][LibLinear][LibLinear]Results: -0.8597156300330197\n",
      "================\n",
      "================\n",
      "Configuration:\n",
      "C: 3.0\n",
      "Tolerance: 0.03390089449387532\n",
      "Solver: liblinear\n",
      "Oversampling Method: none\n",
      "----------------\n",
      "[LibLinear][LibLinear][LibLinear]Results: -0.858633823544003\n",
      "================\n",
      "================\n",
      "Configuration:\n",
      "C: 1.2520258096336205\n",
      "Tolerance: 0.0001\n",
      "Solver: liblinear\n",
      "Oversampling Method: none\n",
      "----------------\n",
      "[LibLinear][LibLinear][LibLinear]Results: -0.8595296963714079\n",
      "================\n",
      "================\n",
      "Configuration:\n",
      "C: 2.6791422194035124\n",
      "Tolerance: 0.008117912584424713\n",
      "Solver: liblinear\n",
      "Oversampling Method: ada\n",
      "----------------\n",
      "[LibLinear][LibLinear][LibLinear]Results: -0.859637978902319\n",
      "================\n",
      "================\n",
      "Configuration:\n",
      "C: 1.0739965524285489\n",
      "Tolerance: 0.0001\n",
      "Solver: liblinear\n",
      "Oversampling Method: none\n",
      "----------------\n",
      "[LibLinear][LibLinear][LibLinear]Results: -0.8594532155592388\n",
      "================\n",
      "================\n",
      "Configuration:\n",
      "C: 2.8232871384460454\n",
      "Tolerance: 0.03235584013540599\n",
      "Solver: newton-cholesky\n",
      "Oversampling Method: ada\n",
      "----------------\n",
      "Newton iter=1\n",
      "  Check Convergence\n",
      "    1. max |gradient| 0.028253329356833015 <= 0.03235584013540599\n",
      "    2. Newton decrement 0.17217878104156858 <= 0.03235584013540599\n",
      "Newton iter=2\n",
      "  Check Convergence\n",
      "    1. max |gradient| 0.005739971740459635 <= 0.03235584013540599\n",
      "    2. Newton decrement 0.022307565889767383 <= 0.03235584013540599\n",
      "  Solver did converge at loss = 0.47119195608366315.\n",
      "Newton iter=1\n",
      "  Check Convergence\n",
      "    1. max |gradient| 0.03419718391473044 <= 0.03235584013540599\n",
      "Newton iter=2\n",
      "  Check Convergence\n",
      "    1. max |gradient| 0.006601952009787892 <= 0.03235584013540599\n",
      "    2. Newton decrement 0.021878565185417885 <= 0.03235584013540599\n",
      "  Solver did converge at loss = 0.4623134745165967.\n"
     ]
    },
    {
     "name": "stderr",
     "output_type": "stream",
     "text": [
      "[Parallel(n_jobs=1)]: Using backend SequentialBackend with 1 concurrent workers.\n",
      "[Parallel(n_jobs=1)]: Done   1 out of   1 | elapsed:    0.0s finished\n",
      "[Parallel(n_jobs=1)]: Using backend SequentialBackend with 1 concurrent workers.\n",
      "[Parallel(n_jobs=1)]: Done   1 out of   1 | elapsed:    0.0s finished\n",
      "[Parallel(n_jobs=1)]: Using backend SequentialBackend with 1 concurrent workers.\n",
      "[Parallel(n_jobs=1)]: Done   1 out of   1 | elapsed:    0.0s finished\n"
     ]
    },
    {
     "name": "stdout",
     "output_type": "stream",
     "text": [
      "Newton iter=1\n",
      "  Check Convergence\n",
      "    1. max |gradient| 0.03534275070968096 <= 0.03235584013540599\n",
      "Newton iter=2\n",
      "  Check Convergence\n",
      "    1. max |gradient| 0.007035657603370077 <= 0.03235584013540599\n",
      "    2. Newton decrement 0.022994303485825433 <= 0.03235584013540599\n",
      "  Solver did converge at loss = 0.4586332553421268.\n",
      "Results: -0.8581964761947062\n",
      "================\n",
      "================\n",
      "Configuration:\n",
      "C: 2.3281448384149828\n",
      "Tolerance: 0.06199119709131228\n",
      "Solver: newton-cholesky\n",
      "Oversampling Method: ada\n",
      "----------------\n",
      "Newton iter=1\n",
      "  Check Convergence\n",
      "    1. max |gradient| 0.028233127812165644 <= 0.06199119709131228\n",
      "    2. Newton decrement 0.17212093253309552 <= 0.06199119709131228\n",
      "Newton iter=2\n",
      "  Check Convergence\n",
      "    1. max |gradient| 0.005721762914043972 <= 0.06199119709131228\n",
      "    2. Newton decrement 0.022221994756257933 <= 0.06199119709131228\n",
      "  Solver did converge at loss = 0.47140402732036996.\n",
      "Newton iter=1\n"
     ]
    },
    {
     "name": "stderr",
     "output_type": "stream",
     "text": [
      "[Parallel(n_jobs=1)]: Using backend SequentialBackend with 1 concurrent workers.\n",
      "[Parallel(n_jobs=1)]: Done   1 out of   1 | elapsed:    0.0s finished\n",
      "[Parallel(n_jobs=1)]: Using backend SequentialBackend with 1 concurrent workers.\n",
      "[Parallel(n_jobs=1)]: Done   1 out of   1 | elapsed:    0.0s finished\n"
     ]
    },
    {
     "name": "stdout",
     "output_type": "stream",
     "text": [
      "  Check Convergence\n",
      "    1. max |gradient| 0.03418543836653432 <= 0.06199119709131228\n",
      "    2. Newton decrement 0.18122777972187487 <= 0.06199119709131228\n",
      "Newton iter=2\n",
      "  Check Convergence\n",
      "    1. max |gradient| 0.006586722201240991 <= 0.06199119709131228\n",
      "    2. Newton decrement 0.021803421353767886 <= 0.06199119709131228\n",
      "  Solver did converge at loss = 0.46248883918998707.\n",
      "Newton iter=1\n",
      "  Check Convergence\n",
      "    1. max |gradient| 0.03533158137850822 <= 0.06199119709131228\n",
      "    2. Newton decrement 0.18279515096667226 <= 0.06199119709131228\n",
      "Newton iter=2\n",
      "  Check Convergence\n",
      "    1. max |gradient| 0.007022473606488997 <= 0.06199119709131228\n",
      "    2. Newton decrement 0.022924609795045608 <= 0.06199119709131228\n",
      "  Solver did converge at loss = 0.4587931878141251.\n",
      "Results: -0.8581765386045057\n",
      "================\n"
     ]
    },
    {
     "name": "stderr",
     "output_type": "stream",
     "text": [
      "[Parallel(n_jobs=1)]: Using backend SequentialBackend with 1 concurrent workers.\n",
      "[Parallel(n_jobs=1)]: Done   1 out of   1 | elapsed:    0.0s finished\n"
     ]
    },
    {
     "name": "stdout",
     "output_type": "stream",
     "text": [
      "================\n",
      "Configuration:\n",
      "C: 2.9999972083462287\n",
      "Tolerance: 0.007038144582001306\n",
      "Solver: lbfgs\n",
      "Oversampling Method: ada\n",
      "----------------\n"
     ]
    },
    {
     "name": "stderr",
     "output_type": "stream",
     "text": [
      "[Parallel(n_jobs=1)]: Using backend SequentialBackend with 1 concurrent workers.\n",
      "[Parallel(n_jobs=1)]: Done   1 out of   1 | elapsed:    0.0s finished\n",
      "[Parallel(n_jobs=1)]: Using backend SequentialBackend with 1 concurrent workers.\n",
      "[Parallel(n_jobs=1)]: Done   1 out of   1 | elapsed:    0.0s finished\n",
      "[Parallel(n_jobs=1)]: Using backend SequentialBackend with 1 concurrent workers.\n",
      "[Parallel(n_jobs=1)]: Done   1 out of   1 | elapsed:    0.0s finished\n"
     ]
    },
    {
     "name": "stdout",
     "output_type": "stream",
     "text": [
      "Results: -0.8314334377248956\n",
      "================\n",
      "================\n",
      "Configuration:\n",
      "C: 2.268452004834289\n",
      "Tolerance: 0.04577660695181151\n",
      "Solver: sag\n",
      "Oversampling Method: ada\n",
      "----------------\n"
     ]
    },
    {
     "name": "stderr",
     "output_type": "stream",
     "text": [
      "[Parallel(n_jobs=1)]: Using backend SequentialBackend with 1 concurrent workers.\n"
     ]
    },
    {
     "name": "stdout",
     "output_type": "stream",
     "text": [
      "convergence after 7 epochs took 0 seconds\n"
     ]
    },
    {
     "name": "stderr",
     "output_type": "stream",
     "text": [
      "[Parallel(n_jobs=1)]: Done   1 out of   1 | elapsed:    0.1s finished\n",
      "[Parallel(n_jobs=1)]: Using backend SequentialBackend with 1 concurrent workers.\n"
     ]
    },
    {
     "name": "stdout",
     "output_type": "stream",
     "text": [
      "convergence after 8 epochs took 1 seconds\n"
     ]
    },
    {
     "name": "stderr",
     "output_type": "stream",
     "text": [
      "[Parallel(n_jobs=1)]: Done   1 out of   1 | elapsed:    0.2s finished\n",
      "[Parallel(n_jobs=1)]: Using backend SequentialBackend with 1 concurrent workers.\n"
     ]
    },
    {
     "name": "stdout",
     "output_type": "stream",
     "text": [
      "convergence after 7 epochs took 0 seconds\n",
      "Results: -0.8594107981822318\n",
      "================\n"
     ]
    },
    {
     "name": "stderr",
     "output_type": "stream",
     "text": [
      "[Parallel(n_jobs=1)]: Done   1 out of   1 | elapsed:    0.2s finished\n"
     ]
    },
    {
     "name": "stdout",
     "output_type": "stream",
     "text": [
      "================\n",
      "Configuration:\n",
      "C: 2.3908195432255255\n",
      "Tolerance: 0.0001\n",
      "Solver: newton-cholesky\n",
      "Oversampling Method: none\n",
      "----------------\n",
      "Newton iter=1\n",
      "  Check Convergence\n",
      "    1. max |gradient| 0.02823598154461213 <= 0.0001\n",
      "Newton iter=2\n",
      "  Check Convergence\n",
      "    1. max |gradient| 0.005724397757970631 <= 0.0001\n",
      "Newton iter=3\n",
      "  Check Convergence\n",
      "    1. max |gradient| 0.0015639950158322167 <= 0.0001\n",
      "Newton iter=4\n",
      "  Check Convergence\n",
      "    1. max |gradient| 0.00044622440505336623 <= 0.0001\n",
      "Newton iter=5\n",
      "  Check Convergence\n",
      "    1. max |gradient| 7.030185591301759e-05 <= 0.0001\n",
      "    2. Newton decrement 0.00011687545212943153 <= 0.0001\n",
      "Newton iter=6\n",
      "  Check Convergence\n",
      "    1. max |gradient| 3.2880012386833635e-06 <= 0.0001\n",
      "    2. Newton decrement 4.3861549125698604e-06 <= 0.0001\n",
      "  Solver did converge at loss = 0.46473301584630883.\n"
     ]
    },
    {
     "name": "stderr",
     "output_type": "stream",
     "text": [
      "[Parallel(n_jobs=1)]: Using backend SequentialBackend with 1 concurrent workers.\n",
      "[Parallel(n_jobs=1)]: Done   1 out of   1 | elapsed:    0.0s finished\n",
      "[Parallel(n_jobs=1)]: Using backend SequentialBackend with 1 concurrent workers.\n"
     ]
    },
    {
     "name": "stdout",
     "output_type": "stream",
     "text": [
      "Newton iter=1\n",
      "  Check Convergence\n",
      "    1. max |gradient| 0.034187158123460556 <= 0.0001\n",
      "Newton iter=2\n",
      "  Check Convergence\n",
      "    1. max |gradient| 0.006588966899333761 <= 0.0001\n",
      "Newton iter=3\n",
      "  Check Convergence\n",
      "    1. max |gradient| 0.001071904300401816 <= 0.0001\n",
      "Newton iter=4\n",
      "  Check Convergence\n",
      "    1. max |gradient| 0.0002553026048143364 <= 0.0001\n",
      "Newton iter=5\n",
      "  Check Convergence\n",
      "    1. max |gradient| 3.681807904049386e-05 <= 0.0001\n",
      "    2. Newton decrement 5.2984827797569864e-05 <= 0.0001\n",
      "  Solver did converge at loss = 0.45738145171858186.\n",
      "Newton iter=1\n",
      "  Check Convergence\n",
      "    1. max |gradient| 0.03533321931214405 <= 0.0001\n",
      "Newton iter=2\n",
      "  Check Convergence\n",
      "    1. max |gradient| 0.007024410950356467 <= 0.0001\n",
      "Newton iter=3\n"
     ]
    },
    {
     "name": "stderr",
     "output_type": "stream",
     "text": [
      "[Parallel(n_jobs=1)]: Done   1 out of   1 | elapsed:    0.0s finished\n",
      "[Parallel(n_jobs=1)]: Using backend SequentialBackend with 1 concurrent workers.\n",
      "[Parallel(n_jobs=1)]: Done   1 out of   1 | elapsed:    0.0s finished\n"
     ]
    },
    {
     "name": "stdout",
     "output_type": "stream",
     "text": [
      "  Check Convergence\n",
      "    1. max |gradient| 0.001189310330846351 <= 0.0001\n",
      "Newton iter=4\n",
      "  Check Convergence\n",
      "    1. max |gradient| 0.0003042871789808836 <= 0.0001\n",
      "Newton iter=5\n",
      "  Check Convergence\n",
      "    1. max |gradient| 4.784592406982882e-05 <= 0.0001\n",
      "    2. Newton decrement 6.937720672127433e-05 <= 0.0001\n",
      "  Solver did converge at loss = 0.45308118030307043.\n",
      "Results: -0.8597104477670664\n",
      "================\n",
      "================\n",
      "Configuration:\n",
      "C: 3.0\n",
      "Tolerance: 0.06984063933314091\n",
      "Solver: newton-cholesky\n",
      "Oversampling Method: none\n",
      "----------------\n",
      "Newton iter=1\n",
      "  Check Convergence\n",
      "    1. max |gradient| 0.0282594792077637 <= 0.06984063933314091\n",
      "    2. Newton decrement 0.17219577724805477 <= 0.06984063933314091\n",
      "Newton iter=2\n",
      "  Check Convergence\n",
      "    1. max |gradient| 0.005745313002866469 <= 0.06984063933314091\n",
      "    2. Newton decrement 0.02233225734237848 <= 0.06984063933314091\n",
      "  Solver did converge at loss = 0.4711304012041946.\n",
      "Newton iter=1\n",
      "  Check Convergence\n",
      "    1. max |gradient| 0.034200556483618964 <= 0.06984063933314091\n",
      "    2. Newton decrement 0.18128099619944743 <= 0.06984063933314091\n",
      "Newton iter=2\n",
      "  Check Convergence\n",
      "    1. max |gradient| 0.006606273317286807 <= 0.06984063933314091\n",
      "    2. Newton decrement 0.021899980002729642 <= 0.06984063933314091\n",
      "  Solver did converge at loss = 0.4622634190334925.\n"
     ]
    },
    {
     "name": "stderr",
     "output_type": "stream",
     "text": [
      "[Parallel(n_jobs=1)]: Using backend SequentialBackend with 1 concurrent workers.\n",
      "[Parallel(n_jobs=1)]: Done   1 out of   1 | elapsed:    0.0s finished\n",
      "[Parallel(n_jobs=1)]: Using backend SequentialBackend with 1 concurrent workers.\n",
      "[Parallel(n_jobs=1)]: Done   1 out of   1 | elapsed:    0.0s finished\n",
      "[Parallel(n_jobs=1)]: Using backend SequentialBackend with 1 concurrent workers.\n"
     ]
    },
    {
     "name": "stdout",
     "output_type": "stream",
     "text": [
      "Newton iter=1\n",
      "  Check Convergence\n",
      "    1. max |gradient| 0.0353459483597149 <= 0.06984063933314091\n",
      "    2. Newton decrement 0.18284083738644571 <= 0.06984063933314091\n",
      "Newton iter=2\n",
      "  Check Convergence\n",
      "    1. max |gradient| 0.0070394199718326915 <= 0.06984063933314091\n",
      "    2. Newton decrement 0.023014054678116222 <= 0.06984063933314091\n",
      "  Solver did converge at loss = 0.45858802575017527.\n",
      "Results: -0.8582021047103142\n",
      "================\n"
     ]
    },
    {
     "name": "stderr",
     "output_type": "stream",
     "text": [
      "[Parallel(n_jobs=1)]: Done   1 out of   1 | elapsed:    0.0s finished\n"
     ]
    },
    {
     "name": "stdout",
     "output_type": "stream",
     "text": [
      "================\n",
      "Configuration:\n",
      "C: 1.559454958615698\n",
      "Tolerance: 0.08893012416172112\n",
      "Solver: sag\n",
      "Oversampling Method: ada\n",
      "----------------\n"
     ]
    },
    {
     "name": "stderr",
     "output_type": "stream",
     "text": [
      "[Parallel(n_jobs=1)]: Using backend SequentialBackend with 1 concurrent workers.\n"
     ]
    },
    {
     "name": "stdout",
     "output_type": "stream",
     "text": [
      "convergence after 5 epochs took 1 seconds\n"
     ]
    },
    {
     "name": "stderr",
     "output_type": "stream",
     "text": [
      "[Parallel(n_jobs=1)]: Done   1 out of   1 | elapsed:    0.1s finished\n",
      "[Parallel(n_jobs=1)]: Using backend SequentialBackend with 1 concurrent workers.\n"
     ]
    },
    {
     "name": "stdout",
     "output_type": "stream",
     "text": [
      "convergence after 5 epochs took 0 seconds\n"
     ]
    },
    {
     "name": "stderr",
     "output_type": "stream",
     "text": [
      "[Parallel(n_jobs=1)]: Done   1 out of   1 | elapsed:    0.1s finished\n",
      "[Parallel(n_jobs=1)]: Using backend SequentialBackend with 1 concurrent workers.\n"
     ]
    },
    {
     "name": "stdout",
     "output_type": "stream",
     "text": [
      "convergence after 5 epochs took 0 seconds\n",
      "Results: -0.8585186878545444\n",
      "================\n"
     ]
    },
    {
     "name": "stderr",
     "output_type": "stream",
     "text": [
      "[Parallel(n_jobs=1)]: Done   1 out of   1 | elapsed:    0.1s finished\n"
     ]
    },
    {
     "name": "stdout",
     "output_type": "stream",
     "text": [
      "================\n",
      "Configuration:\n",
      "C: 2.7134472155562532\n",
      "Tolerance: 0.011274737302194212\n",
      "Solver: sag\n",
      "Oversampling Method: none\n",
      "----------------\n"
     ]
    },
    {
     "name": "stderr",
     "output_type": "stream",
     "text": [
      "[Parallel(n_jobs=1)]: Using backend SequentialBackend with 1 concurrent workers.\n"
     ]
    },
    {
     "name": "stdout",
     "output_type": "stream",
     "text": [
      "convergence after 19 epochs took 1 seconds\n"
     ]
    },
    {
     "name": "stderr",
     "output_type": "stream",
     "text": [
      "[Parallel(n_jobs=1)]: Done   1 out of   1 | elapsed:    0.7s finished\n",
      "[Parallel(n_jobs=1)]: Using backend SequentialBackend with 1 concurrent workers.\n"
     ]
    },
    {
     "name": "stdout",
     "output_type": "stream",
     "text": [
      "convergence after 23 epochs took 1 seconds\n"
     ]
    },
    {
     "name": "stderr",
     "output_type": "stream",
     "text": [
      "[Parallel(n_jobs=1)]: Done   1 out of   1 | elapsed:    0.8s finished\n",
      "[Parallel(n_jobs=1)]: Using backend SequentialBackend with 1 concurrent workers.\n"
     ]
    },
    {
     "name": "stdout",
     "output_type": "stream",
     "text": [
      "convergence after 15 epochs took 0 seconds\n",
      "Results: -0.8596169856152316\n",
      "================\n"
     ]
    },
    {
     "name": "stderr",
     "output_type": "stream",
     "text": [
      "[Parallel(n_jobs=1)]: Done   1 out of   1 | elapsed:    0.5s finished\n"
     ]
    },
    {
     "name": "stdout",
     "output_type": "stream",
     "text": [
      "================\n",
      "Configuration:\n",
      "C: 0.49675488673517315\n",
      "Tolerance: 0.009732300441738305\n",
      "Solver: sag\n",
      "Oversampling Method: none\n",
      "----------------\n"
     ]
    },
    {
     "name": "stderr",
     "output_type": "stream",
     "text": [
      "[Parallel(n_jobs=1)]: Using backend SequentialBackend with 1 concurrent workers.\n"
     ]
    },
    {
     "name": "stdout",
     "output_type": "stream",
     "text": [
      "convergence after 19 epochs took 1 seconds\n"
     ]
    },
    {
     "name": "stderr",
     "output_type": "stream",
     "text": [
      "[Parallel(n_jobs=1)]: Done   1 out of   1 | elapsed:    0.6s finished\n",
      "[Parallel(n_jobs=1)]: Using backend SequentialBackend with 1 concurrent workers.\n"
     ]
    },
    {
     "name": "stdout",
     "output_type": "stream",
     "text": [
      "convergence after 22 epochs took 1 seconds\n"
     ]
    },
    {
     "name": "stderr",
     "output_type": "stream",
     "text": [
      "[Parallel(n_jobs=1)]: Done   1 out of   1 | elapsed:    0.6s finished\n",
      "[Parallel(n_jobs=1)]: Using backend SequentialBackend with 1 concurrent workers.\n"
     ]
    },
    {
     "name": "stdout",
     "output_type": "stream",
     "text": [
      "convergence after 22 epochs took 0 seconds\n",
      "Results: -0.8591284416832167\n",
      "================\n"
     ]
    },
    {
     "name": "stderr",
     "output_type": "stream",
     "text": [
      "[Parallel(n_jobs=1)]: Done   1 out of   1 | elapsed:    0.6s finished\n"
     ]
    },
    {
     "name": "stdout",
     "output_type": "stream",
     "text": [
      "================\n",
      "Configuration:\n",
      "C: 2.094249055350902\n",
      "Tolerance: 0.0001\n",
      "Solver: lbfgs\n",
      "Oversampling Method: none\n",
      "----------------\n"
     ]
    },
    {
     "name": "stderr",
     "output_type": "stream",
     "text": [
      "[Parallel(n_jobs=1)]: Using backend SequentialBackend with 1 concurrent workers.\n",
      "[Parallel(n_jobs=1)]: Done   1 out of   1 | elapsed:    0.2s finished\n",
      "[Parallel(n_jobs=1)]: Using backend SequentialBackend with 1 concurrent workers.\n",
      "[Parallel(n_jobs=1)]: Done   1 out of   1 | elapsed:    0.3s finished\n",
      "[Parallel(n_jobs=1)]: Using backend SequentialBackend with 1 concurrent workers.\n",
      "[Parallel(n_jobs=1)]: Done   1 out of   1 | elapsed:    0.2s finished\n"
     ]
    },
    {
     "name": "stdout",
     "output_type": "stream",
     "text": [
      "Results: -0.8597320445994375\n",
      "================\n",
      "================\n",
      "Configuration:\n",
      "C: 2.422855582598329\n",
      "Tolerance: 0.06649111695141789\n",
      "Solver: sag\n",
      "Oversampling Method: none\n",
      "----------------\n"
     ]
    },
    {
     "name": "stderr",
     "output_type": "stream",
     "text": [
      "[Parallel(n_jobs=1)]: Using backend SequentialBackend with 1 concurrent workers.\n",
      "[Parallel(n_jobs=1)]: Done   1 out of   1 | elapsed:    0.1s finished\n"
     ]
    },
    {
     "name": "stdout",
     "output_type": "stream",
     "text": [
      "convergence after 6 epochs took 0 seconds\n"
     ]
    },
    {
     "name": "stderr",
     "output_type": "stream",
     "text": [
      "[Parallel(n_jobs=1)]: Using backend SequentialBackend with 1 concurrent workers.\n"
     ]
    },
    {
     "name": "stdout",
     "output_type": "stream",
     "text": [
      "convergence after 6 epochs took 0 seconds\n"
     ]
    },
    {
     "name": "stderr",
     "output_type": "stream",
     "text": [
      "[Parallel(n_jobs=1)]: Done   1 out of   1 | elapsed:    0.1s finished\n",
      "[Parallel(n_jobs=1)]: Using backend SequentialBackend with 1 concurrent workers.\n"
     ]
    },
    {
     "name": "stdout",
     "output_type": "stream",
     "text": [
      "convergence after 6 epochs took 0 seconds\n",
      "Results: -0.8586723497243239\n",
      "================\n"
     ]
    },
    {
     "name": "stderr",
     "output_type": "stream",
     "text": [
      "[Parallel(n_jobs=1)]: Done   1 out of   1 | elapsed:    0.1s finished\n"
     ]
    },
    {
     "name": "stdout",
     "output_type": "stream",
     "text": [
      "================\n",
      "Configuration:\n",
      "C: 0.9781125536394343\n",
      "Tolerance: 0.042487596042281243\n",
      "Solver: sag\n",
      "Oversampling Method: ada\n",
      "----------------\n"
     ]
    },
    {
     "name": "stderr",
     "output_type": "stream",
     "text": [
      "[Parallel(n_jobs=1)]: Using backend SequentialBackend with 1 concurrent workers.\n"
     ]
    },
    {
     "name": "stdout",
     "output_type": "stream",
     "text": [
      "convergence after 7 epochs took 0 seconds\n"
     ]
    },
    {
     "name": "stderr",
     "output_type": "stream",
     "text": [
      "[Parallel(n_jobs=1)]: Done   1 out of   1 | elapsed:    0.2s finished\n",
      "[Parallel(n_jobs=1)]: Using backend SequentialBackend with 1 concurrent workers.\n"
     ]
    },
    {
     "name": "stdout",
     "output_type": "stream",
     "text": [
      "convergence after 8 epochs took 0 seconds\n"
     ]
    },
    {
     "name": "stderr",
     "output_type": "stream",
     "text": [
      "[Parallel(n_jobs=1)]: Done   1 out of   1 | elapsed:    0.2s finished\n",
      "[Parallel(n_jobs=1)]: Using backend SequentialBackend with 1 concurrent workers.\n"
     ]
    },
    {
     "name": "stdout",
     "output_type": "stream",
     "text": [
      "convergence after 6 epochs took 1 seconds\n",
      "Results: -0.8587899741829127\n",
      "================\n"
     ]
    },
    {
     "name": "stderr",
     "output_type": "stream",
     "text": [
      "[Parallel(n_jobs=1)]: Done   1 out of   1 | elapsed:    0.1s finished\n"
     ]
    },
    {
     "name": "stdout",
     "output_type": "stream",
     "text": [
      "================\n",
      "Configuration:\n",
      "C: 0.6474487425267667\n",
      "Tolerance: 0.056065081285446045\n",
      "Solver: newton-cholesky\n",
      "Oversampling Method: ada\n",
      "----------------\n",
      "Newton iter=1\n",
      "  Check Convergence\n",
      "    1. max |gradient| 0.0280326274894953 <= 0.056065081285446045\n",
      "    2. Newton decrement 0.17145643204641453 <= 0.056065081285446045\n",
      "Newton iter=2\n",
      "  Check Convergence\n",
      "    1. max |gradient| 0.0055074620989865935 <= 0.056065081285446045\n",
      "    2. Newton decrement 0.021201184715336555 <= 0.056065081285446045\n",
      "  Solver did converge at loss = 0.47389897373520357.\n",
      "Newton iter=1\n",
      "  Check Convergence\n",
      "    1. max |gradient| 0.034036151653933915 <= 0.056065081285446045\n",
      "    2. Newton decrement 0.1806943526787965 <= 0.056065081285446045\n",
      "Newton iter=2\n",
      "  Check Convergence\n",
      "    1. max |gradient| 0.006391012977311699 <= 0.056065081285446045\n",
      "    2. Newton decrement 0.02086991709919572 <= 0.056065081285446045\n",
      "  Solver did converge at loss = 0.46467550730583923.\n"
     ]
    },
    {
     "name": "stderr",
     "output_type": "stream",
     "text": [
      "[Parallel(n_jobs=1)]: Using backend SequentialBackend with 1 concurrent workers.\n",
      "[Parallel(n_jobs=1)]: Done   1 out of   1 | elapsed:    0.0s finished\n",
      "[Parallel(n_jobs=1)]: Using backend SequentialBackend with 1 concurrent workers.\n",
      "[Parallel(n_jobs=1)]: Done   1 out of   1 | elapsed:    0.0s finished\n",
      "[Parallel(n_jobs=1)]: Using backend SequentialBackend with 1 concurrent workers.\n"
     ]
    },
    {
     "name": "stdout",
     "output_type": "stream",
     "text": [
      "Newton iter=1\n",
      "  Check Convergence\n",
      "    1. max |gradient| 0.035187822446545634 <= 0.056065081285446045\n",
      "    2. Newton decrement 0.18230230421380042 <= 0.056065081285446045\n",
      "Newton iter=2\n",
      "  Check Convergence\n",
      "    1. max |gradient| 0.006852828892431743 <= 0.056065081285446045\n",
      "    2. Newton decrement 0.022031577081432878 <= 0.056065081285446045\n",
      "  Solver did converge at loss = 0.4608733756686207.\n",
      "Results: -0.8578982622958247\n",
      "================\n"
     ]
    },
    {
     "name": "stderr",
     "output_type": "stream",
     "text": [
      "[Parallel(n_jobs=1)]: Done   1 out of   1 | elapsed:    0.0s finished\n"
     ]
    },
    {
     "name": "stdout",
     "output_type": "stream",
     "text": [
      "================\n",
      "Configuration:\n",
      "C: 0.5032337379008928\n",
      "Tolerance: 0.07377807915389248\n",
      "Solver: sag\n",
      "Oversampling Method: ada\n",
      "----------------\n"
     ]
    },
    {
     "name": "stderr",
     "output_type": "stream",
     "text": [
      "[Parallel(n_jobs=1)]: Using backend SequentialBackend with 1 concurrent workers.\n",
      "[Parallel(n_jobs=1)]: Done   1 out of   1 | elapsed:    0.1s finished\n",
      "[Parallel(n_jobs=1)]: Using backend SequentialBackend with 1 concurrent workers.\n"
     ]
    },
    {
     "name": "stdout",
     "output_type": "stream",
     "text": [
      "convergence after 5 epochs took 0 seconds\n",
      "convergence after 6 epochs took 0 seconds\n"
     ]
    },
    {
     "name": "stderr",
     "output_type": "stream",
     "text": [
      "[Parallel(n_jobs=1)]: Done   1 out of   1 | elapsed:    0.0s finished\n",
      "[Parallel(n_jobs=1)]: Using backend SequentialBackend with 1 concurrent workers.\n",
      "[Parallel(n_jobs=1)]: Done   1 out of   1 | elapsed:    0.0s finished\n"
     ]
    },
    {
     "name": "stdout",
     "output_type": "stream",
     "text": [
      "convergence after 5 epochs took 0 seconds\n",
      "Results: -0.8589810493187328\n",
      "================\n",
      "================\n",
      "Configuration:\n",
      "C: 1.0140441211621727\n",
      "Tolerance: 0.0001\n",
      "Solver: lbfgs\n",
      "Oversampling Method: none\n",
      "----------------\n"
     ]
    },
    {
     "name": "stderr",
     "output_type": "stream",
     "text": [
      "[Parallel(n_jobs=1)]: Using backend SequentialBackend with 1 concurrent workers.\n",
      "[Parallel(n_jobs=1)]: Done   1 out of   1 | elapsed:    0.2s finished\n",
      "[Parallel(n_jobs=1)]: Using backend SequentialBackend with 1 concurrent workers.\n",
      "[Parallel(n_jobs=1)]: Done   1 out of   1 | elapsed:    0.4s finished\n",
      "[Parallel(n_jobs=1)]: Using backend SequentialBackend with 1 concurrent workers.\n",
      "[Parallel(n_jobs=1)]: Done   1 out of   1 | elapsed:    0.3s finished\n"
     ]
    },
    {
     "name": "stdout",
     "output_type": "stream",
     "text": [
      "Results: -0.8595035972386978\n",
      "================\n",
      "================\n",
      "Configuration:\n",
      "C: 1.5580536310231248\n",
      "Tolerance: 0.038776241059273006\n",
      "Solver: sag\n",
      "Oversampling Method: ada\n",
      "----------------\n"
     ]
    },
    {
     "name": "stderr",
     "output_type": "stream",
     "text": [
      "[Parallel(n_jobs=1)]: Using backend SequentialBackend with 1 concurrent workers.\n"
     ]
    },
    {
     "name": "stdout",
     "output_type": "stream",
     "text": [
      "convergence after 7 epochs took 0 seconds\n"
     ]
    },
    {
     "name": "stderr",
     "output_type": "stream",
     "text": [
      "[Parallel(n_jobs=1)]: Done   1 out of   1 | elapsed:    0.2s finished\n",
      "[Parallel(n_jobs=1)]: Using backend SequentialBackend with 1 concurrent workers.\n"
     ]
    },
    {
     "name": "stdout",
     "output_type": "stream",
     "text": [
      "convergence after 8 epochs took 1 seconds\n"
     ]
    },
    {
     "name": "stderr",
     "output_type": "stream",
     "text": [
      "[Parallel(n_jobs=1)]: Done   1 out of   1 | elapsed:    0.2s finished\n",
      "[Parallel(n_jobs=1)]: Using backend SequentialBackend with 1 concurrent workers.\n"
     ]
    },
    {
     "name": "stdout",
     "output_type": "stream",
     "text": [
      "convergence after 8 epochs took 0 seconds\n",
      "Results: -0.8590421712058222\n",
      "================\n"
     ]
    },
    {
     "name": "stderr",
     "output_type": "stream",
     "text": [
      "[Parallel(n_jobs=1)]: Done   1 out of   1 | elapsed:    0.4s finished\n"
     ]
    },
    {
     "name": "stdout",
     "output_type": "stream",
     "text": [
      "================\n",
      "Configuration:\n",
      "C: 2.3852548158739695\n",
      "Tolerance: 0.008962822204145248\n",
      "Solver: saga\n",
      "Oversampling Method: none\n",
      "----------------\n"
     ]
    },
    {
     "name": "stderr",
     "output_type": "stream",
     "text": [
      "[Parallel(n_jobs=1)]: Using backend SequentialBackend with 1 concurrent workers.\n"
     ]
    },
    {
     "name": "stdout",
     "output_type": "stream",
     "text": [
      "convergence after 22 epochs took 1 seconds\n"
     ]
    },
    {
     "name": "stderr",
     "output_type": "stream",
     "text": [
      "[Parallel(n_jobs=1)]: Done   1 out of   1 | elapsed:    1.0s finished\n",
      "[Parallel(n_jobs=1)]: Using backend SequentialBackend with 1 concurrent workers.\n"
     ]
    },
    {
     "name": "stdout",
     "output_type": "stream",
     "text": [
      "convergence after 23 epochs took 1 seconds\n"
     ]
    },
    {
     "name": "stderr",
     "output_type": "stream",
     "text": [
      "[Parallel(n_jobs=1)]: Done   1 out of   1 | elapsed:    0.9s finished\n",
      "[Parallel(n_jobs=1)]: Using backend SequentialBackend with 1 concurrent workers.\n"
     ]
    },
    {
     "name": "stdout",
     "output_type": "stream",
     "text": [
      "convergence after 20 epochs took 0 seconds\n",
      "Results: -0.8593601353370458\n",
      "================\n"
     ]
    },
    {
     "name": "stderr",
     "output_type": "stream",
     "text": [
      "[Parallel(n_jobs=1)]: Done   1 out of   1 | elapsed:    0.8s finished\n"
     ]
    },
    {
     "name": "stdout",
     "output_type": "stream",
     "text": [
      "================\n",
      "Configuration:\n",
      "C: 2.0426831896929656\n",
      "Tolerance: 0.0001\n",
      "Solver: lbfgs\n",
      "Oversampling Method: none\n",
      "----------------\n"
     ]
    },
    {
     "name": "stderr",
     "output_type": "stream",
     "text": [
      "[Parallel(n_jobs=1)]: Using backend SequentialBackend with 1 concurrent workers.\n",
      "[Parallel(n_jobs=1)]: Done   1 out of   1 | elapsed:    0.3s finished\n",
      "[Parallel(n_jobs=1)]: Using backend SequentialBackend with 1 concurrent workers.\n",
      "[Parallel(n_jobs=1)]: Done   1 out of   1 | elapsed:    0.4s finished\n",
      "[Parallel(n_jobs=1)]: Using backend SequentialBackend with 1 concurrent workers.\n",
      "[Parallel(n_jobs=1)]: Done   1 out of   1 | elapsed:    0.3s finished\n"
     ]
    },
    {
     "name": "stdout",
     "output_type": "stream",
     "text": [
      "Results: -0.8597457993322308\n",
      "================\n",
      "================\n",
      "Configuration:\n",
      "C: 1.4267262374744984\n",
      "Tolerance: 0.009908291678548628\n",
      "Solver: sag\n",
      "Oversampling Method: none\n",
      "----------------\n"
     ]
    },
    {
     "name": "stderr",
     "output_type": "stream",
     "text": [
      "[Parallel(n_jobs=1)]: Using backend SequentialBackend with 1 concurrent workers.\n"
     ]
    },
    {
     "name": "stdout",
     "output_type": "stream",
     "text": [
      "convergence after 17 epochs took 1 seconds\n"
     ]
    },
    {
     "name": "stderr",
     "output_type": "stream",
     "text": [
      "[Parallel(n_jobs=1)]: Done   1 out of   1 | elapsed:    0.4s finished\n",
      "[Parallel(n_jobs=1)]: Using backend SequentialBackend with 1 concurrent workers.\n"
     ]
    },
    {
     "name": "stdout",
     "output_type": "stream",
     "text": [
      "convergence after 19 epochs took 0 seconds\n"
     ]
    },
    {
     "name": "stderr",
     "output_type": "stream",
     "text": [
      "[Parallel(n_jobs=1)]: Done   1 out of   1 | elapsed:    0.5s finished\n",
      "[Parallel(n_jobs=1)]: Using backend SequentialBackend with 1 concurrent workers.\n"
     ]
    },
    {
     "name": "stdout",
     "output_type": "stream",
     "text": [
      "convergence after 15 epochs took 1 seconds\n",
      "Results: -0.8595379768503079\n",
      "================\n"
     ]
    },
    {
     "name": "stderr",
     "output_type": "stream",
     "text": [
      "[Parallel(n_jobs=1)]: Done   1 out of   1 | elapsed:    0.4s finished\n"
     ]
    },
    {
     "name": "stdout",
     "output_type": "stream",
     "text": [
      "================\n",
      "Configuration:\n",
      "C: 1.5839008380301145\n",
      "Tolerance: 0.057130969638946684\n",
      "Solver: newton-cholesky\n",
      "Oversampling Method: ada\n",
      "----------------\n",
      "Newton iter=1\n",
      "  Check Convergence\n",
      "    1. max |gradient| 0.028188098888113494 <= 0.057130969638946684\n",
      "    2. Newton decrement 0.17198257735279715 <= 0.057130969638946684\n",
      "Newton iter=2\n",
      "  Check Convergence\n",
      "    1. max |gradient| 0.005677657611512023 <= 0.057130969638946684\n",
      "    2. Newton decrement 0.02201060287878943 <= 0.057130969638946684\n",
      "  Solver did converge at loss = 0.4719223823717926.\n",
      "Newton iter=1\n",
      "  Check Convergence\n",
      "    1. max |gradient| 0.034155983620950084 <= 0.057130969638946684\n",
      "    2. Newton decrement 0.1811232994907964 <= 0.057130969638946684\n",
      "Newton iter=2\n",
      "  Check Convergence\n",
      "    1. max |gradient| 0.006547837798074341 <= 0.057130969638946684\n",
      "    2. Newton decrement 0.02161370293525208 <= 0.057130969638946684\n",
      "  Solver did converge at loss = 0.46293062000531643.\n"
     ]
    },
    {
     "name": "stderr",
     "output_type": "stream",
     "text": [
      "[Parallel(n_jobs=1)]: Using backend SequentialBackend with 1 concurrent workers.\n",
      "[Parallel(n_jobs=1)]: Done   1 out of   1 | elapsed:    0.0s finished\n",
      "[Parallel(n_jobs=1)]: Using backend SequentialBackend with 1 concurrent workers.\n",
      "[Parallel(n_jobs=1)]: Done   1 out of   1 | elapsed:    0.0s finished\n",
      "[Parallel(n_jobs=1)]: Using backend SequentialBackend with 1 concurrent workers.\n",
      "[Parallel(n_jobs=1)]: Done   1 out of   1 | elapsed:    0.0s finished\n"
     ]
    },
    {
     "name": "stdout",
     "output_type": "stream",
     "text": [
      "Newton iter=1\n",
      "  Check Convergence\n",
      "    1. max |gradient| 0.03530344579878722 <= 0.057130969638946684\n",
      "    2. Newton decrement 0.1827020977760587 <= 0.057130969638946684\n",
      "Newton iter=2\n",
      "  Check Convergence\n",
      "    1. max |gradient| 0.00698905379471247 <= 0.057130969638946684\n",
      "    2. Newton decrement 0.022746685317674573 <= 0.057130969638946684\n",
      "  Solver did converge at loss = 0.4592032810509059.\n",
      "Results: -0.8581287647160067\n",
      "================\n",
      "================\n",
      "Configuration:\n",
      "C: 1.7361953589434986\n",
      "Tolerance: 0.0001\n",
      "Solver: sag\n",
      "Oversampling Method: none\n",
      "----------------\n"
     ]
    },
    {
     "name": "stderr",
     "output_type": "stream",
     "text": [
      "[Parallel(n_jobs=1)]: Using backend SequentialBackend with 1 concurrent workers.\n"
     ]
    },
    {
     "name": "stdout",
     "output_type": "stream",
     "text": [
      "convergence after 171 epochs took 7 seconds\n"
     ]
    },
    {
     "name": "stderr",
     "output_type": "stream",
     "text": [
      "[Parallel(n_jobs=1)]: Done   1 out of   1 | elapsed:    6.7s finished\n",
      "[Parallel(n_jobs=1)]: Using backend SequentialBackend with 1 concurrent workers.\n"
     ]
    },
    {
     "name": "stdout",
     "output_type": "stream",
     "text": [
      "max_iter reached after 7 seconds\n"
     ]
    },
    {
     "name": "stderr",
     "output_type": "stream",
     "text": [
      "C:\\Users\\Aaron\\AppData\\Roaming\\Python\\Python311\\site-packages\\sklearn\\linear_model\\_sag.py:350: ConvergenceWarning: The max_iter was reached which means the coef_ did not converge\n",
      "  warnings.warn(\n",
      "[Parallel(n_jobs=1)]: Done   1 out of   1 | elapsed:    7.0s finished\n",
      "[Parallel(n_jobs=1)]: Using backend SequentialBackend with 1 concurrent workers.\n"
     ]
    },
    {
     "name": "stdout",
     "output_type": "stream",
     "text": [
      "max_iter reached after 8 seconds\n",
      "Results: -0.8596621830318468\n",
      "================\n"
     ]
    },
    {
     "name": "stderr",
     "output_type": "stream",
     "text": [
      "C:\\Users\\Aaron\\AppData\\Roaming\\Python\\Python311\\site-packages\\sklearn\\linear_model\\_sag.py:350: ConvergenceWarning: The max_iter was reached which means the coef_ did not converge\n",
      "  warnings.warn(\n",
      "[Parallel(n_jobs=1)]: Done   1 out of   1 | elapsed:    7.4s finished\n"
     ]
    },
    {
     "name": "stdout",
     "output_type": "stream",
     "text": [
      "================\n",
      "Configuration:\n",
      "C: 0.001\n",
      "Tolerance: 0.05169622920362407\n",
      "Solver: saga\n",
      "Oversampling Method: ada\n",
      "----------------\n",
      "convergence after 4 epochs took 0 seconds\n"
     ]
    },
    {
     "name": "stderr",
     "output_type": "stream",
     "text": [
      "[Parallel(n_jobs=1)]: Using backend SequentialBackend with 1 concurrent workers.\n",
      "[Parallel(n_jobs=1)]: Done   1 out of   1 | elapsed:    0.0s finished\n",
      "[Parallel(n_jobs=1)]: Using backend SequentialBackend with 1 concurrent workers.\n"
     ]
    },
    {
     "name": "stdout",
     "output_type": "stream",
     "text": [
      "convergence after 5 epochs took 1 seconds\n",
      "convergence after 4 epochs took 0 seconds\n",
      "Results: -0.8178545439677185\n",
      "================\n"
     ]
    },
    {
     "name": "stderr",
     "output_type": "stream",
     "text": [
      "[Parallel(n_jobs=1)]: Done   1 out of   1 | elapsed:    0.1s finished\n",
      "[Parallel(n_jobs=1)]: Using backend SequentialBackend with 1 concurrent workers.\n",
      "[Parallel(n_jobs=1)]: Done   1 out of   1 | elapsed:    0.0s finished\n"
     ]
    },
    {
     "name": "stdout",
     "output_type": "stream",
     "text": [
      "================\n",
      "Configuration:\n",
      "C: 1.954797383553477\n",
      "Tolerance: 0.05979702986768892\n",
      "Solver: lbfgs\n",
      "Oversampling Method: none\n",
      "----------------\n"
     ]
    },
    {
     "name": "stderr",
     "output_type": "stream",
     "text": [
      "[Parallel(n_jobs=1)]: Using backend SequentialBackend with 1 concurrent workers.\n",
      "[Parallel(n_jobs=1)]: Done   1 out of   1 | elapsed:    0.0s finished\n",
      "[Parallel(n_jobs=1)]: Using backend SequentialBackend with 1 concurrent workers.\n",
      "[Parallel(n_jobs=1)]: Done   1 out of   1 | elapsed:    0.0s finished\n",
      "[Parallel(n_jobs=1)]: Using backend SequentialBackend with 1 concurrent workers.\n",
      "[Parallel(n_jobs=1)]: Done   1 out of   1 | elapsed:    0.0s finished\n"
     ]
    },
    {
     "name": "stdout",
     "output_type": "stream",
     "text": [
      "Results: -0.7431510282937754\n",
      "================\n",
      "================\n",
      "Configuration:\n",
      "C: 0.29122077301117255\n",
      "Tolerance: 0.024180165622042595\n",
      "Solver: liblinear\n",
      "Oversampling Method: none\n",
      "----------------\n",
      "[LibLinear][LibLinear][LibLinear]Results: -0.8576046187025974\n",
      "================\n",
      "================\n",
      "Configuration:\n",
      "C: 1.1218615812108408\n",
      "Tolerance: 0.0001\n",
      "Solver: saga\n",
      "Oversampling Method: none\n",
      "----------------\n"
     ]
    },
    {
     "name": "stderr",
     "output_type": "stream",
     "text": [
      "[Parallel(n_jobs=1)]: Using backend SequentialBackend with 1 concurrent workers.\n"
     ]
    },
    {
     "name": "stdout",
     "output_type": "stream",
     "text": [
      "max_iter reached after 10 seconds\n"
     ]
    },
    {
     "name": "stderr",
     "output_type": "stream",
     "text": [
      "C:\\Users\\Aaron\\AppData\\Roaming\\Python\\Python311\\site-packages\\sklearn\\linear_model\\_sag.py:350: ConvergenceWarning: The max_iter was reached which means the coef_ did not converge\n",
      "  warnings.warn(\n",
      "[Parallel(n_jobs=1)]: Done   1 out of   1 | elapsed:   10.0s finished\n",
      "[Parallel(n_jobs=1)]: Using backend SequentialBackend with 1 concurrent workers.\n"
     ]
    },
    {
     "name": "stdout",
     "output_type": "stream",
     "text": [
      "max_iter reached after 8 seconds\n"
     ]
    },
    {
     "name": "stderr",
     "output_type": "stream",
     "text": [
      "C:\\Users\\Aaron\\AppData\\Roaming\\Python\\Python311\\site-packages\\sklearn\\linear_model\\_sag.py:350: ConvergenceWarning: The max_iter was reached which means the coef_ did not converge\n",
      "  warnings.warn(\n",
      "[Parallel(n_jobs=1)]: Done   1 out of   1 | elapsed:    8.4s finished\n",
      "[Parallel(n_jobs=1)]: Using backend SequentialBackend with 1 concurrent workers.\n"
     ]
    },
    {
     "name": "stdout",
     "output_type": "stream",
     "text": [
      "max_iter reached after 9 seconds\n",
      "Results: -0.8595536066284567\n",
      "================\n"
     ]
    },
    {
     "name": "stderr",
     "output_type": "stream",
     "text": [
      "C:\\Users\\Aaron\\AppData\\Roaming\\Python\\Python311\\site-packages\\sklearn\\linear_model\\_sag.py:350: ConvergenceWarning: The max_iter was reached which means the coef_ did not converge\n",
      "  warnings.warn(\n",
      "[Parallel(n_jobs=1)]: Done   1 out of   1 | elapsed:    8.8s finished\n"
     ]
    },
    {
     "name": "stdout",
     "output_type": "stream",
     "text": [
      "================\n",
      "Configuration:\n",
      "C: 0.5243475739290727\n",
      "Tolerance: 0.08519983785363053\n",
      "Solver: newton-cholesky\n",
      "Oversampling Method: none\n",
      "----------------\n",
      "Newton iter=1\n",
      "  Check Convergence\n",
      "    1. max |gradient| 0.027978161519688762 <= 0.08519983785363053\n",
      "    2. Newton decrement 0.17126584840349898 <= 0.08519983785363053\n",
      "Newton iter=2\n",
      "  Check Convergence\n",
      "    1. max |gradient| 0.005447019135300495 <= 0.08519983785363053\n",
      "    2. Newton decrement 0.020918719677318537 <= 0.08519983785363053\n",
      "  Solver did converge at loss = 0.4745952592627164.\n",
      "Newton iter=1\n",
      "  Check Convergence\n",
      "    1. max |gradient| 0.03399178885911342 <= 0.08519983785363053\n",
      "    2. Newton decrement 0.1805340936021187 <= 0.08519983785363053\n",
      "Newton iter=2\n",
      "  Check Convergence\n",
      "    1. max |gradient| 0.0063351181666042485 <= 0.08519983785363053\n",
      "    2. Newton decrement 0.020610099632885685 <= 0.08519983785363053\n",
      "  Solver did converge at loss = 0.46529455166664213.\n"
     ]
    },
    {
     "name": "stderr",
     "output_type": "stream",
     "text": [
      "[Parallel(n_jobs=1)]: Using backend SequentialBackend with 1 concurrent workers.\n",
      "[Parallel(n_jobs=1)]: Done   1 out of   1 | elapsed:    0.0s finished\n",
      "[Parallel(n_jobs=1)]: Using backend SequentialBackend with 1 concurrent workers.\n",
      "[Parallel(n_jobs=1)]: Done   1 out of   1 | elapsed:    0.0s finished\n",
      "[Parallel(n_jobs=1)]: Using backend SequentialBackend with 1 concurrent workers.\n"
     ]
    },
    {
     "name": "stdout",
     "output_type": "stream",
     "text": [
      "Newton iter=1\n",
      "  Check Convergence\n",
      "    1. max |gradient| 0.03514451343412021 <= 0.08519983785363053\n",
      "    2. Newton decrement 0.18214972813887378 <= 0.08519983785363053\n",
      "Newton iter=2\n",
      "  Check Convergence\n",
      "    1. max |gradient| 0.006803102743885006 <= 0.08519983785363053\n",
      "    2. Newton decrement 0.021776507107089796 <= 0.08519983785363053\n",
      "  Solver did converge at loss = 0.4614779429195765.\n",
      "Results: -0.8578006868360463\n",
      "================\n"
     ]
    },
    {
     "name": "stderr",
     "output_type": "stream",
     "text": [
      "[Parallel(n_jobs=1)]: Done   1 out of   1 | elapsed:    0.0s finished\n"
     ]
    },
    {
     "name": "stdout",
     "output_type": "stream",
     "text": [
      "================\n",
      "Configuration:\n",
      "C: 1.9282922837678085\n",
      "Tolerance: 0.0356235435354695\n",
      "Solver: liblinear\n",
      "Oversampling Method: ada\n",
      "----------------\n",
      "[LibLinear][LibLinear][LibLinear]Results: -0.8577052743402994\n",
      "================\n",
      "================\n",
      "Configuration:\n",
      "C: 2.523685082224552\n",
      "Tolerance: 0.0001\n",
      "Solver: saga\n",
      "Oversampling Method: none\n",
      "----------------\n"
     ]
    },
    {
     "name": "stderr",
     "output_type": "stream",
     "text": [
      "[Parallel(n_jobs=1)]: Using backend SequentialBackend with 1 concurrent workers.\n"
     ]
    },
    {
     "name": "stdout",
     "output_type": "stream",
     "text": [
      "max_iter reached after 9 seconds\n"
     ]
    },
    {
     "name": "stderr",
     "output_type": "stream",
     "text": [
      "C:\\Users\\Aaron\\AppData\\Roaming\\Python\\Python311\\site-packages\\sklearn\\linear_model\\_sag.py:350: ConvergenceWarning: The max_iter was reached which means the coef_ did not converge\n",
      "  warnings.warn(\n",
      "[Parallel(n_jobs=1)]: Done   1 out of   1 | elapsed:    9.4s finished\n",
      "[Parallel(n_jobs=1)]: Using backend SequentialBackend with 1 concurrent workers.\n"
     ]
    },
    {
     "name": "stdout",
     "output_type": "stream",
     "text": [
      "max_iter reached after 9 seconds\n"
     ]
    },
    {
     "name": "stderr",
     "output_type": "stream",
     "text": [
      "C:\\Users\\Aaron\\AppData\\Roaming\\Python\\Python311\\site-packages\\sklearn\\linear_model\\_sag.py:350: ConvergenceWarning: The max_iter was reached which means the coef_ did not converge\n",
      "  warnings.warn(\n",
      "[Parallel(n_jobs=1)]: Done   1 out of   1 | elapsed:    8.3s finished\n",
      "[Parallel(n_jobs=1)]: Using backend SequentialBackend with 1 concurrent workers.\n"
     ]
    },
    {
     "name": "stdout",
     "output_type": "stream",
     "text": [
      "max_iter reached after 9 seconds\n",
      "Results: -0.8597341053925095\n",
      "================\n"
     ]
    },
    {
     "name": "stderr",
     "output_type": "stream",
     "text": [
      "C:\\Users\\Aaron\\AppData\\Roaming\\Python\\Python311\\site-packages\\sklearn\\linear_model\\_sag.py:350: ConvergenceWarning: The max_iter was reached which means the coef_ did not converge\n",
      "  warnings.warn(\n",
      "[Parallel(n_jobs=1)]: Done   1 out of   1 | elapsed:    8.9s finished\n"
     ]
    },
    {
     "name": "stdout",
     "output_type": "stream",
     "text": [
      "================\n",
      "Configuration:\n",
      "C: 0.41115243655916\n",
      "Tolerance: 0.07476113289197446\n",
      "Solver: liblinear\n",
      "Oversampling Method: none\n",
      "----------------\n",
      "[LibLinear][LibLinear][LibLinear]Results: -0.8529158395891812\n",
      "================\n",
      "================\n",
      "Configuration:\n",
      "C: 0.6299619915383246\n",
      "Tolerance: 0.03854065590223162\n",
      "Solver: newton-cholesky\n",
      "Oversampling Method: none\n",
      "----------------\n",
      "Newton iter=1\n",
      "  Check Convergence\n",
      "    1. max |gradient| 0.028026061879657692 <= 0.03854065590223162\n",
      "    2. Newton decrement 0.171433533875839 <= 0.03854065590223162\n",
      "Newton iter=2\n",
      "  Check Convergence\n",
      "    1. max |gradient| 0.005500146756944735 <= 0.03854065590223162\n",
      "    2. Newton decrement 0.0211668857661776 <= 0.03854065590223162\n",
      "  Solver did converge at loss = 0.4739832831764013.\n",
      "Newton iter=1\n",
      "  Check Convergence\n",
      "    1. max |gradient| 0.03403083028802822 <= 0.03854065590223162\n",
      "    2. Newton decrement 0.18067517292896557 <= 0.03854065590223162\n",
      "Newton iter=2\n"
     ]
    },
    {
     "name": "stderr",
     "output_type": "stream",
     "text": [
      "[Parallel(n_jobs=1)]: Using backend SequentialBackend with 1 concurrent workers.\n",
      "[Parallel(n_jobs=1)]: Done   1 out of   1 | elapsed:    0.0s finished\n",
      "[Parallel(n_jobs=1)]: Using backend SequentialBackend with 1 concurrent workers.\n",
      "[Parallel(n_jobs=1)]: Done   1 out of   1 | elapsed:    0.0s finished\n",
      "[Parallel(n_jobs=1)]: Using backend SequentialBackend with 1 concurrent workers.\n"
     ]
    },
    {
     "name": "stdout",
     "output_type": "stream",
     "text": [
      "  Check Convergence\n",
      "    1. max |gradient| 0.0063842382046820035 <= 0.03854065590223162\n",
      "    2. Newton decrement 0.020838316655857985 <= 0.03854065590223162\n",
      "  Solver did converge at loss = 0.4647504968797438.\n",
      "Newton iter=1\n",
      "  Check Convergence\n",
      "    1. max |gradient| 0.03518264225354283 <= 0.03854065590223162\n",
      "    2. Newton decrement 0.1822841069410168 <= 0.03854065590223162\n",
      "Newton iter=2\n",
      "  Check Convergence\n",
      "    1. max |gradient| 0.006846838332993055 <= 0.03854065590223162\n",
      "    2. Newton decrement 0.02200068610439848 <= 0.03854065590223162\n",
      "  Solver did converge at loss = 0.460946335561955.\n",
      "Results: -0.8578870171836441\n",
      "================\n"
     ]
    },
    {
     "name": "stderr",
     "output_type": "stream",
     "text": [
      "[Parallel(n_jobs=1)]: Done   1 out of   1 | elapsed:    0.0s finished\n"
     ]
    },
    {
     "name": "stdout",
     "output_type": "stream",
     "text": [
      "================\n",
      "Configuration:\n",
      "C: 2.8664787621914862\n",
      "Tolerance: 0.0001\n",
      "Solver: newton-cg\n",
      "Oversampling Method: none\n",
      "----------------\n"
     ]
    },
    {
     "name": "stderr",
     "output_type": "stream",
     "text": [
      "[Parallel(n_jobs=1)]: Using backend SequentialBackend with 1 concurrent workers.\n",
      "[Parallel(n_jobs=1)]: Done   1 out of   1 | elapsed:    0.1s finished\n",
      "[Parallel(n_jobs=1)]: Using backend SequentialBackend with 1 concurrent workers.\n",
      "[Parallel(n_jobs=1)]: Done   1 out of   1 | elapsed:    0.2s finished\n",
      "[Parallel(n_jobs=1)]: Using backend SequentialBackend with 1 concurrent workers.\n",
      "[Parallel(n_jobs=1)]: Done   1 out of   1 | elapsed:    0.1s finished\n"
     ]
    },
    {
     "name": "stdout",
     "output_type": "stream",
     "text": [
      "Results: -0.8597481608991159\n",
      "================\n",
      "================\n",
      "Configuration:\n",
      "C: 0.9323860787163827\n",
      "Tolerance: 0.01075833930928626\n",
      "Solver: sag\n",
      "Oversampling Method: none\n",
      "----------------\n"
     ]
    },
    {
     "name": "stderr",
     "output_type": "stream",
     "text": [
      "[Parallel(n_jobs=1)]: Using backend SequentialBackend with 1 concurrent workers.\n"
     ]
    },
    {
     "name": "stdout",
     "output_type": "stream",
     "text": [
      "convergence after 12 epochs took 0 seconds\n"
     ]
    },
    {
     "name": "stderr",
     "output_type": "stream",
     "text": [
      "[Parallel(n_jobs=1)]: Done   1 out of   1 | elapsed:    0.4s finished\n",
      "[Parallel(n_jobs=1)]: Using backend SequentialBackend with 1 concurrent workers.\n"
     ]
    },
    {
     "name": "stdout",
     "output_type": "stream",
     "text": [
      "convergence after 15 epochs took 1 seconds\n"
     ]
    },
    {
     "name": "stderr",
     "output_type": "stream",
     "text": [
      "[Parallel(n_jobs=1)]: Done   1 out of   1 | elapsed:    0.4s finished\n",
      "[Parallel(n_jobs=1)]: Using backend SequentialBackend with 1 concurrent workers.\n"
     ]
    },
    {
     "name": "stdout",
     "output_type": "stream",
     "text": [
      "convergence after 13 epochs took 0 seconds\n",
      "Results: -0.859462472383724\n",
      "================\n"
     ]
    },
    {
     "name": "stderr",
     "output_type": "stream",
     "text": [
      "[Parallel(n_jobs=1)]: Done   1 out of   1 | elapsed:    0.3s finished\n"
     ]
    },
    {
     "name": "stdout",
     "output_type": "stream",
     "text": [
      "================\n",
      "Configuration:\n",
      "C: 1.940979148009372\n",
      "Tolerance: 0.06210959033886576\n",
      "Solver: liblinear\n",
      "Oversampling Method: ada\n",
      "----------------\n",
      "[LibLinear][LibLinear][LibLinear]Results: -0.8548578847436915\n",
      "================\n",
      "================\n",
      "Configuration:\n",
      "C: 1.1000725255221624\n",
      "Tolerance: 0.024976698666285872\n",
      "Solver: newton-cholesky\n",
      "Oversampling Method: none\n",
      "----------------\n",
      "Newton iter=1\n",
      "  Check Convergence\n",
      "    1. max |gradient| 0.028136065258914926 <= 0.024976698666285872\n",
      "Newton iter=2\n",
      "  Check Convergence\n",
      "    1. max |gradient| 0.005622329464175099 <= 0.024976698666285872\n",
      "    2. Newton decrement 0.021744957781303222 <= 0.024976698666285872\n",
      "  Solver did converge at loss = 0.47256964851604566.\n",
      "Newton iter=1\n",
      "  Check Convergence\n",
      "    1. max |gradient| 0.034117914201129466 <= 0.024976698666285872\n",
      "Newton iter=2\n"
     ]
    },
    {
     "name": "stderr",
     "output_type": "stream",
     "text": [
      "[Parallel(n_jobs=1)]: Using backend SequentialBackend with 1 concurrent workers.\n",
      "[Parallel(n_jobs=1)]: Done   1 out of   1 | elapsed:    0.0s finished\n",
      "[Parallel(n_jobs=1)]: Using backend SequentialBackend with 1 concurrent workers.\n",
      "[Parallel(n_jobs=1)]: Done   1 out of   1 | elapsed:    0.0s finished\n"
     ]
    },
    {
     "name": "stdout",
     "output_type": "stream",
     "text": [
      "  Check Convergence\n",
      "    1. max |gradient| 0.006497326445571193 <= 0.024976698666285872\n",
      "    2. Newton decrement 0.021371014281754162 <= 0.024976698666285872\n",
      "  Solver did converge at loss = 0.46349643017700237.\n",
      "Newton iter=1\n",
      "  Check Convergence\n",
      "    1. max |gradient| 0.035266916755118866 <= 0.024976698666285872\n",
      "Newton iter=2\n",
      "  Check Convergence\n",
      "    1. max |gradient| 0.0069456092036465295 <= 0.024976698666285872\n",
      "    2. Newton decrement 0.02251608465396552 <= 0.024976698666285872\n",
      "  Solver did converge at loss = 0.4597380002619347.\n",
      "Results: -0.8580618531094867\n",
      "================\n"
     ]
    },
    {
     "name": "stderr",
     "output_type": "stream",
     "text": [
      "[Parallel(n_jobs=1)]: Using backend SequentialBackend with 1 concurrent workers.\n",
      "[Parallel(n_jobs=1)]: Done   1 out of   1 | elapsed:    0.0s finished\n"
     ]
    },
    {
     "name": "stdout",
     "output_type": "stream",
     "text": [
      "================\n",
      "Configuration:\n",
      "C: 2.791855174251554\n",
      "Tolerance: 0.0001\n",
      "Solver: liblinear\n",
      "Oversampling Method: ada\n",
      "----------------\n",
      "[LibLinear][LibLinear][LibLinear]Results: -0.859773748182589\n",
      "================\n",
      "================\n",
      "Configuration:\n",
      "C: 0.5063390795195322\n",
      "Tolerance: 0.0059121075578069705\n",
      "Solver: saga\n",
      "Oversampling Method: none\n",
      "----------------\n"
     ]
    },
    {
     "name": "stderr",
     "output_type": "stream",
     "text": [
      "[Parallel(n_jobs=1)]: Using backend SequentialBackend with 1 concurrent workers.\n"
     ]
    },
    {
     "name": "stdout",
     "output_type": "stream",
     "text": [
      "convergence after 20 epochs took 1 seconds\n"
     ]
    },
    {
     "name": "stderr",
     "output_type": "stream",
     "text": [
      "[Parallel(n_jobs=1)]: Done   1 out of   1 | elapsed:    0.5s finished\n",
      "[Parallel(n_jobs=1)]: Using backend SequentialBackend with 1 concurrent workers.\n"
     ]
    },
    {
     "name": "stdout",
     "output_type": "stream",
     "text": [
      "convergence after 24 epochs took 1 seconds\n"
     ]
    },
    {
     "name": "stderr",
     "output_type": "stream",
     "text": [
      "[Parallel(n_jobs=1)]: Done   1 out of   1 | elapsed:    0.5s finished\n",
      "[Parallel(n_jobs=1)]: Using backend SequentialBackend with 1 concurrent workers.\n"
     ]
    },
    {
     "name": "stdout",
     "output_type": "stream",
     "text": [
      "convergence after 22 epochs took 0 seconds\n",
      "Results: -0.8589409976534959\n",
      "================\n"
     ]
    },
    {
     "name": "stderr",
     "output_type": "stream",
     "text": [
      "[Parallel(n_jobs=1)]: Done   1 out of   1 | elapsed:    0.5s finished\n"
     ]
    },
    {
     "name": "stdout",
     "output_type": "stream",
     "text": [
      "================\n",
      "Configuration:\n",
      "C: 1.9619929440939072\n",
      "Tolerance: 0.0001\n",
      "Solver: lbfgs\n",
      "Oversampling Method: ada\n",
      "----------------\n"
     ]
    },
    {
     "name": "stderr",
     "output_type": "stream",
     "text": [
      "[Parallel(n_jobs=1)]: Using backend SequentialBackend with 1 concurrent workers.\n",
      "[Parallel(n_jobs=1)]: Done   1 out of   1 | elapsed:    0.3s finished\n",
      "[Parallel(n_jobs=1)]: Using backend SequentialBackend with 1 concurrent workers.\n",
      "[Parallel(n_jobs=1)]: Done   1 out of   1 | elapsed:    0.3s finished\n",
      "[Parallel(n_jobs=1)]: Using backend SequentialBackend with 1 concurrent workers.\n",
      "[Parallel(n_jobs=1)]: Done   1 out of   1 | elapsed:    0.3s finished\n"
     ]
    },
    {
     "name": "stdout",
     "output_type": "stream",
     "text": [
      "Results: -0.8597381855300134\n",
      "================\n",
      "================\n",
      "Configuration:\n",
      "C: 2.051869174607664\n",
      "Tolerance: 0.0001\n",
      "Solver: lbfgs\n",
      "Oversampling Method: none\n",
      "----------------\n"
     ]
    },
    {
     "name": "stderr",
     "output_type": "stream",
     "text": [
      "[Parallel(n_jobs=1)]: Using backend SequentialBackend with 1 concurrent workers.\n",
      "[Parallel(n_jobs=1)]: Done   1 out of   1 | elapsed:    0.2s finished\n",
      "[Parallel(n_jobs=1)]: Using backend SequentialBackend with 1 concurrent workers.\n",
      "[Parallel(n_jobs=1)]: Done   1 out of   1 | elapsed:    0.3s finished\n",
      "[Parallel(n_jobs=1)]: Using backend SequentialBackend with 1 concurrent workers.\n",
      "[Parallel(n_jobs=1)]: Done   1 out of   1 | elapsed:    0.3s finished\n"
     ]
    },
    {
     "name": "stdout",
     "output_type": "stream",
     "text": [
      "Results: -0.8597455406043615\n",
      "================\n",
      "================\n",
      "Configuration:\n",
      "C: 1.9712491349508032\n",
      "Tolerance: 0.0001\n",
      "Solver: lbfgs\n",
      "Oversampling Method: none\n",
      "----------------\n"
     ]
    },
    {
     "name": "stderr",
     "output_type": "stream",
     "text": [
      "[Parallel(n_jobs=1)]: Using backend SequentialBackend with 1 concurrent workers.\n",
      "[Parallel(n_jobs=1)]: Done   1 out of   1 | elapsed:    0.2s finished\n",
      "[Parallel(n_jobs=1)]: Using backend SequentialBackend with 1 concurrent workers.\n",
      "[Parallel(n_jobs=1)]: Done   1 out of   1 | elapsed:    0.3s finished\n",
      "[Parallel(n_jobs=1)]: Using backend SequentialBackend with 1 concurrent workers.\n",
      "[Parallel(n_jobs=1)]: Done   1 out of   1 | elapsed:    0.3s finished\n"
     ]
    },
    {
     "name": "stdout",
     "output_type": "stream",
     "text": [
      "Results: -0.8596854534742312\n",
      "================\n",
      "================\n",
      "Configuration:\n",
      "C: 1.0068493233870002\n",
      "Tolerance: 0.017060537502585446\n",
      "Solver: liblinear\n",
      "Oversampling Method: ada\n",
      "----------------\n",
      "[LibLinear][LibLinear][LibLinear]Results: -0.8587604201040117\n",
      "================\n",
      "================\n",
      "Configuration:\n",
      "C: 1.8904783244378718\n",
      "Tolerance: 0.0001\n",
      "Solver: lbfgs\n",
      "Oversampling Method: none\n",
      "----------------\n"
     ]
    },
    {
     "name": "stderr",
     "output_type": "stream",
     "text": [
      "[Parallel(n_jobs=1)]: Using backend SequentialBackend with 1 concurrent workers.\n",
      "[Parallel(n_jobs=1)]: Done   1 out of   1 | elapsed:    0.2s finished\n",
      "[Parallel(n_jobs=1)]: Using backend SequentialBackend with 1 concurrent workers.\n",
      "[Parallel(n_jobs=1)]: Done   1 out of   1 | elapsed:    0.3s finished\n",
      "[Parallel(n_jobs=1)]: Using backend SequentialBackend with 1 concurrent workers.\n",
      "[Parallel(n_jobs=1)]: Done   1 out of   1 | elapsed:    0.3s finished\n"
     ]
    },
    {
     "name": "stdout",
     "output_type": "stream",
     "text": [
      "Results: -0.8597193576178492\n",
      "================\n",
      "================\n",
      "Configuration:\n",
      "C: 1.9684778620381675\n",
      "Tolerance: 0.0001\n",
      "Solver: lbfgs\n",
      "Oversampling Method: none\n",
      "----------------\n"
     ]
    },
    {
     "name": "stderr",
     "output_type": "stream",
     "text": [
      "[Parallel(n_jobs=1)]: Using backend SequentialBackend with 1 concurrent workers.\n",
      "[Parallel(n_jobs=1)]: Done   1 out of   1 | elapsed:    0.3s finished\n",
      "[Parallel(n_jobs=1)]: Using backend SequentialBackend with 1 concurrent workers.\n",
      "[Parallel(n_jobs=1)]: Done   1 out of   1 | elapsed:    0.3s finished\n",
      "[Parallel(n_jobs=1)]: Using backend SequentialBackend with 1 concurrent workers.\n",
      "[Parallel(n_jobs=1)]: Done   1 out of   1 | elapsed:    0.3s finished\n"
     ]
    },
    {
     "name": "stdout",
     "output_type": "stream",
     "text": [
      "Results: -0.8596778317845356\n",
      "================\n",
      "================\n",
      "Configuration:\n",
      "C: 1.8916617351721812\n",
      "Tolerance: 0.0001\n",
      "Solver: liblinear\n",
      "Oversampling Method: none\n",
      "----------------\n",
      "[LibLinear][LibLinear][LibLinear]Results: -0.8596745027284028\n",
      "================\n",
      "================\n",
      "Configuration:\n",
      "C: 1.9736477506536565\n",
      "Tolerance: 0.0001\n",
      "Solver: lbfgs\n",
      "Oversampling Method: none\n",
      "----------------\n"
     ]
    },
    {
     "name": "stderr",
     "output_type": "stream",
     "text": [
      "[Parallel(n_jobs=1)]: Using backend SequentialBackend with 1 concurrent workers.\n",
      "[Parallel(n_jobs=1)]: Done   1 out of   1 | elapsed:    0.2s finished\n",
      "[Parallel(n_jobs=1)]: Using backend SequentialBackend with 1 concurrent workers.\n",
      "[Parallel(n_jobs=1)]: Done   1 out of   1 | elapsed:    0.2s finished\n",
      "[Parallel(n_jobs=1)]: Using backend SequentialBackend with 1 concurrent workers.\n",
      "[Parallel(n_jobs=1)]: Done   1 out of   1 | elapsed:    0.2s finished\n"
     ]
    },
    {
     "name": "stdout",
     "output_type": "stream",
     "text": [
      "Results: -0.8597556655647783\n",
      "================\n",
      "================\n",
      "Configuration:\n",
      "C: 1.3172638132869534\n",
      "Tolerance: 0.06560008981265292\n",
      "Solver: newton-cholesky\n",
      "Oversampling Method: none\n",
      "----------------\n",
      "Newton iter=1\n",
      "  Check Convergence\n",
      "    1. max |gradient| 0.028163242770695526 <= 0.06560008981265292\n",
      "    2. Newton decrement 0.1719020650165418 <= 0.06560008981265292\n",
      "Newton iter=2\n",
      "  Check Convergence\n",
      "    1. max |gradient| 0.005651649916712828 <= 0.06560008981265292\n",
      "    2. Newton decrement 0.021885503303431614 <= 0.06560008981265292\n",
      "  Solver did converge at loss = 0.4722273659803568.\n",
      "Newton iter=1\n",
      "  Check Convergence\n",
      "    1. max |gradient| 0.03413821023650582 <= 0.06560008981265292\n",
      "    2. Newton decrement 0.18106002191965226 <= 0.06560008981265292\n",
      "Newton iter=2\n",
      "  Check Convergence\n",
      "    1. max |gradient| 0.006524227443711868 <= 0.06560008981265292\n",
      "    2. Newton decrement 0.02149979806396183 <= 0.06560008981265292\n",
      "  Solver did converge at loss = 0.463195920079435.\n"
     ]
    },
    {
     "name": "stderr",
     "output_type": "stream",
     "text": [
      "[Parallel(n_jobs=1)]: Using backend SequentialBackend with 1 concurrent workers.\n",
      "[Parallel(n_jobs=1)]: Done   1 out of   1 | elapsed:    0.0s finished\n",
      "[Parallel(n_jobs=1)]: Using backend SequentialBackend with 1 concurrent workers.\n",
      "[Parallel(n_jobs=1)]: Done   1 out of   1 | elapsed:    0.0s finished\n",
      "[Parallel(n_jobs=1)]: Using backend SequentialBackend with 1 concurrent workers.\n",
      "[Parallel(n_jobs=1)]: Done   1 out of   1 | elapsed:    0.0s finished\n"
     ]
    },
    {
     "name": "stdout",
     "output_type": "stream",
     "text": [
      "Newton iter=1\n",
      "  Check Convergence\n",
      "    1. max |gradient| 0.03528641319217221 <= 0.06560008981265292\n",
      "    2. Newton decrement 0.18264442080891405 <= 0.06560008981265292\n",
      "Newton iter=2\n",
      "  Check Convergence\n",
      "    1. max |gradient| 0.0069687772483730355 <= 0.06560008981265292\n",
      "    2. Newton decrement 0.022638824847506036 <= 0.06560008981265292\n",
      "  Solver did converge at loss = 0.45945294882527005.\n",
      "Results: -0.8580988148025495\n",
      "================\n",
      "================\n",
      "Configuration:\n",
      "C: 1.9631480765767673\n",
      "Tolerance: 0.0001\n",
      "Solver: lbfgs\n",
      "Oversampling Method: none\n",
      "----------------\n"
     ]
    },
    {
     "name": "stderr",
     "output_type": "stream",
     "text": [
      "[Parallel(n_jobs=1)]: Using backend SequentialBackend with 1 concurrent workers.\n",
      "[Parallel(n_jobs=1)]: Done   1 out of   1 | elapsed:    0.3s finished\n",
      "[Parallel(n_jobs=1)]: Using backend SequentialBackend with 1 concurrent workers.\n",
      "[Parallel(n_jobs=1)]: Done   1 out of   1 | elapsed:    0.4s finished\n",
      "[Parallel(n_jobs=1)]: Using backend SequentialBackend with 1 concurrent workers.\n",
      "[Parallel(n_jobs=1)]: Done   1 out of   1 | elapsed:    0.3s finished\n"
     ]
    },
    {
     "name": "stdout",
     "output_type": "stream",
     "text": [
      "Results: -0.8597437971030998\n",
      "================\n",
      "================\n",
      "Configuration:\n",
      "C: 3.0\n",
      "Tolerance: 0.04423141348538216\n",
      "Solver: liblinear\n",
      "Oversampling Method: none\n",
      "----------------\n",
      "[LibLinear][LibLinear][LibLinear]Results: -0.8561754550427935\n",
      "================\n",
      "================\n",
      "Configuration:\n",
      "C: 1.979778915062035\n",
      "Tolerance: 0.0001\n",
      "Solver: lbfgs\n",
      "Oversampling Method: none\n",
      "----------------\n"
     ]
    },
    {
     "name": "stderr",
     "output_type": "stream",
     "text": [
      "[Parallel(n_jobs=1)]: Using backend SequentialBackend with 1 concurrent workers.\n",
      "[Parallel(n_jobs=1)]: Done   1 out of   1 | elapsed:    0.3s finished\n",
      "[Parallel(n_jobs=1)]: Using backend SequentialBackend with 1 concurrent workers.\n",
      "[Parallel(n_jobs=1)]: Done   1 out of   1 | elapsed:    0.3s finished\n",
      "[Parallel(n_jobs=1)]: Using backend SequentialBackend with 1 concurrent workers.\n",
      "[Parallel(n_jobs=1)]: Done   1 out of   1 | elapsed:    0.2s finished\n"
     ]
    },
    {
     "name": "stdout",
     "output_type": "stream",
     "text": [
      "Results: -0.8597311218138923\n",
      "================\n",
      "================\n",
      "Configuration:\n",
      "C: 2.3667635225057553\n",
      "Tolerance: 0.1\n",
      "Solver: sag\n",
      "Oversampling Method: none\n",
      "----------------\n"
     ]
    },
    {
     "name": "stderr",
     "output_type": "stream",
     "text": [
      "[Parallel(n_jobs=1)]: Using backend SequentialBackend with 1 concurrent workers.\n"
     ]
    },
    {
     "name": "stdout",
     "output_type": "stream",
     "text": [
      "convergence after 5 epochs took 0 seconds\n"
     ]
    },
    {
     "name": "stderr",
     "output_type": "stream",
     "text": [
      "[Parallel(n_jobs=1)]: Done   1 out of   1 | elapsed:    0.1s finished\n",
      "[Parallel(n_jobs=1)]: Using backend SequentialBackend with 1 concurrent workers.\n"
     ]
    },
    {
     "name": "stdout",
     "output_type": "stream",
     "text": [
      "convergence after 5 epochs took 0 seconds\n"
     ]
    },
    {
     "name": "stderr",
     "output_type": "stream",
     "text": [
      "[Parallel(n_jobs=1)]: Done   1 out of   1 | elapsed:    0.1s finished\n",
      "[Parallel(n_jobs=1)]: Using backend SequentialBackend with 1 concurrent workers.\n"
     ]
    },
    {
     "name": "stdout",
     "output_type": "stream",
     "text": [
      "convergence after 5 epochs took 0 seconds\n",
      "Results: -0.8590337526013334\n",
      "================\n"
     ]
    },
    {
     "name": "stderr",
     "output_type": "stream",
     "text": [
      "[Parallel(n_jobs=1)]: Done   1 out of   1 | elapsed:    0.1s finished\n"
     ]
    },
    {
     "name": "stdout",
     "output_type": "stream",
     "text": [
      "================\n",
      "Configuration:\n",
      "C: 2.544368332722694\n",
      "Tolerance: 0.0001\n",
      "Solver: liblinear\n",
      "Oversampling Method: none\n",
      "----------------\n",
      "[LibLinear][LibLinear][LibLinear]Results: -0.8597510124058233\n",
      "================\n",
      "================\n",
      "Configuration:\n",
      "C: 2.8823793911920044\n",
      "Tolerance: 0.00966681162409731\n",
      "Solver: liblinear\n",
      "Oversampling Method: ada\n",
      "----------------\n",
      "[LibLinear][LibLinear][LibLinear]Results: -0.8596321069747034\n",
      "================\n",
      "================\n",
      "Configuration:\n",
      "C: 1.3841857704046068\n",
      "Tolerance: 0.0001\n",
      "Solver: liblinear\n",
      "Oversampling Method: none\n",
      "----------------\n",
      "[LibLinear][LibLinear][LibLinear]Results: -0.8595702171891758\n",
      "================\n",
      "================\n",
      "Configuration:\n",
      "C: 1.3829973922144785\n",
      "Tolerance: 0.0001\n",
      "Solver: liblinear\n",
      "Oversampling Method: none\n",
      "----------------\n",
      "[LibLinear][LibLinear][LibLinear]Results: -0.8595709696219732\n",
      "================\n",
      "================\n",
      "Configuration:\n",
      "C: 1.3829644167187185\n",
      "Tolerance: 0.0001\n",
      "Solver: liblinear\n",
      "Oversampling Method: none\n",
      "----------------\n",
      "[LibLinear][LibLinear][LibLinear]Results: -0.8595709917526059\n",
      "================\n",
      "================\n",
      "Configuration:\n",
      "C: 1.3828477364636937\n",
      "Tolerance: 0.0001\n",
      "Solver: liblinear\n",
      "Oversampling Method: none\n",
      "----------------\n",
      "[LibLinear][LibLinear][LibLinear]Results: -0.8595721029709473\n",
      "================\n",
      "================\n",
      "Configuration:\n",
      "C: 1.9323544219251878\n",
      "Tolerance: 0.0001\n",
      "Solver: lbfgs\n",
      "Oversampling Method: none\n",
      "----------------\n"
     ]
    },
    {
     "name": "stderr",
     "output_type": "stream",
     "text": [
      "[Parallel(n_jobs=1)]: Using backend SequentialBackend with 1 concurrent workers.\n",
      "[Parallel(n_jobs=1)]: Done   1 out of   1 | elapsed:    0.3s finished\n",
      "[Parallel(n_jobs=1)]: Using backend SequentialBackend with 1 concurrent workers.\n",
      "[Parallel(n_jobs=1)]: Done   1 out of   1 | elapsed:    0.3s finished\n",
      "[Parallel(n_jobs=1)]: Using backend SequentialBackend with 1 concurrent workers.\n",
      "[Parallel(n_jobs=1)]: Done   1 out of   1 | elapsed:    0.2s finished\n"
     ]
    },
    {
     "name": "stdout",
     "output_type": "stream",
     "text": [
      "Results: -0.8596646003724201\n",
      "================\n",
      "================\n",
      "Configuration:\n",
      "C: 1.9734347600496465\n",
      "Tolerance: 0.0001\n",
      "Solver: lbfgs\n",
      "Oversampling Method: none\n",
      "----------------\n"
     ]
    },
    {
     "name": "stderr",
     "output_type": "stream",
     "text": [
      "[Parallel(n_jobs=1)]: Using backend SequentialBackend with 1 concurrent workers.\n",
      "[Parallel(n_jobs=1)]: Done   1 out of   1 | elapsed:    0.3s finished\n",
      "[Parallel(n_jobs=1)]: Using backend SequentialBackend with 1 concurrent workers.\n",
      "[Parallel(n_jobs=1)]: Done   1 out of   1 | elapsed:    0.3s finished\n",
      "[Parallel(n_jobs=1)]: Using backend SequentialBackend with 1 concurrent workers.\n",
      "[Parallel(n_jobs=1)]: Done   1 out of   1 | elapsed:    0.2s finished\n"
     ]
    },
    {
     "name": "stdout",
     "output_type": "stream",
     "text": [
      "Results: -0.8597015454241917\n",
      "================\n",
      "================\n",
      "Configuration:\n",
      "C: 1.955778723464858\n",
      "Tolerance: 0.0001\n",
      "Solver: lbfgs\n",
      "Oversampling Method: none\n",
      "----------------\n"
     ]
    },
    {
     "name": "stderr",
     "output_type": "stream",
     "text": [
      "[Parallel(n_jobs=1)]: Using backend SequentialBackend with 1 concurrent workers.\n",
      "[Parallel(n_jobs=1)]: Done   1 out of   1 | elapsed:    0.3s finished\n",
      "[Parallel(n_jobs=1)]: Using backend SequentialBackend with 1 concurrent workers.\n",
      "[Parallel(n_jobs=1)]: Done   1 out of   1 | elapsed:    0.3s finished\n",
      "[Parallel(n_jobs=1)]: Using backend SequentialBackend with 1 concurrent workers.\n",
      "[Parallel(n_jobs=1)]: Done   1 out of   1 | elapsed:    0.3s finished\n"
     ]
    },
    {
     "name": "stdout",
     "output_type": "stream",
     "text": [
      "Results: -0.8597920492101857\n",
      "================\n",
      "================\n",
      "Configuration:\n",
      "C: 1.9971222064367125\n",
      "Tolerance: 0.0001\n",
      "Solver: lbfgs\n",
      "Oversampling Method: none\n",
      "----------------\n"
     ]
    },
    {
     "name": "stderr",
     "output_type": "stream",
     "text": [
      "[Parallel(n_jobs=1)]: Using backend SequentialBackend with 1 concurrent workers.\n",
      "[Parallel(n_jobs=1)]: Done   1 out of   1 | elapsed:    0.2s finished\n",
      "[Parallel(n_jobs=1)]: Using backend SequentialBackend with 1 concurrent workers.\n",
      "[Parallel(n_jobs=1)]: Done   1 out of   1 | elapsed:    0.3s finished\n",
      "[Parallel(n_jobs=1)]: Using backend SequentialBackend with 1 concurrent workers.\n",
      "[Parallel(n_jobs=1)]: Done   1 out of   1 | elapsed:    0.2s finished\n"
     ]
    },
    {
     "name": "stdout",
     "output_type": "stream",
     "text": [
      "Results: -0.8596707748508455\n",
      "================\n",
      "================\n",
      "Configuration:\n",
      "C: 1.9479593652024558\n",
      "Tolerance: 0.0001\n",
      "Solver: lbfgs\n",
      "Oversampling Method: none\n",
      "----------------\n"
     ]
    },
    {
     "name": "stderr",
     "output_type": "stream",
     "text": [
      "[Parallel(n_jobs=1)]: Using backend SequentialBackend with 1 concurrent workers.\n",
      "[Parallel(n_jobs=1)]: Done   1 out of   1 | elapsed:    0.3s finished\n",
      "[Parallel(n_jobs=1)]: Using backend SequentialBackend with 1 concurrent workers.\n",
      "[Parallel(n_jobs=1)]: Done   1 out of   1 | elapsed:    0.4s finished\n",
      "[Parallel(n_jobs=1)]: Using backend SequentialBackend with 1 concurrent workers.\n",
      "[Parallel(n_jobs=1)]: Done   1 out of   1 | elapsed:    0.3s finished\n"
     ]
    },
    {
     "name": "stdout",
     "output_type": "stream",
     "text": [
      "Results: -0.8596929749150032\n",
      "================\n",
      "================\n",
      "Configuration:\n",
      "C: 1.974437572275415\n",
      "Tolerance: 0.0001\n",
      "Solver: lbfgs\n",
      "Oversampling Method: none\n",
      "----------------\n"
     ]
    },
    {
     "name": "stderr",
     "output_type": "stream",
     "text": [
      "[Parallel(n_jobs=1)]: Using backend SequentialBackend with 1 concurrent workers.\n",
      "[Parallel(n_jobs=1)]: Done   1 out of   1 | elapsed:    0.3s finished\n",
      "[Parallel(n_jobs=1)]: Using backend SequentialBackend with 1 concurrent workers.\n",
      "[Parallel(n_jobs=1)]: Done   1 out of   1 | elapsed:    0.3s finished\n",
      "[Parallel(n_jobs=1)]: Using backend SequentialBackend with 1 concurrent workers.\n",
      "[Parallel(n_jobs=1)]: Done   1 out of   1 | elapsed:    0.3s finished\n"
     ]
    },
    {
     "name": "stdout",
     "output_type": "stream",
     "text": [
      "Results: -0.8597024945629669\n",
      "================\n",
      "================\n",
      "Configuration:\n",
      "C: 2.0509592991626224\n",
      "Tolerance: 0.009516502686010451\n",
      "Solver: sag\n",
      "Oversampling Method: ada\n",
      "----------------\n"
     ]
    },
    {
     "name": "stderr",
     "output_type": "stream",
     "text": [
      "[Parallel(n_jobs=1)]: Using backend SequentialBackend with 1 concurrent workers.\n"
     ]
    },
    {
     "name": "stdout",
     "output_type": "stream",
     "text": [
      "convergence after 21 epochs took 0 seconds\n"
     ]
    },
    {
     "name": "stderr",
     "output_type": "stream",
     "text": [
      "[Parallel(n_jobs=1)]: Done   1 out of   1 | elapsed:    0.6s finished\n",
      "[Parallel(n_jobs=1)]: Using backend SequentialBackend with 1 concurrent workers.\n"
     ]
    },
    {
     "name": "stdout",
     "output_type": "stream",
     "text": [
      "convergence after 23 epochs took 1 seconds\n"
     ]
    },
    {
     "name": "stderr",
     "output_type": "stream",
     "text": [
      "[Parallel(n_jobs=1)]: Done   1 out of   1 | elapsed:    0.7s finished\n",
      "[Parallel(n_jobs=1)]: Using backend SequentialBackend with 1 concurrent workers.\n"
     ]
    },
    {
     "name": "stdout",
     "output_type": "stream",
     "text": [
      "convergence after 16 epochs took 1 seconds\n",
      "Results: -0.8596078154559893\n",
      "================\n"
     ]
    },
    {
     "name": "stderr",
     "output_type": "stream",
     "text": [
      "[Parallel(n_jobs=1)]: Done   1 out of   1 | elapsed:    0.5s finished\n"
     ]
    },
    {
     "name": "stdout",
     "output_type": "stream",
     "text": [
      "================\n",
      "Configuration:\n",
      "C: 2.2596878281744215\n",
      "Tolerance: 0.05835111751168429\n",
      "Solver: sag\n",
      "Oversampling Method: ada\n",
      "----------------\n"
     ]
    },
    {
     "name": "stderr",
     "output_type": "stream",
     "text": [
      "[Parallel(n_jobs=1)]: Using backend SequentialBackend with 1 concurrent workers.\n"
     ]
    },
    {
     "name": "stdout",
     "output_type": "stream",
     "text": [
      "convergence after 6 epochs took 1 seconds\n"
     ]
    },
    {
     "name": "stderr",
     "output_type": "stream",
     "text": [
      "[Parallel(n_jobs=1)]: Done   1 out of   1 | elapsed:    0.1s finished\n",
      "[Parallel(n_jobs=1)]: Using backend SequentialBackend with 1 concurrent workers.\n"
     ]
    },
    {
     "name": "stdout",
     "output_type": "stream",
     "text": [
      "convergence after 7 epochs took 0 seconds\n"
     ]
    },
    {
     "name": "stderr",
     "output_type": "stream",
     "text": [
      "[Parallel(n_jobs=1)]: Done   1 out of   1 | elapsed:    0.2s finished\n",
      "[Parallel(n_jobs=1)]: Using backend SequentialBackend with 1 concurrent workers.\n"
     ]
    },
    {
     "name": "stdout",
     "output_type": "stream",
     "text": [
      "convergence after 6 epochs took 0 seconds\n",
      "Results: -0.8585010903014548\n",
      "================\n"
     ]
    },
    {
     "name": "stderr",
     "output_type": "stream",
     "text": [
      "[Parallel(n_jobs=1)]: Done   1 out of   1 | elapsed:    0.2s finished\n"
     ]
    },
    {
     "name": "stdout",
     "output_type": "stream",
     "text": [
      "================\n",
      "Configuration:\n",
      "C: 1.8552989321643838\n",
      "Tolerance: 0.048709920013108005\n",
      "Solver: sag\n",
      "Oversampling Method: ada\n",
      "----------------\n"
     ]
    },
    {
     "name": "stderr",
     "output_type": "stream",
     "text": [
      "[Parallel(n_jobs=1)]: Using backend SequentialBackend with 1 concurrent workers.\n"
     ]
    },
    {
     "name": "stdout",
     "output_type": "stream",
     "text": [
      "convergence after 7 epochs took 1 seconds\n"
     ]
    },
    {
     "name": "stderr",
     "output_type": "stream",
     "text": [
      "[Parallel(n_jobs=1)]: Done   1 out of   1 | elapsed:    0.2s finished\n",
      "[Parallel(n_jobs=1)]: Using backend SequentialBackend with 1 concurrent workers.\n"
     ]
    },
    {
     "name": "stdout",
     "output_type": "stream",
     "text": [
      "convergence after 7 epochs took 0 seconds\n"
     ]
    },
    {
     "name": "stderr",
     "output_type": "stream",
     "text": [
      "[Parallel(n_jobs=1)]: Done   1 out of   1 | elapsed:    0.2s finished\n",
      "[Parallel(n_jobs=1)]: Using backend SequentialBackend with 1 concurrent workers.\n"
     ]
    },
    {
     "name": "stdout",
     "output_type": "stream",
     "text": [
      "convergence after 6 epochs took 0 seconds\n",
      "Results: -0.8594176021314398\n",
      "================\n"
     ]
    },
    {
     "name": "stderr",
     "output_type": "stream",
     "text": [
      "[Parallel(n_jobs=1)]: Done   1 out of   1 | elapsed:    0.2s finished\n"
     ]
    },
    {
     "name": "stdout",
     "output_type": "stream",
     "text": [
      "================\n",
      "Configuration:\n",
      "C: 2.0841152533622105\n",
      "Tolerance: 0.026302120596633154\n",
      "Solver: saga\n",
      "Oversampling Method: ada\n",
      "----------------\n"
     ]
    },
    {
     "name": "stderr",
     "output_type": "stream",
     "text": [
      "[Parallel(n_jobs=1)]: Using backend SequentialBackend with 1 concurrent workers.\n"
     ]
    },
    {
     "name": "stdout",
     "output_type": "stream",
     "text": [
      "convergence after 11 epochs took 0 seconds\n"
     ]
    },
    {
     "name": "stderr",
     "output_type": "stream",
     "text": [
      "[Parallel(n_jobs=1)]: Done   1 out of   1 | elapsed:    0.2s finished\n",
      "[Parallel(n_jobs=1)]: Using backend SequentialBackend with 1 concurrent workers.\n"
     ]
    },
    {
     "name": "stdout",
     "output_type": "stream",
     "text": [
      "convergence after 10 epochs took 1 seconds\n"
     ]
    },
    {
     "name": "stderr",
     "output_type": "stream",
     "text": [
      "[Parallel(n_jobs=1)]: Done   1 out of   1 | elapsed:    0.2s finished\n",
      "[Parallel(n_jobs=1)]: Using backend SequentialBackend with 1 concurrent workers.\n"
     ]
    },
    {
     "name": "stdout",
     "output_type": "stream",
     "text": [
      "convergence after 10 epochs took 0 seconds\n",
      "Results: -0.8586396288621264\n",
      "================\n"
     ]
    },
    {
     "name": "stderr",
     "output_type": "stream",
     "text": [
      "[Parallel(n_jobs=1)]: Done   1 out of   1 | elapsed:    0.3s finished\n"
     ]
    },
    {
     "name": "stdout",
     "output_type": "stream",
     "text": [
      "================\n",
      "Configuration:\n",
      "C: 2.806862320085176\n",
      "Tolerance: 0.04676177024480872\n",
      "Solver: sag\n",
      "Oversampling Method: ada\n",
      "----------------\n"
     ]
    },
    {
     "name": "stderr",
     "output_type": "stream",
     "text": [
      "[Parallel(n_jobs=1)]: Using backend SequentialBackend with 1 concurrent workers.\n"
     ]
    },
    {
     "name": "stdout",
     "output_type": "stream",
     "text": [
      "convergence after 7 epochs took 0 seconds\n"
     ]
    },
    {
     "name": "stderr",
     "output_type": "stream",
     "text": [
      "[Parallel(n_jobs=1)]: Done   1 out of   1 | elapsed:    0.2s finished\n",
      "[Parallel(n_jobs=1)]: Using backend SequentialBackend with 1 concurrent workers.\n"
     ]
    },
    {
     "name": "stdout",
     "output_type": "stream",
     "text": [
      "convergence after 8 epochs took 1 seconds\n"
     ]
    },
    {
     "name": "stderr",
     "output_type": "stream",
     "text": [
      "[Parallel(n_jobs=1)]: Done   1 out of   1 | elapsed:    0.2s finished\n",
      "[Parallel(n_jobs=1)]: Using backend SequentialBackend with 1 concurrent workers.\n"
     ]
    },
    {
     "name": "stdout",
     "output_type": "stream",
     "text": [
      "convergence after 7 epochs took 0 seconds\n",
      "Results: -0.858985464681313\n",
      "================\n"
     ]
    },
    {
     "name": "stderr",
     "output_type": "stream",
     "text": [
      "[Parallel(n_jobs=1)]: Done   1 out of   1 | elapsed:    0.2s finished\n"
     ]
    },
    {
     "name": "stdout",
     "output_type": "stream",
     "text": [
      "================\n",
      "Configuration:\n",
      "C: 1.9458216857790365\n",
      "Tolerance: 0.0001\n",
      "Solver: lbfgs\n",
      "Oversampling Method: none\n",
      "----------------\n"
     ]
    },
    {
     "name": "stderr",
     "output_type": "stream",
     "text": [
      "[Parallel(n_jobs=1)]: Using backend SequentialBackend with 1 concurrent workers.\n",
      "[Parallel(n_jobs=1)]: Done   1 out of   1 | elapsed:    0.3s finished\n",
      "[Parallel(n_jobs=1)]: Using backend SequentialBackend with 1 concurrent workers.\n",
      "[Parallel(n_jobs=1)]: Done   1 out of   1 | elapsed:    0.3s finished\n",
      "[Parallel(n_jobs=1)]: Using backend SequentialBackend with 1 concurrent workers.\n",
      "[Parallel(n_jobs=1)]: Done   1 out of   1 | elapsed:    0.3s finished\n"
     ]
    },
    {
     "name": "stdout",
     "output_type": "stream",
     "text": [
      "Results: -0.8596928782801516\n",
      "================\n",
      "================\n",
      "Configuration:\n",
      "C: 1.9428001574714213\n",
      "Tolerance: 0.0001\n",
      "Solver: lbfgs\n",
      "Oversampling Method: none\n",
      "----------------\n"
     ]
    },
    {
     "name": "stderr",
     "output_type": "stream",
     "text": [
      "[Parallel(n_jobs=1)]: Using backend SequentialBackend with 1 concurrent workers.\n",
      "[Parallel(n_jobs=1)]: Done   1 out of   1 | elapsed:    0.3s finished\n",
      "[Parallel(n_jobs=1)]: Using backend SequentialBackend with 1 concurrent workers.\n",
      "[Parallel(n_jobs=1)]: Done   1 out of   1 | elapsed:    0.3s finished\n",
      "[Parallel(n_jobs=1)]: Using backend SequentialBackend with 1 concurrent workers.\n",
      "[Parallel(n_jobs=1)]: Done   1 out of   1 | elapsed:    0.3s finished\n"
     ]
    },
    {
     "name": "stdout",
     "output_type": "stream",
     "text": [
      "Results: -0.8596853708259093\n",
      "================\n",
      "================\n",
      "Configuration:\n",
      "C: 1.6626823771442736\n",
      "Tolerance: 0.006405921523485766\n",
      "Solver: saga\n",
      "Oversampling Method: none\n",
      "----------------\n"
     ]
    },
    {
     "name": "stderr",
     "output_type": "stream",
     "text": [
      "[Parallel(n_jobs=1)]: Using backend SequentialBackend with 1 concurrent workers.\n"
     ]
    },
    {
     "name": "stdout",
     "output_type": "stream",
     "text": [
      "convergence after 25 epochs took 1 seconds\n"
     ]
    },
    {
     "name": "stderr",
     "output_type": "stream",
     "text": [
      "[Parallel(n_jobs=1)]: Done   1 out of   1 | elapsed:    0.6s finished\n",
      "[Parallel(n_jobs=1)]: Using backend SequentialBackend with 1 concurrent workers.\n"
     ]
    },
    {
     "name": "stdout",
     "output_type": "stream",
     "text": [
      "convergence after 30 epochs took 1 seconds\n"
     ]
    },
    {
     "name": "stderr",
     "output_type": "stream",
     "text": [
      "[Parallel(n_jobs=1)]: Done   1 out of   1 | elapsed:    0.8s finished\n",
      "[Parallel(n_jobs=1)]: Using backend SequentialBackend with 1 concurrent workers.\n"
     ]
    },
    {
     "name": "stdout",
     "output_type": "stream",
     "text": [
      "convergence after 26 epochs took 1 seconds\n",
      "Results: -0.8594523338518235\n",
      "================\n"
     ]
    },
    {
     "name": "stderr",
     "output_type": "stream",
     "text": [
      "[Parallel(n_jobs=1)]: Done   1 out of   1 | elapsed:    0.8s finished\n"
     ]
    },
    {
     "name": "stdout",
     "output_type": "stream",
     "text": [
      "================\n",
      "Configuration:\n",
      "C: 1.9408280739218111\n",
      "Tolerance: 0.0001\n",
      "Solver: lbfgs\n",
      "Oversampling Method: none\n",
      "----------------\n"
     ]
    },
    {
     "name": "stderr",
     "output_type": "stream",
     "text": [
      "[Parallel(n_jobs=1)]: Using backend SequentialBackend with 1 concurrent workers.\n",
      "[Parallel(n_jobs=1)]: Done   1 out of   1 | elapsed:    0.3s finished\n",
      "[Parallel(n_jobs=1)]: Using backend SequentialBackend with 1 concurrent workers.\n",
      "[Parallel(n_jobs=1)]: Done   1 out of   1 | elapsed:    0.3s finished\n",
      "[Parallel(n_jobs=1)]: Using backend SequentialBackend with 1 concurrent workers.\n",
      "[Parallel(n_jobs=1)]: Done   1 out of   1 | elapsed:    0.3s finished\n"
     ]
    },
    {
     "name": "stdout",
     "output_type": "stream",
     "text": [
      "Results: -0.8596880119216156\n",
      "================\n",
      "================\n",
      "Configuration:\n",
      "C: 1.9417698455404169\n",
      "Tolerance: 0.0001\n",
      "Solver: lbfgs\n",
      "Oversampling Method: none\n",
      "----------------\n"
     ]
    },
    {
     "name": "stderr",
     "output_type": "stream",
     "text": [
      "[Parallel(n_jobs=1)]: Using backend SequentialBackend with 1 concurrent workers.\n",
      "[Parallel(n_jobs=1)]: Done   1 out of   1 | elapsed:    0.3s finished\n",
      "[Parallel(n_jobs=1)]: Using backend SequentialBackend with 1 concurrent workers.\n",
      "[Parallel(n_jobs=1)]: Done   1 out of   1 | elapsed:    0.3s finished\n",
      "[Parallel(n_jobs=1)]: Using backend SequentialBackend with 1 concurrent workers.\n",
      "[Parallel(n_jobs=1)]: Done   1 out of   1 | elapsed:    0.3s finished\n"
     ]
    },
    {
     "name": "stdout",
     "output_type": "stream",
     "text": [
      "Results: -0.8597318152567602\n",
      "================\n",
      "================\n",
      "Configuration:\n",
      "C: 2.349785522109659\n",
      "Tolerance: 0.08007690636316692\n",
      "Solver: sag\n",
      "Oversampling Method: none\n",
      "----------------\n"
     ]
    },
    {
     "name": "stderr",
     "output_type": "stream",
     "text": [
      "[Parallel(n_jobs=1)]: Using backend SequentialBackend with 1 concurrent workers.\n"
     ]
    },
    {
     "name": "stdout",
     "output_type": "stream",
     "text": [
      "convergence after 5 epochs took 0 seconds\n"
     ]
    },
    {
     "name": "stderr",
     "output_type": "stream",
     "text": [
      "[Parallel(n_jobs=1)]: Done   1 out of   1 | elapsed:    0.1s finished\n",
      "[Parallel(n_jobs=1)]: Using backend SequentialBackend with 1 concurrent workers.\n"
     ]
    },
    {
     "name": "stdout",
     "output_type": "stream",
     "text": [
      "convergence after 5 epochs took 0 seconds\n"
     ]
    },
    {
     "name": "stderr",
     "output_type": "stream",
     "text": [
      "[Parallel(n_jobs=1)]: Done   1 out of   1 | elapsed:    0.1s finished\n",
      "[Parallel(n_jobs=1)]: Using backend SequentialBackend with 1 concurrent workers.\n"
     ]
    },
    {
     "name": "stdout",
     "output_type": "stream",
     "text": [
      "convergence after 5 epochs took 1 seconds\n",
      "Results: -0.8584007938859491\n",
      "================\n"
     ]
    },
    {
     "name": "stderr",
     "output_type": "stream",
     "text": [
      "[Parallel(n_jobs=1)]: Done   1 out of   1 | elapsed:    0.2s finished\n"
     ]
    },
    {
     "name": "stdout",
     "output_type": "stream",
     "text": [
      "================\n",
      "Configuration:\n",
      "C: 2.537162113630921\n",
      "Tolerance: 0.0001\n",
      "Solver: liblinear\n",
      "Oversampling Method: none\n",
      "----------------\n",
      "[LibLinear][LibLinear][LibLinear]Results: -0.8597487234808514\n",
      "================\n",
      "================\n",
      "Configuration:\n",
      "C: 1.941951255099213\n",
      "Tolerance: 0.0001\n",
      "Solver: lbfgs\n",
      "Oversampling Method: none\n",
      "----------------\n"
     ]
    },
    {
     "name": "stderr",
     "output_type": "stream",
     "text": [
      "[Parallel(n_jobs=1)]: Using backend SequentialBackend with 1 concurrent workers.\n",
      "[Parallel(n_jobs=1)]: Done   1 out of   1 | elapsed:    0.4s finished\n",
      "[Parallel(n_jobs=1)]: Using backend SequentialBackend with 1 concurrent workers.\n",
      "[Parallel(n_jobs=1)]: Done   1 out of   1 | elapsed:    0.3s finished\n",
      "[Parallel(n_jobs=1)]: Using backend SequentialBackend with 1 concurrent workers.\n",
      "[Parallel(n_jobs=1)]: Done   1 out of   1 | elapsed:    0.4s finished\n"
     ]
    },
    {
     "name": "stdout",
     "output_type": "stream",
     "text": [
      "Results: -0.8597078193684938\n",
      "================\n",
      "================\n",
      "Configuration:\n",
      "C: 2.08877702922861\n",
      "Tolerance: 0.04178324151236744\n",
      "Solver: sag\n",
      "Oversampling Method: none\n",
      "----------------\n"
     ]
    },
    {
     "name": "stderr",
     "output_type": "stream",
     "text": [
      "[Parallel(n_jobs=1)]: Using backend SequentialBackend with 1 concurrent workers.\n",
      "[Parallel(n_jobs=1)]: Done   1 out of   1 | elapsed:    0.1s finished\n"
     ]
    },
    {
     "name": "stdout",
     "output_type": "stream",
     "text": [
      "convergence after 7 epochs took 0 seconds\n"
     ]
    },
    {
     "name": "stderr",
     "output_type": "stream",
     "text": [
      "[Parallel(n_jobs=1)]: Using backend SequentialBackend with 1 concurrent workers.\n"
     ]
    },
    {
     "name": "stdout",
     "output_type": "stream",
     "text": [
      "convergence after 8 epochs took 0 seconds\n"
     ]
    },
    {
     "name": "stderr",
     "output_type": "stream",
     "text": [
      "[Parallel(n_jobs=1)]: Done   1 out of   1 | elapsed:    0.1s finished\n",
      "[Parallel(n_jobs=1)]: Using backend SequentialBackend with 1 concurrent workers.\n"
     ]
    },
    {
     "name": "stdout",
     "output_type": "stream",
     "text": [
      "convergence after 7 epochs took 0 seconds\n",
      "Results: -0.8588907883291816\n",
      "================\n"
     ]
    },
    {
     "name": "stderr",
     "output_type": "stream",
     "text": [
      "[Parallel(n_jobs=1)]: Done   1 out of   1 | elapsed:    0.1s finished\n"
     ]
    },
    {
     "name": "stdout",
     "output_type": "stream",
     "text": [
      "================\n",
      "Configuration:\n",
      "C: 1.8983443091148895\n",
      "Tolerance: 0.0001\n",
      "Solver: lbfgs\n",
      "Oversampling Method: none\n",
      "----------------\n"
     ]
    },
    {
     "name": "stderr",
     "output_type": "stream",
     "text": [
      "[Parallel(n_jobs=1)]: Using backend SequentialBackend with 1 concurrent workers.\n",
      "[Parallel(n_jobs=1)]: Done   1 out of   1 | elapsed:    0.3s finished\n",
      "[Parallel(n_jobs=1)]: Using backend SequentialBackend with 1 concurrent workers.\n",
      "[Parallel(n_jobs=1)]: Done   1 out of   1 | elapsed:    0.3s finished\n",
      "[Parallel(n_jobs=1)]: Using backend SequentialBackend with 1 concurrent workers.\n",
      "[Parallel(n_jobs=1)]: Done   1 out of   1 | elapsed:    0.3s finished\n"
     ]
    },
    {
     "name": "stdout",
     "output_type": "stream",
     "text": [
      "Results: -0.8597178979070362\n",
      "================\n",
      "================\n",
      "Configuration:\n",
      "C: 1.942326579473409\n",
      "Tolerance: 0.0001\n",
      "Solver: lbfgs\n",
      "Oversampling Method: none\n",
      "----------------\n"
     ]
    },
    {
     "name": "stderr",
     "output_type": "stream",
     "text": [
      "[Parallel(n_jobs=1)]: Using backend SequentialBackend with 1 concurrent workers.\n",
      "[Parallel(n_jobs=1)]: Done   1 out of   1 | elapsed:    0.3s finished\n",
      "[Parallel(n_jobs=1)]: Using backend SequentialBackend with 1 concurrent workers.\n",
      "[Parallel(n_jobs=1)]: Done   1 out of   1 | elapsed:    0.4s finished\n",
      "[Parallel(n_jobs=1)]: Using backend SequentialBackend with 1 concurrent workers.\n",
      "[Parallel(n_jobs=1)]: Done   1 out of   1 | elapsed:    0.3s finished\n"
     ]
    },
    {
     "name": "stdout",
     "output_type": "stream",
     "text": [
      "Results: -0.8597752050354736\n",
      "================\n",
      "================\n",
      "Configuration:\n",
      "C: 1.9449419262613754\n",
      "Tolerance: 0.0001\n",
      "Solver: lbfgs\n",
      "Oversampling Method: none\n",
      "----------------\n"
     ]
    },
    {
     "name": "stderr",
     "output_type": "stream",
     "text": [
      "[Parallel(n_jobs=1)]: Using backend SequentialBackend with 1 concurrent workers.\n",
      "[Parallel(n_jobs=1)]: Done   1 out of   1 | elapsed:    0.3s finished\n",
      "[Parallel(n_jobs=1)]: Using backend SequentialBackend with 1 concurrent workers.\n",
      "[Parallel(n_jobs=1)]: Done   1 out of   1 | elapsed:    0.3s finished\n",
      "[Parallel(n_jobs=1)]: Using backend SequentialBackend with 1 concurrent workers.\n",
      "[Parallel(n_jobs=1)]: Done   1 out of   1 | elapsed:    0.4s finished\n"
     ]
    },
    {
     "name": "stdout",
     "output_type": "stream",
     "text": [
      "Results: -0.8597340242838656\n",
      "================\n",
      "================\n",
      "Configuration:\n",
      "C: 1.8967219176287777\n",
      "Tolerance: 0.0001\n",
      "Solver: lbfgs\n",
      "Oversampling Method: none\n",
      "----------------\n"
     ]
    },
    {
     "name": "stderr",
     "output_type": "stream",
     "text": [
      "[Parallel(n_jobs=1)]: Using backend SequentialBackend with 1 concurrent workers.\n",
      "[Parallel(n_jobs=1)]: Done   1 out of   1 | elapsed:    0.3s finished\n",
      "[Parallel(n_jobs=1)]: Using backend SequentialBackend with 1 concurrent workers.\n",
      "[Parallel(n_jobs=1)]: Done   1 out of   1 | elapsed:    0.3s finished\n",
      "[Parallel(n_jobs=1)]: Using backend SequentialBackend with 1 concurrent workers.\n",
      "[Parallel(n_jobs=1)]: Done   1 out of   1 | elapsed:    0.3s finished\n"
     ]
    },
    {
     "name": "stdout",
     "output_type": "stream",
     "text": [
      "Results: -0.8597586263904379\n",
      "================\n",
      "================\n",
      "Configuration:\n",
      "C: 1.6579724031405485\n",
      "Tolerance: 0.0001\n",
      "Solver: newton-cg\n",
      "Oversampling Method: none\n",
      "----------------\n"
     ]
    },
    {
     "name": "stderr",
     "output_type": "stream",
     "text": [
      "[Parallel(n_jobs=1)]: Using backend SequentialBackend with 1 concurrent workers.\n",
      "[Parallel(n_jobs=1)]: Done   1 out of   1 | elapsed:    0.2s finished\n",
      "[Parallel(n_jobs=1)]: Using backend SequentialBackend with 1 concurrent workers.\n",
      "[Parallel(n_jobs=1)]: Done   1 out of   1 | elapsed:    0.3s finished\n",
      "[Parallel(n_jobs=1)]: Using backend SequentialBackend with 1 concurrent workers.\n",
      "[Parallel(n_jobs=1)]: Done   1 out of   1 | elapsed:    0.2s finished\n"
     ]
    },
    {
     "name": "stdout",
     "output_type": "stream",
     "text": [
      "Results: -0.8596475598593125\n",
      "================\n",
      "================\n",
      "Configuration:\n",
      "C: 2.859891772661814\n",
      "Tolerance: 0.003751793202786804\n",
      "Solver: liblinear\n",
      "Oversampling Method: none\n",
      "----------------\n",
      "[LibLinear][LibLinear][LibLinear]Results: -0.8596869598921888\n",
      "================\n",
      "================\n",
      "Configuration:\n",
      "C: 2.762665984824993\n",
      "Tolerance: 0.01167825503992712\n",
      "Solver: saga\n",
      "Oversampling Method: none\n",
      "----------------\n"
     ]
    },
    {
     "name": "stderr",
     "output_type": "stream",
     "text": [
      "[Parallel(n_jobs=1)]: Using backend SequentialBackend with 1 concurrent workers.\n"
     ]
    },
    {
     "name": "stdout",
     "output_type": "stream",
     "text": [
      "convergence after 19 epochs took 0 seconds\n"
     ]
    },
    {
     "name": "stderr",
     "output_type": "stream",
     "text": [
      "[Parallel(n_jobs=1)]: Done   1 out of   1 | elapsed:    0.4s finished\n",
      "[Parallel(n_jobs=1)]: Using backend SequentialBackend with 1 concurrent workers.\n"
     ]
    },
    {
     "name": "stdout",
     "output_type": "stream",
     "text": [
      "convergence after 19 epochs took 1 seconds\n"
     ]
    },
    {
     "name": "stderr",
     "output_type": "stream",
     "text": [
      "[Parallel(n_jobs=1)]: Done   1 out of   1 | elapsed:    0.4s finished\n",
      "[Parallel(n_jobs=1)]: Using backend SequentialBackend with 1 concurrent workers.\n"
     ]
    },
    {
     "name": "stdout",
     "output_type": "stream",
     "text": [
      "convergence after 17 epochs took 0 seconds\n",
      "Results: -0.859254683326984\n",
      "================\n"
     ]
    },
    {
     "name": "stderr",
     "output_type": "stream",
     "text": [
      "[Parallel(n_jobs=1)]: Done   1 out of   1 | elapsed:    0.4s finished\n"
     ]
    },
    {
     "name": "stdout",
     "output_type": "stream",
     "text": [
      "================\n",
      "Configuration:\n",
      "C: 2.5533369607216096\n",
      "Tolerance: 0.006604095840741608\n",
      "Solver: sag\n",
      "Oversampling Method: ada\n",
      "----------------\n"
     ]
    },
    {
     "name": "stderr",
     "output_type": "stream",
     "text": [
      "[Parallel(n_jobs=1)]: Using backend SequentialBackend with 1 concurrent workers.\n"
     ]
    },
    {
     "name": "stdout",
     "output_type": "stream",
     "text": [
      "convergence after 36 epochs took 2 seconds\n"
     ]
    },
    {
     "name": "stderr",
     "output_type": "stream",
     "text": [
      "[Parallel(n_jobs=1)]: Done   1 out of   1 | elapsed:    1.8s finished\n",
      "[Parallel(n_jobs=1)]: Using backend SequentialBackend with 1 concurrent workers.\n"
     ]
    },
    {
     "name": "stdout",
     "output_type": "stream",
     "text": [
      "convergence after 29 epochs took 1 seconds\n"
     ]
    },
    {
     "name": "stderr",
     "output_type": "stream",
     "text": [
      "[Parallel(n_jobs=1)]: Done   1 out of   1 | elapsed:    1.1s finished\n",
      "[Parallel(n_jobs=1)]: Using backend SequentialBackend with 1 concurrent workers.\n"
     ]
    },
    {
     "name": "stdout",
     "output_type": "stream",
     "text": [
      "convergence after 23 epochs took 1 seconds\n",
      "Results: -0.8596803912570246\n",
      "================\n"
     ]
    },
    {
     "name": "stderr",
     "output_type": "stream",
     "text": [
      "[Parallel(n_jobs=1)]: Done   1 out of   1 | elapsed:    1.0s finished\n"
     ]
    },
    {
     "name": "stdout",
     "output_type": "stream",
     "text": [
      "================\n",
      "Configuration:\n",
      "C: 2.7610153353336147\n",
      "Tolerance: 0.0198885390317483\n",
      "Solver: liblinear\n",
      "Oversampling Method: none\n",
      "----------------\n",
      "[LibLinear][LibLinear][LibLinear]Results: -0.8586832853198905\n",
      "================\n",
      "================\n",
      "Configuration:\n",
      "C: 2.1250031505039684\n",
      "Tolerance: 0.08321483255314571\n",
      "Solver: liblinear\n",
      "Oversampling Method: ada\n",
      "----------------\n",
      "[LibLinear][LibLinear][LibLinear]Results: -0.8511542681834686\n",
      "================\n",
      "================\n",
      "Configuration:\n",
      "C: 2.7699413549331853\n",
      "Tolerance: 0.06221642390176458\n",
      "Solver: sag\n",
      "Oversampling Method: ada\n",
      "----------------\n"
     ]
    },
    {
     "name": "stderr",
     "output_type": "stream",
     "text": [
      "[Parallel(n_jobs=1)]: Using backend SequentialBackend with 1 concurrent workers.\n"
     ]
    },
    {
     "name": "stdout",
     "output_type": "stream",
     "text": [
      "convergence after 6 epochs took 1 seconds\n"
     ]
    },
    {
     "name": "stderr",
     "output_type": "stream",
     "text": [
      "[Parallel(n_jobs=1)]: Done   1 out of   1 | elapsed:    0.1s finished\n",
      "[Parallel(n_jobs=1)]: Using backend SequentialBackend with 1 concurrent workers.\n"
     ]
    },
    {
     "name": "stdout",
     "output_type": "stream",
     "text": [
      "convergence after 6 epochs took 0 seconds\n"
     ]
    },
    {
     "name": "stderr",
     "output_type": "stream",
     "text": [
      "[Parallel(n_jobs=1)]: Done   1 out of   1 | elapsed:    0.1s finished\n",
      "[Parallel(n_jobs=1)]: Using backend SequentialBackend with 1 concurrent workers.\n"
     ]
    },
    {
     "name": "stdout",
     "output_type": "stream",
     "text": [
      "convergence after 6 epochs took 0 seconds\n",
      "Results: -0.8593146671749042\n",
      "================\n"
     ]
    },
    {
     "name": "stderr",
     "output_type": "stream",
     "text": [
      "[Parallel(n_jobs=1)]: Done   1 out of   1 | elapsed:    0.1s finished\n"
     ]
    },
    {
     "name": "stdout",
     "output_type": "stream",
     "text": [
      "================\n",
      "Configuration:\n",
      "C: 2.83863713145594\n",
      "Tolerance: 0.02156315159876714\n",
      "Solver: sag\n",
      "Oversampling Method: ada\n",
      "----------------\n"
     ]
    },
    {
     "name": "stderr",
     "output_type": "stream",
     "text": [
      "[Parallel(n_jobs=1)]: Using backend SequentialBackend with 1 concurrent workers.\n"
     ]
    },
    {
     "name": "stdout",
     "output_type": "stream",
     "text": [
      "convergence after 10 epochs took 1 seconds\n"
     ]
    },
    {
     "name": "stderr",
     "output_type": "stream",
     "text": [
      "[Parallel(n_jobs=1)]: Done   1 out of   1 | elapsed:    0.2s finished\n",
      "[Parallel(n_jobs=1)]: Using backend SequentialBackend with 1 concurrent workers.\n"
     ]
    },
    {
     "name": "stdout",
     "output_type": "stream",
     "text": [
      "convergence after 12 epochs took 0 seconds\n"
     ]
    },
    {
     "name": "stderr",
     "output_type": "stream",
     "text": [
      "[Parallel(n_jobs=1)]: Done   1 out of   1 | elapsed:    0.2s finished\n",
      "[Parallel(n_jobs=1)]: Using backend SequentialBackend with 1 concurrent workers.\n"
     ]
    },
    {
     "name": "stdout",
     "output_type": "stream",
     "text": [
      "convergence after 11 epochs took 0 seconds\n",
      "Results: -0.8596010059385427\n",
      "================\n"
     ]
    },
    {
     "name": "stderr",
     "output_type": "stream",
     "text": [
      "[Parallel(n_jobs=1)]: Done   1 out of   1 | elapsed:    0.2s finished\n"
     ]
    },
    {
     "name": "stdout",
     "output_type": "stream",
     "text": [
      "================\n",
      "Configuration:\n",
      "C: 0.748755947698631\n",
      "Tolerance: 0.050618231405792774\n",
      "Solver: sag\n",
      "Oversampling Method: ada\n",
      "----------------\n"
     ]
    },
    {
     "name": "stderr",
     "output_type": "stream",
     "text": [
      "[Parallel(n_jobs=1)]: Using backend SequentialBackend with 1 concurrent workers.\n",
      "[Parallel(n_jobs=1)]: Done   1 out of   1 | elapsed:    0.1s finished\n"
     ]
    },
    {
     "name": "stdout",
     "output_type": "stream",
     "text": [
      "convergence after 6 epochs took 0 seconds\n"
     ]
    },
    {
     "name": "stderr",
     "output_type": "stream",
     "text": [
      "[Parallel(n_jobs=1)]: Using backend SequentialBackend with 1 concurrent workers.\n"
     ]
    },
    {
     "name": "stdout",
     "output_type": "stream",
     "text": [
      "convergence after 7 epochs took 0 seconds\n",
      "convergence after 6 epochs took 1 seconds\n",
      "Results: -0.8585163282354135\n",
      "================\n"
     ]
    },
    {
     "name": "stderr",
     "output_type": "stream",
     "text": [
      "[Parallel(n_jobs=1)]: Done   1 out of   1 | elapsed:    0.1s finished\n",
      "[Parallel(n_jobs=1)]: Using backend SequentialBackend with 1 concurrent workers.\n",
      "[Parallel(n_jobs=1)]: Done   1 out of   1 | elapsed:    0.1s finished\n"
     ]
    },
    {
     "name": "stdout",
     "output_type": "stream",
     "text": [
      "================\n",
      "Configuration:\n",
      "C: 3.0\n",
      "Tolerance: 0.032969950738958226\n",
      "Solver: newton-cholesky\n",
      "Oversampling Method: ada\n",
      "----------------\n",
      "Newton iter=1\n",
      "  Check Convergence\n",
      "    1. max |gradient| 0.0282594792077637 <= 0.032969950738958226\n",
      "    2. Newton decrement 0.17219577724805477 <= 0.032969950738958226\n",
      "Newton iter=2\n",
      "  Check Convergence\n",
      "    1. max |gradient| 0.005745313002866469 <= 0.032969950738958226\n",
      "    2. Newton decrement 0.02233225734237848 <= 0.032969950738958226\n",
      "  Solver did converge at loss = 0.4711304012041946.\n",
      "Newton iter=1\n",
      "  Check Convergence\n",
      "    1. max |gradient| 0.034200556483618964 <= 0.032969950738958226\n",
      "Newton iter=2\n",
      "  Check Convergence\n",
      "    1. max |gradient| 0.006606273317286807 <= 0.032969950738958226\n",
      "    2. Newton decrement 0.021899980002729642 <= 0.032969950738958226\n",
      "  Solver did converge at loss = 0.4622634190334925.\n"
     ]
    },
    {
     "name": "stderr",
     "output_type": "stream",
     "text": [
      "[Parallel(n_jobs=1)]: Using backend SequentialBackend with 1 concurrent workers.\n",
      "[Parallel(n_jobs=1)]: Done   1 out of   1 | elapsed:    0.0s finished\n",
      "[Parallel(n_jobs=1)]: Using backend SequentialBackend with 1 concurrent workers.\n",
      "[Parallel(n_jobs=1)]: Done   1 out of   1 | elapsed:    0.0s finished\n",
      "[Parallel(n_jobs=1)]: Using backend SequentialBackend with 1 concurrent workers.\n",
      "[Parallel(n_jobs=1)]: Done   1 out of   1 | elapsed:    0.0s finished\n"
     ]
    },
    {
     "name": "stdout",
     "output_type": "stream",
     "text": [
      "Newton iter=1\n",
      "  Check Convergence\n",
      "    1. max |gradient| 0.0353459483597149 <= 0.032969950738958226\n",
      "Newton iter=2\n",
      "  Check Convergence\n",
      "    1. max |gradient| 0.0070394199718326915 <= 0.032969950738958226\n",
      "    2. Newton decrement 0.023014054678116222 <= 0.032969950738958226\n",
      "  Solver did converge at loss = 0.45858802575017527.\n",
      "Results: -0.8582021047103142\n",
      "================\n",
      "================\n",
      "Configuration:\n",
      "C: 2.8199260445604337\n",
      "Tolerance: 0.05807407808962706\n",
      "Solver: saga\n",
      "Oversampling Method: ada\n",
      "----------------\n"
     ]
    },
    {
     "name": "stderr",
     "output_type": "stream",
     "text": [
      "[Parallel(n_jobs=1)]: Using backend SequentialBackend with 1 concurrent workers.\n",
      "[Parallel(n_jobs=1)]: Done   1 out of   1 | elapsed:    0.1s finished\n"
     ]
    },
    {
     "name": "stdout",
     "output_type": "stream",
     "text": [
      "convergence after 5 epochs took 1 seconds\n",
      "convergence after 4 epochs took 0 seconds\n"
     ]
    },
    {
     "name": "stderr",
     "output_type": "stream",
     "text": [
      "[Parallel(n_jobs=1)]: Using backend SequentialBackend with 1 concurrent workers.\n",
      "[Parallel(n_jobs=1)]: Done   1 out of   1 | elapsed:    0.1s finished\n",
      "[Parallel(n_jobs=1)]: Using backend SequentialBackend with 1 concurrent workers.\n",
      "[Parallel(n_jobs=1)]: Done   1 out of   1 | elapsed:    0.1s finished\n"
     ]
    },
    {
     "name": "stdout",
     "output_type": "stream",
     "text": [
      "convergence after 5 epochs took 0 seconds\n",
      "Results: -0.8575766469961993\n",
      "================\n",
      "================\n",
      "Configuration:\n",
      "C: 1.7149484076500294\n",
      "Tolerance: 0.028615767984074218\n",
      "Solver: sag\n",
      "Oversampling Method: none\n",
      "----------------\n"
     ]
    },
    {
     "name": "stderr",
     "output_type": "stream",
     "text": [
      "[Parallel(n_jobs=1)]: Using backend SequentialBackend with 1 concurrent workers.\n",
      "[Parallel(n_jobs=1)]: Done   1 out of   1 | elapsed:    0.1s finished\n"
     ]
    },
    {
     "name": "stdout",
     "output_type": "stream",
     "text": [
      "convergence after 8 epochs took 0 seconds\n"
     ]
    },
    {
     "name": "stderr",
     "output_type": "stream",
     "text": [
      "[Parallel(n_jobs=1)]: Using backend SequentialBackend with 1 concurrent workers.\n"
     ]
    },
    {
     "name": "stdout",
     "output_type": "stream",
     "text": [
      "convergence after 9 epochs took 1 seconds\n"
     ]
    },
    {
     "name": "stderr",
     "output_type": "stream",
     "text": [
      "[Parallel(n_jobs=1)]: Done   1 out of   1 | elapsed:    0.2s finished\n",
      "[Parallel(n_jobs=1)]: Using backend SequentialBackend with 1 concurrent workers.\n"
     ]
    },
    {
     "name": "stdout",
     "output_type": "stream",
     "text": [
      "convergence after 9 epochs took 0 seconds\n",
      "Results: -0.8590975532063299\n",
      "================\n"
     ]
    },
    {
     "name": "stderr",
     "output_type": "stream",
     "text": [
      "[Parallel(n_jobs=1)]: Done   1 out of   1 | elapsed:    0.2s finished\n"
     ]
    },
    {
     "name": "stdout",
     "output_type": "stream",
     "text": [
      "================\n",
      "Configuration:\n",
      "C: 1.3510546815716098\n",
      "Tolerance: 0.06664931223989662\n",
      "Solver: sag\n",
      "Oversampling Method: ada\n",
      "----------------\n"
     ]
    },
    {
     "name": "stderr",
     "output_type": "stream",
     "text": [
      "[Parallel(n_jobs=1)]: Using backend SequentialBackend with 1 concurrent workers.\n"
     ]
    },
    {
     "name": "stdout",
     "output_type": "stream",
     "text": [
      "convergence after 6 epochs took 1 seconds\n"
     ]
    },
    {
     "name": "stderr",
     "output_type": "stream",
     "text": [
      "[Parallel(n_jobs=1)]: Done   1 out of   1 | elapsed:    0.2s finished\n",
      "[Parallel(n_jobs=1)]: Using backend SequentialBackend with 1 concurrent workers.\n"
     ]
    },
    {
     "name": "stdout",
     "output_type": "stream",
     "text": [
      "convergence after 6 epochs took 0 seconds\n"
     ]
    },
    {
     "name": "stderr",
     "output_type": "stream",
     "text": [
      "[Parallel(n_jobs=1)]: Done   1 out of   1 | elapsed:    0.2s finished\n",
      "[Parallel(n_jobs=1)]: Using backend SequentialBackend with 1 concurrent workers.\n"
     ]
    },
    {
     "name": "stdout",
     "output_type": "stream",
     "text": [
      "convergence after 6 epochs took 0 seconds\n",
      "Results: -0.8592008677259434\n",
      "================\n"
     ]
    },
    {
     "name": "stderr",
     "output_type": "stream",
     "text": [
      "[Parallel(n_jobs=1)]: Done   1 out of   1 | elapsed:    0.2s finished\n"
     ]
    },
    {
     "name": "stdout",
     "output_type": "stream",
     "text": [
      "================\n",
      "Configuration:\n",
      "C: 2.1070910889922967\n",
      "Tolerance: 0.0001\n",
      "Solver: lbfgs\n",
      "Oversampling Method: ada\n",
      "----------------\n"
     ]
    },
    {
     "name": "stderr",
     "output_type": "stream",
     "text": [
      "[Parallel(n_jobs=1)]: Using backend SequentialBackend with 1 concurrent workers.\n",
      "[Parallel(n_jobs=1)]: Done   1 out of   1 | elapsed:    0.4s finished\n",
      "[Parallel(n_jobs=1)]: Using backend SequentialBackend with 1 concurrent workers.\n",
      "[Parallel(n_jobs=1)]: Done   1 out of   1 | elapsed:    0.6s finished\n",
      "[Parallel(n_jobs=1)]: Using backend SequentialBackend with 1 concurrent workers.\n",
      "[Parallel(n_jobs=1)]: Done   1 out of   1 | elapsed:    0.4s finished\n"
     ]
    },
    {
     "name": "stdout",
     "output_type": "stream",
     "text": [
      "Results: -0.8597273407063807\n",
      "================\n",
      "================\n",
      "Configuration:\n",
      "C: 3.0\n",
      "Tolerance: 0.02984217950705531\n",
      "Solver: sag\n",
      "Oversampling Method: ada\n",
      "----------------\n"
     ]
    },
    {
     "name": "stderr",
     "output_type": "stream",
     "text": [
      "[Parallel(n_jobs=1)]: Using backend SequentialBackend with 1 concurrent workers.\n"
     ]
    },
    {
     "name": "stdout",
     "output_type": "stream",
     "text": [
      "convergence after 8 epochs took 0 seconds\n"
     ]
    },
    {
     "name": "stderr",
     "output_type": "stream",
     "text": [
      "[Parallel(n_jobs=1)]: Done   1 out of   1 | elapsed:    0.3s finished\n",
      "[Parallel(n_jobs=1)]: Using backend SequentialBackend with 1 concurrent workers.\n"
     ]
    },
    {
     "name": "stdout",
     "output_type": "stream",
     "text": [
      "convergence after 9 epochs took 1 seconds\n"
     ]
    },
    {
     "name": "stderr",
     "output_type": "stream",
     "text": [
      "[Parallel(n_jobs=1)]: Done   1 out of   1 | elapsed:    0.6s finished\n",
      "[Parallel(n_jobs=1)]: Using backend SequentialBackend with 1 concurrent workers.\n"
     ]
    },
    {
     "name": "stdout",
     "output_type": "stream",
     "text": [
      "convergence after 9 epochs took 0 seconds\n",
      "Results: -0.8592733217044414\n",
      "================\n"
     ]
    },
    {
     "name": "stderr",
     "output_type": "stream",
     "text": [
      "[Parallel(n_jobs=1)]: Done   1 out of   1 | elapsed:    0.3s finished\n"
     ]
    },
    {
     "name": "stdout",
     "output_type": "stream",
     "text": [
      "================\n",
      "Configuration:\n",
      "C: 2.6616880886783894\n",
      "Tolerance: 0.1\n",
      "Solver: sag\n",
      "Oversampling Method: ada\n",
      "----------------\n"
     ]
    },
    {
     "name": "stderr",
     "output_type": "stream",
     "text": [
      "[Parallel(n_jobs=1)]: Using backend SequentialBackend with 1 concurrent workers.\n"
     ]
    },
    {
     "name": "stdout",
     "output_type": "stream",
     "text": [
      "convergence after 5 epochs took 0 seconds\n"
     ]
    },
    {
     "name": "stderr",
     "output_type": "stream",
     "text": [
      "[Parallel(n_jobs=1)]: Done   1 out of   1 | elapsed:    0.1s finished\n",
      "[Parallel(n_jobs=1)]: Using backend SequentialBackend with 1 concurrent workers.\n"
     ]
    },
    {
     "name": "stdout",
     "output_type": "stream",
     "text": [
      "convergence after 5 epochs took 1 seconds\n"
     ]
    },
    {
     "name": "stderr",
     "output_type": "stream",
     "text": [
      "[Parallel(n_jobs=1)]: Done   1 out of   1 | elapsed:    0.3s finished\n",
      "[Parallel(n_jobs=1)]: Using backend SequentialBackend with 1 concurrent workers.\n"
     ]
    },
    {
     "name": "stdout",
     "output_type": "stream",
     "text": [
      "convergence after 5 epochs took 0 seconds\n",
      "Results: -0.8579479198918406\n",
      "================\n"
     ]
    },
    {
     "name": "stderr",
     "output_type": "stream",
     "text": [
      "[Parallel(n_jobs=1)]: Done   1 out of   1 | elapsed:    0.1s finished\n"
     ]
    },
    {
     "name": "stdout",
     "output_type": "stream",
     "text": [
      "================\n",
      "Configuration:\n",
      "C: 1.3565050562747367\n",
      "Tolerance: 0.04628001432186733\n",
      "Solver: saga\n",
      "Oversampling Method: none\n",
      "----------------\n"
     ]
    },
    {
     "name": "stderr",
     "output_type": "stream",
     "text": [
      "[Parallel(n_jobs=1)]: Using backend SequentialBackend with 1 concurrent workers.\n"
     ]
    },
    {
     "name": "stdout",
     "output_type": "stream",
     "text": [
      "convergence after 6 epochs took 1 seconds\n"
     ]
    },
    {
     "name": "stderr",
     "output_type": "stream",
     "text": [
      "[Parallel(n_jobs=1)]: Done   1 out of   1 | elapsed:    0.3s finished\n",
      "[Parallel(n_jobs=1)]: Using backend SequentialBackend with 1 concurrent workers.\n"
     ]
    },
    {
     "name": "stdout",
     "output_type": "stream",
     "text": [
      "convergence after 6 epochs took 0 seconds\n"
     ]
    },
    {
     "name": "stderr",
     "output_type": "stream",
     "text": [
      "[Parallel(n_jobs=1)]: Done   1 out of   1 | elapsed:    0.2s finished\n",
      "[Parallel(n_jobs=1)]: Using backend SequentialBackend with 1 concurrent workers.\n"
     ]
    },
    {
     "name": "stdout",
     "output_type": "stream",
     "text": [
      "convergence after 6 epochs took 1 seconds\n",
      "Results: -0.8578648248879919\n",
      "================\n"
     ]
    },
    {
     "name": "stderr",
     "output_type": "stream",
     "text": [
      "[Parallel(n_jobs=1)]: Done   1 out of   1 | elapsed:    0.5s finished\n"
     ]
    },
    {
     "name": "stdout",
     "output_type": "stream",
     "text": [
      "================\n",
      "Configuration:\n",
      "C: 1.1602193605936353\n",
      "Tolerance: 0.007624754529157522\n",
      "Solver: sag\n",
      "Oversampling Method: ada\n",
      "----------------\n"
     ]
    },
    {
     "name": "stderr",
     "output_type": "stream",
     "text": [
      "[Parallel(n_jobs=1)]: Using backend SequentialBackend with 1 concurrent workers.\n"
     ]
    },
    {
     "name": "stdout",
     "output_type": "stream",
     "text": [
      "convergence after 18 epochs took 2 seconds\n"
     ]
    },
    {
     "name": "stderr",
     "output_type": "stream",
     "text": [
      "[Parallel(n_jobs=1)]: Done   1 out of   1 | elapsed:    1.2s finished\n",
      "[Parallel(n_jobs=1)]: Using backend SequentialBackend with 1 concurrent workers.\n"
     ]
    },
    {
     "name": "stdout",
     "output_type": "stream",
     "text": [
      "convergence after 22 epochs took 1 seconds\n"
     ]
    },
    {
     "name": "stderr",
     "output_type": "stream",
     "text": [
      "[Parallel(n_jobs=1)]: Done   1 out of   1 | elapsed:    1.2s finished\n",
      "[Parallel(n_jobs=1)]: Using backend SequentialBackend with 1 concurrent workers.\n"
     ]
    },
    {
     "name": "stdout",
     "output_type": "stream",
     "text": [
      "convergence after 16 epochs took 1 seconds\n",
      "Results: -0.8595160762238011\n",
      "================\n"
     ]
    },
    {
     "name": "stderr",
     "output_type": "stream",
     "text": [
      "[Parallel(n_jobs=1)]: Done   1 out of   1 | elapsed:    0.6s finished\n"
     ]
    },
    {
     "name": "stdout",
     "output_type": "stream",
     "text": [
      "================\n",
      "Configuration:\n",
      "C: 2.930005841046247\n",
      "Tolerance: 0.028395152153524797\n",
      "Solver: liblinear\n",
      "Oversampling Method: ada\n",
      "----------------\n",
      "[LibLinear][LibLinear][LibLinear]Results: -0.8586454782592572\n",
      "================\n",
      "================\n",
      "Configuration:\n",
      "C: 1.8998119608465656\n",
      "Tolerance: 0.05910936632201923\n",
      "Solver: sag\n",
      "Oversampling Method: ada\n",
      "----------------\n"
     ]
    },
    {
     "name": "stderr",
     "output_type": "stream",
     "text": [
      "[Parallel(n_jobs=1)]: Using backend SequentialBackend with 1 concurrent workers.\n"
     ]
    },
    {
     "name": "stdout",
     "output_type": "stream",
     "text": [
      "convergence after 6 epochs took 0 seconds\n"
     ]
    },
    {
     "name": "stderr",
     "output_type": "stream",
     "text": [
      "[Parallel(n_jobs=1)]: Done   1 out of   1 | elapsed:    0.4s finished\n",
      "[Parallel(n_jobs=1)]: Using backend SequentialBackend with 1 concurrent workers.\n"
     ]
    },
    {
     "name": "stdout",
     "output_type": "stream",
     "text": [
      "convergence after 6 epochs took 1 seconds\n"
     ]
    },
    {
     "name": "stderr",
     "output_type": "stream",
     "text": [
      "[Parallel(n_jobs=1)]: Done   1 out of   1 | elapsed:    0.2s finished\n",
      "[Parallel(n_jobs=1)]: Using backend SequentialBackend with 1 concurrent workers.\n"
     ]
    },
    {
     "name": "stdout",
     "output_type": "stream",
     "text": [
      "convergence after 6 epochs took 0 seconds\n",
      "Results: -0.8591154405252771\n",
      "================\n"
     ]
    },
    {
     "name": "stderr",
     "output_type": "stream",
     "text": [
      "[Parallel(n_jobs=1)]: Done   1 out of   1 | elapsed:    0.2s finished\n"
     ]
    },
    {
     "name": "stdout",
     "output_type": "stream",
     "text": [
      "================\n",
      "Configuration:\n",
      "C: 1.2708515556076427\n",
      "Tolerance: 0.0001\n",
      "Solver: saga\n",
      "Oversampling Method: none\n",
      "----------------\n"
     ]
    },
    {
     "name": "stderr",
     "output_type": "stream",
     "text": [
      "[Parallel(n_jobs=1)]: Using backend SequentialBackend with 1 concurrent workers.\n"
     ]
    },
    {
     "name": "stdout",
     "output_type": "stream",
     "text": [
      "max_iter reached after 8 seconds\n"
     ]
    },
    {
     "name": "stderr",
     "output_type": "stream",
     "text": [
      "C:\\Users\\Aaron\\AppData\\Roaming\\Python\\Python311\\site-packages\\sklearn\\linear_model\\_sag.py:350: ConvergenceWarning: The max_iter was reached which means the coef_ did not converge\n",
      "  warnings.warn(\n",
      "[Parallel(n_jobs=1)]: Done   1 out of   1 | elapsed:    8.6s finished\n",
      "[Parallel(n_jobs=1)]: Using backend SequentialBackend with 1 concurrent workers.\n"
     ]
    },
    {
     "name": "stdout",
     "output_type": "stream",
     "text": [
      "max_iter reached after 10 seconds\n"
     ]
    },
    {
     "name": "stderr",
     "output_type": "stream",
     "text": [
      "C:\\Users\\Aaron\\AppData\\Roaming\\Python\\Python311\\site-packages\\sklearn\\linear_model\\_sag.py:350: ConvergenceWarning: The max_iter was reached which means the coef_ did not converge\n",
      "  warnings.warn(\n",
      "[Parallel(n_jobs=1)]: Done   1 out of   1 | elapsed:   10.1s finished\n",
      "[Parallel(n_jobs=1)]: Using backend SequentialBackend with 1 concurrent workers.\n"
     ]
    },
    {
     "name": "stdout",
     "output_type": "stream",
     "text": [
      "max_iter reached after 8 seconds\n",
      "Results: -0.8595914457957434\n",
      "================\n"
     ]
    },
    {
     "name": "stderr",
     "output_type": "stream",
     "text": [
      "C:\\Users\\Aaron\\AppData\\Roaming\\Python\\Python311\\site-packages\\sklearn\\linear_model\\_sag.py:350: ConvergenceWarning: The max_iter was reached which means the coef_ did not converge\n",
      "  warnings.warn(\n",
      "[Parallel(n_jobs=1)]: Done   1 out of   1 | elapsed:    8.7s finished\n"
     ]
    },
    {
     "name": "stdout",
     "output_type": "stream",
     "text": [
      "================\n",
      "Configuration:\n",
      "C: 1.2878901869983943\n",
      "Tolerance: 0.0001\n",
      "Solver: newton-cholesky\n",
      "Oversampling Method: none\n",
      "----------------\n",
      "Newton iter=1\n",
      "  Check Convergence\n",
      "    1. max |gradient| 0.028160010662184244 <= 0.0001\n",
      "Newton iter=2\n",
      "  Check Convergence\n",
      "    1. max |gradient| 0.005648204193961635 <= 0.0001\n",
      "Newton iter=3\n",
      "  Check Convergence\n",
      "    1. max |gradient| 0.0014238934772797787 <= 0.0001\n",
      "Newton iter=4\n",
      "  Check Convergence\n",
      "    1. max |gradient| 0.0003308463960489593 <= 0.0001\n",
      "Newton iter=5\n",
      "  Check Convergence\n",
      "    1. max |gradient| 2.995980757342839e-05 <= 0.0001\n",
      "    2. Newton decrement 5.1989468582722286e-05 <= 0.0001\n",
      "  Solver did converge at loss = 0.46643039475830106.\n",
      "Newton iter=1\n",
      "  Check Convergence\n",
      "    1. max |gradient| 0.03413583848832282 <= 0.0001\n",
      "Newton iter=2\n"
     ]
    },
    {
     "name": "stderr",
     "output_type": "stream",
     "text": [
      "[Parallel(n_jobs=1)]: Using backend SequentialBackend with 1 concurrent workers.\n",
      "[Parallel(n_jobs=1)]: Done   1 out of   1 | elapsed:    0.0s finished\n",
      "[Parallel(n_jobs=1)]: Using backend SequentialBackend with 1 concurrent workers.\n"
     ]
    },
    {
     "name": "stdout",
     "output_type": "stream",
     "text": [
      "  Check Convergence\n",
      "    1. max |gradient| 0.006521078396072784 <= 0.0001\n",
      "Newton iter=3\n",
      "  Check Convergence\n",
      "    1. max |gradient| 0.000954546793298682 <= 0.0001\n",
      "Newton iter=4\n",
      "  Check Convergence\n",
      "    1. max |gradient| 0.00015938606837244407 <= 0.0001\n",
      "Newton iter=5\n",
      "  Check Convergence\n",
      "    1. max |gradient| 1.1452881992207037e-05 <= 0.0001\n",
      "    2. Newton decrement 1.790175418991203e-05 <= 0.0001\n",
      "  Solver did converge at loss = 0.45878555210180655.\n",
      "Newton iter=1\n",
      "  Check Convergence\n",
      "    1. max |gradient| 0.03528413746548808 <= 0.0001\n",
      "Newton iter=2\n",
      "  Check Convergence\n",
      "    1. max |gradient| 0.006966069624834592 <= 0.0001\n",
      "Newton iter=3\n",
      "  Check Convergence\n",
      "    1. max |gradient| 0.0010641315353571526 <= 0.0001\n",
      "Newton iter=4\n",
      "  Check Convergence\n",
      "    1. max |gradient| 0.00021324941494844812 <= 0.0001\n",
      "Newton iter=5\n",
      "  Check Convergence\n",
      "    1. max |gradient| 1.658596704455853e-05 <= 0.0001\n",
      "    2. Newton decrement 2.569790254695919e-05 <= 0.0001\n",
      "  Solver did converge at loss = 0.4544753879961317.\n"
     ]
    },
    {
     "name": "stderr",
     "output_type": "stream",
     "text": [
      "[Parallel(n_jobs=1)]: Done   1 out of   1 | elapsed:    0.0s finished\n",
      "[Parallel(n_jobs=1)]: Using backend SequentialBackend with 1 concurrent workers.\n",
      "[Parallel(n_jobs=1)]: Done   1 out of   1 | elapsed:    0.0s finished\n"
     ]
    },
    {
     "name": "stdout",
     "output_type": "stream",
     "text": [
      "Results: -0.8595889617347899\n",
      "================\n",
      "================\n",
      "Configuration:\n",
      "C: 1.5099697956795566\n",
      "Tolerance: 0.08802780588877335\n",
      "Solver: newton-cholesky\n",
      "Oversampling Method: ada\n",
      "----------------\n",
      "Newton iter=1\n",
      "  Check Convergence\n",
      "    1. max |gradient| 0.028181902776685214 <= 0.08802780588877335\n",
      "    2. Newton decrement 0.17196273094146394 <= 0.08802780588877335\n",
      "Newton iter=2\n",
      "  Check Convergence\n",
      "    1. max |gradient| 0.00567126465266095 <= 0.08802780588877335\n",
      "    2. Newton decrement 0.02197983304687113 <= 0.08802780588877335\n",
      "  Solver did converge at loss = 0.4719974609166845.\n",
      "Newton iter=1\n",
      "  Check Convergence\n",
      "    1. max |gradient| 0.0341516369982919 <= 0.08802780588877335\n",
      "    2. Newton decrement 0.18110783652306836 <= 0.08802780588877335\n",
      "Newton iter=2\n",
      "  Check Convergence\n",
      "    1. max |gradient| 0.006542064649229348 <= 0.08802780588877335\n",
      "    2. Newton decrement 0.02158576895833286 <= 0.08802780588877335\n",
      "  Solver did converge at loss = 0.4629956549206406.\n",
      "Newton iter=1\n"
     ]
    },
    {
     "name": "stderr",
     "output_type": "stream",
     "text": [
      "[Parallel(n_jobs=1)]: Using backend SequentialBackend with 1 concurrent workers.\n",
      "[Parallel(n_jobs=1)]: Done   1 out of   1 | elapsed:    0.0s finished\n",
      "[Parallel(n_jobs=1)]: Using backend SequentialBackend with 1 concurrent workers.\n",
      "[Parallel(n_jobs=1)]: Done   1 out of   1 | elapsed:    0.0s finished\n",
      "[Parallel(n_jobs=1)]: Using backend SequentialBackend with 1 concurrent workers.\n"
     ]
    },
    {
     "name": "stdout",
     "output_type": "stream",
     "text": [
      "  Check Convergence\n",
      "    1. max |gradient| 0.03529928379753764 <= 0.08802780588877335\n",
      "    2. Newton decrement 0.18268807415263347 <= 0.08802780588877335\n",
      "Newton iter=2\n",
      "  Check Convergence\n",
      "    1. max |gradient| 0.0069840986029192 <= 0.08802780588877335\n",
      "    2. Newton decrement 0.02272029834905964 <= 0.08802780588877335\n",
      "  Solver did converge at loss = 0.4592642882208732.\n",
      "Results: -0.8581216184157546\n",
      "================\n"
     ]
    },
    {
     "name": "stderr",
     "output_type": "stream",
     "text": [
      "[Parallel(n_jobs=1)]: Done   1 out of   1 | elapsed:    0.0s finished\n"
     ]
    },
    {
     "name": "stdout",
     "output_type": "stream",
     "text": [
      "================\n",
      "Configuration:\n",
      "C: 1.290682463396178\n",
      "Tolerance: 0.0001\n",
      "Solver: newton-cholesky\n",
      "Oversampling Method: none\n",
      "----------------\n",
      "Newton iter=1\n",
      "  Check Convergence\n",
      "    1. max |gradient| 0.028160323033190753 <= 0.0001\n",
      "Newton iter=2\n",
      "  Check Convergence\n",
      "    1. max |gradient| 0.00564853776506965 <= 0.0001\n",
      "Newton iter=3\n",
      "  Check Convergence\n",
      "    1. max |gradient| 0.0014244921197345743 <= 0.0001\n",
      "Newton iter=4\n",
      "  Check Convergence\n",
      "    1. max |gradient| 0.000331288669953394 <= 0.0001\n",
      "Newton iter=5\n",
      "  Check Convergence\n",
      "    1. max |gradient| 3.007141192224208e-05 <= 0.0001\n",
      "    2. Newton decrement 5.2170862273095675e-05 <= 0.0001\n",
      "  Solver did converge at loss = 0.46642336571067.\n",
      "Newton iter=1\n",
      "  Check Convergence\n",
      "    1. max |gradient| 0.034136068253478015 <= 0.0001\n",
      "Newton iter=2\n",
      "  Check Convergence\n",
      "    1. max |gradient| 0.0065213834186206455 <= 0.0001\n",
      "Newton iter=3\n"
     ]
    },
    {
     "name": "stderr",
     "output_type": "stream",
     "text": [
      "[Parallel(n_jobs=1)]: Using backend SequentialBackend with 1 concurrent workers.\n",
      "[Parallel(n_jobs=1)]: Done   1 out of   1 | elapsed:    0.0s finished\n",
      "[Parallel(n_jobs=1)]: Using backend SequentialBackend with 1 concurrent workers.\n"
     ]
    },
    {
     "name": "stdout",
     "output_type": "stream",
     "text": [
      "  Check Convergence\n",
      "    1. max |gradient| 0.0009550430076698201 <= 0.0001\n",
      "Newton iter=4\n",
      "  Check Convergence\n",
      "    1. max |gradient| 0.00015973189233334587 <= 0.0001\n",
      "Newton iter=5\n",
      "  Check Convergence\n",
      "    1. max |gradient| 1.1512432297593536e-05 <= 0.0001\n",
      "    2. Newton decrement 1.798523753158067e-05 <= 0.0001\n",
      "  Solver did converge at loss = 0.4587796750986884.\n",
      "Newton iter=1\n",
      "  Check Convergence\n",
      "    1. max |gradient| 0.03528435795786697 <= 0.0001\n",
      "Newton iter=2\n",
      "  Check Convergence\n",
      "    1. max |gradient| 0.006966331934315453 <= 0.0001\n",
      "Newton iter=3\n",
      "  Check Convergence\n",
      "    1. max |gradient| 0.0010646630905957741 <= 0.0001\n",
      "Newton iter=4\n",
      "  Check Convergence\n",
      "    1. max |gradient| 0.00021358873141949256 <= 0.0001\n",
      "Newton iter=5\n",
      "  Check Convergence\n",
      "    1. max |gradient| 1.6664412598324865e-05 <= 0.0001\n",
      "    2. Newton decrement 2.580832990700339e-05 <= 0.0001\n",
      "  Solver did converge at loss = 0.4544695135169654.\n",
      "Results: -0.8595897025309641\n",
      "================\n"
     ]
    },
    {
     "name": "stderr",
     "output_type": "stream",
     "text": [
      "[Parallel(n_jobs=1)]: Done   1 out of   1 | elapsed:    0.0s finished\n",
      "[Parallel(n_jobs=1)]: Using backend SequentialBackend with 1 concurrent workers.\n",
      "[Parallel(n_jobs=1)]: Done   1 out of   1 | elapsed:    0.0s finished\n"
     ]
    },
    {
     "name": "stdout",
     "output_type": "stream",
     "text": [
      "================\n",
      "Configuration:\n",
      "C: 0.9140001457088125\n",
      "Tolerance: 0.007860688721375532\n",
      "Solver: newton-cholesky\n",
      "Oversampling Method: ada\n",
      "----------------\n",
      "Newton iter=1\n",
      "  Check Convergence\n",
      "    1. max |gradient| 0.028104420089685268 <= 0.007860688721375532\n",
      "Newton iter=2\n",
      "  Check Convergence\n",
      "    1. max |gradient| 0.005587480860513885 <= 0.007860688721375532\n",
      "    2. Newton decrement 0.021578851004764355 <= 0.007860688721375532\n",
      "Newton iter=3\n",
      "  Check Convergence\n",
      "    1. max |gradient| 0.001318479026777076 <= 0.007860688721375532\n",
      "    2. Newton decrement 0.003981723524144266 <= 0.007860688721375532\n",
      "  Solver did converge at loss = 0.4682996192676932.\n",
      "Newton iter=1\n",
      "  Check Convergence\n",
      "    1. max |gradient| 0.034093475005154195 <= 0.007860688721375532\n",
      "Newton iter=2\n",
      "  Check Convergence\n",
      "    1. max |gradient| 0.006465148734591603 <= 0.007860688721375532\n",
      "    2. Newton decrement 0.021218162980318582 <= 0.007860688721375532\n",
      "Newton iter=3\n",
      "  Check Convergence\n",
      "    1. max |gradient| 0.0008680170753007837 <= 0.007860688721375532\n",
      "    2. Newton decrement 0.0032348468841997408 <= 0.007860688721375532\n",
      "  Solver did converge at loss = 0.4601471217798111.\n"
     ]
    },
    {
     "name": "stderr",
     "output_type": "stream",
     "text": [
      "[Parallel(n_jobs=1)]: Using backend SequentialBackend with 1 concurrent workers.\n",
      "[Parallel(n_jobs=1)]: Done   1 out of   1 | elapsed:    0.0s finished\n",
      "[Parallel(n_jobs=1)]: Using backend SequentialBackend with 1 concurrent workers.\n",
      "[Parallel(n_jobs=1)]: Done   1 out of   1 | elapsed:    0.0s finished\n",
      "[Parallel(n_jobs=1)]: Using backend SequentialBackend with 1 concurrent workers.\n"
     ]
    },
    {
     "name": "stdout",
     "output_type": "stream",
     "text": [
      "Newton iter=1\n",
      "  Check Convergence\n",
      "    1. max |gradient| 0.035243371029226596 <= 0.007860688721375532\n",
      "Newton iter=2\n",
      "  Check Convergence\n",
      "    1. max |gradient| 0.006917754934522526 <= 0.007860688721375532\n",
      "    2. Newton decrement 0.022369410794865815 <= 0.007860688721375532\n",
      "Newton iter=3\n",
      "  Check Convergence\n",
      "    1. max |gradient| 0.0009711511993498296 <= 0.007860688721375532\n",
      "    2. Newton decrement 0.0036137855299193176 <= 0.007860688721375532\n",
      "  Solver did converge at loss = 0.45591988044248155.\n",
      "Results: -0.8591824018385643\n",
      "================\n"
     ]
    },
    {
     "name": "stderr",
     "output_type": "stream",
     "text": [
      "[Parallel(n_jobs=1)]: Done   1 out of   1 | elapsed:    0.0s finished\n"
     ]
    },
    {
     "name": "stdout",
     "output_type": "stream",
     "text": [
      "================\n",
      "Configuration:\n",
      "C: 1.2666750617268927\n",
      "Tolerance: 0.02747373771666087\n",
      "Solver: sag\n",
      "Oversampling Method: ada\n",
      "----------------\n"
     ]
    },
    {
     "name": "stderr",
     "output_type": "stream",
     "text": [
      "[Parallel(n_jobs=1)]: Using backend SequentialBackend with 1 concurrent workers.\n"
     ]
    },
    {
     "name": "stdout",
     "output_type": "stream",
     "text": [
      "convergence after 8 epochs took 0 seconds\n"
     ]
    },
    {
     "name": "stderr",
     "output_type": "stream",
     "text": [
      "[Parallel(n_jobs=1)]: Done   1 out of   1 | elapsed:    0.2s finished\n",
      "[Parallel(n_jobs=1)]: Using backend SequentialBackend with 1 concurrent workers.\n"
     ]
    },
    {
     "name": "stdout",
     "output_type": "stream",
     "text": [
      "convergence after 9 epochs took 1 seconds\n"
     ]
    },
    {
     "name": "stderr",
     "output_type": "stream",
     "text": [
      "[Parallel(n_jobs=1)]: Done   1 out of   1 | elapsed:    0.2s finished\n",
      "[Parallel(n_jobs=1)]: Using backend SequentialBackend with 1 concurrent workers.\n"
     ]
    },
    {
     "name": "stdout",
     "output_type": "stream",
     "text": [
      "convergence after 8 epochs took 0 seconds\n",
      "Results: -0.8593004652953852\n",
      "================\n"
     ]
    },
    {
     "name": "stderr",
     "output_type": "stream",
     "text": [
      "[Parallel(n_jobs=1)]: Done   1 out of   1 | elapsed:    0.1s finished\n"
     ]
    },
    {
     "name": "stdout",
     "output_type": "stream",
     "text": [
      "================\n",
      "Configuration:\n",
      "C: 0.3440796489225087\n",
      "Tolerance: 0.01699582650903327\n",
      "Solver: newton-cholesky\n",
      "Oversampling Method: none\n",
      "----------------\n",
      "Newton iter=1\n",
      "  Check Convergence\n",
      "    1. max |gradient| 0.027837257506206737 <= 0.01699582650903327\n",
      "Newton iter=2\n",
      "  Check Convergence\n",
      "    1. max |gradient| 0.005294705983959933 <= 0.01699582650903327\n",
      "    2. Newton decrement 0.020213611001074605 <= 0.01699582650903327\n",
      "Newton iter=3\n",
      "  Check Convergence\n",
      "    1. max |gradient| 0.0008998457782713912 <= 0.01699582650903327\n",
      "    2. Newton decrement 0.0029699037645729842 <= 0.01699582650903327\n",
      "  Solver did converge at loss = 0.47298721894590834.\n",
      "Newton iter=1\n",
      "  Check Convergence\n",
      "    1. max |gradient| 0.03387607248561278 <= 0.01699582650903327\n",
      "Newton iter=2\n",
      "  Check Convergence\n",
      "    1. max |gradient| 0.0061955181416626015 <= 0.01699582650903327\n",
      "    2. Newton decrement 0.0199680268394141 <= 0.01699582650903327\n",
      "Newton iter=3\n",
      "  Check Convergence\n",
      "    1. max |gradient| 0.0005485699142029953 <= 0.01699582650903327\n",
      "    2. Newton decrement 0.002400429900452571 <= 0.01699582650903327\n",
      "  Solver did converge at loss = 0.4641928305976833.\n"
     ]
    },
    {
     "name": "stderr",
     "output_type": "stream",
     "text": [
      "[Parallel(n_jobs=1)]: Using backend SequentialBackend with 1 concurrent workers.\n",
      "[Parallel(n_jobs=1)]: Done   1 out of   1 | elapsed:    0.0s finished\n",
      "[Parallel(n_jobs=1)]: Using backend SequentialBackend with 1 concurrent workers.\n",
      "[Parallel(n_jobs=1)]: Done   1 out of   1 | elapsed:    0.0s finished\n",
      "[Parallel(n_jobs=1)]: Using backend SequentialBackend with 1 concurrent workers.\n"
     ]
    },
    {
     "name": "stdout",
     "output_type": "stream",
     "text": [
      "Newton iter=1\n",
      "  Check Convergence\n",
      "    1. max |gradient| 0.03503027677721737 <= 0.01699582650903327\n",
      "Newton iter=2\n",
      "  Check Convergence\n",
      "    1. max |gradient| 0.0066758901525769175 <= 0.01699582650903327\n",
      "    2. Newton decrement 0.021136453909617287 <= 0.01699582650903327\n",
      "Newton iter=3\n",
      "  Check Convergence\n",
      "    1. max |gradient| 0.000621319518315305 <= 0.01699582650903327\n",
      "    2. Newton decrement 0.002720918455983782 <= 0.01699582650903327\n",
      "  Solver did converge at loss = 0.45999111423663785.\n",
      "Results: -0.8585814832141345\n",
      "================\n"
     ]
    },
    {
     "name": "stderr",
     "output_type": "stream",
     "text": [
      "[Parallel(n_jobs=1)]: Done   1 out of   1 | elapsed:    0.0s finished\n"
     ]
    },
    {
     "name": "stdout",
     "output_type": "stream",
     "text": [
      "================\n",
      "Configuration:\n",
      "C: 2.013025260536306\n",
      "Tolerance: 0.0001\n",
      "Solver: newton-cg\n",
      "Oversampling Method: none\n",
      "----------------\n"
     ]
    },
    {
     "name": "stderr",
     "output_type": "stream",
     "text": [
      "[Parallel(n_jobs=1)]: Using backend SequentialBackend with 1 concurrent workers.\n",
      "[Parallel(n_jobs=1)]: Done   1 out of   1 | elapsed:    0.1s finished\n",
      "[Parallel(n_jobs=1)]: Using backend SequentialBackend with 1 concurrent workers.\n",
      "[Parallel(n_jobs=1)]: Done   1 out of   1 | elapsed:    0.1s finished\n",
      "[Parallel(n_jobs=1)]: Using backend SequentialBackend with 1 concurrent workers.\n",
      "[Parallel(n_jobs=1)]: Done   1 out of   1 | elapsed:    0.1s finished\n"
     ]
    },
    {
     "name": "stdout",
     "output_type": "stream",
     "text": [
      "Results: -0.8597105320541756\n",
      "================\n",
      "================\n",
      "Configuration:\n",
      "C: 2.3330148711781353\n",
      "Tolerance: 0.018673098208444455\n",
      "Solver: newton-cholesky\n",
      "Oversampling Method: none\n",
      "----------------\n",
      "Newton iter=1\n",
      "  Check Convergence\n",
      "    1. max |gradient| 0.028233353220406952 <= 0.018673098208444455\n",
      "Newton iter=2\n",
      "  Check Convergence\n",
      "    1. max |gradient| 0.005721971780220069 <= 0.018673098208444455\n",
      "    2. Newton decrement 0.022222985670432148 <= 0.018673098208444455\n",
      "Newton iter=3\n",
      "  Check Convergence\n",
      "    1. max |gradient| 0.0015595378674462556 <= 0.018673098208444455\n",
      "    2. Newton decrement 0.004557673923325423 <= 0.018673098208444455\n",
      "  Solver did converge at loss = 0.465949763246327.\n",
      "Newton iter=1\n",
      "  Check Convergence\n",
      "    1. max |gradient| 0.03418557490925586 <= 0.018673098208444455\n",
      "Newton iter=2\n",
      "  Check Convergence\n",
      "    1. max |gradient| 0.0065869005803563105 <= 0.018673098208444455\n",
      "    2. Newton decrement 0.021804298561879133 <= 0.018673098208444455\n",
      "Newton iter=3\n",
      "  Check Convergence\n",
      "    1. max |gradient| 0.001068135400703014 <= 0.018673098208444455\n",
      "    2. Newton decrement 0.0037412462557613363 <= 0.018673098208444455\n",
      "  Solver did converge at loss = 0.45810590657821937.\n"
     ]
    },
    {
     "name": "stderr",
     "output_type": "stream",
     "text": [
      "[Parallel(n_jobs=1)]: Using backend SequentialBackend with 1 concurrent workers.\n",
      "[Parallel(n_jobs=1)]: Done   1 out of   1 | elapsed:    0.0s finished\n",
      "[Parallel(n_jobs=1)]: Using backend SequentialBackend with 1 concurrent workers.\n",
      "[Parallel(n_jobs=1)]: Done   1 out of   1 | elapsed:    0.0s finished\n",
      "[Parallel(n_jobs=1)]: Using backend SequentialBackend with 1 concurrent workers.\n",
      "[Parallel(n_jobs=1)]: Done   1 out of   1 | elapsed:    0.0s finished\n"
     ]
    },
    {
     "name": "stdout",
     "output_type": "stream",
     "text": [
      "Newton iter=1\n",
      "  Check Convergence\n",
      "    1. max |gradient| 0.035331711451163636 <= 0.018673098208444455\n",
      "Newton iter=2\n",
      "  Check Convergence\n",
      "    1. max |gradient| 0.007022627502558979 <= 0.018673098208444455\n",
      "    2. Newton decrement 0.02292542642394366 <= 0.018673098208444455\n",
      "Newton iter=3\n",
      "  Check Convergence\n",
      "    1. max |gradient| 0.0011853088894219386 <= 0.018673098208444455\n",
      "    2. Newton decrement 0.004134475473925208 <= 0.018673098208444455\n",
      "  Solver did converge at loss = 0.45393345797616474.\n",
      "Results: -0.8593790323845939\n",
      "================\n",
      "================\n",
      "Configuration:\n",
      "C: 0.730297084587302\n",
      "Tolerance: 0.029658265871985928\n",
      "Solver: sag\n",
      "Oversampling Method: ada\n",
      "----------------\n"
     ]
    },
    {
     "name": "stderr",
     "output_type": "stream",
     "text": [
      "[Parallel(n_jobs=1)]: Using backend SequentialBackend with 1 concurrent workers.\n",
      "[Parallel(n_jobs=1)]: Done   1 out of   1 | elapsed:    0.1s finished\n"
     ]
    },
    {
     "name": "stdout",
     "output_type": "stream",
     "text": [
      "convergence after 7 epochs took 0 seconds\n"
     ]
    },
    {
     "name": "stderr",
     "output_type": "stream",
     "text": [
      "[Parallel(n_jobs=1)]: Using backend SequentialBackend with 1 concurrent workers.\n"
     ]
    },
    {
     "name": "stdout",
     "output_type": "stream",
     "text": [
      "convergence after 9 epochs took 1 seconds\n"
     ]
    },
    {
     "name": "stderr",
     "output_type": "stream",
     "text": [
      "[Parallel(n_jobs=1)]: Done   1 out of   1 | elapsed:    0.2s finished\n",
      "[Parallel(n_jobs=1)]: Using backend SequentialBackend with 1 concurrent workers.\n"
     ]
    },
    {
     "name": "stdout",
     "output_type": "stream",
     "text": [
      "convergence after 8 epochs took 0 seconds\n",
      "Results: -0.8590231419974307\n",
      "================\n"
     ]
    },
    {
     "name": "stderr",
     "output_type": "stream",
     "text": [
      "[Parallel(n_jobs=1)]: Done   1 out of   1 | elapsed:    0.1s finished\n"
     ]
    },
    {
     "name": "stdout",
     "output_type": "stream",
     "text": [
      "================\n",
      "Configuration:\n",
      "C: 2.6367102709161507\n",
      "Tolerance: 0.014062605159167758\n",
      "Solver: liblinear\n",
      "Oversampling Method: ada\n",
      "----------------\n",
      "[LibLinear][LibLinear][LibLinear]Results: -0.8593951856915357\n",
      "================\n",
      "================\n",
      "Configuration:\n",
      "C: 1.2649847331001185\n",
      "Tolerance: 0.0001\n",
      "Solver: liblinear\n",
      "Oversampling Method: ada\n",
      "----------------\n",
      "[LibLinear][LibLinear][LibLinear]Results: -0.8595373345469701\n",
      "================\n",
      "================\n",
      "Configuration:\n",
      "C: 2.471706216135153\n",
      "Tolerance: 0.008502210281249364\n",
      "Solver: liblinear\n",
      "Oversampling Method: ada\n",
      "----------------\n",
      "[LibLinear][LibLinear][LibLinear]Results: -0.8596686628191345\n",
      "================\n",
      "================\n",
      "Configuration:\n",
      "C: 1.2306361092297777\n",
      "Tolerance: 0.0001\n",
      "Solver: saga\n",
      "Oversampling Method: none\n",
      "----------------\n"
     ]
    },
    {
     "name": "stderr",
     "output_type": "stream",
     "text": [
      "[Parallel(n_jobs=1)]: Using backend SequentialBackend with 1 concurrent workers.\n"
     ]
    },
    {
     "name": "stdout",
     "output_type": "stream",
     "text": [
      "max_iter reached after 6 seconds\n"
     ]
    },
    {
     "name": "stderr",
     "output_type": "stream",
     "text": [
      "C:\\Users\\Aaron\\AppData\\Roaming\\Python\\Python311\\site-packages\\sklearn\\linear_model\\_sag.py:350: ConvergenceWarning: The max_iter was reached which means the coef_ did not converge\n",
      "  warnings.warn(\n",
      "[Parallel(n_jobs=1)]: Done   1 out of   1 | elapsed:    5.7s finished\n",
      "[Parallel(n_jobs=1)]: Using backend SequentialBackend with 1 concurrent workers.\n"
     ]
    },
    {
     "name": "stdout",
     "output_type": "stream",
     "text": [
      "max_iter reached after 8 seconds\n"
     ]
    },
    {
     "name": "stderr",
     "output_type": "stream",
     "text": [
      "C:\\Users\\Aaron\\AppData\\Roaming\\Python\\Python311\\site-packages\\sklearn\\linear_model\\_sag.py:350: ConvergenceWarning: The max_iter was reached which means the coef_ did not converge\n",
      "  warnings.warn(\n",
      "[Parallel(n_jobs=1)]: Done   1 out of   1 | elapsed:    7.5s finished\n",
      "[Parallel(n_jobs=1)]: Using backend SequentialBackend with 1 concurrent workers.\n"
     ]
    },
    {
     "name": "stdout",
     "output_type": "stream",
     "text": [
      "max_iter reached after 6 seconds\n",
      "Results: -0.8595819404368644\n",
      "================\n"
     ]
    },
    {
     "name": "stderr",
     "output_type": "stream",
     "text": [
      "C:\\Users\\Aaron\\AppData\\Roaming\\Python\\Python311\\site-packages\\sklearn\\linear_model\\_sag.py:350: ConvergenceWarning: The max_iter was reached which means the coef_ did not converge\n",
      "  warnings.warn(\n",
      "[Parallel(n_jobs=1)]: Done   1 out of   1 | elapsed:    6.0s finished\n"
     ]
    },
    {
     "name": "stdout",
     "output_type": "stream",
     "text": [
      "================\n",
      "Configuration:\n",
      "C: 0.6897659973650478\n",
      "Tolerance: 0.1\n",
      "Solver: sag\n",
      "Oversampling Method: ada\n",
      "----------------\n",
      "convergence after 4 epochs took 0 seconds\n"
     ]
    },
    {
     "name": "stderr",
     "output_type": "stream",
     "text": [
      "[Parallel(n_jobs=1)]: Using backend SequentialBackend with 1 concurrent workers.\n",
      "[Parallel(n_jobs=1)]: Done   1 out of   1 | elapsed:    0.0s finished\n",
      "[Parallel(n_jobs=1)]: Using backend SequentialBackend with 1 concurrent workers.\n"
     ]
    },
    {
     "name": "stdout",
     "output_type": "stream",
     "text": [
      "convergence after 4 epochs took 0 seconds\n",
      "convergence after 4 epochs took 0 seconds\n",
      "Results: -0.8577925242055561\n",
      "================\n"
     ]
    },
    {
     "name": "stderr",
     "output_type": "stream",
     "text": [
      "[Parallel(n_jobs=1)]: Done   1 out of   1 | elapsed:    0.0s finished\n",
      "[Parallel(n_jobs=1)]: Using backend SequentialBackend with 1 concurrent workers.\n",
      "[Parallel(n_jobs=1)]: Done   1 out of   1 | elapsed:    0.0s finished\n"
     ]
    },
    {
     "name": "stdout",
     "output_type": "stream",
     "text": [
      "================\n",
      "Configuration:\n",
      "C: 0.4805757762548599\n",
      "Tolerance: 0.07895622701615575\n",
      "Solver: sag\n",
      "Oversampling Method: none\n",
      "----------------\n",
      "convergence after 5 epochs took 0 seconds\n"
     ]
    },
    {
     "name": "stderr",
     "output_type": "stream",
     "text": [
      "[Parallel(n_jobs=1)]: Using backend SequentialBackend with 1 concurrent workers.\n",
      "[Parallel(n_jobs=1)]: Done   1 out of   1 | elapsed:    0.0s finished\n",
      "[Parallel(n_jobs=1)]: Using backend SequentialBackend with 1 concurrent workers.\n"
     ]
    },
    {
     "name": "stdout",
     "output_type": "stream",
     "text": [
      "convergence after 5 epochs took 0 seconds\n",
      "convergence after 5 epochs took 0 seconds\n",
      "Results: -0.8585937853970709\n",
      "================\n"
     ]
    },
    {
     "name": "stderr",
     "output_type": "stream",
     "text": [
      "[Parallel(n_jobs=1)]: Done   1 out of   1 | elapsed:    0.0s finished\n",
      "[Parallel(n_jobs=1)]: Using backend SequentialBackend with 1 concurrent workers.\n",
      "[Parallel(n_jobs=1)]: Done   1 out of   1 | elapsed:    0.1s finished\n"
     ]
    },
    {
     "name": "stdout",
     "output_type": "stream",
     "text": [
      "================\n",
      "Configuration:\n",
      "C: 2.784749562372856\n",
      "Tolerance: 0.07038221423833955\n",
      "Solver: sag\n",
      "Oversampling Method: none\n",
      "----------------\n",
      "convergence after 6 epochs took 0 seconds\n"
     ]
    },
    {
     "name": "stderr",
     "output_type": "stream",
     "text": [
      "[Parallel(n_jobs=1)]: Using backend SequentialBackend with 1 concurrent workers.\n",
      "[Parallel(n_jobs=1)]: Done   1 out of   1 | elapsed:    0.1s finished\n",
      "[Parallel(n_jobs=1)]: Using backend SequentialBackend with 1 concurrent workers.\n"
     ]
    },
    {
     "name": "stdout",
     "output_type": "stream",
     "text": [
      "convergence after 5 epochs took 0 seconds\n",
      "convergence after 6 epochs took 0 seconds\n",
      "Results: -0.8583514784017772\n",
      "================\n"
     ]
    },
    {
     "name": "stderr",
     "output_type": "stream",
     "text": [
      "[Parallel(n_jobs=1)]: Done   1 out of   1 | elapsed:    0.1s finished\n",
      "[Parallel(n_jobs=1)]: Using backend SequentialBackend with 1 concurrent workers.\n",
      "[Parallel(n_jobs=1)]: Done   1 out of   1 | elapsed:    0.1s finished\n"
     ]
    },
    {
     "name": "stdout",
     "output_type": "stream",
     "text": [
      "================\n",
      "Configuration:\n",
      "C: 2.9875942339626884\n",
      "Tolerance: 0.055129948526152155\n",
      "Solver: newton-cg\n",
      "Oversampling Method: ada\n",
      "----------------\n",
      "Results: -0.7742783580634138\n",
      "================\n"
     ]
    },
    {
     "name": "stderr",
     "output_type": "stream",
     "text": [
      "[Parallel(n_jobs=1)]: Using backend SequentialBackend with 1 concurrent workers.\n",
      "[Parallel(n_jobs=1)]: Done   1 out of   1 | elapsed:    0.0s finished\n",
      "[Parallel(n_jobs=1)]: Using backend SequentialBackend with 1 concurrent workers.\n",
      "[Parallel(n_jobs=1)]: Done   1 out of   1 | elapsed:    0.0s finished\n",
      "[Parallel(n_jobs=1)]: Using backend SequentialBackend with 1 concurrent workers.\n",
      "[Parallel(n_jobs=1)]: Done   1 out of   1 | elapsed:    0.0s finished\n"
     ]
    },
    {
     "name": "stdout",
     "output_type": "stream",
     "text": [
      "================\n",
      "Configuration:\n",
      "C: 2.596973552091523\n",
      "Tolerance: 0.0001\n",
      "Solver: saga\n",
      "Oversampling Method: none\n",
      "----------------\n"
     ]
    },
    {
     "name": "stderr",
     "output_type": "stream",
     "text": [
      "[Parallel(n_jobs=1)]: Using backend SequentialBackend with 1 concurrent workers.\n"
     ]
    },
    {
     "name": "stdout",
     "output_type": "stream",
     "text": [
      "max_iter reached after 6 seconds\n"
     ]
    },
    {
     "name": "stderr",
     "output_type": "stream",
     "text": [
      "C:\\Users\\Aaron\\AppData\\Roaming\\Python\\Python311\\site-packages\\sklearn\\linear_model\\_sag.py:350: ConvergenceWarning: The max_iter was reached which means the coef_ did not converge\n",
      "  warnings.warn(\n",
      "[Parallel(n_jobs=1)]: Done   1 out of   1 | elapsed:    5.6s finished\n",
      "[Parallel(n_jobs=1)]: Using backend SequentialBackend with 1 concurrent workers.\n"
     ]
    },
    {
     "name": "stdout",
     "output_type": "stream",
     "text": [
      "max_iter reached after 7 seconds\n"
     ]
    },
    {
     "name": "stderr",
     "output_type": "stream",
     "text": [
      "C:\\Users\\Aaron\\AppData\\Roaming\\Python\\Python311\\site-packages\\sklearn\\linear_model\\_sag.py:350: ConvergenceWarning: The max_iter was reached which means the coef_ did not converge\n",
      "  warnings.warn(\n",
      "[Parallel(n_jobs=1)]: Done   1 out of   1 | elapsed:    7.5s finished\n",
      "[Parallel(n_jobs=1)]: Using backend SequentialBackend with 1 concurrent workers.\n"
     ]
    },
    {
     "name": "stdout",
     "output_type": "stream",
     "text": [
      "max_iter reached after 5 seconds\n",
      "Results: -0.8597383936563446\n",
      "================\n"
     ]
    },
    {
     "name": "stderr",
     "output_type": "stream",
     "text": [
      "C:\\Users\\Aaron\\AppData\\Roaming\\Python\\Python311\\site-packages\\sklearn\\linear_model\\_sag.py:350: ConvergenceWarning: The max_iter was reached which means the coef_ did not converge\n",
      "  warnings.warn(\n",
      "[Parallel(n_jobs=1)]: Done   1 out of   1 | elapsed:    5.6s finished\n"
     ]
    },
    {
     "name": "stdout",
     "output_type": "stream",
     "text": [
      "================\n",
      "Configuration:\n",
      "C: 1.3471535769501402\n",
      "Tolerance: 0.006943585473657923\n",
      "Solver: newton-cholesky\n",
      "Oversampling Method: none\n",
      "----------------\n",
      "Newton iter=1\n",
      "  Check Convergence\n",
      "    1. max |gradient| 0.028166414258952444 <= 0.006943585473657923\n",
      "Newton iter=2\n",
      "  Check Convergence\n",
      "    1. max |gradient| 0.0056550182420212845 <= 0.006943585473657923\n",
      "    2. Newton decrement 0.021901688671576658 <= 0.006943585473657923\n",
      "Newton iter=3\n",
      "  Check Convergence\n",
      "    1. max |gradient| 0.001436161931522738 <= 0.006943585473657923\n",
      "    2. Newton decrement 0.004262280346587511 <= 0.006943585473657923\n",
      "  Solver did converge at loss = 0.4671373090857905.\n",
      "Newton iter=1\n",
      "  Check Convergence\n",
      "    1. max |gradient| 0.034140525071228084 <= 0.006943585473657923\n",
      "Newton iter=2\n",
      "  Check Convergence\n",
      "    1. max |gradient| 0.006527301778306786 <= 0.006943585473657923\n",
      "    2. Newton decrement 0.021514580787005973 <= 0.006943585473657923\n",
      "Newton iter=3\n",
      "  Check Convergence\n",
      "    1. max |gradient| 0.0009647258314117358 <= 0.006943585473657923\n",
      "    2. Newton decrement 0.003480202783540318 <= 0.006943585473657923\n",
      "  Solver did converge at loss = 0.45913117905510403.\n"
     ]
    },
    {
     "name": "stderr",
     "output_type": "stream",
     "text": [
      "[Parallel(n_jobs=1)]: Using backend SequentialBackend with 1 concurrent workers.\n",
      "[Parallel(n_jobs=1)]: Done   1 out of   1 | elapsed:    0.0s finished\n",
      "[Parallel(n_jobs=1)]: Using backend SequentialBackend with 1 concurrent workers.\n",
      "[Parallel(n_jobs=1)]: Done   1 out of   1 | elapsed:    0.0s finished\n",
      "[Parallel(n_jobs=1)]: Using backend SequentialBackend with 1 concurrent workers.\n"
     ]
    },
    {
     "name": "stdout",
     "output_type": "stream",
     "text": [
      "Newton iter=1\n",
      "  Check Convergence\n",
      "    1. max |gradient| 0.035288633663820825 <= 0.006943585473657923\n",
      "Newton iter=2\n",
      "  Check Convergence\n",
      "    1. max |gradient| 0.006971419706980821 <= 0.006943585473657923\n",
      "Newton iter=3\n",
      "  Check Convergence\n",
      "    1. max |gradient| 0.0010750318828986996 <= 0.006943585473657923\n",
      "    2. Newton decrement 0.003868207761684059 <= 0.006943585473657923\n",
      "  Solver did converge at loss = 0.4549227221221855.\n",
      "Results: -0.8592891084915552\n",
      "================\n"
     ]
    },
    {
     "name": "stderr",
     "output_type": "stream",
     "text": [
      "[Parallel(n_jobs=1)]: Done   1 out of   1 | elapsed:    0.0s finished\n"
     ]
    },
    {
     "name": "stdout",
     "output_type": "stream",
     "text": [
      "================\n",
      "Configuration:\n",
      "C: 2.331285342201003\n",
      "Tolerance: 0.0001\n",
      "Solver: lbfgs\n",
      "Oversampling Method: ada\n",
      "----------------\n"
     ]
    },
    {
     "name": "stderr",
     "output_type": "stream",
     "text": [
      "[Parallel(n_jobs=1)]: Using backend SequentialBackend with 1 concurrent workers.\n",
      "[Parallel(n_jobs=1)]: Done   1 out of   1 | elapsed:    0.2s finished\n",
      "[Parallel(n_jobs=1)]: Using backend SequentialBackend with 1 concurrent workers.\n",
      "[Parallel(n_jobs=1)]: Done   1 out of   1 | elapsed:    0.3s finished\n",
      "[Parallel(n_jobs=1)]: Using backend SequentialBackend with 1 concurrent workers.\n",
      "[Parallel(n_jobs=1)]: Done   1 out of   1 | elapsed:    0.4s finished\n"
     ]
    },
    {
     "name": "stdout",
     "output_type": "stream",
     "text": [
      "Results: -0.8597602476061647\n",
      "================\n",
      "================\n",
      "Configuration:\n",
      "C: 2.116341481093261\n",
      "Tolerance: 0.0001\n",
      "Solver: saga\n",
      "Oversampling Method: none\n",
      "----------------\n"
     ]
    },
    {
     "name": "stderr",
     "output_type": "stream",
     "text": [
      "[Parallel(n_jobs=1)]: Using backend SequentialBackend with 1 concurrent workers.\n"
     ]
    },
    {
     "name": "stdout",
     "output_type": "stream",
     "text": [
      "max_iter reached after 9 seconds\n"
     ]
    },
    {
     "name": "stderr",
     "output_type": "stream",
     "text": [
      "C:\\Users\\Aaron\\AppData\\Roaming\\Python\\Python311\\site-packages\\sklearn\\linear_model\\_sag.py:350: ConvergenceWarning: The max_iter was reached which means the coef_ did not converge\n",
      "  warnings.warn(\n",
      "[Parallel(n_jobs=1)]: Done   1 out of   1 | elapsed:    8.4s finished\n",
      "[Parallel(n_jobs=1)]: Using backend SequentialBackend with 1 concurrent workers.\n"
     ]
    },
    {
     "name": "stdout",
     "output_type": "stream",
     "text": [
      "max_iter reached after 7 seconds\n"
     ]
    },
    {
     "name": "stderr",
     "output_type": "stream",
     "text": [
      "C:\\Users\\Aaron\\AppData\\Roaming\\Python\\Python311\\site-packages\\sklearn\\linear_model\\_sag.py:350: ConvergenceWarning: The max_iter was reached which means the coef_ did not converge\n",
      "  warnings.warn(\n",
      "[Parallel(n_jobs=1)]: Done   1 out of   1 | elapsed:    7.4s finished\n",
      "[Parallel(n_jobs=1)]: Using backend SequentialBackend with 1 concurrent workers.\n"
     ]
    },
    {
     "name": "stdout",
     "output_type": "stream",
     "text": [
      "max_iter reached after 6 seconds\n",
      "Results: -0.8597065178895505\n",
      "================\n"
     ]
    },
    {
     "name": "stderr",
     "output_type": "stream",
     "text": [
      "C:\\Users\\Aaron\\AppData\\Roaming\\Python\\Python311\\site-packages\\sklearn\\linear_model\\_sag.py:350: ConvergenceWarning: The max_iter was reached which means the coef_ did not converge\n",
      "  warnings.warn(\n",
      "[Parallel(n_jobs=1)]: Done   1 out of   1 | elapsed:    6.2s finished\n"
     ]
    },
    {
     "name": "stdout",
     "output_type": "stream",
     "text": [
      "================\n",
      "Configuration:\n",
      "C: 2.8431038492689344\n",
      "Tolerance: 0.09143638669313013\n",
      "Solver: sag\n",
      "Oversampling Method: ada\n",
      "----------------\n"
     ]
    },
    {
     "name": "stderr",
     "output_type": "stream",
     "text": [
      "[Parallel(n_jobs=1)]: Using backend SequentialBackend with 1 concurrent workers.\n",
      "[Parallel(n_jobs=1)]: Done   1 out of   1 | elapsed:    0.1s finished\n"
     ]
    },
    {
     "name": "stdout",
     "output_type": "stream",
     "text": [
      "convergence after 5 epochs took 0 seconds\n"
     ]
    },
    {
     "name": "stderr",
     "output_type": "stream",
     "text": [
      "[Parallel(n_jobs=1)]: Using backend SequentialBackend with 1 concurrent workers.\n",
      "[Parallel(n_jobs=1)]: Done   1 out of   1 | elapsed:    0.1s finished\n"
     ]
    },
    {
     "name": "stdout",
     "output_type": "stream",
     "text": [
      "convergence after 5 epochs took 1 seconds\n"
     ]
    },
    {
     "name": "stderr",
     "output_type": "stream",
     "text": [
      "[Parallel(n_jobs=1)]: Using backend SequentialBackend with 1 concurrent workers.\n"
     ]
    },
    {
     "name": "stdout",
     "output_type": "stream",
     "text": [
      "convergence after 5 epochs took 0 seconds\n",
      "Results: -0.8576329299457415\n",
      "================\n"
     ]
    },
    {
     "name": "stderr",
     "output_type": "stream",
     "text": [
      "[Parallel(n_jobs=1)]: Done   1 out of   1 | elapsed:    0.1s finished\n"
     ]
    },
    {
     "name": "stdout",
     "output_type": "stream",
     "text": [
      "================\n",
      "Configuration:\n",
      "C: 2.150138551460122\n",
      "Tolerance: 0.006254856121006206\n",
      "Solver: newton-cholesky\n",
      "Oversampling Method: ada\n",
      "----------------\n",
      "Newton iter=1\n",
      "  Check Convergence\n",
      "    1. max |gradient| 0.028224422071993122 <= 0.006254856121006206\n",
      "Newton iter=2\n",
      "  Check Convergence\n",
      "    1. max |gradient| 0.005713598973265037 <= 0.006254856121006206\n",
      "    2. Newton decrement 0.0221831424313737 <= 0.006254856121006206\n",
      "Newton iter=3\n",
      "  Check Convergence\n",
      "    1. max |gradient| 0.001544076628277376 <= 0.006254856121006206\n",
      "    2. Newton decrement 0.004520396815560657 <= 0.006254856121006206\n",
      "  Solver did converge at loss = 0.4660989015972155.\n",
      "Newton iter=1\n",
      "  Check Convergence\n",
      "    1. max |gradient| 0.034180074352028876 <= 0.006254856121006206\n",
      "Newton iter=2\n"
     ]
    },
    {
     "name": "stderr",
     "output_type": "stream",
     "text": [
      "[Parallel(n_jobs=1)]: Using backend SequentialBackend with 1 concurrent workers.\n",
      "[Parallel(n_jobs=1)]: Done   1 out of   1 | elapsed:    0.0s finished\n",
      "[Parallel(n_jobs=1)]: Using backend SequentialBackend with 1 concurrent workers.\n",
      "[Parallel(n_jobs=1)]: Done   1 out of   1 | elapsed:    0.0s finished\n"
     ]
    },
    {
     "name": "stdout",
     "output_type": "stream",
     "text": [
      "  Check Convergence\n",
      "    1. max |gradient| 0.0065796951902006556 <= 0.006254856121006206\n",
      "Newton iter=3\n",
      "  Check Convergence\n",
      "    1. max |gradient| 0.0010550782789746256 <= 0.006254856121006206\n",
      "    2. Newton decrement 0.0037082831034244983 <= 0.006254856121006206\n",
      "  Solver did converge at loss = 0.45823300923722127.\n",
      "Newton iter=1\n",
      "  Check Convergence\n",
      "    1. max |gradient| 0.03532646826724566 <= 0.006254856121006206\n",
      "Newton iter=2\n",
      "  Check Convergence\n",
      "    1. max |gradient| 0.00701641805192637 <= 0.006254856121006206\n",
      "Newton iter=3\n",
      "  Check Convergence\n",
      "    1. max |gradient| 0.0011714353159358265 <= 0.006254856121006206\n",
      "    2. Newton decrement 0.004101142474782027 <= 0.006254856121006206\n",
      "  Solver did converge at loss = 0.4540547842601639.\n",
      "Results: -0.8593690454365079\n",
      "================\n"
     ]
    },
    {
     "name": "stderr",
     "output_type": "stream",
     "text": [
      "[Parallel(n_jobs=1)]: Using backend SequentialBackend with 1 concurrent workers.\n",
      "[Parallel(n_jobs=1)]: Done   1 out of   1 | elapsed:    0.0s finished\n"
     ]
    },
    {
     "name": "stdout",
     "output_type": "stream",
     "text": [
      "================\n",
      "Configuration:\n",
      "C: 3.0\n",
      "Tolerance: 0.0065328882114920675\n",
      "Solver: newton-cholesky\n",
      "Oversampling Method: ada\n",
      "----------------\n",
      "Newton iter=1\n",
      "  Check Convergence\n",
      "    1. max |gradient| 0.0282594792077637 <= 0.0065328882114920675\n",
      "Newton iter=2\n",
      "  Check Convergence\n",
      "    1. max |gradient| 0.005745313002866469 <= 0.0065328882114920675\n",
      "    2. Newton decrement 0.02233225734237848 <= 0.0065328882114920675\n",
      "Newton iter=3\n",
      "  Check Convergence\n",
      "    1. max |gradient| 0.0016016404701709504 <= 0.0065328882114920675\n",
      "    2. Newton decrement 0.004659964171633358 <= 0.0065328882114920675\n",
      "  Solver did converge at loss = 0.46553836644145813.\n",
      "Newton iter=1\n",
      "  Check Convergence\n",
      "    1. max |gradient| 0.034200556483618964 <= 0.0065328882114920675\n",
      "Newton iter=2\n"
     ]
    },
    {
     "name": "stderr",
     "output_type": "stream",
     "text": [
      "[Parallel(n_jobs=1)]: Using backend SequentialBackend with 1 concurrent workers.\n",
      "[Parallel(n_jobs=1)]: Done   1 out of   1 | elapsed:    0.0s finished\n",
      "[Parallel(n_jobs=1)]: Using backend SequentialBackend with 1 concurrent workers.\n",
      "[Parallel(n_jobs=1)]: Done   1 out of   1 | elapsed:    0.0s finished\n"
     ]
    },
    {
     "name": "stdout",
     "output_type": "stream",
     "text": [
      "  Check Convergence\n",
      "    1. max |gradient| 0.006606273317286807 <= 0.0065328882114920675\n",
      "Newton iter=3\n",
      "  Check Convergence\n",
      "    1. max |gradient| 0.001103813589810637 <= 0.0065328882114920675\n",
      "    2. Newton decrement 0.003831503356130119 <= 0.0065328882114920675\n",
      "  Solver did converge at loss = 0.45775973938751296.\n",
      "Newton iter=1\n",
      "  Check Convergence\n",
      "    1. max |gradient| 0.0353459483597149 <= 0.0065328882114920675\n",
      "Newton iter=2\n",
      "  Check Convergence\n",
      "    1. max |gradient| 0.0070394199718326915 <= 0.0065328882114920675\n",
      "Newton iter=3\n",
      "  Check Convergence\n",
      "    1. max |gradient| 0.0012231279101518264 <= 0.0065328882114920675\n",
      "    2. Newton decrement 0.0042252369963563415 <= 0.0065328882114920675\n",
      "  Solver did converge at loss = 0.4536057944134089.\n",
      "Results: -0.8594052156542156\n",
      "================\n"
     ]
    },
    {
     "name": "stderr",
     "output_type": "stream",
     "text": [
      "[Parallel(n_jobs=1)]: Using backend SequentialBackend with 1 concurrent workers.\n",
      "[Parallel(n_jobs=1)]: Done   1 out of   1 | elapsed:    0.0s finished\n"
     ]
    },
    {
     "name": "stdout",
     "output_type": "stream",
     "text": [
      "================\n",
      "Configuration:\n",
      "C: 2.4971627290188314\n",
      "Tolerance: 0.0001\n",
      "Solver: sag\n",
      "Oversampling Method: none\n",
      "----------------\n"
     ]
    },
    {
     "name": "stderr",
     "output_type": "stream",
     "text": [
      "[Parallel(n_jobs=1)]: Using backend SequentialBackend with 1 concurrent workers.\n"
     ]
    },
    {
     "name": "stdout",
     "output_type": "stream",
     "text": [
      "convergence after 126 epochs took 5 seconds\n"
     ]
    },
    {
     "name": "stderr",
     "output_type": "stream",
     "text": [
      "[Parallel(n_jobs=1)]: Done   1 out of   1 | elapsed:    4.1s finished\n",
      "[Parallel(n_jobs=1)]: Using backend SequentialBackend with 1 concurrent workers.\n"
     ]
    },
    {
     "name": "stdout",
     "output_type": "stream",
     "text": [
      "max_iter reached after 6 seconds\n"
     ]
    },
    {
     "name": "stderr",
     "output_type": "stream",
     "text": [
      "C:\\Users\\Aaron\\AppData\\Roaming\\Python\\Python311\\site-packages\\sklearn\\linear_model\\_sag.py:350: ConvergenceWarning: The max_iter was reached which means the coef_ did not converge\n",
      "  warnings.warn(\n",
      "[Parallel(n_jobs=1)]: Done   1 out of   1 | elapsed:    6.1s finished\n",
      "[Parallel(n_jobs=1)]: Using backend SequentialBackend with 1 concurrent workers.\n"
     ]
    },
    {
     "name": "stdout",
     "output_type": "stream",
     "text": [
      "max_iter reached after 9 seconds\n",
      "Results: -0.8597237938459902\n",
      "================\n"
     ]
    },
    {
     "name": "stderr",
     "output_type": "stream",
     "text": [
      "C:\\Users\\Aaron\\AppData\\Roaming\\Python\\Python311\\site-packages\\sklearn\\linear_model\\_sag.py:350: ConvergenceWarning: The max_iter was reached which means the coef_ did not converge\n",
      "  warnings.warn(\n",
      "[Parallel(n_jobs=1)]: Done   1 out of   1 | elapsed:    9.0s finished\n"
     ]
    },
    {
     "name": "stdout",
     "output_type": "stream",
     "text": [
      "================\n",
      "Configuration:\n",
      "C: 2.208558853074399\n",
      "Tolerance: 0.016713500398507265\n",
      "Solver: sag\n",
      "Oversampling Method: ada\n",
      "----------------\n"
     ]
    },
    {
     "name": "stderr",
     "output_type": "stream",
     "text": [
      "[Parallel(n_jobs=1)]: Using backend SequentialBackend with 1 concurrent workers.\n"
     ]
    },
    {
     "name": "stdout",
     "output_type": "stream",
     "text": [
      "convergence after 10 epochs took 1 seconds\n"
     ]
    },
    {
     "name": "stderr",
     "output_type": "stream",
     "text": [
      "[Parallel(n_jobs=1)]: Done   1 out of   1 | elapsed:    0.5s finished\n",
      "[Parallel(n_jobs=1)]: Using backend SequentialBackend with 1 concurrent workers.\n"
     ]
    },
    {
     "name": "stdout",
     "output_type": "stream",
     "text": [
      "convergence after 13 epochs took 0 seconds\n"
     ]
    },
    {
     "name": "stderr",
     "output_type": "stream",
     "text": [
      "[Parallel(n_jobs=1)]: Done   1 out of   1 | elapsed:    0.5s finished\n",
      "[Parallel(n_jobs=1)]: Using backend SequentialBackend with 1 concurrent workers.\n"
     ]
    },
    {
     "name": "stdout",
     "output_type": "stream",
     "text": [
      "convergence after 11 epochs took 0 seconds\n",
      "Results: -0.8594789412905798\n",
      "================\n"
     ]
    },
    {
     "name": "stderr",
     "output_type": "stream",
     "text": [
      "[Parallel(n_jobs=1)]: Done   1 out of   1 | elapsed:    0.5s finished\n"
     ]
    },
    {
     "name": "stdout",
     "output_type": "stream",
     "text": [
      "================\n",
      "Configuration:\n",
      "C: 2.9045000911728605\n",
      "Tolerance: 0.0051763973053122496\n",
      "Solver: sag\n",
      "Oversampling Method: none\n",
      "----------------\n"
     ]
    },
    {
     "name": "stderr",
     "output_type": "stream",
     "text": [
      "[Parallel(n_jobs=1)]: Using backend SequentialBackend with 1 concurrent workers.\n"
     ]
    },
    {
     "name": "stdout",
     "output_type": "stream",
     "text": [
      "convergence after 45 epochs took 2 seconds\n"
     ]
    },
    {
     "name": "stderr",
     "output_type": "stream",
     "text": [
      "[Parallel(n_jobs=1)]: Done   1 out of   1 | elapsed:    2.1s finished\n",
      "[Parallel(n_jobs=1)]: Using backend SequentialBackend with 1 concurrent workers.\n"
     ]
    },
    {
     "name": "stdout",
     "output_type": "stream",
     "text": [
      "convergence after 32 epochs took 2 seconds\n"
     ]
    },
    {
     "name": "stderr",
     "output_type": "stream",
     "text": [
      "[Parallel(n_jobs=1)]: Done   1 out of   1 | elapsed:    1.0s finished\n",
      "[Parallel(n_jobs=1)]: Using backend SequentialBackend with 1 concurrent workers.\n"
     ]
    },
    {
     "name": "stdout",
     "output_type": "stream",
     "text": [
      "convergence after 33 epochs took 0 seconds\n",
      "Results: -0.8597225472897341\n",
      "================\n"
     ]
    },
    {
     "name": "stderr",
     "output_type": "stream",
     "text": [
      "[Parallel(n_jobs=1)]: Done   1 out of   1 | elapsed:    0.8s finished\n"
     ]
    },
    {
     "name": "stdout",
     "output_type": "stream",
     "text": [
      "================\n",
      "Configuration:\n",
      "C: 0.9483796342712913\n",
      "Tolerance: 0.021003968619278744\n",
      "Solver: sag\n",
      "Oversampling Method: ada\n",
      "----------------\n"
     ]
    },
    {
     "name": "stderr",
     "output_type": "stream",
     "text": [
      "[Parallel(n_jobs=1)]: Using backend SequentialBackend with 1 concurrent workers.\n",
      "[Parallel(n_jobs=1)]: Done   1 out of   1 | elapsed:    0.1s finished\n"
     ]
    },
    {
     "name": "stdout",
     "output_type": "stream",
     "text": [
      "convergence after 8 epochs took 0 seconds\n"
     ]
    },
    {
     "name": "stderr",
     "output_type": "stream",
     "text": [
      "[Parallel(n_jobs=1)]: Using backend SequentialBackend with 1 concurrent workers.\n"
     ]
    },
    {
     "name": "stdout",
     "output_type": "stream",
     "text": [
      "convergence after 10 epochs took 0 seconds\n"
     ]
    },
    {
     "name": "stderr",
     "output_type": "stream",
     "text": [
      "[Parallel(n_jobs=1)]: Done   1 out of   1 | elapsed:    0.1s finished\n",
      "[Parallel(n_jobs=1)]: Using backend SequentialBackend with 1 concurrent workers.\n"
     ]
    },
    {
     "name": "stdout",
     "output_type": "stream",
     "text": [
      "convergence after 10 epochs took 0 seconds\n",
      "Results: -0.8593605964079227\n",
      "================\n"
     ]
    },
    {
     "name": "stderr",
     "output_type": "stream",
     "text": [
      "[Parallel(n_jobs=1)]: Done   1 out of   1 | elapsed:    0.2s finished\n"
     ]
    },
    {
     "name": "stdout",
     "output_type": "stream",
     "text": [
      "================\n",
      "Configuration:\n",
      "C: 1.4908154839521623\n",
      "Tolerance: 0.019398620766692902\n",
      "Solver: saga\n",
      "Oversampling Method: ada\n",
      "----------------\n"
     ]
    },
    {
     "name": "stderr",
     "output_type": "stream",
     "text": [
      "[Parallel(n_jobs=1)]: Using backend SequentialBackend with 1 concurrent workers.\n"
     ]
    },
    {
     "name": "stdout",
     "output_type": "stream",
     "text": [
      "convergence after 12 epochs took 0 seconds\n"
     ]
    },
    {
     "name": "stderr",
     "output_type": "stream",
     "text": [
      "[Parallel(n_jobs=1)]: Done   1 out of   1 | elapsed:    0.6s finished\n",
      "[Parallel(n_jobs=1)]: Using backend SequentialBackend with 1 concurrent workers.\n"
     ]
    },
    {
     "name": "stdout",
     "output_type": "stream",
     "text": [
      "convergence after 12 epochs took 1 seconds\n"
     ]
    },
    {
     "name": "stderr",
     "output_type": "stream",
     "text": [
      "[Parallel(n_jobs=1)]: Done   1 out of   1 | elapsed:    0.6s finished\n",
      "[Parallel(n_jobs=1)]: Using backend SequentialBackend with 1 concurrent workers.\n"
     ]
    },
    {
     "name": "stdout",
     "output_type": "stream",
     "text": [
      "convergence after 12 epochs took 0 seconds\n",
      "Results: -0.8588226214728806\n",
      "================\n"
     ]
    },
    {
     "name": "stderr",
     "output_type": "stream",
     "text": [
      "[Parallel(n_jobs=1)]: Done   1 out of   1 | elapsed:    0.2s finished\n"
     ]
    },
    {
     "name": "stdout",
     "output_type": "stream",
     "text": [
      "================\n",
      "Configuration:\n",
      "C: 3.0\n",
      "Tolerance: 0.07483533718596991\n",
      "Solver: saga\n",
      "Oversampling Method: none\n",
      "----------------\n"
     ]
    },
    {
     "name": "stderr",
     "output_type": "stream",
     "text": [
      "[Parallel(n_jobs=1)]: Using backend SequentialBackend with 1 concurrent workers.\n"
     ]
    },
    {
     "name": "stdout",
     "output_type": "stream",
     "text": [
      "convergence after 5 epochs took 0 seconds\n"
     ]
    },
    {
     "name": "stderr",
     "output_type": "stream",
     "text": [
      "[Parallel(n_jobs=1)]: Done   1 out of   1 | elapsed:    0.1s finished\n",
      "[Parallel(n_jobs=1)]: Using backend SequentialBackend with 1 concurrent workers.\n"
     ]
    },
    {
     "name": "stdout",
     "output_type": "stream",
     "text": [
      "convergence after 3 epochs took 0 seconds\n",
      "convergence after 4 epochs took 0 seconds\n"
     ]
    },
    {
     "name": "stderr",
     "output_type": "stream",
     "text": [
      "[Parallel(n_jobs=1)]: Done   1 out of   1 | elapsed:    0.1s finished\n",
      "[Parallel(n_jobs=1)]: Using backend SequentialBackend with 1 concurrent workers.\n",
      "[Parallel(n_jobs=1)]: Done   1 out of   1 | elapsed:    0.0s finished\n"
     ]
    },
    {
     "name": "stdout",
     "output_type": "stream",
     "text": [
      "Results: -0.8567128231710074\n",
      "================\n",
      "================\n",
      "Configuration:\n",
      "C: 2.1089811344378324\n",
      "Tolerance: 0.0001\n",
      "Solver: lbfgs\n",
      "Oversampling Method: none\n",
      "----------------\n"
     ]
    },
    {
     "name": "stderr",
     "output_type": "stream",
     "text": [
      "[Parallel(n_jobs=1)]: Using backend SequentialBackend with 1 concurrent workers.\n",
      "[Parallel(n_jobs=1)]: Done   1 out of   1 | elapsed:    0.2s finished\n",
      "[Parallel(n_jobs=1)]: Using backend SequentialBackend with 1 concurrent workers.\n",
      "[Parallel(n_jobs=1)]: Done   1 out of   1 | elapsed:    0.2s finished\n",
      "[Parallel(n_jobs=1)]: Using backend SequentialBackend with 1 concurrent workers.\n",
      "[Parallel(n_jobs=1)]: Done   1 out of   1 | elapsed:    0.2s finished\n"
     ]
    },
    {
     "name": "stdout",
     "output_type": "stream",
     "text": [
      "Results: -0.8597344590066006\n",
      "================\n",
      "================\n",
      "Configuration:\n",
      "C: 1.5091228303548658\n",
      "Tolerance: 0.0001\n",
      "Solver: lbfgs\n",
      "Oversampling Method: ada\n",
      "----------------\n"
     ]
    },
    {
     "name": "stderr",
     "output_type": "stream",
     "text": [
      "[Parallel(n_jobs=1)]: Using backend SequentialBackend with 1 concurrent workers.\n",
      "[Parallel(n_jobs=1)]: Done   1 out of   1 | elapsed:    0.2s finished\n",
      "[Parallel(n_jobs=1)]: Using backend SequentialBackend with 1 concurrent workers.\n",
      "[Parallel(n_jobs=1)]: Done   1 out of   1 | elapsed:    0.2s finished\n",
      "[Parallel(n_jobs=1)]: Using backend SequentialBackend with 1 concurrent workers.\n",
      "[Parallel(n_jobs=1)]: Done   1 out of   1 | elapsed:    0.2s finished\n"
     ]
    },
    {
     "name": "stdout",
     "output_type": "stream",
     "text": [
      "Results: -0.8596648920972534\n",
      "================\n",
      "================\n",
      "Configuration:\n",
      "C: 2.915264037712906\n",
      "Tolerance: 0.0001\n",
      "Solver: sag\n",
      "Oversampling Method: ada\n",
      "----------------\n"
     ]
    },
    {
     "name": "stderr",
     "output_type": "stream",
     "text": [
      "[Parallel(n_jobs=1)]: Using backend SequentialBackend with 1 concurrent workers.\n"
     ]
    },
    {
     "name": "stdout",
     "output_type": "stream",
     "text": [
      "convergence after 139 epochs took 4 seconds\n"
     ]
    },
    {
     "name": "stderr",
     "output_type": "stream",
     "text": [
      "[Parallel(n_jobs=1)]: Done   1 out of   1 | elapsed:    3.3s finished\n",
      "[Parallel(n_jobs=1)]: Using backend SequentialBackend with 1 concurrent workers.\n"
     ]
    },
    {
     "name": "stdout",
     "output_type": "stream",
     "text": [
      "max_iter reached after 7 seconds\n"
     ]
    },
    {
     "name": "stderr",
     "output_type": "stream",
     "text": [
      "C:\\Users\\Aaron\\AppData\\Roaming\\Python\\Python311\\site-packages\\sklearn\\linear_model\\_sag.py:350: ConvergenceWarning: The max_iter was reached which means the coef_ did not converge\n",
      "  warnings.warn(\n",
      "[Parallel(n_jobs=1)]: Done   1 out of   1 | elapsed:    6.6s finished\n",
      "[Parallel(n_jobs=1)]: Using backend SequentialBackend with 1 concurrent workers.\n"
     ]
    },
    {
     "name": "stdout",
     "output_type": "stream",
     "text": [
      "max_iter reached after 8 seconds\n",
      "Results: -0.8597436263586541\n",
      "================\n"
     ]
    },
    {
     "name": "stderr",
     "output_type": "stream",
     "text": [
      "C:\\Users\\Aaron\\AppData\\Roaming\\Python\\Python311\\site-packages\\sklearn\\linear_model\\_sag.py:350: ConvergenceWarning: The max_iter was reached which means the coef_ did not converge\n",
      "  warnings.warn(\n",
      "[Parallel(n_jobs=1)]: Done   1 out of   1 | elapsed:    8.0s finished\n"
     ]
    },
    {
     "name": "stdout",
     "output_type": "stream",
     "text": [
      "================\n",
      "Configuration:\n",
      "C: 0.35273313575205795\n",
      "Tolerance: 0.00504442198469341\n",
      "Solver: liblinear\n",
      "Oversampling Method: none\n",
      "----------------\n",
      "[LibLinear][LibLinear][LibLinear]Results: -0.8583296095503745\n",
      "================\n",
      "================\n",
      "Configuration:\n",
      "C: 1.8923339200188702\n",
      "Tolerance: 0.0001\n",
      "Solver: sag\n",
      "Oversampling Method: ada\n",
      "----------------\n"
     ]
    },
    {
     "name": "stderr",
     "output_type": "stream",
     "text": [
      "[Parallel(n_jobs=1)]: Using backend SequentialBackend with 1 concurrent workers.\n"
     ]
    },
    {
     "name": "stdout",
     "output_type": "stream",
     "text": [
      "convergence after 173 epochs took 5 seconds\n"
     ]
    },
    {
     "name": "stderr",
     "output_type": "stream",
     "text": [
      "[Parallel(n_jobs=1)]: Done   1 out of   1 | elapsed:    4.8s finished\n",
      "[Parallel(n_jobs=1)]: Using backend SequentialBackend with 1 concurrent workers.\n"
     ]
    },
    {
     "name": "stdout",
     "output_type": "stream",
     "text": [
      "max_iter reached after 6 seconds\n"
     ]
    },
    {
     "name": "stderr",
     "output_type": "stream",
     "text": [
      "C:\\Users\\Aaron\\AppData\\Roaming\\Python\\Python311\\site-packages\\sklearn\\linear_model\\_sag.py:350: ConvergenceWarning: The max_iter was reached which means the coef_ did not converge\n",
      "  warnings.warn(\n",
      "[Parallel(n_jobs=1)]: Done   1 out of   1 | elapsed:    6.0s finished\n",
      "[Parallel(n_jobs=1)]: Using backend SequentialBackend with 1 concurrent workers.\n"
     ]
    },
    {
     "name": "stdout",
     "output_type": "stream",
     "text": [
      "max_iter reached after 9 seconds\n",
      "Results: -0.8596785905629725\n",
      "================\n"
     ]
    },
    {
     "name": "stderr",
     "output_type": "stream",
     "text": [
      "C:\\Users\\Aaron\\AppData\\Roaming\\Python\\Python311\\site-packages\\sklearn\\linear_model\\_sag.py:350: ConvergenceWarning: The max_iter was reached which means the coef_ did not converge\n",
      "  warnings.warn(\n",
      "[Parallel(n_jobs=1)]: Done   1 out of   1 | elapsed:    8.5s finished\n"
     ]
    },
    {
     "name": "stdout",
     "output_type": "stream",
     "text": [
      "================\n",
      "Configuration:\n",
      "C: 1.6504814008392021\n",
      "Tolerance: 0.015720239569719185\n",
      "Solver: sag\n",
      "Oversampling Method: ada\n",
      "----------------\n"
     ]
    },
    {
     "name": "stderr",
     "output_type": "stream",
     "text": [
      "[Parallel(n_jobs=1)]: Using backend SequentialBackend with 1 concurrent workers.\n"
     ]
    },
    {
     "name": "stdout",
     "output_type": "stream",
     "text": [
      "convergence after 11 epochs took 1 seconds\n"
     ]
    },
    {
     "name": "stderr",
     "output_type": "stream",
     "text": [
      "[Parallel(n_jobs=1)]: Done   1 out of   1 | elapsed:    0.6s finished\n",
      "[Parallel(n_jobs=1)]: Using backend SequentialBackend with 1 concurrent workers.\n"
     ]
    },
    {
     "name": "stdout",
     "output_type": "stream",
     "text": [
      "convergence after 14 epochs took 1 seconds\n"
     ]
    },
    {
     "name": "stderr",
     "output_type": "stream",
     "text": [
      "[Parallel(n_jobs=1)]: Done   1 out of   1 | elapsed:    0.4s finished\n",
      "[Parallel(n_jobs=1)]: Using backend SequentialBackend with 1 concurrent workers.\n"
     ]
    },
    {
     "name": "stdout",
     "output_type": "stream",
     "text": [
      "convergence after 11 epochs took 0 seconds\n",
      "Results: -0.8594733951310536\n",
      "================\n"
     ]
    },
    {
     "name": "stderr",
     "output_type": "stream",
     "text": [
      "[Parallel(n_jobs=1)]: Done   1 out of   1 | elapsed:    0.3s finished\n"
     ]
    },
    {
     "name": "stdout",
     "output_type": "stream",
     "text": [
      "================\n",
      "Configuration:\n",
      "C: 1.770023516567015\n",
      "Tolerance: 0.04319773144285595\n",
      "Solver: newton-cholesky\n",
      "Oversampling Method: ada\n",
      "----------------\n",
      "Newton iter=1\n",
      "  Check Convergence\n",
      "    1. max |gradient| 0.0282019105650424 <= 0.04319773144285595\n",
      "    2. Newton decrement 0.1720261926775498 <= 0.04319773144285595\n",
      "Newton iter=2\n",
      "  Check Convergence\n",
      "    1. max |gradient| 0.005691654212027341 <= 0.04319773144285595\n",
      "    2. Newton decrement 0.02207794737046711 <= 0.04319773144285595\n",
      "  Solver did converge at loss = 0.47175782433231844.\n",
      "Newton iter=1\n",
      "  Check Convergence\n",
      "    1. max |gradient| 0.03416544199269978 <= 0.04319773144285595\n",
      "    2. Newton decrement 0.18115691569554299 <= 0.04319773144285595\n",
      "Newton iter=2\n",
      "  Check Convergence\n",
      "    1. max |gradient| 0.006560384121142586 <= 0.04319773144285595\n",
      "    2. Newton decrement 0.021674606736401862 <= 0.04319773144285595\n",
      "  Solver did converge at loss = 0.46278885014509186.\n"
     ]
    },
    {
     "name": "stderr",
     "output_type": "stream",
     "text": [
      "[Parallel(n_jobs=1)]: Using backend SequentialBackend with 1 concurrent workers.\n",
      "[Parallel(n_jobs=1)]: Done   1 out of   1 | elapsed:    0.0s finished\n",
      "[Parallel(n_jobs=1)]: Using backend SequentialBackend with 1 concurrent workers.\n",
      "[Parallel(n_jobs=1)]: Done   1 out of   1 | elapsed:    0.0s finished\n",
      "[Parallel(n_jobs=1)]: Using backend SequentialBackend with 1 concurrent workers.\n"
     ]
    },
    {
     "name": "stdout",
     "output_type": "stream",
     "text": [
      "Newton iter=1\n",
      "  Check Convergence\n",
      "    1. max |gradient| 0.035312494416055606 <= 0.04319773144285595\n",
      "    2. Newton decrement 0.1827323948529972 <= 0.04319773144285595\n",
      "Newton iter=2\n",
      "  Check Convergence\n",
      "    1. max |gradient| 0.006999822013698775 <= 0.04319773144285595\n",
      "    2. Newton decrement 0.02280406003691628 <= 0.04319773144285595\n",
      "  Solver did converge at loss = 0.45907079186212324.\n",
      "Results: -0.8581440494018558\n",
      "================\n"
     ]
    },
    {
     "name": "stderr",
     "output_type": "stream",
     "text": [
      "[Parallel(n_jobs=1)]: Done   1 out of   1 | elapsed:    0.0s finished\n"
     ]
    },
    {
     "name": "stdout",
     "output_type": "stream",
     "text": [
      "================\n",
      "Configuration:\n",
      "C: 2.588478633713631\n",
      "Tolerance: 0.0001\n",
      "Solver: liblinear\n",
      "Oversampling Method: none\n",
      "----------------\n",
      "[LibLinear][LibLinear][LibLinear]Results: -0.8597559374111002\n",
      "================\n",
      "================\n",
      "Configuration:\n",
      "C: 2.333835152149919\n",
      "Tolerance: 0.0001\n",
      "Solver: lbfgs\n",
      "Oversampling Method: ada\n",
      "----------------\n"
     ]
    },
    {
     "name": "stderr",
     "output_type": "stream",
     "text": [
      "[Parallel(n_jobs=1)]: Using backend SequentialBackend with 1 concurrent workers.\n",
      "[Parallel(n_jobs=1)]: Done   1 out of   1 | elapsed:    0.3s finished\n",
      "[Parallel(n_jobs=1)]: Using backend SequentialBackend with 1 concurrent workers.\n",
      "[Parallel(n_jobs=1)]: Done   1 out of   1 | elapsed:    0.3s finished\n",
      "[Parallel(n_jobs=1)]: Using backend SequentialBackend with 1 concurrent workers.\n",
      "[Parallel(n_jobs=1)]: Done   1 out of   1 | elapsed:    0.2s finished\n"
     ]
    },
    {
     "name": "stdout",
     "output_type": "stream",
     "text": [
      "Results: -0.859756418052915\n",
      "================\n",
      "================\n",
      "Configuration:\n",
      "C: 0.9260847158375214\n",
      "Tolerance: 0.0001\n",
      "Solver: newton-cg\n",
      "Oversampling Method: none\n",
      "----------------\n"
     ]
    },
    {
     "name": "stderr",
     "output_type": "stream",
     "text": [
      "[Parallel(n_jobs=1)]: Using backend SequentialBackend with 1 concurrent workers.\n",
      "[Parallel(n_jobs=1)]: Done   1 out of   1 | elapsed:    0.1s finished\n",
      "[Parallel(n_jobs=1)]: Using backend SequentialBackend with 1 concurrent workers.\n",
      "[Parallel(n_jobs=1)]: Done   1 out of   1 | elapsed:    0.0s finished\n",
      "[Parallel(n_jobs=1)]: Using backend SequentialBackend with 1 concurrent workers.\n",
      "[Parallel(n_jobs=1)]: Done   1 out of   1 | elapsed:    0.1s finished\n"
     ]
    },
    {
     "name": "stdout",
     "output_type": "stream",
     "text": [
      "Results: -0.859490276475075\n",
      "================\n",
      "================\n",
      "Configuration:\n",
      "C: 2.576862066743508\n",
      "Tolerance: 0.0001\n",
      "Solver: newton-cg\n",
      "Oversampling Method: none\n",
      "----------------\n"
     ]
    },
    {
     "name": "stderr",
     "output_type": "stream",
     "text": [
      "[Parallel(n_jobs=1)]: Using backend SequentialBackend with 1 concurrent workers.\n",
      "[Parallel(n_jobs=1)]: Done   1 out of   1 | elapsed:    0.2s finished\n",
      "[Parallel(n_jobs=1)]: Using backend SequentialBackend with 1 concurrent workers.\n",
      "[Parallel(n_jobs=1)]: Done   1 out of   1 | elapsed:    0.1s finished\n",
      "[Parallel(n_jobs=1)]: Using backend SequentialBackend with 1 concurrent workers.\n",
      "[Parallel(n_jobs=1)]: Done   1 out of   1 | elapsed:    0.1s finished\n"
     ]
    },
    {
     "name": "stdout",
     "output_type": "stream",
     "text": [
      "Results: -0.8597398670201869\n",
      "================\n",
      "================\n",
      "Configuration:\n",
      "C: 1.3098118451975682\n",
      "Tolerance: 0.09200243808242653\n",
      "Solver: sag\n",
      "Oversampling Method: none\n",
      "----------------\n",
      "convergence after 5 epochs took 0 seconds\n"
     ]
    },
    {
     "name": "stderr",
     "output_type": "stream",
     "text": [
      "[Parallel(n_jobs=1)]: Using backend SequentialBackend with 1 concurrent workers.\n",
      "[Parallel(n_jobs=1)]: Done   1 out of   1 | elapsed:    0.0s finished\n",
      "[Parallel(n_jobs=1)]: Using backend SequentialBackend with 1 concurrent workers.\n"
     ]
    },
    {
     "name": "stdout",
     "output_type": "stream",
     "text": [
      "convergence after 5 epochs took 0 seconds\n",
      "convergence after 5 epochs took 0 seconds\n",
      "Results: -0.8589277401464481\n",
      "================\n"
     ]
    },
    {
     "name": "stderr",
     "output_type": "stream",
     "text": [
      "[Parallel(n_jobs=1)]: Done   1 out of   1 | elapsed:    0.0s finished\n",
      "[Parallel(n_jobs=1)]: Using backend SequentialBackend with 1 concurrent workers.\n",
      "[Parallel(n_jobs=1)]: Done   1 out of   1 | elapsed:    0.0s finished\n"
     ]
    },
    {
     "name": "stdout",
     "output_type": "stream",
     "text": [
      "================\n",
      "Configuration:\n",
      "C: 2.2776820546990764\n",
      "Tolerance: 0.0001\n",
      "Solver: lbfgs\n",
      "Oversampling Method: ada\n",
      "----------------\n"
     ]
    },
    {
     "name": "stderr",
     "output_type": "stream",
     "text": [
      "[Parallel(n_jobs=1)]: Using backend SequentialBackend with 1 concurrent workers.\n",
      "[Parallel(n_jobs=1)]: Done   1 out of   1 | elapsed:    0.2s finished\n",
      "[Parallel(n_jobs=1)]: Using backend SequentialBackend with 1 concurrent workers.\n",
      "[Parallel(n_jobs=1)]: Done   1 out of   1 | elapsed:    0.3s finished\n",
      "[Parallel(n_jobs=1)]: Using backend SequentialBackend with 1 concurrent workers.\n",
      "[Parallel(n_jobs=1)]: Done   1 out of   1 | elapsed:    0.2s finished\n"
     ]
    },
    {
     "name": "stdout",
     "output_type": "stream",
     "text": [
      "Results: -0.8597657659461043\n",
      "================\n",
      "================\n",
      "Configuration:\n",
      "C: 3.0\n",
      "Tolerance: 0.0001\n",
      "Solver: liblinear\n",
      "Oversampling Method: none\n",
      "----------------\n",
      "[LibLinear][LibLinear][LibLinear]Results: -0.8597850520317684\n",
      "================\n",
      "================\n",
      "Configuration:\n",
      "C: 1.2390845457362332\n",
      "Tolerance: 0.0001\n",
      "Solver: liblinear\n",
      "Oversampling Method: none\n",
      "----------------\n",
      "[LibLinear][LibLinear][LibLinear]Results: -0.859526366380428\n",
      "================\n",
      "================\n",
      "Configuration:\n",
      "C: 1.9462707184290007\n",
      "Tolerance: 0.024055730986493676\n",
      "Solver: sag\n",
      "Oversampling Method: ada\n",
      "----------------\n"
     ]
    },
    {
     "name": "stderr",
     "output_type": "stream",
     "text": [
      "[Parallel(n_jobs=1)]: Using backend SequentialBackend with 1 concurrent workers.\n"
     ]
    },
    {
     "name": "stdout",
     "output_type": "stream",
     "text": [
      "convergence after 9 epochs took 0 seconds\n"
     ]
    },
    {
     "name": "stderr",
     "output_type": "stream",
     "text": [
      "[Parallel(n_jobs=1)]: Done   1 out of   1 | elapsed:    0.2s finished\n",
      "[Parallel(n_jobs=1)]: Using backend SequentialBackend with 1 concurrent workers.\n"
     ]
    },
    {
     "name": "stdout",
     "output_type": "stream",
     "text": [
      "convergence after 11 epochs took 1 seconds\n"
     ]
    },
    {
     "name": "stderr",
     "output_type": "stream",
     "text": [
      "[Parallel(n_jobs=1)]: Done   1 out of   1 | elapsed:    0.4s finished\n",
      "[Parallel(n_jobs=1)]: Using backend SequentialBackend with 1 concurrent workers.\n"
     ]
    },
    {
     "name": "stdout",
     "output_type": "stream",
     "text": [
      "convergence after 9 epochs took 0 seconds\n",
      "Results: -0.8594418568362997\n",
      "================\n"
     ]
    },
    {
     "name": "stderr",
     "output_type": "stream",
     "text": [
      "[Parallel(n_jobs=1)]: Done   1 out of   1 | elapsed:    0.2s finished\n"
     ]
    },
    {
     "name": "stdout",
     "output_type": "stream",
     "text": [
      "================\n",
      "Configuration:\n",
      "C: 2.9127658958322433\n",
      "Tolerance: 0.01475684608380401\n",
      "Solver: sag\n",
      "Oversampling Method: none\n",
      "----------------\n"
     ]
    },
    {
     "name": "stderr",
     "output_type": "stream",
     "text": [
      "[Parallel(n_jobs=1)]: Using backend SequentialBackend with 1 concurrent workers.\n"
     ]
    },
    {
     "name": "stdout",
     "output_type": "stream",
     "text": [
      "convergence after 12 epochs took 1 seconds\n"
     ]
    },
    {
     "name": "stderr",
     "output_type": "stream",
     "text": [
      "[Parallel(n_jobs=1)]: Done   1 out of   1 | elapsed:    0.4s finished\n",
      "[Parallel(n_jobs=1)]: Using backend SequentialBackend with 1 concurrent workers.\n"
     ]
    },
    {
     "name": "stdout",
     "output_type": "stream",
     "text": [
      "convergence after 17 epochs took 0 seconds\n"
     ]
    },
    {
     "name": "stderr",
     "output_type": "stream",
     "text": [
      "[Parallel(n_jobs=1)]: Done   1 out of   1 | elapsed:    0.5s finished\n",
      "[Parallel(n_jobs=1)]: Using backend SequentialBackend with 1 concurrent workers.\n"
     ]
    },
    {
     "name": "stdout",
     "output_type": "stream",
     "text": [
      "convergence after 13 epochs took 0 seconds\n",
      "Results: -0.8595458855190934\n",
      "================\n"
     ]
    },
    {
     "name": "stderr",
     "output_type": "stream",
     "text": [
      "[Parallel(n_jobs=1)]: Done   1 out of   1 | elapsed:    0.4s finished\n"
     ]
    },
    {
     "name": "stdout",
     "output_type": "stream",
     "text": [
      "================\n",
      "Configuration:\n",
      "C: 2.6105461681898383\n",
      "Tolerance: 0.02968322662123692\n",
      "Solver: sag\n",
      "Oversampling Method: ada\n",
      "----------------\n"
     ]
    },
    {
     "name": "stderr",
     "output_type": "stream",
     "text": [
      "[Parallel(n_jobs=1)]: Using backend SequentialBackend with 1 concurrent workers.\n"
     ]
    },
    {
     "name": "stdout",
     "output_type": "stream",
     "text": [
      "convergence after 8 epochs took 0 seconds\n"
     ]
    },
    {
     "name": "stderr",
     "output_type": "stream",
     "text": [
      "[Parallel(n_jobs=1)]: Done   1 out of   1 | elapsed:    0.2s finished\n",
      "[Parallel(n_jobs=1)]: Using backend SequentialBackend with 1 concurrent workers.\n"
     ]
    },
    {
     "name": "stdout",
     "output_type": "stream",
     "text": [
      "convergence after 9 epochs took 0 seconds\n"
     ]
    },
    {
     "name": "stderr",
     "output_type": "stream",
     "text": [
      "[Parallel(n_jobs=1)]: Done   1 out of   1 | elapsed:    0.2s finished\n",
      "[Parallel(n_jobs=1)]: Using backend SequentialBackend with 1 concurrent workers.\n"
     ]
    },
    {
     "name": "stdout",
     "output_type": "stream",
     "text": [
      "convergence after 9 epochs took 0 seconds\n",
      "Results: -0.8592822803969115\n",
      "================\n"
     ]
    },
    {
     "name": "stderr",
     "output_type": "stream",
     "text": [
      "[Parallel(n_jobs=1)]: Done   1 out of   1 | elapsed:    0.2s finished\n"
     ]
    },
    {
     "name": "stdout",
     "output_type": "stream",
     "text": [
      "================\n",
      "Configuration:\n",
      "C: 2.731932408064481\n",
      "Tolerance: 0.0001\n",
      "Solver: liblinear\n",
      "Oversampling Method: none\n",
      "----------------\n",
      "[LibLinear][LibLinear][LibLinear]Results: -0.859763095531488\n",
      "================\n",
      "================\n",
      "Configuration:\n",
      "C: 2.2892911009848245\n",
      "Tolerance: 0.01140272327609031\n",
      "Solver: liblinear\n",
      "Oversampling Method: none\n",
      "----------------\n",
      "[LibLinear][LibLinear][LibLinear]Results: -0.8596116057606569\n",
      "================\n",
      "================\n",
      "Configuration:\n",
      "C: 1.8947080224145012\n",
      "Tolerance: 0.005413157127978966\n",
      "Solver: sag\n",
      "Oversampling Method: none\n",
      "----------------\n"
     ]
    },
    {
     "name": "stderr",
     "output_type": "stream",
     "text": [
      "[Parallel(n_jobs=1)]: Using backend SequentialBackend with 1 concurrent workers.\n"
     ]
    },
    {
     "name": "stdout",
     "output_type": "stream",
     "text": [
      "convergence after 36 epochs took 1 seconds\n"
     ]
    },
    {
     "name": "stderr",
     "output_type": "stream",
     "text": [
      "[Parallel(n_jobs=1)]: Done   1 out of   1 | elapsed:    0.9s finished\n",
      "[Parallel(n_jobs=1)]: Using backend SequentialBackend with 1 concurrent workers.\n"
     ]
    },
    {
     "name": "stdout",
     "output_type": "stream",
     "text": [
      "convergence after 30 epochs took 1 seconds\n"
     ]
    },
    {
     "name": "stderr",
     "output_type": "stream",
     "text": [
      "[Parallel(n_jobs=1)]: Done   1 out of   1 | elapsed:    0.7s finished\n",
      "[Parallel(n_jobs=1)]: Using backend SequentialBackend with 1 concurrent workers.\n"
     ]
    },
    {
     "name": "stdout",
     "output_type": "stream",
     "text": [
      "convergence after 27 epochs took 0 seconds\n",
      "Results: -0.8596581483479856\n",
      "================\n"
     ]
    },
    {
     "name": "stderr",
     "output_type": "stream",
     "text": [
      "[Parallel(n_jobs=1)]: Done   1 out of   1 | elapsed:    0.7s finished\n"
     ]
    },
    {
     "name": "stdout",
     "output_type": "stream",
     "text": [
      "================\n",
      "Configuration:\n",
      "C: 0.5053859991928591\n",
      "Tolerance: 0.015817839408076358\n",
      "Solver: sag\n",
      "Oversampling Method: ada\n",
      "----------------\n"
     ]
    },
    {
     "name": "stderr",
     "output_type": "stream",
     "text": [
      "[Parallel(n_jobs=1)]: Using backend SequentialBackend with 1 concurrent workers.\n"
     ]
    },
    {
     "name": "stdout",
     "output_type": "stream",
     "text": [
      "convergence after 9 epochs took 0 seconds\n"
     ]
    },
    {
     "name": "stderr",
     "output_type": "stream",
     "text": [
      "[Parallel(n_jobs=1)]: Done   1 out of   1 | elapsed:    0.3s finished\n",
      "[Parallel(n_jobs=1)]: Using backend SequentialBackend with 1 concurrent workers.\n"
     ]
    },
    {
     "name": "stdout",
     "output_type": "stream",
     "text": [
      "convergence after 11 epochs took 1 seconds\n"
     ]
    },
    {
     "name": "stderr",
     "output_type": "stream",
     "text": [
      "[Parallel(n_jobs=1)]: Done   1 out of   1 | elapsed:    0.3s finished\n",
      "[Parallel(n_jobs=1)]: Using backend SequentialBackend with 1 concurrent workers.\n"
     ]
    },
    {
     "name": "stdout",
     "output_type": "stream",
     "text": [
      "convergence after 10 epochs took 0 seconds\n",
      "Results: -0.8590775223022039\n",
      "================\n"
     ]
    },
    {
     "name": "stderr",
     "output_type": "stream",
     "text": [
      "[Parallel(n_jobs=1)]: Done   1 out of   1 | elapsed:    0.3s finished\n"
     ]
    },
    {
     "name": "stdout",
     "output_type": "stream",
     "text": [
      "================\n",
      "Configuration:\n",
      "C: 2.2025928711156375\n",
      "Tolerance: 0.004144433502805546\n",
      "Solver: sag\n",
      "Oversampling Method: ada\n",
      "----------------\n"
     ]
    },
    {
     "name": "stderr",
     "output_type": "stream",
     "text": [
      "[Parallel(n_jobs=1)]: Using backend SequentialBackend with 1 concurrent workers.\n"
     ]
    },
    {
     "name": "stdout",
     "output_type": "stream",
     "text": [
      "convergence after 45 epochs took 1 seconds\n"
     ]
    },
    {
     "name": "stderr",
     "output_type": "stream",
     "text": [
      "[Parallel(n_jobs=1)]: Done   1 out of   1 | elapsed:    1.3s finished\n",
      "[Parallel(n_jobs=1)]: Using backend SequentialBackend with 1 concurrent workers.\n"
     ]
    },
    {
     "name": "stdout",
     "output_type": "stream",
     "text": [
      "convergence after 34 epochs took 1 seconds\n"
     ]
    },
    {
     "name": "stderr",
     "output_type": "stream",
     "text": [
      "[Parallel(n_jobs=1)]: Done   1 out of   1 | elapsed:    0.9s finished\n",
      "[Parallel(n_jobs=1)]: Using backend SequentialBackend with 1 concurrent workers.\n"
     ]
    },
    {
     "name": "stdout",
     "output_type": "stream",
     "text": [
      "convergence after 36 epochs took 1 seconds\n",
      "Results: -0.8597010203663146\n",
      "================\n"
     ]
    },
    {
     "name": "stderr",
     "output_type": "stream",
     "text": [
      "[Parallel(n_jobs=1)]: Done   1 out of   1 | elapsed:    1.1s finished\n"
     ]
    },
    {
     "name": "stdout",
     "output_type": "stream",
     "text": [
      "================\n",
      "Configuration:\n",
      "C: 0.7926600951342682\n",
      "Tolerance: 0.1\n",
      "Solver: newton-cholesky\n",
      "Oversampling Method: ada\n",
      "----------------\n",
      "Newton iter=1\n",
      "  Check Convergence\n",
      "    1. max |gradient| 0.028077029732531993 <= 0.1\n",
      "    2. Newton decrement 0.17161048281629893 <= 0.1\n",
      "Newton iter=2\n",
      "  Check Convergence\n",
      "    1. max |gradient| 0.0055570061026011365 <= 0.1\n",
      "    2. Newton decrement 0.02143444051111034 <= 0.1\n",
      "  Solver did converge at loss = 0.4733272312657531.\n",
      "Newton iter=1\n",
      "  Check Convergence\n",
      "    1. max |gradient| 0.034071837480679615 <= 0.1\n",
      "    2. Newton decrement 0.18082267383007633 <= 0.1\n",
      "Newton iter=2\n",
      "  Check Convergence\n",
      "    1. max |gradient| 0.006436925545284595 <= 0.1\n",
      "    2. Newton decrement 0.021085010184343472 <= 0.1\n",
      "  Solver did converge at loss = 0.4641671887370959.\n"
     ]
    },
    {
     "name": "stderr",
     "output_type": "stream",
     "text": [
      "[Parallel(n_jobs=1)]: Using backend SequentialBackend with 1 concurrent workers.\n",
      "[Parallel(n_jobs=1)]: Done   1 out of   1 | elapsed:    0.0s finished\n",
      "[Parallel(n_jobs=1)]: Using backend SequentialBackend with 1 concurrent workers.\n",
      "[Parallel(n_jobs=1)]: Done   1 out of   1 | elapsed:    0.0s finished\n",
      "[Parallel(n_jobs=1)]: Using backend SequentialBackend with 1 concurrent workers.\n",
      "[Parallel(n_jobs=1)]: Done   1 out of   1 | elapsed:    0.0s finished\n"
     ]
    },
    {
     "name": "stdout",
     "output_type": "stream",
     "text": [
      "Newton iter=1\n",
      "  Check Convergence\n",
      "    1. max |gradient| 0.03522245752280059 <= 0.1\n",
      "    2. Newton decrement 0.18242353368548128 <= 0.1\n",
      "Newton iter=2\n",
      "  Check Convergence\n",
      "    1. max |gradient| 0.006893169355431051 <= 0.1\n",
      "    2. Newton decrement 0.0222408173326451 <= 0.1\n",
      "  Solver did converge at loss = 0.4603810122850742.\n",
      "Results: -0.8579729060682427\n",
      "================\n",
      "================\n",
      "Configuration:\n",
      "C: 2.879292958682033\n",
      "Tolerance: 0.0001\n",
      "Solver: lbfgs\n",
      "Oversampling Method: ada\n",
      "----------------\n"
     ]
    },
    {
     "name": "stderr",
     "output_type": "stream",
     "text": [
      "[Parallel(n_jobs=1)]: Using backend SequentialBackend with 1 concurrent workers.\n",
      "[Parallel(n_jobs=1)]: Done   1 out of   1 | elapsed:    0.1s finished\n",
      "[Parallel(n_jobs=1)]: Using backend SequentialBackend with 1 concurrent workers.\n",
      "[Parallel(n_jobs=1)]: Done   1 out of   1 | elapsed:    0.2s finished\n",
      "[Parallel(n_jobs=1)]: Using backend SequentialBackend with 1 concurrent workers.\n",
      "[Parallel(n_jobs=1)]: Done   1 out of   1 | elapsed:    0.2s finished\n"
     ]
    },
    {
     "name": "stdout",
     "output_type": "stream",
     "text": [
      "Results: -0.8596664923933343\n",
      "================\n",
      "================\n",
      "Configuration:\n",
      "C: 0.9986817183681367\n",
      "Tolerance: 0.0001\n",
      "Solver: newton-cholesky\n",
      "Oversampling Method: none\n",
      "----------------\n",
      "Newton iter=1\n",
      "  Check Convergence\n",
      "    1. max |gradient| 0.028120069249039856 <= 0.0001\n",
      "Newton iter=2\n",
      "  Check Convergence\n",
      "    1. max |gradient| 0.005604782827033881 <= 0.0001\n",
      "Newton iter=3\n",
      "  Check Convergence\n",
      "    1. max |gradient| 0.001347781158993023 <= 0.0001\n",
      "Newton iter=4\n",
      "  Check Convergence\n",
      "    1. max |gradient| 0.0002778902214810341 <= 0.0001\n",
      "Newton iter=5\n",
      "  Check Convergence\n",
      "    1. max |gradient| 1.8520675233433138e-05 <= 0.0001\n",
      "    2. Newton decrement 3.332448217585855e-05 <= 0.0001\n",
      "  Solver did converge at loss = 0.4673193379477747.\n",
      "Newton iter=1\n",
      "  Check Convergence\n",
      "    1. max |gradient| 0.03410565022835391 <= 0.0001\n",
      "Newton iter=2\n"
     ]
    },
    {
     "name": "stderr",
     "output_type": "stream",
     "text": [
      "[Parallel(n_jobs=1)]: Using backend SequentialBackend with 1 concurrent workers.\n",
      "[Parallel(n_jobs=1)]: Done   1 out of   1 | elapsed:    0.0s finished\n",
      "[Parallel(n_jobs=1)]: Using backend SequentialBackend with 1 concurrent workers.\n",
      "[Parallel(n_jobs=1)]: Done   1 out of   1 | elapsed:    0.0s finished\n"
     ]
    },
    {
     "name": "stdout",
     "output_type": "stream",
     "text": [
      "  Check Convergence\n",
      "    1. max |gradient| 0.006481143526903072 <= 0.0001\n",
      "Newton iter=3\n",
      "  Check Convergence\n",
      "    1. max |gradient| 0.0008918875387330413 <= 0.0001\n",
      "Newton iter=4\n",
      "  Check Convergence\n",
      "    1. max |gradient| 0.00012254139604804995 <= 0.0001\n",
      "Newton iter=5\n",
      "  Check Convergence\n",
      "    1. max |gradient| 5.820054694797433e-06 <= 0.0001\n",
      "    2. Newton decrement 9.912380221915179e-06 <= 0.0001\n",
      "  Solver did converge at loss = 0.4595302611396419.\n",
      "Newton iter=1\n",
      "  Check Convergence\n",
      "    1. max |gradient| 0.035255110919527315 <= 0.0001\n",
      "Newton iter=2\n",
      "  Check Convergence\n",
      "    1. max |gradient| 0.006931622416656146 <= 0.0001\n",
      "Newton iter=3\n",
      "  Check Convergence\n",
      "    1. max |gradient| 0.0009968603134178642 <= 0.0001\n",
      "Newton iter=4\n",
      "  Check Convergence\n",
      "    1. max |gradient| 0.00017328185408163613 <= 0.0001\n",
      "Newton iter=5\n",
      "  Check Convergence\n",
      "    1. max |gradient| 8.955735148079291e-06 <= 0.0001\n",
      "    2. Newton decrement 1.48552581913399e-05 <= 0.0001\n",
      "  Solver did converge at loss = 0.4552218232866687.\n",
      "Results: -0.8595124631006613\n",
      "================\n"
     ]
    },
    {
     "name": "stderr",
     "output_type": "stream",
     "text": [
      "[Parallel(n_jobs=1)]: Using backend SequentialBackend with 1 concurrent workers.\n",
      "[Parallel(n_jobs=1)]: Done   1 out of   1 | elapsed:    0.0s finished\n"
     ]
    },
    {
     "name": "stdout",
     "output_type": "stream",
     "text": [
      "================\n",
      "Configuration:\n",
      "C: 0.6286632419007225\n",
      "Tolerance: 0.0001\n",
      "Solver: sag\n",
      "Oversampling Method: ada\n",
      "----------------\n"
     ]
    },
    {
     "name": "stderr",
     "output_type": "stream",
     "text": [
      "[Parallel(n_jobs=1)]: Using backend SequentialBackend with 1 concurrent workers.\n"
     ]
    },
    {
     "name": "stdout",
     "output_type": "stream",
     "text": [
      "convergence after 94 epochs took 3 seconds\n"
     ]
    },
    {
     "name": "stderr",
     "output_type": "stream",
     "text": [
      "[Parallel(n_jobs=1)]: Done   1 out of   1 | elapsed:    2.5s finished\n",
      "[Parallel(n_jobs=1)]: Using backend SequentialBackend with 1 concurrent workers.\n"
     ]
    },
    {
     "name": "stdout",
     "output_type": "stream",
     "text": [
      "convergence after 112 epochs took 4 seconds\n"
     ]
    },
    {
     "name": "stderr",
     "output_type": "stream",
     "text": [
      "[Parallel(n_jobs=1)]: Done   1 out of   1 | elapsed:    3.8s finished\n",
      "[Parallel(n_jobs=1)]: Using backend SequentialBackend with 1 concurrent workers.\n"
     ]
    },
    {
     "name": "stdout",
     "output_type": "stream",
     "text": [
      "convergence after 112 epochs took 4 seconds\n",
      "Results: -0.8593005253602525\n",
      "================\n"
     ]
    },
    {
     "name": "stderr",
     "output_type": "stream",
     "text": [
      "[Parallel(n_jobs=1)]: Done   1 out of   1 | elapsed:    4.6s finished\n"
     ]
    },
    {
     "name": "stdout",
     "output_type": "stream",
     "text": [
      "================\n",
      "Configuration:\n",
      "C: 2.62727865186602\n",
      "Tolerance: 0.0001\n",
      "Solver: saga\n",
      "Oversampling Method: ada\n",
      "----------------\n"
     ]
    },
    {
     "name": "stderr",
     "output_type": "stream",
     "text": [
      "[Parallel(n_jobs=1)]: Using backend SequentialBackend with 1 concurrent workers.\n"
     ]
    },
    {
     "name": "stdout",
     "output_type": "stream",
     "text": [
      "max_iter reached after 8 seconds\n"
     ]
    },
    {
     "name": "stderr",
     "output_type": "stream",
     "text": [
      "C:\\Users\\Aaron\\AppData\\Roaming\\Python\\Python311\\site-packages\\sklearn\\linear_model\\_sag.py:350: ConvergenceWarning: The max_iter was reached which means the coef_ did not converge\n",
      "  warnings.warn(\n",
      "[Parallel(n_jobs=1)]: Done   1 out of   1 | elapsed:    7.1s finished\n",
      "[Parallel(n_jobs=1)]: Using backend SequentialBackend with 1 concurrent workers.\n"
     ]
    },
    {
     "name": "stdout",
     "output_type": "stream",
     "text": [
      "max_iter reached after 6 seconds\n"
     ]
    },
    {
     "name": "stderr",
     "output_type": "stream",
     "text": [
      "C:\\Users\\Aaron\\AppData\\Roaming\\Python\\Python311\\site-packages\\sklearn\\linear_model\\_sag.py:350: ConvergenceWarning: The max_iter was reached which means the coef_ did not converge\n",
      "  warnings.warn(\n",
      "[Parallel(n_jobs=1)]: Done   1 out of   1 | elapsed:    6.2s finished\n",
      "[Parallel(n_jobs=1)]: Using backend SequentialBackend with 1 concurrent workers.\n"
     ]
    },
    {
     "name": "stdout",
     "output_type": "stream",
     "text": [
      "max_iter reached after 8 seconds\n",
      "Results: -0.8597400260138454\n",
      "================\n"
     ]
    },
    {
     "name": "stderr",
     "output_type": "stream",
     "text": [
      "C:\\Users\\Aaron\\AppData\\Roaming\\Python\\Python311\\site-packages\\sklearn\\linear_model\\_sag.py:350: ConvergenceWarning: The max_iter was reached which means the coef_ did not converge\n",
      "  warnings.warn(\n",
      "[Parallel(n_jobs=1)]: Done   1 out of   1 | elapsed:    8.1s finished\n"
     ]
    },
    {
     "name": "stdout",
     "output_type": "stream",
     "text": [
      "================\n",
      "Configuration:\n",
      "C: 2.479954358044215\n",
      "Tolerance: 0.013948963080595924\n",
      "Solver: sag\n",
      "Oversampling Method: ada\n",
      "----------------\n"
     ]
    },
    {
     "name": "stderr",
     "output_type": "stream",
     "text": [
      "[Parallel(n_jobs=1)]: Using backend SequentialBackend with 1 concurrent workers.\n"
     ]
    },
    {
     "name": "stdout",
     "output_type": "stream",
     "text": [
      "convergence after 12 epochs took 1 seconds\n"
     ]
    },
    {
     "name": "stderr",
     "output_type": "stream",
     "text": [
      "[Parallel(n_jobs=1)]: Done   1 out of   1 | elapsed:    0.3s finished\n",
      "[Parallel(n_jobs=1)]: Using backend SequentialBackend with 1 concurrent workers.\n"
     ]
    },
    {
     "name": "stdout",
     "output_type": "stream",
     "text": [
      "convergence after 19 epochs took 1 seconds\n"
     ]
    },
    {
     "name": "stderr",
     "output_type": "stream",
     "text": [
      "[Parallel(n_jobs=1)]: Done   1 out of   1 | elapsed:    0.5s finished\n",
      "[Parallel(n_jobs=1)]: Using backend SequentialBackend with 1 concurrent workers.\n"
     ]
    },
    {
     "name": "stdout",
     "output_type": "stream",
     "text": [
      "convergence after 13 epochs took 0 seconds\n",
      "Results: -0.8596188750609782\n",
      "================\n"
     ]
    },
    {
     "name": "stderr",
     "output_type": "stream",
     "text": [
      "[Parallel(n_jobs=1)]: Done   1 out of   1 | elapsed:    0.4s finished\n"
     ]
    },
    {
     "name": "stdout",
     "output_type": "stream",
     "text": [
      "================\n",
      "Configuration:\n",
      "C: 2.5266840928146235\n",
      "Tolerance: 0.04303726205548758\n",
      "Solver: sag\n",
      "Oversampling Method: ada\n",
      "----------------\n"
     ]
    },
    {
     "name": "stderr",
     "output_type": "stream",
     "text": [
      "[Parallel(n_jobs=1)]: Using backend SequentialBackend with 1 concurrent workers.\n"
     ]
    },
    {
     "name": "stdout",
     "output_type": "stream",
     "text": [
      "convergence after 7 epochs took 0 seconds\n"
     ]
    },
    {
     "name": "stderr",
     "output_type": "stream",
     "text": [
      "[Parallel(n_jobs=1)]: Done   1 out of   1 | elapsed:    0.1s finished\n",
      "[Parallel(n_jobs=1)]: Using backend SequentialBackend with 1 concurrent workers.\n"
     ]
    },
    {
     "name": "stdout",
     "output_type": "stream",
     "text": [
      "convergence after 8 epochs took 0 seconds\n"
     ]
    },
    {
     "name": "stderr",
     "output_type": "stream",
     "text": [
      "[Parallel(n_jobs=1)]: Done   1 out of   1 | elapsed:    0.2s finished\n",
      "[Parallel(n_jobs=1)]: Using backend SequentialBackend with 1 concurrent workers.\n"
     ]
    },
    {
     "name": "stdout",
     "output_type": "stream",
     "text": [
      "convergence after 7 epochs took 1 seconds\n",
      "Results: -0.8593306641813521\n",
      "================\n"
     ]
    },
    {
     "name": "stderr",
     "output_type": "stream",
     "text": [
      "[Parallel(n_jobs=1)]: Done   1 out of   1 | elapsed:    0.1s finished\n"
     ]
    },
    {
     "name": "stdout",
     "output_type": "stream",
     "text": [
      "================\n",
      "Configuration:\n",
      "C: 2.86523899163264\n",
      "Tolerance: 0.0001\n",
      "Solver: saga\n",
      "Oversampling Method: none\n",
      "----------------\n"
     ]
    },
    {
     "name": "stderr",
     "output_type": "stream",
     "text": [
      "[Parallel(n_jobs=1)]: Using backend SequentialBackend with 1 concurrent workers.\n"
     ]
    },
    {
     "name": "stdout",
     "output_type": "stream",
     "text": [
      "max_iter reached after 8 seconds\n"
     ]
    },
    {
     "name": "stderr",
     "output_type": "stream",
     "text": [
      "C:\\Users\\Aaron\\AppData\\Roaming\\Python\\Python311\\site-packages\\sklearn\\linear_model\\_sag.py:350: ConvergenceWarning: The max_iter was reached which means the coef_ did not converge\n",
      "  warnings.warn(\n",
      "[Parallel(n_jobs=1)]: Done   1 out of   1 | elapsed:    8.1s finished\n",
      "[Parallel(n_jobs=1)]: Using backend SequentialBackend with 1 concurrent workers.\n"
     ]
    },
    {
     "name": "stdout",
     "output_type": "stream",
     "text": [
      "max_iter reached after 7 seconds\n"
     ]
    },
    {
     "name": "stderr",
     "output_type": "stream",
     "text": [
      "C:\\Users\\Aaron\\AppData\\Roaming\\Python\\Python311\\site-packages\\sklearn\\linear_model\\_sag.py:350: ConvergenceWarning: The max_iter was reached which means the coef_ did not converge\n",
      "  warnings.warn(\n",
      "[Parallel(n_jobs=1)]: Done   1 out of   1 | elapsed:    7.2s finished\n",
      "[Parallel(n_jobs=1)]: Using backend SequentialBackend with 1 concurrent workers.\n"
     ]
    },
    {
     "name": "stdout",
     "output_type": "stream",
     "text": [
      "max_iter reached after 7 seconds\n",
      "Results: -0.8597502443556545\n",
      "================\n"
     ]
    },
    {
     "name": "stderr",
     "output_type": "stream",
     "text": [
      "C:\\Users\\Aaron\\AppData\\Roaming\\Python\\Python311\\site-packages\\sklearn\\linear_model\\_sag.py:350: ConvergenceWarning: The max_iter was reached which means the coef_ did not converge\n",
      "  warnings.warn(\n",
      "[Parallel(n_jobs=1)]: Done   1 out of   1 | elapsed:    6.4s finished\n"
     ]
    },
    {
     "name": "stdout",
     "output_type": "stream",
     "text": [
      "================\n",
      "Configuration:\n",
      "C: 2.3347511812166846\n",
      "Tolerance: 0.0001\n",
      "Solver: lbfgs\n",
      "Oversampling Method: ada\n",
      "----------------\n"
     ]
    },
    {
     "name": "stderr",
     "output_type": "stream",
     "text": [
      "[Parallel(n_jobs=1)]: Using backend SequentialBackend with 1 concurrent workers.\n",
      "[Parallel(n_jobs=1)]: Done   1 out of   1 | elapsed:    0.2s finished\n",
      "[Parallel(n_jobs=1)]: Using backend SequentialBackend with 1 concurrent workers.\n",
      "[Parallel(n_jobs=1)]: Done   1 out of   1 | elapsed:    0.3s finished\n",
      "[Parallel(n_jobs=1)]: Using backend SequentialBackend with 1 concurrent workers.\n",
      "[Parallel(n_jobs=1)]: Done   1 out of   1 | elapsed:    0.2s finished\n"
     ]
    },
    {
     "name": "stdout",
     "output_type": "stream",
     "text": [
      "Results: -0.859780374722987\n",
      "================\n",
      "================\n",
      "Configuration:\n",
      "C: 1.001072938271986\n",
      "Tolerance: 0.0001\n",
      "Solver: newton-cholesky\n",
      "Oversampling Method: none\n",
      "----------------\n",
      "Newton iter=1\n",
      "  Check Convergence\n",
      "    1. max |gradient| 0.02812047803724947 <= 0.0001\n",
      "Newton iter=2\n",
      "  Check Convergence\n",
      "    1. max |gradient| 0.005605233211304235 <= 0.0001\n",
      "Newton iter=3\n",
      "  Check Convergence\n",
      "    1. max |gradient| 0.0013485517295267683 <= 0.0001\n",
      "Newton iter=4\n",
      "  Check Convergence\n",
      "    1. max |gradient| 0.00027839462464483337 <= 0.0001\n",
      "Newton iter=5\n",
      "  Check Convergence\n",
      "    1. max |gradient| 1.86126693228907e-05 <= 0.0001\n",
      "    2. Newton decrement 3.347547674106328e-05 <= 0.0001\n",
      "  Solver did converge at loss = 0.4673103641581852.\n"
     ]
    },
    {
     "name": "stderr",
     "output_type": "stream",
     "text": [
      "[Parallel(n_jobs=1)]: Using backend SequentialBackend with 1 concurrent workers.\n",
      "[Parallel(n_jobs=1)]: Done   1 out of   1 | elapsed:    0.0s finished\n",
      "[Parallel(n_jobs=1)]: Using backend SequentialBackend with 1 concurrent workers.\n"
     ]
    },
    {
     "name": "stdout",
     "output_type": "stream",
     "text": [
      "Newton iter=1\n",
      "  Check Convergence\n",
      "    1. max |gradient| 0.034105966079143346 <= 0.0001\n",
      "Newton iter=2\n",
      "  Check Convergence\n",
      "    1. max |gradient| 0.006481559455143772 <= 0.0001\n",
      "Newton iter=3\n",
      "  Check Convergence\n",
      "    1. max |gradient| 0.0008925173055441032 <= 0.0001\n",
      "Newton iter=4\n",
      "  Check Convergence\n",
      "    1. max |gradient| 0.00012282252868084237 <= 0.0001\n",
      "Newton iter=5\n",
      "  Check Convergence\n",
      "    1. max |gradient| 5.8612229382713765e-06 <= 0.0001\n",
      "    2. Newton decrement 9.971750065729054e-06 <= 0.0001\n",
      "  Solver did converge at loss = 0.45952273299710855.\n",
      "Newton iter=1\n",
      "  Check Convergence\n",
      "    1. max |gradient| 0.035255415215673186 <= 0.0001\n",
      "Newton iter=2\n",
      "  Check Convergence\n",
      "    1. max |gradient| 0.006931982433050378 <= 0.0001\n",
      "Newton iter=3\n"
     ]
    },
    {
     "name": "stderr",
     "output_type": "stream",
     "text": [
      "[Parallel(n_jobs=1)]: Done   1 out of   1 | elapsed:    0.0s finished\n",
      "[Parallel(n_jobs=1)]: Using backend SequentialBackend with 1 concurrent workers.\n",
      "[Parallel(n_jobs=1)]: Done   1 out of   1 | elapsed:    0.0s finished\n"
     ]
    },
    {
     "name": "stdout",
     "output_type": "stream",
     "text": [
      "  Check Convergence\n",
      "    1. max |gradient| 0.0009975379524624743 <= 0.0001\n",
      "Newton iter=4\n",
      "  Check Convergence\n",
      "    1. max |gradient| 0.00017365586363812222 <= 0.0001\n",
      "Newton iter=5\n",
      "  Check Convergence\n",
      "    1. max |gradient| 9.013373154013321e-06 <= 0.0001\n",
      "    2. Newton decrement 1.4938285184001619e-05 <= 0.0001\n",
      "  Solver did converge at loss = 0.4552142584402089.\n",
      "Results: -0.8595133113926514\n",
      "================\n",
      "================\n",
      "Configuration:\n",
      "C: 2.3350312776742492\n",
      "Tolerance: 0.0001\n",
      "Solver: lbfgs\n",
      "Oversampling Method: ada\n",
      "----------------\n"
     ]
    },
    {
     "name": "stderr",
     "output_type": "stream",
     "text": [
      "[Parallel(n_jobs=1)]: Using backend SequentialBackend with 1 concurrent workers.\n",
      "[Parallel(n_jobs=1)]: Done   1 out of   1 | elapsed:    0.2s finished\n",
      "[Parallel(n_jobs=1)]: Using backend SequentialBackend with 1 concurrent workers.\n",
      "[Parallel(n_jobs=1)]: Done   1 out of   1 | elapsed:    0.5s finished\n",
      "[Parallel(n_jobs=1)]: Using backend SequentialBackend with 1 concurrent workers.\n",
      "[Parallel(n_jobs=1)]: Done   1 out of   1 | elapsed:    0.3s finished\n"
     ]
    },
    {
     "name": "stdout",
     "output_type": "stream",
     "text": [
      "Results: -0.8597159944218599\n",
      "================\n",
      "================\n",
      "Configuration:\n",
      "C: 2.361269721790251\n",
      "Tolerance: 0.0001\n",
      "Solver: lbfgs\n",
      "Oversampling Method: ada\n",
      "----------------\n"
     ]
    },
    {
     "name": "stderr",
     "output_type": "stream",
     "text": [
      "[Parallel(n_jobs=1)]: Using backend SequentialBackend with 1 concurrent workers.\n",
      "[Parallel(n_jobs=1)]: Done   1 out of   1 | elapsed:    0.2s finished\n",
      "[Parallel(n_jobs=1)]: Using backend SequentialBackend with 1 concurrent workers.\n",
      "[Parallel(n_jobs=1)]: Done   1 out of   1 | elapsed:    0.3s finished\n",
      "[Parallel(n_jobs=1)]: Using backend SequentialBackend with 1 concurrent workers.\n",
      "[Parallel(n_jobs=1)]: Done   1 out of   1 | elapsed:    0.2s finished\n"
     ]
    },
    {
     "name": "stdout",
     "output_type": "stream",
     "text": [
      "Results: -0.8597190736695365\n",
      "================\n",
      "================\n",
      "Configuration:\n",
      "C: 2.3271430617384263\n",
      "Tolerance: 0.0001\n",
      "Solver: lbfgs\n",
      "Oversampling Method: ada\n",
      "----------------\n"
     ]
    },
    {
     "name": "stderr",
     "output_type": "stream",
     "text": [
      "[Parallel(n_jobs=1)]: Using backend SequentialBackend with 1 concurrent workers.\n",
      "[Parallel(n_jobs=1)]: Done   1 out of   1 | elapsed:    0.2s finished\n",
      "[Parallel(n_jobs=1)]: Using backend SequentialBackend with 1 concurrent workers.\n",
      "[Parallel(n_jobs=1)]: Done   1 out of   1 | elapsed:    0.2s finished\n",
      "[Parallel(n_jobs=1)]: Using backend SequentialBackend with 1 concurrent workers.\n",
      "[Parallel(n_jobs=1)]: Done   1 out of   1 | elapsed:    0.2s finished\n"
     ]
    },
    {
     "name": "stdout",
     "output_type": "stream",
     "text": [
      "Results: -0.8597649622090132\n",
      "================\n",
      "================\n",
      "Configuration:\n",
      "C: 2.549835052177734\n",
      "Tolerance: 0.0001\n",
      "Solver: lbfgs\n",
      "Oversampling Method: ada\n",
      "----------------\n"
     ]
    },
    {
     "name": "stderr",
     "output_type": "stream",
     "text": [
      "[Parallel(n_jobs=1)]: Using backend SequentialBackend with 1 concurrent workers.\n",
      "[Parallel(n_jobs=1)]: Done   1 out of   1 | elapsed:    0.3s finished\n",
      "[Parallel(n_jobs=1)]: Using backend SequentialBackend with 1 concurrent workers.\n",
      "[Parallel(n_jobs=1)]: Done   1 out of   1 | elapsed:    0.3s finished\n",
      "[Parallel(n_jobs=1)]: Using backend SequentialBackend with 1 concurrent workers.\n",
      "[Parallel(n_jobs=1)]: Done   1 out of   1 | elapsed:    0.2s finished\n"
     ]
    },
    {
     "name": "stdout",
     "output_type": "stream",
     "text": [
      "Results: -0.8597858504090851\n",
      "================\n",
      "================\n",
      "Configuration:\n",
      "C: 0.5267427179761417\n",
      "Tolerance: 0.022940720253830524\n",
      "Solver: saga\n",
      "Oversampling Method: none\n",
      "----------------\n"
     ]
    },
    {
     "name": "stderr",
     "output_type": "stream",
     "text": [
      "[Parallel(n_jobs=1)]: Using backend SequentialBackend with 1 concurrent workers.\n"
     ]
    },
    {
     "name": "stdout",
     "output_type": "stream",
     "text": [
      "convergence after 9 epochs took 0 seconds\n"
     ]
    },
    {
     "name": "stderr",
     "output_type": "stream",
     "text": [
      "[Parallel(n_jobs=1)]: Done   1 out of   1 | elapsed:    0.2s finished\n",
      "[Parallel(n_jobs=1)]: Using backend SequentialBackend with 1 concurrent workers.\n"
     ]
    },
    {
     "name": "stdout",
     "output_type": "stream",
     "text": [
      "convergence after 9 epochs took 0 seconds\n"
     ]
    },
    {
     "name": "stderr",
     "output_type": "stream",
     "text": [
      "[Parallel(n_jobs=1)]: Done   1 out of   1 | elapsed:    0.2s finished\n",
      "[Parallel(n_jobs=1)]: Using backend SequentialBackend with 1 concurrent workers.\n"
     ]
    },
    {
     "name": "stdout",
     "output_type": "stream",
     "text": [
      "convergence after 9 epochs took 0 seconds\n",
      "Results: -0.8581350713840603\n",
      "================\n"
     ]
    },
    {
     "name": "stderr",
     "output_type": "stream",
     "text": [
      "[Parallel(n_jobs=1)]: Done   1 out of   1 | elapsed:    0.2s finished\n"
     ]
    },
    {
     "name": "stdout",
     "output_type": "stream",
     "text": [
      "================\n",
      "Configuration:\n",
      "C: 2.3278404528052237\n",
      "Tolerance: 0.0001\n",
      "Solver: lbfgs\n",
      "Oversampling Method: ada\n",
      "----------------\n"
     ]
    },
    {
     "name": "stderr",
     "output_type": "stream",
     "text": [
      "[Parallel(n_jobs=1)]: Using backend SequentialBackend with 1 concurrent workers.\n",
      "[Parallel(n_jobs=1)]: Done   1 out of   1 | elapsed:    0.3s finished\n",
      "[Parallel(n_jobs=1)]: Using backend SequentialBackend with 1 concurrent workers.\n",
      "[Parallel(n_jobs=1)]: Done   1 out of   1 | elapsed:    0.3s finished\n",
      "[Parallel(n_jobs=1)]: Using backend SequentialBackend with 1 concurrent workers.\n",
      "[Parallel(n_jobs=1)]: Done   1 out of   1 | elapsed:    0.3s finished\n"
     ]
    },
    {
     "name": "stdout",
     "output_type": "stream",
     "text": [
      "Results: -0.8597014659509896\n",
      "================\n",
      "================\n",
      "Configuration:\n",
      "C: 2.337962003440121\n",
      "Tolerance: 0.0001\n",
      "Solver: lbfgs\n",
      "Oversampling Method: ada\n",
      "----------------\n"
     ]
    },
    {
     "name": "stderr",
     "output_type": "stream",
     "text": [
      "[Parallel(n_jobs=1)]: Using backend SequentialBackend with 1 concurrent workers.\n",
      "[Parallel(n_jobs=1)]: Done   1 out of   1 | elapsed:    0.3s finished\n",
      "[Parallel(n_jobs=1)]: Using backend SequentialBackend with 1 concurrent workers.\n",
      "[Parallel(n_jobs=1)]: Done   1 out of   1 | elapsed:    0.4s finished\n",
      "[Parallel(n_jobs=1)]: Using backend SequentialBackend with 1 concurrent workers.\n",
      "[Parallel(n_jobs=1)]: Done   1 out of   1 | elapsed:    0.3s finished\n"
     ]
    },
    {
     "name": "stdout",
     "output_type": "stream",
     "text": [
      "Results: -0.8597037666606909\n",
      "================\n",
      "================\n",
      "Configuration:\n",
      "C: 1.2163486453884667\n",
      "Tolerance: 0.05921713278835873\n",
      "Solver: sag\n",
      "Oversampling Method: ada\n",
      "----------------\n"
     ]
    },
    {
     "name": "stderr",
     "output_type": "stream",
     "text": [
      "[Parallel(n_jobs=1)]: Using backend SequentialBackend with 1 concurrent workers.\n"
     ]
    },
    {
     "name": "stdout",
     "output_type": "stream",
     "text": [
      "convergence after 6 epochs took 0 seconds\n"
     ]
    },
    {
     "name": "stderr",
     "output_type": "stream",
     "text": [
      "[Parallel(n_jobs=1)]: Done   1 out of   1 | elapsed:    0.2s finished\n",
      "[Parallel(n_jobs=1)]: Using backend SequentialBackend with 1 concurrent workers.\n"
     ]
    },
    {
     "name": "stdout",
     "output_type": "stream",
     "text": [
      "convergence after 6 epochs took 0 seconds\n"
     ]
    },
    {
     "name": "stderr",
     "output_type": "stream",
     "text": [
      "[Parallel(n_jobs=1)]: Done   1 out of   1 | elapsed:    0.2s finished\n",
      "[Parallel(n_jobs=1)]: Using backend SequentialBackend with 1 concurrent workers.\n"
     ]
    },
    {
     "name": "stdout",
     "output_type": "stream",
     "text": [
      "convergence after 6 epochs took 0 seconds\n",
      "Results: -0.859034351784835\n",
      "================\n"
     ]
    },
    {
     "name": "stderr",
     "output_type": "stream",
     "text": [
      "[Parallel(n_jobs=1)]: Done   1 out of   1 | elapsed:    0.1s finished\n"
     ]
    },
    {
     "name": "stdout",
     "output_type": "stream",
     "text": [
      "================\n",
      "Configuration:\n",
      "C: 0.9551999765213952\n",
      "Tolerance: 0.0001\n",
      "Solver: liblinear\n",
      "Oversampling Method: none\n",
      "----------------\n",
      "[LibLinear][LibLinear][LibLinear]Results: -0.8593884135905444\n",
      "================\n",
      "Best parameters: [1.8881078774082976, 0.0001, 'lbfgs', 'ada']\n"
     ]
    }
   ],
   "source": [
    "from sklearn.model_selection import cross_val_score\n",
    "from skopt import gp_minimize\n",
    "from skopt.space import Real, Integer, Categorical\n",
    "from skopt.utils import use_named_args\n",
    "import numpy as np\n",
    "import sys\n",
    "# Define the search space\n",
    "search_space = [\n",
    "    Real(0.001, 3.0, name='C'),\n",
    "    Real(0.0001, 0.1, name='tol'),\n",
    "    Categorical(['lbfgs', 'liblinear', 'newton-cg', 'newton-cholesky', 'sag', 'saga'], name='solver'),\n",
    "    Categorical(['none', 'ada'], name='oversampling_method')\n",
    "]\n",
    "\n",
    "# Define your objective function (e.g., maximizing accuracy)\n",
    "@use_named_args(search_space)\n",
    "def objective_function(C, tol, solver, oversampling_method):\n",
    "    print(\"================\")\n",
    "    print(\"Configuration:\")\n",
    "    print(\"C:\", C)\n",
    "    print(\"Tolerance:\", tol)\n",
    "    print(\"Solver:\", solver)   \n",
    "    print(\"Oversampling Method:\", oversampling_method)\n",
    "    print(\"----------------\")\n",
    "    try:\n",
    "        if oversampling_method == 'none':\n",
    "            X = loans_train_df.loc[:, loans_train_df.columns != \"loan_status\"]\n",
    "            y = loans_train_df[\"loan_status\"]\n",
    "        elif oversampling_method == 'ada':\n",
    "            X = loans_train_ada_df.loc[:, loans_train_ada_df.columns != \"loan_status\"]\n",
    "            y = loans_train_ada_df[\"loan_status\"]\n",
    "            \n",
    "        model = LogisticRegression(class_weight='balanced', C=C, tol=tol, solver=solver, max_iter=200, verbose=True)\n",
    "        roc_auc = cross_val_score(model, X, y, cv=3, scoring='roc_auc').mean()\n",
    "\n",
    "        print(\"Results:\", -roc_auc)\n",
    "        df_hyper_tuning.loc[len(df_hyper_tuning.index)] = [C, tol, solver, oversampling_method, roc_auc] \n",
    "        print(\"================\")\n",
    "        return -roc_auc\n",
    "    except:\n",
    "        print(\"Invalid Config\")\n",
    "        return 100000\n",
    "        \n",
    "\n",
    "# Perform Bayesian Optimization\n",
    "res = gp_minimize(objective_function, search_space, n_calls=500)\n",
    "\n",
    "# Print best parameters\n",
    "print(\"Best parameters:\", res.x)"
   ]
  },
  {
   "cell_type": "code",
   "execution_count": 5,
   "id": "9cfcdef0-a4fc-4ace-99d9-406f3a1a476f",
   "metadata": {},
   "outputs": [
    {
     "data": {
      "text/html": [
       "<div>\n",
       "<style scoped>\n",
       "    .dataframe tbody tr th:only-of-type {\n",
       "        vertical-align: middle;\n",
       "    }\n",
       "\n",
       "    .dataframe tbody tr th {\n",
       "        vertical-align: top;\n",
       "    }\n",
       "\n",
       "    .dataframe thead th {\n",
       "        text-align: right;\n",
       "    }\n",
       "</style>\n",
       "<table border=\"1\" class=\"dataframe\">\n",
       "  <thead>\n",
       "    <tr style=\"text-align: right;\">\n",
       "      <th></th>\n",
       "      <th>C</th>\n",
       "      <th>tol</th>\n",
       "      <th>solver</th>\n",
       "      <th>oversampling_method</th>\n",
       "      <th>roc_auc</th>\n",
       "    </tr>\n",
       "  </thead>\n",
       "  <tbody>\n",
       "    <tr>\n",
       "      <th>121</th>\n",
       "      <td>1.888108</td>\n",
       "      <td>0.000100</td>\n",
       "      <td>lbfgs</td>\n",
       "      <td>ada</td>\n",
       "      <td>0.859834</td>\n",
       "    </tr>\n",
       "    <tr>\n",
       "      <th>95</th>\n",
       "      <td>2.723797</td>\n",
       "      <td>0.000100</td>\n",
       "      <td>lbfgs</td>\n",
       "      <td>none</td>\n",
       "      <td>0.859824</td>\n",
       "    </tr>\n",
       "    <tr>\n",
       "      <th>385</th>\n",
       "      <td>1.955779</td>\n",
       "      <td>0.000100</td>\n",
       "      <td>lbfgs</td>\n",
       "      <td>none</td>\n",
       "      <td>0.859792</td>\n",
       "    </tr>\n",
       "    <tr>\n",
       "      <th>494</th>\n",
       "      <td>2.549835</td>\n",
       "      <td>0.000100</td>\n",
       "      <td>lbfgs</td>\n",
       "      <td>ada</td>\n",
       "      <td>0.859786</td>\n",
       "    </tr>\n",
       "    <tr>\n",
       "      <th>471</th>\n",
       "      <td>3.000000</td>\n",
       "      <td>0.000100</td>\n",
       "      <td>liblinear</td>\n",
       "      <td>none</td>\n",
       "      <td>0.859785</td>\n",
       "    </tr>\n",
       "    <tr>\n",
       "      <th>...</th>\n",
       "      <td>...</td>\n",
       "      <td>...</td>\n",
       "      <td>...</td>\n",
       "      <td>...</td>\n",
       "      <td>...</td>\n",
       "    </tr>\n",
       "    <tr>\n",
       "      <th>291</th>\n",
       "      <td>0.010815</td>\n",
       "      <td>0.040472</td>\n",
       "      <td>lbfgs</td>\n",
       "      <td>none</td>\n",
       "      <td>0.765260</td>\n",
       "    </tr>\n",
       "    <tr>\n",
       "      <th>19</th>\n",
       "      <td>3.000000</td>\n",
       "      <td>0.100000</td>\n",
       "      <td>lbfgs</td>\n",
       "      <td>ada</td>\n",
       "      <td>0.743151</td>\n",
       "    </tr>\n",
       "    <tr>\n",
       "      <th>18</th>\n",
       "      <td>0.001536</td>\n",
       "      <td>0.095510</td>\n",
       "      <td>lbfgs</td>\n",
       "      <td>none</td>\n",
       "      <td>0.743151</td>\n",
       "    </tr>\n",
       "    <tr>\n",
       "      <th>350</th>\n",
       "      <td>1.954797</td>\n",
       "      <td>0.059797</td>\n",
       "      <td>lbfgs</td>\n",
       "      <td>none</td>\n",
       "      <td>0.743151</td>\n",
       "    </tr>\n",
       "    <tr>\n",
       "      <th>242</th>\n",
       "      <td>1.396317</td>\n",
       "      <td>0.099903</td>\n",
       "      <td>lbfgs</td>\n",
       "      <td>ada</td>\n",
       "      <td>0.743151</td>\n",
       "    </tr>\n",
       "  </tbody>\n",
       "</table>\n",
       "<p>500 rows × 5 columns</p>\n",
       "</div>"
      ],
      "text/plain": [
       "            C       tol     solver oversampling_method   roc_auc\n",
       "121  1.888108  0.000100      lbfgs                 ada  0.859834\n",
       "95   2.723797  0.000100      lbfgs                none  0.859824\n",
       "385  1.955779  0.000100      lbfgs                none  0.859792\n",
       "494  2.549835  0.000100      lbfgs                 ada  0.859786\n",
       "471  3.000000  0.000100  liblinear                none  0.859785\n",
       "..        ...       ...        ...                 ...       ...\n",
       "291  0.010815  0.040472      lbfgs                none  0.765260\n",
       "19   3.000000  0.100000      lbfgs                 ada  0.743151\n",
       "18   0.001536  0.095510      lbfgs                none  0.743151\n",
       "350  1.954797  0.059797      lbfgs                none  0.743151\n",
       "242  1.396317  0.099903      lbfgs                 ada  0.743151\n",
       "\n",
       "[500 rows x 5 columns]"
      ]
     },
     "execution_count": 5,
     "metadata": {},
     "output_type": "execute_result"
    }
   ],
   "source": [
    "df_hyper_tuning.sort_values(by=['roc_auc'], ascending=False)"
   ]
  },
  {
   "cell_type": "code",
   "execution_count": 6,
   "id": "bba8eb3a-0460-48fd-8f71-98fe23446730",
   "metadata": {},
   "outputs": [],
   "source": [
    "df_hyper_tuning.to_csv('hyper_tuning/lrc_hyper_tuning.csv', index=False, header=True, encoding='utf-8')"
   ]
  },
  {
   "cell_type": "code",
   "execution_count": 7,
   "id": "d909bfcd-9e27-48d5-a878-b420df7e265a",
   "metadata": {},
   "outputs": [],
   "source": [
    "clf = LogisticRegression(class_weight='balanced', C=res.x[0], tol=res.x[1], solver=res.x[2], verbose=True, max_iter=200)"
   ]
  },
  {
   "cell_type": "code",
   "execution_count": 8,
   "id": "86ce9994-121f-469c-bf24-dba44eea86bc",
   "metadata": {},
   "outputs": [
    {
     "name": "stderr",
     "output_type": "stream",
     "text": [
      "[Parallel(n_jobs=1)]: Using backend SequentialBackend with 1 concurrent workers.\n",
      "[Parallel(n_jobs=1)]: Done   1 out of   1 | elapsed:    0.5s finished\n",
      "[Parallel(n_jobs=1)]: Using backend SequentialBackend with 1 concurrent workers.\n",
      "[Parallel(n_jobs=1)]: Done   1 out of   1 | elapsed:    0.2s finished\n",
      "[Parallel(n_jobs=1)]: Using backend SequentialBackend with 1 concurrent workers.\n",
      "[Parallel(n_jobs=1)]: Done   1 out of   1 | elapsed:    0.2s finished\n",
      "[Parallel(n_jobs=1)]: Using backend SequentialBackend with 1 concurrent workers.\n"
     ]
    },
    {
     "name": "stdout",
     "output_type": "stream",
     "text": [
      "Validation AUC: 0.859834463200333\n"
     ]
    },
    {
     "name": "stderr",
     "output_type": "stream",
     "text": [
      "[Parallel(n_jobs=1)]: Done   1 out of   1 | elapsed:    0.2s finished\n"
     ]
    }
   ],
   "source": [
    "if res.x[3] == 'none':\n",
    "    X = loans_train_df.loc[:, loans_train_df.columns != \"loan_status\"]\n",
    "    y = loans_train_df[\"loan_status\"]\n",
    "elif res.x[3] == 'ada':\n",
    "    X = loans_train_ada_df.loc[:, loans_train_ada_df.columns != \"loan_status\"]\n",
    "    y = loans_train_ada_df[\"loan_status\"]\n",
    "    \n",
    "clf.fit(X,y)\n",
    "\n",
    "# Calculate the ROC AUC score\n",
    "roc_auc = cross_val_score(clf, X, y, cv=3, scoring='roc_auc').mean()\n",
    "print(\"Validation AUC:\", roc_auc)"
   ]
  },
  {
   "cell_type": "code",
   "execution_count": 9,
   "id": "eb450233-734b-4031-843e-0bce46c7c188",
   "metadata": {},
   "outputs": [
    {
     "name": "stderr",
     "output_type": "stream",
     "text": [
      "[Parallel(n_jobs=1)]: Using backend SequentialBackend with 1 concurrent workers.\n",
      "[Parallel(n_jobs=1)]: Done   1 out of   1 | elapsed:    0.5s finished\n"
     ]
    },
    {
     "data": {
      "text/plain": [
       "['./outputs/lrc_model.joblib']"
      ]
     },
     "execution_count": 9,
     "metadata": {},
     "output_type": "execute_result"
    }
   ],
   "source": [
    "from joblib import dump\n",
    "clf.fit(X,y)\n",
    "dump(clf, './outputs/lrc_model.joblib')"
   ]
  },
  {
   "cell_type": "markdown",
   "id": "db7be770-8cbf-4196-a66b-d86c094a27aa",
   "metadata": {},
   "source": [
    "# Fitting into Test Data"
   ]
  },
  {
   "cell_type": "code",
   "execution_count": 10,
   "id": "9d3d89b9-51c6-4402-b91a-46eac7d7618b",
   "metadata": {},
   "outputs": [
    {
     "data": {
      "text/html": [
       "<div>\n",
       "<style scoped>\n",
       "    .dataframe tbody tr th:only-of-type {\n",
       "        vertical-align: middle;\n",
       "    }\n",
       "\n",
       "    .dataframe tbody tr th {\n",
       "        vertical-align: top;\n",
       "    }\n",
       "\n",
       "    .dataframe thead th {\n",
       "        text-align: right;\n",
       "    }\n",
       "</style>\n",
       "<table border=\"1\" class=\"dataframe\">\n",
       "  <thead>\n",
       "    <tr style=\"text-align: right;\">\n",
       "      <th></th>\n",
       "      <th>id</th>\n",
       "      <th>person_age</th>\n",
       "      <th>person_income</th>\n",
       "      <th>person_emp_length</th>\n",
       "      <th>loan_amnt</th>\n",
       "      <th>loan_int_rate</th>\n",
       "      <th>loan_percent_income</th>\n",
       "      <th>cb_person_default_on_file</th>\n",
       "      <th>cb_person_cred_hist_length</th>\n",
       "      <th>PERSON_HOME_OWNERSHIP_MORTGAGE</th>\n",
       "      <th>...</th>\n",
       "      <th>LOAN_GRADE_B</th>\n",
       "      <th>LOAN_GRADE_C</th>\n",
       "      <th>LOAN_GRADE_D</th>\n",
       "      <th>LOAN_GRADE_E</th>\n",
       "      <th>LOAN_GRADE_F</th>\n",
       "      <th>LOAN_GRADE_G</th>\n",
       "      <th>CB_PERSON_CRED_HIST_LENGTH_11_17</th>\n",
       "      <th>CB_PERSON_CRED_HIST_LENGTH_18_above</th>\n",
       "      <th>CB_PERSON_CRED_HIST_LENGTH_5_10</th>\n",
       "      <th>CB_PERSON_CRED_HIST_LENGTH_5_below</th>\n",
       "    </tr>\n",
       "  </thead>\n",
       "  <tbody>\n",
       "    <tr>\n",
       "      <th>0</th>\n",
       "      <td>58645</td>\n",
       "      <td>-0.755638</td>\n",
       "      <td>0.404383</td>\n",
       "      <td>0.370898</td>\n",
       "      <td>2.836600</td>\n",
       "      <td>0.733635</td>\n",
       "      <td>2.189522</td>\n",
       "      <td>0</td>\n",
       "      <td>-1.080800</td>\n",
       "      <td>0</td>\n",
       "      <td>...</td>\n",
       "      <td>0</td>\n",
       "      <td>0</td>\n",
       "      <td>0</td>\n",
       "      <td>0</td>\n",
       "      <td>1</td>\n",
       "      <td>0</td>\n",
       "      <td>0</td>\n",
       "      <td>0</td>\n",
       "      <td>0</td>\n",
       "      <td>1</td>\n",
       "    </tr>\n",
       "    <tr>\n",
       "      <th>1</th>\n",
       "      <td>58646</td>\n",
       "      <td>-0.257331</td>\n",
       "      <td>1.127233</td>\n",
       "      <td>0.520621</td>\n",
       "      <td>0.140622</td>\n",
       "      <td>0.584177</td>\n",
       "      <td>-0.646041</td>\n",
       "      <td>1</td>\n",
       "      <td>0.179926</td>\n",
       "      <td>1</td>\n",
       "      <td>...</td>\n",
       "      <td>0</td>\n",
       "      <td>1</td>\n",
       "      <td>0</td>\n",
       "      <td>0</td>\n",
       "      <td>0</td>\n",
       "      <td>0</td>\n",
       "      <td>0</td>\n",
       "      <td>0</td>\n",
       "      <td>0</td>\n",
       "      <td>1</td>\n",
       "    </tr>\n",
       "    <tr>\n",
       "      <th>2</th>\n",
       "      <td>58647</td>\n",
       "      <td>-0.257331</td>\n",
       "      <td>-1.418731</td>\n",
       "      <td>0.479379</td>\n",
       "      <td>-0.937769</td>\n",
       "      <td>0.793331</td>\n",
       "      <td>-0.318861</td>\n",
       "      <td>1</td>\n",
       "      <td>-1.080800</td>\n",
       "      <td>0</td>\n",
       "      <td>...</td>\n",
       "      <td>0</td>\n",
       "      <td>0</td>\n",
       "      <td>0</td>\n",
       "      <td>1</td>\n",
       "      <td>0</td>\n",
       "      <td>0</td>\n",
       "      <td>0</td>\n",
       "      <td>0</td>\n",
       "      <td>0</td>\n",
       "      <td>1</td>\n",
       "    </tr>\n",
       "    <tr>\n",
       "      <th>3</th>\n",
       "      <td>58648</td>\n",
       "      <td>0.905387</td>\n",
       "      <td>-0.300610</td>\n",
       "      <td>0.430599</td>\n",
       "      <td>-0.398573</td>\n",
       "      <td>0.340882</td>\n",
       "      <td>-0.209801</td>\n",
       "      <td>0</td>\n",
       "      <td>1.197778</td>\n",
       "      <td>0</td>\n",
       "      <td>...</td>\n",
       "      <td>0</td>\n",
       "      <td>0</td>\n",
       "      <td>0</td>\n",
       "      <td>0</td>\n",
       "      <td>0</td>\n",
       "      <td>0</td>\n",
       "      <td>0</td>\n",
       "      <td>0</td>\n",
       "      <td>1</td>\n",
       "      <td>0</td>\n",
       "    </tr>\n",
       "    <tr>\n",
       "      <th>4</th>\n",
       "      <td>58649</td>\n",
       "      <td>-0.257331</td>\n",
       "      <td>1.259932</td>\n",
       "      <td>0.587859</td>\n",
       "      <td>1.039281</td>\n",
       "      <td>0.757634</td>\n",
       "      <td>-0.100741</td>\n",
       "      <td>1</td>\n",
       "      <td>0.179926</td>\n",
       "      <td>1</td>\n",
       "      <td>...</td>\n",
       "      <td>0</td>\n",
       "      <td>0</td>\n",
       "      <td>1</td>\n",
       "      <td>0</td>\n",
       "      <td>0</td>\n",
       "      <td>0</td>\n",
       "      <td>0</td>\n",
       "      <td>0</td>\n",
       "      <td>0</td>\n",
       "      <td>1</td>\n",
       "    </tr>\n",
       "    <tr>\n",
       "      <th>...</th>\n",
       "      <td>...</td>\n",
       "      <td>...</td>\n",
       "      <td>...</td>\n",
       "      <td>...</td>\n",
       "      <td>...</td>\n",
       "      <td>...</td>\n",
       "      <td>...</td>\n",
       "      <td>...</td>\n",
       "      <td>...</td>\n",
       "      <td>...</td>\n",
       "      <td>...</td>\n",
       "      <td>...</td>\n",
       "      <td>...</td>\n",
       "      <td>...</td>\n",
       "      <td>...</td>\n",
       "      <td>...</td>\n",
       "      <td>...</td>\n",
       "      <td>...</td>\n",
       "      <td>...</td>\n",
       "      <td>...</td>\n",
       "      <td>...</td>\n",
       "    </tr>\n",
       "    <tr>\n",
       "      <th>39093</th>\n",
       "      <td>97738</td>\n",
       "      <td>-0.921741</td>\n",
       "      <td>-1.332883</td>\n",
       "      <td>0.293930</td>\n",
       "      <td>-1.117500</td>\n",
       "      <td>0.445950</td>\n",
       "      <td>-0.646041</td>\n",
       "      <td>0</td>\n",
       "      <td>0.179926</td>\n",
       "      <td>1</td>\n",
       "      <td>...</td>\n",
       "      <td>1</td>\n",
       "      <td>0</td>\n",
       "      <td>0</td>\n",
       "      <td>0</td>\n",
       "      <td>0</td>\n",
       "      <td>0</td>\n",
       "      <td>0</td>\n",
       "      <td>0</td>\n",
       "      <td>0</td>\n",
       "      <td>1</td>\n",
       "    </tr>\n",
       "    <tr>\n",
       "      <th>39094</th>\n",
       "      <td>97739</td>\n",
       "      <td>-0.921741</td>\n",
       "      <td>-0.389963</td>\n",
       "      <td>0.520621</td>\n",
       "      <td>-0.398573</td>\n",
       "      <td>0.073304</td>\n",
       "      <td>-0.100741</td>\n",
       "      <td>0</td>\n",
       "      <td>-0.343323</td>\n",
       "      <td>1</td>\n",
       "      <td>...</td>\n",
       "      <td>0</td>\n",
       "      <td>0</td>\n",
       "      <td>0</td>\n",
       "      <td>0</td>\n",
       "      <td>0</td>\n",
       "      <td>0</td>\n",
       "      <td>0</td>\n",
       "      <td>0</td>\n",
       "      <td>0</td>\n",
       "      <td>1</td>\n",
       "    </tr>\n",
       "    <tr>\n",
       "      <th>39095</th>\n",
       "      <td>97740</td>\n",
       "      <td>3.895232</td>\n",
       "      <td>0.098465</td>\n",
       "      <td>0.000000</td>\n",
       "      <td>1.039281</td>\n",
       "      <td>0.224164</td>\n",
       "      <td>0.989861</td>\n",
       "      <td>0</td>\n",
       "      <td>3.513102</td>\n",
       "      <td>1</td>\n",
       "      <td>...</td>\n",
       "      <td>0</td>\n",
       "      <td>0</td>\n",
       "      <td>0</td>\n",
       "      <td>0</td>\n",
       "      <td>0</td>\n",
       "      <td>0</td>\n",
       "      <td>0</td>\n",
       "      <td>1</td>\n",
       "      <td>0</td>\n",
       "      <td>0</td>\n",
       "    </tr>\n",
       "    <tr>\n",
       "      <th>39096</th>\n",
       "      <td>97741</td>\n",
       "      <td>-0.921741</td>\n",
       "      <td>-1.019656</td>\n",
       "      <td>0.430599</td>\n",
       "      <td>0.859550</td>\n",
       "      <td>0.727502</td>\n",
       "      <td>2.516703</td>\n",
       "      <td>1</td>\n",
       "      <td>0.179926</td>\n",
       "      <td>1</td>\n",
       "      <td>...</td>\n",
       "      <td>0</td>\n",
       "      <td>0</td>\n",
       "      <td>1</td>\n",
       "      <td>0</td>\n",
       "      <td>0</td>\n",
       "      <td>0</td>\n",
       "      <td>0</td>\n",
       "      <td>0</td>\n",
       "      <td>0</td>\n",
       "      <td>1</td>\n",
       "    </tr>\n",
       "    <tr>\n",
       "      <th>39097</th>\n",
       "      <td>97742</td>\n",
       "      <td>0.573182</td>\n",
       "      <td>-0.531228</td>\n",
       "      <td>0.520621</td>\n",
       "      <td>1.839088</td>\n",
       "      <td>0.414765</td>\n",
       "      <td>3.062003</td>\n",
       "      <td>0</td>\n",
       "      <td>1.654880</td>\n",
       "      <td>0</td>\n",
       "      <td>...</td>\n",
       "      <td>1</td>\n",
       "      <td>0</td>\n",
       "      <td>0</td>\n",
       "      <td>0</td>\n",
       "      <td>0</td>\n",
       "      <td>0</td>\n",
       "      <td>0</td>\n",
       "      <td>0</td>\n",
       "      <td>1</td>\n",
       "      <td>0</td>\n",
       "    </tr>\n",
       "  </tbody>\n",
       "</table>\n",
       "<p>39098 rows × 30 columns</p>\n",
       "</div>"
      ],
      "text/plain": [
       "          id  person_age  person_income  person_emp_length  loan_amnt  \\\n",
       "0      58645   -0.755638       0.404383           0.370898   2.836600   \n",
       "1      58646   -0.257331       1.127233           0.520621   0.140622   \n",
       "2      58647   -0.257331      -1.418731           0.479379  -0.937769   \n",
       "3      58648    0.905387      -0.300610           0.430599  -0.398573   \n",
       "4      58649   -0.257331       1.259932           0.587859   1.039281   \n",
       "...      ...         ...            ...                ...        ...   \n",
       "39093  97738   -0.921741      -1.332883           0.293930  -1.117500   \n",
       "39094  97739   -0.921741      -0.389963           0.520621  -0.398573   \n",
       "39095  97740    3.895232       0.098465           0.000000   1.039281   \n",
       "39096  97741   -0.921741      -1.019656           0.430599   0.859550   \n",
       "39097  97742    0.573182      -0.531228           0.520621   1.839088   \n",
       "\n",
       "       loan_int_rate  loan_percent_income  cb_person_default_on_file  \\\n",
       "0           0.733635             2.189522                          0   \n",
       "1           0.584177            -0.646041                          1   \n",
       "2           0.793331            -0.318861                          1   \n",
       "3           0.340882            -0.209801                          0   \n",
       "4           0.757634            -0.100741                          1   \n",
       "...              ...                  ...                        ...   \n",
       "39093       0.445950            -0.646041                          0   \n",
       "39094       0.073304            -0.100741                          0   \n",
       "39095       0.224164             0.989861                          0   \n",
       "39096       0.727502             2.516703                          1   \n",
       "39097       0.414765             3.062003                          0   \n",
       "\n",
       "       cb_person_cred_hist_length  PERSON_HOME_OWNERSHIP_MORTGAGE  ...  \\\n",
       "0                       -1.080800                               0  ...   \n",
       "1                        0.179926                               1  ...   \n",
       "2                       -1.080800                               0  ...   \n",
       "3                        1.197778                               0  ...   \n",
       "4                        0.179926                               1  ...   \n",
       "...                           ...                             ...  ...   \n",
       "39093                    0.179926                               1  ...   \n",
       "39094                   -0.343323                               1  ...   \n",
       "39095                    3.513102                               1  ...   \n",
       "39096                    0.179926                               1  ...   \n",
       "39097                    1.654880                               0  ...   \n",
       "\n",
       "       LOAN_GRADE_B  LOAN_GRADE_C  LOAN_GRADE_D  LOAN_GRADE_E  LOAN_GRADE_F  \\\n",
       "0                 0             0             0             0             1   \n",
       "1                 0             1             0             0             0   \n",
       "2                 0             0             0             1             0   \n",
       "3                 0             0             0             0             0   \n",
       "4                 0             0             1             0             0   \n",
       "...             ...           ...           ...           ...           ...   \n",
       "39093             1             0             0             0             0   \n",
       "39094             0             0             0             0             0   \n",
       "39095             0             0             0             0             0   \n",
       "39096             0             0             1             0             0   \n",
       "39097             1             0             0             0             0   \n",
       "\n",
       "       LOAN_GRADE_G  CB_PERSON_CRED_HIST_LENGTH_11_17  \\\n",
       "0                 0                                 0   \n",
       "1                 0                                 0   \n",
       "2                 0                                 0   \n",
       "3                 0                                 0   \n",
       "4                 0                                 0   \n",
       "...             ...                               ...   \n",
       "39093             0                                 0   \n",
       "39094             0                                 0   \n",
       "39095             0                                 0   \n",
       "39096             0                                 0   \n",
       "39097             0                                 0   \n",
       "\n",
       "       CB_PERSON_CRED_HIST_LENGTH_18_above  CB_PERSON_CRED_HIST_LENGTH_5_10  \\\n",
       "0                                        0                                0   \n",
       "1                                        0                                0   \n",
       "2                                        0                                0   \n",
       "3                                        0                                1   \n",
       "4                                        0                                0   \n",
       "...                                    ...                              ...   \n",
       "39093                                    0                                0   \n",
       "39094                                    0                                0   \n",
       "39095                                    1                                0   \n",
       "39096                                    0                                0   \n",
       "39097                                    0                                1   \n",
       "\n",
       "       CB_PERSON_CRED_HIST_LENGTH_5_below  \n",
       "0                                       1  \n",
       "1                                       1  \n",
       "2                                       1  \n",
       "3                                       0  \n",
       "4                                       1  \n",
       "...                                   ...  \n",
       "39093                                   1  \n",
       "39094                                   1  \n",
       "39095                                   0  \n",
       "39096                                   1  \n",
       "39097                                   0  \n",
       "\n",
       "[39098 rows x 30 columns]"
      ]
     },
     "execution_count": 10,
     "metadata": {},
     "output_type": "execute_result"
    }
   ],
   "source": [
    "##Import Testing Dataset\n",
    "loans_test_df = pd.read_csv('./outputs/cleaned_loans_test.csv')\n",
    "loans_test_df"
   ]
  },
  {
   "cell_type": "code",
   "execution_count": 11,
   "id": "371db56e-c3b2-4dc0-8b41-e4eaa9393a69",
   "metadata": {},
   "outputs": [
    {
     "data": {
      "text/html": [
       "<div>\n",
       "<style scoped>\n",
       "    .dataframe tbody tr th:only-of-type {\n",
       "        vertical-align: middle;\n",
       "    }\n",
       "\n",
       "    .dataframe tbody tr th {\n",
       "        vertical-align: top;\n",
       "    }\n",
       "\n",
       "    .dataframe thead th {\n",
       "        text-align: right;\n",
       "    }\n",
       "</style>\n",
       "<table border=\"1\" class=\"dataframe\">\n",
       "  <thead>\n",
       "    <tr style=\"text-align: right;\">\n",
       "      <th></th>\n",
       "      <th>person_age</th>\n",
       "      <th>person_income</th>\n",
       "      <th>person_emp_length</th>\n",
       "      <th>loan_amnt</th>\n",
       "      <th>loan_int_rate</th>\n",
       "      <th>loan_percent_income</th>\n",
       "      <th>cb_person_default_on_file</th>\n",
       "      <th>cb_person_cred_hist_length</th>\n",
       "      <th>PERSON_HOME_OWNERSHIP_MORTGAGE</th>\n",
       "      <th>PERSON_HOME_OWNERSHIP_OTHER</th>\n",
       "      <th>...</th>\n",
       "      <th>LOAN_GRADE_B</th>\n",
       "      <th>LOAN_GRADE_C</th>\n",
       "      <th>LOAN_GRADE_D</th>\n",
       "      <th>LOAN_GRADE_E</th>\n",
       "      <th>LOAN_GRADE_F</th>\n",
       "      <th>LOAN_GRADE_G</th>\n",
       "      <th>CB_PERSON_CRED_HIST_LENGTH_11_17</th>\n",
       "      <th>CB_PERSON_CRED_HIST_LENGTH_18_above</th>\n",
       "      <th>CB_PERSON_CRED_HIST_LENGTH_5_10</th>\n",
       "      <th>CB_PERSON_CRED_HIST_LENGTH_5_below</th>\n",
       "    </tr>\n",
       "  </thead>\n",
       "  <tbody>\n",
       "    <tr>\n",
       "      <th>0</th>\n",
       "      <td>-0.755638</td>\n",
       "      <td>0.404383</td>\n",
       "      <td>0.370898</td>\n",
       "      <td>2.836600</td>\n",
       "      <td>0.733635</td>\n",
       "      <td>2.189522</td>\n",
       "      <td>0</td>\n",
       "      <td>-1.080800</td>\n",
       "      <td>0</td>\n",
       "      <td>0</td>\n",
       "      <td>...</td>\n",
       "      <td>0</td>\n",
       "      <td>0</td>\n",
       "      <td>0</td>\n",
       "      <td>0</td>\n",
       "      <td>1</td>\n",
       "      <td>0</td>\n",
       "      <td>0</td>\n",
       "      <td>0</td>\n",
       "      <td>0</td>\n",
       "      <td>1</td>\n",
       "    </tr>\n",
       "    <tr>\n",
       "      <th>1</th>\n",
       "      <td>-0.257331</td>\n",
       "      <td>1.127233</td>\n",
       "      <td>0.520621</td>\n",
       "      <td>0.140622</td>\n",
       "      <td>0.584177</td>\n",
       "      <td>-0.646041</td>\n",
       "      <td>1</td>\n",
       "      <td>0.179926</td>\n",
       "      <td>1</td>\n",
       "      <td>0</td>\n",
       "      <td>...</td>\n",
       "      <td>0</td>\n",
       "      <td>1</td>\n",
       "      <td>0</td>\n",
       "      <td>0</td>\n",
       "      <td>0</td>\n",
       "      <td>0</td>\n",
       "      <td>0</td>\n",
       "      <td>0</td>\n",
       "      <td>0</td>\n",
       "      <td>1</td>\n",
       "    </tr>\n",
       "    <tr>\n",
       "      <th>2</th>\n",
       "      <td>-0.257331</td>\n",
       "      <td>-1.418731</td>\n",
       "      <td>0.479379</td>\n",
       "      <td>-0.937769</td>\n",
       "      <td>0.793331</td>\n",
       "      <td>-0.318861</td>\n",
       "      <td>1</td>\n",
       "      <td>-1.080800</td>\n",
       "      <td>0</td>\n",
       "      <td>0</td>\n",
       "      <td>...</td>\n",
       "      <td>0</td>\n",
       "      <td>0</td>\n",
       "      <td>0</td>\n",
       "      <td>1</td>\n",
       "      <td>0</td>\n",
       "      <td>0</td>\n",
       "      <td>0</td>\n",
       "      <td>0</td>\n",
       "      <td>0</td>\n",
       "      <td>1</td>\n",
       "    </tr>\n",
       "    <tr>\n",
       "      <th>3</th>\n",
       "      <td>0.905387</td>\n",
       "      <td>-0.300610</td>\n",
       "      <td>0.430599</td>\n",
       "      <td>-0.398573</td>\n",
       "      <td>0.340882</td>\n",
       "      <td>-0.209801</td>\n",
       "      <td>0</td>\n",
       "      <td>1.197778</td>\n",
       "      <td>0</td>\n",
       "      <td>0</td>\n",
       "      <td>...</td>\n",
       "      <td>0</td>\n",
       "      <td>0</td>\n",
       "      <td>0</td>\n",
       "      <td>0</td>\n",
       "      <td>0</td>\n",
       "      <td>0</td>\n",
       "      <td>0</td>\n",
       "      <td>0</td>\n",
       "      <td>1</td>\n",
       "      <td>0</td>\n",
       "    </tr>\n",
       "    <tr>\n",
       "      <th>4</th>\n",
       "      <td>-0.257331</td>\n",
       "      <td>1.259932</td>\n",
       "      <td>0.587859</td>\n",
       "      <td>1.039281</td>\n",
       "      <td>0.757634</td>\n",
       "      <td>-0.100741</td>\n",
       "      <td>1</td>\n",
       "      <td>0.179926</td>\n",
       "      <td>1</td>\n",
       "      <td>0</td>\n",
       "      <td>...</td>\n",
       "      <td>0</td>\n",
       "      <td>0</td>\n",
       "      <td>1</td>\n",
       "      <td>0</td>\n",
       "      <td>0</td>\n",
       "      <td>0</td>\n",
       "      <td>0</td>\n",
       "      <td>0</td>\n",
       "      <td>0</td>\n",
       "      <td>1</td>\n",
       "    </tr>\n",
       "    <tr>\n",
       "      <th>...</th>\n",
       "      <td>...</td>\n",
       "      <td>...</td>\n",
       "      <td>...</td>\n",
       "      <td>...</td>\n",
       "      <td>...</td>\n",
       "      <td>...</td>\n",
       "      <td>...</td>\n",
       "      <td>...</td>\n",
       "      <td>...</td>\n",
       "      <td>...</td>\n",
       "      <td>...</td>\n",
       "      <td>...</td>\n",
       "      <td>...</td>\n",
       "      <td>...</td>\n",
       "      <td>...</td>\n",
       "      <td>...</td>\n",
       "      <td>...</td>\n",
       "      <td>...</td>\n",
       "      <td>...</td>\n",
       "      <td>...</td>\n",
       "      <td>...</td>\n",
       "    </tr>\n",
       "    <tr>\n",
       "      <th>39093</th>\n",
       "      <td>-0.921741</td>\n",
       "      <td>-1.332883</td>\n",
       "      <td>0.293930</td>\n",
       "      <td>-1.117500</td>\n",
       "      <td>0.445950</td>\n",
       "      <td>-0.646041</td>\n",
       "      <td>0</td>\n",
       "      <td>0.179926</td>\n",
       "      <td>1</td>\n",
       "      <td>0</td>\n",
       "      <td>...</td>\n",
       "      <td>1</td>\n",
       "      <td>0</td>\n",
       "      <td>0</td>\n",
       "      <td>0</td>\n",
       "      <td>0</td>\n",
       "      <td>0</td>\n",
       "      <td>0</td>\n",
       "      <td>0</td>\n",
       "      <td>0</td>\n",
       "      <td>1</td>\n",
       "    </tr>\n",
       "    <tr>\n",
       "      <th>39094</th>\n",
       "      <td>-0.921741</td>\n",
       "      <td>-0.389963</td>\n",
       "      <td>0.520621</td>\n",
       "      <td>-0.398573</td>\n",
       "      <td>0.073304</td>\n",
       "      <td>-0.100741</td>\n",
       "      <td>0</td>\n",
       "      <td>-0.343323</td>\n",
       "      <td>1</td>\n",
       "      <td>0</td>\n",
       "      <td>...</td>\n",
       "      <td>0</td>\n",
       "      <td>0</td>\n",
       "      <td>0</td>\n",
       "      <td>0</td>\n",
       "      <td>0</td>\n",
       "      <td>0</td>\n",
       "      <td>0</td>\n",
       "      <td>0</td>\n",
       "      <td>0</td>\n",
       "      <td>1</td>\n",
       "    </tr>\n",
       "    <tr>\n",
       "      <th>39095</th>\n",
       "      <td>3.895232</td>\n",
       "      <td>0.098465</td>\n",
       "      <td>0.000000</td>\n",
       "      <td>1.039281</td>\n",
       "      <td>0.224164</td>\n",
       "      <td>0.989861</td>\n",
       "      <td>0</td>\n",
       "      <td>3.513102</td>\n",
       "      <td>1</td>\n",
       "      <td>0</td>\n",
       "      <td>...</td>\n",
       "      <td>0</td>\n",
       "      <td>0</td>\n",
       "      <td>0</td>\n",
       "      <td>0</td>\n",
       "      <td>0</td>\n",
       "      <td>0</td>\n",
       "      <td>0</td>\n",
       "      <td>1</td>\n",
       "      <td>0</td>\n",
       "      <td>0</td>\n",
       "    </tr>\n",
       "    <tr>\n",
       "      <th>39096</th>\n",
       "      <td>-0.921741</td>\n",
       "      <td>-1.019656</td>\n",
       "      <td>0.430599</td>\n",
       "      <td>0.859550</td>\n",
       "      <td>0.727502</td>\n",
       "      <td>2.516703</td>\n",
       "      <td>1</td>\n",
       "      <td>0.179926</td>\n",
       "      <td>1</td>\n",
       "      <td>0</td>\n",
       "      <td>...</td>\n",
       "      <td>0</td>\n",
       "      <td>0</td>\n",
       "      <td>1</td>\n",
       "      <td>0</td>\n",
       "      <td>0</td>\n",
       "      <td>0</td>\n",
       "      <td>0</td>\n",
       "      <td>0</td>\n",
       "      <td>0</td>\n",
       "      <td>1</td>\n",
       "    </tr>\n",
       "    <tr>\n",
       "      <th>39097</th>\n",
       "      <td>0.573182</td>\n",
       "      <td>-0.531228</td>\n",
       "      <td>0.520621</td>\n",
       "      <td>1.839088</td>\n",
       "      <td>0.414765</td>\n",
       "      <td>3.062003</td>\n",
       "      <td>0</td>\n",
       "      <td>1.654880</td>\n",
       "      <td>0</td>\n",
       "      <td>0</td>\n",
       "      <td>...</td>\n",
       "      <td>1</td>\n",
       "      <td>0</td>\n",
       "      <td>0</td>\n",
       "      <td>0</td>\n",
       "      <td>0</td>\n",
       "      <td>0</td>\n",
       "      <td>0</td>\n",
       "      <td>0</td>\n",
       "      <td>1</td>\n",
       "      <td>0</td>\n",
       "    </tr>\n",
       "  </tbody>\n",
       "</table>\n",
       "<p>39098 rows × 29 columns</p>\n",
       "</div>"
      ],
      "text/plain": [
       "       person_age  person_income  person_emp_length  loan_amnt  loan_int_rate  \\\n",
       "0       -0.755638       0.404383           0.370898   2.836600       0.733635   \n",
       "1       -0.257331       1.127233           0.520621   0.140622       0.584177   \n",
       "2       -0.257331      -1.418731           0.479379  -0.937769       0.793331   \n",
       "3        0.905387      -0.300610           0.430599  -0.398573       0.340882   \n",
       "4       -0.257331       1.259932           0.587859   1.039281       0.757634   \n",
       "...           ...            ...                ...        ...            ...   \n",
       "39093   -0.921741      -1.332883           0.293930  -1.117500       0.445950   \n",
       "39094   -0.921741      -0.389963           0.520621  -0.398573       0.073304   \n",
       "39095    3.895232       0.098465           0.000000   1.039281       0.224164   \n",
       "39096   -0.921741      -1.019656           0.430599   0.859550       0.727502   \n",
       "39097    0.573182      -0.531228           0.520621   1.839088       0.414765   \n",
       "\n",
       "       loan_percent_income  cb_person_default_on_file  \\\n",
       "0                 2.189522                          0   \n",
       "1                -0.646041                          1   \n",
       "2                -0.318861                          1   \n",
       "3                -0.209801                          0   \n",
       "4                -0.100741                          1   \n",
       "...                    ...                        ...   \n",
       "39093            -0.646041                          0   \n",
       "39094            -0.100741                          0   \n",
       "39095             0.989861                          0   \n",
       "39096             2.516703                          1   \n",
       "39097             3.062003                          0   \n",
       "\n",
       "       cb_person_cred_hist_length  PERSON_HOME_OWNERSHIP_MORTGAGE  \\\n",
       "0                       -1.080800                               0   \n",
       "1                        0.179926                               1   \n",
       "2                       -1.080800                               0   \n",
       "3                        1.197778                               0   \n",
       "4                        0.179926                               1   \n",
       "...                           ...                             ...   \n",
       "39093                    0.179926                               1   \n",
       "39094                   -0.343323                               1   \n",
       "39095                    3.513102                               1   \n",
       "39096                    0.179926                               1   \n",
       "39097                    1.654880                               0   \n",
       "\n",
       "       PERSON_HOME_OWNERSHIP_OTHER  ...  LOAN_GRADE_B  LOAN_GRADE_C  \\\n",
       "0                                0  ...             0             0   \n",
       "1                                0  ...             0             1   \n",
       "2                                0  ...             0             0   \n",
       "3                                0  ...             0             0   \n",
       "4                                0  ...             0             0   \n",
       "...                            ...  ...           ...           ...   \n",
       "39093                            0  ...             1             0   \n",
       "39094                            0  ...             0             0   \n",
       "39095                            0  ...             0             0   \n",
       "39096                            0  ...             0             0   \n",
       "39097                            0  ...             1             0   \n",
       "\n",
       "       LOAN_GRADE_D  LOAN_GRADE_E  LOAN_GRADE_F  LOAN_GRADE_G  \\\n",
       "0                 0             0             1             0   \n",
       "1                 0             0             0             0   \n",
       "2                 0             1             0             0   \n",
       "3                 0             0             0             0   \n",
       "4                 1             0             0             0   \n",
       "...             ...           ...           ...           ...   \n",
       "39093             0             0             0             0   \n",
       "39094             0             0             0             0   \n",
       "39095             0             0             0             0   \n",
       "39096             1             0             0             0   \n",
       "39097             0             0             0             0   \n",
       "\n",
       "       CB_PERSON_CRED_HIST_LENGTH_11_17  CB_PERSON_CRED_HIST_LENGTH_18_above  \\\n",
       "0                                     0                                    0   \n",
       "1                                     0                                    0   \n",
       "2                                     0                                    0   \n",
       "3                                     0                                    0   \n",
       "4                                     0                                    0   \n",
       "...                                 ...                                  ...   \n",
       "39093                                 0                                    0   \n",
       "39094                                 0                                    0   \n",
       "39095                                 0                                    1   \n",
       "39096                                 0                                    0   \n",
       "39097                                 0                                    0   \n",
       "\n",
       "       CB_PERSON_CRED_HIST_LENGTH_5_10  CB_PERSON_CRED_HIST_LENGTH_5_below  \n",
       "0                                    0                                   1  \n",
       "1                                    0                                   1  \n",
       "2                                    0                                   1  \n",
       "3                                    1                                   0  \n",
       "4                                    0                                   1  \n",
       "...                                ...                                 ...  \n",
       "39093                                0                                   1  \n",
       "39094                                0                                   1  \n",
       "39095                                0                                   0  \n",
       "39096                                0                                   1  \n",
       "39097                                1                                   0  \n",
       "\n",
       "[39098 rows x 29 columns]"
      ]
     },
     "execution_count": 11,
     "metadata": {},
     "output_type": "execute_result"
    }
   ],
   "source": [
    "X_test = loans_test_df.loc[:, loans_test_df.columns != \"id\"]\n",
    "X_test"
   ]
  },
  {
   "cell_type": "code",
   "execution_count": 12,
   "id": "830e57d8-3e01-4f09-97f1-f0ff467f82b5",
   "metadata": {},
   "outputs": [],
   "source": [
    "y_pred = clf.predict(X_test)"
   ]
  },
  {
   "cell_type": "code",
   "execution_count": 13,
   "id": "bc9307ba-4d77-4f2a-b6ea-7fd9feeb33c7",
   "metadata": {},
   "outputs": [],
   "source": [
    "loans_predictions_df = loans_test_df[\"id\"].copy(deep=True)\n",
    "loans_predictions_df = loans_predictions_df.to_frame()\n",
    "loans_predictions_df.insert(1, 'loan_status', y_pred, True)"
   ]
  },
  {
   "cell_type": "code",
   "execution_count": 14,
   "id": "bb837f7a-2495-418b-ac4d-5bc25b7db9ee",
   "metadata": {},
   "outputs": [
    {
     "data": {
      "text/html": [
       "<div>\n",
       "<style scoped>\n",
       "    .dataframe tbody tr th:only-of-type {\n",
       "        vertical-align: middle;\n",
       "    }\n",
       "\n",
       "    .dataframe tbody tr th {\n",
       "        vertical-align: top;\n",
       "    }\n",
       "\n",
       "    .dataframe thead th {\n",
       "        text-align: right;\n",
       "    }\n",
       "</style>\n",
       "<table border=\"1\" class=\"dataframe\">\n",
       "  <thead>\n",
       "    <tr style=\"text-align: right;\">\n",
       "      <th></th>\n",
       "      <th>id</th>\n",
       "      <th>loan_status</th>\n",
       "    </tr>\n",
       "  </thead>\n",
       "  <tbody>\n",
       "    <tr>\n",
       "      <th>0</th>\n",
       "      <td>58645</td>\n",
       "      <td>0</td>\n",
       "    </tr>\n",
       "    <tr>\n",
       "      <th>1</th>\n",
       "      <td>58646</td>\n",
       "      <td>0</td>\n",
       "    </tr>\n",
       "    <tr>\n",
       "      <th>2</th>\n",
       "      <td>58647</td>\n",
       "      <td>0</td>\n",
       "    </tr>\n",
       "    <tr>\n",
       "      <th>3</th>\n",
       "      <td>58648</td>\n",
       "      <td>1</td>\n",
       "    </tr>\n",
       "    <tr>\n",
       "      <th>4</th>\n",
       "      <td>58649</td>\n",
       "      <td>0</td>\n",
       "    </tr>\n",
       "    <tr>\n",
       "      <th>...</th>\n",
       "      <td>...</td>\n",
       "      <td>...</td>\n",
       "    </tr>\n",
       "    <tr>\n",
       "      <th>39093</th>\n",
       "      <td>97738</td>\n",
       "      <td>0</td>\n",
       "    </tr>\n",
       "    <tr>\n",
       "      <th>39094</th>\n",
       "      <td>97739</td>\n",
       "      <td>0</td>\n",
       "    </tr>\n",
       "    <tr>\n",
       "      <th>39095</th>\n",
       "      <td>97740</td>\n",
       "      <td>1</td>\n",
       "    </tr>\n",
       "    <tr>\n",
       "      <th>39096</th>\n",
       "      <td>97741</td>\n",
       "      <td>1</td>\n",
       "    </tr>\n",
       "    <tr>\n",
       "      <th>39097</th>\n",
       "      <td>97742</td>\n",
       "      <td>1</td>\n",
       "    </tr>\n",
       "  </tbody>\n",
       "</table>\n",
       "<p>39098 rows × 2 columns</p>\n",
       "</div>"
      ],
      "text/plain": [
       "          id  loan_status\n",
       "0      58645            0\n",
       "1      58646            0\n",
       "2      58647            0\n",
       "3      58648            1\n",
       "4      58649            0\n",
       "...      ...          ...\n",
       "39093  97738            0\n",
       "39094  97739            0\n",
       "39095  97740            1\n",
       "39096  97741            1\n",
       "39097  97742            1\n",
       "\n",
       "[39098 rows x 2 columns]"
      ]
     },
     "execution_count": 14,
     "metadata": {},
     "output_type": "execute_result"
    }
   ],
   "source": [
    "loans_predictions_df"
   ]
  },
  {
   "cell_type": "code",
   "execution_count": 15,
   "id": "f45d08e3-0419-4750-bf78-4da0546cab03",
   "metadata": {},
   "outputs": [],
   "source": [
    "loans_predictions_df.to_csv('predictions/lrc_predictions.csv', index=False, header=True, encoding='utf-8')"
   ]
  },
  {
   "cell_type": "code",
   "execution_count": null,
   "id": "c290308d-dd16-49b7-b7ae-e838e4fe0990",
   "metadata": {},
   "outputs": [],
   "source": []
  }
 ],
 "metadata": {
  "kernelspec": {
   "display_name": "Python 3 (ipykernel)",
   "language": "python",
   "name": "python3"
  },
  "language_info": {
   "codemirror_mode": {
    "name": "ipython",
    "version": 3
   },
   "file_extension": ".py",
   "mimetype": "text/x-python",
   "name": "python",
   "nbconvert_exporter": "python",
   "pygments_lexer": "ipython3",
   "version": "3.11.7"
  }
 },
 "nbformat": 4,
 "nbformat_minor": 5
}
