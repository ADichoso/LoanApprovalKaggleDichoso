{
 "cells": [
  {
   "cell_type": "markdown",
   "id": "a11edde5-5a5d-4db1-8a5f-0e9cc6e08b88",
   "metadata": {},
   "source": [
    "# Loan Approval Prediction Kaggle Competition\n",
    "## October 14, 2024\n",
    "- DICHOSO, Aaron Gabrielle C."
   ]
  },
  {
   "cell_type": "markdown",
   "id": "fe661b56-4ff4-46f4-a1df-e5a0d74b42b5",
   "metadata": {},
   "source": [
    "## 1. Import Datasets\n",
    "\n",
    "Import the dataset first from https://www.kaggle.com/competitions/playground-series-s4e10/data?select=test.csv"
   ]
  },
  {
   "cell_type": "code",
   "execution_count": 1,
   "id": "fe4e232a-f637-4bdf-89d5-fb8026c624fe",
   "metadata": {},
   "outputs": [],
   "source": [
    "##Python libraries\n",
    "import pandas as pd\n",
    "import numpy as np"
   ]
  },
  {
   "cell_type": "code",
   "execution_count": 2,
   "id": "8f36a9f4-03cd-4aa1-8627-cdc234a0854b",
   "metadata": {},
   "outputs": [
    {
     "data": {
      "text/html": [
       "<div>\n",
       "<style scoped>\n",
       "    .dataframe tbody tr th:only-of-type {\n",
       "        vertical-align: middle;\n",
       "    }\n",
       "\n",
       "    .dataframe tbody tr th {\n",
       "        vertical-align: top;\n",
       "    }\n",
       "\n",
       "    .dataframe thead th {\n",
       "        text-align: right;\n",
       "    }\n",
       "</style>\n",
       "<table border=\"1\" class=\"dataframe\">\n",
       "  <thead>\n",
       "    <tr style=\"text-align: right;\">\n",
       "      <th></th>\n",
       "      <th>id</th>\n",
       "      <th>person_age</th>\n",
       "      <th>person_income</th>\n",
       "      <th>person_home_ownership</th>\n",
       "      <th>person_emp_length</th>\n",
       "      <th>loan_intent</th>\n",
       "      <th>loan_grade</th>\n",
       "      <th>loan_amnt</th>\n",
       "      <th>loan_int_rate</th>\n",
       "      <th>loan_percent_income</th>\n",
       "      <th>cb_person_default_on_file</th>\n",
       "      <th>cb_person_cred_hist_length</th>\n",
       "      <th>loan_status</th>\n",
       "    </tr>\n",
       "  </thead>\n",
       "  <tbody>\n",
       "    <tr>\n",
       "      <th>0</th>\n",
       "      <td>0</td>\n",
       "      <td>37</td>\n",
       "      <td>35000</td>\n",
       "      <td>RENT</td>\n",
       "      <td>0.0</td>\n",
       "      <td>EDUCATION</td>\n",
       "      <td>B</td>\n",
       "      <td>6000</td>\n",
       "      <td>11.49</td>\n",
       "      <td>0.17</td>\n",
       "      <td>N</td>\n",
       "      <td>14</td>\n",
       "      <td>0</td>\n",
       "    </tr>\n",
       "    <tr>\n",
       "      <th>1</th>\n",
       "      <td>1</td>\n",
       "      <td>22</td>\n",
       "      <td>56000</td>\n",
       "      <td>OWN</td>\n",
       "      <td>6.0</td>\n",
       "      <td>MEDICAL</td>\n",
       "      <td>C</td>\n",
       "      <td>4000</td>\n",
       "      <td>13.35</td>\n",
       "      <td>0.07</td>\n",
       "      <td>N</td>\n",
       "      <td>2</td>\n",
       "      <td>0</td>\n",
       "    </tr>\n",
       "    <tr>\n",
       "      <th>2</th>\n",
       "      <td>2</td>\n",
       "      <td>29</td>\n",
       "      <td>28800</td>\n",
       "      <td>OWN</td>\n",
       "      <td>8.0</td>\n",
       "      <td>PERSONAL</td>\n",
       "      <td>A</td>\n",
       "      <td>6000</td>\n",
       "      <td>8.90</td>\n",
       "      <td>0.21</td>\n",
       "      <td>N</td>\n",
       "      <td>10</td>\n",
       "      <td>0</td>\n",
       "    </tr>\n",
       "    <tr>\n",
       "      <th>3</th>\n",
       "      <td>3</td>\n",
       "      <td>30</td>\n",
       "      <td>70000</td>\n",
       "      <td>RENT</td>\n",
       "      <td>14.0</td>\n",
       "      <td>VENTURE</td>\n",
       "      <td>B</td>\n",
       "      <td>12000</td>\n",
       "      <td>11.11</td>\n",
       "      <td>0.17</td>\n",
       "      <td>N</td>\n",
       "      <td>5</td>\n",
       "      <td>0</td>\n",
       "    </tr>\n",
       "    <tr>\n",
       "      <th>4</th>\n",
       "      <td>4</td>\n",
       "      <td>22</td>\n",
       "      <td>60000</td>\n",
       "      <td>RENT</td>\n",
       "      <td>2.0</td>\n",
       "      <td>MEDICAL</td>\n",
       "      <td>A</td>\n",
       "      <td>6000</td>\n",
       "      <td>6.92</td>\n",
       "      <td>0.10</td>\n",
       "      <td>N</td>\n",
       "      <td>3</td>\n",
       "      <td>0</td>\n",
       "    </tr>\n",
       "    <tr>\n",
       "      <th>...</th>\n",
       "      <td>...</td>\n",
       "      <td>...</td>\n",
       "      <td>...</td>\n",
       "      <td>...</td>\n",
       "      <td>...</td>\n",
       "      <td>...</td>\n",
       "      <td>...</td>\n",
       "      <td>...</td>\n",
       "      <td>...</td>\n",
       "      <td>...</td>\n",
       "      <td>...</td>\n",
       "      <td>...</td>\n",
       "      <td>...</td>\n",
       "    </tr>\n",
       "    <tr>\n",
       "      <th>58640</th>\n",
       "      <td>58640</td>\n",
       "      <td>34</td>\n",
       "      <td>120000</td>\n",
       "      <td>MORTGAGE</td>\n",
       "      <td>5.0</td>\n",
       "      <td>EDUCATION</td>\n",
       "      <td>D</td>\n",
       "      <td>25000</td>\n",
       "      <td>15.95</td>\n",
       "      <td>0.21</td>\n",
       "      <td>Y</td>\n",
       "      <td>10</td>\n",
       "      <td>0</td>\n",
       "    </tr>\n",
       "    <tr>\n",
       "      <th>58641</th>\n",
       "      <td>58641</td>\n",
       "      <td>28</td>\n",
       "      <td>28800</td>\n",
       "      <td>RENT</td>\n",
       "      <td>0.0</td>\n",
       "      <td>MEDICAL</td>\n",
       "      <td>C</td>\n",
       "      <td>10000</td>\n",
       "      <td>12.73</td>\n",
       "      <td>0.35</td>\n",
       "      <td>N</td>\n",
       "      <td>8</td>\n",
       "      <td>1</td>\n",
       "    </tr>\n",
       "    <tr>\n",
       "      <th>58642</th>\n",
       "      <td>58642</td>\n",
       "      <td>23</td>\n",
       "      <td>44000</td>\n",
       "      <td>RENT</td>\n",
       "      <td>7.0</td>\n",
       "      <td>EDUCATION</td>\n",
       "      <td>D</td>\n",
       "      <td>6800</td>\n",
       "      <td>16.00</td>\n",
       "      <td>0.15</td>\n",
       "      <td>N</td>\n",
       "      <td>2</td>\n",
       "      <td>1</td>\n",
       "    </tr>\n",
       "    <tr>\n",
       "      <th>58643</th>\n",
       "      <td>58643</td>\n",
       "      <td>22</td>\n",
       "      <td>30000</td>\n",
       "      <td>RENT</td>\n",
       "      <td>2.0</td>\n",
       "      <td>EDUCATION</td>\n",
       "      <td>A</td>\n",
       "      <td>5000</td>\n",
       "      <td>8.90</td>\n",
       "      <td>0.17</td>\n",
       "      <td>N</td>\n",
       "      <td>3</td>\n",
       "      <td>0</td>\n",
       "    </tr>\n",
       "    <tr>\n",
       "      <th>58644</th>\n",
       "      <td>58644</td>\n",
       "      <td>31</td>\n",
       "      <td>75000</td>\n",
       "      <td>MORTGAGE</td>\n",
       "      <td>2.0</td>\n",
       "      <td>VENTURE</td>\n",
       "      <td>B</td>\n",
       "      <td>15000</td>\n",
       "      <td>11.11</td>\n",
       "      <td>0.20</td>\n",
       "      <td>N</td>\n",
       "      <td>5</td>\n",
       "      <td>0</td>\n",
       "    </tr>\n",
       "  </tbody>\n",
       "</table>\n",
       "<p>58645 rows × 13 columns</p>\n",
       "</div>"
      ],
      "text/plain": [
       "          id  person_age  person_income person_home_ownership  \\\n",
       "0          0          37          35000                  RENT   \n",
       "1          1          22          56000                   OWN   \n",
       "2          2          29          28800                   OWN   \n",
       "3          3          30          70000                  RENT   \n",
       "4          4          22          60000                  RENT   \n",
       "...      ...         ...            ...                   ...   \n",
       "58640  58640          34         120000              MORTGAGE   \n",
       "58641  58641          28          28800                  RENT   \n",
       "58642  58642          23          44000                  RENT   \n",
       "58643  58643          22          30000                  RENT   \n",
       "58644  58644          31          75000              MORTGAGE   \n",
       "\n",
       "       person_emp_length loan_intent loan_grade  loan_amnt  loan_int_rate  \\\n",
       "0                    0.0   EDUCATION          B       6000          11.49   \n",
       "1                    6.0     MEDICAL          C       4000          13.35   \n",
       "2                    8.0    PERSONAL          A       6000           8.90   \n",
       "3                   14.0     VENTURE          B      12000          11.11   \n",
       "4                    2.0     MEDICAL          A       6000           6.92   \n",
       "...                  ...         ...        ...        ...            ...   \n",
       "58640                5.0   EDUCATION          D      25000          15.95   \n",
       "58641                0.0     MEDICAL          C      10000          12.73   \n",
       "58642                7.0   EDUCATION          D       6800          16.00   \n",
       "58643                2.0   EDUCATION          A       5000           8.90   \n",
       "58644                2.0     VENTURE          B      15000          11.11   \n",
       "\n",
       "       loan_percent_income cb_person_default_on_file  \\\n",
       "0                     0.17                         N   \n",
       "1                     0.07                         N   \n",
       "2                     0.21                         N   \n",
       "3                     0.17                         N   \n",
       "4                     0.10                         N   \n",
       "...                    ...                       ...   \n",
       "58640                 0.21                         Y   \n",
       "58641                 0.35                         N   \n",
       "58642                 0.15                         N   \n",
       "58643                 0.17                         N   \n",
       "58644                 0.20                         N   \n",
       "\n",
       "       cb_person_cred_hist_length  loan_status  \n",
       "0                              14            0  \n",
       "1                               2            0  \n",
       "2                              10            0  \n",
       "3                               5            0  \n",
       "4                               3            0  \n",
       "...                           ...          ...  \n",
       "58640                          10            0  \n",
       "58641                           8            1  \n",
       "58642                           2            1  \n",
       "58643                           3            0  \n",
       "58644                           5            0  \n",
       "\n",
       "[58645 rows x 13 columns]"
      ]
     },
     "execution_count": 2,
     "metadata": {},
     "output_type": "execute_result"
    }
   ],
   "source": [
    "##Import Training Dataset\n",
    "loans_train_df = pd.read_csv('./dataset/train.csv')\n",
    "loans_train_df"
   ]
  },
  {
   "cell_type": "code",
   "execution_count": 3,
   "id": "34795eb0-b61d-48ed-b13a-04572e3b2be3",
   "metadata": {},
   "outputs": [
    {
     "data": {
      "text/html": [
       "<div>\n",
       "<style scoped>\n",
       "    .dataframe tbody tr th:only-of-type {\n",
       "        vertical-align: middle;\n",
       "    }\n",
       "\n",
       "    .dataframe tbody tr th {\n",
       "        vertical-align: top;\n",
       "    }\n",
       "\n",
       "    .dataframe thead th {\n",
       "        text-align: right;\n",
       "    }\n",
       "</style>\n",
       "<table border=\"1\" class=\"dataframe\">\n",
       "  <thead>\n",
       "    <tr style=\"text-align: right;\">\n",
       "      <th></th>\n",
       "      <th>id</th>\n",
       "      <th>person_age</th>\n",
       "      <th>person_income</th>\n",
       "      <th>person_home_ownership</th>\n",
       "      <th>person_emp_length</th>\n",
       "      <th>loan_intent</th>\n",
       "      <th>loan_grade</th>\n",
       "      <th>loan_amnt</th>\n",
       "      <th>loan_int_rate</th>\n",
       "      <th>loan_percent_income</th>\n",
       "      <th>cb_person_default_on_file</th>\n",
       "      <th>cb_person_cred_hist_length</th>\n",
       "    </tr>\n",
       "  </thead>\n",
       "  <tbody>\n",
       "    <tr>\n",
       "      <th>0</th>\n",
       "      <td>58645</td>\n",
       "      <td>23</td>\n",
       "      <td>69000</td>\n",
       "      <td>RENT</td>\n",
       "      <td>3.0</td>\n",
       "      <td>HOMEIMPROVEMENT</td>\n",
       "      <td>F</td>\n",
       "      <td>25000</td>\n",
       "      <td>15.76</td>\n",
       "      <td>0.36</td>\n",
       "      <td>N</td>\n",
       "      <td>2</td>\n",
       "    </tr>\n",
       "    <tr>\n",
       "      <th>1</th>\n",
       "      <td>58646</td>\n",
       "      <td>26</td>\n",
       "      <td>96000</td>\n",
       "      <td>MORTGAGE</td>\n",
       "      <td>6.0</td>\n",
       "      <td>PERSONAL</td>\n",
       "      <td>C</td>\n",
       "      <td>10000</td>\n",
       "      <td>12.68</td>\n",
       "      <td>0.10</td>\n",
       "      <td>Y</td>\n",
       "      <td>4</td>\n",
       "    </tr>\n",
       "    <tr>\n",
       "      <th>2</th>\n",
       "      <td>58647</td>\n",
       "      <td>26</td>\n",
       "      <td>30000</td>\n",
       "      <td>RENT</td>\n",
       "      <td>5.0</td>\n",
       "      <td>VENTURE</td>\n",
       "      <td>E</td>\n",
       "      <td>4000</td>\n",
       "      <td>17.19</td>\n",
       "      <td>0.13</td>\n",
       "      <td>Y</td>\n",
       "      <td>2</td>\n",
       "    </tr>\n",
       "    <tr>\n",
       "      <th>3</th>\n",
       "      <td>58648</td>\n",
       "      <td>33</td>\n",
       "      <td>50000</td>\n",
       "      <td>RENT</td>\n",
       "      <td>4.0</td>\n",
       "      <td>DEBTCONSOLIDATION</td>\n",
       "      <td>A</td>\n",
       "      <td>7000</td>\n",
       "      <td>8.90</td>\n",
       "      <td>0.14</td>\n",
       "      <td>N</td>\n",
       "      <td>7</td>\n",
       "    </tr>\n",
       "    <tr>\n",
       "      <th>4</th>\n",
       "      <td>58649</td>\n",
       "      <td>26</td>\n",
       "      <td>102000</td>\n",
       "      <td>MORTGAGE</td>\n",
       "      <td>8.0</td>\n",
       "      <td>HOMEIMPROVEMENT</td>\n",
       "      <td>D</td>\n",
       "      <td>15000</td>\n",
       "      <td>16.32</td>\n",
       "      <td>0.15</td>\n",
       "      <td>Y</td>\n",
       "      <td>4</td>\n",
       "    </tr>\n",
       "    <tr>\n",
       "      <th>...</th>\n",
       "      <td>...</td>\n",
       "      <td>...</td>\n",
       "      <td>...</td>\n",
       "      <td>...</td>\n",
       "      <td>...</td>\n",
       "      <td>...</td>\n",
       "      <td>...</td>\n",
       "      <td>...</td>\n",
       "      <td>...</td>\n",
       "      <td>...</td>\n",
       "      <td>...</td>\n",
       "      <td>...</td>\n",
       "    </tr>\n",
       "    <tr>\n",
       "      <th>39093</th>\n",
       "      <td>97738</td>\n",
       "      <td>22</td>\n",
       "      <td>31200</td>\n",
       "      <td>MORTGAGE</td>\n",
       "      <td>2.0</td>\n",
       "      <td>DEBTCONSOLIDATION</td>\n",
       "      <td>B</td>\n",
       "      <td>3000</td>\n",
       "      <td>10.37</td>\n",
       "      <td>0.10</td>\n",
       "      <td>N</td>\n",
       "      <td>4</td>\n",
       "    </tr>\n",
       "    <tr>\n",
       "      <th>39094</th>\n",
       "      <td>97739</td>\n",
       "      <td>22</td>\n",
       "      <td>48000</td>\n",
       "      <td>MORTGAGE</td>\n",
       "      <td>6.0</td>\n",
       "      <td>EDUCATION</td>\n",
       "      <td>A</td>\n",
       "      <td>7000</td>\n",
       "      <td>6.03</td>\n",
       "      <td>0.15</td>\n",
       "      <td>N</td>\n",
       "      <td>3</td>\n",
       "    </tr>\n",
       "    <tr>\n",
       "      <th>39095</th>\n",
       "      <td>97740</td>\n",
       "      <td>51</td>\n",
       "      <td>60000</td>\n",
       "      <td>MORTGAGE</td>\n",
       "      <td>0.0</td>\n",
       "      <td>PERSONAL</td>\n",
       "      <td>A</td>\n",
       "      <td>15000</td>\n",
       "      <td>7.51</td>\n",
       "      <td>0.25</td>\n",
       "      <td>N</td>\n",
       "      <td>25</td>\n",
       "    </tr>\n",
       "    <tr>\n",
       "      <th>39096</th>\n",
       "      <td>97741</td>\n",
       "      <td>22</td>\n",
       "      <td>36000</td>\n",
       "      <td>MORTGAGE</td>\n",
       "      <td>4.0</td>\n",
       "      <td>PERSONAL</td>\n",
       "      <td>D</td>\n",
       "      <td>14000</td>\n",
       "      <td>15.62</td>\n",
       "      <td>0.39</td>\n",
       "      <td>Y</td>\n",
       "      <td>4</td>\n",
       "    </tr>\n",
       "    <tr>\n",
       "      <th>39097</th>\n",
       "      <td>97742</td>\n",
       "      <td>31</td>\n",
       "      <td>45000</td>\n",
       "      <td>RENT</td>\n",
       "      <td>6.0</td>\n",
       "      <td>DEBTCONSOLIDATION</td>\n",
       "      <td>B</td>\n",
       "      <td>19450</td>\n",
       "      <td>9.91</td>\n",
       "      <td>0.44</td>\n",
       "      <td>N</td>\n",
       "      <td>9</td>\n",
       "    </tr>\n",
       "  </tbody>\n",
       "</table>\n",
       "<p>39098 rows × 12 columns</p>\n",
       "</div>"
      ],
      "text/plain": [
       "          id  person_age  person_income person_home_ownership  \\\n",
       "0      58645          23          69000                  RENT   \n",
       "1      58646          26          96000              MORTGAGE   \n",
       "2      58647          26          30000                  RENT   \n",
       "3      58648          33          50000                  RENT   \n",
       "4      58649          26         102000              MORTGAGE   \n",
       "...      ...         ...            ...                   ...   \n",
       "39093  97738          22          31200              MORTGAGE   \n",
       "39094  97739          22          48000              MORTGAGE   \n",
       "39095  97740          51          60000              MORTGAGE   \n",
       "39096  97741          22          36000              MORTGAGE   \n",
       "39097  97742          31          45000                  RENT   \n",
       "\n",
       "       person_emp_length        loan_intent loan_grade  loan_amnt  \\\n",
       "0                    3.0    HOMEIMPROVEMENT          F      25000   \n",
       "1                    6.0           PERSONAL          C      10000   \n",
       "2                    5.0            VENTURE          E       4000   \n",
       "3                    4.0  DEBTCONSOLIDATION          A       7000   \n",
       "4                    8.0    HOMEIMPROVEMENT          D      15000   \n",
       "...                  ...                ...        ...        ...   \n",
       "39093                2.0  DEBTCONSOLIDATION          B       3000   \n",
       "39094                6.0          EDUCATION          A       7000   \n",
       "39095                0.0           PERSONAL          A      15000   \n",
       "39096                4.0           PERSONAL          D      14000   \n",
       "39097                6.0  DEBTCONSOLIDATION          B      19450   \n",
       "\n",
       "       loan_int_rate  loan_percent_income cb_person_default_on_file  \\\n",
       "0              15.76                 0.36                         N   \n",
       "1              12.68                 0.10                         Y   \n",
       "2              17.19                 0.13                         Y   \n",
       "3               8.90                 0.14                         N   \n",
       "4              16.32                 0.15                         Y   \n",
       "...              ...                  ...                       ...   \n",
       "39093          10.37                 0.10                         N   \n",
       "39094           6.03                 0.15                         N   \n",
       "39095           7.51                 0.25                         N   \n",
       "39096          15.62                 0.39                         Y   \n",
       "39097           9.91                 0.44                         N   \n",
       "\n",
       "       cb_person_cred_hist_length  \n",
       "0                               2  \n",
       "1                               4  \n",
       "2                               2  \n",
       "3                               7  \n",
       "4                               4  \n",
       "...                           ...  \n",
       "39093                           4  \n",
       "39094                           3  \n",
       "39095                          25  \n",
       "39096                           4  \n",
       "39097                           9  \n",
       "\n",
       "[39098 rows x 12 columns]"
      ]
     },
     "execution_count": 3,
     "metadata": {},
     "output_type": "execute_result"
    }
   ],
   "source": [
    "##Import Testing Dataset\n",
    "loans_test_df = pd.read_csv('./dataset/test.csv')\n",
    "loans_test_df"
   ]
  },
  {
   "cell_type": "code",
   "execution_count": 4,
   "id": "650f864a-18fb-410b-8b4f-58021de03a54",
   "metadata": {},
   "outputs": [
    {
     "data": {
      "text/html": [
       "<div>\n",
       "<style scoped>\n",
       "    .dataframe tbody tr th:only-of-type {\n",
       "        vertical-align: middle;\n",
       "    }\n",
       "\n",
       "    .dataframe tbody tr th {\n",
       "        vertical-align: top;\n",
       "    }\n",
       "\n",
       "    .dataframe thead th {\n",
       "        text-align: right;\n",
       "    }\n",
       "</style>\n",
       "<table border=\"1\" class=\"dataframe\">\n",
       "  <thead>\n",
       "    <tr style=\"text-align: right;\">\n",
       "      <th></th>\n",
       "      <th>id</th>\n",
       "      <th>person_age</th>\n",
       "      <th>person_income</th>\n",
       "      <th>person_home_ownership</th>\n",
       "      <th>person_emp_length</th>\n",
       "      <th>loan_intent</th>\n",
       "      <th>loan_grade</th>\n",
       "      <th>loan_amnt</th>\n",
       "      <th>loan_int_rate</th>\n",
       "      <th>loan_percent_income</th>\n",
       "      <th>cb_person_default_on_file</th>\n",
       "      <th>cb_person_cred_hist_length</th>\n",
       "      <th>loan_status</th>\n",
       "    </tr>\n",
       "  </thead>\n",
       "  <tbody>\n",
       "    <tr>\n",
       "      <th>0</th>\n",
       "      <td>0</td>\n",
       "      <td>37</td>\n",
       "      <td>35000</td>\n",
       "      <td>RENT</td>\n",
       "      <td>0.0</td>\n",
       "      <td>EDUCATION</td>\n",
       "      <td>B</td>\n",
       "      <td>6000</td>\n",
       "      <td>11.49</td>\n",
       "      <td>0.17</td>\n",
       "      <td>N</td>\n",
       "      <td>14</td>\n",
       "      <td>0</td>\n",
       "    </tr>\n",
       "    <tr>\n",
       "      <th>1</th>\n",
       "      <td>1</td>\n",
       "      <td>22</td>\n",
       "      <td>56000</td>\n",
       "      <td>OWN</td>\n",
       "      <td>6.0</td>\n",
       "      <td>MEDICAL</td>\n",
       "      <td>C</td>\n",
       "      <td>4000</td>\n",
       "      <td>13.35</td>\n",
       "      <td>0.07</td>\n",
       "      <td>N</td>\n",
       "      <td>2</td>\n",
       "      <td>0</td>\n",
       "    </tr>\n",
       "    <tr>\n",
       "      <th>2</th>\n",
       "      <td>2</td>\n",
       "      <td>29</td>\n",
       "      <td>28800</td>\n",
       "      <td>OWN</td>\n",
       "      <td>8.0</td>\n",
       "      <td>PERSONAL</td>\n",
       "      <td>A</td>\n",
       "      <td>6000</td>\n",
       "      <td>8.90</td>\n",
       "      <td>0.21</td>\n",
       "      <td>N</td>\n",
       "      <td>10</td>\n",
       "      <td>0</td>\n",
       "    </tr>\n",
       "    <tr>\n",
       "      <th>3</th>\n",
       "      <td>3</td>\n",
       "      <td>30</td>\n",
       "      <td>70000</td>\n",
       "      <td>RENT</td>\n",
       "      <td>14.0</td>\n",
       "      <td>VENTURE</td>\n",
       "      <td>B</td>\n",
       "      <td>12000</td>\n",
       "      <td>11.11</td>\n",
       "      <td>0.17</td>\n",
       "      <td>N</td>\n",
       "      <td>5</td>\n",
       "      <td>0</td>\n",
       "    </tr>\n",
       "    <tr>\n",
       "      <th>4</th>\n",
       "      <td>4</td>\n",
       "      <td>22</td>\n",
       "      <td>60000</td>\n",
       "      <td>RENT</td>\n",
       "      <td>2.0</td>\n",
       "      <td>MEDICAL</td>\n",
       "      <td>A</td>\n",
       "      <td>6000</td>\n",
       "      <td>6.92</td>\n",
       "      <td>0.10</td>\n",
       "      <td>N</td>\n",
       "      <td>3</td>\n",
       "      <td>0</td>\n",
       "    </tr>\n",
       "    <tr>\n",
       "      <th>...</th>\n",
       "      <td>...</td>\n",
       "      <td>...</td>\n",
       "      <td>...</td>\n",
       "      <td>...</td>\n",
       "      <td>...</td>\n",
       "      <td>...</td>\n",
       "      <td>...</td>\n",
       "      <td>...</td>\n",
       "      <td>...</td>\n",
       "      <td>...</td>\n",
       "      <td>...</td>\n",
       "      <td>...</td>\n",
       "      <td>...</td>\n",
       "    </tr>\n",
       "    <tr>\n",
       "      <th>58640</th>\n",
       "      <td>58640</td>\n",
       "      <td>34</td>\n",
       "      <td>120000</td>\n",
       "      <td>MORTGAGE</td>\n",
       "      <td>5.0</td>\n",
       "      <td>EDUCATION</td>\n",
       "      <td>D</td>\n",
       "      <td>25000</td>\n",
       "      <td>15.95</td>\n",
       "      <td>0.21</td>\n",
       "      <td>Y</td>\n",
       "      <td>10</td>\n",
       "      <td>0</td>\n",
       "    </tr>\n",
       "    <tr>\n",
       "      <th>58641</th>\n",
       "      <td>58641</td>\n",
       "      <td>28</td>\n",
       "      <td>28800</td>\n",
       "      <td>RENT</td>\n",
       "      <td>0.0</td>\n",
       "      <td>MEDICAL</td>\n",
       "      <td>C</td>\n",
       "      <td>10000</td>\n",
       "      <td>12.73</td>\n",
       "      <td>0.35</td>\n",
       "      <td>N</td>\n",
       "      <td>8</td>\n",
       "      <td>1</td>\n",
       "    </tr>\n",
       "    <tr>\n",
       "      <th>58642</th>\n",
       "      <td>58642</td>\n",
       "      <td>23</td>\n",
       "      <td>44000</td>\n",
       "      <td>RENT</td>\n",
       "      <td>7.0</td>\n",
       "      <td>EDUCATION</td>\n",
       "      <td>D</td>\n",
       "      <td>6800</td>\n",
       "      <td>16.00</td>\n",
       "      <td>0.15</td>\n",
       "      <td>N</td>\n",
       "      <td>2</td>\n",
       "      <td>1</td>\n",
       "    </tr>\n",
       "    <tr>\n",
       "      <th>58643</th>\n",
       "      <td>58643</td>\n",
       "      <td>22</td>\n",
       "      <td>30000</td>\n",
       "      <td>RENT</td>\n",
       "      <td>2.0</td>\n",
       "      <td>EDUCATION</td>\n",
       "      <td>A</td>\n",
       "      <td>5000</td>\n",
       "      <td>8.90</td>\n",
       "      <td>0.17</td>\n",
       "      <td>N</td>\n",
       "      <td>3</td>\n",
       "      <td>0</td>\n",
       "    </tr>\n",
       "    <tr>\n",
       "      <th>58644</th>\n",
       "      <td>58644</td>\n",
       "      <td>31</td>\n",
       "      <td>75000</td>\n",
       "      <td>MORTGAGE</td>\n",
       "      <td>2.0</td>\n",
       "      <td>VENTURE</td>\n",
       "      <td>B</td>\n",
       "      <td>15000</td>\n",
       "      <td>11.11</td>\n",
       "      <td>0.20</td>\n",
       "      <td>N</td>\n",
       "      <td>5</td>\n",
       "      <td>0</td>\n",
       "    </tr>\n",
       "  </tbody>\n",
       "</table>\n",
       "<p>58645 rows × 13 columns</p>\n",
       "</div>"
      ],
      "text/plain": [
       "          id  person_age  person_income person_home_ownership  \\\n",
       "0          0          37          35000                  RENT   \n",
       "1          1          22          56000                   OWN   \n",
       "2          2          29          28800                   OWN   \n",
       "3          3          30          70000                  RENT   \n",
       "4          4          22          60000                  RENT   \n",
       "...      ...         ...            ...                   ...   \n",
       "58640  58640          34         120000              MORTGAGE   \n",
       "58641  58641          28          28800                  RENT   \n",
       "58642  58642          23          44000                  RENT   \n",
       "58643  58643          22          30000                  RENT   \n",
       "58644  58644          31          75000              MORTGAGE   \n",
       "\n",
       "       person_emp_length loan_intent loan_grade  loan_amnt  loan_int_rate  \\\n",
       "0                    0.0   EDUCATION          B       6000          11.49   \n",
       "1                    6.0     MEDICAL          C       4000          13.35   \n",
       "2                    8.0    PERSONAL          A       6000           8.90   \n",
       "3                   14.0     VENTURE          B      12000          11.11   \n",
       "4                    2.0     MEDICAL          A       6000           6.92   \n",
       "...                  ...         ...        ...        ...            ...   \n",
       "58640                5.0   EDUCATION          D      25000          15.95   \n",
       "58641                0.0     MEDICAL          C      10000          12.73   \n",
       "58642                7.0   EDUCATION          D       6800          16.00   \n",
       "58643                2.0   EDUCATION          A       5000           8.90   \n",
       "58644                2.0     VENTURE          B      15000          11.11   \n",
       "\n",
       "       loan_percent_income cb_person_default_on_file  \\\n",
       "0                     0.17                         N   \n",
       "1                     0.07                         N   \n",
       "2                     0.21                         N   \n",
       "3                     0.17                         N   \n",
       "4                     0.10                         N   \n",
       "...                    ...                       ...   \n",
       "58640                 0.21                         Y   \n",
       "58641                 0.35                         N   \n",
       "58642                 0.15                         N   \n",
       "58643                 0.17                         N   \n",
       "58644                 0.20                         N   \n",
       "\n",
       "       cb_person_cred_hist_length  loan_status  \n",
       "0                              14            0  \n",
       "1                               2            0  \n",
       "2                              10            0  \n",
       "3                               5            0  \n",
       "4                               3            0  \n",
       "...                           ...          ...  \n",
       "58640                          10            0  \n",
       "58641                           8            1  \n",
       "58642                           2            1  \n",
       "58643                           3            0  \n",
       "58644                           5            0  \n",
       "\n",
       "[58645 rows x 13 columns]"
      ]
     },
     "execution_count": 4,
     "metadata": {},
     "output_type": "execute_result"
    }
   ],
   "source": [
    "loans_train_df"
   ]
  },
  {
   "cell_type": "code",
   "execution_count": 5,
   "id": "5b1d5875-adc2-4979-95eb-01d4bee8ed07",
   "metadata": {},
   "outputs": [
    {
     "data": {
      "text/html": [
       "<div>\n",
       "<style scoped>\n",
       "    .dataframe tbody tr th:only-of-type {\n",
       "        vertical-align: middle;\n",
       "    }\n",
       "\n",
       "    .dataframe tbody tr th {\n",
       "        vertical-align: top;\n",
       "    }\n",
       "\n",
       "    .dataframe thead th {\n",
       "        text-align: right;\n",
       "    }\n",
       "</style>\n",
       "<table border=\"1\" class=\"dataframe\">\n",
       "  <thead>\n",
       "    <tr style=\"text-align: right;\">\n",
       "      <th></th>\n",
       "      <th>id</th>\n",
       "      <th>person_age</th>\n",
       "      <th>person_income</th>\n",
       "      <th>person_home_ownership</th>\n",
       "      <th>person_emp_length</th>\n",
       "      <th>loan_intent</th>\n",
       "      <th>loan_grade</th>\n",
       "      <th>loan_amnt</th>\n",
       "      <th>loan_int_rate</th>\n",
       "      <th>loan_percent_income</th>\n",
       "      <th>cb_person_default_on_file</th>\n",
       "      <th>cb_person_cred_hist_length</th>\n",
       "    </tr>\n",
       "  </thead>\n",
       "  <tbody>\n",
       "    <tr>\n",
       "      <th>0</th>\n",
       "      <td>58645</td>\n",
       "      <td>23</td>\n",
       "      <td>69000</td>\n",
       "      <td>RENT</td>\n",
       "      <td>3.0</td>\n",
       "      <td>HOMEIMPROVEMENT</td>\n",
       "      <td>F</td>\n",
       "      <td>25000</td>\n",
       "      <td>15.76</td>\n",
       "      <td>0.36</td>\n",
       "      <td>N</td>\n",
       "      <td>2</td>\n",
       "    </tr>\n",
       "    <tr>\n",
       "      <th>1</th>\n",
       "      <td>58646</td>\n",
       "      <td>26</td>\n",
       "      <td>96000</td>\n",
       "      <td>MORTGAGE</td>\n",
       "      <td>6.0</td>\n",
       "      <td>PERSONAL</td>\n",
       "      <td>C</td>\n",
       "      <td>10000</td>\n",
       "      <td>12.68</td>\n",
       "      <td>0.10</td>\n",
       "      <td>Y</td>\n",
       "      <td>4</td>\n",
       "    </tr>\n",
       "    <tr>\n",
       "      <th>2</th>\n",
       "      <td>58647</td>\n",
       "      <td>26</td>\n",
       "      <td>30000</td>\n",
       "      <td>RENT</td>\n",
       "      <td>5.0</td>\n",
       "      <td>VENTURE</td>\n",
       "      <td>E</td>\n",
       "      <td>4000</td>\n",
       "      <td>17.19</td>\n",
       "      <td>0.13</td>\n",
       "      <td>Y</td>\n",
       "      <td>2</td>\n",
       "    </tr>\n",
       "    <tr>\n",
       "      <th>3</th>\n",
       "      <td>58648</td>\n",
       "      <td>33</td>\n",
       "      <td>50000</td>\n",
       "      <td>RENT</td>\n",
       "      <td>4.0</td>\n",
       "      <td>DEBTCONSOLIDATION</td>\n",
       "      <td>A</td>\n",
       "      <td>7000</td>\n",
       "      <td>8.90</td>\n",
       "      <td>0.14</td>\n",
       "      <td>N</td>\n",
       "      <td>7</td>\n",
       "    </tr>\n",
       "    <tr>\n",
       "      <th>4</th>\n",
       "      <td>58649</td>\n",
       "      <td>26</td>\n",
       "      <td>102000</td>\n",
       "      <td>MORTGAGE</td>\n",
       "      <td>8.0</td>\n",
       "      <td>HOMEIMPROVEMENT</td>\n",
       "      <td>D</td>\n",
       "      <td>15000</td>\n",
       "      <td>16.32</td>\n",
       "      <td>0.15</td>\n",
       "      <td>Y</td>\n",
       "      <td>4</td>\n",
       "    </tr>\n",
       "    <tr>\n",
       "      <th>...</th>\n",
       "      <td>...</td>\n",
       "      <td>...</td>\n",
       "      <td>...</td>\n",
       "      <td>...</td>\n",
       "      <td>...</td>\n",
       "      <td>...</td>\n",
       "      <td>...</td>\n",
       "      <td>...</td>\n",
       "      <td>...</td>\n",
       "      <td>...</td>\n",
       "      <td>...</td>\n",
       "      <td>...</td>\n",
       "    </tr>\n",
       "    <tr>\n",
       "      <th>39093</th>\n",
       "      <td>97738</td>\n",
       "      <td>22</td>\n",
       "      <td>31200</td>\n",
       "      <td>MORTGAGE</td>\n",
       "      <td>2.0</td>\n",
       "      <td>DEBTCONSOLIDATION</td>\n",
       "      <td>B</td>\n",
       "      <td>3000</td>\n",
       "      <td>10.37</td>\n",
       "      <td>0.10</td>\n",
       "      <td>N</td>\n",
       "      <td>4</td>\n",
       "    </tr>\n",
       "    <tr>\n",
       "      <th>39094</th>\n",
       "      <td>97739</td>\n",
       "      <td>22</td>\n",
       "      <td>48000</td>\n",
       "      <td>MORTGAGE</td>\n",
       "      <td>6.0</td>\n",
       "      <td>EDUCATION</td>\n",
       "      <td>A</td>\n",
       "      <td>7000</td>\n",
       "      <td>6.03</td>\n",
       "      <td>0.15</td>\n",
       "      <td>N</td>\n",
       "      <td>3</td>\n",
       "    </tr>\n",
       "    <tr>\n",
       "      <th>39095</th>\n",
       "      <td>97740</td>\n",
       "      <td>51</td>\n",
       "      <td>60000</td>\n",
       "      <td>MORTGAGE</td>\n",
       "      <td>0.0</td>\n",
       "      <td>PERSONAL</td>\n",
       "      <td>A</td>\n",
       "      <td>15000</td>\n",
       "      <td>7.51</td>\n",
       "      <td>0.25</td>\n",
       "      <td>N</td>\n",
       "      <td>25</td>\n",
       "    </tr>\n",
       "    <tr>\n",
       "      <th>39096</th>\n",
       "      <td>97741</td>\n",
       "      <td>22</td>\n",
       "      <td>36000</td>\n",
       "      <td>MORTGAGE</td>\n",
       "      <td>4.0</td>\n",
       "      <td>PERSONAL</td>\n",
       "      <td>D</td>\n",
       "      <td>14000</td>\n",
       "      <td>15.62</td>\n",
       "      <td>0.39</td>\n",
       "      <td>Y</td>\n",
       "      <td>4</td>\n",
       "    </tr>\n",
       "    <tr>\n",
       "      <th>39097</th>\n",
       "      <td>97742</td>\n",
       "      <td>31</td>\n",
       "      <td>45000</td>\n",
       "      <td>RENT</td>\n",
       "      <td>6.0</td>\n",
       "      <td>DEBTCONSOLIDATION</td>\n",
       "      <td>B</td>\n",
       "      <td>19450</td>\n",
       "      <td>9.91</td>\n",
       "      <td>0.44</td>\n",
       "      <td>N</td>\n",
       "      <td>9</td>\n",
       "    </tr>\n",
       "  </tbody>\n",
       "</table>\n",
       "<p>39098 rows × 12 columns</p>\n",
       "</div>"
      ],
      "text/plain": [
       "          id  person_age  person_income person_home_ownership  \\\n",
       "0      58645          23          69000                  RENT   \n",
       "1      58646          26          96000              MORTGAGE   \n",
       "2      58647          26          30000                  RENT   \n",
       "3      58648          33          50000                  RENT   \n",
       "4      58649          26         102000              MORTGAGE   \n",
       "...      ...         ...            ...                   ...   \n",
       "39093  97738          22          31200              MORTGAGE   \n",
       "39094  97739          22          48000              MORTGAGE   \n",
       "39095  97740          51          60000              MORTGAGE   \n",
       "39096  97741          22          36000              MORTGAGE   \n",
       "39097  97742          31          45000                  RENT   \n",
       "\n",
       "       person_emp_length        loan_intent loan_grade  loan_amnt  \\\n",
       "0                    3.0    HOMEIMPROVEMENT          F      25000   \n",
       "1                    6.0           PERSONAL          C      10000   \n",
       "2                    5.0            VENTURE          E       4000   \n",
       "3                    4.0  DEBTCONSOLIDATION          A       7000   \n",
       "4                    8.0    HOMEIMPROVEMENT          D      15000   \n",
       "...                  ...                ...        ...        ...   \n",
       "39093                2.0  DEBTCONSOLIDATION          B       3000   \n",
       "39094                6.0          EDUCATION          A       7000   \n",
       "39095                0.0           PERSONAL          A      15000   \n",
       "39096                4.0           PERSONAL          D      14000   \n",
       "39097                6.0  DEBTCONSOLIDATION          B      19450   \n",
       "\n",
       "       loan_int_rate  loan_percent_income cb_person_default_on_file  \\\n",
       "0              15.76                 0.36                         N   \n",
       "1              12.68                 0.10                         Y   \n",
       "2              17.19                 0.13                         Y   \n",
       "3               8.90                 0.14                         N   \n",
       "4              16.32                 0.15                         Y   \n",
       "...              ...                  ...                       ...   \n",
       "39093          10.37                 0.10                         N   \n",
       "39094           6.03                 0.15                         N   \n",
       "39095           7.51                 0.25                         N   \n",
       "39096          15.62                 0.39                         Y   \n",
       "39097           9.91                 0.44                         N   \n",
       "\n",
       "       cb_person_cred_hist_length  \n",
       "0                               2  \n",
       "1                               4  \n",
       "2                               2  \n",
       "3                               7  \n",
       "4                               4  \n",
       "...                           ...  \n",
       "39093                           4  \n",
       "39094                           3  \n",
       "39095                          25  \n",
       "39096                           4  \n",
       "39097                           9  \n",
       "\n",
       "[39098 rows x 12 columns]"
      ]
     },
     "execution_count": 5,
     "metadata": {},
     "output_type": "execute_result"
    }
   ],
   "source": [
    "loans_test_df"
   ]
  },
  {
   "cell_type": "markdown",
   "id": "ddf1a804-5d8f-4a9c-98e8-34b5e80f55c2",
   "metadata": {},
   "source": [
    "## 2. Data Cleaning & Analysis"
   ]
  },
  {
   "cell_type": "code",
   "execution_count": 6,
   "id": "c9dabf6b-3e37-4ede-9f41-31fc9ad6ec61",
   "metadata": {},
   "outputs": [],
   "source": [
    "import matplotlib.pyplot as plt \n",
    "def show_hist(x, bins_count):\n",
    "    mean = x.mean()\n",
    "    sd = x.std()\n",
    "      \n",
    "    plt.hist(x, color='lightgreen', ec='black', bins=bins_count)\n",
    "    plt.show() "
   ]
  },
  {
   "cell_type": "code",
   "execution_count": 7,
   "id": "18a3213a-477e-457e-bb7c-e3fc99e0c8b8",
   "metadata": {},
   "outputs": [],
   "source": [
    "def standardize(series):\n",
    "    return (series - series.mean()) / series.std();"
   ]
  },
  {
   "cell_type": "code",
   "execution_count": 8,
   "id": "7ee9d456-2523-4ae1-b454-127027912cc3",
   "metadata": {},
   "outputs": [],
   "source": [
    "def standardize_test(series_train, series_test):\n",
    "    return (series_test - series_train.mean()) / series_train.std();"
   ]
  },
  {
   "cell_type": "code",
   "execution_count": 9,
   "id": "376e948c-9263-498e-b6ab-5ba9720c5af1",
   "metadata": {},
   "outputs": [],
   "source": [
    "def normalize(series):\n",
    "        return (series - series.min()) / (series.max() - series.min())"
   ]
  },
  {
   "cell_type": "code",
   "execution_count": 10,
   "id": "2895f341-b39d-4213-987c-246aaab71a4f",
   "metadata": {},
   "outputs": [],
   "source": [
    "def normalize_test(series_train, series_test):\n",
    "    return (series_test - series_train.min()) / (series_train.max() - series_train.min())"
   ]
  },
  {
   "cell_type": "code",
   "execution_count": 11,
   "id": "e0699fa7-ccc7-42a9-a511-0b310afff8e5",
   "metadata": {},
   "outputs": [],
   "source": [
    "def showRange(series):\n",
    "        return \"Min: \" + str(series.min()) + \" Max: \" + str(series.max()) + \" Range: \" + str(series.max() - series.min());"
   ]
  },
  {
   "cell_type": "code",
   "execution_count": 12,
   "id": "1f260b24-b501-4407-93c7-bb5cc437de4e",
   "metadata": {},
   "outputs": [],
   "source": [
    "def getMissingEntriesCount(series):\n",
    "        return series.isnull().sum();"
   ]
  },
  {
   "cell_type": "code",
   "execution_count": 13,
   "id": "ed8907c2-175e-4bd2-84a3-ee192b88875d",
   "metadata": {},
   "outputs": [],
   "source": [
    "cleaned_loans_train_df = loans_train_df.copy(deep=True)\n",
    "cleaned_loans_test_df = loans_test_df.copy(deep=True)"
   ]
  },
  {
   "cell_type": "markdown",
   "id": "abb209c4-2193-4a73-aafe-af184aae7501",
   "metadata": {},
   "source": [
    "### 2.1 Person Age"
   ]
  },
  {
   "cell_type": "code",
   "execution_count": 14,
   "id": "41453cfb-1d7f-4adf-8cd7-3e88628102b8",
   "metadata": {},
   "outputs": [
    {
     "name": "stdout",
     "output_type": "stream",
     "text": [
      "Min: 20 Max: 123 Range: 103\n"
     ]
    }
   ],
   "source": [
    "print(showRange(cleaned_loans_train_df[\"person_age\"]))"
   ]
  },
  {
   "cell_type": "code",
   "execution_count": 15,
   "id": "72fd7c7c-b7dc-4e7f-92c1-c526c1b87735",
   "metadata": {},
   "outputs": [
    {
     "name": "stdout",
     "output_type": "stream",
     "text": [
      "0\n"
     ]
    }
   ],
   "source": [
    "print(getMissingEntriesCount(cleaned_loans_train_df[\"person_age\"]))"
   ]
  },
  {
   "cell_type": "code",
   "execution_count": 16,
   "id": "570c344e-98a6-4ce9-8b52-a5b85ce0fb46",
   "metadata": {},
   "outputs": [
    {
     "data": {
      "text/plain": [
       "<Axes: ylabel='person_age'>"
      ]
     },
     "execution_count": 16,
     "metadata": {},
     "output_type": "execute_result"
    },
    {
     "data": {
      "image/png": "[encoded data removed]",
      "text/plain": [
       "<Figure size 640x480 with 1 Axes>"
      ]
     },
     "metadata": {},
     "output_type": "display_data"
    }
   ],
   "source": [
    "import seaborn as sns\n",
    "\n",
    "sns.boxplot(cleaned_loans_train_df[\"person_age\"])"
   ]
  },
  {
   "cell_type": "code",
   "execution_count": 17,
   "id": "878ddeee-3924-4c9e-93e4-77d80b88f799",
   "metadata": {},
   "outputs": [
    {
     "data": {
      "text/html": [
       "<div>\n",
       "<style scoped>\n",
       "    .dataframe tbody tr th:only-of-type {\n",
       "        vertical-align: middle;\n",
       "    }\n",
       "\n",
       "    .dataframe tbody tr th {\n",
       "        vertical-align: top;\n",
       "    }\n",
       "\n",
       "    .dataframe thead th {\n",
       "        text-align: right;\n",
       "    }\n",
       "</style>\n",
       "<table border=\"1\" class=\"dataframe\">\n",
       "  <thead>\n",
       "    <tr style=\"text-align: right;\">\n",
       "      <th></th>\n",
       "      <th>id</th>\n",
       "      <th>person_age</th>\n",
       "      <th>person_income</th>\n",
       "      <th>person_home_ownership</th>\n",
       "      <th>person_emp_length</th>\n",
       "      <th>loan_intent</th>\n",
       "      <th>loan_grade</th>\n",
       "      <th>loan_amnt</th>\n",
       "      <th>loan_int_rate</th>\n",
       "      <th>loan_percent_income</th>\n",
       "      <th>cb_person_default_on_file</th>\n",
       "      <th>cb_person_cred_hist_length</th>\n",
       "      <th>loan_status</th>\n",
       "    </tr>\n",
       "  </thead>\n",
       "  <tbody>\n",
       "    <tr>\n",
       "      <th>47336</th>\n",
       "      <td>47336</td>\n",
       "      <td>123</td>\n",
       "      <td>36000</td>\n",
       "      <td>MORTGAGE</td>\n",
       "      <td>7.0</td>\n",
       "      <td>PERSONAL</td>\n",
       "      <td>B</td>\n",
       "      <td>6700</td>\n",
       "      <td>10.75</td>\n",
       "      <td>0.18</td>\n",
       "      <td>N</td>\n",
       "      <td>4</td>\n",
       "      <td>0</td>\n",
       "    </tr>\n",
       "  </tbody>\n",
       "</table>\n",
       "</div>"
      ],
      "text/plain": [
       "          id  person_age  person_income person_home_ownership  \\\n",
       "47336  47336         123          36000              MORTGAGE   \n",
       "\n",
       "       person_emp_length loan_intent loan_grade  loan_amnt  loan_int_rate  \\\n",
       "47336                7.0    PERSONAL          B       6700          10.75   \n",
       "\n",
       "       loan_percent_income cb_person_default_on_file  \\\n",
       "47336                 0.18                         N   \n",
       "\n",
       "       cb_person_cred_hist_length  loan_status  \n",
       "47336                           4            0  "
      ]
     },
     "execution_count": 17,
     "metadata": {},
     "output_type": "execute_result"
    }
   ],
   "source": [
    "cleaned_loans_train_df[cleaned_loans_train_df.person_age > 100]"
   ]
  },
  {
   "cell_type": "code",
   "execution_count": 18,
   "id": "ba6c2dd2-6a0e-461c-9f15-6d61363c9a7d",
   "metadata": {},
   "outputs": [],
   "source": [
    "synth_person_age_mean = cleaned_loans_train_df[cleaned_loans_train_df.person_age < 100][\"person_age\"].mean()\n",
    "\n",
    "cleaned_loans_train_df.replace({\"person_age\": 123}, synth_person_age_mean, inplace=True)"
   ]
  },
  {
   "cell_type": "code",
   "execution_count": 19,
   "id": "28c1f8e6-909d-4ea7-8b96-ff2db169e9c7",
   "metadata": {},
   "outputs": [
    {
     "data": {
      "text/plain": [
       "<Axes: ylabel='person_age'>"
      ]
     },
     "execution_count": 19,
     "metadata": {},
     "output_type": "execute_result"
    },
    {
     "data": {
      "image/png": "[encoded data removed]",
      "text/plain": [
       "<Figure size 640x480 with 1 Axes>"
      ]
     },
     "metadata": {},
     "output_type": "display_data"
    }
   ],
   "source": [
    "sns.boxplot(cleaned_loans_train_df[\"person_age\"])"
   ]
  },
  {
   "cell_type": "markdown",
   "id": "6a623a14-84c5-4069-9ee7-8e86a9fb3236",
   "metadata": {},
   "source": [
    "It can be seen that the age does not have a normal distribution."
   ]
  },
  {
   "cell_type": "code",
   "execution_count": 20,
   "id": "240c2746-8426-43a8-a87f-db353d29b9f7",
   "metadata": {},
   "outputs": [
    {
     "data": {
      "image/png": "[encoded data removed]",
      "text/plain": [
       "<Figure size 640x480 with 1 Axes>"
      ]
     },
     "metadata": {},
     "output_type": "display_data"
    }
   ],
   "source": [
    "show_hist(cleaned_loans_train_df[\"person_age\"], 103)"
   ]
  },
  {
   "cell_type": "markdown",
   "id": "8cce749e-e1da-4b49-aeec-ebca90038e49",
   "metadata": {},
   "source": [
    "It can also be seen that the age data has lots of outliers"
   ]
  },
  {
   "cell_type": "code",
   "execution_count": 21,
   "id": "b7dc14c9-3c01-4ee9-87c9-ef638ba84c3c",
   "metadata": {},
   "outputs": [
    {
     "data": {
      "text/plain": [
       "0        1.569810\n",
       "1       -0.921749\n",
       "2        0.240979\n",
       "3        0.407083\n",
       "4       -0.921749\n",
       "           ...   \n",
       "58640    1.071498\n",
       "58641    0.074875\n",
       "58642   -0.755645\n",
       "58643   -0.921749\n",
       "58644    0.573187\n",
       "Name: person_age, Length: 58645, dtype: float64"
      ]
     },
     "execution_count": 21,
     "metadata": {},
     "output_type": "execute_result"
    }
   ],
   "source": [
    "# Standardize Ages\n",
    "standardized_train_age = standardize(cleaned_loans_train_df[\"person_age\"])\n",
    "standardized_test_age = standardize_test(cleaned_loans_train_df[\"person_age\"], cleaned_loans_test_df[\"person_age\"])\n",
    "standardized_train_age"
   ]
  },
  {
   "cell_type": "code",
   "execution_count": 22,
   "id": "d0069034-518e-42c3-8639-3f918f97e2ae",
   "metadata": {},
   "outputs": [
    {
     "data": {
      "image/png": "[encoded data removed]",
      "text/plain": [
       "<Figure size 640x480 with 1 Axes>"
      ]
     },
     "metadata": {},
     "output_type": "display_data"
    }
   ],
   "source": [
    "show_hist(standardized_train_age, 103)"
   ]
  },
  {
   "cell_type": "code",
   "execution_count": 23,
   "id": "ec2b06ff-7543-469a-a600-6bffcfca2d72",
   "metadata": {},
   "outputs": [
    {
     "data": {
      "text/plain": [
       "<Axes: ylabel='person_age'>"
      ]
     },
     "execution_count": 23,
     "metadata": {},
     "output_type": "execute_result"
    },
    {
     "data": {
      "image/png": "[encoded data removed]",
      "text/plain": [
       "<Figure size 640x480 with 1 Axes>"
      ]
     },
     "metadata": {},
     "output_type": "display_data"
    }
   ],
   "source": [
    "sns.boxplot(standardized_train_age)"
   ]
  },
  {
   "cell_type": "code",
   "execution_count": 24,
   "id": "b7b0d4b5-5d2b-49c2-b8fa-bbbc348ab21c",
   "metadata": {},
   "outputs": [],
   "source": [
    "cleaned_loans_train_df[\"person_age\"] = standardized_train_age.copy(deep=True)\n",
    "cleaned_loans_test_df[\"person_age\"] = standardized_test_age.copy(deep=True)"
   ]
  },
  {
   "cell_type": "markdown",
   "id": "8c37281c-2ab8-4f0c-b661-b8ac1c9e5e98",
   "metadata": {},
   "source": [
    "### 2.2 Person Income"
   ]
  },
  {
   "cell_type": "code",
   "execution_count": 25,
   "id": "bb52c77d-db5d-48f7-a66b-37e9299d1a4c",
   "metadata": {},
   "outputs": [
    {
     "name": "stdout",
     "output_type": "stream",
     "text": [
      "Min: 4200 Max: 1900000 Range: 1895800\n"
     ]
    }
   ],
   "source": [
    "print(showRange(cleaned_loans_train_df[\"person_income\"]))"
   ]
  },
  {
   "cell_type": "code",
   "execution_count": 26,
   "id": "7f7d8364-82e1-4380-a54f-5b9a07e0b420",
   "metadata": {},
   "outputs": [
    {
     "name": "stdout",
     "output_type": "stream",
     "text": [
      "0\n"
     ]
    }
   ],
   "source": [
    "print(getMissingEntriesCount(cleaned_loans_train_df[\"person_income\"]))"
   ]
  },
  {
   "cell_type": "markdown",
   "id": "a828286e-f809-4cb7-96e0-c66c65f26551",
   "metadata": {},
   "source": [
    "It can be seen that the income does not have a normal distribution."
   ]
  },
  {
   "cell_type": "code",
   "execution_count": 27,
   "id": "6aa349f7-7448-4374-9453-5a8551d1c07f",
   "metadata": {},
   "outputs": [
    {
     "data": {
      "image/png": "[encoded data removed]",
      "text/plain": [
       "<Figure size 640x480 with 1 Axes>"
      ]
     },
     "metadata": {},
     "output_type": "display_data"
    }
   ],
   "source": [
    "show_hist(cleaned_loans_train_df[\"person_income\"], 100)"
   ]
  },
  {
   "cell_type": "markdown",
   "id": "4d0f11b6-61ed-46ba-a8f5-a6311cbf1b12",
   "metadata": {},
   "source": [
    "It can also be seen that the age data has lots of outliers"
   ]
  },
  {
   "cell_type": "code",
   "execution_count": 28,
   "id": "060c93cb-0e99-484f-b086-716dfc890534",
   "metadata": {},
   "outputs": [
    {
     "data": {
      "text/plain": [
       "<Axes: ylabel='person_income'>"
      ]
     },
     "execution_count": 28,
     "metadata": {},
     "output_type": "execute_result"
    },
    {
     "data": {
      "image/png": "[encoded data removed]",
      "text/plain": [
       "<Figure size 640x480 with 1 Axes>"
      ]
     },
     "metadata": {},
     "output_type": "display_data"
    }
   ],
   "source": [
    "sns.boxplot(cleaned_loans_train_df[\"person_income\"])"
   ]
  },
  {
   "cell_type": "code",
   "execution_count": 29,
   "id": "b28b4d26-e440-4e23-b089-22de0adfc522",
   "metadata": {},
   "outputs": [
    {
     "data": {
      "image/png": "[encoded data removed]",
      "text/plain": [
       "<Figure size 640x480 with 1 Axes>"
      ]
     },
     "metadata": {},
     "output_type": "display_data"
    }
   ],
   "source": [
    "#Log transformation (Add 1 to all values to avoid invalid, then perform log transformation)\n",
    "log_trans_train_person_income_df = cleaned_loans_train_df[\"person_income\"]\n",
    "log_trans_test_person_income_df = cleaned_loans_test_df[\"person_income\"]\n",
    "\n",
    "show_hist(log_trans_train_person_income_df, 100)"
   ]
  },
  {
   "cell_type": "code",
   "execution_count": 30,
   "id": "509e0207-5228-437e-b562-4ffcd16bc904",
   "metadata": {},
   "outputs": [
    {
     "name": "stdout",
     "output_type": "stream",
     "text": [
      "Min: 3.6232492903979003 Max: 6.278753600952829 Range: 2.6555043105549285\n"
     ]
    },
    {
     "data": {
      "image/png": "[encoded data removed]",
      "text/plain": [
       "<Figure size 640x480 with 1 Axes>"
      ]
     },
     "metadata": {},
     "output_type": "display_data"
    }
   ],
   "source": [
    "log_trans_train_person_income_df = np.log10(log_trans_train_person_income_df)\n",
    "log_trans_test_person_income_df = np.log10(log_trans_test_person_income_df)\n",
    "\n",
    "print(showRange(log_trans_train_person_income_df))\n",
    "show_hist(log_trans_train_person_income_df, 50)"
   ]
  },
  {
   "cell_type": "code",
   "execution_count": 31,
   "id": "adb29391-81f3-4532-896b-580e68c1455c",
   "metadata": {},
   "outputs": [
    {
     "data": {
      "text/plain": [
       "0       -1.081300\n",
       "1       -0.052533\n",
       "2       -1.508067\n",
       "3        0.435895\n",
       "4        0.098482\n",
       "           ...   \n",
       "58640    1.615678\n",
       "58641   -1.508067\n",
       "58642   -0.580400\n",
       "58643   -1.418713\n",
       "58644    0.586910\n",
       "Name: person_income, Length: 58645, dtype: float64"
      ]
     },
     "execution_count": 31,
     "metadata": {},
     "output_type": "execute_result"
    }
   ],
   "source": [
    "# Standardize Income\n",
    "standardized_train_income = standardize(log_trans_train_person_income_df)\n",
    "standardized_test_income = standardize_test(log_trans_train_person_income_df, log_trans_test_person_income_df)\n",
    "\n",
    "standardized_train_income"
   ]
  },
  {
   "cell_type": "code",
   "execution_count": 32,
   "id": "ff0a3c8f-b375-448d-a12e-1597cd06b604",
   "metadata": {},
   "outputs": [
    {
     "data": {
      "image/png": "[encoded data removed]",
      "text/plain": [
       "<Figure size 640x480 with 1 Axes>"
      ]
     },
     "metadata": {},
     "output_type": "display_data"
    }
   ],
   "source": [
    "show_hist(standardized_train_income, 100)"
   ]
  },
  {
   "cell_type": "code",
   "execution_count": 33,
   "id": "1bffa496-c061-4d19-865b-c29b84425d25",
   "metadata": {},
   "outputs": [
    {
     "data": {
      "text/plain": [
       "<Axes: ylabel='person_income'>"
      ]
     },
     "execution_count": 33,
     "metadata": {},
     "output_type": "execute_result"
    },
    {
     "data": {
      "image/png": "[encoded data removed]",
      "text/plain": [
       "<Figure size 640x480 with 1 Axes>"
      ]
     },
     "metadata": {},
     "output_type": "display_data"
    }
   ],
   "source": [
    "sns.boxplot(standardized_train_income)"
   ]
  },
  {
   "cell_type": "code",
   "execution_count": 34,
   "id": "a00b57d7-7987-4002-b386-240b795700e9",
   "metadata": {},
   "outputs": [],
   "source": [
    "cleaned_loans_train_df[\"person_income\"] = standardized_train_income.copy(deep=True)\n",
    "cleaned_loans_test_df[\"person_income\"] = standardized_test_income.copy(deep=True)"
   ]
  },
  {
   "cell_type": "markdown",
   "id": "9b90f187-62a3-4210-a790-bacd67aca86b",
   "metadata": {},
   "source": [
    "### 2.3 Person Home Ownership"
   ]
  },
  {
   "cell_type": "code",
   "execution_count": 35,
   "id": "17b79e60-7029-4d95-a844-ea7782f3c35e",
   "metadata": {},
   "outputs": [
    {
     "name": "stdout",
     "output_type": "stream",
     "text": [
      "person_home_ownership\n",
      "RENT        30594\n",
      "MORTGAGE    24824\n",
      "OWN          3138\n",
      "OTHER          89\n",
      "Name: count, dtype: int64\n"
     ]
    }
   ],
   "source": [
    "print(cleaned_loans_train_df[\"person_home_ownership\"].value_counts())"
   ]
  },
  {
   "cell_type": "code",
   "execution_count": 36,
   "id": "2e04e4a7-0dde-4bf1-bcbc-270d674109a7",
   "metadata": {},
   "outputs": [
    {
     "data": {
      "text/html": [
       "<div>\n",
       "<style scoped>\n",
       "    .dataframe tbody tr th:only-of-type {\n",
       "        vertical-align: middle;\n",
       "    }\n",
       "\n",
       "    .dataframe tbody tr th {\n",
       "        vertical-align: top;\n",
       "    }\n",
       "\n",
       "    .dataframe thead th {\n",
       "        text-align: right;\n",
       "    }\n",
       "</style>\n",
       "<table border=\"1\" class=\"dataframe\">\n",
       "  <thead>\n",
       "    <tr style=\"text-align: right;\">\n",
       "      <th></th>\n",
       "      <th>HOME_OWNERSHIP_MORTGAGE</th>\n",
       "      <th>HOME_OWNERSHIP_OTHER</th>\n",
       "      <th>HOME_OWNERSHIP_OWN</th>\n",
       "      <th>HOME_OWNERSHIP_RENT</th>\n",
       "    </tr>\n",
       "  </thead>\n",
       "  <tbody>\n",
       "    <tr>\n",
       "      <th>0</th>\n",
       "      <td>0</td>\n",
       "      <td>0</td>\n",
       "      <td>0</td>\n",
       "      <td>1</td>\n",
       "    </tr>\n",
       "    <tr>\n",
       "      <th>1</th>\n",
       "      <td>0</td>\n",
       "      <td>0</td>\n",
       "      <td>1</td>\n",
       "      <td>0</td>\n",
       "    </tr>\n",
       "    <tr>\n",
       "      <th>2</th>\n",
       "      <td>0</td>\n",
       "      <td>0</td>\n",
       "      <td>1</td>\n",
       "      <td>0</td>\n",
       "    </tr>\n",
       "    <tr>\n",
       "      <th>3</th>\n",
       "      <td>0</td>\n",
       "      <td>0</td>\n",
       "      <td>0</td>\n",
       "      <td>1</td>\n",
       "    </tr>\n",
       "    <tr>\n",
       "      <th>4</th>\n",
       "      <td>0</td>\n",
       "      <td>0</td>\n",
       "      <td>0</td>\n",
       "      <td>1</td>\n",
       "    </tr>\n",
       "    <tr>\n",
       "      <th>...</th>\n",
       "      <td>...</td>\n",
       "      <td>...</td>\n",
       "      <td>...</td>\n",
       "      <td>...</td>\n",
       "    </tr>\n",
       "    <tr>\n",
       "      <th>58640</th>\n",
       "      <td>1</td>\n",
       "      <td>0</td>\n",
       "      <td>0</td>\n",
       "      <td>0</td>\n",
       "    </tr>\n",
       "    <tr>\n",
       "      <th>58641</th>\n",
       "      <td>0</td>\n",
       "      <td>0</td>\n",
       "      <td>0</td>\n",
       "      <td>1</td>\n",
       "    </tr>\n",
       "    <tr>\n",
       "      <th>58642</th>\n",
       "      <td>0</td>\n",
       "      <td>0</td>\n",
       "      <td>0</td>\n",
       "      <td>1</td>\n",
       "    </tr>\n",
       "    <tr>\n",
       "      <th>58643</th>\n",
       "      <td>0</td>\n",
       "      <td>0</td>\n",
       "      <td>0</td>\n",
       "      <td>1</td>\n",
       "    </tr>\n",
       "    <tr>\n",
       "      <th>58644</th>\n",
       "      <td>1</td>\n",
       "      <td>0</td>\n",
       "      <td>0</td>\n",
       "      <td>0</td>\n",
       "    </tr>\n",
       "  </tbody>\n",
       "</table>\n",
       "<p>58645 rows × 4 columns</p>\n",
       "</div>"
      ],
      "text/plain": [
       "       HOME_OWNERSHIP_MORTGAGE  HOME_OWNERSHIP_OTHER  HOME_OWNERSHIP_OWN  \\\n",
       "0                            0                     0                   0   \n",
       "1                            0                     0                   1   \n",
       "2                            0                     0                   1   \n",
       "3                            0                     0                   0   \n",
       "4                            0                     0                   0   \n",
       "...                        ...                   ...                 ...   \n",
       "58640                        1                     0                   0   \n",
       "58641                        0                     0                   0   \n",
       "58642                        0                     0                   0   \n",
       "58643                        0                     0                   0   \n",
       "58644                        1                     0                   0   \n",
       "\n",
       "       HOME_OWNERSHIP_RENT  \n",
       "0                        1  \n",
       "1                        0  \n",
       "2                        0  \n",
       "3                        1  \n",
       "4                        1  \n",
       "...                    ...  \n",
       "58640                    0  \n",
       "58641                    1  \n",
       "58642                    1  \n",
       "58643                    1  \n",
       "58644                    0  \n",
       "\n",
       "[58645 rows x 4 columns]"
      ]
     },
     "execution_count": 36,
     "metadata": {},
     "output_type": "execute_result"
    }
   ],
   "source": [
    "home_ownership_train_one_hot_df = pd.get_dummies(cleaned_loans_train_df[\"person_home_ownership\"], prefix=\"HOME_OWNERSHIP\").astype(int)\n",
    "home_ownership_test_one_hot_df = pd.get_dummies(cleaned_loans_test_df[\"person_home_ownership\"], prefix=\"HOME_OWNERSHIP\").astype(int)\n",
    "\n",
    "home_ownership_train_one_hot_df"
   ]
  },
  {
   "cell_type": "code",
   "execution_count": 37,
   "id": "73b88edc-4f20-46d9-81bb-a5a8227664b8",
   "metadata": {},
   "outputs": [],
   "source": [
    "cleaned_loans_train_df = pd.concat([cleaned_loans_train_df, home_ownership_train_one_hot_df], axis=1)\n",
    "cleaned_loans_test_df = pd.concat([cleaned_loans_test_df, home_ownership_test_one_hot_df], axis=1)"
   ]
  },
  {
   "cell_type": "code",
   "execution_count": 38,
   "id": "c069c8f2-3857-4597-aefe-867de76dc770",
   "metadata": {},
   "outputs": [],
   "source": [
    "cleaned_loans_train_df.drop(columns=[\"person_home_ownership\"], inplace=True)\n",
    "cleaned_loans_test_df.drop(columns=[\"person_home_ownership\"], inplace=True)"
   ]
  },
  {
   "cell_type": "markdown",
   "id": "10a805f5-0b5a-4736-a173-8564613cff0f",
   "metadata": {},
   "source": [
    "### 2.4 Person Employment Length"
   ]
  },
  {
   "cell_type": "code",
   "execution_count": 39,
   "id": "3d0b3504-8c6f-4e91-a80b-7a2d330886ec",
   "metadata": {},
   "outputs": [
    {
     "name": "stdout",
     "output_type": "stream",
     "text": [
      "Min: 0.0 Max: 123.0 Range: 123.0\n"
     ]
    }
   ],
   "source": [
    "print(showRange(cleaned_loans_train_df[\"person_emp_length\"]))"
   ]
  },
  {
   "cell_type": "code",
   "execution_count": 40,
   "id": "f501c388-7632-4cf5-a6f8-3cb8ed8603d4",
   "metadata": {},
   "outputs": [
    {
     "name": "stdout",
     "output_type": "stream",
     "text": [
      "0\n"
     ]
    }
   ],
   "source": [
    "print(getMissingEntriesCount(cleaned_loans_train_df[\"person_emp_length\"]))"
   ]
  },
  {
   "cell_type": "markdown",
   "id": "cba8654f-2617-4b7d-a672-a0415dc61fca",
   "metadata": {},
   "source": [
    "It can be seen that the income does not have a normal distribution."
   ]
  },
  {
   "cell_type": "markdown",
   "id": "e854f0ba-9aa4-4539-b448-fd5a21f9fb7e",
   "metadata": {},
   "source": [
    "It can also be seen that the age data has lots of outliers"
   ]
  },
  {
   "cell_type": "code",
   "execution_count": 41,
   "id": "600130d7-af33-4936-865d-412e836a8b8a",
   "metadata": {},
   "outputs": [
    {
     "data": {
      "image/png": "[encoded data removed]",
      "text/plain": [
       "<Figure size 640x480 with 1 Axes>"
      ]
     },
     "metadata": {},
     "output_type": "display_data"
    }
   ],
   "source": [
    "show_hist(cleaned_loans_train_df[\"person_emp_length\"], 100)"
   ]
  },
  {
   "cell_type": "code",
   "execution_count": 42,
   "id": "4a0b66e1-72bc-46c4-8885-1d08847e9619",
   "metadata": {},
   "outputs": [
    {
     "data": {
      "text/plain": [
       "<Axes: ylabel='person_emp_length'>"
      ]
     },
     "execution_count": 42,
     "metadata": {},
     "output_type": "execute_result"
    },
    {
     "data": {
      "image/png": "[encoded data removed]",
      "text/plain": [
       "<Figure size 640x480 with 1 Axes>"
      ]
     },
     "metadata": {},
     "output_type": "display_data"
    }
   ],
   "source": [
    "sns.boxplot(cleaned_loans_train_df[\"person_emp_length\"])"
   ]
  },
  {
   "cell_type": "code",
   "execution_count": 43,
   "id": "b570ad54-1e72-4f54-96e0-95b2d4149833",
   "metadata": {},
   "outputs": [
    {
     "data": {
      "text/html": [
       "<div>\n",
       "<style scoped>\n",
       "    .dataframe tbody tr th:only-of-type {\n",
       "        vertical-align: middle;\n",
       "    }\n",
       "\n",
       "    .dataframe tbody tr th {\n",
       "        vertical-align: top;\n",
       "    }\n",
       "\n",
       "    .dataframe thead th {\n",
       "        text-align: right;\n",
       "    }\n",
       "</style>\n",
       "<table border=\"1\" class=\"dataframe\">\n",
       "  <thead>\n",
       "    <tr style=\"text-align: right;\">\n",
       "      <th></th>\n",
       "      <th>id</th>\n",
       "      <th>person_age</th>\n",
       "      <th>person_income</th>\n",
       "      <th>person_emp_length</th>\n",
       "      <th>loan_intent</th>\n",
       "      <th>loan_grade</th>\n",
       "      <th>loan_amnt</th>\n",
       "      <th>loan_int_rate</th>\n",
       "      <th>loan_percent_income</th>\n",
       "      <th>cb_person_default_on_file</th>\n",
       "      <th>cb_person_cred_hist_length</th>\n",
       "      <th>loan_status</th>\n",
       "      <th>HOME_OWNERSHIP_MORTGAGE</th>\n",
       "      <th>HOME_OWNERSHIP_OTHER</th>\n",
       "      <th>HOME_OWNERSHIP_OWN</th>\n",
       "      <th>HOME_OWNERSHIP_RENT</th>\n",
       "    </tr>\n",
       "  </thead>\n",
       "  <tbody>\n",
       "    <tr>\n",
       "      <th>1</th>\n",
       "      <td>1</td>\n",
       "      <td>-0.921749</td>\n",
       "      <td>-0.052533</td>\n",
       "      <td>6.0</td>\n",
       "      <td>MEDICAL</td>\n",
       "      <td>C</td>\n",
       "      <td>4000</td>\n",
       "      <td>13.35</td>\n",
       "      <td>0.07</td>\n",
       "      <td>N</td>\n",
       "      <td>2</td>\n",
       "      <td>0</td>\n",
       "      <td>0</td>\n",
       "      <td>0</td>\n",
       "      <td>1</td>\n",
       "      <td>0</td>\n",
       "    </tr>\n",
       "    <tr>\n",
       "      <th>2</th>\n",
       "      <td>2</td>\n",
       "      <td>0.240979</td>\n",
       "      <td>-1.508067</td>\n",
       "      <td>8.0</td>\n",
       "      <td>PERSONAL</td>\n",
       "      <td>A</td>\n",
       "      <td>6000</td>\n",
       "      <td>8.90</td>\n",
       "      <td>0.21</td>\n",
       "      <td>N</td>\n",
       "      <td>10</td>\n",
       "      <td>0</td>\n",
       "      <td>0</td>\n",
       "      <td>0</td>\n",
       "      <td>1</td>\n",
       "      <td>0</td>\n",
       "    </tr>\n",
       "    <tr>\n",
       "      <th>3</th>\n",
       "      <td>3</td>\n",
       "      <td>0.407083</td>\n",
       "      <td>0.435895</td>\n",
       "      <td>14.0</td>\n",
       "      <td>VENTURE</td>\n",
       "      <td>B</td>\n",
       "      <td>12000</td>\n",
       "      <td>11.11</td>\n",
       "      <td>0.17</td>\n",
       "      <td>N</td>\n",
       "      <td>5</td>\n",
       "      <td>0</td>\n",
       "      <td>0</td>\n",
       "      <td>0</td>\n",
       "      <td>0</td>\n",
       "      <td>1</td>\n",
       "    </tr>\n",
       "    <tr>\n",
       "      <th>4</th>\n",
       "      <td>4</td>\n",
       "      <td>-0.921749</td>\n",
       "      <td>0.098482</td>\n",
       "      <td>2.0</td>\n",
       "      <td>MEDICAL</td>\n",
       "      <td>A</td>\n",
       "      <td>6000</td>\n",
       "      <td>6.92</td>\n",
       "      <td>0.10</td>\n",
       "      <td>N</td>\n",
       "      <td>3</td>\n",
       "      <td>0</td>\n",
       "      <td>0</td>\n",
       "      <td>0</td>\n",
       "      <td>0</td>\n",
       "      <td>1</td>\n",
       "    </tr>\n",
       "    <tr>\n",
       "      <th>5</th>\n",
       "      <td>5</td>\n",
       "      <td>-0.091229</td>\n",
       "      <td>-0.531211</td>\n",
       "      <td>2.0</td>\n",
       "      <td>VENTURE</td>\n",
       "      <td>A</td>\n",
       "      <td>9000</td>\n",
       "      <td>8.94</td>\n",
       "      <td>0.20</td>\n",
       "      <td>N</td>\n",
       "      <td>5</td>\n",
       "      <td>0</td>\n",
       "      <td>0</td>\n",
       "      <td>0</td>\n",
       "      <td>0</td>\n",
       "      <td>1</td>\n",
       "    </tr>\n",
       "    <tr>\n",
       "      <th>...</th>\n",
       "      <td>...</td>\n",
       "      <td>...</td>\n",
       "      <td>...</td>\n",
       "      <td>...</td>\n",
       "      <td>...</td>\n",
       "      <td>...</td>\n",
       "      <td>...</td>\n",
       "      <td>...</td>\n",
       "      <td>...</td>\n",
       "      <td>...</td>\n",
       "      <td>...</td>\n",
       "      <td>...</td>\n",
       "      <td>...</td>\n",
       "      <td>...</td>\n",
       "      <td>...</td>\n",
       "      <td>...</td>\n",
       "    </tr>\n",
       "    <tr>\n",
       "      <th>58639</th>\n",
       "      <td>58639</td>\n",
       "      <td>-0.921749</td>\n",
       "      <td>0.435895</td>\n",
       "      <td>6.0</td>\n",
       "      <td>DEBTCONSOLIDATION</td>\n",
       "      <td>A</td>\n",
       "      <td>10000</td>\n",
       "      <td>7.29</td>\n",
       "      <td>0.14</td>\n",
       "      <td>N</td>\n",
       "      <td>4</td>\n",
       "      <td>0</td>\n",
       "      <td>0</td>\n",
       "      <td>0</td>\n",
       "      <td>0</td>\n",
       "      <td>1</td>\n",
       "    </tr>\n",
       "    <tr>\n",
       "      <th>58640</th>\n",
       "      <td>58640</td>\n",
       "      <td>1.071498</td>\n",
       "      <td>1.615678</td>\n",
       "      <td>5.0</td>\n",
       "      <td>EDUCATION</td>\n",
       "      <td>D</td>\n",
       "      <td>25000</td>\n",
       "      <td>15.95</td>\n",
       "      <td>0.21</td>\n",
       "      <td>Y</td>\n",
       "      <td>10</td>\n",
       "      <td>0</td>\n",
       "      <td>1</td>\n",
       "      <td>0</td>\n",
       "      <td>0</td>\n",
       "      <td>0</td>\n",
       "    </tr>\n",
       "    <tr>\n",
       "      <th>58642</th>\n",
       "      <td>58642</td>\n",
       "      <td>-0.755645</td>\n",
       "      <td>-0.580400</td>\n",
       "      <td>7.0</td>\n",
       "      <td>EDUCATION</td>\n",
       "      <td>D</td>\n",
       "      <td>6800</td>\n",
       "      <td>16.00</td>\n",
       "      <td>0.15</td>\n",
       "      <td>N</td>\n",
       "      <td>2</td>\n",
       "      <td>1</td>\n",
       "      <td>0</td>\n",
       "      <td>0</td>\n",
       "      <td>0</td>\n",
       "      <td>1</td>\n",
       "    </tr>\n",
       "    <tr>\n",
       "      <th>58643</th>\n",
       "      <td>58643</td>\n",
       "      <td>-0.921749</td>\n",
       "      <td>-1.418713</td>\n",
       "      <td>2.0</td>\n",
       "      <td>EDUCATION</td>\n",
       "      <td>A</td>\n",
       "      <td>5000</td>\n",
       "      <td>8.90</td>\n",
       "      <td>0.17</td>\n",
       "      <td>N</td>\n",
       "      <td>3</td>\n",
       "      <td>0</td>\n",
       "      <td>0</td>\n",
       "      <td>0</td>\n",
       "      <td>0</td>\n",
       "      <td>1</td>\n",
       "    </tr>\n",
       "    <tr>\n",
       "      <th>58644</th>\n",
       "      <td>58644</td>\n",
       "      <td>0.573187</td>\n",
       "      <td>0.586910</td>\n",
       "      <td>2.0</td>\n",
       "      <td>VENTURE</td>\n",
       "      <td>B</td>\n",
       "      <td>15000</td>\n",
       "      <td>11.11</td>\n",
       "      <td>0.20</td>\n",
       "      <td>N</td>\n",
       "      <td>5</td>\n",
       "      <td>0</td>\n",
       "      <td>1</td>\n",
       "      <td>0</td>\n",
       "      <td>0</td>\n",
       "      <td>0</td>\n",
       "    </tr>\n",
       "  </tbody>\n",
       "</table>\n",
       "<p>54598 rows × 16 columns</p>\n",
       "</div>"
      ],
      "text/plain": [
       "          id  person_age  person_income  person_emp_length        loan_intent  \\\n",
       "1          1   -0.921749      -0.052533                6.0            MEDICAL   \n",
       "2          2    0.240979      -1.508067                8.0           PERSONAL   \n",
       "3          3    0.407083       0.435895               14.0            VENTURE   \n",
       "4          4   -0.921749       0.098482                2.0            MEDICAL   \n",
       "5          5   -0.091229      -0.531211                2.0            VENTURE   \n",
       "...      ...         ...            ...                ...                ...   \n",
       "58639  58639   -0.921749       0.435895                6.0  DEBTCONSOLIDATION   \n",
       "58640  58640    1.071498       1.615678                5.0          EDUCATION   \n",
       "58642  58642   -0.755645      -0.580400                7.0          EDUCATION   \n",
       "58643  58643   -0.921749      -1.418713                2.0          EDUCATION   \n",
       "58644  58644    0.573187       0.586910                2.0            VENTURE   \n",
       "\n",
       "      loan_grade  loan_amnt  loan_int_rate  loan_percent_income  \\\n",
       "1              C       4000          13.35                 0.07   \n",
       "2              A       6000           8.90                 0.21   \n",
       "3              B      12000          11.11                 0.17   \n",
       "4              A       6000           6.92                 0.10   \n",
       "5              A       9000           8.94                 0.20   \n",
       "...          ...        ...            ...                  ...   \n",
       "58639          A      10000           7.29                 0.14   \n",
       "58640          D      25000          15.95                 0.21   \n",
       "58642          D       6800          16.00                 0.15   \n",
       "58643          A       5000           8.90                 0.17   \n",
       "58644          B      15000          11.11                 0.20   \n",
       "\n",
       "      cb_person_default_on_file  cb_person_cred_hist_length  loan_status  \\\n",
       "1                             N                           2            0   \n",
       "2                             N                          10            0   \n",
       "3                             N                           5            0   \n",
       "4                             N                           3            0   \n",
       "5                             N                           5            0   \n",
       "...                         ...                         ...          ...   \n",
       "58639                         N                           4            0   \n",
       "58640                         Y                          10            0   \n",
       "58642                         N                           2            1   \n",
       "58643                         N                           3            0   \n",
       "58644                         N                           5            0   \n",
       "\n",
       "       HOME_OWNERSHIP_MORTGAGE  HOME_OWNERSHIP_OTHER  HOME_OWNERSHIP_OWN  \\\n",
       "1                            0                     0                   1   \n",
       "2                            0                     0                   1   \n",
       "3                            0                     0                   0   \n",
       "4                            0                     0                   0   \n",
       "5                            0                     0                   0   \n",
       "...                        ...                   ...                 ...   \n",
       "58639                        0                     0                   0   \n",
       "58640                        1                     0                   0   \n",
       "58642                        0                     0                   0   \n",
       "58643                        0                     0                   0   \n",
       "58644                        1                     0                   0   \n",
       "\n",
       "       HOME_OWNERSHIP_RENT  \n",
       "1                        0  \n",
       "2                        0  \n",
       "3                        1  \n",
       "4                        1  \n",
       "5                        1  \n",
       "...                    ...  \n",
       "58639                    1  \n",
       "58640                    0  \n",
       "58642                    1  \n",
       "58643                    1  \n",
       "58644                    0  \n",
       "\n",
       "[54598 rows x 16 columns]"
      ]
     },
     "execution_count": 43,
     "metadata": {},
     "output_type": "execute_result"
    }
   ],
   "source": [
    "cleaned_loans_train_df[cleaned_loans_train_df.person_emp_length >= cleaned_loans_train_df.person_age]"
   ]
  },
  {
   "cell_type": "code",
   "execution_count": 44,
   "id": "a9cef61b-29bf-4bfc-8436-0bc8b9c7b02a",
   "metadata": {},
   "outputs": [
    {
     "data": {
      "text/html": [
       "<div>\n",
       "<style scoped>\n",
       "    .dataframe tbody tr th:only-of-type {\n",
       "        vertical-align: middle;\n",
       "    }\n",
       "\n",
       "    .dataframe tbody tr th {\n",
       "        vertical-align: top;\n",
       "    }\n",
       "\n",
       "    .dataframe thead th {\n",
       "        text-align: right;\n",
       "    }\n",
       "</style>\n",
       "<table border=\"1\" class=\"dataframe\">\n",
       "  <thead>\n",
       "    <tr style=\"text-align: right;\">\n",
       "      <th></th>\n",
       "      <th>id</th>\n",
       "      <th>person_age</th>\n",
       "      <th>person_income</th>\n",
       "      <th>person_emp_length</th>\n",
       "      <th>loan_intent</th>\n",
       "      <th>loan_grade</th>\n",
       "      <th>loan_amnt</th>\n",
       "      <th>loan_int_rate</th>\n",
       "      <th>loan_percent_income</th>\n",
       "      <th>cb_person_default_on_file</th>\n",
       "      <th>cb_person_cred_hist_length</th>\n",
       "      <th>loan_status</th>\n",
       "      <th>HOME_OWNERSHIP_MORTGAGE</th>\n",
       "      <th>HOME_OWNERSHIP_OTHER</th>\n",
       "      <th>HOME_OWNERSHIP_OWN</th>\n",
       "      <th>HOME_OWNERSHIP_RENT</th>\n",
       "    </tr>\n",
       "  </thead>\n",
       "  <tbody>\n",
       "    <tr>\n",
       "      <th>1</th>\n",
       "      <td>1</td>\n",
       "      <td>-0.921749</td>\n",
       "      <td>-0.052533</td>\n",
       "      <td>6.0</td>\n",
       "      <td>MEDICAL</td>\n",
       "      <td>C</td>\n",
       "      <td>4000</td>\n",
       "      <td>13.35</td>\n",
       "      <td>0.07</td>\n",
       "      <td>N</td>\n",
       "      <td>2</td>\n",
       "      <td>0</td>\n",
       "      <td>0</td>\n",
       "      <td>0</td>\n",
       "      <td>1</td>\n",
       "      <td>0</td>\n",
       "    </tr>\n",
       "    <tr>\n",
       "      <th>2</th>\n",
       "      <td>2</td>\n",
       "      <td>0.240979</td>\n",
       "      <td>-1.508067</td>\n",
       "      <td>8.0</td>\n",
       "      <td>PERSONAL</td>\n",
       "      <td>A</td>\n",
       "      <td>6000</td>\n",
       "      <td>8.90</td>\n",
       "      <td>0.21</td>\n",
       "      <td>N</td>\n",
       "      <td>10</td>\n",
       "      <td>0</td>\n",
       "      <td>0</td>\n",
       "      <td>0</td>\n",
       "      <td>1</td>\n",
       "      <td>0</td>\n",
       "    </tr>\n",
       "    <tr>\n",
       "      <th>3</th>\n",
       "      <td>3</td>\n",
       "      <td>0.407083</td>\n",
       "      <td>0.435895</td>\n",
       "      <td>14.0</td>\n",
       "      <td>VENTURE</td>\n",
       "      <td>B</td>\n",
       "      <td>12000</td>\n",
       "      <td>11.11</td>\n",
       "      <td>0.17</td>\n",
       "      <td>N</td>\n",
       "      <td>5</td>\n",
       "      <td>0</td>\n",
       "      <td>0</td>\n",
       "      <td>0</td>\n",
       "      <td>0</td>\n",
       "      <td>1</td>\n",
       "    </tr>\n",
       "    <tr>\n",
       "      <th>4</th>\n",
       "      <td>4</td>\n",
       "      <td>-0.921749</td>\n",
       "      <td>0.098482</td>\n",
       "      <td>2.0</td>\n",
       "      <td>MEDICAL</td>\n",
       "      <td>A</td>\n",
       "      <td>6000</td>\n",
       "      <td>6.92</td>\n",
       "      <td>0.10</td>\n",
       "      <td>N</td>\n",
       "      <td>3</td>\n",
       "      <td>0</td>\n",
       "      <td>0</td>\n",
       "      <td>0</td>\n",
       "      <td>0</td>\n",
       "      <td>1</td>\n",
       "    </tr>\n",
       "    <tr>\n",
       "      <th>5</th>\n",
       "      <td>5</td>\n",
       "      <td>-0.091229</td>\n",
       "      <td>-0.531211</td>\n",
       "      <td>2.0</td>\n",
       "      <td>VENTURE</td>\n",
       "      <td>A</td>\n",
       "      <td>9000</td>\n",
       "      <td>8.94</td>\n",
       "      <td>0.20</td>\n",
       "      <td>N</td>\n",
       "      <td>5</td>\n",
       "      <td>0</td>\n",
       "      <td>0</td>\n",
       "      <td>0</td>\n",
       "      <td>0</td>\n",
       "      <td>1</td>\n",
       "    </tr>\n",
       "    <tr>\n",
       "      <th>...</th>\n",
       "      <td>...</td>\n",
       "      <td>...</td>\n",
       "      <td>...</td>\n",
       "      <td>...</td>\n",
       "      <td>...</td>\n",
       "      <td>...</td>\n",
       "      <td>...</td>\n",
       "      <td>...</td>\n",
       "      <td>...</td>\n",
       "      <td>...</td>\n",
       "      <td>...</td>\n",
       "      <td>...</td>\n",
       "      <td>...</td>\n",
       "      <td>...</td>\n",
       "      <td>...</td>\n",
       "      <td>...</td>\n",
       "    </tr>\n",
       "    <tr>\n",
       "      <th>58639</th>\n",
       "      <td>58639</td>\n",
       "      <td>-0.921749</td>\n",
       "      <td>0.435895</td>\n",
       "      <td>6.0</td>\n",
       "      <td>DEBTCONSOLIDATION</td>\n",
       "      <td>A</td>\n",
       "      <td>10000</td>\n",
       "      <td>7.29</td>\n",
       "      <td>0.14</td>\n",
       "      <td>N</td>\n",
       "      <td>4</td>\n",
       "      <td>0</td>\n",
       "      <td>0</td>\n",
       "      <td>0</td>\n",
       "      <td>0</td>\n",
       "      <td>1</td>\n",
       "    </tr>\n",
       "    <tr>\n",
       "      <th>58640</th>\n",
       "      <td>58640</td>\n",
       "      <td>1.071498</td>\n",
       "      <td>1.615678</td>\n",
       "      <td>5.0</td>\n",
       "      <td>EDUCATION</td>\n",
       "      <td>D</td>\n",
       "      <td>25000</td>\n",
       "      <td>15.95</td>\n",
       "      <td>0.21</td>\n",
       "      <td>Y</td>\n",
       "      <td>10</td>\n",
       "      <td>0</td>\n",
       "      <td>1</td>\n",
       "      <td>0</td>\n",
       "      <td>0</td>\n",
       "      <td>0</td>\n",
       "    </tr>\n",
       "    <tr>\n",
       "      <th>58642</th>\n",
       "      <td>58642</td>\n",
       "      <td>-0.755645</td>\n",
       "      <td>-0.580400</td>\n",
       "      <td>7.0</td>\n",
       "      <td>EDUCATION</td>\n",
       "      <td>D</td>\n",
       "      <td>6800</td>\n",
       "      <td>16.00</td>\n",
       "      <td>0.15</td>\n",
       "      <td>N</td>\n",
       "      <td>2</td>\n",
       "      <td>1</td>\n",
       "      <td>0</td>\n",
       "      <td>0</td>\n",
       "      <td>0</td>\n",
       "      <td>1</td>\n",
       "    </tr>\n",
       "    <tr>\n",
       "      <th>58643</th>\n",
       "      <td>58643</td>\n",
       "      <td>-0.921749</td>\n",
       "      <td>-1.418713</td>\n",
       "      <td>2.0</td>\n",
       "      <td>EDUCATION</td>\n",
       "      <td>A</td>\n",
       "      <td>5000</td>\n",
       "      <td>8.90</td>\n",
       "      <td>0.17</td>\n",
       "      <td>N</td>\n",
       "      <td>3</td>\n",
       "      <td>0</td>\n",
       "      <td>0</td>\n",
       "      <td>0</td>\n",
       "      <td>0</td>\n",
       "      <td>1</td>\n",
       "    </tr>\n",
       "    <tr>\n",
       "      <th>58644</th>\n",
       "      <td>58644</td>\n",
       "      <td>0.573187</td>\n",
       "      <td>0.586910</td>\n",
       "      <td>2.0</td>\n",
       "      <td>VENTURE</td>\n",
       "      <td>B</td>\n",
       "      <td>15000</td>\n",
       "      <td>11.11</td>\n",
       "      <td>0.20</td>\n",
       "      <td>N</td>\n",
       "      <td>5</td>\n",
       "      <td>0</td>\n",
       "      <td>1</td>\n",
       "      <td>0</td>\n",
       "      <td>0</td>\n",
       "      <td>0</td>\n",
       "    </tr>\n",
       "  </tbody>\n",
       "</table>\n",
       "<p>54598 rows × 16 columns</p>\n",
       "</div>"
      ],
      "text/plain": [
       "          id  person_age  person_income  person_emp_length        loan_intent  \\\n",
       "1          1   -0.921749      -0.052533                6.0            MEDICAL   \n",
       "2          2    0.240979      -1.508067                8.0           PERSONAL   \n",
       "3          3    0.407083       0.435895               14.0            VENTURE   \n",
       "4          4   -0.921749       0.098482                2.0            MEDICAL   \n",
       "5          5   -0.091229      -0.531211                2.0            VENTURE   \n",
       "...      ...         ...            ...                ...                ...   \n",
       "58639  58639   -0.921749       0.435895                6.0  DEBTCONSOLIDATION   \n",
       "58640  58640    1.071498       1.615678                5.0          EDUCATION   \n",
       "58642  58642   -0.755645      -0.580400                7.0          EDUCATION   \n",
       "58643  58643   -0.921749      -1.418713                2.0          EDUCATION   \n",
       "58644  58644    0.573187       0.586910                2.0            VENTURE   \n",
       "\n",
       "      loan_grade  loan_amnt  loan_int_rate  loan_percent_income  \\\n",
       "1              C       4000          13.35                 0.07   \n",
       "2              A       6000           8.90                 0.21   \n",
       "3              B      12000          11.11                 0.17   \n",
       "4              A       6000           6.92                 0.10   \n",
       "5              A       9000           8.94                 0.20   \n",
       "...          ...        ...            ...                  ...   \n",
       "58639          A      10000           7.29                 0.14   \n",
       "58640          D      25000          15.95                 0.21   \n",
       "58642          D       6800          16.00                 0.15   \n",
       "58643          A       5000           8.90                 0.17   \n",
       "58644          B      15000          11.11                 0.20   \n",
       "\n",
       "      cb_person_default_on_file  cb_person_cred_hist_length  loan_status  \\\n",
       "1                             N                           2            0   \n",
       "2                             N                          10            0   \n",
       "3                             N                           5            0   \n",
       "4                             N                           3            0   \n",
       "5                             N                           5            0   \n",
       "...                         ...                         ...          ...   \n",
       "58639                         N                           4            0   \n",
       "58640                         Y                          10            0   \n",
       "58642                         N                           2            1   \n",
       "58643                         N                           3            0   \n",
       "58644                         N                           5            0   \n",
       "\n",
       "       HOME_OWNERSHIP_MORTGAGE  HOME_OWNERSHIP_OTHER  HOME_OWNERSHIP_OWN  \\\n",
       "1                            0                     0                   1   \n",
       "2                            0                     0                   1   \n",
       "3                            0                     0                   0   \n",
       "4                            0                     0                   0   \n",
       "5                            0                     0                   0   \n",
       "...                        ...                   ...                 ...   \n",
       "58639                        0                     0                   0   \n",
       "58640                        1                     0                   0   \n",
       "58642                        0                     0                   0   \n",
       "58643                        0                     0                   0   \n",
       "58644                        1                     0                   0   \n",
       "\n",
       "       HOME_OWNERSHIP_RENT  \n",
       "1                        0  \n",
       "2                        0  \n",
       "3                        1  \n",
       "4                        1  \n",
       "5                        1  \n",
       "...                    ...  \n",
       "58639                    1  \n",
       "58640                    0  \n",
       "58642                    1  \n",
       "58643                    1  \n",
       "58644                    0  \n",
       "\n",
       "[54598 rows x 16 columns]"
      ]
     },
     "execution_count": 44,
     "metadata": {},
     "output_type": "execute_result"
    }
   ],
   "source": [
    "synth_person_emp_length_mean = cleaned_loans_train_df[cleaned_loans_train_df.person_emp_length < cleaned_loans_train_df.person_age][\"person_emp_length\"].mean()\n",
    "\n",
    "cleaned_loans_train_df.replace({\"person_emp_length\": 123.0}, synth_person_emp_length_mean, inplace=True)\n",
    "cleaned_loans_train_df[cleaned_loans_train_df.person_emp_length >= cleaned_loans_train_df.person_age]"
   ]
  },
  {
   "cell_type": "code",
   "execution_count": 45,
   "id": "9d46dead-2279-4817-92f0-51988128e8e9",
   "metadata": {},
   "outputs": [
    {
     "data": {
      "image/png": "[encoded data removed]",
      "text/plain": [
       "<Figure size 640x480 with 1 Axes>"
      ]
     },
     "metadata": {},
     "output_type": "display_data"
    }
   ],
   "source": [
    "#Log transformation (Add 1 to all values to avoid invalid, then perform log transformation)\n",
    "log_trans_train_person_emp_length_df = cleaned_loans_train_df[\"person_emp_length\"] + 1\n",
    "log_trans_test_person_emp_length_df = cleaned_loans_test_df[\"person_emp_length\"] + 1\n",
    "\n",
    "show_hist(log_trans_train_person_emp_length_df, 100)"
   ]
  },
  {
   "cell_type": "code",
   "execution_count": 46,
   "id": "0e4e655f-28df-4943-bc99-c78e6caf3405",
   "metadata": {},
   "outputs": [
    {
     "name": "stdout",
     "output_type": "stream",
     "text": [
      "Min: 0.0 Max: 1.6232492903979006 Range: 1.6232492903979006\n"
     ]
    },
    {
     "data": {
      "image/png": "[encoded data removed]",
      "text/plain": [
       "<Figure size 640x480 with 1 Axes>"
      ]
     },
     "metadata": {},
     "output_type": "display_data"
    }
   ],
   "source": [
    "log_trans_train_person_emp_length_df = np.log10(log_trans_train_person_emp_length_df)\n",
    "log_trans_test_person_emp_length_df = np.log10(log_trans_test_person_emp_length_df)\n",
    "\n",
    "print(showRange(log_trans_train_person_emp_length_df))\n",
    "show_hist(log_trans_train_person_emp_length_df, 50)"
   ]
  },
  {
   "cell_type": "code",
   "execution_count": 47,
   "id": "37e0dcab-9dbd-4a1b-bfb2-9396f0653f12",
   "metadata": {},
   "outputs": [
    {
     "data": {
      "text/plain": [
       "0       -1.896802\n",
       "1        0.601256\n",
       "2        0.923880\n",
       "3        1.579652\n",
       "4       -0.486461\n",
       "           ...   \n",
       "58640    0.403366\n",
       "58641   -1.896802\n",
       "58642    0.772677\n",
       "58643   -0.486461\n",
       "58644   -0.486461\n",
       "Name: person_emp_length, Length: 58645, dtype: float64"
      ]
     },
     "execution_count": 47,
     "metadata": {},
     "output_type": "execute_result"
    }
   ],
   "source": [
    "# Standardize Income\n",
    "standardized_train_emp_length = standardize(log_trans_train_person_emp_length_df)\n",
    "standardized_test_emp_length = standardize_test(log_trans_train_person_emp_length_df, log_trans_test_person_emp_length_df)\n",
    "\n",
    "standardized_train_emp_length"
   ]
  },
  {
   "cell_type": "code",
   "execution_count": 48,
   "id": "77e63505-8eee-4f79-9cf8-28765808825c",
   "metadata": {},
   "outputs": [
    {
     "data": {
      "image/png": "[encoded data removed]",
      "text/plain": [
       "<Figure size 640x480 with 1 Axes>"
      ]
     },
     "metadata": {},
     "output_type": "display_data"
    }
   ],
   "source": [
    "show_hist(standardized_train_emp_length, 100)"
   ]
  },
  {
   "cell_type": "code",
   "execution_count": 49,
   "id": "6259f94c-fe8f-40c7-9544-6848adbe4bea",
   "metadata": {},
   "outputs": [
    {
     "data": {
      "text/plain": [
       "<Axes: ylabel='person_emp_length'>"
      ]
     },
     "execution_count": 49,
     "metadata": {},
     "output_type": "execute_result"
    },
    {
     "data": {
      "image/png": "[encoded data removed]",
      "text/plain": [
       "<Figure size 640x480 with 1 Axes>"
      ]
     },
     "metadata": {},
     "output_type": "display_data"
    }
   ],
   "source": [
    "sns.boxplot(standardized_train_emp_length)"
   ]
  },
  {
   "cell_type": "code",
   "execution_count": 50,
   "id": "2609da56-45c2-452d-a790-ba43e17f450d",
   "metadata": {},
   "outputs": [],
   "source": [
    "cleaned_loans_train_df[\"person_emp_length\"] = standardized_train_emp_length.copy(deep=True)\n",
    "cleaned_loans_test_df[\"person_emp_length\"] = standardized_test_emp_length.copy(deep=True)"
   ]
  },
  {
   "cell_type": "markdown",
   "id": "7a7ee30e-044d-4b3c-9000-31ddf645f1ef",
   "metadata": {},
   "source": [
    "### 2.5 Loan Intent"
   ]
  },
  {
   "cell_type": "code",
   "execution_count": 51,
   "id": "dd7b0b7b-139c-4b15-89c2-ec9547c2ff12",
   "metadata": {},
   "outputs": [
    {
     "name": "stdout",
     "output_type": "stream",
     "text": [
      "loan_intent\n",
      "EDUCATION            12271\n",
      "MEDICAL              10934\n",
      "PERSONAL             10016\n",
      "VENTURE              10011\n",
      "DEBTCONSOLIDATION     9133\n",
      "HOMEIMPROVEMENT       6280\n",
      "Name: count, dtype: int64\n"
     ]
    }
   ],
   "source": [
    "print(cleaned_loans_train_df[\"loan_intent\"].value_counts())"
   ]
  },
  {
   "cell_type": "code",
   "execution_count": 52,
   "id": "57c9dc4e-a461-4629-8d1a-570e856dc203",
   "metadata": {
    "scrolled": true
   },
   "outputs": [
    {
     "data": {
      "text/html": [
       "<div>\n",
       "<style scoped>\n",
       "    .dataframe tbody tr th:only-of-type {\n",
       "        vertical-align: middle;\n",
       "    }\n",
       "\n",
       "    .dataframe tbody tr th {\n",
       "        vertical-align: top;\n",
       "    }\n",
       "\n",
       "    .dataframe thead th {\n",
       "        text-align: right;\n",
       "    }\n",
       "</style>\n",
       "<table border=\"1\" class=\"dataframe\">\n",
       "  <thead>\n",
       "    <tr style=\"text-align: right;\">\n",
       "      <th></th>\n",
       "      <th>LOAN_INTENT_DEBTCONSOLIDATION</th>\n",
       "      <th>LOAN_INTENT_EDUCATION</th>\n",
       "      <th>LOAN_INTENT_HOMEIMPROVEMENT</th>\n",
       "      <th>LOAN_INTENT_MEDICAL</th>\n",
       "      <th>LOAN_INTENT_PERSONAL</th>\n",
       "      <th>LOAN_INTENT_VENTURE</th>\n",
       "    </tr>\n",
       "  </thead>\n",
       "  <tbody>\n",
       "    <tr>\n",
       "      <th>0</th>\n",
       "      <td>0</td>\n",
       "      <td>1</td>\n",
       "      <td>0</td>\n",
       "      <td>0</td>\n",
       "      <td>0</td>\n",
       "      <td>0</td>\n",
       "    </tr>\n",
       "    <tr>\n",
       "      <th>1</th>\n",
       "      <td>0</td>\n",
       "      <td>0</td>\n",
       "      <td>0</td>\n",
       "      <td>1</td>\n",
       "      <td>0</td>\n",
       "      <td>0</td>\n",
       "    </tr>\n",
       "    <tr>\n",
       "      <th>2</th>\n",
       "      <td>0</td>\n",
       "      <td>0</td>\n",
       "      <td>0</td>\n",
       "      <td>0</td>\n",
       "      <td>1</td>\n",
       "      <td>0</td>\n",
       "    </tr>\n",
       "    <tr>\n",
       "      <th>3</th>\n",
       "      <td>0</td>\n",
       "      <td>0</td>\n",
       "      <td>0</td>\n",
       "      <td>0</td>\n",
       "      <td>0</td>\n",
       "      <td>1</td>\n",
       "    </tr>\n",
       "    <tr>\n",
       "      <th>4</th>\n",
       "      <td>0</td>\n",
       "      <td>0</td>\n",
       "      <td>0</td>\n",
       "      <td>1</td>\n",
       "      <td>0</td>\n",
       "      <td>0</td>\n",
       "    </tr>\n",
       "    <tr>\n",
       "      <th>...</th>\n",
       "      <td>...</td>\n",
       "      <td>...</td>\n",
       "      <td>...</td>\n",
       "      <td>...</td>\n",
       "      <td>...</td>\n",
       "      <td>...</td>\n",
       "    </tr>\n",
       "    <tr>\n",
       "      <th>58640</th>\n",
       "      <td>0</td>\n",
       "      <td>1</td>\n",
       "      <td>0</td>\n",
       "      <td>0</td>\n",
       "      <td>0</td>\n",
       "      <td>0</td>\n",
       "    </tr>\n",
       "    <tr>\n",
       "      <th>58641</th>\n",
       "      <td>0</td>\n",
       "      <td>0</td>\n",
       "      <td>0</td>\n",
       "      <td>1</td>\n",
       "      <td>0</td>\n",
       "      <td>0</td>\n",
       "    </tr>\n",
       "    <tr>\n",
       "      <th>58642</th>\n",
       "      <td>0</td>\n",
       "      <td>1</td>\n",
       "      <td>0</td>\n",
       "      <td>0</td>\n",
       "      <td>0</td>\n",
       "      <td>0</td>\n",
       "    </tr>\n",
       "    <tr>\n",
       "      <th>58643</th>\n",
       "      <td>0</td>\n",
       "      <td>1</td>\n",
       "      <td>0</td>\n",
       "      <td>0</td>\n",
       "      <td>0</td>\n",
       "      <td>0</td>\n",
       "    </tr>\n",
       "    <tr>\n",
       "      <th>58644</th>\n",
       "      <td>0</td>\n",
       "      <td>0</td>\n",
       "      <td>0</td>\n",
       "      <td>0</td>\n",
       "      <td>0</td>\n",
       "      <td>1</td>\n",
       "    </tr>\n",
       "  </tbody>\n",
       "</table>\n",
       "<p>58645 rows × 6 columns</p>\n",
       "</div>"
      ],
      "text/plain": [
       "       LOAN_INTENT_DEBTCONSOLIDATION  LOAN_INTENT_EDUCATION  \\\n",
       "0                                  0                      1   \n",
       "1                                  0                      0   \n",
       "2                                  0                      0   \n",
       "3                                  0                      0   \n",
       "4                                  0                      0   \n",
       "...                              ...                    ...   \n",
       "58640                              0                      1   \n",
       "58641                              0                      0   \n",
       "58642                              0                      1   \n",
       "58643                              0                      1   \n",
       "58644                              0                      0   \n",
       "\n",
       "       LOAN_INTENT_HOMEIMPROVEMENT  LOAN_INTENT_MEDICAL  LOAN_INTENT_PERSONAL  \\\n",
       "0                                0                    0                     0   \n",
       "1                                0                    1                     0   \n",
       "2                                0                    0                     1   \n",
       "3                                0                    0                     0   \n",
       "4                                0                    1                     0   \n",
       "...                            ...                  ...                   ...   \n",
       "58640                            0                    0                     0   \n",
       "58641                            0                    1                     0   \n",
       "58642                            0                    0                     0   \n",
       "58643                            0                    0                     0   \n",
       "58644                            0                    0                     0   \n",
       "\n",
       "       LOAN_INTENT_VENTURE  \n",
       "0                        0  \n",
       "1                        0  \n",
       "2                        0  \n",
       "3                        1  \n",
       "4                        0  \n",
       "...                    ...  \n",
       "58640                    0  \n",
       "58641                    0  \n",
       "58642                    0  \n",
       "58643                    0  \n",
       "58644                    1  \n",
       "\n",
       "[58645 rows x 6 columns]"
      ]
     },
     "execution_count": 52,
     "metadata": {},
     "output_type": "execute_result"
    }
   ],
   "source": [
    "loan_grade_train_one_hot_df = pd.get_dummies(cleaned_loans_train_df[\"loan_intent\"], prefix=\"LOAN_INTENT\").astype(int)\n",
    "loan_grade_test_one_hot_df = pd.get_dummies(cleaned_loans_test_df[\"loan_intent\"], prefix=\"LOAN_INTENT\").astype(int)\n",
    "\n",
    "loan_grade_train_one_hot_df"
   ]
  },
  {
   "cell_type": "code",
   "execution_count": 53,
   "id": "1b8f9e57-1b28-4a4f-86aa-d4b993020c88",
   "metadata": {},
   "outputs": [],
   "source": [
    "cleaned_loans_train_df =pd.concat([cleaned_loans_train_df, loan_grade_train_one_hot_df], axis=1)\n",
    "cleaned_loans_test_df = pd.concat([cleaned_loans_test_df, loan_grade_test_one_hot_df], axis=1)"
   ]
  },
  {
   "cell_type": "code",
   "execution_count": 54,
   "id": "8ef21800-d17e-41ba-a97a-09617a789431",
   "metadata": {},
   "outputs": [],
   "source": [
    "cleaned_loans_train_df.drop(columns=[\"loan_intent\"], inplace=True)\n",
    "cleaned_loans_test_df.drop(columns=[\"loan_intent\"], inplace=True)"
   ]
  },
  {
   "cell_type": "markdown",
   "id": "8d35eebc-bd91-47eb-ab22-97e3e86696ef",
   "metadata": {},
   "source": [
    "### 2.6 Loan Grade"
   ]
  },
  {
   "cell_type": "code",
   "execution_count": 55,
   "id": "520bbd19-5d55-4514-90d5-6ff340906bb8",
   "metadata": {},
   "outputs": [
    {
     "name": "stdout",
     "output_type": "stream",
     "text": [
      "loan_grade\n",
      "A    20984\n",
      "B    20400\n",
      "C    11036\n",
      "D     5034\n",
      "E     1009\n",
      "F      149\n",
      "G       33\n",
      "Name: count, dtype: int64\n"
     ]
    }
   ],
   "source": [
    "print(cleaned_loans_train_df[\"loan_grade\"].value_counts())"
   ]
  },
  {
   "cell_type": "code",
   "execution_count": 56,
   "id": "10a92d84-4eef-49ef-b0cd-e17ad3836557",
   "metadata": {},
   "outputs": [
    {
     "data": {
      "text/html": [
       "<div>\n",
       "<style scoped>\n",
       "    .dataframe tbody tr th:only-of-type {\n",
       "        vertical-align: middle;\n",
       "    }\n",
       "\n",
       "    .dataframe tbody tr th {\n",
       "        vertical-align: top;\n",
       "    }\n",
       "\n",
       "    .dataframe thead th {\n",
       "        text-align: right;\n",
       "    }\n",
       "</style>\n",
       "<table border=\"1\" class=\"dataframe\">\n",
       "  <thead>\n",
       "    <tr style=\"text-align: right;\">\n",
       "      <th></th>\n",
       "      <th>LOAN_GRADE_A</th>\n",
       "      <th>LOAN_GRADE_B</th>\n",
       "      <th>LOAN_GRADE_C</th>\n",
       "      <th>LOAN_GRADE_D</th>\n",
       "      <th>LOAN_GRADE_E</th>\n",
       "      <th>LOAN_GRADE_F</th>\n",
       "      <th>LOAN_GRADE_G</th>\n",
       "    </tr>\n",
       "  </thead>\n",
       "  <tbody>\n",
       "    <tr>\n",
       "      <th>0</th>\n",
       "      <td>0</td>\n",
       "      <td>1</td>\n",
       "      <td>0</td>\n",
       "      <td>0</td>\n",
       "      <td>0</td>\n",
       "      <td>0</td>\n",
       "      <td>0</td>\n",
       "    </tr>\n",
       "    <tr>\n",
       "      <th>1</th>\n",
       "      <td>0</td>\n",
       "      <td>0</td>\n",
       "      <td>1</td>\n",
       "      <td>0</td>\n",
       "      <td>0</td>\n",
       "      <td>0</td>\n",
       "      <td>0</td>\n",
       "    </tr>\n",
       "    <tr>\n",
       "      <th>2</th>\n",
       "      <td>1</td>\n",
       "      <td>0</td>\n",
       "      <td>0</td>\n",
       "      <td>0</td>\n",
       "      <td>0</td>\n",
       "      <td>0</td>\n",
       "      <td>0</td>\n",
       "    </tr>\n",
       "    <tr>\n",
       "      <th>3</th>\n",
       "      <td>0</td>\n",
       "      <td>1</td>\n",
       "      <td>0</td>\n",
       "      <td>0</td>\n",
       "      <td>0</td>\n",
       "      <td>0</td>\n",
       "      <td>0</td>\n",
       "    </tr>\n",
       "    <tr>\n",
       "      <th>4</th>\n",
       "      <td>1</td>\n",
       "      <td>0</td>\n",
       "      <td>0</td>\n",
       "      <td>0</td>\n",
       "      <td>0</td>\n",
       "      <td>0</td>\n",
       "      <td>0</td>\n",
       "    </tr>\n",
       "    <tr>\n",
       "      <th>...</th>\n",
       "      <td>...</td>\n",
       "      <td>...</td>\n",
       "      <td>...</td>\n",
       "      <td>...</td>\n",
       "      <td>...</td>\n",
       "      <td>...</td>\n",
       "      <td>...</td>\n",
       "    </tr>\n",
       "    <tr>\n",
       "      <th>58640</th>\n",
       "      <td>0</td>\n",
       "      <td>0</td>\n",
       "      <td>0</td>\n",
       "      <td>1</td>\n",
       "      <td>0</td>\n",
       "      <td>0</td>\n",
       "      <td>0</td>\n",
       "    </tr>\n",
       "    <tr>\n",
       "      <th>58641</th>\n",
       "      <td>0</td>\n",
       "      <td>0</td>\n",
       "      <td>1</td>\n",
       "      <td>0</td>\n",
       "      <td>0</td>\n",
       "      <td>0</td>\n",
       "      <td>0</td>\n",
       "    </tr>\n",
       "    <tr>\n",
       "      <th>58642</th>\n",
       "      <td>0</td>\n",
       "      <td>0</td>\n",
       "      <td>0</td>\n",
       "      <td>1</td>\n",
       "      <td>0</td>\n",
       "      <td>0</td>\n",
       "      <td>0</td>\n",
       "    </tr>\n",
       "    <tr>\n",
       "      <th>58643</th>\n",
       "      <td>1</td>\n",
       "      <td>0</td>\n",
       "      <td>0</td>\n",
       "      <td>0</td>\n",
       "      <td>0</td>\n",
       "      <td>0</td>\n",
       "      <td>0</td>\n",
       "    </tr>\n",
       "    <tr>\n",
       "      <th>58644</th>\n",
       "      <td>0</td>\n",
       "      <td>1</td>\n",
       "      <td>0</td>\n",
       "      <td>0</td>\n",
       "      <td>0</td>\n",
       "      <td>0</td>\n",
       "      <td>0</td>\n",
       "    </tr>\n",
       "  </tbody>\n",
       "</table>\n",
       "<p>58645 rows × 7 columns</p>\n",
       "</div>"
      ],
      "text/plain": [
       "       LOAN_GRADE_A  LOAN_GRADE_B  LOAN_GRADE_C  LOAN_GRADE_D  LOAN_GRADE_E  \\\n",
       "0                 0             1             0             0             0   \n",
       "1                 0             0             1             0             0   \n",
       "2                 1             0             0             0             0   \n",
       "3                 0             1             0             0             0   \n",
       "4                 1             0             0             0             0   \n",
       "...             ...           ...           ...           ...           ...   \n",
       "58640             0             0             0             1             0   \n",
       "58641             0             0             1             0             0   \n",
       "58642             0             0             0             1             0   \n",
       "58643             1             0             0             0             0   \n",
       "58644             0             1             0             0             0   \n",
       "\n",
       "       LOAN_GRADE_F  LOAN_GRADE_G  \n",
       "0                 0             0  \n",
       "1                 0             0  \n",
       "2                 0             0  \n",
       "3                 0             0  \n",
       "4                 0             0  \n",
       "...             ...           ...  \n",
       "58640             0             0  \n",
       "58641             0             0  \n",
       "58642             0             0  \n",
       "58643             0             0  \n",
       "58644             0             0  \n",
       "\n",
       "[58645 rows x 7 columns]"
      ]
     },
     "execution_count": 56,
     "metadata": {},
     "output_type": "execute_result"
    }
   ],
   "source": [
    "loan_intent_train_one_hot_df = pd.get_dummies(cleaned_loans_train_df[\"loan_grade\"], prefix=\"LOAN_GRADE\").astype(int)\n",
    "loan_intent_test_one_hot_df = pd.get_dummies(cleaned_loans_test_df[\"loan_grade\"], prefix=\"LOAN_GRADE\").astype(int)\n",
    "\n",
    "loan_intent_train_one_hot_df"
   ]
  },
  {
   "cell_type": "code",
   "execution_count": 57,
   "id": "ed4f3222-4799-4a75-b03a-e64ff4054a31",
   "metadata": {},
   "outputs": [],
   "source": [
    "cleaned_loans_train_df = pd.concat([cleaned_loans_train_df, loan_intent_train_one_hot_df], axis=1)\n",
    "cleaned_loans_test_df = pd.concat([cleaned_loans_test_df, loan_intent_test_one_hot_df], axis=1)"
   ]
  },
  {
   "cell_type": "code",
   "execution_count": 58,
   "id": "53adb5eb-3379-49ca-8e86-a0980de7157c",
   "metadata": {},
   "outputs": [],
   "source": [
    "cleaned_loans_train_df.drop(columns=[\"loan_grade\"], inplace=True)\n",
    "cleaned_loans_test_df.drop(columns=[\"loan_grade\"], inplace=True)"
   ]
  },
  {
   "cell_type": "markdown",
   "id": "f9d68fe0-a3f9-4152-ada5-21ebf9559cb2",
   "metadata": {},
   "source": [
    "### 2.7 Loan Amount"
   ]
  },
  {
   "cell_type": "code",
   "execution_count": 59,
   "id": "e3ce0098-8a5b-4c41-ac04-8d12c27ff2ac",
   "metadata": {},
   "outputs": [
    {
     "name": "stdout",
     "output_type": "stream",
     "text": [
      "Min: 500 Max: 35000 Range: 34500\n"
     ]
    }
   ],
   "source": [
    "print(showRange(cleaned_loans_train_df[\"loan_amnt\"]))"
   ]
  },
  {
   "cell_type": "code",
   "execution_count": 60,
   "id": "966c0ea2-ddfc-4256-bac6-9553dffe2ad1",
   "metadata": {},
   "outputs": [
    {
     "name": "stdout",
     "output_type": "stream",
     "text": [
      "0\n"
     ]
    }
   ],
   "source": [
    "print(getMissingEntriesCount(cleaned_loans_train_df[\"loan_amnt\"]))"
   ]
  },
  {
   "cell_type": "markdown",
   "id": "6e43fbfa-3504-4b6c-b33c-d6a2d0545d2d",
   "metadata": {},
   "source": [
    "It can be seen that the age does not have a normal distribution."
   ]
  },
  {
   "cell_type": "code",
   "execution_count": 61,
   "id": "3e1b5479-b72e-44e2-a540-3f65a0ea3115",
   "metadata": {},
   "outputs": [
    {
     "data": {
      "image/png": "[encoded data removed]",
      "text/plain": [
       "<Figure size 640x480 with 1 Axes>"
      ]
     },
     "metadata": {},
     "output_type": "display_data"
    }
   ],
   "source": [
    "show_hist(cleaned_loans_train_df[\"loan_amnt\"], 50)"
   ]
  },
  {
   "cell_type": "markdown",
   "id": "5e5b542e-56cc-421f-b4a8-df6d10aacc46",
   "metadata": {},
   "source": [
    "It can also be seen that the age data has lots of outliers"
   ]
  },
  {
   "cell_type": "code",
   "execution_count": 62,
   "id": "1833c1f8-ce6e-4b7d-87c6-4ffeec60a066",
   "metadata": {},
   "outputs": [
    {
     "data": {
      "text/plain": [
       "<Axes: ylabel='loan_amnt'>"
      ]
     },
     "execution_count": 62,
     "metadata": {},
     "output_type": "execute_result"
    },
    {
     "data": {
      "image/png": "[encoded data removed]",
      "text/plain": [
       "<Figure size 640x480 with 1 Axes>"
      ]
     },
     "metadata": {},
     "output_type": "display_data"
    }
   ],
   "source": [
    "sns.boxplot(cleaned_loans_train_df[\"loan_amnt\"])"
   ]
  },
  {
   "cell_type": "code",
   "execution_count": 63,
   "id": "f9f53cf3-3281-4d04-9413-69d1f64de419",
   "metadata": {},
   "outputs": [
    {
     "data": {
      "image/png": "[encoded data removed]",
      "text/plain": [
       "<Figure size 640x480 with 1 Axes>"
      ]
     },
     "metadata": {},
     "output_type": "display_data"
    }
   ],
   "source": [
    "#Log transformation (Add 1 to all values to avoid invalid, then perform log transformation)\n",
    "log_trans_train_loan_amnt_df = cleaned_loans_train_df[\"loan_amnt\"]\n",
    "log_trans_test_loan_amnt_df = cleaned_loans_test_df[\"loan_amnt\"]\n",
    "\n",
    "show_hist(log_trans_train_loan_amnt_df, 50)"
   ]
  },
  {
   "cell_type": "code",
   "execution_count": 64,
   "id": "db31ee65-dbc2-40ce-b538-4ffc92bcdd0d",
   "metadata": {},
   "outputs": [
    {
     "name": "stdout",
     "output_type": "stream",
     "text": [
      "Min: 2.6989700043360187 Max: 4.544068044350276 Range: 1.845098040014257\n"
     ]
    },
    {
     "data": {
      "image/png": "[encoded data removed]",
      "text/plain": [
       "<Figure size 640x480 with 1 Axes>"
      ]
     },
     "metadata": {},
     "output_type": "display_data"
    }
   ],
   "source": [
    "log_trans_train_loan_amnt_df = np.log10(log_trans_train_loan_amnt_df)\n",
    "log_trans_test_loan_amnt_df = np.log10(log_trans_test_loan_amnt_df)\n",
    "\n",
    "print(showRange(log_trans_train_loan_amnt_df))\n",
    "show_hist(log_trans_train_loan_amnt_df, 50)"
   ]
  },
  {
   "cell_type": "code",
   "execution_count": 65,
   "id": "66d3fe5c-78ce-46d1-852f-41ad25240c54",
   "metadata": {},
   "outputs": [
    {
     "data": {
      "text/plain": [
       "0       -0.376831\n",
       "1       -1.008211\n",
       "2       -0.376831\n",
       "3        0.702519\n",
       "4       -0.376831\n",
       "           ...   \n",
       "58640    1.845437\n",
       "58641    0.418613\n",
       "58642   -0.181931\n",
       "58643   -0.660738\n",
       "58644    1.049993\n",
       "Name: loan_amnt, Length: 58645, dtype: float64"
      ]
     },
     "execution_count": 65,
     "metadata": {},
     "output_type": "execute_result"
    }
   ],
   "source": [
    "# Standardize Ages\n",
    "standardized_train_loan_amount = standardize(log_trans_train_loan_amnt_df)\n",
    "standardized_test_loan_amount = standardize_test(log_trans_train_loan_amnt_df, log_trans_test_loan_amnt_df)\n",
    "\n",
    "standardized_train_loan_amount"
   ]
  },
  {
   "cell_type": "code",
   "execution_count": 66,
   "id": "643515f2-db9f-41fe-9fbd-5efc46b25cb4",
   "metadata": {},
   "outputs": [
    {
     "data": {
      "image/png": "[encoded data removed]",
      "text/plain": [
       "<Figure size 640x480 with 1 Axes>"
      ]
     },
     "metadata": {},
     "output_type": "display_data"
    }
   ],
   "source": [
    "show_hist(standardized_train_loan_amount, 103)"
   ]
  },
  {
   "cell_type": "code",
   "execution_count": 67,
   "id": "f39964d0-e0dc-4f54-b30b-eb3397ba84ed",
   "metadata": {},
   "outputs": [
    {
     "data": {
      "text/plain": [
       "<Axes: ylabel='loan_amnt'>"
      ]
     },
     "execution_count": 67,
     "metadata": {},
     "output_type": "execute_result"
    },
    {
     "data": {
      "image/png": "[encoded data removed]",
      "text/plain": [
       "<Figure size 640x480 with 1 Axes>"
      ]
     },
     "metadata": {},
     "output_type": "display_data"
    }
   ],
   "source": [
    "sns.boxplot(standardized_train_loan_amount)"
   ]
  },
  {
   "cell_type": "code",
   "execution_count": 68,
   "id": "71052555-8e26-46ce-b2e4-a6beedefc6bc",
   "metadata": {},
   "outputs": [],
   "source": [
    "cleaned_loans_train_df[\"loan_amnt\"] = standardized_train_loan_amount.copy(deep=True)\n",
    "cleaned_loans_test_df[\"loan_amnt\"] = standardized_test_loan_amount.copy(deep=True)"
   ]
  },
  {
   "cell_type": "markdown",
   "id": "d80e1976-93d7-4e41-a2b9-ac77e72ac203",
   "metadata": {},
   "source": [
    "### 2.8 Loan Interest Rate"
   ]
  },
  {
   "cell_type": "code",
   "execution_count": 69,
   "id": "31f6f147-94b6-4840-b23c-130eaa97de5a",
   "metadata": {},
   "outputs": [
    {
     "name": "stdout",
     "output_type": "stream",
     "text": [
      "Min: 5.42 Max: 23.22 Range: 17.799999999999997\n"
     ]
    }
   ],
   "source": [
    "print(showRange(cleaned_loans_train_df[\"loan_int_rate\"]))"
   ]
  },
  {
   "cell_type": "code",
   "execution_count": 70,
   "id": "fd74cc05-bca9-4598-95ca-a50859138222",
   "metadata": {},
   "outputs": [
    {
     "name": "stdout",
     "output_type": "stream",
     "text": [
      "0\n"
     ]
    }
   ],
   "source": [
    "print(getMissingEntriesCount(cleaned_loans_train_df[\"loan_int_rate\"]))"
   ]
  },
  {
   "cell_type": "markdown",
   "id": "c3157144-56b2-49d8-bbfe-5a720c480239",
   "metadata": {},
   "source": [
    "It can be seen that the age does not have a normal distribution."
   ]
  },
  {
   "cell_type": "code",
   "execution_count": 71,
   "id": "974e649e-ef08-4244-b559-47c315270dee",
   "metadata": {},
   "outputs": [
    {
     "data": {
      "image/png": "[encoded data removed]",
      "text/plain": [
       "<Figure size 640x480 with 1 Axes>"
      ]
     },
     "metadata": {},
     "output_type": "display_data"
    }
   ],
   "source": [
    "show_hist(cleaned_loans_train_df[\"loan_int_rate\"], 103)"
   ]
  },
  {
   "cell_type": "code",
   "execution_count": 72,
   "id": "781f36ce-7621-41c8-a8f3-ce9b42f5c98f",
   "metadata": {},
   "outputs": [
    {
     "data": {
      "text/plain": [
       "<Axes: ylabel='loan_int_rate'>"
      ]
     },
     "execution_count": 72,
     "metadata": {},
     "output_type": "execute_result"
    },
    {
     "data": {
      "image/png": "[encoded data removed]",
      "text/plain": [
       "<Figure size 640x480 with 1 Axes>"
      ]
     },
     "metadata": {},
     "output_type": "display_data"
    }
   ],
   "source": [
    "sns.boxplot(cleaned_loans_train_df[\"loan_int_rate\"])"
   ]
  },
  {
   "cell_type": "code",
   "execution_count": 73,
   "id": "d026d772-5904-419a-91b7-46f47aa6c3a3",
   "metadata": {},
   "outputs": [],
   "source": [
    "#Log transformation (Add 1 to all values to avoid invalid, then perform log transformation)\n",
    "log_trans_train_loan_int_rate_df = cleaned_loans_train_df[\"loan_int_rate\"]\n",
    "log_trans_test_loan_int_rate_df = cleaned_loans_test_df[\"loan_int_rate\"]"
   ]
  },
  {
   "cell_type": "code",
   "execution_count": 74,
   "id": "86354e8d-f315-455c-b1d7-aef9f30803a5",
   "metadata": {},
   "outputs": [
    {
     "name": "stdout",
     "output_type": "stream",
     "text": [
      "Min: 0.7339992865383869 Max: 1.365862215402555 Range: 0.6318629288641682\n"
     ]
    },
    {
     "data": {
      "image/png": "[encoded data removed]",
      "text/plain": [
       "<Figure size 640x480 with 1 Axes>"
      ]
     },
     "metadata": {},
     "output_type": "display_data"
    }
   ],
   "source": [
    "log_trans_train_loan_int_rate_df = np.log10(log_trans_train_loan_int_rate_df)\n",
    "log_trans_test_loan_int_rate_df = np.log10(log_trans_test_loan_int_rate_df)\n",
    "\n",
    "print(showRange(log_trans_train_loan_int_rate_df))\n",
    "show_hist(log_trans_train_loan_int_rate_df, 100)"
   ]
  },
  {
   "cell_type": "markdown",
   "id": "f7ac0c1b-af23-45d8-a37d-17159e29da0f",
   "metadata": {},
   "source": [
    "It can also be seen that the age data has lots of outliers"
   ]
  },
  {
   "cell_type": "code",
   "execution_count": 75,
   "id": "244290a9-7a86-4c42-a8bc-eb73e48227ac",
   "metadata": {},
   "outputs": [
    {
     "data": {
      "text/plain": [
       "<Axes: ylabel='loan_int_rate'>"
      ]
     },
     "execution_count": 75,
     "metadata": {},
     "output_type": "execute_result"
    },
    {
     "data": {
      "image/png": "[encoded data removed]",
      "text/plain": [
       "<Figure size 640x480 with 1 Axes>"
      ]
     },
     "metadata": {},
     "output_type": "display_data"
    }
   ],
   "source": [
    "sns.boxplot(log_trans_train_loan_int_rate_df)"
   ]
  },
  {
   "cell_type": "code",
   "execution_count": 76,
   "id": "bdf9ec35-3ba3-4dcf-bd9e-76949bfc061f",
   "metadata": {},
   "outputs": [
    {
     "data": {
      "text/plain": [
       "0        0.516442\n",
       "1        0.619568\n",
       "2        0.340882\n",
       "3        0.493327\n",
       "4        0.167927\n",
       "           ...   \n",
       "58640    0.741872\n",
       "58641    0.586882\n",
       "58642    0.744023\n",
       "58643    0.340882\n",
       "58644    0.493327\n",
       "Name: loan_int_rate, Length: 58645, dtype: float64"
      ]
     },
     "execution_count": 76,
     "metadata": {},
     "output_type": "execute_result"
    }
   ],
   "source": [
    "# Standardize Ages\n",
    "normalized_train_loan_int_rate = normalize(log_trans_train_loan_int_rate_df)\n",
    "normalized_test_loan_int_rate = normalize_test(log_trans_train_loan_int_rate_df, log_trans_test_loan_int_rate_df)\n",
    "\n",
    "normalized_train_loan_int_rate"
   ]
  },
  {
   "cell_type": "code",
   "execution_count": 77,
   "id": "dd8b4ec0-672d-48d0-9f1c-52add2adffaf",
   "metadata": {},
   "outputs": [
    {
     "data": {
      "image/png": "[encoded data removed]",
      "text/plain": [
       "<Figure size 640x480 with 1 Axes>"
      ]
     },
     "metadata": {},
     "output_type": "display_data"
    }
   ],
   "source": [
    "show_hist(normalized_train_loan_int_rate, 103)"
   ]
  },
  {
   "cell_type": "code",
   "execution_count": 78,
   "id": "284014b7-2e3d-4f03-9164-ef9ebd4d40a9",
   "metadata": {},
   "outputs": [
    {
     "data": {
      "text/plain": [
       "<Axes: ylabel='loan_int_rate'>"
      ]
     },
     "execution_count": 78,
     "metadata": {},
     "output_type": "execute_result"
    },
    {
     "data": {
      "image/png": "[encoded data removed]",
      "text/plain": [
       "<Figure size 640x480 with 1 Axes>"
      ]
     },
     "metadata": {},
     "output_type": "display_data"
    }
   ],
   "source": [
    "sns.boxplot(normalized_train_loan_int_rate)"
   ]
  },
  {
   "cell_type": "code",
   "execution_count": 79,
   "id": "34f91996-b069-4cf8-8fa7-f9e43f88f70c",
   "metadata": {},
   "outputs": [],
   "source": [
    "cleaned_loans_train_df[\"loan_int_rate\"] = normalized_train_loan_int_rate.copy(deep=True)\n",
    "cleaned_loans_test_df[\"loan_int_rate\"] = normalized_test_loan_int_rate.copy(deep=True)"
   ]
  },
  {
   "cell_type": "markdown",
   "id": "6047cc5a-a353-46d2-b8bf-07a47c2acb4b",
   "metadata": {},
   "source": [
    "### 2.9 Loan Percent Income"
   ]
  },
  {
   "cell_type": "code",
   "execution_count": 80,
   "id": "6f4593a2-08c8-439f-938a-b44c04b10ab2",
   "metadata": {},
   "outputs": [
    {
     "name": "stdout",
     "output_type": "stream",
     "text": [
      "Min: 0.0 Max: 0.83 Range: 0.83\n"
     ]
    }
   ],
   "source": [
    "print(showRange(cleaned_loans_train_df[\"loan_percent_income\"]))"
   ]
  },
  {
   "cell_type": "code",
   "execution_count": 81,
   "id": "d1b6f457-b47b-493c-9588-2f398422cee8",
   "metadata": {},
   "outputs": [
    {
     "name": "stdout",
     "output_type": "stream",
     "text": [
      "0\n"
     ]
    }
   ],
   "source": [
    "print(getMissingEntriesCount(cleaned_loans_train_df[\"loan_percent_income\"]))"
   ]
  },
  {
   "cell_type": "markdown",
   "id": "4de1d818-5b46-4f08-9a61-ab4612717ec3",
   "metadata": {},
   "source": [
    "It can be seen that the age does not have a normal distribution."
   ]
  },
  {
   "cell_type": "code",
   "execution_count": 82,
   "id": "f18bcf0e-bf71-4608-a5a6-5108b379ca83",
   "metadata": {},
   "outputs": [
    {
     "data": {
      "image/png": "[encoded data removed]",
      "text/plain": [
       "<Figure size 640x480 with 1 Axes>"
      ]
     },
     "metadata": {},
     "output_type": "display_data"
    }
   ],
   "source": [
    "show_hist(cleaned_loans_train_df[\"loan_percent_income\"], 103)"
   ]
  },
  {
   "cell_type": "markdown",
   "id": "2f45c380-ab16-40a9-a9b8-9b9375ab3b6c",
   "metadata": {},
   "source": [
    "It can also be seen that the age data has lots of outliers"
   ]
  },
  {
   "cell_type": "code",
   "execution_count": 83,
   "id": "f7e4aed2-4870-4c5e-a7e1-19a7f8552a8b",
   "metadata": {},
   "outputs": [
    {
     "data": {
      "text/plain": [
       "<Axes: ylabel='loan_percent_income'>"
      ]
     },
     "execution_count": 83,
     "metadata": {},
     "output_type": "execute_result"
    },
    {
     "data": {
      "image/png": "[encoded data removed]",
      "text/plain": [
       "<Figure size 640x480 with 1 Axes>"
      ]
     },
     "metadata": {},
     "output_type": "display_data"
    }
   ],
   "source": [
    "sns.boxplot(cleaned_loans_train_df[\"loan_percent_income\"])"
   ]
  },
  {
   "cell_type": "code",
   "execution_count": 84,
   "id": "753cac65-f011-4795-8d96-3c3f10e8a521",
   "metadata": {},
   "outputs": [
    {
     "data": {
      "text/plain": [
       "0        0.117377\n",
       "1       -0.973233\n",
       "2        0.553621\n",
       "3        0.117377\n",
       "4       -0.646050\n",
       "           ...   \n",
       "58640    0.553621\n",
       "58641    2.080475\n",
       "58642   -0.100745\n",
       "58643    0.117377\n",
       "58644    0.444560\n",
       "Name: loan_percent_income, Length: 58645, dtype: float64"
      ]
     },
     "execution_count": 84,
     "metadata": {},
     "output_type": "execute_result"
    }
   ],
   "source": [
    "# Standardize Ages\n",
    "standardized_train_loan_percent_income = standardize(cleaned_loans_train_df[\"loan_percent_income\"])\n",
    "standardized_test_loan_percent_income = standardize_test(cleaned_loans_train_df[\"loan_percent_income\"], cleaned_loans_test_df[\"loan_percent_income\"])\n",
    "\n",
    "standardized_train_loan_percent_income"
   ]
  },
  {
   "cell_type": "code",
   "execution_count": 85,
   "id": "e63d9b73-5a70-4d40-9cfd-1cef9a37e09e",
   "metadata": {},
   "outputs": [
    {
     "data": {
      "image/png": "[encoded data removed]",
      "text/plain": [
       "<Figure size 640x480 with 1 Axes>"
      ]
     },
     "metadata": {},
     "output_type": "display_data"
    }
   ],
   "source": [
    "show_hist(standardized_train_loan_percent_income, 15)"
   ]
  },
  {
   "cell_type": "code",
   "execution_count": 86,
   "id": "414e25da-da8d-4518-96fe-f3e91b28eae9",
   "metadata": {},
   "outputs": [
    {
     "data": {
      "text/plain": [
       "<Axes: ylabel='loan_percent_income'>"
      ]
     },
     "execution_count": 86,
     "metadata": {},
     "output_type": "execute_result"
    },
    {
     "data": {
      "image/png": "[encoded data removed]",
      "text/plain": [
       "<Figure size 640x480 with 1 Axes>"
      ]
     },
     "metadata": {},
     "output_type": "display_data"
    }
   ],
   "source": [
    "sns.boxplot(standardized_train_loan_percent_income)"
   ]
  },
  {
   "cell_type": "code",
   "execution_count": 87,
   "id": "da9063ee-dc03-4c55-8a37-21b215c67acd",
   "metadata": {},
   "outputs": [],
   "source": [
    "cleaned_loans_train_df[\"loan_percent_income\"] = standardized_train_loan_percent_income.copy(deep=True)\n",
    "cleaned_loans_test_df[\"loan_percent_income\"] = standardized_test_loan_percent_income.copy(deep=True)"
   ]
  },
  {
   "cell_type": "markdown",
   "id": "deacfd19-bd9b-49e0-8add-13e51a842d2f",
   "metadata": {},
   "source": [
    "### 2.10 CB Person Default On File"
   ]
  },
  {
   "cell_type": "code",
   "execution_count": 88,
   "id": "4c50daca-5b1e-4f37-99ff-fc8aee427541",
   "metadata": {},
   "outputs": [
    {
     "name": "stdout",
     "output_type": "stream",
     "text": [
      "cb_person_default_on_file\n",
      "N    49943\n",
      "Y     8702\n",
      "Name: count, dtype: int64\n"
     ]
    }
   ],
   "source": [
    "print(cleaned_loans_train_df[\"cb_person_default_on_file\"].value_counts())"
   ]
  },
  {
   "cell_type": "code",
   "execution_count": 89,
   "id": "5d6acdb8-8c70-4e06-a0db-a2f69a873550",
   "metadata": {},
   "outputs": [
    {
     "data": {
      "text/plain": [
       "0        0\n",
       "1        0\n",
       "2        0\n",
       "3        0\n",
       "4        0\n",
       "        ..\n",
       "58640    1\n",
       "58641    0\n",
       "58642    0\n",
       "58643    0\n",
       "58644    0\n",
       "Name: cb_person_default_on_file, Length: 58645, dtype: int64"
      ]
     },
     "execution_count": 89,
     "metadata": {},
     "output_type": "execute_result"
    }
   ],
   "source": [
    "new_cb_person_default_on_file_train_df = cleaned_loans_train_df[\"cb_person_default_on_file\"].map({'N': 0, 'Y': 1})\n",
    "new_cb_person_default_on_file_test_df = cleaned_loans_test_df[\"cb_person_default_on_file\"].map({'N': 0, 'Y': 1})\n",
    "\n",
    "new_cb_person_default_on_file_train_df"
   ]
  },
  {
   "cell_type": "code",
   "execution_count": 90,
   "id": "e3b4e400-41b9-49cf-86ff-cdbbc9f8bfdd",
   "metadata": {},
   "outputs": [],
   "source": [
    "cleaned_loans_train_df[\"cb_person_default_on_file\"] = new_cb_person_default_on_file_train_df.copy(deep=True)\n",
    "cleaned_loans_test_df[\"cb_person_default_on_file\"] = new_cb_person_default_on_file_test_df.copy(deep=True)"
   ]
  },
  {
   "cell_type": "markdown",
   "id": "050153d3-39c4-431a-b81f-c66087989d83",
   "metadata": {},
   "source": [
    "### 2.11 CB person Credit History Length"
   ]
  },
  {
   "cell_type": "code",
   "execution_count": 91,
   "id": "4d1fc756-4d9d-45af-86f2-542cb6f14bde",
   "metadata": {},
   "outputs": [
    {
     "name": "stdout",
     "output_type": "stream",
     "text": [
      "Min: 2 Max: 30 Range: 28\n"
     ]
    }
   ],
   "source": [
    "print(showRange(cleaned_loans_train_df[\"cb_person_cred_hist_length\"]))"
   ]
  },
  {
   "cell_type": "code",
   "execution_count": 92,
   "id": "90a5b4db-0a33-4534-8ff9-e2040e4d91fc",
   "metadata": {},
   "outputs": [
    {
     "name": "stdout",
     "output_type": "stream",
     "text": [
      "0\n"
     ]
    }
   ],
   "source": [
    "print(getMissingEntriesCount(cleaned_loans_train_df[\"cb_person_cred_hist_length\"]))"
   ]
  },
  {
   "cell_type": "markdown",
   "id": "01113f3c-5888-4954-8b05-5d0288964b76",
   "metadata": {},
   "source": [
    "It can be seen that the age does not have a normal distribution."
   ]
  },
  {
   "cell_type": "code",
   "execution_count": 93,
   "id": "cf4a061d-9cf8-4924-a434-34c12b1f006a",
   "metadata": {},
   "outputs": [
    {
     "data": {
      "image/png": "[encoded data removed]",
      "text/plain": [
       "<Figure size 640x480 with 1 Axes>"
      ]
     },
     "metadata": {},
     "output_type": "display_data"
    }
   ],
   "source": [
    "show_hist(cleaned_loans_train_df[\"cb_person_cred_hist_length\"], 28)"
   ]
  },
  {
   "cell_type": "code",
   "execution_count": 94,
   "id": "ec99ec56-8a9e-4fbe-a608-ac662ee09672",
   "metadata": {},
   "outputs": [
    {
     "data": {
      "text/plain": [
       "cb_person_cred_hist_length\n",
       "3     10708\n",
       "2     10657\n",
       "4     10566\n",
       "9      3499\n",
       "8      3477\n",
       "7      3392\n",
       "6      3391\n",
       "10     3364\n",
       "5      3345\n",
       "14      927\n",
       "12      883\n",
       "11      858\n",
       "13      850\n",
       "16      776\n",
       "15      735\n",
       "17      725\n",
       "20       62\n",
       "24       48\n",
       "19       47\n",
       "27       46\n",
       "28       39\n",
       "22       38\n",
       "21       37\n",
       "23       35\n",
       "26       31\n",
       "25       31\n",
       "30       28\n",
       "29       26\n",
       "18       24\n",
       "Name: count, dtype: int64"
      ]
     },
     "execution_count": 94,
     "metadata": {},
     "output_type": "execute_result"
    }
   ],
   "source": [
    "cleaned_loans_train_df[\"cb_person_cred_hist_length\"].value_counts()"
   ]
  },
  {
   "cell_type": "code",
   "execution_count": 95,
   "id": "5d68f79e-0ab4-4b2d-90bb-81c8f7f61757",
   "metadata": {},
   "outputs": [
    {
     "name": "stderr",
     "output_type": "stream",
     "text": [
      "C:\\Users\\Aaron\\AppData\\Local\\Temp\\ipykernel_22272\\559591050.py:2: FutureWarning: Setting an item of incompatible dtype is deprecated and will raise in a future error of pandas. Value '18_above' has dtype incompatible with int64, please explicitly cast to a compatible dtype first.\n",
      "  binned_train_cb_person_cred_hist_length_s.mask(binned_train_cb_person_cred_hist_length_s > 17, \"18_above\", inplace=True)\n"
     ]
    }
   ],
   "source": [
    "binned_train_cb_person_cred_hist_length_s = cleaned_loans_train_df[\"cb_person_cred_hist_length\"].copy(deep=True)\n",
    "binned_train_cb_person_cred_hist_length_s.mask(binned_train_cb_person_cred_hist_length_s > 17, \"18_above\", inplace=True)\n",
    "binned_train_cb_person_cred_hist_length_s.replace({0: \"5_below\", \n",
    "                                             1: \"5_below\", \n",
    "                                             2: \"5_below\", \n",
    "                                             3: \"5_below\", \n",
    "                                             4: \"5_below\", \n",
    "                                             5: \"5_10\", \n",
    "                                             6: \"5_10\", \n",
    "                                             7: \"5_10\", \n",
    "                                             8: \"5_10\", \n",
    "                                             9: \"5_10\", \n",
    "                                             10: \"5_10\", \n",
    "                                             11: \"11_17\", \n",
    "                                             12: \"11_17\",\n",
    "                                             13: \"11_17\", \n",
    "                                             14: \"11_17\",\n",
    "                                             15: \"11_17\", \n",
    "                                             16: \"11_17\",\n",
    "                                             17: \"11_17\"}, inplace=True)"
   ]
  },
  {
   "cell_type": "code",
   "execution_count": 96,
   "id": "cbcbb717-8802-4bf1-bd60-4984448cbb1f",
   "metadata": {},
   "outputs": [
    {
     "name": "stderr",
     "output_type": "stream",
     "text": [
      "C:\\Users\\Aaron\\AppData\\Local\\Temp\\ipykernel_22272\\3917179435.py:2: FutureWarning: Setting an item of incompatible dtype is deprecated and will raise in a future error of pandas. Value '18_above' has dtype incompatible with int64, please explicitly cast to a compatible dtype first.\n",
      "  binned_test_cb_person_cred_hist_length_s.mask(binned_test_cb_person_cred_hist_length_s > 17, \"18_above\", inplace=True)\n"
     ]
    }
   ],
   "source": [
    "binned_test_cb_person_cred_hist_length_s = cleaned_loans_test_df[\"cb_person_cred_hist_length\"].copy(deep=True)\n",
    "binned_test_cb_person_cred_hist_length_s.mask(binned_test_cb_person_cred_hist_length_s > 17, \"18_above\", inplace=True)\n",
    "binned_test_cb_person_cred_hist_length_s.replace({0: \"5_below\", \n",
    "                                             1: \"5_below\", \n",
    "                                             2: \"5_below\", \n",
    "                                             3: \"5_below\", \n",
    "                                             4: \"5_below\", \n",
    "                                             5: \"5_10\", \n",
    "                                             6: \"5_10\", \n",
    "                                             7: \"5_10\", \n",
    "                                             8: \"5_10\", \n",
    "                                             9: \"5_10\", \n",
    "                                             10: \"5_10\", \n",
    "                                             11: \"11_17\", \n",
    "                                             12: \"11_17\",\n",
    "                                             13: \"11_17\", \n",
    "                                             14: \"11_17\",\n",
    "                                             15: \"11_17\", \n",
    "                                             16: \"11_17\",\n",
    "                                             17: \"11_17\"}, inplace=True)"
   ]
  },
  {
   "cell_type": "code",
   "execution_count": 97,
   "id": "d10a61af-0227-4484-a3ae-86dcf42d43c3",
   "metadata": {},
   "outputs": [
    {
     "data": {
      "text/plain": [
       "cb_person_cred_hist_length\n",
       "5_below     31931\n",
       "5_10        20468\n",
       "11_17        5754\n",
       "18_above      492\n",
       "Name: count, dtype: int64"
      ]
     },
     "execution_count": 97,
     "metadata": {},
     "output_type": "execute_result"
    }
   ],
   "source": [
    "binned_train_cb_person_cred_hist_length_s.value_counts()"
   ]
  },
  {
   "cell_type": "code",
   "execution_count": 98,
   "id": "e26aec6a-d4bc-466f-b68d-8c0e41336f00",
   "metadata": {},
   "outputs": [
    {
     "data": {
      "text/html": [
       "<div>\n",
       "<style scoped>\n",
       "    .dataframe tbody tr th:only-of-type {\n",
       "        vertical-align: middle;\n",
       "    }\n",
       "\n",
       "    .dataframe tbody tr th {\n",
       "        vertical-align: top;\n",
       "    }\n",
       "\n",
       "    .dataframe thead th {\n",
       "        text-align: right;\n",
       "    }\n",
       "</style>\n",
       "<table border=\"1\" class=\"dataframe\">\n",
       "  <thead>\n",
       "    <tr style=\"text-align: right;\">\n",
       "      <th></th>\n",
       "      <th>CB_PERSON_CRED_HIST_LENGTH_11_17</th>\n",
       "      <th>CB_PERSON_CRED_HIST_LENGTH_18_above</th>\n",
       "      <th>CB_PERSON_CRED_HIST_LENGTH_5_10</th>\n",
       "      <th>CB_PERSON_CRED_HIST_LENGTH_5_below</th>\n",
       "    </tr>\n",
       "  </thead>\n",
       "  <tbody>\n",
       "    <tr>\n",
       "      <th>0</th>\n",
       "      <td>1</td>\n",
       "      <td>0</td>\n",
       "      <td>0</td>\n",
       "      <td>0</td>\n",
       "    </tr>\n",
       "    <tr>\n",
       "      <th>1</th>\n",
       "      <td>0</td>\n",
       "      <td>0</td>\n",
       "      <td>0</td>\n",
       "      <td>1</td>\n",
       "    </tr>\n",
       "    <tr>\n",
       "      <th>2</th>\n",
       "      <td>0</td>\n",
       "      <td>0</td>\n",
       "      <td>1</td>\n",
       "      <td>0</td>\n",
       "    </tr>\n",
       "    <tr>\n",
       "      <th>3</th>\n",
       "      <td>0</td>\n",
       "      <td>0</td>\n",
       "      <td>1</td>\n",
       "      <td>0</td>\n",
       "    </tr>\n",
       "    <tr>\n",
       "      <th>4</th>\n",
       "      <td>0</td>\n",
       "      <td>0</td>\n",
       "      <td>0</td>\n",
       "      <td>1</td>\n",
       "    </tr>\n",
       "    <tr>\n",
       "      <th>...</th>\n",
       "      <td>...</td>\n",
       "      <td>...</td>\n",
       "      <td>...</td>\n",
       "      <td>...</td>\n",
       "    </tr>\n",
       "    <tr>\n",
       "      <th>58640</th>\n",
       "      <td>0</td>\n",
       "      <td>0</td>\n",
       "      <td>1</td>\n",
       "      <td>0</td>\n",
       "    </tr>\n",
       "    <tr>\n",
       "      <th>58641</th>\n",
       "      <td>0</td>\n",
       "      <td>0</td>\n",
       "      <td>1</td>\n",
       "      <td>0</td>\n",
       "    </tr>\n",
       "    <tr>\n",
       "      <th>58642</th>\n",
       "      <td>0</td>\n",
       "      <td>0</td>\n",
       "      <td>0</td>\n",
       "      <td>1</td>\n",
       "    </tr>\n",
       "    <tr>\n",
       "      <th>58643</th>\n",
       "      <td>0</td>\n",
       "      <td>0</td>\n",
       "      <td>0</td>\n",
       "      <td>1</td>\n",
       "    </tr>\n",
       "    <tr>\n",
       "      <th>58644</th>\n",
       "      <td>0</td>\n",
       "      <td>0</td>\n",
       "      <td>1</td>\n",
       "      <td>0</td>\n",
       "    </tr>\n",
       "  </tbody>\n",
       "</table>\n",
       "<p>58645 rows × 4 columns</p>\n",
       "</div>"
      ],
      "text/plain": [
       "       CB_PERSON_CRED_HIST_LENGTH_11_17  CB_PERSON_CRED_HIST_LENGTH_18_above  \\\n",
       "0                                     1                                    0   \n",
       "1                                     0                                    0   \n",
       "2                                     0                                    0   \n",
       "3                                     0                                    0   \n",
       "4                                     0                                    0   \n",
       "...                                 ...                                  ...   \n",
       "58640                                 0                                    0   \n",
       "58641                                 0                                    0   \n",
       "58642                                 0                                    0   \n",
       "58643                                 0                                    0   \n",
       "58644                                 0                                    0   \n",
       "\n",
       "       CB_PERSON_CRED_HIST_LENGTH_5_10  CB_PERSON_CRED_HIST_LENGTH_5_below  \n",
       "0                                    0                                   0  \n",
       "1                                    0                                   1  \n",
       "2                                    1                                   0  \n",
       "3                                    1                                   0  \n",
       "4                                    0                                   1  \n",
       "...                                ...                                 ...  \n",
       "58640                                1                                   0  \n",
       "58641                                1                                   0  \n",
       "58642                                0                                   1  \n",
       "58643                                0                                   1  \n",
       "58644                                1                                   0  \n",
       "\n",
       "[58645 rows x 4 columns]"
      ]
     },
     "execution_count": 98,
     "metadata": {},
     "output_type": "execute_result"
    }
   ],
   "source": [
    "one_hot_train_cb_person_cred_hist_length_df = pd.get_dummies(binned_train_cb_person_cred_hist_length_s, prefix=\"CB_PERSON_CRED_HIST_LENGTH\").astype(int)\n",
    "one_hot_test_cb_person_cred_hist_length_df = pd.get_dummies(binned_test_cb_person_cred_hist_length_s, prefix=\"CB_PERSON_CRED_HIST_LENGTH\").astype(int)\n",
    "one_hot_train_cb_person_cred_hist_length_df"
   ]
  },
  {
   "cell_type": "code",
   "execution_count": 99,
   "id": "58ccf210-76bf-453e-9b64-87a0ef0ee296",
   "metadata": {},
   "outputs": [],
   "source": [
    "cleaned_loans_train_df = pd.concat([cleaned_loans_train_df, one_hot_train_cb_person_cred_hist_length_df], axis=1)\n",
    "cleaned_loans_test_df = pd.concat([cleaned_loans_test_df, one_hot_test_cb_person_cred_hist_length_df], axis=1)"
   ]
  },
  {
   "cell_type": "code",
   "execution_count": 100,
   "id": "552e43da-6087-4f3f-b0ee-fdbbea3dfd02",
   "metadata": {},
   "outputs": [],
   "source": [
    "cleaned_loans_train_df.drop(columns=[\"cb_person_cred_hist_length\"], inplace=True)\n",
    "cleaned_loans_test_df.drop(columns=[\"cb_person_cred_hist_length\"], inplace=True)"
   ]
  },
  {
   "cell_type": "markdown",
   "id": "f3e079d8-7545-4eee-91a3-900b6574e43a",
   "metadata": {},
   "source": [
    "## 3. Oversampling"
   ]
  },
  {
   "cell_type": "markdown",
   "id": "bc9920f3-f710-484a-a955-8bb9fa19969c",
   "metadata": {},
   "source": [
    "Check number of samples in each class. It can be seen that they are greatly imbalanced."
   ]
  },
  {
   "cell_type": "code",
   "execution_count": 101,
   "id": "b8f43caa-cea4-4231-a7c6-e6a8fc77d0e0",
   "metadata": {},
   "outputs": [
    {
     "data": {
      "text/plain": [
       "loan_status\n",
       "0    50295\n",
       "1     8350\n",
       "Name: count, dtype: int64"
      ]
     },
     "execution_count": 101,
     "metadata": {},
     "output_type": "execute_result"
    }
   ],
   "source": [
    "cleaned_loans_train_df[\"loan_status\"].value_counts()"
   ]
  },
  {
   "cell_type": "markdown",
   "id": "4c04edce-2c61-4f99-b125-4e88a1ddf360",
   "metadata": {},
   "source": [
    "Begin sampling using ADASYN."
   ]
  },
  {
   "cell_type": "code",
   "execution_count": 103,
   "id": "9cdaa318-f56d-4c89-b736-46a364d676e1",
   "metadata": {},
   "outputs": [
    {
     "data": {
      "text/plain": [
       "((58645, 28), (58645,))"
      ]
     },
     "execution_count": 103,
     "metadata": {},
     "output_type": "execute_result"
    }
   ],
   "source": [
    "X = cleaned_loans_train_df.loc[:, cleaned_loans_train_df.columns != \"loan_status\"]\n",
    "X = X.loc[:, X.columns != \"id\"]\n",
    "\n",
    "y = cleaned_loans_train_df[\"loan_status\"]\n",
    "\n",
    "X.shape, y.shape"
   ]
  },
  {
   "cell_type": "code",
   "execution_count": 106,
   "id": "c85175d3-1e39-4b48-8e24-4d4b942a1728",
   "metadata": {},
   "outputs": [
    {
     "data": {
      "text/plain": [
       "((100541, 28), (100541,))"
      ]
     },
     "execution_count": 106,
     "metadata": {},
     "output_type": "execute_result"
    }
   ],
   "source": [
    "from collections import Counter\n",
    "from sklearn.datasets import make_classification\n",
    "from imblearn.over_sampling import ADASYN\n",
    "\n",
    "ada = ADASYN(sampling_strategy=1.0, random_state=42)\n",
    "X_res, y_res = ada.fit_resample(X, y)\n",
    "X_res.shape, y_res.shape"
   ]
  },
  {
   "cell_type": "code",
   "execution_count": 107,
   "id": "afe19095-45bb-48be-9c9d-9f08d5b8bc77",
   "metadata": {},
   "outputs": [
    {
     "data": {
      "text/plain": [
       "loan_status\n",
       "0    50295\n",
       "1    50246\n",
       "Name: count, dtype: int64"
      ]
     },
     "execution_count": 107,
     "metadata": {},
     "output_type": "execute_result"
    }
   ],
   "source": [
    "##Rebuild the train dataset\n",
    "cleaned_loans_train_df = pd.concat([X_res, y_res], axis=1)\n",
    "cleaned_loans_train_df[\"loan_status\"].value_counts()"
   ]
  },
  {
   "cell_type": "markdown",
   "id": "c0a0c789-2ceb-4ce8-bb6b-3f9b5c5e0d79",
   "metadata": {},
   "source": [
    "## 4. Saving transformations"
   ]
  },
  {
   "cell_type": "code",
   "execution_count": 108,
   "id": "39d94fc6-7e18-4c1f-a823-96f49dd9d4e6",
   "metadata": {},
   "outputs": [
    {
     "data": {
      "text/html": [
       "<div>\n",
       "<style scoped>\n",
       "    .dataframe tbody tr th:only-of-type {\n",
       "        vertical-align: middle;\n",
       "    }\n",
       "\n",
       "    .dataframe tbody tr th {\n",
       "        vertical-align: top;\n",
       "    }\n",
       "\n",
       "    .dataframe thead th {\n",
       "        text-align: right;\n",
       "    }\n",
       "</style>\n",
       "<table border=\"1\" class=\"dataframe\">\n",
       "  <thead>\n",
       "    <tr style=\"text-align: right;\">\n",
       "      <th></th>\n",
       "      <th>person_age</th>\n",
       "      <th>person_income</th>\n",
       "      <th>person_emp_length</th>\n",
       "      <th>loan_amnt</th>\n",
       "      <th>loan_int_rate</th>\n",
       "      <th>loan_percent_income</th>\n",
       "      <th>cb_person_default_on_file</th>\n",
       "      <th>HOME_OWNERSHIP_MORTGAGE</th>\n",
       "      <th>HOME_OWNERSHIP_OTHER</th>\n",
       "      <th>HOME_OWNERSHIP_OWN</th>\n",
       "      <th>...</th>\n",
       "      <th>LOAN_GRADE_C</th>\n",
       "      <th>LOAN_GRADE_D</th>\n",
       "      <th>LOAN_GRADE_E</th>\n",
       "      <th>LOAN_GRADE_F</th>\n",
       "      <th>LOAN_GRADE_G</th>\n",
       "      <th>CB_PERSON_CRED_HIST_LENGTH_11_17</th>\n",
       "      <th>CB_PERSON_CRED_HIST_LENGTH_18_above</th>\n",
       "      <th>CB_PERSON_CRED_HIST_LENGTH_5_10</th>\n",
       "      <th>CB_PERSON_CRED_HIST_LENGTH_5_below</th>\n",
       "      <th>loan_status</th>\n",
       "    </tr>\n",
       "  </thead>\n",
       "  <tbody>\n",
       "    <tr>\n",
       "      <th>0</th>\n",
       "      <td>1.569810</td>\n",
       "      <td>-1.081300</td>\n",
       "      <td>-1.896802</td>\n",
       "      <td>-0.376831</td>\n",
       "      <td>0.516442</td>\n",
       "      <td>0.117377</td>\n",
       "      <td>0</td>\n",
       "      <td>0</td>\n",
       "      <td>0</td>\n",
       "      <td>0</td>\n",
       "      <td>...</td>\n",
       "      <td>0</td>\n",
       "      <td>0</td>\n",
       "      <td>0</td>\n",
       "      <td>0</td>\n",
       "      <td>0</td>\n",
       "      <td>1</td>\n",
       "      <td>0</td>\n",
       "      <td>0</td>\n",
       "      <td>0</td>\n",
       "      <td>0</td>\n",
       "    </tr>\n",
       "    <tr>\n",
       "      <th>1</th>\n",
       "      <td>-0.921749</td>\n",
       "      <td>-0.052533</td>\n",
       "      <td>0.601256</td>\n",
       "      <td>-1.008211</td>\n",
       "      <td>0.619568</td>\n",
       "      <td>-0.973233</td>\n",
       "      <td>0</td>\n",
       "      <td>0</td>\n",
       "      <td>0</td>\n",
       "      <td>1</td>\n",
       "      <td>...</td>\n",
       "      <td>1</td>\n",
       "      <td>0</td>\n",
       "      <td>0</td>\n",
       "      <td>0</td>\n",
       "      <td>0</td>\n",
       "      <td>0</td>\n",
       "      <td>0</td>\n",
       "      <td>0</td>\n",
       "      <td>1</td>\n",
       "      <td>0</td>\n",
       "    </tr>\n",
       "    <tr>\n",
       "      <th>2</th>\n",
       "      <td>0.240979</td>\n",
       "      <td>-1.508067</td>\n",
       "      <td>0.923880</td>\n",
       "      <td>-0.376831</td>\n",
       "      <td>0.340882</td>\n",
       "      <td>0.553621</td>\n",
       "      <td>0</td>\n",
       "      <td>0</td>\n",
       "      <td>0</td>\n",
       "      <td>1</td>\n",
       "      <td>...</td>\n",
       "      <td>0</td>\n",
       "      <td>0</td>\n",
       "      <td>0</td>\n",
       "      <td>0</td>\n",
       "      <td>0</td>\n",
       "      <td>0</td>\n",
       "      <td>0</td>\n",
       "      <td>1</td>\n",
       "      <td>0</td>\n",
       "      <td>0</td>\n",
       "    </tr>\n",
       "    <tr>\n",
       "      <th>3</th>\n",
       "      <td>0.407083</td>\n",
       "      <td>0.435895</td>\n",
       "      <td>1.579652</td>\n",
       "      <td>0.702519</td>\n",
       "      <td>0.493327</td>\n",
       "      <td>0.117377</td>\n",
       "      <td>0</td>\n",
       "      <td>0</td>\n",
       "      <td>0</td>\n",
       "      <td>0</td>\n",
       "      <td>...</td>\n",
       "      <td>0</td>\n",
       "      <td>0</td>\n",
       "      <td>0</td>\n",
       "      <td>0</td>\n",
       "      <td>0</td>\n",
       "      <td>0</td>\n",
       "      <td>0</td>\n",
       "      <td>1</td>\n",
       "      <td>0</td>\n",
       "      <td>0</td>\n",
       "    </tr>\n",
       "    <tr>\n",
       "      <th>4</th>\n",
       "      <td>-0.921749</td>\n",
       "      <td>0.098482</td>\n",
       "      <td>-0.486461</td>\n",
       "      <td>-0.376831</td>\n",
       "      <td>0.167927</td>\n",
       "      <td>-0.646050</td>\n",
       "      <td>0</td>\n",
       "      <td>0</td>\n",
       "      <td>0</td>\n",
       "      <td>0</td>\n",
       "      <td>...</td>\n",
       "      <td>0</td>\n",
       "      <td>0</td>\n",
       "      <td>0</td>\n",
       "      <td>0</td>\n",
       "      <td>0</td>\n",
       "      <td>0</td>\n",
       "      <td>0</td>\n",
       "      <td>0</td>\n",
       "      <td>1</td>\n",
       "      <td>0</td>\n",
       "    </tr>\n",
       "    <tr>\n",
       "      <th>...</th>\n",
       "      <td>...</td>\n",
       "      <td>...</td>\n",
       "      <td>...</td>\n",
       "      <td>...</td>\n",
       "      <td>...</td>\n",
       "      <td>...</td>\n",
       "      <td>...</td>\n",
       "      <td>...</td>\n",
       "      <td>...</td>\n",
       "      <td>...</td>\n",
       "      <td>...</td>\n",
       "      <td>...</td>\n",
       "      <td>...</td>\n",
       "      <td>...</td>\n",
       "      <td>...</td>\n",
       "      <td>...</td>\n",
       "      <td>...</td>\n",
       "      <td>...</td>\n",
       "      <td>...</td>\n",
       "      <td>...</td>\n",
       "      <td>...</td>\n",
       "    </tr>\n",
       "    <tr>\n",
       "      <th>100536</th>\n",
       "      <td>-0.825840</td>\n",
       "      <td>-0.691982</td>\n",
       "      <td>0.517694</td>\n",
       "      <td>-0.144317</td>\n",
       "      <td>0.769886</td>\n",
       "      <td>0.037522</td>\n",
       "      <td>0</td>\n",
       "      <td>0</td>\n",
       "      <td>0</td>\n",
       "      <td>0</td>\n",
       "      <td>...</td>\n",
       "      <td>0</td>\n",
       "      <td>1</td>\n",
       "      <td>0</td>\n",
       "      <td>0</td>\n",
       "      <td>0</td>\n",
       "      <td>0</td>\n",
       "      <td>0</td>\n",
       "      <td>0</td>\n",
       "      <td>1</td>\n",
       "      <td>1</td>\n",
       "    </tr>\n",
       "    <tr>\n",
       "      <th>100537</th>\n",
       "      <td>-0.648155</td>\n",
       "      <td>-0.427946</td>\n",
       "      <td>0.870524</td>\n",
       "      <td>-0.018163</td>\n",
       "      <td>0.714130</td>\n",
       "      <td>-0.030169</td>\n",
       "      <td>0</td>\n",
       "      <td>0</td>\n",
       "      <td>0</td>\n",
       "      <td>0</td>\n",
       "      <td>...</td>\n",
       "      <td>0</td>\n",
       "      <td>1</td>\n",
       "      <td>0</td>\n",
       "      <td>0</td>\n",
       "      <td>0</td>\n",
       "      <td>0</td>\n",
       "      <td>0</td>\n",
       "      <td>0</td>\n",
       "      <td>1</td>\n",
       "      <td>1</td>\n",
       "    </tr>\n",
       "    <tr>\n",
       "      <th>100538</th>\n",
       "      <td>-0.755645</td>\n",
       "      <td>-0.620268</td>\n",
       "      <td>0.668372</td>\n",
       "      <td>-0.215623</td>\n",
       "      <td>0.754603</td>\n",
       "      <td>-0.100745</td>\n",
       "      <td>0</td>\n",
       "      <td>0</td>\n",
       "      <td>0</td>\n",
       "      <td>0</td>\n",
       "      <td>...</td>\n",
       "      <td>0</td>\n",
       "      <td>1</td>\n",
       "      <td>0</td>\n",
       "      <td>0</td>\n",
       "      <td>0</td>\n",
       "      <td>0</td>\n",
       "      <td>0</td>\n",
       "      <td>0</td>\n",
       "      <td>1</td>\n",
       "      <td>1</td>\n",
       "    </tr>\n",
       "    <tr>\n",
       "      <th>100539</th>\n",
       "      <td>-0.893148</td>\n",
       "      <td>-0.798974</td>\n",
       "      <td>0.273201</td>\n",
       "      <td>-0.108250</td>\n",
       "      <td>0.794685</td>\n",
       "      <td>0.170102</td>\n",
       "      <td>0</td>\n",
       "      <td>0</td>\n",
       "      <td>0</td>\n",
       "      <td>0</td>\n",
       "      <td>...</td>\n",
       "      <td>0</td>\n",
       "      <td>1</td>\n",
       "      <td>0</td>\n",
       "      <td>0</td>\n",
       "      <td>0</td>\n",
       "      <td>0</td>\n",
       "      <td>0</td>\n",
       "      <td>0</td>\n",
       "      <td>1</td>\n",
       "      <td>1</td>\n",
       "    </tr>\n",
       "    <tr>\n",
       "      <th>100540</th>\n",
       "      <td>-0.599728</td>\n",
       "      <td>-0.359261</td>\n",
       "      <td>0.914607</td>\n",
       "      <td>0.055619</td>\n",
       "      <td>0.700662</td>\n",
       "      <td>0.001627</td>\n",
       "      <td>0</td>\n",
       "      <td>0</td>\n",
       "      <td>0</td>\n",
       "      <td>0</td>\n",
       "      <td>...</td>\n",
       "      <td>0</td>\n",
       "      <td>1</td>\n",
       "      <td>0</td>\n",
       "      <td>0</td>\n",
       "      <td>0</td>\n",
       "      <td>0</td>\n",
       "      <td>0</td>\n",
       "      <td>0</td>\n",
       "      <td>1</td>\n",
       "      <td>1</td>\n",
       "    </tr>\n",
       "  </tbody>\n",
       "</table>\n",
       "<p>100541 rows × 29 columns</p>\n",
       "</div>"
      ],
      "text/plain": [
       "        person_age  person_income  person_emp_length  loan_amnt  \\\n",
       "0         1.569810      -1.081300          -1.896802  -0.376831   \n",
       "1        -0.921749      -0.052533           0.601256  -1.008211   \n",
       "2         0.240979      -1.508067           0.923880  -0.376831   \n",
       "3         0.407083       0.435895           1.579652   0.702519   \n",
       "4        -0.921749       0.098482          -0.486461  -0.376831   \n",
       "...            ...            ...                ...        ...   \n",
       "100536   -0.825840      -0.691982           0.517694  -0.144317   \n",
       "100537   -0.648155      -0.427946           0.870524  -0.018163   \n",
       "100538   -0.755645      -0.620268           0.668372  -0.215623   \n",
       "100539   -0.893148      -0.798974           0.273201  -0.108250   \n",
       "100540   -0.599728      -0.359261           0.914607   0.055619   \n",
       "\n",
       "        loan_int_rate  loan_percent_income  cb_person_default_on_file  \\\n",
       "0            0.516442             0.117377                          0   \n",
       "1            0.619568            -0.973233                          0   \n",
       "2            0.340882             0.553621                          0   \n",
       "3            0.493327             0.117377                          0   \n",
       "4            0.167927            -0.646050                          0   \n",
       "...               ...                  ...                        ...   \n",
       "100536       0.769886             0.037522                          0   \n",
       "100537       0.714130            -0.030169                          0   \n",
       "100538       0.754603            -0.100745                          0   \n",
       "100539       0.794685             0.170102                          0   \n",
       "100540       0.700662             0.001627                          0   \n",
       "\n",
       "        HOME_OWNERSHIP_MORTGAGE  HOME_OWNERSHIP_OTHER  HOME_OWNERSHIP_OWN  \\\n",
       "0                             0                     0                   0   \n",
       "1                             0                     0                   1   \n",
       "2                             0                     0                   1   \n",
       "3                             0                     0                   0   \n",
       "4                             0                     0                   0   \n",
       "...                         ...                   ...                 ...   \n",
       "100536                        0                     0                   0   \n",
       "100537                        0                     0                   0   \n",
       "100538                        0                     0                   0   \n",
       "100539                        0                     0                   0   \n",
       "100540                        0                     0                   0   \n",
       "\n",
       "        ...  LOAN_GRADE_C  LOAN_GRADE_D  LOAN_GRADE_E  LOAN_GRADE_F  \\\n",
       "0       ...             0             0             0             0   \n",
       "1       ...             1             0             0             0   \n",
       "2       ...             0             0             0             0   \n",
       "3       ...             0             0             0             0   \n",
       "4       ...             0             0             0             0   \n",
       "...     ...           ...           ...           ...           ...   \n",
       "100536  ...             0             1             0             0   \n",
       "100537  ...             0             1             0             0   \n",
       "100538  ...             0             1             0             0   \n",
       "100539  ...             0             1             0             0   \n",
       "100540  ...             0             1             0             0   \n",
       "\n",
       "        LOAN_GRADE_G  CB_PERSON_CRED_HIST_LENGTH_11_17  \\\n",
       "0                  0                                 1   \n",
       "1                  0                                 0   \n",
       "2                  0                                 0   \n",
       "3                  0                                 0   \n",
       "4                  0                                 0   \n",
       "...              ...                               ...   \n",
       "100536             0                                 0   \n",
       "100537             0                                 0   \n",
       "100538             0                                 0   \n",
       "100539             0                                 0   \n",
       "100540             0                                 0   \n",
       "\n",
       "        CB_PERSON_CRED_HIST_LENGTH_18_above  CB_PERSON_CRED_HIST_LENGTH_5_10  \\\n",
       "0                                         0                                0   \n",
       "1                                         0                                0   \n",
       "2                                         0                                1   \n",
       "3                                         0                                1   \n",
       "4                                         0                                0   \n",
       "...                                     ...                              ...   \n",
       "100536                                    0                                0   \n",
       "100537                                    0                                0   \n",
       "100538                                    0                                0   \n",
       "100539                                    0                                0   \n",
       "100540                                    0                                0   \n",
       "\n",
       "        CB_PERSON_CRED_HIST_LENGTH_5_below  loan_status  \n",
       "0                                        0            0  \n",
       "1                                        1            0  \n",
       "2                                        0            0  \n",
       "3                                        0            0  \n",
       "4                                        1            0  \n",
       "...                                    ...          ...  \n",
       "100536                                   1            1  \n",
       "100537                                   1            1  \n",
       "100538                                   1            1  \n",
       "100539                                   1            1  \n",
       "100540                                   1            1  \n",
       "\n",
       "[100541 rows x 29 columns]"
      ]
     },
     "execution_count": 108,
     "metadata": {},
     "output_type": "execute_result"
    }
   ],
   "source": [
    "cleaned_loans_train_df"
   ]
  },
  {
   "cell_type": "code",
   "execution_count": 110,
   "id": "b45a357d-52fb-4422-a9d1-7e9d4bb08f54",
   "metadata": {},
   "outputs": [
    {
     "data": {
      "text/html": [
       "<div>\n",
       "<style scoped>\n",
       "    .dataframe tbody tr th:only-of-type {\n",
       "        vertical-align: middle;\n",
       "    }\n",
       "\n",
       "    .dataframe tbody tr th {\n",
       "        vertical-align: top;\n",
       "    }\n",
       "\n",
       "    .dataframe thead th {\n",
       "        text-align: right;\n",
       "    }\n",
       "</style>\n",
       "<table border=\"1\" class=\"dataframe\">\n",
       "  <thead>\n",
       "    <tr style=\"text-align: right;\">\n",
       "      <th></th>\n",
       "      <th>id</th>\n",
       "      <th>person_age</th>\n",
       "      <th>person_income</th>\n",
       "      <th>person_emp_length</th>\n",
       "      <th>loan_amnt</th>\n",
       "      <th>loan_int_rate</th>\n",
       "      <th>loan_percent_income</th>\n",
       "      <th>cb_person_default_on_file</th>\n",
       "      <th>HOME_OWNERSHIP_MORTGAGE</th>\n",
       "      <th>HOME_OWNERSHIP_OTHER</th>\n",
       "      <th>...</th>\n",
       "      <th>LOAN_GRADE_B</th>\n",
       "      <th>LOAN_GRADE_C</th>\n",
       "      <th>LOAN_GRADE_D</th>\n",
       "      <th>LOAN_GRADE_E</th>\n",
       "      <th>LOAN_GRADE_F</th>\n",
       "      <th>LOAN_GRADE_G</th>\n",
       "      <th>CB_PERSON_CRED_HIST_LENGTH_11_17</th>\n",
       "      <th>CB_PERSON_CRED_HIST_LENGTH_18_above</th>\n",
       "      <th>CB_PERSON_CRED_HIST_LENGTH_5_10</th>\n",
       "      <th>CB_PERSON_CRED_HIST_LENGTH_5_below</th>\n",
       "    </tr>\n",
       "  </thead>\n",
       "  <tbody>\n",
       "    <tr>\n",
       "      <th>0</th>\n",
       "      <td>58645</td>\n",
       "      <td>-0.755645</td>\n",
       "      <td>0.404401</td>\n",
       "      <td>-0.117149</td>\n",
       "      <td>1.845437</td>\n",
       "      <td>0.733635</td>\n",
       "      <td>2.189536</td>\n",
       "      <td>0</td>\n",
       "      <td>0</td>\n",
       "      <td>0</td>\n",
       "      <td>...</td>\n",
       "      <td>0</td>\n",
       "      <td>0</td>\n",
       "      <td>0</td>\n",
       "      <td>0</td>\n",
       "      <td>1</td>\n",
       "      <td>0</td>\n",
       "      <td>0</td>\n",
       "      <td>0</td>\n",
       "      <td>0</td>\n",
       "      <td>1</td>\n",
       "    </tr>\n",
       "    <tr>\n",
       "      <th>1</th>\n",
       "      <td>58646</td>\n",
       "      <td>-0.257333</td>\n",
       "      <td>1.127250</td>\n",
       "      <td>0.601256</td>\n",
       "      <td>0.418613</td>\n",
       "      <td>0.584177</td>\n",
       "      <td>-0.646050</td>\n",
       "      <td>1</td>\n",
       "      <td>1</td>\n",
       "      <td>0</td>\n",
       "      <td>...</td>\n",
       "      <td>0</td>\n",
       "      <td>1</td>\n",
       "      <td>0</td>\n",
       "      <td>0</td>\n",
       "      <td>0</td>\n",
       "      <td>0</td>\n",
       "      <td>0</td>\n",
       "      <td>0</td>\n",
       "      <td>0</td>\n",
       "      <td>1</td>\n",
       "    </tr>\n",
       "    <tr>\n",
       "      <th>2</th>\n",
       "      <td>58647</td>\n",
       "      <td>-0.257333</td>\n",
       "      <td>-1.418713</td>\n",
       "      <td>0.403366</td>\n",
       "      <td>-1.008211</td>\n",
       "      <td>0.793331</td>\n",
       "      <td>-0.318867</td>\n",
       "      <td>1</td>\n",
       "      <td>0</td>\n",
       "      <td>0</td>\n",
       "      <td>...</td>\n",
       "      <td>0</td>\n",
       "      <td>0</td>\n",
       "      <td>0</td>\n",
       "      <td>1</td>\n",
       "      <td>0</td>\n",
       "      <td>0</td>\n",
       "      <td>0</td>\n",
       "      <td>0</td>\n",
       "      <td>0</td>\n",
       "      <td>1</td>\n",
       "    </tr>\n",
       "    <tr>\n",
       "      <th>3</th>\n",
       "      <td>58648</td>\n",
       "      <td>0.905394</td>\n",
       "      <td>-0.300592</td>\n",
       "      <td>0.169311</td>\n",
       "      <td>-0.136792</td>\n",
       "      <td>0.340882</td>\n",
       "      <td>-0.209806</td>\n",
       "      <td>0</td>\n",
       "      <td>0</td>\n",
       "      <td>0</td>\n",
       "      <td>...</td>\n",
       "      <td>0</td>\n",
       "      <td>0</td>\n",
       "      <td>0</td>\n",
       "      <td>0</td>\n",
       "      <td>0</td>\n",
       "      <td>0</td>\n",
       "      <td>0</td>\n",
       "      <td>0</td>\n",
       "      <td>1</td>\n",
       "      <td>0</td>\n",
       "    </tr>\n",
       "    <tr>\n",
       "      <th>4</th>\n",
       "      <td>58649</td>\n",
       "      <td>-0.257333</td>\n",
       "      <td>1.259949</td>\n",
       "      <td>0.923880</td>\n",
       "      <td>1.049993</td>\n",
       "      <td>0.757634</td>\n",
       "      <td>-0.100745</td>\n",
       "      <td>1</td>\n",
       "      <td>1</td>\n",
       "      <td>0</td>\n",
       "      <td>...</td>\n",
       "      <td>0</td>\n",
       "      <td>0</td>\n",
       "      <td>1</td>\n",
       "      <td>0</td>\n",
       "      <td>0</td>\n",
       "      <td>0</td>\n",
       "      <td>0</td>\n",
       "      <td>0</td>\n",
       "      <td>0</td>\n",
       "      <td>1</td>\n",
       "    </tr>\n",
       "    <tr>\n",
       "      <th>...</th>\n",
       "      <td>...</td>\n",
       "      <td>...</td>\n",
       "      <td>...</td>\n",
       "      <td>...</td>\n",
       "      <td>...</td>\n",
       "      <td>...</td>\n",
       "      <td>...</td>\n",
       "      <td>...</td>\n",
       "      <td>...</td>\n",
       "      <td>...</td>\n",
       "      <td>...</td>\n",
       "      <td>...</td>\n",
       "      <td>...</td>\n",
       "      <td>...</td>\n",
       "      <td>...</td>\n",
       "      <td>...</td>\n",
       "      <td>...</td>\n",
       "      <td>...</td>\n",
       "      <td>...</td>\n",
       "      <td>...</td>\n",
       "      <td>...</td>\n",
       "    </tr>\n",
       "    <tr>\n",
       "      <th>39093</th>\n",
       "      <td>97738</td>\n",
       "      <td>-0.921749</td>\n",
       "      <td>-1.332865</td>\n",
       "      <td>-0.486461</td>\n",
       "      <td>-1.456182</td>\n",
       "      <td>0.445950</td>\n",
       "      <td>-0.646050</td>\n",
       "      <td>0</td>\n",
       "      <td>1</td>\n",
       "      <td>0</td>\n",
       "      <td>...</td>\n",
       "      <td>1</td>\n",
       "      <td>0</td>\n",
       "      <td>0</td>\n",
       "      <td>0</td>\n",
       "      <td>0</td>\n",
       "      <td>0</td>\n",
       "      <td>0</td>\n",
       "      <td>0</td>\n",
       "      <td>0</td>\n",
       "      <td>1</td>\n",
       "    </tr>\n",
       "    <tr>\n",
       "      <th>39094</th>\n",
       "      <td>97739</td>\n",
       "      <td>-0.921749</td>\n",
       "      <td>-0.389945</td>\n",
       "      <td>0.601256</td>\n",
       "      <td>-0.136792</td>\n",
       "      <td>0.073304</td>\n",
       "      <td>-0.100745</td>\n",
       "      <td>0</td>\n",
       "      <td>1</td>\n",
       "      <td>0</td>\n",
       "      <td>...</td>\n",
       "      <td>0</td>\n",
       "      <td>0</td>\n",
       "      <td>0</td>\n",
       "      <td>0</td>\n",
       "      <td>0</td>\n",
       "      <td>0</td>\n",
       "      <td>0</td>\n",
       "      <td>0</td>\n",
       "      <td>0</td>\n",
       "      <td>1</td>\n",
       "    </tr>\n",
       "    <tr>\n",
       "      <th>39095</th>\n",
       "      <td>97740</td>\n",
       "      <td>3.895265</td>\n",
       "      <td>0.098482</td>\n",
       "      <td>-1.896802</td>\n",
       "      <td>1.049993</td>\n",
       "      <td>0.224164</td>\n",
       "      <td>0.989865</td>\n",
       "      <td>0</td>\n",
       "      <td>1</td>\n",
       "      <td>0</td>\n",
       "      <td>...</td>\n",
       "      <td>0</td>\n",
       "      <td>0</td>\n",
       "      <td>0</td>\n",
       "      <td>0</td>\n",
       "      <td>0</td>\n",
       "      <td>0</td>\n",
       "      <td>0</td>\n",
       "      <td>1</td>\n",
       "      <td>0</td>\n",
       "      <td>0</td>\n",
       "    </tr>\n",
       "    <tr>\n",
       "      <th>39096</th>\n",
       "      <td>97741</td>\n",
       "      <td>-0.921749</td>\n",
       "      <td>-1.019639</td>\n",
       "      <td>0.169311</td>\n",
       "      <td>0.942559</td>\n",
       "      <td>0.727502</td>\n",
       "      <td>2.516719</td>\n",
       "      <td>1</td>\n",
       "      <td>1</td>\n",
       "      <td>0</td>\n",
       "      <td>...</td>\n",
       "      <td>0</td>\n",
       "      <td>0</td>\n",
       "      <td>1</td>\n",
       "      <td>0</td>\n",
       "      <td>0</td>\n",
       "      <td>0</td>\n",
       "      <td>0</td>\n",
       "      <td>0</td>\n",
       "      <td>0</td>\n",
       "      <td>1</td>\n",
       "    </tr>\n",
       "    <tr>\n",
       "      <th>39097</th>\n",
       "      <td>97742</td>\n",
       "      <td>0.573187</td>\n",
       "      <td>-0.531211</td>\n",
       "      <td>0.601256</td>\n",
       "      <td>1.454542</td>\n",
       "      <td>0.414765</td>\n",
       "      <td>3.062024</td>\n",
       "      <td>0</td>\n",
       "      <td>0</td>\n",
       "      <td>0</td>\n",
       "      <td>...</td>\n",
       "      <td>1</td>\n",
       "      <td>0</td>\n",
       "      <td>0</td>\n",
       "      <td>0</td>\n",
       "      <td>0</td>\n",
       "      <td>0</td>\n",
       "      <td>0</td>\n",
       "      <td>0</td>\n",
       "      <td>1</td>\n",
       "      <td>0</td>\n",
       "    </tr>\n",
       "  </tbody>\n",
       "</table>\n",
       "<p>39098 rows × 29 columns</p>\n",
       "</div>"
      ],
      "text/plain": [
       "          id  person_age  person_income  person_emp_length  loan_amnt  \\\n",
       "0      58645   -0.755645       0.404401          -0.117149   1.845437   \n",
       "1      58646   -0.257333       1.127250           0.601256   0.418613   \n",
       "2      58647   -0.257333      -1.418713           0.403366  -1.008211   \n",
       "3      58648    0.905394      -0.300592           0.169311  -0.136792   \n",
       "4      58649   -0.257333       1.259949           0.923880   1.049993   \n",
       "...      ...         ...            ...                ...        ...   \n",
       "39093  97738   -0.921749      -1.332865          -0.486461  -1.456182   \n",
       "39094  97739   -0.921749      -0.389945           0.601256  -0.136792   \n",
       "39095  97740    3.895265       0.098482          -1.896802   1.049993   \n",
       "39096  97741   -0.921749      -1.019639           0.169311   0.942559   \n",
       "39097  97742    0.573187      -0.531211           0.601256   1.454542   \n",
       "\n",
       "       loan_int_rate  loan_percent_income  cb_person_default_on_file  \\\n",
       "0           0.733635             2.189536                          0   \n",
       "1           0.584177            -0.646050                          1   \n",
       "2           0.793331            -0.318867                          1   \n",
       "3           0.340882            -0.209806                          0   \n",
       "4           0.757634            -0.100745                          1   \n",
       "...              ...                  ...                        ...   \n",
       "39093       0.445950            -0.646050                          0   \n",
       "39094       0.073304            -0.100745                          0   \n",
       "39095       0.224164             0.989865                          0   \n",
       "39096       0.727502             2.516719                          1   \n",
       "39097       0.414765             3.062024                          0   \n",
       "\n",
       "       HOME_OWNERSHIP_MORTGAGE  HOME_OWNERSHIP_OTHER  ...  LOAN_GRADE_B  \\\n",
       "0                            0                     0  ...             0   \n",
       "1                            1                     0  ...             0   \n",
       "2                            0                     0  ...             0   \n",
       "3                            0                     0  ...             0   \n",
       "4                            1                     0  ...             0   \n",
       "...                        ...                   ...  ...           ...   \n",
       "39093                        1                     0  ...             1   \n",
       "39094                        1                     0  ...             0   \n",
       "39095                        1                     0  ...             0   \n",
       "39096                        1                     0  ...             0   \n",
       "39097                        0                     0  ...             1   \n",
       "\n",
       "       LOAN_GRADE_C  LOAN_GRADE_D  LOAN_GRADE_E  LOAN_GRADE_F  LOAN_GRADE_G  \\\n",
       "0                 0             0             0             1             0   \n",
       "1                 1             0             0             0             0   \n",
       "2                 0             0             1             0             0   \n",
       "3                 0             0             0             0             0   \n",
       "4                 0             1             0             0             0   \n",
       "...             ...           ...           ...           ...           ...   \n",
       "39093             0             0             0             0             0   \n",
       "39094             0             0             0             0             0   \n",
       "39095             0             0             0             0             0   \n",
       "39096             0             1             0             0             0   \n",
       "39097             0             0             0             0             0   \n",
       "\n",
       "       CB_PERSON_CRED_HIST_LENGTH_11_17  CB_PERSON_CRED_HIST_LENGTH_18_above  \\\n",
       "0                                     0                                    0   \n",
       "1                                     0                                    0   \n",
       "2                                     0                                    0   \n",
       "3                                     0                                    0   \n",
       "4                                     0                                    0   \n",
       "...                                 ...                                  ...   \n",
       "39093                                 0                                    0   \n",
       "39094                                 0                                    0   \n",
       "39095                                 0                                    1   \n",
       "39096                                 0                                    0   \n",
       "39097                                 0                                    0   \n",
       "\n",
       "       CB_PERSON_CRED_HIST_LENGTH_5_10  CB_PERSON_CRED_HIST_LENGTH_5_below  \n",
       "0                                    0                                   1  \n",
       "1                                    0                                   1  \n",
       "2                                    0                                   1  \n",
       "3                                    1                                   0  \n",
       "4                                    0                                   1  \n",
       "...                                ...                                 ...  \n",
       "39093                                0                                   1  \n",
       "39094                                0                                   1  \n",
       "39095                                0                                   0  \n",
       "39096                                0                                   1  \n",
       "39097                                1                                   0  \n",
       "\n",
       "[39098 rows x 29 columns]"
      ]
     },
     "execution_count": 110,
     "metadata": {},
     "output_type": "execute_result"
    }
   ],
   "source": [
    "cleaned_loans_test_df"
   ]
  },
  {
   "cell_type": "code",
   "execution_count": 112,
   "id": "e56a3ce8-e56a-4f6d-a7f8-487ec2883629",
   "metadata": {},
   "outputs": [],
   "source": [
    "cleaned_loans_train_df.to_csv('outputs/cleaned_loans_train.csv', index=False, header=True, encoding='utf-8')\n",
    "cleaned_loans_test_df.to_csv('outputs/cleaned_loans_test.csv', index=False, header=True, encoding='utf-8')"
   ]
  },
  {
   "cell_type": "code",
   "execution_count": null,
   "id": "3c06d5d4-5101-4343-935b-1a924cf51df9",
   "metadata": {},
   "outputs": [],
   "source": []
  }
 ],
 "metadata": {
  "kernelspec": {
   "display_name": "Python 3 (ipykernel)",
   "language": "python",
   "name": "python3"
  },
  "language_info": {
   "codemirror_mode": {
    "name": "ipython",
    "version": 3
   },
   "file_extension": ".py",
   "mimetype": "text/x-python",
   "name": "python",
   "nbconvert_exporter": "python",
   "pygments_lexer": "ipython3",
   "version": "3.11.7"
  }
 },
 "nbformat": 4,
 "nbformat_minor": 5
}
